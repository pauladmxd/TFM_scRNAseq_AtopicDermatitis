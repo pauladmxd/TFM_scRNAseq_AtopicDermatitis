{
 "cells": [
  {
   "cell_type": "markdown",
   "metadata": {
    "application/vnd.databricks.v1+cell": {
     "cellMetadata": {},
     "inputWidgets": {},
     "nuid": "a48a5c2e-b796-4c43-9c54-b5cbb633a905",
     "showTitle": false,
     "tableResultSettingsMap": {},
     "title": ""
    }
   },
   "source": [
    "#Find gene names of the pathways\n",
    "Which genes are the ones contributing to the enrichment of the pathways? I have entrez ids but not gene id."
   ]
  },
  {
   "cell_type": "code",
   "execution_count": 0,
   "metadata": {
    "application/vnd.databricks.v1+cell": {
     "cellMetadata": {
      "byteLimit": 2048000,
      "rowLimit": 10000
     },
     "inputWidgets": {},
     "nuid": "04824802-da65-4485-9932-f2c877142ec2",
     "showTitle": false,
     "tableResultSettingsMap": {},
     "title": ""
    }
   },
   "outputs": [],
   "source": [
    "%sh\n",
    "apt-get -y install libglpk-dev #Correct igraph - Need t load before, compatible for 14.3 LTS"
   ]
  },
  {
   "cell_type": "code",
   "execution_count": 0,
   "metadata": {
    "application/vnd.databricks.v1+cell": {
     "cellMetadata": {
      "byteLimit": 2048000,
      "rowLimit": 10000
     },
     "inputWidgets": {},
     "nuid": "4c636d0f-9cba-4f0a-a1c7-e143f0ac7ff8",
     "showTitle": false,
     "tableResultSettingsMap": {},
     "title": ""
    }
   },
   "outputs": [],
   "source": [
    "# Load libraries\n",
    "## Append the library folder\n",
    ".libPaths(c(\"/dbfs/home/boriol@almirall.com/my_r_packages/bulkRNASeq_PBMCs_R4.3\", .libPaths()))\n",
    "\n",
    "# Load libraries\n",
    "library(clusterProfiler)\n",
    "library(ReactomePA) \n",
    "library(msigdbr)\n",
    "library(DOSE)\n",
    "library(tidyverse)\n",
    "library(org.Hs.eg.db)\n",
    "library(biomaRt)\n",
    "\n",
    ".libPaths(c(\"/dbfs/home/jtrincado@almirall.com/my_r_packages/Seurat\", .libPaths()))\n",
    "library(openxlsx)\n",
    "library(enrichplot)\n",
    "library(ggplot2)"
   ]
  },
  {
   "cell_type": "markdown",
   "metadata": {
    "application/vnd.databricks.v1+cell": {
     "cellMetadata": {},
     "inputWidgets": {},
     "nuid": "e1fb2647-4791-4949-b776-1345280862fd",
     "showTitle": false,
     "tableResultSettingsMap": {},
     "title": ""
    }
   },
   "source": [
    "##KC"
   ]
  },
  {
   "cell_type": "code",
   "execution_count": 0,
   "metadata": {
    "application/vnd.databricks.v1+cell": {
     "cellMetadata": {
      "byteLimit": 2048000,
      "rowLimit": 10000
     },
     "inputWidgets": {},
     "nuid": "2949600d-1077-4223-9d7f-2f2717baf005",
     "showTitle": false,
     "tableResultSettingsMap": {},
     "title": ""
    }
   },
   "outputs": [],
   "source": [
    "kc_reactome <- read.xlsx(\"/dbfs/mnt/sandbox/TFM_PAULA/merged_AR_results/GSEA/res_kc_0.05_AR.xlsx\", sheet = 2)"
   ]
  },
  {
   "cell_type": "code",
   "execution_count": 0,
   "metadata": {
    "application/vnd.databricks.v1+cell": {
     "cellMetadata": {
      "byteLimit": 2048000,
      "rowLimit": 10000
     },
     "inputWidgets": {},
     "nuid": "c8715378-25d4-4be3-b984-b2bb8482f1fd",
     "showTitle": false,
     "tableResultSettingsMap": {},
     "title": ""
    }
   },
   "outputs": [],
   "source": [
    "kc_degs <- read.xlsx(\"/dbfs/mnt/sandbox/TFM_PAULA/merged_AR_results/adjusting_cov_dataset_DEGs/bulk.kc.de.cov.xlsx\")"
   ]
  },
  {
   "cell_type": "code",
   "execution_count": 0,
   "metadata": {
    "application/vnd.databricks.v1+cell": {
     "cellMetadata": {
      "byteLimit": 2048000,
      "rowLimit": 10000
     },
     "inputWidgets": {},
     "nuid": "26106494-b5bd-4fb8-a203-4e1f81343c7e",
     "showTitle": false,
     "tableResultSettingsMap": {},
     "title": ""
    }
   },
   "outputs": [],
   "source": [
    "dim(kc_degs)"
   ]
  },
  {
   "cell_type": "code",
   "execution_count": 0,
   "metadata": {
    "application/vnd.databricks.v1+cell": {
     "cellMetadata": {
      "byteLimit": 2048000,
      "rowLimit": 10000
     },
     "inputWidgets": {},
     "nuid": "ea5cabd9-0758-4d01-9df6-cfa8b3b471da",
     "showTitle": false,
     "tableResultSettingsMap": {},
     "title": ""
    }
   },
   "outputs": [],
   "source": [
    "kc_degs_filtered <- kc_degs %>%\n",
    "  filter(padj < 0.05 & abs(log2FoldChange) > 1)"
   ]
  },
  {
   "cell_type": "code",
   "execution_count": 0,
   "metadata": {
    "application/vnd.databricks.v1+cell": {
     "cellMetadata": {
      "byteLimit": 2048000,
      "rowLimit": 10000
     },
     "inputWidgets": {},
     "nuid": "c7e73f6d-8786-4c8c-8d40-40be6ca1934d",
     "showTitle": false,
     "tableResultSettingsMap": {},
     "title": ""
    }
   },
   "outputs": [],
   "source": [
    "display(kc_degs_filtered)"
   ]
  },
  {
   "cell_type": "code",
   "execution_count": 0,
   "metadata": {
    "application/vnd.databricks.v1+cell": {
     "cellMetadata": {
      "byteLimit": 2048000,
      "rowLimit": 10000
     },
     "inputWidgets": {},
     "nuid": "ec1217b1-a1ef-4522-bc34-387d26cf6b86",
     "showTitle": false,
     "tableResultSettingsMap": {},
     "title": ""
    }
   },
   "outputs": [],
   "source": [
    "dim(kc_degs_filtered)"
   ]
  },
  {
   "cell_type": "code",
   "execution_count": 0,
   "metadata": {
    "application/vnd.databricks.v1+cell": {
     "cellMetadata": {
      "byteLimit": 2048000,
      "rowLimit": 10000
     },
     "inputWidgets": {},
     "nuid": "67b9381b-a2d0-47e9-b089-bd328c3133e3",
     "showTitle": false,
     "tableResultSettingsMap": {},
     "title": ""
    }
   },
   "outputs": [],
   "source": [
    "kc_reactome$core_enrichment"
   ]
  },
  {
   "cell_type": "code",
   "execution_count": 0,
   "metadata": {
    "application/vnd.databricks.v1+cell": {
     "cellMetadata": {
      "byteLimit": 2048000,
      "rowLimit": 10000
     },
     "inputWidgets": {},
     "nuid": "c53f63e6-24a7-44b4-b4dc-79f1197bc704",
     "showTitle": false,
     "tableResultSettingsMap": {},
     "title": ""
    }
   },
   "outputs": [],
   "source": [
    "library(dplyr)\n",
    "\n",
    "kc_reactome <- kc_reactome %>%\n",
    "  rowwise() %>%\n",
    "  mutate(core_gene_id = paste(mapIds(org.Hs.eg.db,\n",
    "                                    keys = unlist(strsplit(core_enrichment, \"/\")),\n",
    "                                    keytype = \"ENTREZID\",\n",
    "                                    column = \"SYMBOL\"),\n",
    "                             collapse = \"/\"))"
   ]
  },
  {
   "cell_type": "code",
   "execution_count": 0,
   "metadata": {
    "application/vnd.databricks.v1+cell": {
     "cellMetadata": {
      "byteLimit": 2048000,
      "rowLimit": 10000
     },
     "inputWidgets": {},
     "nuid": "2064fb2e-74fd-42d6-89d9-68ba15df5575",
     "showTitle": false,
     "tableResultSettingsMap": {},
     "title": ""
    }
   },
   "outputs": [],
   "source": [
    "kc_reactome$core_gene_id"
   ]
  },
  {
   "cell_type": "code",
   "execution_count": 0,
   "metadata": {
    "application/vnd.databricks.v1+cell": {
     "cellMetadata": {
      "byteLimit": 2048000,
      "rowLimit": 10000
     },
     "inputWidgets": {},
     "nuid": "12c3df8b-8794-4239-b3db-26451c0a5328",
     "showTitle": false,
     "tableResultSettingsMap": {},
     "title": ""
    }
   },
   "outputs": [],
   "source": [
    "kc_reactome <- kc_reactome %>%\n",
    "  rowwise() %>%\n",
    "  mutate(core_degs = paste(intersect(unlist(strsplit(core_gene_id, \"/\")), kc_degs_filtered$gene), collapse = \"/\"))"
   ]
  },
  {
   "cell_type": "code",
   "execution_count": 0,
   "metadata": {
    "application/vnd.databricks.v1+cell": {
     "cellMetadata": {
      "byteLimit": 2048000,
      "rowLimit": 10000
     },
     "inputWidgets": {},
     "nuid": "a1876aae-60ac-443d-98c5-b3fb8655c8a4",
     "showTitle": false,
     "tableResultSettingsMap": {},
     "title": ""
    }
   },
   "outputs": [],
   "source": [
    "kc_reactome$core_degs"
   ]
  },
  {
   "cell_type": "code",
   "execution_count": 0,
   "metadata": {
    "application/vnd.databricks.v1+cell": {
     "cellMetadata": {
      "byteLimit": 2048000,
      "rowLimit": 10000
     },
     "inputWidgets": {},
     "nuid": "b75f319b-9814-4aa9-b7d9-602a140b00a0",
     "showTitle": false,
     "tableResultSettingsMap": {},
     "title": ""
    }
   },
   "outputs": [],
   "source": []
  },
  {
   "cell_type": "markdown",
   "metadata": {
    "application/vnd.databricks.v1+cell": {
     "cellMetadata": {},
     "inputWidgets": {},
     "nuid": "5c32d04e-d6c8-4321-9ee0-5e57ffa818d8",
     "showTitle": false,
     "tableResultSettingsMap": {},
     "title": ""
    }
   },
   "source": [
    "##Tcell"
   ]
  },
  {
   "cell_type": "code",
   "execution_count": 0,
   "metadata": {
    "application/vnd.databricks.v1+cell": {
     "cellMetadata": {
      "byteLimit": 2048000,
      "rowLimit": 10000
     },
     "inputWidgets": {},
     "nuid": "0e878f3b-8fce-48c8-8a84-0126dd0ed39b",
     "showTitle": false,
     "tableResultSettingsMap": {},
     "title": ""
    }
   },
   "outputs": [],
   "source": [
    "tcell_reactome <- read.xlsx(\"/dbfs/mnt/sandbox/TFM_PAULA/merged_AR_results/GSEA/res_tcell_0.05_AR_.xlsx\", sheet = 2)"
   ]
  },
  {
   "cell_type": "code",
   "execution_count": 0,
   "metadata": {
    "application/vnd.databricks.v1+cell": {
     "cellMetadata": {
      "byteLimit": 2048000,
      "rowLimit": 10000
     },
     "inputWidgets": {},
     "nuid": "c2e40812-2b5e-4d74-b0c0-1cc40667d480",
     "showTitle": false,
     "tableResultSettingsMap": {},
     "title": ""
    }
   },
   "outputs": [],
   "source": [
    "tcell_degs <- read.xlsx(\"/dbfs/mnt/sandbox/TFM_PAULA/merged_AR_results/adjusting_cov_dataset_DEGs/bulk.tcell.de.cov.xlsx\")"
   ]
  },
  {
   "cell_type": "code",
   "execution_count": 0,
   "metadata": {
    "application/vnd.databricks.v1+cell": {
     "cellMetadata": {
      "byteLimit": 2048000,
      "rowLimit": 10000
     },
     "inputWidgets": {},
     "nuid": "d1be0444-cb70-41c3-8ff7-61bb85ba7494",
     "showTitle": false,
     "tableResultSettingsMap": {},
     "title": ""
    }
   },
   "outputs": [],
   "source": [
    "tcell_degs_filtered <- tcell_degs %>%\n",
    "  filter(padj < 0.05 & abs(log2FoldChange) > 1)"
   ]
  },
  {
   "cell_type": "code",
   "execution_count": 0,
   "metadata": {
    "application/vnd.databricks.v1+cell": {
     "cellMetadata": {
      "byteLimit": 2048000,
      "rowLimit": 10000
     },
     "inputWidgets": {},
     "nuid": "d3c70feb-89d7-42c6-af41-7fbb83a25eb4",
     "showTitle": false,
     "tableResultSettingsMap": {},
     "title": ""
    }
   },
   "outputs": [],
   "source": [
    "display(tcell_degs_filtered)"
   ]
  },
  {
   "cell_type": "code",
   "execution_count": 0,
   "metadata": {
    "application/vnd.databricks.v1+cell": {
     "cellMetadata": {
      "byteLimit": 2048000,
      "rowLimit": 10000
     },
     "inputWidgets": {},
     "nuid": "c9f9cc7f-4e1c-48e6-babf-7f0ce88991ce",
     "showTitle": false,
     "tableResultSettingsMap": {},
     "title": ""
    }
   },
   "outputs": [],
   "source": [
    "dim(tcell_degs_filtered)"
   ]
  },
  {
   "cell_type": "code",
   "execution_count": 0,
   "metadata": {
    "application/vnd.databricks.v1+cell": {
     "cellMetadata": {
      "byteLimit": 2048000,
      "rowLimit": 10000
     },
     "inputWidgets": {},
     "nuid": "0b2aa8e9-c216-4664-a982-0effef5de169",
     "showTitle": false,
     "tableResultSettingsMap": {},
     "title": ""
    }
   },
   "outputs": [],
   "source": [
    "tcell_reactome$core_enrichment"
   ]
  },
  {
   "cell_type": "code",
   "execution_count": 0,
   "metadata": {
    "application/vnd.databricks.v1+cell": {
     "cellMetadata": {
      "byteLimit": 2048000,
      "rowLimit": 10000
     },
     "inputWidgets": {},
     "nuid": "7b5a8994-0f81-40a8-89b3-023ba069b65e",
     "showTitle": false,
     "tableResultSettingsMap": {},
     "title": ""
    }
   },
   "outputs": [],
   "source": [
    "library(dplyr)\n",
    "\n",
    "tcell_reactome <- tcell_reactome %>%\n",
    "  rowwise() %>%\n",
    "  mutate(core_gene_id = paste(mapIds(org.Hs.eg.db,\n",
    "                                    keys = unlist(strsplit(core_enrichment, \"/\")),\n",
    "                                    keytype = \"ENTREZID\",\n",
    "                                    column = \"SYMBOL\"),\n",
    "                             collapse = \"/\"))"
   ]
  },
  {
   "cell_type": "code",
   "execution_count": 0,
   "metadata": {
    "application/vnd.databricks.v1+cell": {
     "cellMetadata": {
      "byteLimit": 2048000,
      "rowLimit": 10000
     },
     "inputWidgets": {},
     "nuid": "2f8ad435-3080-4251-b7e2-c9fec44a3a5a",
     "showTitle": false,
     "tableResultSettingsMap": {},
     "title": ""
    }
   },
   "outputs": [],
   "source": [
    "tcell_reactome$core_gene_id"
   ]
  },
  {
   "cell_type": "code",
   "execution_count": 0,
   "metadata": {
    "application/vnd.databricks.v1+cell": {
     "cellMetadata": {
      "byteLimit": 2048000,
      "rowLimit": 10000
     },
     "inputWidgets": {},
     "nuid": "d41c26a0-2080-46dd-a60d-280538a45e54",
     "showTitle": false,
     "tableResultSettingsMap": {},
     "title": ""
    }
   },
   "outputs": [],
   "source": [
    "tcell_reactome <- tcell_reactome %>%\n",
    "  rowwise() %>%\n",
    "  mutate(core_degs = paste(intersect(unlist(strsplit(core_gene_id, \"/\")), tcell_degs_filtered$gene), collapse = \"/\"))"
   ]
  },
  {
   "cell_type": "code",
   "execution_count": 0,
   "metadata": {
    "application/vnd.databricks.v1+cell": {
     "cellMetadata": {
      "byteLimit": 2048000,
      "rowLimit": 10000
     },
     "inputWidgets": {},
     "nuid": "e269f4da-3b70-47fd-a7a5-3e4de3ee5202",
     "showTitle": false,
     "tableResultSettingsMap": {},
     "title": ""
    }
   },
   "outputs": [],
   "source": [
    "tcell_reactome$core_degs"
   ]
  },
  {
   "cell_type": "markdown",
   "metadata": {
    "application/vnd.databricks.v1+cell": {
     "cellMetadata": {},
     "inputWidgets": {},
     "nuid": "2c994e4b-272f-428b-8a03-8ed6577cd3e5",
     "showTitle": false,
     "tableResultSettingsMap": {},
     "title": ""
    }
   },
   "source": [
    "##FB"
   ]
  },
  {
   "cell_type": "code",
   "execution_count": 0,
   "metadata": {
    "application/vnd.databricks.v1+cell": {
     "cellMetadata": {
      "byteLimit": 2048000,
      "rowLimit": 10000
     },
     "inputWidgets": {},
     "nuid": "ae9dace1-9422-4058-a757-56bd6045b013",
     "showTitle": false,
     "tableResultSettingsMap": {},
     "title": ""
    }
   },
   "outputs": [],
   "source": [
    "fb_reactome <- read.xlsx(\"/dbfs/mnt/sandbox/TFM_PAULA/merged_AR_results/GSEA/res_fb_0.05_AR.xlsx\", sheet = 2)"
   ]
  },
  {
   "cell_type": "code",
   "execution_count": 0,
   "metadata": {
    "application/vnd.databricks.v1+cell": {
     "cellMetadata": {
      "byteLimit": 2048000,
      "rowLimit": 10000
     },
     "inputWidgets": {},
     "nuid": "8d160fe0-d9c5-4d76-b0cd-4c43b6789445",
     "showTitle": false,
     "tableResultSettingsMap": {},
     "title": ""
    }
   },
   "outputs": [],
   "source": [
    "fb_degs <- read.xlsx(\"/dbfs/mnt/sandbox/TFM_PAULA/merged_AR_results/adjusting_cov_dataset_DEGs/bulk.fb.de.cov.xlsx\")"
   ]
  },
  {
   "cell_type": "code",
   "execution_count": 0,
   "metadata": {
    "application/vnd.databricks.v1+cell": {
     "cellMetadata": {
      "byteLimit": 2048000,
      "rowLimit": 10000
     },
     "inputWidgets": {},
     "nuid": "e2ade0ce-ae9e-4ac5-8120-8757b92b9a94",
     "showTitle": false,
     "tableResultSettingsMap": {},
     "title": ""
    }
   },
   "outputs": [],
   "source": [
    "dim(fb_degs)"
   ]
  },
  {
   "cell_type": "code",
   "execution_count": 0,
   "metadata": {
    "application/vnd.databricks.v1+cell": {
     "cellMetadata": {
      "byteLimit": 2048000,
      "rowLimit": 10000
     },
     "inputWidgets": {},
     "nuid": "daaebfb2-b9be-4991-a4e2-4fd7e4dc640b",
     "showTitle": false,
     "tableResultSettingsMap": {},
     "title": ""
    }
   },
   "outputs": [],
   "source": [
    "fb_degs_filtered <- fb_degs %>%\n",
    "  filter(padj < 0.05 & abs(log2FoldChange) > 1)"
   ]
  },
  {
   "cell_type": "code",
   "execution_count": 0,
   "metadata": {
    "application/vnd.databricks.v1+cell": {
     "cellMetadata": {
      "byteLimit": 2048000,
      "rowLimit": 10000
     },
     "inputWidgets": {},
     "nuid": "5d586db6-4784-432e-a310-5e20278cc5ab",
     "showTitle": false,
     "tableResultSettingsMap": {},
     "title": ""
    }
   },
   "outputs": [],
   "source": [
    "display(fb_degs_filtered)"
   ]
  },
  {
   "cell_type": "code",
   "execution_count": 0,
   "metadata": {
    "application/vnd.databricks.v1+cell": {
     "cellMetadata": {
      "byteLimit": 2048000,
      "rowLimit": 10000
     },
     "inputWidgets": {},
     "nuid": "bffea373-c783-4e67-b496-a8968439ecad",
     "showTitle": false,
     "tableResultSettingsMap": {},
     "title": ""
    }
   },
   "outputs": [],
   "source": [
    "dim(fb_degs_filtered)"
   ]
  },
  {
   "cell_type": "code",
   "execution_count": 0,
   "metadata": {
    "application/vnd.databricks.v1+cell": {
     "cellMetadata": {
      "byteLimit": 2048000,
      "rowLimit": 10000
     },
     "inputWidgets": {},
     "nuid": "890ca055-093b-4e6f-abd3-295d01e8cba5",
     "showTitle": false,
     "tableResultSettingsMap": {},
     "title": ""
    }
   },
   "outputs": [],
   "source": [
    "fb_reactome$core_enrichment"
   ]
  },
  {
   "cell_type": "code",
   "execution_count": 0,
   "metadata": {
    "application/vnd.databricks.v1+cell": {
     "cellMetadata": {
      "byteLimit": 2048000,
      "rowLimit": 10000
     },
     "inputWidgets": {},
     "nuid": "05570b31-46ab-4454-bd30-eed653265d5e",
     "showTitle": false,
     "tableResultSettingsMap": {},
     "title": ""
    }
   },
   "outputs": [],
   "source": [
    "library(dplyr)\n",
    "\n",
    "fb_reactome <- fb_reactome %>%\n",
    "  rowwise() %>%\n",
    "  mutate(core_gene_id = paste(mapIds(org.Hs.eg.db,\n",
    "                                    keys = unlist(strsplit(core_enrichment, \"/\")),\n",
    "                                    keytype = \"ENTREZID\",\n",
    "                                    column = \"SYMBOL\"),\n",
    "                             collapse = \"/\"))"
   ]
  },
  {
   "cell_type": "code",
   "execution_count": 0,
   "metadata": {
    "application/vnd.databricks.v1+cell": {
     "cellMetadata": {
      "byteLimit": 2048000,
      "rowLimit": 10000
     },
     "inputWidgets": {},
     "nuid": "ba771a1a-b850-4479-9eeb-6ffdf45022b6",
     "showTitle": false,
     "tableResultSettingsMap": {},
     "title": ""
    }
   },
   "outputs": [],
   "source": [
    "fb_reactome$core_gene_id"
   ]
  },
  {
   "cell_type": "code",
   "execution_count": 0,
   "metadata": {
    "application/vnd.databricks.v1+cell": {
     "cellMetadata": {
      "byteLimit": 2048000,
      "rowLimit": 10000
     },
     "inputWidgets": {},
     "nuid": "0cc22ec7-e64a-403c-8dfd-40dcbc6a5867",
     "showTitle": false,
     "tableResultSettingsMap": {},
     "title": ""
    }
   },
   "outputs": [],
   "source": [
    "fb_reactome <- fb_reactome %>%\n",
    "  rowwise() %>%\n",
    "  mutate(core_degs = paste(intersect(unlist(strsplit(core_gene_id, \"/\")), fb_degs_filtered$gene), collapse = \"/\"))"
   ]
  },
  {
   "cell_type": "code",
   "execution_count": 0,
   "metadata": {
    "application/vnd.databricks.v1+cell": {
     "cellMetadata": {
      "byteLimit": 2048000,
      "rowLimit": 10000
     },
     "inputWidgets": {},
     "nuid": "982da9e0-05a4-41c8-af09-82a1a1eaff4d",
     "showTitle": false,
     "tableResultSettingsMap": {},
     "title": ""
    }
   },
   "outputs": [],
   "source": [
    "fb_reactome$core_degs"
   ]
  },
  {
   "cell_type": "markdown",
   "metadata": {
    "application/vnd.databricks.v1+cell": {
     "cellMetadata": {},
     "inputWidgets": {},
     "nuid": "321f57ec-86fd-42f6-858a-c4bd3e79abd9",
     "showTitle": false,
     "tableResultSettingsMap": {},
     "title": ""
    }
   },
   "source": [
    "##Treg"
   ]
  },
  {
   "cell_type": "code",
   "execution_count": 0,
   "metadata": {
    "application/vnd.databricks.v1+cell": {
     "cellMetadata": {
      "byteLimit": 2048000,
      "rowLimit": 10000
     },
     "inputWidgets": {},
     "nuid": "6ea01233-89fe-4f2d-b925-a28185909446",
     "showTitle": false,
     "tableResultSettingsMap": {},
     "title": ""
    }
   },
   "outputs": [],
   "source": [
    "treg_reactome <- read.xlsx(\"/dbfs/mnt/sandbox/TFM_PAULA/merged_AR_results/GSEA/res_treg_0.05_AR.xlsx\", sheet = 2)"
   ]
  },
  {
   "cell_type": "code",
   "execution_count": 0,
   "metadata": {
    "application/vnd.databricks.v1+cell": {
     "cellMetadata": {
      "byteLimit": 2048000,
      "rowLimit": 10000
     },
     "inputWidgets": {},
     "nuid": "e994bcf9-9e19-4512-b123-574ce4a1419c",
     "showTitle": false,
     "tableResultSettingsMap": {},
     "title": ""
    }
   },
   "outputs": [],
   "source": [
    "treg_degs <- read.xlsx(\"/dbfs/mnt/sandbox/TFM_PAULA/merged_AR_results/adjusting_cov_dataset_DEGs/bulk.treg.de.cov.xlsx\")"
   ]
  },
  {
   "cell_type": "code",
   "execution_count": 0,
   "metadata": {
    "application/vnd.databricks.v1+cell": {
     "cellMetadata": {
      "byteLimit": 2048000,
      "rowLimit": 10000
     },
     "inputWidgets": {},
     "nuid": "aa811876-f996-4aa9-9111-81a566f62823",
     "showTitle": false,
     "tableResultSettingsMap": {},
     "title": ""
    }
   },
   "outputs": [],
   "source": [
    "dim(treg_degs)"
   ]
  },
  {
   "cell_type": "code",
   "execution_count": 0,
   "metadata": {
    "application/vnd.databricks.v1+cell": {
     "cellMetadata": {
      "byteLimit": 2048000,
      "rowLimit": 10000
     },
     "inputWidgets": {},
     "nuid": "10f6b4e1-859a-4fc0-a474-69ccdfcba16e",
     "showTitle": false,
     "tableResultSettingsMap": {},
     "title": ""
    }
   },
   "outputs": [],
   "source": [
    "display(treg_degs)"
   ]
  },
  {
   "cell_type": "code",
   "execution_count": 0,
   "metadata": {
    "application/vnd.databricks.v1+cell": {
     "cellMetadata": {
      "byteLimit": 2048000,
      "rowLimit": 10000
     },
     "inputWidgets": {},
     "nuid": "a8e30351-ecd2-4768-944f-122ac10fcaa8",
     "showTitle": false,
     "tableResultSettingsMap": {},
     "title": ""
    }
   },
   "outputs": [],
   "source": [
    "treg_degs[treg_degs$gene == \"PSMA6\",]"
   ]
  },
  {
   "cell_type": "code",
   "execution_count": 0,
   "metadata": {
    "application/vnd.databricks.v1+cell": {
     "cellMetadata": {
      "byteLimit": 2048000,
      "rowLimit": 10000
     },
     "inputWidgets": {},
     "nuid": "ac14e9d8-7f99-48e1-90bf-d267a4dc21f1",
     "showTitle": false,
     "tableResultSettingsMap": {},
     "title": ""
    }
   },
   "outputs": [],
   "source": [
    "treg_degs_filtered <- treg_degs %>%\n",
    "  filter(padj < 0.05 & abs(log2FoldChange) > 1)"
   ]
  },
  {
   "cell_type": "code",
   "execution_count": 0,
   "metadata": {
    "application/vnd.databricks.v1+cell": {
     "cellMetadata": {
      "byteLimit": 2048000,
      "rowLimit": 10000
     },
     "inputWidgets": {},
     "nuid": "11dd8ccc-fc1b-4b9f-a612-97a266f5b38a",
     "showTitle": false,
     "tableResultSettingsMap": {},
     "title": ""
    }
   },
   "outputs": [],
   "source": [
    "display(treg_degs_filtered)"
   ]
  },
  {
   "cell_type": "code",
   "execution_count": 0,
   "metadata": {
    "application/vnd.databricks.v1+cell": {
     "cellMetadata": {
      "byteLimit": 2048000,
      "rowLimit": 10000
     },
     "inputWidgets": {},
     "nuid": "23dec478-f8a1-4e1d-8e50-09e4a3bae211",
     "showTitle": false,
     "tableResultSettingsMap": {},
     "title": ""
    }
   },
   "outputs": [],
   "source": [
    "dim(treg_degs_filtered)"
   ]
  },
  {
   "cell_type": "code",
   "execution_count": 0,
   "metadata": {
    "application/vnd.databricks.v1+cell": {
     "cellMetadata": {
      "byteLimit": 2048000,
      "rowLimit": 10000
     },
     "inputWidgets": {},
     "nuid": "f4e33c6f-52fa-440e-9c0b-a30b02cc998e",
     "showTitle": false,
     "tableResultSettingsMap": {},
     "title": ""
    }
   },
   "outputs": [],
   "source": [
    "treg_reactome$core_enrichment"
   ]
  },
  {
   "cell_type": "code",
   "execution_count": 0,
   "metadata": {
    "application/vnd.databricks.v1+cell": {
     "cellMetadata": {
      "byteLimit": 2048000,
      "rowLimit": 10000
     },
     "inputWidgets": {},
     "nuid": "91c66c41-90b1-4c04-a4f2-10b47654f46b",
     "showTitle": false,
     "tableResultSettingsMap": {},
     "title": ""
    }
   },
   "outputs": [],
   "source": [
    "library(dplyr)\n",
    "\n",
    "treg_reactome <- treg_reactome %>%\n",
    "  rowwise() %>%\n",
    "  mutate(core_gene_id = paste(mapIds(org.Hs.eg.db,\n",
    "                                    keys = unlist(strsplit(core_enrichment, \"/\")),\n",
    "                                    keytype = \"ENTREZID\",\n",
    "                                    column = \"SYMBOL\"),\n",
    "                             collapse = \"/\"))"
   ]
  },
  {
   "cell_type": "code",
   "execution_count": 0,
   "metadata": {
    "application/vnd.databricks.v1+cell": {
     "cellMetadata": {
      "byteLimit": 2048000,
      "rowLimit": 10000
     },
     "inputWidgets": {},
     "nuid": "edf5e850-0e22-466e-9482-228c2aaaa1d8",
     "showTitle": false,
     "tableResultSettingsMap": {},
     "title": ""
    }
   },
   "outputs": [],
   "source": [
    "treg_reactome$core_gene_id"
   ]
  },
  {
   "cell_type": "code",
   "execution_count": 0,
   "metadata": {
    "application/vnd.databricks.v1+cell": {
     "cellMetadata": {
      "byteLimit": 2048000,
      "rowLimit": 10000
     },
     "inputWidgets": {},
     "nuid": "a9b61df3-cd24-4d59-9a25-01a90a407430",
     "showTitle": false,
     "tableResultSettingsMap": {},
     "title": ""
    }
   },
   "outputs": [],
   "source": [
    "treg_reactome <- treg_reactome %>%\n",
    "  rowwise() %>%\n",
    "  mutate(core_degs = paste(intersect(unlist(strsplit(core_gene_id, \"/\")), treg_degs_filtered$gene), collapse = \"/\"))"
   ]
  },
  {
   "cell_type": "code",
   "execution_count": 0,
   "metadata": {
    "application/vnd.databricks.v1+cell": {
     "cellMetadata": {
      "byteLimit": 2048000,
      "rowLimit": 10000
     },
     "inputWidgets": {},
     "nuid": "4b2e2c24-8f96-4361-ba2a-8ff1510eadc4",
     "showTitle": false,
     "tableResultSettingsMap": {},
     "title": ""
    }
   },
   "outputs": [],
   "source": [
    "treg_reactome$core_degs"
   ]
  },
  {
   "cell_type": "markdown",
   "metadata": {
    "application/vnd.databricks.v1+cell": {
     "cellMetadata": {},
     "inputWidgets": {},
     "nuid": "e2ec40e8-c172-410d-a076-1d4149d76f2d",
     "showTitle": false,
     "tableResultSettingsMap": {},
     "title": ""
    }
   },
   "source": [
    "##Macro"
   ]
  },
  {
   "cell_type": "code",
   "execution_count": 0,
   "metadata": {
    "application/vnd.databricks.v1+cell": {
     "cellMetadata": {
      "byteLimit": 2048000,
      "rowLimit": 10000
     },
     "inputWidgets": {},
     "nuid": "3a514484-e764-4c9b-8115-342daa7effe8",
     "showTitle": false,
     "tableResultSettingsMap": {},
     "title": ""
    }
   },
   "outputs": [],
   "source": [
    "macro_reactome <- read.xlsx(\"/dbfs/mnt/sandbox/TFM_PAULA/merged_AR_results/GSEA/res_macro_0.05_AR.xlsx\", sheet = 2)"
   ]
  },
  {
   "cell_type": "code",
   "execution_count": 0,
   "metadata": {
    "application/vnd.databricks.v1+cell": {
     "cellMetadata": {
      "byteLimit": 2048000,
      "rowLimit": 10000
     },
     "inputWidgets": {},
     "nuid": "7936ebb7-f29f-44a8-b9bb-8b68cd04616d",
     "showTitle": false,
     "tableResultSettingsMap": {},
     "title": ""
    }
   },
   "outputs": [],
   "source": [
    "macro_degs <- read.xlsx(\"/dbfs/mnt/sandbox/TFM_PAULA/merged_AR_results/adjusting_cov_dataset_DEGs/bulk.macro.de.cov.xlsx\")"
   ]
  },
  {
   "cell_type": "code",
   "execution_count": 0,
   "metadata": {
    "application/vnd.databricks.v1+cell": {
     "cellMetadata": {
      "byteLimit": 2048000,
      "rowLimit": 10000
     },
     "inputWidgets": {},
     "nuid": "1d4001d3-9cd8-46d0-97c3-f1cdd0a49e42",
     "showTitle": false,
     "tableResultSettingsMap": {},
     "title": ""
    }
   },
   "outputs": [],
   "source": [
    "dim(macro_degs)"
   ]
  },
  {
   "cell_type": "code",
   "execution_count": 0,
   "metadata": {
    "application/vnd.databricks.v1+cell": {
     "cellMetadata": {
      "byteLimit": 2048000,
      "rowLimit": 10000
     },
     "inputWidgets": {},
     "nuid": "f088a302-ec26-4cdd-bd2c-a6823aaccc10",
     "showTitle": false,
     "tableResultSettingsMap": {},
     "title": ""
    }
   },
   "outputs": [],
   "source": [
    "macro_degs_filtered <- macro_degs %>%\n",
    "  filter(padj < 0.05 & abs(log2FoldChange) > 1)"
   ]
  },
  {
   "cell_type": "code",
   "execution_count": 0,
   "metadata": {
    "application/vnd.databricks.v1+cell": {
     "cellMetadata": {
      "byteLimit": 2048000,
      "rowLimit": 10000
     },
     "inputWidgets": {},
     "nuid": "62518f88-700e-48e9-91c2-ed691d24db25",
     "showTitle": false,
     "tableResultSettingsMap": {},
     "title": ""
    }
   },
   "outputs": [],
   "source": [
    "display(macro_degs_filtered)"
   ]
  },
  {
   "cell_type": "code",
   "execution_count": 0,
   "metadata": {
    "application/vnd.databricks.v1+cell": {
     "cellMetadata": {
      "byteLimit": 2048000,
      "rowLimit": 10000
     },
     "inputWidgets": {},
     "nuid": "067f45b0-2a3d-4f7f-b861-82098e565fa8",
     "showTitle": false,
     "tableResultSettingsMap": {},
     "title": ""
    }
   },
   "outputs": [],
   "source": [
    "dim(macro_degs_filtered)"
   ]
  },
  {
   "cell_type": "code",
   "execution_count": 0,
   "metadata": {
    "application/vnd.databricks.v1+cell": {
     "cellMetadata": {
      "byteLimit": 2048000,
      "rowLimit": 10000
     },
     "inputWidgets": {},
     "nuid": "48831bfd-c3f2-4ff4-941e-b5aecd4cad98",
     "showTitle": false,
     "tableResultSettingsMap": {},
     "title": ""
    }
   },
   "outputs": [],
   "source": [
    "macro_reactome$core_enrichment"
   ]
  },
  {
   "cell_type": "code",
   "execution_count": 0,
   "metadata": {
    "application/vnd.databricks.v1+cell": {
     "cellMetadata": {
      "byteLimit": 2048000,
      "rowLimit": 10000
     },
     "inputWidgets": {},
     "nuid": "5701ad6e-a622-4c60-be8d-585c74f655b3",
     "showTitle": false,
     "tableResultSettingsMap": {},
     "title": ""
    }
   },
   "outputs": [],
   "source": [
    "library(dplyr)\n",
    "\n",
    "macro_reactome <- macro_reactome %>%\n",
    "  rowwise() %>%\n",
    "  mutate(core_gene_id = paste(mapIds(org.Hs.eg.db,\n",
    "                                    keys = unlist(strsplit(core_enrichment, \"/\")),\n",
    "                                    keytype = \"ENTREZID\",\n",
    "                                    column = \"SYMBOL\"),\n",
    "                             collapse = \"/\"))"
   ]
  },
  {
   "cell_type": "code",
   "execution_count": 0,
   "metadata": {
    "application/vnd.databricks.v1+cell": {
     "cellMetadata": {
      "byteLimit": 2048000,
      "rowLimit": 10000
     },
     "inputWidgets": {},
     "nuid": "ea8a7001-b5f5-452c-8c89-fc7815c91113",
     "showTitle": false,
     "tableResultSettingsMap": {},
     "title": ""
    }
   },
   "outputs": [],
   "source": [
    "macro_reactome$core_gene_id"
   ]
  },
  {
   "cell_type": "code",
   "execution_count": 0,
   "metadata": {
    "application/vnd.databricks.v1+cell": {
     "cellMetadata": {
      "byteLimit": 2048000,
      "rowLimit": 10000
     },
     "inputWidgets": {},
     "nuid": "ebaf1f19-b7c7-48b4-a3e2-16c01f1b2bb5",
     "showTitle": false,
     "tableResultSettingsMap": {},
     "title": ""
    }
   },
   "outputs": [],
   "source": [
    "macro_reactome <- macro_reactome %>%\n",
    "  rowwise() %>%\n",
    "  mutate(core_degs = paste(intersect(unlist(strsplit(core_gene_id, \"/\")), macro_degs_filtered$gene), collapse = \"/\"))"
   ]
  },
  {
   "cell_type": "code",
   "execution_count": 0,
   "metadata": {
    "application/vnd.databricks.v1+cell": {
     "cellMetadata": {
      "byteLimit": 2048000,
      "rowLimit": 10000
     },
     "inputWidgets": {},
     "nuid": "2d17e6f7-58dc-4a25-9349-076c783bdcdd",
     "showTitle": false,
     "tableResultSettingsMap": {},
     "title": ""
    }
   },
   "outputs": [],
   "source": [
    "macro_reactome$core_degs"
   ]
  },
  {
   "cell_type": "code",
   "execution_count": 0,
   "metadata": {
    "application/vnd.databricks.v1+cell": {
     "cellMetadata": {
      "byteLimit": 2048000,
      "rowLimit": 10000
     },
     "inputWidgets": {},
     "nuid": "e3c56329-c33f-4afd-9e32-1652c6766c02",
     "showTitle": false,
     "tableResultSettingsMap": {},
     "title": ""
    }
   },
   "outputs": [],
   "source": [
    "if (file.exists(\"/dbfs/mnt/sandbox/TFM_PAULA/merged_AR_results/GSEA/tcell_reactome_genes.xlsx\")) {\n",
    "  file.remove(\"/dbfs/mnt/sandbox/TFM_PAULA/merged_AR_results/GSEA/tcell_reactome_genes.xlsx\")\n",
    "}\n",
    "write.xlsx(tcell_reactome, \"/dbfs/mnt/sandbox/TFM_PAULA/merged_AR_results/GSEA/tcell_reactome_genes.xlsx\")\n",
    "\n",
    "if (file.exists(\"/dbfs/mnt/sandbox/TFM_PAULA/merged_AR_results/GSEA/fb_reactome_genes.xlsx\")) {\n",
    "  file.remove(\"/dbfs/mnt/sandbox/TFM_PAULA/merged_AR_results/GSEA/fb_reactome_genes.xlsx\")\n",
    "}\n",
    "write.xlsx(fb_reactome, \"/dbfs/mnt/sandbox/TFM_PAULA/merged_AR_results/GSEA/fb_reactome_genes.xlsx\")\n",
    "\n",
    "if (file.exists(\"/dbfs/mnt/sandbox/TFM_PAULA/merged_AR_results/GSEA/kc_reactome_genes.xlsx\")) {\n",
    "  file.remove(\"/dbfs/mnt/sandbox/TFM_PAULA/merged_AR_results/GSEA/kc_reactome_genes.xlsx\")\n",
    "}\n",
    "write.xlsx(kc_reactome, \"/dbfs/mnt/sandbox/TFM_PAULA/merged_AR_results/GSEA/kc_reactome_genes.xlsx\")\n",
    "\n",
    "if (file.exists(\"/dbfs/mnt/sandbox/TFM_PAULA/merged_AR_results/GSEA/treg_reactome_genes.xlsx\")) {\n",
    "  file.remove(\"/dbfs/mnt/sandbox/TFM_PAULA/merged_AR_results/GSEA/treg_reactome_genes.xlsx\")\n",
    "}\n",
    "write.xlsx(treg_reactome, \"/dbfs/mnt/sandbox/TFM_PAULA/merged_AR_results/GSEA/treg_reactome_genes.xlsx\")\n",
    "\n",
    "if (file.exists(\"/dbfs/mnt/sandbox/TFM_PAULA/merged_AR_results/GSEA/macro_reactome_genes.xlsx\")) {\n",
    "  file.remove(\"/dbfs/mnt/sandbox/TFM_PAULA/merged_AR_results/GSEA/macro_reactome_genes.xlsx\")\n",
    "}\n",
    "write.xlsx(macro_reactome, \"/dbfs/mnt/sandbox/TFM_PAULA/merged_AR_results/GSEA/macro_reactome_genes.xlsx\")"
   ]
  }
 ],
 "metadata": {
  "application/vnd.databricks.v1+notebook": {
   "computePreferences": null,
   "dashboards": [],
   "environmentMetadata": {
    "base_environment": "",
    "environment_version": "2"
   },
   "inputWidgetPreferences": null,
   "language": "r",
   "notebookMetadata": {
    "mostRecentlyExecutedCommandWithImplicitDF": {
     "commandId": 1314356817722056,
     "dataframes": [
      "_sqldf"
     ]
    }
   },
   "notebookName": "4.Find_gene_names_pathways",
   "widgets": {}
  },
  "language_info": {
   "name": "r"
  }
 },
 "nbformat": 4,
 "nbformat_minor": 0
}
