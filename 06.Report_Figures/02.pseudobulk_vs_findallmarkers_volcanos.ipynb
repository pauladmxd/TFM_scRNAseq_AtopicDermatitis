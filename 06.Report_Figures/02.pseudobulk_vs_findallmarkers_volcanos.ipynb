{
 "cells": [
  {
   "cell_type": "markdown",
   "metadata": {
    "application/vnd.databricks.v1+cell": {
     "cellMetadata": {
      "byteLimit": 2048000,
      "rowLimit": 10000
     },
     "inputWidgets": {},
     "nuid": "d093a511-7818-45b4-ba78-87e68c0ec882",
     "showTitle": false,
     "tableResultSettingsMap": {},
     "title": ""
    }
   },
   "source": [
    "#Create plots for comparison between pseudobulk and findallmarkers methods"
   ]
  },
  {
   "cell_type": "code",
   "execution_count": 0,
   "metadata": {
    "application/vnd.databricks.v1+cell": {
     "cellMetadata": {
      "byteLimit": 2048000,
      "rowLimit": 10000
     },
     "inputWidgets": {},
     "nuid": "fe57f6ca-c601-4bd8-a151-449103ef7fa0",
     "showTitle": false,
     "tableResultSettingsMap": {},
     "title": ""
    }
   },
   "outputs": [],
   "source": [
    ".libPaths(c(\"/dbfs/home/jtrincado@almirall.com/my_r_packages/Seurat\", .libPaths()))\n",
    "library(dplyr)\n",
    "library(openxlsx)\n",
    ".libPaths(c(\"/dbfs/home/boriol@almirall.com/my_r_packages/bulkRNASeq_PBMCs_R4.3\", .libPaths()))\n",
    "library(VennDiagram)\n",
    "library(EnhancedVolcano)"
   ]
  },
  {
   "cell_type": "code",
   "execution_count": 0,
   "metadata": {
    "application/vnd.databricks.v1+cell": {
     "cellMetadata": {
      "byteLimit": 2048000,
      "rowLimit": 10000
     },
     "inputWidgets": {},
     "nuid": "85279d55-5685-44a4-b539-e067c975f8ce",
     "showTitle": false,
     "tableResultSettingsMap": {},
     "title": ""
    }
   },
   "outputs": [],
   "source": [
    "volcano_generator <- function(resultsDE, given_title) {\n",
    "  library(dplyr)\n",
    "\n",
    "  resultsDE <- as.data.frame(resultsDE)\n",
    "  \n",
    "  # Create annotations for volcano plot\n",
    "  resultsDE0 <- resultsDE\n",
    "  resultsDE0$gene_id <- rownames(resultsDE0)\n",
    "\n",
    "  # Ensure unique row names and remove rows with missing gene id\n",
    "  resultsDE0 <- resultsDE0 %>%\n",
    "    distinct(gene_id, .keep_all = TRUE)\n",
    "  rownames(resultsDE0) <- resultsDE0$gene_id\n",
    "  \n",
    "  # Determine column names for p-value and log2 fold change\n",
    "  p_val_col <- if (\"p_val_adj\" %in% colnames(resultsDE0)) \"p_val_adj\" else if (\"padj\" %in% colnames(resultsDE0)) \"padj\" else \"adj.P.Val\"\n",
    "  log2fc_col <- if (\"avg_log2FC\" %in% colnames(resultsDE0)) \"avg_log2FC\" else if (\"log2FoldChange\" %in% colnames(resultsDE0)) \"log2FoldChange\" else \"logFC\"\n",
    "  \n",
    "  top10_genes <- resultsDE0 %>%\n",
    "    filter(!!sym(log2fc_col) > 1 & !!sym(p_val_col) < 0.05) %>%\n",
    "    arrange(!!sym(p_val_col)) %>% top_n(10, -!!sym(p_val_col))\n",
    "  \n",
    "  bottom10_genes <- resultsDE0 %>%\n",
    "    filter(!!sym(log2fc_col) < -1 & !!sym(p_val_col) < 0.05) %>%\n",
    "    arrange(!!sym(p_val_col)) %>% top_n(10, -!!sym(p_val_col))\n",
    "  \n",
    "  # Plot Volcano\n",
    "  volcano <- EnhancedVolcano(resultsDE0,\n",
    "    lab = rownames(resultsDE0),\n",
    "    x = log2fc_col,\n",
    "    y = p_val_col,\n",
    "    pCutoff = 0.05,\n",
    "    selectLab = c(top10_genes$gene_id, bottom10_genes$gene_id),\n",
    "    labSize = 5,\n",
    "    drawConnectors = TRUE,\n",
    "    widthConnectors = 0.5,\n",
    "    colConnectors = 'black',\n",
    "    title = given_title)\n",
    "  volcano\n",
    "}"
   ]
  },
  {
   "cell_type": "markdown",
   "metadata": {
    "application/vnd.databricks.v1+cell": {
     "cellMetadata": {
      "byteLimit": 2048000,
      "rowLimit": 10000
     },
     "inputWidgets": {},
     "nuid": "c441b68c-6295-449a-9d58-a98231c1d1eb",
     "showTitle": false,
     "tableResultSettingsMap": {},
     "title": ""
    }
   },
   "source": [
    "#KC"
   ]
  },
  {
   "cell_type": "markdown",
   "metadata": {
    "application/vnd.databricks.v1+cell": {
     "cellMetadata": {
      "byteLimit": 2048000,
      "rowLimit": 10000
     },
     "inputWidgets": {},
     "nuid": "1a4ef626-8be1-47bc-a00e-371c85f5d4c8",
     "showTitle": false,
     "tableResultSettingsMap": {},
     "title": ""
    }
   },
   "source": [
    "## Reynolds"
   ]
  },
  {
   "cell_type": "code",
   "execution_count": 0,
   "metadata": {
    "application/vnd.databricks.v1+cell": {
     "cellMetadata": {
      "byteLimit": 2048000,
      "rowLimit": 10000
     },
     "inputWidgets": {},
     "nuid": "98929d05-525c-4155-b8b2-f5fed007825f",
     "showTitle": false,
     "tableResultSettingsMap": {},
     "title": ""
    }
   },
   "outputs": [],
   "source": [
    "kc.de <- read.xlsx(\"/dbfs/mnt/sandbox/TFM_PAULA/Reynolds/LvsHC/reynolds_kc_LvsHC_allmarkers.xlsx\")\n",
    "rownames(kc.de) <- kc.de$gene\n",
    "kc.de.orig <- kc.de"
   ]
  },
  {
   "cell_type": "code",
   "execution_count": 0,
   "metadata": {
    "application/vnd.databricks.v1+cell": {
     "cellMetadata": {
      "byteLimit": 2048000,
      "rowLimit": 10000
     },
     "inputWidgets": {},
     "nuid": "e7633fe8-7bf4-46e5-a515-5e86cd5107d0",
     "showTitle": false,
     "tableResultSettingsMap": {},
     "title": ""
    }
   },
   "outputs": [],
   "source": [
    "bulk.kc.de <- read.xlsx(\"/dbfs/mnt/sandbox/TFM_PAULA/Reynolds/LvsHC/pseudobulk/reynolds_kc_LvsHC_bulk_v2.xlsx\")\n",
    "rownames(bulk.kc.de) <- bulk.kc.de$gene\n",
    "bulk.kc.de.orig <- bulk.kc.de"
   ]
  },
  {
   "cell_type": "code",
   "execution_count": 0,
   "metadata": {
    "application/vnd.databricks.v1+cell": {
     "cellMetadata": {
      "byteLimit": 2048000,
      "rowLimit": 10000
     },
     "inputWidgets": {},
     "nuid": "d2a01885-f640-4b24-8157-1df0122f89e6",
     "showTitle": false,
     "tableResultSettingsMap": {},
     "title": ""
    }
   },
   "outputs": [],
   "source": [
    "bulk.kc.limma <- read.xlsx(\"/dbfs/mnt/sandbox/TFM_PAULA/Reynolds/LvsHC/pseudobulk/reynolds_limma_results_kc.xlsx\")\n",
    "rownames(bulk.kc.limma) <- bulk.kc.limma$gene\n"
   ]
  },
  {
   "cell_type": "code",
   "execution_count": 0,
   "metadata": {
    "application/vnd.databricks.v1+cell": {
     "cellMetadata": {
      "byteLimit": 2048000,
      "rowLimit": 10000
     },
     "inputWidgets": {},
     "nuid": "e1d6e93e-56a2-49e3-97a9-b7c22d2ba23b",
     "showTitle": false,
     "tableResultSettingsMap": {},
     "title": ""
    }
   },
   "outputs": [],
   "source": [
    "kc.de.mast <- read.xlsx(\"/dbfs/mnt/sandbox/TFM_PAULA/Reynolds/LvsHC/MAST_method/reynolds_kc_LvsHC_allmarkers.xlsx\")\n",
    "rownames(kc.de.mast) <- kc.de.mast$gene"
   ]
  },
  {
   "cell_type": "code",
   "execution_count": 0,
   "metadata": {
    "application/vnd.databricks.v1+cell": {
     "cellMetadata": {
      "byteLimit": 2048000,
      "rowLimit": 10000
     },
     "inputWidgets": {},
     "nuid": "92cc7975-0759-41a2-8af2-d30812a946cb",
     "showTitle": false,
     "tableResultSettingsMap": {},
     "title": ""
    }
   },
   "outputs": [],
   "source": [
    "# compare the DE P-values between the single-cell level and the pseudobulk level results\n",
    "names(bulk.kc.de) <- paste0(names(bulk.kc.de), \".bulk\")\n",
    "bulk.kc.de$gene <- rownames(bulk.kc.de)\n",
    "\n",
    "names(kc.de) <- paste0(names(kc.de), \".sc\")\n",
    "kc.de$gene <- rownames(kc.de)\n",
    "\n",
    "merge_dat <- merge(kc.de, bulk.kc.de, by = \"gene\")\n",
    "merge_dat <- merge_dat[order(merge_dat$p_val_adj.bulk), ]\n",
    "\n",
    "# Number of genes that are marginally significant in both; marginally significant only in bulk; and marginally significant only in single-cell\n",
    "common <- merge_dat$gene[which(merge_dat$p_val_adj.bulk < 0.05 & \n",
    "                                merge_dat$p_val_adj.sc < 0.05 & \n",
    "                                merge_dat$avg_log2FC.bulk > 0.5 & \n",
    "                                merge_dat$avg_log2FC.sc > 0.5)]\n",
    "only_sc <- merge_dat$gene[which(merge_dat$p_val_adj.bulk > 0.05 & \n",
    "                                merge_dat$p_val_adj.sc < 0.05 & \n",
    "                                merge_dat$avg_log2FC.sc > 0.5)]\n",
    "only_bulk <- merge_dat$gene[which(merge_dat$p_val_adj.bulk < 0.05 & \n",
    "                                  merge_dat$p_val_adj.sc > 0.05 & \n",
    "                                  merge_dat$avg_log2FC.bulk > 0.5)]\n",
    "print(paste0('# Common: ', length(common)))\n",
    "print(paste0('# Only in bulk: ', length(only_bulk)))\n",
    "print(paste0('# Only in single-cell: ', length(only_sc)))"
   ]
  },
  {
   "cell_type": "code",
   "execution_count": 0,
   "metadata": {
    "application/vnd.databricks.v1+cell": {
     "cellMetadata": {
      "byteLimit": 2048000,
      "rowLimit": 10000
     },
     "inputWidgets": {},
     "nuid": "7e56938f-d5d1-4db1-a368-9ecd39e96289",
     "showTitle": false,
     "tableResultSettingsMap": {},
     "title": ""
    }
   },
   "outputs": [],
   "source": [
    "common <- merge_dat$gene[which(merge_dat$p_val_adj.bulk < 0.05 & \n",
    "                                merge_dat$p_val_adj.sc < 0.05 & \n",
    "                                merge_dat$avg_log2FC.bulk > 0.5 & \n",
    "                                merge_dat$avg_log2FC.sc > 0.5)]\n",
    "common <- common[order(merge_dat$p_val_adj.bulk[match(common, merge_dat$gene)])]\n",
    "print(common[1:20])"
   ]
  },
  {
   "cell_type": "code",
   "execution_count": 0,
   "metadata": {
    "application/vnd.databricks.v1+cell": {
     "cellMetadata": {
      "byteLimit": 2048000,
      "rowLimit": 10000
     },
     "inputWidgets": {},
     "nuid": "7475f82a-f06c-4201-bef6-9a86a397e9aa",
     "showTitle": false,
     "tableResultSettingsMap": {},
     "title": ""
    }
   },
   "outputs": [],
   "source": [
    "kc.de.sig <- kc.de[kc.de$p_val_adj.sc < 0.05 & abs(kc.de$avg_log2FC.sc) > 1,]\n",
    "bulk.kc.de.sig <- bulk.kc.de[bulk.kc.de$p_val_adj.bulk < 0.05 & abs(bulk.kc.de$avg_log2FC.bulk) > 1,]"
   ]
  },
  {
   "cell_type": "code",
   "execution_count": 0,
   "metadata": {
    "application/vnd.databricks.v1+cell": {
     "cellMetadata": {
      "byteLimit": 2048000,
      "rowLimit": 10000
     },
     "inputWidgets": {},
     "nuid": "44c5b9bc-9009-4eee-bef3-5a5f5afd95bb",
     "showTitle": false,
     "tableResultSettingsMap": {},
     "title": ""
    }
   },
   "outputs": [],
   "source": [
    "# Create a list of your gene sets\n",
    "gene_sets <- list(\n",
    "  \"SC\" = rownames(kc.de.sig),\n",
    "  \"Bulk\" = rownames(bulk.kc.de.sig)\n",
    ")\n",
    "options(repr.plot.width=1000, repr.plot.height=1000)\n",
    "\n",
    "# Create a new plotting page\n",
    "grid.newpage()\n",
    "\n",
    "# Plot the Venn diagram with colors and title\n",
    "venn.plot <- venn.diagram(\n",
    "  x = gene_sets,\n",
    "  category.names = c(\"FindAllMarkers\", \"Pseudo-Bulk\"), # Use abbreviated names for legend\n",
    "  filename = NULL,  # Set to NULL to plot in RStudio\n",
    "  output = TRUE,\n",
    "  fill = c(\"red\", \"blue\"), # Add colors\n",
    "  main = \"Common DEGs - Reynolds - Keratinocytes\", # Add title\n",
    "  main.fontface = \"bold\", # Make title bold\n",
    "  cat.dist = c(0.03, 0.03), # Adjust the distance of the category names from the circles\n",
    "  main.cex = 1.3, # Increase title size\n",
    "  cat.cex = 1.3, # Increase label size\n",
    "  cat.pos = c(-17, 17), # Position labels more on the top\n",
    "  cex = 1.3, # Increase numbers size\n",
    "  cat.col = c(\"red\", \"blue\") # Set label colors to match circles\n",
    ")\n",
    "\n",
    "# Display the plot\n",
    "grid.draw(venn.plot)"
   ]
  },
  {
   "cell_type": "code",
   "execution_count": 0,
   "metadata": {
    "application/vnd.databricks.v1+cell": {
     "cellMetadata": {
      "byteLimit": 2048000,
      "rowLimit": 10000
     },
     "inputWidgets": {},
     "nuid": "8e4c0133-d22c-43d0-b4ee-850af895f38d",
     "showTitle": false,
     "tableResultSettingsMap": {},
     "title": ""
    }
   },
   "outputs": [],
   "source": [
    "kc.de.orig <- kc.de.orig %>%\n",
    "    mutate(avg_log2FC = ifelse(cluster == \"healthy\", -abs(avg_log2FC), avg_log2FC)) #It is done because the analysis was done only with positive results and to be able to differentiate healthy and lesional I assign that sign\n",
    "kc.de.mast <- kc.de.mast %>%\n",
    "    mutate(avg_log2FC = ifelse(cluster == \"healthy\", -abs(avg_log2FC), avg_log2FC)) #It is done because the analysis was done only with positive results and to be able to differentiate healthy and lesional I assign that sign"
   ]
  },
  {
   "cell_type": "code",
   "execution_count": 0,
   "metadata": {
    "application/vnd.databricks.v1+cell": {
     "cellMetadata": {
      "byteLimit": 2048000,
      "rowLimit": 10000
     },
     "inputWidgets": {},
     "nuid": "fdc0fa57-04d0-4960-9a1b-f6db3b5a3e92",
     "showTitle": false,
     "tableResultSettingsMap": {},
     "title": ""
    }
   },
   "outputs": [],
   "source": [
    "options(repr.plot.width=1600, repr.plot.height=1000)\n"
   ]
  },
  {
   "cell_type": "code",
   "execution_count": 0,
   "metadata": {
    "application/vnd.databricks.v1+cell": {
     "cellMetadata": {
      "byteLimit": 2048000,
      "rowLimit": 10000
     },
     "inputWidgets": {},
     "nuid": "6bc6743a-9ad9-43c3-a960-21b7ad724a0d",
     "showTitle": false,
     "tableResultSettingsMap": {},
     "title": ""
    }
   },
   "outputs": [],
   "source": [
    "library(patchwork)\n",
    "\n",
    "p1 <- volcano_generator(kc.de.orig, \"FindAllMarkers\")\n",
    "p2 <- volcano_generator(kc.de.mast, \"MAST\")\n",
    "p3 <- volcano_generator(bulk.kc.de.orig, \"Pseudo-bulk DESeq2\")\n",
    "p4 <- volcano_generator(bulk.kc.limma, \"Pseudo-bulk Limma\")\n",
    "\n",
    "combined_plot <- (p1 + p2) + plot_annotation(title = \"Reynolds - Keratinocytes\", \n",
    "                                             theme = theme(plot.title = element_text(hjust = 1, vjust = 2, size = 17, face = \"bold\")))\n",
    "print(combined_plot)"
   ]
  },
  {
   "cell_type": "code",
   "execution_count": 0,
   "metadata": {
    "application/vnd.databricks.v1+cell": {
     "cellMetadata": {
      "byteLimit": 2048000,
      "rowLimit": 10000
     },
     "inputWidgets": {},
     "nuid": "683ead10-fa2f-472c-a6d4-35bb0f5b39d4",
     "showTitle": false,
     "tableResultSettingsMap": {},
     "title": ""
    }
   },
   "outputs": [],
   "source": [
    "library(patchwork)\n",
    "\n",
    "p3 <- volcano_generator(bulk.kc.de.orig, \"Pseudo-bulk DESeq2\")\n",
    "p4 <- volcano_generator(bulk.kc.limma, \"Pseudo-bulk Limma\")\n",
    "\n",
    "combined_plot <- (p3 + p4) + plot_annotation(                                             theme = theme(plot.title = element_text(hjust = 0.5, vjust = 2, size = 17, face = \"bold\")))\n",
    "print(combined_plot)"
   ]
  },
  {
   "cell_type": "markdown",
   "metadata": {
    "application/vnd.databricks.v1+cell": {
     "cellMetadata": {
      "byteLimit": 2048000,
      "rowLimit": 10000
     },
     "inputWidgets": {},
     "nuid": "dd85e458-73e2-4b3c-ac96-70c5425f7108",
     "showTitle": false,
     "tableResultSettingsMap": {},
     "title": ""
    }
   },
   "source": [
    "##KC Alkon"
   ]
  },
  {
   "cell_type": "code",
   "execution_count": 0,
   "metadata": {
    "application/vnd.databricks.v1+cell": {
     "cellMetadata": {
      "byteLimit": 2048000,
      "rowLimit": 10000
     },
     "inputWidgets": {},
     "nuid": "afd4e24c-0227-4c3b-a97e-f735fa537840",
     "showTitle": false,
     "tableResultSettingsMap": {},
     "title": ""
    }
   },
   "outputs": [],
   "source": [
    "kc.de <- read.xlsx(\"/dbfs/mnt/sandbox/TFM_PAULA/Alkon/alkon_kc_LvsHC_allmarkers.xlsx\")\n",
    "rownames(kc.de) <- kc.de$gene\n",
    "kc.de.orig <- kc.de"
   ]
  },
  {
   "cell_type": "code",
   "execution_count": 0,
   "metadata": {
    "application/vnd.databricks.v1+cell": {
     "cellMetadata": {
      "byteLimit": 2048000,
      "rowLimit": 10000
     },
     "inputWidgets": {},
     "nuid": "c2d3562c-fa5f-4d58-a607-2a72d7058217",
     "showTitle": false,
     "tableResultSettingsMap": {},
     "title": ""
    }
   },
   "outputs": [],
   "source": [
    "bulk.kc.de <- read.xlsx(\"/dbfs/mnt/sandbox/TFM_PAULA/Alkon/pseudobulk/alkon_kc_LvsHC_bulk_v2.xlsx\")\n",
    "rownames(bulk.kc.de) <- bulk.kc.de$gene\n",
    "bulk.kc.de.orig <- bulk.kc.de"
   ]
  },
  {
   "cell_type": "code",
   "execution_count": 0,
   "metadata": {
    "application/vnd.databricks.v1+cell": {
     "cellMetadata": {
      "byteLimit": 2048000,
      "rowLimit": 10000
     },
     "inputWidgets": {},
     "nuid": "e4627ca9-78c4-4043-8dad-8bd047b24849",
     "showTitle": false,
     "tableResultSettingsMap": {},
     "title": ""
    }
   },
   "outputs": [],
   "source": [
    "bulk.kc.limma <- read.xlsx(\"/dbfs/mnt/sandbox/TFM_PAULA/Alkon/pseudobulk/alkon_limma_results_kc.xlsx\")\n",
    "rownames(bulk.kc.limma) <- bulk.kc.limma$gene\n",
    "\n",
    "kc.de.mast <- read.xlsx(\"/dbfs/mnt/sandbox/TFM_PAULA/Alkon/MAST_method/alkon_kc_LvsHC_allmarkers.xlsx\")\n",
    "rownames(kc.de.mast) <- kc.de.mast$gene"
   ]
  },
  {
   "cell_type": "code",
   "execution_count": 0,
   "metadata": {
    "application/vnd.databricks.v1+cell": {
     "cellMetadata": {
      "byteLimit": 2048000,
      "rowLimit": 10000
     },
     "inputWidgets": {},
     "nuid": "cdcfc69f-d2bd-497a-99c9-ca89d40cf211",
     "showTitle": false,
     "tableResultSettingsMap": {},
     "title": ""
    }
   },
   "outputs": [],
   "source": [
    "# compare the DE P-values between the single-cell level and the pseudobulk level results\n",
    "names(bulk.kc.de) <- paste0(names(bulk.kc.de), \".bulk\")\n",
    "bulk.kc.de$gene <- rownames(bulk.kc.de)\n",
    "\n",
    "names(kc.de) <- paste0(names(kc.de), \".sc\")\n",
    "kc.de$gene <- rownames(kc.de)\n",
    "\n",
    "merge_dat <- merge(kc.de, bulk.kc.de, by = \"gene\")\n",
    "merge_dat <- merge_dat[order(merge_dat$p_val_adj.bulk), ]\n",
    "\n",
    "# Number of genes that are marginally significant in both; marginally significant only in bulk; and marginally significant only in single-cell\n",
    "common <- merge_dat$gene[which(merge_dat$p_val_adj.bulk < 0.05 & \n",
    "                                merge_dat$p_val_adj.sc < 0.05 & \n",
    "                                merge_dat$avg_log2FC.bulk > 0.5 & \n",
    "                                merge_dat$avg_log2FC.sc > 0.5)]\n",
    "only_sc <- merge_dat$gene[which(merge_dat$p_val_adj.bulk > 0.05 & \n",
    "                                merge_dat$p_val_adj.sc < 0.05 & \n",
    "                                merge_dat$avg_log2FC.sc > 0.5)]\n",
    "only_bulk <- merge_dat$gene[which(merge_dat$p_val_adj.bulk < 0.05 & \n",
    "                                  merge_dat$p_val_adj.sc > 0.05 & \n",
    "                                  merge_dat$avg_log2FC.bulk > 0.5)]\n",
    "print(paste0('# Common: ', length(common)))\n",
    "print(paste0('# Only in bulk: ', length(only_bulk)))\n",
    "print(paste0('# Only in single-cell: ', length(only_sc)))"
   ]
  },
  {
   "cell_type": "code",
   "execution_count": 0,
   "metadata": {
    "application/vnd.databricks.v1+cell": {
     "cellMetadata": {
      "byteLimit": 2048000,
      "rowLimit": 10000
     },
     "inputWidgets": {},
     "nuid": "79c560f7-9593-4d40-82c4-640c9c03c406",
     "showTitle": false,
     "tableResultSettingsMap": {},
     "title": ""
    }
   },
   "outputs": [],
   "source": [
    "common <- merge_dat$gene[which(merge_dat$p_val_adj.bulk < 0.05 & \n",
    "                                merge_dat$p_val_adj.sc < 0.05 & \n",
    "                                merge_dat$avg_log2FC.bulk > 0.5 & \n",
    "                                merge_dat$avg_log2FC.sc > 0.5)]\n",
    "common <- common[order(merge_dat$p_val_adj.bulk[match(common, merge_dat$gene)])]\n",
    "print(common[1:20])"
   ]
  },
  {
   "cell_type": "code",
   "execution_count": 0,
   "metadata": {
    "application/vnd.databricks.v1+cell": {
     "cellMetadata": {
      "byteLimit": 2048000,
      "rowLimit": 10000
     },
     "inputWidgets": {},
     "nuid": "c13bbda3-9731-4cbb-a29f-f03e3be92975",
     "showTitle": false,
     "tableResultSettingsMap": {},
     "title": ""
    }
   },
   "outputs": [],
   "source": [
    "kc.de.sig <- kc.de[kc.de$p_val_adj.sc < 0.05 & abs(kc.de$avg_log2FC.sc) > 1,]\n",
    "bulk.kc.de.sig <- bulk.kc.de[bulk.kc.de$p_val_adj.bulk < 0.05 & abs(bulk.kc.de$avg_log2FC.bulk) > 1,]"
   ]
  },
  {
   "cell_type": "code",
   "execution_count": 0,
   "metadata": {
    "application/vnd.databricks.v1+cell": {
     "cellMetadata": {
      "byteLimit": 2048000,
      "rowLimit": 10000
     },
     "inputWidgets": {},
     "nuid": "3bf4be7f-bb0b-4b78-8a7c-96b30dcf2e47",
     "showTitle": false,
     "tableResultSettingsMap": {},
     "title": ""
    }
   },
   "outputs": [],
   "source": [
    "options(repr.plot.width=1000, repr.plot.height=1000)\n"
   ]
  },
  {
   "cell_type": "code",
   "execution_count": 0,
   "metadata": {
    "application/vnd.databricks.v1+cell": {
     "cellMetadata": {
      "byteLimit": 2048000,
      "rowLimit": 10000
     },
     "inputWidgets": {},
     "nuid": "a3cbc5c7-af0e-4957-b4b2-1a30b2449f9a",
     "showTitle": false,
     "tableResultSettingsMap": {},
     "title": ""
    }
   },
   "outputs": [],
   "source": [
    "# Create a list of your gene sets\n",
    "gene_sets <- list(\n",
    "  \"SC\" = rownames(kc.de.sig),\n",
    "  \"Bulk\" = rownames(bulk.kc.de.sig)\n",
    ")\n",
    "\n",
    "# Create a new plotting page\n",
    "grid.newpage()\n",
    "\n",
    "# Plot the Venn diagram with colors and title\n",
    "venn.plot <- venn.diagram(\n",
    "  x = gene_sets,\n",
    "  category.names = c(\"FindAllMarkers\", \"Pseudo-Bulk\"), # Use abbreviated names for legend\n",
    "  filename = NULL,  # Set to NULL to plot in RStudio\n",
    "  output = TRUE,\n",
    "  fill = c(\"red\", \"blue\"), # Add colors\n",
    "  main = \"Common DEGs - Alkon - Keratinocytes\", # Add title\n",
    "  cat.dist = c(0.03, 0.03), # Adjust the distance of the category names from the circles\n",
    "  main.cex = 1.3, # Increase title size\n",
    "  main.fontface = \"bold\", # Make title bold\n",
    "  cat.cex = 1.3, # Increase label size\n",
    "  cat.pos = c(-17, 17), # Position labels more on the top\n",
    "  cex = 1.3, # Increase numbers size\n",
    "  cat.col = c(\"red\", \"blue\") # Set label colors to match circles\n",
    ")\n",
    "\n",
    "# Display the plot\n",
    "grid.draw(venn.plot)"
   ]
  },
  {
   "cell_type": "code",
   "execution_count": 0,
   "metadata": {
    "application/vnd.databricks.v1+cell": {
     "cellMetadata": {
      "byteLimit": 2048000,
      "rowLimit": 10000
     },
     "inputWidgets": {},
     "nuid": "f4d3a4e8-e466-41ed-a192-d37bd78b1cc0",
     "showTitle": false,
     "tableResultSettingsMap": {},
     "title": ""
    }
   },
   "outputs": [],
   "source": [
    "kc.de.orig <- kc.de.orig %>%\n",
    "    mutate(avg_log2FC = ifelse(cluster == \"HC\", -abs(avg_log2FC), avg_log2FC)) #It is done because the analysis was done only with positive results and to be able to differentiate healthy and lesional I assign that sign\n",
    "\n",
    "kc.de.mast <- kc.de.mast %>%\n",
    "    mutate(avg_log2FC = ifelse(cluster == \"HC\", -abs(avg_log2FC), avg_log2FC)) #It is done because the analysis was done only with positive results and to be able to differentiate healthy and lesional I assign that sign"
   ]
  },
  {
   "cell_type": "code",
   "execution_count": 0,
   "metadata": {
    "application/vnd.databricks.v1+cell": {
     "cellMetadata": {
      "byteLimit": 2048000,
      "rowLimit": 10000
     },
     "inputWidgets": {},
     "nuid": "64cc057d-88b5-4081-8e4f-d0f42938f224",
     "showTitle": false,
     "tableResultSettingsMap": {},
     "title": ""
    }
   },
   "outputs": [],
   "source": [
    "options(repr.plot.width=1600, repr.plot.height=1000)\n"
   ]
  },
  {
   "cell_type": "code",
   "execution_count": 0,
   "metadata": {
    "application/vnd.databricks.v1+cell": {
     "cellMetadata": {
      "byteLimit": 2048000,
      "rowLimit": 10000
     },
     "inputWidgets": {},
     "nuid": "4c57ccf1-cf16-431c-8ba1-26e3b041e0b6",
     "showTitle": false,
     "tableResultSettingsMap": {},
     "title": ""
    }
   },
   "outputs": [],
   "source": [
    "library(patchwork)\n",
    "\n",
    "p1 <- volcano_generator(kc.de.orig, \"FindAllMarkers\")\n",
    "p2 <- volcano_generator(kc.de.mast, \"MAST\")\n",
    "p3 <- volcano_generator(bulk.kc.de.orig, \"Pseudo-bulk DESeq2\")\n",
    "p4 <- volcano_generator(bulk.kc.limma, \"Pseudo-bulk Limma\")\n",
    "\n",
    "combined_plot <- (p1 + p2) + plot_annotation(\n",
    "                                             theme = theme(plot.title = element_text(hjust = 1, vjust = 2, size = 17, face = \"bold\")))\n",
    "print(combined_plot)"
   ]
  },
  {
   "cell_type": "code",
   "execution_count": 0,
   "metadata": {
    "application/vnd.databricks.v1+cell": {
     "cellMetadata": {
      "byteLimit": 2048000,
      "rowLimit": 10000
     },
     "inputWidgets": {},
     "nuid": "81ca8461-64e1-4c7b-83e7-8a7973187ac5",
     "showTitle": false,
     "tableResultSettingsMap": {},
     "title": ""
    }
   },
   "outputs": [],
   "source": [
    "\n",
    "p3 <- volcano_generator(bulk.kc.de.orig, \"Pseudo-bulk DESeq2\")\n",
    "p4 <- volcano_generator(bulk.kc.limma, \"Pseudo-bulk Limma\")\n",
    "\n",
    "combined_plot <- (p3 + p4) + plot_annotation(                                             theme = theme(plot.title = element_text(hjust = 0.5, vjust = 2, size = 17, face = \"bold\")))\n",
    "print(combined_plot)"
   ]
  },
  {
   "cell_type": "markdown",
   "metadata": {
    "application/vnd.databricks.v1+cell": {
     "cellMetadata": {
      "byteLimit": 2048000,
      "rowLimit": 10000
     },
     "inputWidgets": {},
     "nuid": "8d8829e4-5f28-4720-835f-1343878990a3",
     "showTitle": false,
     "tableResultSettingsMap": {},
     "title": ""
    }
   },
   "source": [
    "#Tcells"
   ]
  },
  {
   "cell_type": "markdown",
   "metadata": {
    "application/vnd.databricks.v1+cell": {
     "cellMetadata": {
      "byteLimit": 2048000,
      "rowLimit": 10000
     },
     "inputWidgets": {},
     "nuid": "48e8b331-27ce-4d31-a129-dcc3e7b23196",
     "showTitle": false,
     "tableResultSettingsMap": {},
     "title": ""
    }
   },
   "source": [
    "## Reynolds"
   ]
  },
  {
   "cell_type": "code",
   "execution_count": 0,
   "metadata": {
    "application/vnd.databricks.v1+cell": {
     "cellMetadata": {
      "byteLimit": 2048000,
      "rowLimit": 10000
     },
     "inputWidgets": {},
     "nuid": "b72330fd-5359-4f1c-9ba6-f6921aa53c23",
     "showTitle": false,
     "tableResultSettingsMap": {},
     "title": ""
    }
   },
   "outputs": [],
   "source": [
    "tcell.de <- read.xlsx(\"/dbfs/mnt/sandbox/TFM_PAULA/Reynolds/LvsHC/reynolds_LvsHC_tcell_allmarkers.xlsx\")\n",
    "rownames(tcell.de) <- tcell.de$gene\n",
    "tcell.de.orig <- tcell.de"
   ]
  },
  {
   "cell_type": "code",
   "execution_count": 0,
   "metadata": {
    "application/vnd.databricks.v1+cell": {
     "cellMetadata": {
      "byteLimit": 2048000,
      "rowLimit": 10000
     },
     "inputWidgets": {},
     "nuid": "8fc6ee72-82ce-4488-847e-e231f6e7b3f4",
     "showTitle": false,
     "tableResultSettingsMap": {},
     "title": ""
    }
   },
   "outputs": [],
   "source": [
    "bulk.tcell.de <- read.xlsx(\"/dbfs/mnt/sandbox/TFM_PAULA/Reynolds/LvsHC/pseudobulk/reynolds_tcell_LvsHC_bulk_v2.xlsx\")\n",
    "rownames(bulk.tcell.de) <- bulk.tcell.de$gene\n",
    "bulk.tcell.de.orig <- bulk.tcell.de"
   ]
  },
  {
   "cell_type": "code",
   "execution_count": 0,
   "metadata": {
    "application/vnd.databricks.v1+cell": {
     "cellMetadata": {
      "byteLimit": 2048000,
      "rowLimit": 10000
     },
     "inputWidgets": {},
     "nuid": "94d9dca8-bb24-4629-8337-36b39880ba61",
     "showTitle": false,
     "tableResultSettingsMap": {},
     "title": ""
    }
   },
   "outputs": [],
   "source": [
    "bulk.tcell.limma <- read.xlsx(\"/dbfs/mnt/sandbox/TFM_PAULA/Reynolds/LvsHC/pseudobulk/reynolds_limma_results_tcell.xlsx\")\n",
    "rownames(bulk.tcell.limma) <- bulk.tcell.limma$gene\n",
    "\n",
    "tcell.de.mast <- read.xlsx(\"/dbfs/mnt/sandbox/TFM_PAULA/Reynolds/LvsHC/MAST_method/reynolds_LvsHC_tcell_allmarkers.xlsx\")\n",
    "rownames(tcell.de.mast) <- tcell.de.mast$gene"
   ]
  },
  {
   "cell_type": "code",
   "execution_count": 0,
   "metadata": {
    "application/vnd.databricks.v1+cell": {
     "cellMetadata": {
      "byteLimit": 2048000,
      "rowLimit": 10000
     },
     "inputWidgets": {},
     "nuid": "f61a4c9b-a0d5-4d03-9323-843738f9ea36",
     "showTitle": false,
     "tableResultSettingsMap": {},
     "title": ""
    }
   },
   "outputs": [],
   "source": [
    "# compare the DE P-values between the single-cell level and the pseudobulk level results\n",
    "names(bulk.tcell.de) <- paste0(names(bulk.tcell.de), \".bulk\")\n",
    "bulk.tcell.de$gene <- rownames(bulk.tcell.de)\n",
    "\n",
    "names(tcell.de) <- paste0(names(tcell.de), \".sc\")\n",
    "tcell.de$gene <- rownames(tcell.de)\n",
    "\n",
    "merge_dat <- merge(tcell.de, bulk.tcell.de, by = \"gene\")\n",
    "merge_dat <- merge_dat[order(merge_dat$p_val_adj.bulk), ]\n",
    "\n",
    "# Number of genes that are marginally significant in both; marginally significant only in bulk; and marginally significant only in single-cell\n",
    "common <- merge_dat$gene[which(merge_dat$p_val_adj.bulk < 0.05 & \n",
    "                                merge_dat$p_val_adj.sc < 0.05 & \n",
    "                                merge_dat$avg_log2FC.bulk > 0.5 & \n",
    "                                merge_dat$avg_log2FC.sc > 0.5)]\n",
    "only_sc <- merge_dat$gene[which(merge_dat$p_val_adj.bulk > 0.05 & \n",
    "                                merge_dat$p_val_adj.sc < 0.05 & \n",
    "                                merge_dat$avg_log2FC.sc > 0.5)]\n",
    "only_bulk <- merge_dat$gene[which(merge_dat$p_val_adj.bulk < 0.05 & \n",
    "                                  merge_dat$p_val_adj.sc > 0.05 & \n",
    "                                  merge_dat$avg_log2FC.bulk > 0.5)]\n",
    "print(paste0('# Common: ', length(common)))\n",
    "print(paste0('# Only in bulk: ', length(only_bulk)))\n",
    "print(paste0('# Only in single-cell: ', length(only_sc)))"
   ]
  },
  {
   "cell_type": "code",
   "execution_count": 0,
   "metadata": {
    "application/vnd.databricks.v1+cell": {
     "cellMetadata": {
      "byteLimit": 2048000,
      "rowLimit": 10000
     },
     "inputWidgets": {},
     "nuid": "60908930-e0fc-46f0-bbd1-a60ee94a317d",
     "showTitle": false,
     "tableResultSettingsMap": {},
     "title": ""
    }
   },
   "outputs": [],
   "source": [
    "common <- merge_dat$gene[which(merge_dat$p_val_adj.bulk < 0.05 & \n",
    "                                merge_dat$p_val_adj.sc < 0.05 & \n",
    "                                merge_dat$avg_log2FC.bulk > 0.5 & \n",
    "                                merge_dat$avg_log2FC.sc > 0.5)]\n",
    "common <- common[order(merge_dat$p_val_adj.bulk[match(common, merge_dat$gene)])]\n",
    "print(common[1:20])"
   ]
  },
  {
   "cell_type": "code",
   "execution_count": 0,
   "metadata": {
    "application/vnd.databricks.v1+cell": {
     "cellMetadata": {
      "byteLimit": 2048000,
      "rowLimit": 10000
     },
     "inputWidgets": {},
     "nuid": "ec737dc3-e2c9-422a-84e9-f82e9461332d",
     "showTitle": false,
     "tableResultSettingsMap": {},
     "title": ""
    }
   },
   "outputs": [],
   "source": [
    "tcell.de.sig <- tcell.de[tcell.de$p_val_adj.sc < 0.05 & abs(tcell.de$avg_log2FC.sc) > 1,]\n",
    "bulk.tcell.de.sig <- bulk.tcell.de[bulk.tcell.de$p_val_adj.bulk < 0.05 & abs(bulk.tcell.de$avg_log2FC.bulk) > 1,]"
   ]
  },
  {
   "cell_type": "code",
   "execution_count": 0,
   "metadata": {
    "application/vnd.databricks.v1+cell": {
     "cellMetadata": {
      "byteLimit": 2048000,
      "rowLimit": 10000
     },
     "inputWidgets": {},
     "nuid": "2485e66f-59f1-4cb6-bc92-755c54f86a15",
     "showTitle": false,
     "tableResultSettingsMap": {},
     "title": ""
    }
   },
   "outputs": [],
   "source": [
    "options(repr.plot.width=1500, repr.plot.height=1500)\n"
   ]
  },
  {
   "cell_type": "code",
   "execution_count": 0,
   "metadata": {
    "application/vnd.databricks.v1+cell": {
     "cellMetadata": {
      "byteLimit": 2048000,
      "rowLimit": 10000
     },
     "inputWidgets": {},
     "nuid": "83e9772f-466a-4582-98d5-e8800bbe42ad",
     "showTitle": false,
     "tableResultSettingsMap": {},
     "title": ""
    }
   },
   "outputs": [],
   "source": [
    "# Create a list of your gene sets\n",
    "gene_sets <- list(\n",
    "  \"SC\" = rownames(tcell.de.sig),\n",
    "  \"Bulk\" = rownames(bulk.tcell.de.sig)\n",
    ")\n",
    "\n",
    "# Create a new plotting page\n",
    "grid.newpage()\n",
    "\n",
    "# Plot the Venn diagram with colors and title\n",
    "venn.plot <- venn.diagram(\n",
    "  x = gene_sets,\n",
    "  category.names = c(\"FindAllMarkers\", \"Pseudo-Bulk\"), # Use abbreviated names for legend\n",
    "  filename = NULL,  # Set to NULL to plot in RStudio\n",
    "  output = TRUE,\n",
    "  fill = c(\"red\", \"blue\"), # Add colors\n",
    "  main = \"Common DEGs - Reynolds - Tcells\", # Add title\n",
    "  cat.dist = c(0.03, 0.03), # Adjust the distance of the category names from the circles\n",
    "  main.cex = 1.3, # Increase title size\n",
    "  main.fontface = \"bold\", # Make title bold\n",
    "  cat.cex = 1.3, # Increase label size\n",
    "  cat.pos = c(-17, 17), # Position labels more on the top\n",
    "  cex = 1.3, # Increase numbers size\n",
    "  cat.col = c(\"red\", \"blue\") # Set label colors to match circles\n",
    ")\n",
    "\n",
    "# Display the plot\n",
    "grid.draw(venn.plot)"
   ]
  },
  {
   "cell_type": "code",
   "execution_count": 0,
   "metadata": {
    "application/vnd.databricks.v1+cell": {
     "cellMetadata": {
      "byteLimit": 2048000,
      "rowLimit": 10000
     },
     "inputWidgets": {},
     "nuid": "dee40c9a-f771-44c3-94bf-544767fece76",
     "showTitle": false,
     "tableResultSettingsMap": {},
     "title": ""
    }
   },
   "outputs": [],
   "source": [
    "tcell.de.orig <- tcell.de.orig %>%\n",
    "    mutate(avg_log2FC = ifelse(cluster == \"healthy\", -abs(avg_log2FC), avg_log2FC)) #It is done because the analysis was done only with positive results and to be able to differentiate healthy and lesional I assign that sign\n",
    "tcell.de.mast <- tcell.de.mast %>%\n",
    "    mutate(avg_log2FC = ifelse(cluster == \"healthy\", -abs(avg_log2FC), avg_log2FC)) #It is done because the analysis was done only with positive results and to be able to differentiate healthy and lesional I assign that sign"
   ]
  },
  {
   "cell_type": "code",
   "execution_count": 0,
   "metadata": {
    "application/vnd.databricks.v1+cell": {
     "cellMetadata": {
      "byteLimit": 2048000,
      "rowLimit": 10000
     },
     "inputWidgets": {},
     "nuid": "a272df1c-2fe6-4470-8885-c3fe7ba372e4",
     "showTitle": false,
     "tableResultSettingsMap": {},
     "title": ""
    }
   },
   "outputs": [],
   "source": [
    "options(repr.plot.width=1600, repr.plot.height=1000)\n"
   ]
  },
  {
   "cell_type": "code",
   "execution_count": 0,
   "metadata": {
    "application/vnd.databricks.v1+cell": {
     "cellMetadata": {
      "byteLimit": 2048000,
      "rowLimit": 10000
     },
     "inputWidgets": {},
     "nuid": "d1e180aa-3e94-4072-a551-47770865dea6",
     "showTitle": false,
     "tableResultSettingsMap": {},
     "title": ""
    }
   },
   "outputs": [],
   "source": [
    "library(patchwork)\n",
    "\n",
    "p1 <- volcano_generator(tcell.de.orig, \"FindAllMarkers\")\n",
    "p2 <- volcano_generator(tcell.de.mast, \"MAST\")\n",
    "p3 <- volcano_generator(bulk.tcell.de.orig, \"Pseudo-bulk DESeq2\")\n",
    "p4 <- volcano_generator(bulk.tcell.limma, \"Pseudo-bulk Limma\")\n",
    "\n",
    "combined_plot <- (p1 + p2) + plot_annotation(\n",
    "                                             theme = theme(plot.title = element_text(hjust = 1, vjust = 2, size = 17, face = \"bold\")))\n",
    "print(combined_plot)"
   ]
  },
  {
   "cell_type": "code",
   "execution_count": 0,
   "metadata": {
    "application/vnd.databricks.v1+cell": {
     "cellMetadata": {
      "byteLimit": 2048000,
      "rowLimit": 10000
     },
     "inputWidgets": {},
     "nuid": "86efe928-4292-4dd8-9891-7a41c3f81f80",
     "showTitle": false,
     "tableResultSettingsMap": {},
     "title": ""
    }
   },
   "outputs": [],
   "source": [
    "p3 <- volcano_generator(bulk.tcell.de.orig, \"Pseudo-bulk DESeq2\")\n",
    "p4 <- volcano_generator(bulk.tcell.limma, \"Pseudo-bulk Limma\")\n",
    "\n",
    "combined_plot <- (p3 + p4) + plot_annotation(\n",
    "                                             theme = theme(plot.title = element_text(hjust = 1, vjust = 2, size = 17, face = \"bold\")))\n",
    "print(combined_plot)"
   ]
  },
  {
   "cell_type": "markdown",
   "metadata": {
    "application/vnd.databricks.v1+cell": {
     "cellMetadata": {
      "byteLimit": 2048000,
      "rowLimit": 10000
     },
     "inputWidgets": {},
     "nuid": "41c45a3e-bca2-4730-b786-4eda5001d2f8",
     "showTitle": false,
     "tableResultSettingsMap": {},
     "title": ""
    }
   },
   "source": [
    "## Alkon"
   ]
  },
  {
   "cell_type": "code",
   "execution_count": 0,
   "metadata": {
    "application/vnd.databricks.v1+cell": {
     "cellMetadata": {
      "byteLimit": 2048000,
      "rowLimit": 10000
     },
     "inputWidgets": {},
     "nuid": "ad638f23-7df0-4cfe-aa01-236397f95adb",
     "showTitle": false,
     "tableResultSettingsMap": {},
     "title": ""
    }
   },
   "outputs": [],
   "source": [
    "tcell.de <- read.xlsx(\"/dbfs/mnt/sandbox/TFM_PAULA/Alkon/alkon_tcell_LvsHC_allmarkers.xlsx\")\n",
    "rownames(tcell.de) <- tcell.de$gene\n",
    "tcell.de.orig <- tcell.de"
   ]
  },
  {
   "cell_type": "code",
   "execution_count": 0,
   "metadata": {
    "application/vnd.databricks.v1+cell": {
     "cellMetadata": {
      "byteLimit": 2048000,
      "rowLimit": 10000
     },
     "inputWidgets": {},
     "nuid": "56f18756-d4cd-4210-b720-006cbceb3ea9",
     "showTitle": false,
     "tableResultSettingsMap": {},
     "title": ""
    }
   },
   "outputs": [],
   "source": [
    "bulk.tcell.de <- read.xlsx(\"/dbfs/mnt/sandbox/TFM_PAULA/Alkon/pseudobulk/alkon_tcell_LvsHC_bulk_v2.xlsx\")\n",
    "rownames(bulk.tcell.de) <- bulk.tcell.de$gene\n",
    "bulk.tcell.de.orig <- bulk.tcell.de"
   ]
  },
  {
   "cell_type": "code",
   "execution_count": 0,
   "metadata": {
    "application/vnd.databricks.v1+cell": {
     "cellMetadata": {
      "byteLimit": 2048000,
      "rowLimit": 10000
     },
     "inputWidgets": {},
     "nuid": "ac5a83d8-8a8b-44a8-a2bf-52e4e1303f2c",
     "showTitle": false,
     "tableResultSettingsMap": {},
     "title": ""
    }
   },
   "outputs": [],
   "source": [
    "bulk.tcell.limma <- read.xlsx(\"/dbfs/mnt/sandbox/TFM_PAULA/Alkon/pseudobulk/alkon_limma_results_tcell.xlsx\")\n",
    "rownames(bulk.tcell.limma) <- bulk.tcell.limma$gene\n",
    "\n",
    "tcell.de.mast <- read.xlsx(\"/dbfs/mnt/sandbox/TFM_PAULA/Alkon/MAST_method/alkon_LvsHC_tcell_allmarkers.xlsx\")\n",
    "rownames(tcell.de.mast) <- tcell.de.mast$gene"
   ]
  },
  {
   "cell_type": "code",
   "execution_count": 0,
   "metadata": {
    "application/vnd.databricks.v1+cell": {
     "cellMetadata": {
      "byteLimit": 2048000,
      "rowLimit": 10000
     },
     "inputWidgets": {},
     "nuid": "18f090d5-89c3-47e7-8539-b14c554e88ef",
     "showTitle": false,
     "tableResultSettingsMap": {},
     "title": ""
    }
   },
   "outputs": [],
   "source": [
    "# compare the DE P-values between the single-cell level and the pseudobulk level results\n",
    "names(bulk.tcell.de) <- paste0(names(bulk.tcell.de), \".bulk\")\n",
    "bulk.tcell.de$gene <- rownames(bulk.tcell.de)\n",
    "\n",
    "names(tcell.de) <- paste0(names(tcell.de), \".sc\")\n",
    "tcell.de$gene <- rownames(tcell.de)\n",
    "\n",
    "merge_dat <- merge(tcell.de, bulk.tcell.de, by = \"gene\")\n",
    "merge_dat <- merge_dat[order(merge_dat$p_val_adj.bulk), ]\n",
    "\n",
    "# Number of genes that are marginally significant in both; marginally significant only in bulk; and marginally significant only in single-cell\n",
    "common <- merge_dat$gene[which(merge_dat$p_val_adj.bulk < 0.05 & \n",
    "                                merge_dat$p_val_adj.sc < 0.05 & \n",
    "                                merge_dat$avg_log2FC.bulk > 0.5 & \n",
    "                                merge_dat$avg_log2FC.sc > 0.5)]\n",
    "only_sc <- merge_dat$gene[which(merge_dat$p_val_adj.bulk > 0.05 & \n",
    "                                merge_dat$p_val_adj.sc < 0.05 & \n",
    "                                merge_dat$avg_log2FC.sc > 0.5)]\n",
    "only_bulk <- merge_dat$gene[which(merge_dat$p_val_adj.bulk < 0.05 & \n",
    "                                  merge_dat$p_val_adj.sc > 0.05 & \n",
    "                                  merge_dat$avg_log2FC.bulk > 0.5)]\n",
    "print(paste0('# Common: ', length(common)))\n",
    "print(paste0('# Only in bulk: ', length(only_bulk)))\n",
    "print(paste0('# Only in single-cell: ', length(only_sc)))"
   ]
  },
  {
   "cell_type": "code",
   "execution_count": 0,
   "metadata": {
    "application/vnd.databricks.v1+cell": {
     "cellMetadata": {
      "byteLimit": 2048000,
      "rowLimit": 10000
     },
     "inputWidgets": {},
     "nuid": "bfbaf018-dc15-45dc-8443-38fe232aedad",
     "showTitle": false,
     "tableResultSettingsMap": {},
     "title": ""
    }
   },
   "outputs": [],
   "source": [
    "common <- merge_dat$gene[which(merge_dat$p_val_adj.bulk < 0.05 & \n",
    "                                merge_dat$p_val_adj.sc < 0.05 & \n",
    "                                merge_dat$avg_log2FC.bulk > 0.5 & \n",
    "                                merge_dat$avg_log2FC.sc > 0.5)]\n",
    "common <- common[order(merge_dat$p_val_adj.bulk[match(common, merge_dat$gene)])]\n",
    "print(common[1:20])"
   ]
  },
  {
   "cell_type": "code",
   "execution_count": 0,
   "metadata": {
    "application/vnd.databricks.v1+cell": {
     "cellMetadata": {
      "byteLimit": 2048000,
      "rowLimit": 10000
     },
     "inputWidgets": {},
     "nuid": "296d38a7-7242-4c04-afe3-ae1ddb14a450",
     "showTitle": false,
     "tableResultSettingsMap": {},
     "title": ""
    }
   },
   "outputs": [],
   "source": [
    "tcell.de.sig <- tcell.de[tcell.de$p_val_adj.sc < 0.05 & abs(tcell.de$avg_log2FC.sc) > 1,]\n",
    "bulk.tcell.de.sig <- bulk.tcell.de[bulk.tcell.de$p_val_adj.bulk < 0.05 & abs(bulk.tcell.de$avg_log2FC.bulk) > 1,]"
   ]
  },
  {
   "cell_type": "code",
   "execution_count": 0,
   "metadata": {
    "application/vnd.databricks.v1+cell": {
     "cellMetadata": {
      "byteLimit": 2048000,
      "rowLimit": 10000
     },
     "inputWidgets": {},
     "nuid": "940aba86-7aed-42e9-8c08-df546ea8dd89",
     "showTitle": false,
     "tableResultSettingsMap": {},
     "title": ""
    }
   },
   "outputs": [],
   "source": [
    "options(repr.plot.width=1000, repr.plot.height=1000)\n"
   ]
  },
  {
   "cell_type": "code",
   "execution_count": 0,
   "metadata": {
    "application/vnd.databricks.v1+cell": {
     "cellMetadata": {
      "byteLimit": 2048000,
      "rowLimit": 10000
     },
     "inputWidgets": {},
     "nuid": "0deb3614-e750-4286-a6e3-1f44321ed568",
     "showTitle": false,
     "tableResultSettingsMap": {},
     "title": ""
    }
   },
   "outputs": [],
   "source": [
    "# Create a list of your gene sets\n",
    "gene_sets <- list(\n",
    "  \"SC\" = rownames(tcell.de.sig),\n",
    "  \"Bulk\" = rownames(bulk.tcell.de.sig)\n",
    ")\n",
    "\n",
    "# Create a new plotting page\n",
    "grid.newpage()\n",
    "\n",
    "# Plot the Venn diagram with colors and title\n",
    "venn.plot <- venn.diagram(\n",
    "  x = gene_sets,\n",
    "  category.names = c(\"FindAllMarkers\", \"Pseudo-Bulk\"), # Use abbreviated names for legend\n",
    "  filename = NULL,  # Set to NULL to plot in RStudio\n",
    "  output = TRUE,\n",
    "  fill = c(\"red\", \"blue\"), # Add colors\n",
    "  main = \"Common DEGs - Alkon - T Cells\", # Add title\n",
    "  cat.dist = c(0.03, 0.03), # Adjust the distance of the category names from the circles\n",
    "  main.cex = 1.3, # Increase title size\n",
    "  main.fontface = \"bold\", # Make title bold\n",
    "  cat.cex = 1.3, # Increase label size\n",
    "  cat.pos = c(-17, 17), # Position labels more on the top\n",
    "  cex = 1.3, # Increase numbers size\n",
    "  cat.col = c(\"red\", \"blue\") # Set label colors to match circles\n",
    ")\n",
    "\n",
    "# Display the plot\n",
    "grid.draw(venn.plot)"
   ]
  },
  {
   "cell_type": "code",
   "execution_count": 0,
   "metadata": {
    "application/vnd.databricks.v1+cell": {
     "cellMetadata": {
      "byteLimit": 2048000,
      "rowLimit": 10000
     },
     "inputWidgets": {},
     "nuid": "d82f3c69-36c8-4381-9a65-0be1f8358a63",
     "showTitle": false,
     "tableResultSettingsMap": {},
     "title": ""
    }
   },
   "outputs": [],
   "source": [
    "tcell.de.orig <- tcell.de.orig %>%\n",
    "    mutate(avg_log2FC = ifelse(cluster == \"HC\", -abs(avg_log2FC), avg_log2FC)) #It is done because the analysis was done only with positive results and to be able to differentiate healthy and lesional I assign that sign\n",
    "    tcell.de.mast <- tcell.de.mast %>%\n",
    "    mutate(avg_log2FC = ifelse(cluster == \"HC\", -abs(avg_log2FC), avg_log2FC)) #It is done because the analysis was done only with positive results and to be able to differentiate healthy and lesional I assign that sign"
   ]
  },
  {
   "cell_type": "code",
   "execution_count": 0,
   "metadata": {
    "application/vnd.databricks.v1+cell": {
     "cellMetadata": {
      "byteLimit": 2048000,
      "rowLimit": 10000
     },
     "inputWidgets": {},
     "nuid": "0b61470d-4b1b-46ff-b3fb-f6ffe074e4c5",
     "showTitle": false,
     "tableResultSettingsMap": {},
     "title": ""
    }
   },
   "outputs": [],
   "source": [
    "options(repr.plot.width=1600, repr.plot.height=1000)\n"
   ]
  },
  {
   "cell_type": "code",
   "execution_count": 0,
   "metadata": {
    "application/vnd.databricks.v1+cell": {
     "cellMetadata": {
      "byteLimit": 2048000,
      "rowLimit": 10000
     },
     "inputWidgets": {},
     "nuid": "c3ee658a-a651-4dda-a5be-bb51d1689ff1",
     "showTitle": false,
     "tableResultSettingsMap": {},
     "title": ""
    }
   },
   "outputs": [],
   "source": [
    "library(patchwork)\n",
    "\n",
    "p1 <- volcano_generator(tcell.de.orig, \"FindAllMarkers\")\n",
    "p2 <- volcano_generator(tcell.de.mast, \"MAST\")\n",
    "p3 <- volcano_generator(bulk.tcell.de.orig, \"Pseudo-bulk DESeq2\")\n",
    "p4 <- volcano_generator(bulk.tcell.limma, \"Pseudo-bulk Limma\")\n",
    "\n",
    "combined_plot <- (p1 + p2) + plot_annotation(\n",
    "                                             theme = theme(plot.title = element_text(hjust = 1, vjust = 2, size = 17, face = \"bold\")))\n",
    "print(combined_plot)"
   ]
  },
  {
   "cell_type": "code",
   "execution_count": 0,
   "metadata": {
    "application/vnd.databricks.v1+cell": {
     "cellMetadata": {
      "byteLimit": 2048000,
      "rowLimit": 10000
     },
     "inputWidgets": {},
     "nuid": "707ce776-ed22-4939-9c89-717fe0448d37",
     "showTitle": false,
     "tableResultSettingsMap": {},
     "title": ""
    }
   },
   "outputs": [],
   "source": [
    "p3 <- volcano_generator(bulk.tcell.de.orig, \"Pseudo-bulk DESeq2\")\n",
    "p4 <- volcano_generator(bulk.tcell.limma, \"Pseudo-bulk Limma\")\n",
    "\n",
    "combined_plot <- (p3 + p4) + plot_annotation(\n",
    "                                             theme = theme(plot.title = element_text(hjust = 1, vjust = 2, size = 17, face = \"bold\")))\n",
    "print(combined_plot)"
   ]
  }
 ],
 "metadata": {
  "application/vnd.databricks.v1+notebook": {
   "computePreferences": null,
   "dashboards": [],
   "environmentMetadata": {
    "base_environment": "",
    "environment_version": "2"
   },
   "inputWidgetPreferences": null,
   "language": "r",
   "notebookMetadata": {
    "pythonIndentUnit": 4
   },
   "notebookName": "02.pseudobulk_vs_findallmarkers_volcanos",
   "widgets": {}
  },
  "language_info": {
   "name": "r"
  }
 },
 "nbformat": 4,
 "nbformat_minor": 0
}
