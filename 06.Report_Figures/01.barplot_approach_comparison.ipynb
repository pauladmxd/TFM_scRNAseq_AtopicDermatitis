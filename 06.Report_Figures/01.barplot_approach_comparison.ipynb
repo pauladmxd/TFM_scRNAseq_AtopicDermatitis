{
 "cells": [
  {
   "cell_type": "markdown",
   "metadata": {
    "application/vnd.databricks.v1+cell": {
     "cellMetadata": {},
     "inputWidgets": {},
     "nuid": "2b6cb421-abb0-44e9-b275-86effc798443",
     "showTitle": false,
     "tableResultSettingsMap": {},
     "title": ""
    }
   },
   "source": [
    "#Barplot approach comparison\n",
    "Create a barplot that compares the number of DEGs obtained on each approach on each cell type"
   ]
  },
  {
   "cell_type": "code",
   "execution_count": 0,
   "metadata": {
    "application/vnd.databricks.v1+cell": {
     "cellMetadata": {
      "byteLimit": 2048000,
      "rowLimit": 10000
     },
     "inputWidgets": {},
     "nuid": "093520e0-9234-4466-8ee2-0d67f62d6ca9",
     "showTitle": false,
     "tableResultSettingsMap": {},
     "title": ""
    }
   },
   "outputs": [],
   "source": [
    ".libPaths(c(\"/dbfs/home/jtrincado@almirall.com/my_r_packages/Seurat\", .libPaths()))\n",
    "library(ggplot2)\n",
    "library(openxlsx)\n",
    "library(dplyr)"
   ]
  },
  {
   "cell_type": "code",
   "execution_count": 0,
   "metadata": {
    "application/vnd.databricks.v1+cell": {
     "cellMetadata": {
      "byteLimit": 2048000,
      "rowLimit": 10000
     },
     "inputWidgets": {},
     "nuid": "031cd7c9-887c-466a-9132-cc6e4719af22",
     "showTitle": false,
     "tableResultSettingsMap": {},
     "title": ""
    }
   },
   "outputs": [],
   "source": [
    "bulk.fb.de.alkon <- read.xlsx(\"/dbfs/mnt/sandbox/TFM_PAULA/Alkon/pseudobulk/alkon_fb_LvsHC_bulk_v2.xlsx\")\n",
    "bulk.treg.de.alkon <- read.xlsx(\"/dbfs/mnt/sandbox/TFM_PAULA/Alkon/pseudobulk/alkon_treg_LvsHC_bulk_v2.xlsx\")\n",
    "bulk.kc.de.alkon <- read.xlsx(\"/dbfs/mnt/sandbox/TFM_PAULA/Alkon/pseudobulk/alkon_kc_LvsHC_bulk_v2.xlsx\")\n",
    "bulk.tcell.de.alkon <- read.xlsx(\"/dbfs/mnt/sandbox/TFM_PAULA/Alkon/pseudobulk/alkon_tcell_LvsHC_bulk_v2.xlsx\")\n",
    "bulk.macro.de.alkon <- read.xlsx(\"/dbfs/mnt/sandbox/TFM_PAULA/Alkon/pseudobulk/alkon_macro_LvsHC_bulk_v2.xlsx\")"
   ]
  },
  {
   "cell_type": "code",
   "execution_count": 0,
   "metadata": {
    "application/vnd.databricks.v1+cell": {
     "cellMetadata": {
      "byteLimit": 2048000,
      "rowLimit": 10000
     },
     "inputWidgets": {},
     "nuid": "73e343b4-9ada-421b-9fd2-10cfe0894e07",
     "showTitle": false,
     "tableResultSettingsMap": {},
     "title": ""
    }
   },
   "outputs": [],
   "source": [
    "bulk.fb.de.reynolds <- read.xlsx(\"/dbfs/mnt/sandbox/TFM_PAULA/Reynolds/LvsHC/pseudobulk/reynolds_fb_LvsHC_bulk_v2.xlsx\")\n",
    "bulk.treg.de.reynolds <- read.xlsx(\"/dbfs/mnt/sandbox/TFM_PAULA/Reynolds/LvsHC/pseudobulk/reynolds_treg_LvsHC_bulk_v2.xlsx\")\n",
    "bulk.kc.de.reynolds <- read.xlsx(\"/dbfs/mnt/sandbox/TFM_PAULA/Reynolds/LvsHC/pseudobulk/reynolds_kc_LvsHC_bulk_v2.xlsx\")\n",
    "bulk.tcell.de.reynolds <- read.xlsx(\"/dbfs/mnt/sandbox/TFM_PAULA/Reynolds/LvsHC/pseudobulk/reynolds_tcell_LvsHC_bulk_v2.xlsx\")\n",
    "bulk.macro.de.reynolds <- read.xlsx(\"/dbfs/mnt/sandbox/TFM_PAULA/Reynolds/LvsHC/pseudobulk/reynolds_macro_LvsHC_bulk_v2.xlsx\")"
   ]
  },
  {
   "cell_type": "code",
   "execution_count": 0,
   "metadata": {
    "application/vnd.databricks.v1+cell": {
     "cellMetadata": {
      "byteLimit": 2048000,
      "rowLimit": 10000
     },
     "inputWidgets": {},
     "nuid": "e3b3ca94-128f-4dea-8cc0-a43fb33c8266",
     "showTitle": false,
     "tableResultSettingsMap": {},
     "title": ""
    }
   },
   "outputs": [],
   "source": [
    "treg.markers.alkon <- read.xlsx(\"/dbfs/mnt/sandbox/TFM_PAULA/Alkon/alkon_treg_LvsHC_allmarkers.xlsx\")\n",
    "tcell.markers.alkon <- read.xlsx(\"/dbfs/mnt/sandbox/TFM_PAULA/Alkon/alkon_tcell_LvsHC_allmarkers.xlsx\")\n",
    "kc.markers.alkon <- read.xlsx(\"/dbfs/mnt/sandbox/TFM_PAULA/Alkon/alkon_kc_LvsHC_allmarkers.xlsx\")\n",
    "fb.markers.alkon <- read.xlsx(\"/dbfs/mnt/sandbox/TFM_PAULA/Alkon/alkon_fb_LvsHC_allmarkers.xlsx\")\n",
    "macro.markers.alkon <- read.xlsx(\"/dbfs/mnt/sandbox/TFM_PAULA/Alkon/alkon_macro_LvsHC_allmarkers.xlsx\")"
   ]
  },
  {
   "cell_type": "code",
   "execution_count": 0,
   "metadata": {
    "application/vnd.databricks.v1+cell": {
     "cellMetadata": {
      "byteLimit": 2048000,
      "rowLimit": 10000
     },
     "inputWidgets": {},
     "nuid": "b221b7e5-a305-4775-a1e0-4901ca249043",
     "showTitle": false,
     "tableResultSettingsMap": {},
     "title": ""
    }
   },
   "outputs": [],
   "source": [
    "tcell.markers.reynolds <- read.xlsx(\"/dbfs/mnt/sandbox/TFM_PAULA/Reynolds/LvsHC/reynolds_LvsHC_tcell_allmarkers.xlsx\")\n",
    "macro.markers.reynolds <- read.xlsx(\"/dbfs/mnt/sandbox/TFM_PAULA/Reynolds/LvsHC/reynolds_macro_LvsHC_allmarkers.xlsx\")\n",
    "fb.markers.reynolds <- read.xlsx(\"/dbfs/mnt/sandbox/TFM_PAULA/Reynolds/LvsHC/reynolds_fb_LvsHC_allmarkers.xlsx\")\n",
    "kc.markers.reynolds <- read.xlsx(\"/dbfs/mnt/sandbox/TFM_PAULA/Reynolds/LvsHC/reynolds_kc_LvsHC_allmarkers.xlsx\")\n",
    "treg.markers.reynolds <- read.xlsx(\"/dbfs/mnt/sandbox/TFM_PAULA/Reynolds/LvsHC/reynolds_treg_LvsHC_allmarkers.xlsx\")"
   ]
  },
  {
   "cell_type": "code",
   "execution_count": 0,
   "metadata": {
    "application/vnd.databricks.v1+cell": {
     "cellMetadata": {
      "byteLimit": 2048000,
      "rowLimit": 10000
     },
     "inputWidgets": {},
     "nuid": "8e6eae59-379f-461c-9152-06719fc476d1",
     "showTitle": false,
     "tableResultSettingsMap": {},
     "title": ""
    }
   },
   "outputs": [],
   "source": [
    "bulk.fb.de.cov <- read.xlsx(\"/dbfs/mnt/sandbox/TFM_PAULA/merged_AR_results/adjusting_cov_dataset_DEGs/bulk.fb.de.cov.xlsx\")\n",
    "bulk.treg.de.cov <- read.xlsx(\"/dbfs/mnt/sandbox/TFM_PAULA/merged_AR_results/adjusting_cov_dataset_DEGs/bulk.treg.de.cov.xlsx\")\n",
    "bulk.kc.de.cov <- read.xlsx(\"/dbfs/mnt/sandbox/TFM_PAULA/merged_AR_results/adjusting_cov_dataset_DEGs/bulk.kc.de.cov.xlsx\")\n",
    "bulk.tcell.de.cov <- read.xlsx(\"/dbfs/mnt/sandbox/TFM_PAULA/merged_AR_results/adjusting_cov_dataset_DEGs/bulk.tcell.de.cov.xlsx\")\n",
    "bulk.macro.de.cov <- read.xlsx(\"/dbfs/mnt/sandbox/TFM_PAULA/merged_AR_results/adjusting_cov_dataset_DEGs/bulk.macro.de.cov.xlsx\")"
   ]
  },
  {
   "cell_type": "code",
   "execution_count": 0,
   "metadata": {
    "application/vnd.databricks.v1+cell": {
     "cellMetadata": {
      "byteLimit": 2048000,
      "rowLimit": 10000
     },
     "inputWidgets": {},
     "nuid": "48871bb0-92f0-4502-aa4c-915d711662c1",
     "showTitle": false,
     "tableResultSettingsMap": {},
     "title": ""
    }
   },
   "outputs": [],
   "source": [
    "# Add a column to each dataframe to indicate the cell type\n",
    "bulk.fb.de.alkon$CellType <- \"FB\"\n",
    "bulk.treg.de.alkon$CellType <- \"Treg\"\n",
    "bulk.kc.de.alkon$CellType <- \"KC\"\n",
    "bulk.tcell.de.alkon$CellType <- \"Tcell\"\n",
    "bulk.macro.de.alkon$CellType <- \"Macro\"\n",
    "\n",
    "# Combine all dataframes into one\n",
    "all_bulk_markers.alkon <- bind_rows(bulk.fb.de.alkon, bulk.treg.de.alkon, bulk.kc.de.alkon, bulk.tcell.de.alkon, bulk.macro.de.alkon)\n",
    "\n",
    "# Filter p.adj less than 0.05\n",
    "all_bulk_markers.alkon <- all_bulk_markers.alkon %>% filter(p_val_adj < 0.05)"
   ]
  },
  {
   "cell_type": "code",
   "execution_count": 0,
   "metadata": {
    "application/vnd.databricks.v1+cell": {
     "cellMetadata": {
      "byteLimit": 2048000,
      "rowLimit": 10000
     },
     "inputWidgets": {},
     "nuid": "1e499594-2326-411a-a3af-3aa83d988cd3",
     "showTitle": false,
     "tableResultSettingsMap": {},
     "title": ""
    }
   },
   "outputs": [],
   "source": [
    "# Add a column to each dataframe to indicate the cell type\n",
    "bulk.fb.de.reynolds$CellType <- \"FB\"\n",
    "bulk.treg.de.reynolds$CellType <- \"Treg\"\n",
    "bulk.kc.de.reynolds$CellType <- \"KC\"\n",
    "bulk.tcell.de.reynolds$CellType <- \"Tcell\"\n",
    "bulk.macro.de.reynolds$CellType <- \"Macro\"\n",
    "\n",
    "# Combine all dataframes into one\n",
    "all_bulk_markers.reynolds <- bind_rows(bulk.fb.de.reynolds, bulk.treg.de.reynolds, bulk.kc.de.reynolds, bulk.tcell.de.reynolds, bulk.macro.de.reynolds)\n",
    "\n",
    "# Filter p.adj less than 0.05\n",
    "all_bulk_markers.reynolds <- all_bulk_markers.reynolds %>% filter(p_val_adj < 0.05)"
   ]
  },
  {
   "cell_type": "code",
   "execution_count": 0,
   "metadata": {
    "application/vnd.databricks.v1+cell": {
     "cellMetadata": {
      "byteLimit": 2048000,
      "rowLimit": 10000
     },
     "inputWidgets": {},
     "nuid": "1c8e30d6-83fe-4f55-b27e-2304e688e2e6",
     "showTitle": false,
     "tableResultSettingsMap": {},
     "title": ""
    }
   },
   "outputs": [],
   "source": [
    "library(dplyr)\n",
    "\n",
    "# Add a column to each dataframe to indicate the cell type\n",
    "treg.markers.alkon$CellType <- \"Treg\"\n",
    "tcell.markers.alkon$CellType <- \"Tcell\"\n",
    "kc.markers.alkon$CellType <- \"KC\"\n",
    "fb.markers.alkon$CellType <- \"FB\"\n",
    "macro.markers.alkon$CellType <- \"Macro\"\n",
    "\n",
    "# Combine all dataframes into one\n",
    "all_markers.alkon <- bind_rows(treg.markers.alkon, tcell.markers.alkon, kc.markers.alkon, fb.markers.alkon, macro.markers.alkon)\n",
    "\n",
    "# Filter p.adj less than 0.05\n",
    "all_markers.alkon <- all_markers.alkon %>% filter(p_val_adj < 0.05)"
   ]
  },
  {
   "cell_type": "code",
   "execution_count": 0,
   "metadata": {
    "application/vnd.databricks.v1+cell": {
     "cellMetadata": {
      "byteLimit": 2048000,
      "rowLimit": 10000
     },
     "inputWidgets": {},
     "nuid": "903d076c-d61d-43b9-81a5-abf0666eadb0",
     "showTitle": false,
     "tableResultSettingsMap": {},
     "title": ""
    }
   },
   "outputs": [],
   "source": [
    "\n",
    "tcell.markers.reynolds$CellType <- \"Tcell\"\n",
    "macro.markers.reynolds$CellType <- \"Macro\"\n",
    "fb.markers.reynolds$CellType <- \"FB\"\n",
    "kc.markers.reynolds$CellType <- \"KC\"\n",
    "treg.markers.reynolds$CellType <- \"Treg\"\n",
    "\n",
    "# Combine all dataframes into one\n",
    "all_markers.reynolds <- bind_rows(treg.markers.reynolds, tcell.markers.reynolds, kc.markers.reynolds, fb.markers.reynolds, macro.markers.reynolds)\n",
    "\n",
    "# Filter p.adj less than 0.05\n",
    "all_markers.reynolds <- all_markers.reynolds %>% filter(p_val_adj < 0.05)"
   ]
  },
  {
   "cell_type": "code",
   "execution_count": 0,
   "metadata": {
    "application/vnd.databricks.v1+cell": {
     "cellMetadata": {
      "byteLimit": 2048000,
      "rowLimit": 10000
     },
     "inputWidgets": {},
     "nuid": "fb4fb3ed-eba4-41cf-8624-85cbd0afba5f",
     "showTitle": false,
     "tableResultSettingsMap": {},
     "title": ""
    }
   },
   "outputs": [],
   "source": [
    "# Add a column to each dataframe to indicate the cell type\n",
    "bulk.fb.de.cov$CellType <- \"FB\"\n",
    "bulk.treg.de.cov$CellType <- \"Treg\"\n",
    "bulk.kc.de.cov$CellType <- \"KC\"\n",
    "bulk.tcell.de.cov$CellType <- \"Tcell\"\n",
    "bulk.macro.de.cov$CellType <- \"Macro\"\n",
    "\n",
    "# Combine all dataframes into one\n",
    "all_bulk_markers.cov <- bind_rows(bulk.fb.de.cov, bulk.treg.de.cov, bulk.kc.de.cov, bulk.tcell.de.cov, bulk.macro.de.cov)\n",
    "\n",
    "# Filter p.adj less than 0.05\n",
    "all_bulk_markers.cov <- all_bulk_markers.cov %>% filter(padj < 0.05)"
   ]
  },
  {
   "cell_type": "code",
   "execution_count": 0,
   "metadata": {
    "application/vnd.databricks.v1+cell": {
     "cellMetadata": {
      "byteLimit": 2048000,
      "rowLimit": 10000
     },
     "inputWidgets": {},
     "nuid": "20bd20be-b7ac-4313-8e14-5eb8a11bf146",
     "showTitle": false,
     "tableResultSettingsMap": {},
     "title": ""
    }
   },
   "outputs": [],
   "source": [
    "unique(all_markers.reynolds$cluster)"
   ]
  },
  {
   "cell_type": "code",
   "execution_count": 0,
   "metadata": {
    "application/vnd.databricks.v1+cell": {
     "cellMetadata": {
      "byteLimit": 2048000,
      "rowLimit": 10000
     },
     "inputWidgets": {},
     "nuid": "bfce4562-6f8a-4ef5-ba05-6f536dbe71b7",
     "showTitle": false,
     "tableResultSettingsMap": {},
     "title": ""
    }
   },
   "outputs": [],
   "source": [
    "all_markers.alkon$Approach <- \"FindAllMarkers_Alkon\"\n",
    "all_markers.reynolds$Approach <- \"FindAllMarkers_Reynolds\"\n",
    "all_bulk_markers.alkon$Approach <- \"Pseudobulk_Alkon\"\n",
    "all_bulk_markers.reynolds$Approach <- \"Pseudobulk_Reynolds\"\n",
    "all_bulk_markers.cov$Approach <- \"Merged_Adjusted\"\n",
    "\n",
    "all_bulk_markers.cov <- all_bulk_markers.cov %>%\n",
    "  rename(avg_log2FC = log2FoldChange)\n",
    "\n",
    "all_markers.alkon <- all_markers.alkon %>%\n",
    "  mutate(avg_log2FC = ifelse(cluster == \"HC\", -avg_log2FC, avg_log2FC))\n",
    "\n",
    "all_markers.reynolds <- all_markers.reynolds %>%\n",
    "  mutate(avg_log2FC = ifelse(cluster == \"healthy\", -avg_log2FC, avg_log2FC))\n",
    "\n",
    "combined_markers <- bind_rows(all_markers.alkon, all_markers.reynolds, all_bulk_markers.alkon, all_bulk_markers.reynolds, all_bulk_markers.cov)\n",
    "\n",
    "combined_markers_1 <- bind_rows(all_markers.alkon, all_markers.reynolds, all_bulk_markers.alkon, all_bulk_markers.reynolds)"
   ]
  },
  {
   "cell_type": "code",
   "execution_count": 0,
   "metadata": {
    "application/vnd.databricks.v1+cell": {
     "cellMetadata": {
      "byteLimit": 2048000,
      "rowLimit": 10000
     },
     "inputWidgets": {},
     "nuid": "bb0b11c5-e83c-4acd-9c48-2960c2287b4c",
     "showTitle": false,
     "tableResultSettingsMap": {},
     "title": ""
    }
   },
   "outputs": [],
   "source": [
    "# Calculate total number of DEGs up and down\n",
    "combined_markers <- combined_markers %>%\n",
    "  group_by(CellType, Approach) %>%\n",
    "  mutate(total_degs_up = sum(avg_log2FC > 0),\n",
    "         total_degs_down = sum(avg_log2FC < 0))\n",
    "\n",
    "# Set factor levels for Approach to desired order\n",
    "combined_markers$Approach <- factor(combined_markers$Approach, levels = c(\"FindAllMarkers_Alkon\", \"Pseudobulk_Alkon\", \"FindAllMarkers_Reynolds\", \"Pseudobulk_Reynolds\", \"Merged_Adjusted\"))\n",
    "\n",
    "# Calculate total number of DEGs up and down\n",
    "combined_markers_1 <- combined_markers_1 %>%\n",
    "  group_by(CellType, Approach) %>%\n",
    "  mutate(total_degs_up = sum(avg_log2FC > 0),\n",
    "         total_degs_down = sum(avg_log2FC < 0))\n",
    "\n",
    "# Set factor levels for Approach to desired order\n",
    "combined_markers_1$Approach <- factor(combined_markers_1$Approach, levels = c(\"FindAllMarkers_Alkon\", \"Pseudobulk_Alkon\", \"FindAllMarkers_Reynolds\", \"Pseudobulk_Reynolds\"))"
   ]
  },
  {
   "cell_type": "code",
   "execution_count": 0,
   "metadata": {
    "application/vnd.databricks.v1+cell": {
     "cellMetadata": {
      "byteLimit": 2048000,
      "rowLimit": 10000
     },
     "inputWidgets": {},
     "nuid": "90146210-7953-4d22-83f9-a5a3c4bb121b",
     "showTitle": false,
     "tableResultSettingsMap": {},
     "title": ""
    }
   },
   "outputs": [],
   "source": [
    "\n",
    "options(repr.plot.width=1300, repr.plot.height=700)"
   ]
  },
  {
   "cell_type": "code",
   "execution_count": 0,
   "metadata": {
    "application/vnd.databricks.v1+cell": {
     "cellMetadata": {},
     "inputWidgets": {},
     "nuid": "924c57ec-de8f-41f3-be00-75edb27e2525",
     "showTitle": false,
     "tableResultSettingsMap": {},
     "title": ""
    }
   },
   "outputs": [],
   "source": [
    "library(tidyverse)\n",
    " \n",
    "# Combine up and down DEGs into a long format\n",
    "plot_data <- combined_markers %>%\n",
    "  distinct(CellType, Approach, total_degs_up, total_degs_down) %>%\n",
    "  pivot_longer(cols = c(total_degs_up, total_degs_down), \n",
    "               names_to = \"Direction\", values_to = \"Count\") %>%\n",
    "  mutate(Count = ifelse(Direction == \"total_degs_down\", -Count, Count),\n",
    "         Direction = recode(Direction, \n",
    "                            \"total_degs_up\" = \"Upregulated\", \n",
    "                            \"total_degs_down\" = \"Downregulated\"))\n",
    "\n",
    "# Plot\n",
    "ggplot(plot_data, aes(x = CellType, y = Count, fill = Approach)) +\n",
    "  geom_bar(stat = \"identity\", position = position_dodge(width = 0.9)) +\n",
    "  geom_text(aes(label = abs(Count), vjust = ifelse(Count > 0, -0.3, 1.3)),\n",
    "            size = 3, position = position_dodge(width = 0.9)) +\n",
    "  geom_hline(yintercept = 0, linetype = \"dashed\", color = \"red\") +\n",
    "  facet_wrap(~Approach, scales = \"free_x\", nrow = 1) +\n",
    "  scale_fill_manual(values = c(\n",
    "    \"FindAllMarkers_Alkon\" = \"#4CAF50\",\n",
    "    \"Pseudobulk_Alkon\" = \"#006400\",\n",
    "    \"FindAllMarkers_Reynolds\" = \"#FF9800\",\n",
    "    \"Pseudobulk_Reynolds\" = \"#A35011\",\n",
    "    \"Merged_Adjusted\" = \"#0000FF\"\n",
    "  )) +\n",
    "  theme_minimal() +\n",
    "  labs(title = \"Number of DEGs per cell type, dataset and approach\",\n",
    "       y = \"Number of DEGs\", x = NULL) +\n",
    "  theme(axis.text.x = element_text(angle = 90, hjust = 1, size = 12))"
   ]
  },
  {
   "cell_type": "markdown",
   "metadata": {
    "application/vnd.databricks.v1+cell": {
     "cellMetadata": {},
     "inputWidgets": {},
     "nuid": "76b39539-1fb1-419a-aeb8-9fba056cfe2a",
     "showTitle": false,
     "tableResultSettingsMap": {},
     "title": ""
    }
   },
   "source": [
    "###Plot log2FC range"
   ]
  },
  {
   "cell_type": "code",
   "execution_count": 0,
   "metadata": {
    "application/vnd.databricks.v1+cell": {
     "cellMetadata": {
      "byteLimit": 2048000,
      "rowLimit": 10000
     },
     "inputWidgets": {},
     "nuid": "7d549bb6-6704-4feb-b415-1c9555d0bdbc",
     "showTitle": false,
     "tableResultSettingsMap": {},
     "title": ""
    }
   },
   "outputs": [],
   "source": [
    "# Example plot\n",
    "ggplot(combined_markers, aes(x = CellType, y = avg_log2FC, fill = Approach)) +\n",
    " geom_bar(stat = \"identity\", position = position_dodge(width = 0.9)) +\n",
    " geom_text(data = combined_markers %>% filter(avg_log2FC == max(avg_log2FC)), \n",
    "           aes(label = as.character(total_degs_up), vjust = -0.5), size = 3, \n",
    "           position = position_dodge(width = 0.9)) +\n",
    " geom_text(data = combined_markers %>% filter(avg_log2FC == min(avg_log2FC)), \n",
    "           aes(label = as.character(total_degs_down), vjust = 1.5), size = 3, \n",
    "           position = position_dodge(width = 0.9)) +\n",
    " geom_hline(yintercept = 0, linetype = \"dashed\", color = \"red\") +\n",
    " facet_wrap(~Approach, scales = \"free_x\", nrow = 1) +\n",
    " scale_fill_manual(values = c(\"FindAllMarkers_Alkon\" = \"#4CAF50\", \"Pseudobulk_Alkon\" = \"#006400\",\n",
    "                              \"FindAllMarkers_Reynolds\" = \"#FF9800\", \"Pseudobulk_Reynolds\" = \"#A35011\", \"Merged_Adjusted\" = \"#0000FF\")) +\n",
    " theme_minimal() +\n",
    " labs(title = \"Number of DEGs per cell type, dataset and approach\",\n",
    "      y = \"log2FC\", x = NULL, size = 3) +\n",
    " theme(axis.text.x = element_text(angle = 90, hjust = 1, size = 12))"
   ]
  }
 ],
 "metadata": {
  "application/vnd.databricks.v1+notebook": {
   "computePreferences": null,
   "dashboards": [],
   "environmentMetadata": {
    "base_environment": "",
    "environment_version": "2"
   },
   "inputWidgetPreferences": null,
   "language": "r",
   "notebookMetadata": {
    "pythonIndentUnit": 4
   },
   "notebookName": "01.barplot_approach_comparison",
   "widgets": {}
  },
  "language_info": {
   "name": "r"
  }
 },
 "nbformat": 4,
 "nbformat_minor": 0
}
