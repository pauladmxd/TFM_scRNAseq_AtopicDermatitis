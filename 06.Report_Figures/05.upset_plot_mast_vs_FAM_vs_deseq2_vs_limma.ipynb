{
 "cells": [
  {
   "cell_type": "markdown",
   "metadata": {
    "application/vnd.databricks.v1+cell": {
     "cellMetadata": {},
     "inputWidgets": {},
     "nuid": "42621208-8f4d-41ee-baac-dd74708f8005",
     "showTitle": false,
     "tableResultSettingsMap": {},
     "title": ""
    }
   },
   "source": [
    "#Upset plots to compare the different methods of DEA, including the latest additions.\n",
    "\n",
    "Mast, Limma, Deseq2 and FindAllMarkers seurat"
   ]
  },
  {
   "cell_type": "code",
   "execution_count": 0,
   "metadata": {
    "application/vnd.databricks.v1+cell": {
     "cellMetadata": {
      "byteLimit": 2048000,
      "rowLimit": 10000
     },
     "inputWidgets": {},
     "nuid": "031f357c-0b04-456b-afa4-e69b7bae975e",
     "showTitle": false,
     "tableResultSettingsMap": {},
     "title": ""
    }
   },
   "outputs": [],
   "source": [
    "#Load libraries\n",
    "## Append the library folder\n",
    ".libPaths(c(\"/dbfs/home/boriol@almirall.com/my_r_packages/bulkRNASeq_PBMCs_R4.3\", .libPaths()))\n",
    "\n",
    "library(DESeq2)\n",
    "library(UpSetR)\n",
    "library(tidyverse)\n",
    "library(VennDiagram)\n",
    "library(RColorBrewer)\n",
    "\n",
    ".libPaths(c(\"/dbfs/home/jtrincado@almirall.com/my_r_packages/Seurat\", .libPaths()))\n",
    "library(openxlsx)\n",
    "library(enrichplot)\n",
    "library(ggplot2)\n",
    "\n",
    "G_list <- readRDS(\"/dbfs/mnt/sandbox/RNASeq/PBMCs_IL4/pathways/G_list20240710.rds\")\n",
    "G_list_protein_coding <- G_list %>% filter(transcript_biotype == \"protein_coding\")\n",
    "G_list_protein_coding <- G_list_protein_coding %>%unite(\"gene\", ensembl_gene_id:hgnc_symbol, remove = FALSE)"
   ]
  },
  {
   "cell_type": "markdown",
   "metadata": {
    "application/vnd.databricks.v1+cell": {
     "cellMetadata": {},
     "inputWidgets": {},
     "nuid": "c1eefe63-198a-40f5-99bf-4e386e95f6b6",
     "showTitle": false,
     "tableResultSettingsMap": {},
     "title": ""
    }
   },
   "source": [
    "#KC"
   ]
  },
  {
   "cell_type": "markdown",
   "metadata": {
    "application/vnd.databricks.v1+cell": {
     "cellMetadata": {},
     "inputWidgets": {},
     "nuid": "35556c5a-ef89-4ad3-a722-55882053af3b",
     "showTitle": false,
     "tableResultSettingsMap": {},
     "title": ""
    }
   },
   "source": [
    "##Reynolds"
   ]
  },
  {
   "cell_type": "code",
   "execution_count": 0,
   "metadata": {
    "application/vnd.databricks.v1+cell": {
     "cellMetadata": {
      "byteLimit": 2048000,
      "rowLimit": 10000
     },
     "inputWidgets": {},
     "nuid": "75f8221d-4273-4e8d-bbe4-dda1ae3809c0",
     "showTitle": false,
     "tableResultSettingsMap": {},
     "title": ""
    }
   },
   "outputs": [],
   "source": [
    "R.kc.de <- read.xlsx(\"/dbfs/mnt/sandbox/TFM_PAULA/Reynolds/LvsHC/reynolds_kc_LvsHC_allmarkers.xlsx\")\n",
    "rownames(R.kc.de) <- R.kc.de$gene\n",
    "\n",
    "\n",
    "R.bulk.kc.de <- read.xlsx(\"/dbfs/mnt/sandbox/TFM_PAULA/Reynolds/LvsHC/pseudobulk/reynolds_kc_LvsHC_bulk_v2.xlsx\")\n",
    "rownames(R.bulk.kc.de) <- R.bulk.kc.de$gene\n",
    "\n",
    "\n",
    "R.bulk.kc.limma <- read.xlsx(\"/dbfs/mnt/sandbox/TFM_PAULA/Reynolds/LvsHC/pseudobulk/reynolds_limma_results_kc.xlsx\")\n",
    "rownames(R.bulk.kc.limma) <- R.bulk.kc.limma$gene\n",
    "\n",
    "R.kc.de.mast <- read.xlsx(\"/dbfs/mnt/sandbox/TFM_PAULA/Reynolds/LvsHC/MAST_method/reynolds_kc_LvsHC_allmarkers.xlsx\")\n",
    "rownames(R.kc.de.mast) <- R.kc.de.mast$gene"
   ]
  },
  {
   "cell_type": "code",
   "execution_count": 0,
   "metadata": {
    "application/vnd.databricks.v1+cell": {
     "cellMetadata": {
      "byteLimit": 2048000,
      "rowLimit": 10000
     },
     "inputWidgets": {},
     "nuid": "7cc0e8d3-491a-41a3-84ef-85371f44914e",
     "showTitle": false,
     "tableResultSettingsMap": {},
     "title": ""
    }
   },
   "outputs": [],
   "source": [
    "R.kc.de <- R.kc.de %>%\n",
    "    mutate(avg_log2FC = ifelse(cluster == \"healthy\", -abs(avg_log2FC), avg_log2FC)) #It is done because the analysis was done only with positive results and to be able to differentiate healthy and lesional I assign that sign\n",
    "R.kc.de.mast <- R.kc.de.mast %>%\n",
    "    mutate(avg_log2FC = ifelse(cluster == \"healthy\", -abs(avg_log2FC), avg_log2FC)) #It is done because the analysis was done only with positive results and to be able to differentiate healthy and lesional I assign that sign"
   ]
  },
  {
   "cell_type": "code",
   "execution_count": 0,
   "metadata": {
    "application/vnd.databricks.v1+cell": {
     "cellMetadata": {
      "byteLimit": 2048000,
      "rowLimit": 10000
     },
     "inputWidgets": {},
     "nuid": "d8b17258-9a16-4ae3-b7a5-dadb5e0d16ef",
     "showTitle": false,
     "tableResultSettingsMap": {},
     "title": ""
    }
   },
   "outputs": [],
   "source": [
    "R.kc.de <- R.kc.de %>% inner_join(G_list_protein_coding, by = c(\"gene\" = \"hgnc_symbol\"))\n",
    "R.bulk.kc.de <- R.bulk.kc.de %>% inner_join(G_list_protein_coding, by = c(\"gene\" = \"hgnc_symbol\"))\n",
    "R.bulk.kc.limma <- R.bulk.kc.limma %>% inner_join(G_list_protein_coding, by = c(\"gene\" = \"hgnc_symbol\"))\n",
    "R.kc.de.mast <- R.kc.de.mast %>% inner_join(G_list_protein_coding, by = c(\"gene\" = \"hgnc_symbol\"))"
   ]
  },
  {
   "cell_type": "code",
   "execution_count": 0,
   "metadata": {
    "application/vnd.databricks.v1+cell": {
     "cellMetadata": {
      "byteLimit": 2048000,
      "rowLimit": 10000
     },
     "inputWidgets": {},
     "nuid": "f298b807-bded-4c1d-9256-d5f0a3332b04",
     "showTitle": false,
     "tableResultSettingsMap": {},
     "title": ""
    }
   },
   "outputs": [],
   "source": [
    "# DEGs\n",
    "\n",
    "R.kc.de_filtered <- R.kc.de %>% filter(abs(avg_log2FC) > 1, p_val_adj < 0.05) %>% arrange(desc(abs(avg_log2FC)))\n",
    "dim(R.kc.de_filtered)\n",
    "\n",
    "R.bulk.kc.de_filtered <- R.bulk.kc.de %>% filter(abs(avg_log2FC) > 1, p_val_adj < 0.05) %>% arrange(desc(abs(avg_log2FC)))\n",
    "dim(R.bulk.kc.de_filtered)\n",
    "\n",
    "R.bulk.kc.limma_filtered <- R.bulk.kc.limma %>% filter(abs(logFC) > 1, adj.P.Val < 0.05) %>% arrange(desc(abs(logFC)))\n",
    "dim(R.bulk.kc.limma_filtered)\n",
    "\n",
    "R.kc.de.mast_filtered <- R.kc.de.mast %>% filter(abs(avg_log2FC) > 1, p_val_adj < 0.05) %>% arrange(desc(abs(avg_log2FC)))\n",
    "dim(R.kc.de.mast_filtered)"
   ]
  },
  {
   "cell_type": "code",
   "execution_count": 0,
   "metadata": {
    "application/vnd.databricks.v1+cell": {
     "cellMetadata": {},
     "inputWidgets": {},
     "nuid": "76ed72f0-0378-466f-8cfb-dbcb26b3a447",
     "showTitle": false,
     "tableResultSettingsMap": {},
     "title": ""
    }
   },
   "outputs": [],
   "source": []
  },
  {
   "cell_type": "markdown",
   "metadata": {
    "application/vnd.databricks.v1+cell": {
     "cellMetadata": {},
     "inputWidgets": {},
     "nuid": "7c4f5f3d-102c-4cd4-b2d0-c7b7571675fc",
     "showTitle": false,
     "tableResultSettingsMap": {},
     "title": ""
    }
   },
   "source": [
    "## Reynolds KC Upset plot"
   ]
  },
  {
   "cell_type": "code",
   "execution_count": 0,
   "metadata": {
    "application/vnd.databricks.v1+cell": {
     "cellMetadata": {
      "byteLimit": 2048000,
      "rowLimit": 10000
     },
     "inputWidgets": {},
     "nuid": "59757ec4-8436-40b1-b5cc-44ea7b353ba7",
     "showTitle": false,
     "tableResultSettingsMap": {},
     "title": ""
    }
   },
   "outputs": [],
   "source": [
    "# Plot upregulated\n",
    "genes_kc <- list(\n",
    "  \"DEGs_KC_FindAllMarkers\" = R.kc.de_filtered$gene, \n",
    "  \"DEGs_KC_MAST\" = R.kc.de.mast_filtered$gene, \n",
    "  \"DEGs_KC_DESeq2\" = R.bulk.kc.de_filtered$gene, \n",
    "  \"DEGs_KC_Limma\" = R.bulk.kc.limma_filtered$gene\n",
    ")\n",
    "genes_kc"
   ]
  },
  {
   "cell_type": "code",
   "execution_count": 0,
   "metadata": {
    "application/vnd.databricks.v1+cell": {
     "cellMetadata": {
      "byteLimit": 2048000,
      "rowLimit": 10000
     },
     "inputWidgets": {},
     "nuid": "46716cec-4f73-4e88-a402-92df99463dbb",
     "showTitle": false,
     "tableResultSettingsMap": {},
     "title": ""
    }
   },
   "outputs": [],
   "source": [
    "options(repr.plot.width=1300, repr.plot.height=700)"
   ]
  },
  {
   "cell_type": "code",
   "execution_count": 0,
   "metadata": {
    "application/vnd.databricks.v1+cell": {
     "cellMetadata": {
      "byteLimit": 2048000,
      "rowLimit": 10000
     },
     "inputWidgets": {},
     "nuid": "3706033b-c1c8-424b-be7e-cb08189b5245",
     "showTitle": false,
     "tableResultSettingsMap": {},
     "title": ""
    }
   },
   "outputs": [],
   "source": [
    "upset(\n",
    "  fromList(genes_kc), \n",
    "  order.by = \"freq\", \n",
    "  main.bar.color = \"#393D47\", \n",
    "  sets.bar.color = \"darkgrey\", \n",
    "  text.scale = c(1.5, 1.5, 1.2, 1.2, 1.5, 2))"
   ]
  },
  {
   "cell_type": "markdown",
   "metadata": {
    "application/vnd.databricks.v1+cell": {
     "cellMetadata": {},
     "inputWidgets": {},
     "nuid": "73e814e4-82aa-4fe1-bb4a-311889a4dd89",
     "showTitle": false,
     "tableResultSettingsMap": {},
     "title": ""
    }
   },
   "source": [
    "##Alkon"
   ]
  },
  {
   "cell_type": "code",
   "execution_count": 0,
   "metadata": {
    "application/vnd.databricks.v1+cell": {
     "cellMetadata": {
      "byteLimit": 2048000,
      "rowLimit": 10000
     },
     "inputWidgets": {},
     "nuid": "12c62de1-9604-4738-b809-ecffbf351852",
     "showTitle": false,
     "tableResultSettingsMap": {},
     "title": ""
    }
   },
   "outputs": [],
   "source": [
    "A.kc.de <- read.xlsx(\"/dbfs/mnt/sandbox/TFM_PAULA/Alkon/alkon_kc_LvsHC_allmarkers.xlsx\")\n",
    "rownames(A.kc.de) <- A.kc.de$gene\n",
    "\n",
    "A.bulk.kc.de <- read.xlsx(\"/dbfs/mnt/sandbox/TFM_PAULA/Alkon/pseudobulk/alkon_kc_LvsHC_bulk_v2.xlsx\")\n",
    "rownames(A.bulk.kc.de) <- A.bulk.kc.de$gene\n",
    "\n",
    "A.bulk.kc.limma <- read.xlsx(\"/dbfs/mnt/sandbox/TFM_PAULA/Alkon/pseudobulk/alkon_limma_results_kc.xlsx\")\n",
    "rownames(A.bulk.kc.limma) <- A.bulk.kc.limma$gene\n",
    "\n",
    "A.kc.de.mast <- read.xlsx(\"/dbfs/mnt/sandbox/TFM_PAULA/Alkon/MAST_method/alkon_kc_LvsHC_allmarkers.xlsx\")\n",
    "rownames(A.kc.de.mast) <- A.kc.de.mast$gene"
   ]
  },
  {
   "cell_type": "code",
   "execution_count": 0,
   "metadata": {
    "application/vnd.databricks.v1+cell": {
     "cellMetadata": {
      "byteLimit": 2048000,
      "rowLimit": 10000
     },
     "inputWidgets": {},
     "nuid": "63b09c74-5225-49c4-b3f5-82a53e95d94f",
     "showTitle": false,
     "tableResultSettingsMap": {},
     "title": ""
    }
   },
   "outputs": [],
   "source": [
    "A.kc.de <- A.kc.de %>%\n",
    "    mutate(avg_log2FC = ifelse(cluster == \"HC\", -abs(avg_log2FC), avg_log2FC)) #It is done because the analysis was done only with positive results and to be able to differentiate healthy and lesional I assign that sign\n",
    "A.kc.de.mast <- A.kc.de.mast %>%\n",
    "    mutate(avg_log2FC = ifelse(cluster == \"HC\", -abs(avg_log2FC), avg_log2FC)) #It is done because the analysis was done only with positive results and to be able to differentiate healthy and lesional I assign that sign"
   ]
  },
  {
   "cell_type": "code",
   "execution_count": 0,
   "metadata": {
    "application/vnd.databricks.v1+cell": {
     "cellMetadata": {
      "byteLimit": 2048000,
      "rowLimit": 10000
     },
     "inputWidgets": {},
     "nuid": "d93633d7-c4ee-4952-bc87-c884c0910be3",
     "showTitle": false,
     "tableResultSettingsMap": {},
     "title": ""
    }
   },
   "outputs": [],
   "source": [
    "A.kc.de <- A.kc.de %>% inner_join(G_list_protein_coding, by = c(\"gene\" = \"hgnc_symbol\"))\n",
    "A.bulk.kc.de <- A.bulk.kc.de %>% inner_join(G_list_protein_coding, by = c(\"gene\" = \"hgnc_symbol\"))\n",
    "A.bulk.kc.limma <- A.bulk.kc.limma %>% inner_join(G_list_protein_coding, by = c(\"gene\" = \"hgnc_symbol\"))\n",
    "A.kc.de.mast <- A.kc.de.mast %>% inner_join(G_list_protein_coding, by = c(\"gene\" = \"hgnc_symbol\"))"
   ]
  },
  {
   "cell_type": "code",
   "execution_count": 0,
   "metadata": {
    "application/vnd.databricks.v1+cell": {
     "cellMetadata": {
      "byteLimit": 2048000,
      "rowLimit": 10000
     },
     "inputWidgets": {},
     "nuid": "9688ac49-4e71-4199-8780-f6397f54d00f",
     "showTitle": false,
     "tableResultSettingsMap": {},
     "title": ""
    }
   },
   "outputs": [],
   "source": [
    "# DEGs\n",
    "\n",
    "A.kc.de_filtered <- A.kc.de %>% filter(abs(avg_log2FC) > 1, p_val_adj < 0.05) %>% arrange(desc(abs(avg_log2FC)))\n",
    "dim(A.kc.de_filtered)\n",
    "\n",
    "A.bulk.kc.de_filtered <- A.bulk.kc.de %>% filter(abs(avg_log2FC) > 1, p_val_adj < 0.05) %>% arrange(desc(abs(avg_log2FC)))\n",
    "dim(A.bulk.kc.de_filtered)\n",
    "\n",
    "A.bulk.kc.limma_filtered <- A.bulk.kc.limma %>% filter(abs(logFC) > 1, adj.P.Val < 0.05) %>% arrange(desc(abs(logFC)))\n",
    "dim(A.bulk.kc.limma_filtered)\n",
    "\n",
    "A.kc.de.mast_filtered <- A.kc.de.mast %>% filter(abs(avg_log2FC) > 1, p_val_adj < 0.05) %>% arrange(desc(abs(avg_log2FC)))\n",
    "dim(A.kc.de.mast_filtered)"
   ]
  },
  {
   "cell_type": "markdown",
   "metadata": {
    "application/vnd.databricks.v1+cell": {
     "cellMetadata": {},
     "inputWidgets": {},
     "nuid": "95d0dc66-f330-444b-824b-f614342a2985",
     "showTitle": false,
     "tableResultSettingsMap": {},
     "title": ""
    }
   },
   "source": [
    "## Alkon KC Upset plot"
   ]
  },
  {
   "cell_type": "code",
   "execution_count": 0,
   "metadata": {
    "application/vnd.databricks.v1+cell": {
     "cellMetadata": {
      "byteLimit": 2048000,
      "rowLimit": 10000
     },
     "inputWidgets": {},
     "nuid": "fdee19df-70c2-496c-a067-cb126d04eb97",
     "showTitle": false,
     "tableResultSettingsMap": {},
     "title": ""
    }
   },
   "outputs": [],
   "source": [
    "# Plot upregulated\n",
    "genes_kc <- list(\n",
    "  \"DEGs_KC_FindAllMarkers\" = A.kc.de_filtered$gene, \n",
    "  \"DEGs_KC_MAST\" = A.kc.de.mast_filtered$gene, \n",
    "  \"DEGs_KC_DESeq2\" = A.bulk.kc.de_filtered$gene, \n",
    "  \"DEGs_KC_Limma\" = A.bulk.kc.limma_filtered$gene\n",
    ")\n",
    "genes_kc"
   ]
  },
  {
   "cell_type": "code",
   "execution_count": 0,
   "metadata": {
    "application/vnd.databricks.v1+cell": {
     "cellMetadata": {
      "byteLimit": 2048000,
      "rowLimit": 10000
     },
     "inputWidgets": {},
     "nuid": "b65c92b7-ac0c-4d71-b704-6c3f1b5f014d",
     "showTitle": false,
     "tableResultSettingsMap": {},
     "title": ""
    }
   },
   "outputs": [],
   "source": [
    "options(repr.plot.width=1300, repr.plot.height=700)"
   ]
  },
  {
   "cell_type": "code",
   "execution_count": 0,
   "metadata": {
    "application/vnd.databricks.v1+cell": {
     "cellMetadata": {
      "byteLimit": 2048000,
      "rowLimit": 10000
     },
     "inputWidgets": {},
     "nuid": "f4b28aa4-6e83-4e3a-825b-9a038be73def",
     "showTitle": false,
     "tableResultSettingsMap": {},
     "title": ""
    }
   },
   "outputs": [],
   "source": [
    "upset(\n",
    "  fromList(genes_kc), \n",
    "  order.by = \"freq\", \n",
    "  main.bar.color = \"#393D47\", \n",
    "  sets.bar.color = \"darkgrey\", \n",
    "  text.scale = c(1.5, 1.5, 1.2, 1.2, 1.5, 2))"
   ]
  },
  {
   "cell_type": "code",
   "execution_count": 0,
   "metadata": {
    "application/vnd.databricks.v1+cell": {
     "cellMetadata": {},
     "inputWidgets": {},
     "nuid": "13caba63-9db0-4621-a1ee-53cde3592424",
     "showTitle": false,
     "tableResultSettingsMap": {},
     "title": ""
    }
   },
   "outputs": [],
   "source": []
  },
  {
   "cell_type": "code",
   "execution_count": 0,
   "metadata": {
    "application/vnd.databricks.v1+cell": {
     "cellMetadata": {},
     "inputWidgets": {},
     "nuid": "f1f33f41-3028-4543-ba35-75551d541dd6",
     "showTitle": false,
     "tableResultSettingsMap": {},
     "title": ""
    }
   },
   "outputs": [],
   "source": [
    "options(repr.plot.width=1300, repr.plot.height=700)"
   ]
  },
  {
   "cell_type": "code",
   "execution_count": 0,
   "metadata": {
    "application/vnd.databricks.v1+cell": {
     "cellMetadata": {},
     "inputWidgets": {},
     "nuid": "de8c0fe0-5692-4508-b5cf-ef7f60b7ff31",
     "showTitle": false,
     "tableResultSettingsMap": {},
     "title": ""
    }
   },
   "outputs": [],
   "source": [
    "upset(\n",
    "  fromList(genes_kc), \n",
    "  order.by = \"freq\", \n",
    "  main.bar.color = \"#393D47\", \n",
    "  sets.bar.color = \"darkgrey\", \n",
    "  text.scale = c(1.5, 1.5, 1.2, 1.2, 1.5, 2))"
   ]
  },
  {
   "cell_type": "markdown",
   "metadata": {
    "application/vnd.databricks.v1+cell": {
     "cellMetadata": {},
     "inputWidgets": {},
     "nuid": "dd0eaada-a3d6-471c-8b63-932fdcbb2136",
     "showTitle": false,
     "tableResultSettingsMap": {},
     "title": ""
    }
   },
   "source": [
    "##ALKON  VS REYNOLDS"
   ]
  },
  {
   "cell_type": "code",
   "execution_count": 0,
   "metadata": {
    "application/vnd.databricks.v1+cell": {
     "cellMetadata": {
      "byteLimit": 2048000,
      "rowLimit": 10000
     },
     "inputWidgets": {},
     "nuid": "e431a4c2-9a71-4d05-b2a3-7eead281e532",
     "showTitle": false,
     "tableResultSettingsMap": {},
     "title": ""
    }
   },
   "outputs": [],
   "source": [
    "genes_kc <- list(\n",
    "  \"Alkon_DEGs_KC_FindAllMarkers\" = A.kc.de_filtered$gene, \n",
    "  \"Alkon_DEGs_KC_MAST\" = A.kc.de.mast_filtered$gene, \n",
    "  \"Reynolds_DEGs_KC_FindAllMarkers\" = R.kc.de_filtered$gene, \n",
    "  \"Reynolds_DEGs_KC_MAST\" = R.kc.de.mast_filtered$gene\n",
    ")\n",
    "genes_kc\n",
    "\n",
    "options(repr.plot.width=1300, repr.plot.height=700)\n",
    "upset(\n",
    "  fromList(genes_kc), \n",
    "  order.by = \"freq\", \n",
    "  main.bar.color = \"#393D47\", \n",
    "  sets.bar.color = \"darkgrey\", \n",
    "  text.scale = c(1.5, 1.5, 1.2, 1.2, 1.5, 2))"
   ]
  },
  {
   "cell_type": "code",
   "execution_count": 0,
   "metadata": {
    "application/vnd.databricks.v1+cell": {
     "cellMetadata": {
      "byteLimit": 2048000,
      "rowLimit": 10000
     },
     "inputWidgets": {},
     "nuid": "a3b231ac-71cd-49d4-88bf-982a6f92d5ff",
     "showTitle": false,
     "tableResultSettingsMap": {},
     "title": ""
    }
   },
   "outputs": [],
   "source": [
    "genes_kc <- list(\n",
    "  \"Alkon_DEGs_KC_DESeq2\" = A.bulk.kc.de_filtered$gene, \n",
    "  \"Alkon_DEGs_KC_Limma\" = A.bulk.kc.limma_filtered$gene,\n",
    "  \"Reynolds_DEGs_KC_DESeq2\" = R.bulk.kc.de_filtered$gene, \n",
    "  \"Reynolds_DEGs_KC_Limma\" = R.bulk.kc.limma_filtered$gene\n",
    ")\n",
    "genes_kc\n",
    "\n",
    "options(repr.plot.width=1300, repr.plot.height=700)\n",
    "upset(\n",
    "  fromList(genes_kc), \n",
    "  order.by = \"freq\", \n",
    "  main.bar.color = \"#393D47\", \n",
    "  sets.bar.color = \"darkgrey\", \n",
    "  text.scale = c(1.5, 1.5, 1.2, 1.2, 1.5, 2))"
   ]
  },
  {
   "cell_type": "markdown",
   "metadata": {
    "application/vnd.databricks.v1+cell": {
     "cellMetadata": {},
     "inputWidgets": {},
     "nuid": "43802f40-1a61-45b3-80bb-23bf65d30d8f",
     "showTitle": false,
     "tableResultSettingsMap": {},
     "title": ""
    }
   },
   "source": [
    "#Tcell"
   ]
  },
  {
   "cell_type": "markdown",
   "metadata": {
    "application/vnd.databricks.v1+cell": {
     "cellMetadata": {},
     "inputWidgets": {},
     "nuid": "8b6dbebb-7b22-40b4-af9f-c70094c1fad9",
     "showTitle": false,
     "tableResultSettingsMap": {},
     "title": ""
    }
   },
   "source": [
    "##Reynolds"
   ]
  },
  {
   "cell_type": "code",
   "execution_count": 0,
   "metadata": {
    "application/vnd.databricks.v1+cell": {
     "cellMetadata": {
      "byteLimit": 2048000,
      "rowLimit": 10000
     },
     "inputWidgets": {},
     "nuid": "77d4a00f-ac01-4bd0-b621-3f9fddd2a075",
     "showTitle": false,
     "tableResultSettingsMap": {},
     "title": ""
    }
   },
   "outputs": [],
   "source": [
    "##Reynolds\n",
    "R.tcell.de <- read.xlsx(\"/dbfs/mnt/sandbox/TFM_PAULA/Reynolds/LvsHC/reynolds_LvsHC_tcell_allmarkers.xlsx\")\n",
    "rownames(R.tcell.de) <- R.tcell.de$gene\n",
    "\n",
    "R.bulk.tcell.de <- read.xlsx(\"/dbfs/mnt/sandbox/TFM_PAULA/Reynolds/LvsHC/pseudobulk/reynolds_tcell_LvsHC_bulk_v2.xlsx\")\n",
    "rownames(R.bulk.tcell.de) <- R.bulk.tcell.de$gene\n",
    "\n",
    "R.bulk.tcell.limma <- read.xlsx(\"/dbfs/mnt/sandbox/TFM_PAULA/Reynolds/LvsHC/pseudobulk/reynolds_limma_results_tcell.xlsx\")\n",
    "rownames(R.bulk.tcell.limma) <- R.bulk.tcell.limma$gene\n",
    "\n",
    "R.tcell.de.mast <- read.xlsx(\"/dbfs/mnt/sandbox/TFM_PAULA/Reynolds/LvsHC/MAST_method/reynolds_LvsHC_tcell_allmarkers.xlsx\")\n",
    "rownames(R.tcell.de.mast) <- R.tcell.de.mast$gene\n",
    "R.tcell.de <- R.tcell.de %>%\n",
    "    mutate(avg_log2FC = ifelse(cluster == \"healthy\", -abs(avg_log2FC), avg_log2FC)) #It is done because the analysis was done only with positive results and to be able to differentiate healthy and lesional I assign that sign\n",
    "R.tcell.de.mast <- R.tcell.de.mast %>%\n",
    "    mutate(avg_log2FC = ifelse(cluster == \"healthy\", -abs(avg_log2FC), avg_log2FC)) #It is done because the analysis was done only with positive results and to be able to differentiate healthy and lesional I assign that sign\n",
    "R.tcell.de <- R.tcell.de %>% inner_join(G_list_protein_coding, by = c(\"gene\" = \"hgnc_symbol\"))\n",
    "R.bulk.tcell.de <- R.bulk.tcell.de %>% inner_join(G_list_protein_coding, by = c(\"gene\" = \"hgnc_symbol\"))\n",
    "R.bulk.tcell.limma <- R.bulk.tcell.limma %>% inner_join(G_list_protein_coding, by = c(\"gene\" = \"hgnc_symbol\"))\n",
    "R.tcell.de.mast <- R.tcell.de.mast %>% inner_join(G_list_protein_coding, by = c(\"gene\" = \"hgnc_symbol\"))\n",
    "# DEGs\n",
    "\n",
    "R.tcell.de_filtered <- R.tcell.de %>% filter(abs(avg_log2FC) > 1, p_val_adj < 0.05) %>% arrange(desc(abs(avg_log2FC)))\n",
    "dim(R.tcell.de_filtered)\n",
    "\n",
    "R.bulk.tcell.de_filtered <- R.bulk.tcell.de %>% filter(abs(avg_log2FC) > 1, p_val_adj < 0.05) %>% arrange(desc(abs(avg_log2FC)))\n",
    "dim(R.bulk.tcell.de_filtered)\n",
    "\n",
    "R.bulk.tcell.limma_filtered <- R.bulk.tcell.limma %>% filter(abs(logFC) > 1, adj.P.Val < 0.05) %>% arrange(desc(abs(logFC)))\n",
    "dim(R.bulk.tcell.limma_filtered)\n",
    "\n",
    "R.tcell.de.mast_filtered <- R.tcell.de.mast %>% filter(abs(avg_log2FC) > 1, p_val_adj < 0.05) %>% arrange(desc(abs(avg_log2FC)))\n",
    "dim(R.tcell.de.mast_filtered)\n",
    "\n",
    "## Reynolds TCell Upset plot\n",
    "# Plot upregulated\n",
    "genes_tcell <- list(\n",
    "  \"DEGs_TCell_FindAllMarkers\" = R.tcell.de_filtered$gene, \n",
    "  \"DEGs_TCell_MAST\" = R.tcell.de.mast_filtered$gene, \n",
    "  \"DEGs_TCell_DESeq2\" = R.bulk.tcell.de_filtered$gene, \n",
    "  \"DEGs_TCell_Limma\" = R.bulk.tcell.limma_filtered$gene\n",
    ")\n",
    "genes_tcell\n",
    "options(repr.plot.width=1300, repr.plot.height=700)\n",
    "upset(\n",
    "  fromList(genes_tcell), \n",
    "  order.by = \"freq\", \n",
    "  main.bar.color = \"#393D47\", \n",
    "  sets.bar.color = \"darkgrey\", \n",
    "  text.scale = c(1.5, 1.5, 1.2, 1.2, 1.5, 2))"
   ]
  },
  {
   "cell_type": "markdown",
   "metadata": {
    "application/vnd.databricks.v1+cell": {
     "cellMetadata": {},
     "inputWidgets": {},
     "nuid": "527edcd5-973d-43dc-b35a-448e1b29efec",
     "showTitle": false,
     "tableResultSettingsMap": {},
     "title": ""
    }
   },
   "source": [
    "##Alkon"
   ]
  },
  {
   "cell_type": "code",
   "execution_count": 0,
   "metadata": {
    "application/vnd.databricks.v1+cell": {
     "cellMetadata": {
      "byteLimit": 2048000,
      "rowLimit": 10000
     },
     "inputWidgets": {},
     "nuid": "737dd2dc-2582-40b6-af67-085834244cf4",
     "showTitle": false,
     "tableResultSettingsMap": {},
     "title": ""
    }
   },
   "outputs": [],
   "source": [
    "##Alkon\n",
    "A.tcell.de <- read.xlsx(\"/dbfs/mnt/sandbox/TFM_PAULA/Alkon/alkon_tcell_LvsHC_allmarkers.xlsx\")\n",
    "rownames(A.tcell.de) <- A.tcell.de$gene\n",
    "\n",
    "A.bulk.tcell.de <- read.xlsx(\"/dbfs/mnt/sandbox/TFM_PAULA/Alkon/pseudobulk/alkon_tcell_LvsHC_bulk.xlsx\")\n",
    "rownames(A.bulk.tcell.de) <- A.bulk.tcell.de$gene\n",
    "\n",
    "A.bulk.tcell.limma <- read.xlsx(\"/dbfs/mnt/sandbox/TFM_PAULA/Alkon/pseudobulk/alkon_limma_results_tcell.xlsx\")\n",
    "rownames(A.bulk.tcell.limma) <- A.bulk.tcell.limma$gene\n",
    "\n",
    "A.tcell.de.mast <- read.xlsx(\"/dbfs/mnt/sandbox/TFM_PAULA/Alkon/MAST_method/alkon_LvsHC_tcell_allmarkers.xlsx\")\n",
    "rownames(A.tcell.de.mast) <- A.tcell.de.mast$gene\n",
    "A.tcell.de <- A.tcell.de %>%\n",
    "    mutate(avg_log2FC = ifelse(cluster == \"HC\", -abs(avg_log2FC), avg_log2FC)) #It is done because the analysis was done only with positive results and to be able to differentiate healthy and lesional I assign that sign\n",
    "A.tcell.de.mast <- A.tcell.de.mast %>%\n",
    "    mutate(avg_log2FC = ifelse(cluster == \"HC\", -abs(avg_log2FC), avg_log2FC)) #It is done because the analysis was done only with positive results and to be able to differentiate healthy and lesional I assign that sign\n",
    "A.tcell.de <- A.tcell.de %>% inner_join(G_list_protein_coding, by = c(\"gene\" = \"hgnc_symbol\"))\n",
    "A.bulk.tcell.de <- A.bulk.tcell.de %>% inner_join(G_list_protein_coding, by = c(\"gene\" = \"hgnc_symbol\"))\n",
    "A.bulk.tcell.limma <- A.bulk.tcell.limma %>% inner_join(G_list_protein_coding, by = c(\"gene\" = \"hgnc_symbol\"))\n",
    "A.tcell.de.mast <- A.tcell.de.mast %>% inner_join(G_list_protein_coding, by = c(\"gene\" = \"hgnc_symbol\"))\n",
    "# DEGs\n",
    "\n",
    "A.tcell.de_filtered <- A.tcell.de %>% filter(abs(avg_log2FC) > 1, p_val_adj < 0.05) %>% arrange(desc(abs(avg_log2FC)))\n",
    "dim(A.tcell.de_filtered)\n",
    "\n",
    "A.bulk.tcell.de_filtered <- A.bulk.tcell.de %>% filter(abs(avg_log2FC) > 1, p_val_adj < 0.05) %>% arrange(desc(abs(avg_log2FC)))\n",
    "dim(A.bulk.tcell.de_filtered)\n",
    "\n",
    "A.bulk.tcell.limma_filtered <- A.bulk.tcell.limma %>% filter(abs(logFC) > 1, adj.P.Val < 0.05) %>% arrange(desc(abs(logFC)))\n",
    "dim(A.bulk.tcell.limma_filtered)\n",
    "\n",
    "A.tcell.de.mast_filtered <- A.tcell.de.mast %>% filter(abs(avg_log2FC) > 1, p_val_adj < 0.05) %>% arrange(desc(abs(avg_log2FC)))\n",
    "dim(A.tcell.de.mast_filtered)\n",
    "\n",
    "## Alkon TCell Upset plot\n",
    "genes_tcell <- list(\n",
    "  \"DEGs_TCell_FindAllMarkers\" = A.tcell.de_filtered$gene, \n",
    "  \"DEGs_TCell_MAST\" = A.tcell.de.mast_filtered$gene, \n",
    "  \"DEGs_TCell_DESeq2\" = A.bulk.tcell.de_filtered$gene, \n",
    "  \"DEGs_TCell_Limma\" = A.bulk.tcell.limma_filtered$gene\n",
    ")\n",
    "genes_tcell\n",
    "\n",
    "options(repr.plot.width=1300, repr.plot.height=700)\n",
    "upset(\n",
    "  fromList(genes_tcell), \n",
    "  order.by = \"freq\", \n",
    "  main.bar.color = \"#393D47\", \n",
    "  sets.bar.color = \"darkgrey\", \n",
    "  text.scale = c(1.5, 1.5, 1.2, 1.2, 1.5, 2))"
   ]
  },
  {
   "cell_type": "markdown",
   "metadata": {
    "application/vnd.databricks.v1+cell": {
     "cellMetadata": {},
     "inputWidgets": {},
     "nuid": "dc92683c-281b-48fd-9651-5a00e87cfee5",
     "showTitle": false,
     "tableResultSettingsMap": {},
     "title": ""
    }
   },
   "source": [
    "##ALKON  VS REYNOLDS"
   ]
  },
  {
   "cell_type": "code",
   "execution_count": 0,
   "metadata": {
    "application/vnd.databricks.v1+cell": {
     "cellMetadata": {
      "byteLimit": 2048000,
      "rowLimit": 10000
     },
     "inputWidgets": {},
     "nuid": "55682b66-6ca9-4cb5-8018-0c9e174f4ed7",
     "showTitle": false,
     "tableResultSettingsMap": {},
     "title": ""
    }
   },
   "outputs": [],
   "source": [
    "\n",
    "genes_tcell <- list(\n",
    "  \"Alkon_DEGs_TCell_FindAllMarkers\" = A.tcell.de_filtered$gene, \n",
    "  \"Alkon_DEGs_TCell_MAST\" = A.tcell.de.mast_filtered$gene, \n",
    "  \"Reynolds_DEGs_TCell_FindAllMarkers\" = R.tcell.de_filtered$gene, \n",
    "  \"Reynolds_DEGs_TCell_MAST\" = R.tcell.de.mast_filtered$gene\n",
    ")\n",
    "genes_tcell\n",
    "\n",
    "options(repr.plot.width=1300, repr.plot.height=700)\n",
    "upset(\n",
    "  fromList(genes_tcell), \n",
    "  order.by = \"freq\", \n",
    "  main.bar.color = \"#393D47\", \n",
    "  sets.bar.color = \"darkgrey\", \n",
    "  text.scale = c(1.5, 1.5, 1.2, 1.2, 1.5, 2))"
   ]
  },
  {
   "cell_type": "code",
   "execution_count": 0,
   "metadata": {
    "application/vnd.databricks.v1+cell": {
     "cellMetadata": {
      "byteLimit": 2048000,
      "rowLimit": 10000
     },
     "inputWidgets": {},
     "nuid": "b2a5c788-27f9-4fa3-9f91-537ec2f27062",
     "showTitle": false,
     "tableResultSettingsMap": {},
     "title": ""
    }
   },
   "outputs": [],
   "source": [
    "\n",
    "genes_tcell <- list(\n",
    "  \"Alkon_DEGs_TCell_DESeq2\" = A.bulk.tcell.de_filtered$gene, \n",
    "  \"Alkon_DEGs_TCell_Limma\" = A.bulk.tcell.limma_filtered$gene,\n",
    "  \"Reynolds_DEGs_TCell_DESeq2\" = R.bulk.tcell.de_filtered$gene, \n",
    "  \"Reynolds_DEGs_TCell_Limma\" = R.bulk.tcell.limma_filtered$gene\n",
    ")\n",
    "genes_tcell\n",
    "\n",
    "options(repr.plot.width=1300, repr.plot.height=700)\n",
    "upset(\n",
    "  fromList(genes_tcell), \n",
    "  order.by = \"freq\", \n",
    "  main.bar.color = \"#393D47\", \n",
    "  sets.bar.color = \"darkgrey\", \n",
    "  text.scale = c(1.5, 1.5, 1.2, 1.2, 1.5, 2))"
   ]
  }
 ],
 "metadata": {
  "application/vnd.databricks.v1+notebook": {
   "computePreferences": null,
   "dashboards": [],
   "environmentMetadata": {
    "base_environment": "",
    "environment_version": "2"
   },
   "inputWidgetPreferences": null,
   "language": "r",
   "notebookMetadata": {
    "pythonIndentUnit": 4
   },
   "notebookName": "05.upset_plot_mast_vs_FAM_vs_deseq2_vs_limma",
   "widgets": {}
  },
  "language_info": {
   "name": "r"
  }
 },
 "nbformat": 4,
 "nbformat_minor": 0
}
