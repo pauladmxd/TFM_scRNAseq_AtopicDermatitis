{
 "cells": [
  {
   "cell_type": "markdown",
   "metadata": {
    "application/vnd.databricks.v1+cell": {
     "cellMetadata": {},
     "inputWidgets": {},
     "nuid": "42621208-8f4d-41ee-baac-dd74708f8005",
     "showTitle": false,
     "tableResultSettingsMap": {},
     "title": ""
    }
   },
   "source": [
    "#venn diagram to compare the PATHWAYS obtained with different methods of DEA, including the latest additions\n",
    "\n",
    "Mast, Limma, Deseq2 and FindAllMarkers seurat"
   ]
  },
  {
   "cell_type": "code",
   "execution_count": 0,
   "metadata": {
    "application/vnd.databricks.v1+cell": {
     "cellMetadata": {
      "byteLimit": 2048000,
      "rowLimit": 10000
     },
     "inputWidgets": {},
     "nuid": "031f357c-0b04-456b-afa4-e69b7bae975e",
     "showTitle": false,
     "tableResultSettingsMap": {},
     "title": ""
    }
   },
   "outputs": [],
   "source": [
    "#Load libraries\n",
    "## Append the library folder\n",
    ".libPaths(c(\"/dbfs/home/boriol@almirall.com/my_r_packages/bulkRNASeq_PBMCs_R4.3\", .libPaths()))\n",
    "\n",
    "library(DESeq2)\n",
    "library(tidyverse)\n",
    "library(VennDiagram)\n",
    "library(RColorBrewer)\n",
    "\n",
    ".libPaths(c(\"/dbfs/home/jtrincado@almirall.com/my_r_packages/Seurat\", .libPaths()))\n",
    "library(openxlsx)\n",
    "library(enrichplot)\n",
    "library(ggplot2)"
   ]
  },
  {
   "cell_type": "code",
   "execution_count": 0,
   "metadata": {
    "application/vnd.databricks.v1+cell": {
     "cellMetadata": {
      "byteLimit": 2048000,
      "rowLimit": 10000
     },
     "inputWidgets": {},
     "nuid": "1f2f54eb-1d2e-441a-9962-89f3ae8a198d",
     "showTitle": false,
     "tableResultSettingsMap": {},
     "title": ""
    }
   },
   "outputs": [],
   "source": [
    "A_p_deseq2 <- read.xlsx(\"/dbfs/mnt/sandbox/TFM_PAULA/Alkon/GSEA_individually/pseudobulk/res_kc_0.05_alkon_v2.xlsx\", sheet = \"Reactome\")\n",
    "A_p_limma <- read.xlsx(\"/dbfs/mnt/sandbox/TFM_PAULA/Alkon/GSEA_individually/pseudobulk/res_kc_0.05_alkon_limma.xlsx\", sheet = \"Reactome\")\n",
    "A_p_mast <- read.xlsx(\"/dbfs/mnt/sandbox/TFM_PAULA/Alkon/MAST_method/GSEA_individually/res_kc_0.05_alkon.xlsx\", sheet = \"Reactome\")\n",
    "A_p_fam <- read.xlsx(\"/dbfs/mnt/sandbox/TFM_PAULA/Alkon/GSEA_individually/res_kc_0.05_alkon.xlsx\", sheet = \"Reactome\")"
   ]
  },
  {
   "cell_type": "code",
   "execution_count": 0,
   "metadata": {
    "application/vnd.databricks.v1+cell": {
     "cellMetadata": {
      "byteLimit": 2048000,
      "rowLimit": 10000
     },
     "inputWidgets": {},
     "nuid": "9c4e3d33-eb47-449d-9459-8c43e10b9ed7",
     "showTitle": false,
     "tableResultSettingsMap": {},
     "title": ""
    }
   },
   "outputs": [],
   "source": [
    "R_p_deseq2 <- read.xlsx(\"/dbfs/mnt/sandbox/TFM_PAULA/Reynolds/LvsHC/GSEA_individually/res_kc_0.05_reynolds_v2.xlsx\", sheet = \"Reactome\")\n",
    "R_p_limma <- read.xlsx(\"/dbfs/mnt/sandbox/TFM_PAULA/Reynolds/LvsHC/GSEA_individually/res_kc_0.05_reynolds_limma.xlsx\", sheet = \"Reactome\")\n",
    "R_p_mast <- read.xlsx(\"/dbfs/mnt/sandbox/TFM_PAULA/Reynolds/LvsHC/MAST_method/GSEA_individually/res_kc_0.05_reynolds.xlsx\", sheet = \"Reactome\")\n",
    "R_p_fam <- read.xlsx(\"/dbfs/mnt/sandbox/TFM_PAULA/Reynolds/LvsHC/GSEA_individually/res_kc_0.05_reynolds.xlsx\", sheet = \"Reactome\")"
   ]
  },
  {
   "cell_type": "markdown",
   "metadata": {
    "application/vnd.databricks.v1+cell": {
     "cellMetadata": {},
     "inputWidgets": {},
     "nuid": "d61ba6df-357d-47e6-8c5c-4ba1c4710326",
     "showTitle": false,
     "tableResultSettingsMap": {},
     "title": ""
    }
   },
   "source": [
    "#PSEUDOBULK METHODS"
   ]
  },
  {
   "cell_type": "markdown",
   "metadata": {
    "application/vnd.databricks.v1+cell": {
     "cellMetadata": {},
     "inputWidgets": {},
     "nuid": "912eea3f-d8bf-4afb-8e8d-ca29bf6587a0",
     "showTitle": false,
     "tableResultSettingsMap": {},
     "title": ""
    }
   },
   "source": [
    "##Limma"
   ]
  },
  {
   "cell_type": "code",
   "execution_count": 0,
   "metadata": {
    "application/vnd.databricks.v1+cell": {
     "cellMetadata": {
      "byteLimit": 2048000,
      "rowLimit": 10000
     },
     "inputWidgets": {},
     "nuid": "06c2bad8-4796-4e80-a227-4b9d260630aa",
     "showTitle": false,
     "tableResultSettingsMap": {},
     "title": ""
    }
   },
   "outputs": [],
   "source": [
    "# Create a list of your gene sets\n",
    "gene_sets <- list(\n",
    "  \"Alkon\" = A_p_limma$ID,\n",
    "  \"Reynolds\" = R_p_limma$ID\n",
    ")\n",
    "options(repr.plot.width=1000, repr.plot.height=1000)\n",
    "\n",
    "# Create a new plotting page\n",
    "grid.newpage()\n",
    "\n",
    "# Plot the Venn diagram with colors and title\n",
    "venn.plot <- venn.diagram(\n",
    "  x = gene_sets,\n",
    "  category.names = c(\"Alkon\", \"Reynolds\"), # Use abbreviated names for legend\n",
    "  filename = NULL,  # Set to NULL to plot in RStudio\n",
    "  output = TRUE,\n",
    "  fill = c(\"red\", \"blue\"), # Add colors\n",
    "  main = \"Common pathways btw datasets - KC (Limma)\", # Add title\n",
    "  main.fontface = \"bold\", # Make title bold\n",
    "  cat.dist = c(0.03, 0.03), # Adjust the distance of the category names from the circles\n",
    "  main.cex = 1.3, # Increase title size\n",
    "  cat.cex = 1.3, # Increase label size\n",
    "  cat.pos = c(-17, 17), # Position labels more on the top\n",
    "  cex = 1.3, # Increase numbers size\n",
    "  cat.col = c(\"red\", \"blue\") # Set label colors to match circles\n",
    ")\n",
    "\n",
    "# Display the plot\n",
    "grid.draw(venn.plot)"
   ]
  },
  {
   "cell_type": "code",
   "execution_count": 0,
   "metadata": {
    "application/vnd.databricks.v1+cell": {
     "cellMetadata": {
      "byteLimit": 2048000,
      "rowLimit": 10000
     },
     "inputWidgets": {},
     "nuid": "a18b5b85-86d5-4ed8-ae44-00744cbad7b6",
     "showTitle": false,
     "tableResultSettingsMap": {},
     "title": ""
    }
   },
   "outputs": [],
   "source": [
    "common_kc_limma <- R_p_limma[R_p_limma$ID %in% A_p_limma$ID & sign(R_p_limma$NES) == sign(A_p_limma$NES[match(R_p_limma$ID, A_p_limma$ID)]), ]"
   ]
  },
  {
   "cell_type": "code",
   "execution_count": 0,
   "metadata": {
    "application/vnd.databricks.v1+cell": {
     "cellMetadata": {
      "byteLimit": 2048000,
      "rowLimit": 10000
     },
     "inputWidgets": {},
     "nuid": "a5d887cf-ce42-4aae-ad83-91ad8c905d07",
     "showTitle": false,
     "tableResultSettingsMap": {},
     "title": ""
    }
   },
   "outputs": [],
   "source": [
    "dim(common_kc_limma)"
   ]
  },
  {
   "cell_type": "markdown",
   "metadata": {
    "application/vnd.databricks.v1+cell": {
     "cellMetadata": {},
     "inputWidgets": {},
     "nuid": "dae54617-3e34-4aa0-ba76-33588e0111bf",
     "showTitle": false,
     "tableResultSettingsMap": {},
     "title": ""
    }
   },
   "source": [
    "##DESeq2"
   ]
  },
  {
   "cell_type": "code",
   "execution_count": 0,
   "metadata": {
    "application/vnd.databricks.v1+cell": {
     "cellMetadata": {
      "byteLimit": 2048000,
      "rowLimit": 10000
     },
     "inputWidgets": {},
     "nuid": "a2011185-c533-4d71-a55a-fb9e5790b677",
     "showTitle": false,
     "tableResultSettingsMap": {},
     "title": ""
    }
   },
   "outputs": [],
   "source": [
    "# Create a list of your gene sets\n",
    "gene_sets <- list(\n",
    "  \"Alkon\" = A_p_deseq2$ID,\n",
    "  \"Reynolds\" = R_p_deseq2$ID\n",
    ")\n",
    "options(repr.plot.width=1000, repr.plot.height=1000)\n",
    "\n",
    "# Create a new plotting page\n",
    "grid.newpage()\n",
    "\n",
    "# Plot the Venn diagram with colors and title\n",
    "venn.plot <- venn.diagram(\n",
    "  x = gene_sets,\n",
    "  category.names = c(\"Alkon\", \"Reynolds\"), # Use abbreviated names for legend\n",
    "  filename = NULL,  # Set to NULL to plot in RStudio\n",
    "  output = TRUE,\n",
    "  fill = c(\"red\", \"blue\"), # Add colors\n",
    "  main = \"Common pathways btw datasets - KC (DESeq2)\", # Add title\n",
    "  main.fontface = \"bold\", # Make title bold\n",
    "  cat.dist = c(0.03, 0.03), # Adjust the distance of the category names from the circles\n",
    "  main.cex = 1.3, # Increase title size\n",
    "  cat.cex = 1.3, # Increase label size\n",
    "  cat.pos = c(-17, 17), # Position labels more on the top\n",
    "  cex = 1.3, # Increase numbers size\n",
    "  cat.col = c(\"red\", \"blue\") # Set label colors to match circles\n",
    ")\n",
    "\n",
    "# Display the plot\n",
    "grid.draw(venn.plot)"
   ]
  },
  {
   "cell_type": "markdown",
   "metadata": {
    "application/vnd.databricks.v1+cell": {
     "cellMetadata": {},
     "inputWidgets": {},
     "nuid": "4915fa5c-4d22-4630-ab41-aacec6073226",
     "showTitle": false,
     "tableResultSettingsMap": {},
     "title": ""
    }
   },
   "source": [
    "No results"
   ]
  },
  {
   "cell_type": "markdown",
   "metadata": {
    "application/vnd.databricks.v1+cell": {
     "cellMetadata": {},
     "inputWidgets": {},
     "nuid": "23f64e74-a53d-45e4-997c-cb694bdb7ee9",
     "showTitle": false,
     "tableResultSettingsMap": {},
     "title": ""
    }
   },
   "source": [
    "#SC METHODS"
   ]
  },
  {
   "cell_type": "markdown",
   "metadata": {
    "application/vnd.databricks.v1+cell": {
     "cellMetadata": {},
     "inputWidgets": {},
     "nuid": "8f509e77-2902-4c9e-acdc-4cb955562392",
     "showTitle": false,
     "tableResultSettingsMap": {},
     "title": ""
    }
   },
   "source": [
    "##FAM"
   ]
  },
  {
   "cell_type": "code",
   "execution_count": 0,
   "metadata": {
    "application/vnd.databricks.v1+cell": {
     "cellMetadata": {
      "byteLimit": 2048000,
      "rowLimit": 10000
     },
     "inputWidgets": {},
     "nuid": "f5c3a7f0-5180-414e-873b-51b8cd9175f5",
     "showTitle": false,
     "tableResultSettingsMap": {},
     "title": ""
    }
   },
   "outputs": [],
   "source": [
    "# Create a list of your gene sets\n",
    "gene_sets <- list(\n",
    "  \"Alkon\" = A_p_fam$ID,\n",
    "  \"Reynolds\" = R_p_fam$ID\n",
    ")\n",
    "options(repr.plot.width=1000, repr.plot.height=1000)\n",
    "\n",
    "# Create a new plotting page\n",
    "grid.newpage()\n",
    "\n",
    "# Plot the Venn diagram with colors and title\n",
    "venn.plot <- venn.diagram(\n",
    "  x = gene_sets,\n",
    "  category.names = c(\"Alkon\", \"Reynolds\"), # Use abbreviated names for legend\n",
    "  filename = NULL,  # Set to NULL to plot in RStudio\n",
    "  output = TRUE,\n",
    "  fill = c(\"red\", \"blue\"), # Add colors\n",
    "  main = \"Common pathways btw datasets - KC (FindAllMarkers)\", # Add title\n",
    "  main.fontface = \"bold\", # Make title bold\n",
    "  cat.dist = c(0.03, 0.03), # Adjust the distance of the category names from the circles\n",
    "  main.cex = 1.3, # Increase title size\n",
    "  cat.cex = 1.3, # Increase label size\n",
    "  cat.pos = c(-17, 17), # Position labels more on the top\n",
    "  cex = 1.3, # Increase numbers size\n",
    "  cat.col = c(\"red\", \"blue\") # Set label colors to match circles\n",
    ")\n",
    "\n",
    "# Display the plot\n",
    "grid.draw(venn.plot)"
   ]
  },
  {
   "cell_type": "code",
   "execution_count": 0,
   "metadata": {
    "application/vnd.databricks.v1+cell": {
     "cellMetadata": {
      "byteLimit": 2048000,
      "rowLimit": 10000
     },
     "inputWidgets": {},
     "nuid": "516ebac7-d8fc-42bf-9dba-c99ed1babfcb",
     "showTitle": false,
     "tableResultSettingsMap": {},
     "title": ""
    }
   },
   "outputs": [],
   "source": [
    "common_kc_fam <- R_p_fam[R_p_fam$ID %in% A_p_fam$ID & sign(R_p_fam$NES) == sign(A_p_fam$NES[match(R_p_fam$ID, A_p_fam$ID)]), ]"
   ]
  },
  {
   "cell_type": "code",
   "execution_count": 0,
   "metadata": {
    "application/vnd.databricks.v1+cell": {
     "cellMetadata": {
      "byteLimit": 2048000,
      "rowLimit": 10000
     },
     "inputWidgets": {},
     "nuid": "ecd4a98d-dd19-418c-936d-67a8af9b0355",
     "showTitle": false,
     "tableResultSettingsMap": {},
     "title": ""
    }
   },
   "outputs": [],
   "source": [
    "dim(common_kc_fam)"
   ]
  },
  {
   "cell_type": "markdown",
   "metadata": {
    "application/vnd.databricks.v1+cell": {
     "cellMetadata": {},
     "inputWidgets": {},
     "nuid": "ad04ec68-ce38-4d0b-8eae-0f97f03773de",
     "showTitle": false,
     "tableResultSettingsMap": {},
     "title": ""
    }
   },
   "source": [
    "##MAST"
   ]
  },
  {
   "cell_type": "code",
   "execution_count": 0,
   "metadata": {
    "application/vnd.databricks.v1+cell": {
     "cellMetadata": {
      "byteLimit": 2048000,
      "rowLimit": 10000
     },
     "inputWidgets": {},
     "nuid": "ffe0e564-c42d-4d90-b983-417559404e38",
     "showTitle": false,
     "tableResultSettingsMap": {},
     "title": ""
    }
   },
   "outputs": [],
   "source": [
    "# Create a list of your gene sets\n",
    "gene_sets <- list(\n",
    "  \"Alkon\" = A_p_mast$ID,\n",
    "  \"Reynolds\" = R_p_mast$ID\n",
    ")\n",
    "options(repr.plot.width=1000, repr.plot.height=1000)\n",
    "\n",
    "# Create a new plotting page\n",
    "grid.newpage()\n",
    "\n",
    "# Plot the Venn diagram with colors and title\n",
    "venn.plot <- venn.diagram(\n",
    "  x = gene_sets,\n",
    "  category.names = c(\"Alkon\", \"Reynolds\"), # Use abbreviated names for legend\n",
    "  filename = NULL,  # Set to NULL to plot in RStudio\n",
    "  output = TRUE,\n",
    "  fill = c(\"red\", \"blue\"), # Add colors\n",
    "  main = \"Common pathways btw datasets - KC (MAST)\", # Add title\n",
    "  main.fontface = \"bold\", # Make title bold\n",
    "  cat.dist = c(0.03, 0.03), # Adjust the distance of the category names from the circles\n",
    "  main.cex = 1.3, # Increase title size\n",
    "  cat.cex = 1.3, # Increase label size\n",
    "  cat.pos = c(-17, 17), # Position labels more on the top\n",
    "  cex = 1.3, # Increase numbers size\n",
    "  cat.col = c(\"red\", \"blue\") # Set label colors to match circles\n",
    ")\n",
    "\n",
    "# Display the plot\n",
    "grid.draw(venn.plot)"
   ]
  },
  {
   "cell_type": "code",
   "execution_count": 0,
   "metadata": {
    "application/vnd.databricks.v1+cell": {
     "cellMetadata": {
      "byteLimit": 2048000,
      "rowLimit": 10000
     },
     "inputWidgets": {},
     "nuid": "f73a1402-3242-4e62-9fc9-c7de4b9f07e0",
     "showTitle": false,
     "tableResultSettingsMap": {},
     "title": ""
    }
   },
   "outputs": [],
   "source": [
    "common_kc_mast <- R_p_mast[R_p_mast$ID %in% A_p_mast$ID & sign(R_p_mast$NES) == sign(A_p_mast$NES[match(R_p_mast$ID, A_p_mast$ID)]), ]\n",
    "dim(common_kc_mast)"
   ]
  },
  {
   "cell_type": "code",
   "execution_count": 0,
   "metadata": {
    "application/vnd.databricks.v1+cell": {
     "cellMetadata": {
      "byteLimit": 2048000,
      "rowLimit": 10000
     },
     "inputWidgets": {},
     "nuid": "6baee427-d111-4b8b-b12b-3ebf9db9e2cb",
     "showTitle": false,
     "tableResultSettingsMap": {},
     "title": ""
    }
   },
   "outputs": [],
   "source": [
    "display(common_kc_mast)"
   ]
  }
 ],
 "metadata": {
  "application/vnd.databricks.v1+notebook": {
   "computePreferences": null,
   "dashboards": [],
   "environmentMetadata": {
    "base_environment": "",
    "environment_version": "2"
   },
   "inputWidgetPreferences": null,
   "language": "r",
   "notebookMetadata": {
    "pythonIndentUnit": 4
   },
   "notebookName": "06.venn_limited_commonalities_pathways",
   "widgets": {}
  },
  "language_info": {
   "name": "r"
  }
 },
 "nbformat": 4,
 "nbformat_minor": 0
}
