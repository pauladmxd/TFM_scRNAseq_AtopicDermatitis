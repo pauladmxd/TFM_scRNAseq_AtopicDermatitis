{
 "cells": [
  {
   "cell_type": "markdown",
   "metadata": {
    "application/vnd.databricks.v1+cell": {
     "cellMetadata": {
      "byteLimit": 2048000,
      "rowLimit": 10000
     },
     "inputWidgets": {},
     "nuid": "2671319a-008a-4dc2-a74f-db8560354ccb",
     "showTitle": false,
     "tableResultSettingsMap": {},
     "title": ""
    }
   },
   "source": [
    "# Pathway enrichment in LvsHC Reynolds markers\n",
    "In order to interpret the DEA genes found and understand the biological context:\n",
    "\n",
    "Here I will perform the pathway enrichment with different databases (KEGG, Reactome...) in the common markers of the datasets.\n",
    "\n",
    "Also GO enrichment."
   ]
  },
  {
   "cell_type": "code",
   "execution_count": 0,
   "metadata": {
    "application/vnd.databricks.v1+cell": {
     "cellMetadata": {
      "byteLimit": 2048000,
      "rowLimit": 10000
     },
     "inputWidgets": {},
     "nuid": "84a8cd0b-e6c6-42e9-827f-39aad7b4fbdd",
     "showTitle": false,
     "tableResultSettingsMap": {},
     "title": ""
    }
   },
   "outputs": [],
   "source": [
    "%sh\n",
    "apt-get -y install libglpk-dev #Correct igraph - Need t load before, compatible for 14.3 LTS"
   ]
  },
  {
   "cell_type": "code",
   "execution_count": 0,
   "metadata": {
    "application/vnd.databricks.v1+cell": {
     "cellMetadata": {
      "byteLimit": 2048000,
      "rowLimit": 10000
     },
     "inputWidgets": {},
     "nuid": "97d9e87f-278f-4025-9dcf-a78dc2a55fde",
     "showTitle": false,
     "tableResultSettingsMap": {},
     "title": ""
    }
   },
   "outputs": [],
   "source": [
    "# Load libraries\n",
    "## Append the library folder\n",
    ".libPaths(c(\"/dbfs/home/boriol@almirall.com/my_r_packages/bulkRNASeq_PBMCs_R4.3\", .libPaths()))\n",
    "\n",
    "# Load libraries\n",
    "library(clusterProfiler)\n",
    "library(ReactomePA) \n",
    "library(msigdbr)\n",
    "library(DOSE)\n",
    "library(tidyverse)\n",
    "library(org.Hs.eg.db)\n",
    "library(biomaRt)\n",
    "\n",
    ".libPaths(c(\"/dbfs/home/jtrincado@almirall.com/my_r_packages/Seurat\", .libPaths()))\n",
    "library(openxlsx)\n",
    "library(enrichplot)\n",
    "library(ggplot2)"
   ]
  },
  {
   "cell_type": "markdown",
   "metadata": {
    "application/vnd.databricks.v1+cell": {
     "cellMetadata": {
      "byteLimit": 2048000,
      "rowLimit": 10000
     },
     "inputWidgets": {},
     "nuid": "2a8d2785-5907-47b5-9759-5739b206f3a7",
     "showTitle": false,
     "tableResultSettingsMap": {},
     "title": ""
    }
   },
   "source": [
    "##Functions, G_list and HALLMARKS databases needed"
   ]
  },
  {
   "cell_type": "code",
   "execution_count": 0,
   "metadata": {
    "application/vnd.databricks.v1+cell": {
     "cellMetadata": {
      "byteLimit": 2048000,
      "rowLimit": 10000
     },
     "inputWidgets": {},
     "nuid": "fd0f0f31-8aa7-4f98-b757-b6d950ddd906",
     "showTitle": false,
     "tableResultSettingsMap": {},
     "title": ""
    }
   },
   "outputs": [],
   "source": [
    "prepare_gene_list <- function(res, G_list) {\n",
    "\n",
    "  # Rank by pvalue\n",
    "  res_rankedlist <- res %>%\n",
    "    mutate(adj.P.Val = ifelse(adj.P.Val == 0, 1e-300, adj.P.Val)) %>%\n",
    "    mutate(rank = -log10(adj.P.Val) * sign(logFC)) %>%\n",
    "    mutate(rank2 = (1 + logFC) * -log10(adj.P.Val))\n",
    "  \n",
    "  # Assigning the 'gene' column values to the 'hgnc_symbol'\n",
    "  res_rankedlist$hgnc_symbol <- res_rankedlist$gene\n",
    "    display(res_rankedlist)\n",
    "\n",
    "  gene_list <- left_join(res_rankedlist, G_list, by = \"hgnc_symbol\") %>% distinct_all()\n",
    "  gene_list_entrez_id <- gene_list %>% dplyr::select(entrezgene_id, rank) %>% distinct(entrezgene_id, .keep_all = TRUE) %>% drop_na()\n",
    "  \n",
    "  geneList_entrez <- gene_list_entrez_id$rank\n",
    "  names(geneList_entrez) <- gene_list_entrez_id$entrezgene_id\n",
    "  \n",
    "  geneList_entrez <- geneList_entrez[is.finite(geneList_entrez)]\n",
    "  geneList_entrez <- sort(geneList_entrez, decreasing = TRUE)\n",
    "  geneList_entrez\n",
    "  return(geneList_entrez)\n",
    "}"
   ]
  },
  {
   "cell_type": "code",
   "execution_count": 0,
   "metadata": {
    "application/vnd.databricks.v1+cell": {
     "cellMetadata": {
      "byteLimit": 2048000,
      "rowLimit": 10000
     },
     "inputWidgets": {},
     "nuid": "23ebf3c2-2ce7-41eb-8011-909f7f1b2a82",
     "showTitle": false,
     "tableResultSettingsMap": {},
     "title": ""
    }
   },
   "outputs": [],
   "source": [
    "get_enrichments <- function(gene_list, pval_cutoff, term2gene_hallmark, term2gene_hallmark2 = NULL) {\n",
    "  set.seed(123)\n",
    "  # KEGG enrichment\n",
    "  kegg_result <- gseKEGG(gene_list, pvalueCutoff = pval_cutoff, organism = \"hsa\", verbose = FALSE, eps=0)\n",
    "  res_kegg <- kegg_result@result\n",
    "  \n",
    "  # Reactome enrichment\n",
    "  reactome_result <- gsePathway(gene_list, pAdjustMethod = \"BH\", pvalueCutoff = pval_cutoff, organism = \"human\", verbose = FALSE,  eps=0)\n",
    "  res_reactome <- reactome_result@result\n",
    "  \n",
    "  # Hallmark enrichment\n",
    "  hallmark_result <- GSEA(gene_list, TERM2GENE = term2gene_hallmark, pvalueCutoff = pval_cutoff,  eps=0)\n",
    "  res_hallmark <- hallmark_result@result\n",
    "  \n",
    "  if (!is.null(term2gene_hallmark2)) {\n",
    "    hallmark_result2 <- GSEA(gene_list, TERM2GENE = term2gene_hallmark2, pvalueCutoff = pval_cutoff,  eps=0)\n",
    "    res_hallmark2 <- hallmark_result2@result\n",
    "    return(list(KEGG = res_kegg, Reactome = res_reactome, Hallmark1 = res_hallmark, Hallmark2 = res_hallmark2))\n",
    "  }\n",
    "  \n",
    "  return(list(KEGG = res_kegg, Reactome = res_reactome, Hallmark = res_hallmark))\n",
    "}"
   ]
  },
  {
   "cell_type": "code",
   "execution_count": 0,
   "metadata": {
    "application/vnd.databricks.v1+cell": {
     "cellMetadata": {
      "byteLimit": 2048000,
      "rowLimit": 10000
     },
     "inputWidgets": {},
     "nuid": "7ce713d3-288a-4ac1-ac3c-4bfad16cc304",
     "showTitle": false,
     "tableResultSettingsMap": {},
     "title": ""
    }
   },
   "outputs": [],
   "source": [
    "#Fuction to generate a dotplot of the top pathway results\n",
    "# Arguments: results, number of pathways (N with NES <0 and N with NES>0) and tittle of the plot\n",
    "dotplot_pathway_generator <- function(results, N, title) {\n",
    "  aux_pos <- arrange(results[which(results$NES > 0),], -NES)\n",
    "  aux_neg <- arrange(results[which(results$NES < 0),], -NES)\n",
    "  top_results <- unique(rbind(head(aux_pos, n = N), tail(aux_neg, n = N)))\n",
    "  \n",
    "  ggplot(top_results, aes(x = NES, y = reorder(Description, NES), size = setSize, color = p.adjust)) +\n",
    "    geom_point(alpha = 0.7) +\n",
    "    scale_color_gradient(low = \"red\", high = \"darkblue\") +\n",
    "    labs(x = \"NES\", y = \"Pathway\", size = \"SetSize\", color = \"P-value adjust\") +\n",
    "    ggtitle(title) +\n",
    "    theme_minimal() +\n",
    "    theme(axis.text.y = element_text(size = 8))\n",
    "}"
   ]
  },
  {
   "cell_type": "code",
   "execution_count": 0,
   "metadata": {
    "application/vnd.databricks.v1+cell": {
     "cellMetadata": {
      "byteLimit": 2048000,
      "rowLimit": 10000
     },
     "inputWidgets": {},
     "nuid": "6cf61b49-18f3-4e79-8935-65fa3a00fc8f",
     "showTitle": false,
     "tableResultSettingsMap": {},
     "title": ""
    }
   },
   "outputs": [],
   "source": [
    "#Fuction to generate a barplot of the top pathway results\n",
    "# Arguments: results, number of pathways (N with NES <0 and N with NES>0) and tittle of the plot\n",
    "barplot_gsea <- function(res, N, title) {\n",
    "  aux_pos <- arrange(res[which(res$NES > 0),], -NES)\n",
    "  aux_neg <- arrange(res[which(res$NES < 0),], -NES)\n",
    "  GSEA_f <- unique(rbind(head(aux_pos, n = N), tail(aux_neg, n = N)))\n",
    "\n",
    "  options(repr.plot.width = 1000, repr.plot.height = 1000, echo = FALSE)\n",
    "  \n",
    "  plot <- ggplot(GSEA_f, aes(NES, fct_reorder(Description, NES), fill = p.adjust)) + \n",
    "    geom_col(orientation = 'y') + \n",
    "    scale_fill_continuous(low = 'red', high = 'blue', guide = guide_colorbar(reverse = TRUE)) + \n",
    "    theme_minimal() + ylab(NULL) + xlab(\"NES\") +\n",
    "    ggtitle(title)\n",
    "  \n",
    "  return(plot)\n",
    "}"
   ]
  },
  {
   "cell_type": "code",
   "execution_count": 0,
   "metadata": {
    "application/vnd.databricks.v1+cell": {
     "cellMetadata": {
      "byteLimit": 2048000,
      "rowLimit": 10000
     },
     "inputWidgets": {},
     "nuid": "81a140d2-2017-4579-9ed6-ab10ae2fe5cc",
     "showTitle": false,
     "tableResultSettingsMap": {},
     "title": ""
    }
   },
   "outputs": [],
   "source": [
    "G_list <- readRDS(\"/dbfs/mnt/sandbox/RNASeq/PBMCs_IL4/pathways/G_list20240710.rds\") #List with all translations to other id names\n",
    "G_list <-  G_list %>% dplyr::filter(transcript_biotype == \"protein_coding\")"
   ]
  },
  {
   "cell_type": "code",
   "execution_count": 0,
   "metadata": {
    "application/vnd.databricks.v1+cell": {
     "cellMetadata": {
      "byteLimit": 2048000,
      "rowLimit": 10000
     },
     "inputWidgets": {},
     "nuid": "7f87f34d-8171-4f34-80da-efbe1bf5c6ba",
     "showTitle": false,
     "tableResultSettingsMap": {},
     "title": ""
    }
   },
   "outputs": [],
   "source": [
    "#HALLMARKS\n",
    "\n",
    "library(msigdbr)\n",
    "msigdbr_species()\n",
    "\n",
    "m_df <- msigdbr(species = \"Homo sapiens\")\n",
    "head(m_df, 2) %>% as.data.frame\n",
    "msigdbr_collections()\n",
    "\n",
    "C2_t2g <- msigdbr(species = \"Homo sapiens\", category = \"C2\") %>% \n",
    "  dplyr::select(gs_name, entrez_gene)\n",
    "head(C2_t2g) #This collection includes gene sets curated from various sources such as online pathway databases and the biomedical literature. \n",
    "\n",
    "H_t2g <- msigdbr(species = \"Homo sapiens\", category = \"H\") %>% \n",
    "  dplyr::select(gs_name, entrez_gene)\n",
    "head(H_t2g) # These gene sets summarize and represent specific well-defined biological states or processes. They are designed to reduce noise and redundancy, providing a clearer biological context.\n",
    "\n",
    "\n",
    "CP_t2g <- msigdbr(species = \"Homo sapiens\", category = \"C2\", subcategory = \"CP\") %>% \n",
    "  dplyr::select(gs_name, entrez_gene)\n",
    "head(CP_t2g) #CP (Canonical Pathways): Gene sets from pathway databases representing canonical biological processes\n",
    "\n",
    "C7_t2g <- msigdbr(species = \"Homo sapiens\", category = \"C7\") %>% \n",
    "  dplyr::select(gs_name, entrez_gene)\n",
    "head(C7_t2g) #Immunologic Signatures: Gene sets representing expression signatures of immune cell states, cell types, and perturbations"
   ]
  },
  {
   "cell_type": "markdown",
   "metadata": {
    "application/vnd.databricks.v1+cell": {
     "cellMetadata": {
      "byteLimit": 2048000,
      "rowLimit": 10000
     },
     "inputWidgets": {},
     "nuid": "8a14fb73-d282-468a-a6e9-1014b52807c9",
     "showTitle": false,
     "tableResultSettingsMap": {},
     "title": ""
    }
   },
   "source": [
    "##Tcell"
   ]
  },
  {
   "cell_type": "code",
   "execution_count": 0,
   "metadata": {
    "application/vnd.databricks.v1+cell": {
     "cellMetadata": {
      "byteLimit": 2048000,
      "rowLimit": 10000
     },
     "inputWidgets": {},
     "nuid": "3d5d1132-12ea-4485-8e40-0b2441aa4cac",
     "showTitle": false,
     "tableResultSettingsMap": {},
     "title": ""
    }
   },
   "outputs": [],
   "source": [
    "res_tcell <- read.xlsx(\"/dbfs/mnt/sandbox/TFM_PAULA/Reynolds/LvsHC/pseudobulk/reynolds_limma_results_tcell.xlsx\")"
   ]
  },
  {
   "cell_type": "code",
   "execution_count": 0,
   "metadata": {
    "application/vnd.databricks.v1+cell": {
     "cellMetadata": {
      "byteLimit": 2048000,
      "rowLimit": 10000
     },
     "inputWidgets": {},
     "nuid": "3ec5dc5c-bb56-4ad3-bdb5-64753e0688f4",
     "showTitle": false,
     "tableResultSettingsMap": {},
     "title": ""
    }
   },
   "outputs": [],
   "source": [
    "geneList_entrez_Tcell <- prepare_gene_list(res_tcell, G_list)"
   ]
  },
  {
   "cell_type": "markdown",
   "metadata": {
    "application/vnd.databricks.v1+cell": {
     "cellMetadata": {
      "byteLimit": 2048000,
      "rowLimit": 10000
     },
     "inputWidgets": {},
     "nuid": "3262d261-0a2e-449f-b3da-3bf02bc71141",
     "showTitle": false,
     "tableResultSettingsMap": {},
     "title": ""
    }
   },
   "source": [
    "###ENRICHMENT"
   ]
  },
  {
   "cell_type": "code",
   "execution_count": 0,
   "metadata": {
    "application/vnd.databricks.v1+cell": {
     "cellMetadata": {
      "byteLimit": 2048000,
      "rowLimit": 10000
     },
     "inputWidgets": {},
     "nuid": "9b47b894-c493-4a0a-a5a7-7b665c745220",
     "showTitle": false,
     "tableResultSettingsMap": {},
     "title": ""
    }
   },
   "outputs": [],
   "source": [
    "res_tcell_0.05 <- get_enrichments(geneList_entrez_Tcell, 0.05, H_t2g, C2_t2g)"
   ]
  },
  {
   "cell_type": "code",
   "execution_count": 0,
   "metadata": {
    "application/vnd.databricks.v1+cell": {
     "cellMetadata": {
      "byteLimit": 2048000,
      "rowLimit": 10000
     },
     "inputWidgets": {},
     "nuid": "f045f2db-800d-4142-a804-59fb93419960",
     "showTitle": false,
     "tableResultSettingsMap": {},
     "title": ""
    }
   },
   "outputs": [],
   "source": [
    "  options(repr.plot.width = 1500, repr.plot.height = 1000, echo = FALSE)\n"
   ]
  },
  {
   "cell_type": "code",
   "execution_count": 0,
   "metadata": {
    "application/vnd.databricks.v1+cell": {
     "cellMetadata": {
      "byteLimit": 2048000,
      "rowLimit": 10000
     },
     "inputWidgets": {},
     "nuid": "82e6a289-9580-4353-a35d-ba3cd4348945",
     "showTitle": false,
     "tableResultSettingsMap": {},
     "title": ""
    }
   },
   "outputs": [],
   "source": [
    "barplot_gsea(res_tcell_0.05$Reactome, 20,\"Tcell - Reynolds- Reactome\")"
   ]
  },
  {
   "cell_type": "code",
   "execution_count": 0,
   "metadata": {
    "application/vnd.databricks.v1+cell": {
     "cellMetadata": {
      "byteLimit": 2048000,
      "rowLimit": 10000
     },
     "inputWidgets": {},
     "nuid": "f66e608b-6be6-4085-8bf0-259b04151015",
     "showTitle": false,
     "tableResultSettingsMap": {},
     "title": ""
    }
   },
   "outputs": [],
   "source": [
    "set.seed(123)\n",
    "tcell_GO <- enrichGO(gene = names(geneList_entrez_Tcell),\n",
    "                OrgDb         = org.Hs.eg.db,\n",
    "                keyType       = \"ENTREZID\",\n",
    "                ont           = \"BP\", \n",
    "                pAdjustMethod = \"BH\",\n",
    "                pvalueCutoff  = 0.05,\n",
    "                qvalueCutoff = 0.2)\n",
    "\n",
    "res_tcell_GO <- tcell_GO@result\n",
    "\n",
    "# Filter results to include only those with p.adjust < 0.05\n",
    "filtered_res_tcell_GO <- res_tcell_GO %>%\n",
    "  filter(p.adjust < 0.05)\n",
    "display(filtered_res_tcell_GO)"
   ]
  },
  {
   "cell_type": "code",
   "execution_count": 0,
   "metadata": {
    "application/vnd.databricks.v1+cell": {
     "cellMetadata": {
      "byteLimit": 2048000,
      "rowLimit": 10000
     },
     "inputWidgets": {},
     "nuid": "1e033911-4480-4c55-9c5a-14ff1b487034",
     "showTitle": false,
     "tableResultSettingsMap": {},
     "title": ""
    }
   },
   "outputs": [],
   "source": [
    "options(repr.plot.width=1000, repr.plot.height=1000,  echo= F)\n",
    "barplot(tcell_GO, showCategory=30, label_format=50, font.size=9) + ggtitle(\"Reynolds- Tcell - L vs HC - GO\")"
   ]
  },
  {
   "cell_type": "code",
   "execution_count": 0,
   "metadata": {
    "application/vnd.databricks.v1+cell": {
     "cellMetadata": {
      "byteLimit": 2048000,
      "rowLimit": 10000
     },
     "inputWidgets": {},
     "nuid": "a489c2f5-827d-45b7-ad63-2b0c56b73fce",
     "showTitle": false,
     "tableResultSettingsMap": {},
     "title": ""
    }
   },
   "outputs": [],
   "source": [
    "#Save results\n",
    "write.xlsx(res_tcell_0.05, \"/dbfs/mnt/sandbox/TFM_PAULA/Reynolds/LvsHC/GSEA_individually/pseudobulk/res_tcell_0.05_reynolds_limma.xlsx\")\n",
    "# write.xlsx(tcell_GO, \"/dbfs/mnt/sandbox/TFM_PAULA/Reynolds/LvsHC/GSEA_individually/pseudobulk/res_tcell_reynolds_GO_v2.xlsx\")"
   ]
  },
  {
   "cell_type": "code",
   "execution_count": 0,
   "metadata": {
    "application/vnd.databricks.v1+cell": {
     "cellMetadata": {
      "byteLimit": 2048000,
      "rowLimit": 10000
     },
     "inputWidgets": {},
     "nuid": "a263aed5-c4d7-4db2-93ed-1ffaffedc8d0",
     "showTitle": false,
     "tableResultSettingsMap": {},
     "title": ""
    }
   },
   "outputs": [],
   "source": [
    "# res_tcell_1$Reactome[grepl(\"R-HSA-6785807\", res_tcell_1$Reactome$ID), ]"
   ]
  },
  {
   "cell_type": "markdown",
   "metadata": {
    "application/vnd.databricks.v1+cell": {
     "cellMetadata": {
      "byteLimit": 2048000,
      "rowLimit": 10000
     },
     "inputWidgets": {},
     "nuid": "4095bec9-c7c1-49f1-8c84-63e4ba75e20b",
     "showTitle": false,
     "tableResultSettingsMap": {},
     "title": ""
    }
   },
   "source": [
    "##Fibroblasts"
   ]
  },
  {
   "cell_type": "code",
   "execution_count": 0,
   "metadata": {
    "application/vnd.databricks.v1+cell": {
     "cellMetadata": {
      "byteLimit": 2048000,
      "rowLimit": 10000
     },
     "inputWidgets": {},
     "nuid": "bc91b111-abd8-4c7d-9a24-3c372438cc94",
     "showTitle": false,
     "tableResultSettingsMap": {},
     "title": ""
    }
   },
   "outputs": [],
   "source": [
    "res_fb <- read.xlsx( \"/dbfs/mnt/sandbox/TFM_PAULA/Reynolds/LvsHC/pseudobulk/reynolds_limma_results_FB.xlsx\")"
   ]
  },
  {
   "cell_type": "code",
   "execution_count": 0,
   "metadata": {
    "application/vnd.databricks.v1+cell": {
     "cellMetadata": {
      "byteLimit": 2048000,
      "rowLimit": 10000
     },
     "inputWidgets": {},
     "nuid": "87e3aa84-8186-4678-aaaa-1d9b24ef3a47",
     "showTitle": false,
     "tableResultSettingsMap": {},
     "title": ""
    }
   },
   "outputs": [],
   "source": [
    "display(res_fb)"
   ]
  },
  {
   "cell_type": "code",
   "execution_count": 0,
   "metadata": {
    "application/vnd.databricks.v1+cell": {
     "cellMetadata": {
      "byteLimit": 2048000,
      "rowLimit": 10000
     },
     "inputWidgets": {},
     "nuid": "c3d0bd45-6c5b-47cf-908b-a316e49298ba",
     "showTitle": false,
     "tableResultSettingsMap": {},
     "title": ""
    }
   },
   "outputs": [],
   "source": [
    "geneList_entrez_fb <- prepare_gene_list(res_fb, G_list)"
   ]
  },
  {
   "cell_type": "code",
   "execution_count": 0,
   "metadata": {
    "application/vnd.databricks.v1+cell": {
     "cellMetadata": {
      "byteLimit": 2048000,
      "rowLimit": 10000
     },
     "inputWidgets": {},
     "nuid": "23c2ef9c-0358-4e98-87ce-bdc60b66f43b",
     "showTitle": false,
     "tableResultSettingsMap": {},
     "title": ""
    }
   },
   "outputs": [],
   "source": [
    "res_fb_0.05 <- get_enrichments(geneList_entrez_fb, 0.05, H_t2g, C2_t2g)"
   ]
  },
  {
   "cell_type": "code",
   "execution_count": 0,
   "metadata": {
    "application/vnd.databricks.v1+cell": {
     "cellMetadata": {
      "byteLimit": 2048000,
      "rowLimit": 10000
     },
     "inputWidgets": {},
     "nuid": "1ae65247-b937-4887-849c-bb7083eea86a",
     "showTitle": false,
     "tableResultSettingsMap": {},
     "title": ""
    }
   },
   "outputs": [],
   "source": [
    "barplot_gsea(res_fb_0.05$Reactome, 20,\"FB - Reynolds- Reactome\")"
   ]
  },
  {
   "cell_type": "markdown",
   "metadata": {
    "application/vnd.databricks.v1+cell": {
     "cellMetadata": {
      "byteLimit": 2048000,
      "rowLimit": 10000
     },
     "inputWidgets": {},
     "nuid": "057417a7-dc6a-4d76-9006-90714031e16e",
     "showTitle": false,
     "tableResultSettingsMap": {},
     "title": ""
    }
   },
   "source": [
    "###GO"
   ]
  },
  {
   "cell_type": "code",
   "execution_count": 0,
   "metadata": {
    "application/vnd.databricks.v1+cell": {
     "cellMetadata": {
      "byteLimit": 2048000,
      "rowLimit": 10000
     },
     "inputWidgets": {},
     "nuid": "e0267d6a-ede0-4fa3-a289-d76b5e696a0b",
     "showTitle": false,
     "tableResultSettingsMap": {},
     "title": ""
    }
   },
   "outputs": [],
   "source": [
    "set.seed(123)\n",
    "\n",
    "fb_GO <- enrichGO(gene = names(geneList_entrez_fb),\n",
    "                OrgDb         = org.Hs.eg.db,\n",
    "                keyType       = \"ENTREZID\",\n",
    "                ont           = \"BP\", \n",
    "                pAdjustMethod = \"BH\",\n",
    "                pvalueCutoff  = 0.05,\n",
    "                qvalueCutoff = 0.2)\n",
    "                \n",
    "# Extract results\n",
    "res_fb_GO <- fb_GO@result\n",
    "\n",
    "# Filter results to include only those with p.adjust < 0.05\n",
    "filtered_res_fb_GO <- res_fb_GO %>%\n",
    "  filter(p.adjust < 0.05)\n",
    "\n",
    "# Display filtered results\n",
    "display(filtered_res_fb_GO)"
   ]
  },
  {
   "cell_type": "code",
   "execution_count": 0,
   "metadata": {
    "application/vnd.databricks.v1+cell": {
     "cellMetadata": {
      "byteLimit": 2048000,
      "rowLimit": 10000
     },
     "inputWidgets": {},
     "nuid": "d7c4f8b9-0d2e-4096-92c8-49d13bd1e9c8",
     "showTitle": false,
     "tableResultSettingsMap": {},
     "title": ""
    }
   },
   "outputs": [],
   "source": [
    "options(repr.plot.width=1200, repr.plot.height=1200,  echo= F)\n",
    "barplot(fb_GO, showCategory=25, label_format=100, font.size=9) + ggtitle(\"Reynolds- FB - L vs HC - GO\")"
   ]
  },
  {
   "cell_type": "markdown",
   "metadata": {
    "application/vnd.databricks.v1+cell": {
     "cellMetadata": {
      "byteLimit": 2048000,
      "rowLimit": 10000
     },
     "inputWidgets": {},
     "nuid": "c6b4b73e-18d4-4103-9cfc-c19863b36119",
     "showTitle": false,
     "tableResultSettingsMap": {},
     "title": ""
    }
   },
   "source": [
    "###Save results"
   ]
  },
  {
   "cell_type": "code",
   "execution_count": 0,
   "metadata": {
    "application/vnd.databricks.v1+cell": {
     "cellMetadata": {
      "byteLimit": 2048000,
      "rowLimit": 10000
     },
     "inputWidgets": {},
     "nuid": "5f597fe7-24cd-4a9d-973f-41be3b89ca51",
     "showTitle": false,
     "tableResultSettingsMap": {},
     "title": ""
    }
   },
   "outputs": [],
   "source": [
    "#Save results\n",
    "write.xlsx(res_fb_0.05, \"/dbfs/mnt/sandbox/TFM_PAULA/Reynolds/LvsHC/GSEA_individually/pseudobulk/res_fb_0.05_reynolds_limma.xlsx\")\n",
    "# write.xlsx(fb_GO, \"/dbfs/mnt/sandbox/TFM_PAULA/Reynolds/LvsHC/GSEA_individually/pseudobulk/res_fb_reynolds_GO_v2.xlsx\")"
   ]
  },
  {
   "cell_type": "markdown",
   "metadata": {
    "application/vnd.databricks.v1+cell": {
     "cellMetadata": {
      "byteLimit": 2048000,
      "rowLimit": 10000
     },
     "inputWidgets": {},
     "nuid": "a5e6d563-43df-4c11-ba66-46eb4553fee4",
     "showTitle": false,
     "tableResultSettingsMap": {},
     "title": ""
    }
   },
   "source": [
    "##Keratinocytes"
   ]
  },
  {
   "cell_type": "code",
   "execution_count": 0,
   "metadata": {
    "application/vnd.databricks.v1+cell": {
     "cellMetadata": {
      "byteLimit": 2048000,
      "rowLimit": 10000
     },
     "inputWidgets": {},
     "nuid": "faa2fe89-e6fc-4cd4-9910-cdf69132876c",
     "showTitle": false,
     "tableResultSettingsMap": {},
     "title": ""
    }
   },
   "outputs": [],
   "source": [
    "res_kc <- read.xlsx(\"/dbfs/mnt/sandbox/TFM_PAULA/Reynolds/LvsHC/pseudobulk/reynolds_limma_results_kc.xlsx\")"
   ]
  },
  {
   "cell_type": "code",
   "execution_count": 0,
   "metadata": {
    "application/vnd.databricks.v1+cell": {
     "cellMetadata": {
      "byteLimit": 2048000,
      "rowLimit": 10000
     },
     "inputWidgets": {},
     "nuid": "841380b9-bbd1-4a05-af69-5a03f6e193fb",
     "showTitle": false,
     "tableResultSettingsMap": {},
     "title": ""
    }
   },
   "outputs": [],
   "source": [
    "geneList_entrez_kc <- prepare_gene_list(res_kc, G_list)"
   ]
  },
  {
   "cell_type": "code",
   "execution_count": 0,
   "metadata": {
    "application/vnd.databricks.v1+cell": {
     "cellMetadata": {
      "byteLimit": 2048000,
      "rowLimit": 10000
     },
     "inputWidgets": {},
     "nuid": "3b828e19-752f-4e35-af73-60a77c45dc52",
     "showTitle": false,
     "tableResultSettingsMap": {},
     "title": ""
    }
   },
   "outputs": [],
   "source": [
    "res_kc_0.05 <- get_enrichments(geneList_entrez_kc, 0.05, H_t2g, C2_t2g)"
   ]
  },
  {
   "cell_type": "code",
   "execution_count": 0,
   "metadata": {
    "application/vnd.databricks.v1+cell": {
     "cellMetadata": {
      "byteLimit": 2048000,
      "rowLimit": 10000
     },
     "inputWidgets": {},
     "nuid": "388f24a4-13ba-4f34-a5e3-043610d64adb",
     "showTitle": false,
     "tableResultSettingsMap": {},
     "title": ""
    }
   },
   "outputs": [],
   "source": [
    "  options(repr.plot.width = 1300, repr.plot.height = 1000, echo = FALSE)\n"
   ]
  },
  {
   "cell_type": "code",
   "execution_count": 0,
   "metadata": {
    "application/vnd.databricks.v1+cell": {
     "cellMetadata": {
      "byteLimit": 2048000,
      "rowLimit": 10000
     },
     "inputWidgets": {},
     "nuid": "485842a1-f927-4ae4-a157-3b171a4fd1cf",
     "showTitle": false,
     "tableResultSettingsMap": {},
     "title": ""
    }
   },
   "outputs": [],
   "source": [
    "barplot_gsea(res_kc_0.05$Reactome, 20,\"Keratinocytes - Reynolds- Reactome\")"
   ]
  },
  {
   "cell_type": "code",
   "execution_count": 0,
   "metadata": {
    "application/vnd.databricks.v1+cell": {
     "cellMetadata": {
      "byteLimit": 2048000,
      "rowLimit": 10000
     },
     "inputWidgets": {},
     "nuid": "e448c232-3527-4539-a219-531859d31769",
     "showTitle": false,
     "tableResultSettingsMap": {},
     "title": ""
    }
   },
   "outputs": [],
   "source": [
    "set.seed(123)\n",
    "\n",
    "kc_GO <- enrichGO(gene = names(geneList_entrez_kc),\n",
    "                OrgDb         = org.Hs.eg.db,\n",
    "                keyType       = \"ENTREZID\",\n",
    "                ont           = \"BP\", \n",
    "                pAdjustMethod = \"BH\",\n",
    "                pvalueCutoff  = 0.05,\n",
    "                qvalueCutoff = 0.2)\n",
    "                \n",
    "# Extract results\n",
    "res_kc_GO <- kc_GO@result\n",
    "\n",
    "# Filter results to include only those with p.adjust < 0.05\n",
    "filtered_res_kc_GO <- res_kc_GO %>%\n",
    "  filter(p.adjust < 0.05)\n",
    "\n",
    "# Display filtered results\n",
    "display(filtered_res_kc_GO)"
   ]
  },
  {
   "cell_type": "code",
   "execution_count": 0,
   "metadata": {
    "application/vnd.databricks.v1+cell": {
     "cellMetadata": {
      "byteLimit": 2048000,
      "rowLimit": 10000
     },
     "inputWidgets": {},
     "nuid": "4fc06e8c-77b4-44d8-87ab-a20996c94038",
     "showTitle": false,
     "tableResultSettingsMap": {},
     "title": ""
    }
   },
   "outputs": [],
   "source": [
    "options(repr.plot.width=1200, repr.plot.height=1200,  echo= F)\n",
    "barplot(kc_GO, showCategory=25, label_format=100, font.size=9) + ggtitle(\"Reynolds KC - L vs HC - GO\")"
   ]
  },
  {
   "cell_type": "markdown",
   "metadata": {
    "application/vnd.databricks.v1+cell": {
     "cellMetadata": {
      "byteLimit": 2048000,
      "rowLimit": 10000
     },
     "inputWidgets": {},
     "nuid": "d112c9f8-8b60-4600-a757-1aeaff9fc994",
     "showTitle": false,
     "tableResultSettingsMap": {},
     "title": ""
    }
   },
   "source": [
    "###Save results"
   ]
  },
  {
   "cell_type": "code",
   "execution_count": 0,
   "metadata": {
    "application/vnd.databricks.v1+cell": {
     "cellMetadata": {
      "byteLimit": 2048000,
      "rowLimit": 10000
     },
     "inputWidgets": {},
     "nuid": "4245fda1-74d3-49f7-a332-9ec9af818614",
     "showTitle": false,
     "tableResultSettingsMap": {},
     "title": ""
    }
   },
   "outputs": [],
   "source": [
    "# #Save results\n",
    "write.xlsx(res_kc_0.05, \"/dbfs/mnt/sandbox/TFM_PAULA/Reynolds/LvsHC/GSEA_individually/pseudobulk/res_kc_0.05_reynolds_limma.xlsx\")\n",
    "# write.xlsx(kc_GO, \"/dbfs/mnt/sandbox/TFM_PAULA/Reynolds/LvsHC/GSEA_individually/pseudobulk/res_kc_reynolds_GO_v2.xlsx\")"
   ]
  },
  {
   "cell_type": "code",
   "execution_count": 0,
   "metadata": {
    "application/vnd.databricks.v1+cell": {
     "cellMetadata": {
      "byteLimit": 2048000,
      "rowLimit": 10000
     },
     "inputWidgets": {},
     "nuid": "014f2e7a-d65b-47ef-b4b2-87f369ad78ad",
     "showTitle": false,
     "tableResultSettingsMap": {},
     "title": ""
    }
   },
   "outputs": [],
   "source": []
  }
 ],
 "metadata": {
  "application/vnd.databricks.v1+notebook": {
   "computePreferences": null,
   "dashboards": [],
   "environmentMetadata": null,
   "inputWidgetPreferences": null,
   "language": "r",
   "notebookMetadata": {
    "mostRecentlyExecutedCommandWithImplicitDF": {
     "commandId": 4185190313995313,
     "dataframes": [
      "_sqldf"
     ]
    },
    "pythonIndentUnit": 4
   },
   "notebookName": "3.3.reynolds_pathway_enrichment_LvsHC",
   "widgets": {}
  },
  "language_info": {
   "name": "r"
  }
 },
 "nbformat": 4,
 "nbformat_minor": 0
}
