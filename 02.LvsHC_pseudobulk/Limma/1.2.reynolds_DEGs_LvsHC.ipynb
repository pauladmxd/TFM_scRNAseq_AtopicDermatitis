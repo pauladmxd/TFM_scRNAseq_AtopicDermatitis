{
 "cells": [
  {
   "cell_type": "markdown",
   "metadata": {
    "application/vnd.databricks.v1+cell": {
     "cellMetadata": {
      "byteLimit": 2048000,
      "rowLimit": 10000
     },
     "inputWidgets": {},
     "nuid": "617ed7fa-1b02-46db-b545-48d40cf88859",
     "showTitle": false,
     "tableResultSettingsMap": {},
     "title": ""
    }
   },
   "source": [
    "#Find DEGs with pseudobulk (limma)\n",
    "## AD/PS Reynolds et al, 2021\n",
    "- Includes lesional and non-lesional samples\n",
    "\n",
    "Here will be performed the analysis to find all markers of each relevant cell type in Reynolds et al, 2021 dataset. following: https://satijalab.org/seurat/articles/de_vignette#perform-de-analysis-after-pseudobulking).\n",
    "\n",
    "###Most relevant cell types: \n",
    "T-cells (TC), Treg, Innate linfoid cells (ILC), Fibroblasts, Keratinocytes (KC), Monocytes (Mono), Macrophagues (Macro), Dendritic cells (DC), Natural killers (NK) and MastC\n",
    "\n",
    "###Constrasts: \n",
    "  - Lesional vs Healthy control (LvsHC)\n",
    "  - Non lesional vs Healthy control (NLvsHC)\n",
    "  - Lesional vs Non-lesional (LvsNL)"
   ]
  },
  {
   "cell_type": "code",
   "execution_count": 0,
   "metadata": {
    "application/vnd.databricks.v1+cell": {
     "cellMetadata": {
      "byteLimit": 2048000,
      "rowLimit": 10000
     },
     "inputWidgets": {},
     "nuid": "ef76d64b-42ef-4851-9b3f-1c2f214e28bb",
     "showTitle": false,
     "tableResultSettingsMap": {},
     "title": ""
    }
   },
   "outputs": [],
   "source": [
    ".libPaths(c(\"/dbfs/home/jtrincado@almirall.com/my_r_packages/Seurat\", .libPaths()))\n",
    "library(dplyr)\n",
    "library(openxlsx)"
   ]
  },
  {
   "cell_type": "code",
   "execution_count": 0,
   "metadata": {
    "application/vnd.databricks.v1+cell": {
     "cellMetadata": {
      "byteLimit": 2048000,
      "rowLimit": 10000
     },
     "inputWidgets": {},
     "nuid": "7096e5c6-a1d1-4979-b0f8-b22d0d398258",
     "showTitle": false,
     "tableResultSettingsMap": {},
     "title": ""
    }
   },
   "outputs": [],
   "source": [
    "my_library <- \"/dbfs/home/pdelgadom@almirall.com/my_r_packages/tfm_paula_4\"\n",
    "dir.create(my_library, recursive=TRUE, showWarnings=FALSE)\n",
    ".libPaths(c(my_library, .libPaths()))\n",
    "if (!requireNamespace(\"remotes\")) install.packages(\"remotes\")\n",
    " \n",
    "install_from_github <- function(pkg_name, my_library=NULL) {\n",
    "  if (is.null(my_library)) {\n",
    "    my_library <- .libPaths()[1]\n",
    "    message(\"Installing \", pkg_name, \" to \", my_library)\n",
    "  }\n",
    " \n",
    "  temp_library <- tempfile()\n",
    "  dir.create(temp_library)\n",
    "  #remotes::install_cran(pkg_name, lib = temp_library, upgrade=FALSE)\n",
    "  remotes::install_bioc(pkg_name, lib=temp_library, upgrade=FALSE)\n",
    "  #remotes::install_github(pkg_name, lib = temp_library, upgrade=FALSE)\n",
    "  for (x in list.files(temp_library)) {\n",
    "    file.copy(\n",
    "      file.path(temp_library, x),\n",
    "      my_library,\n",
    "      recursive=TRUE\n",
    "    )\n",
    "  }\n",
    "}"
   ]
  },
  {
   "cell_type": "code",
   "execution_count": 0,
   "metadata": {
    "application/vnd.databricks.v1+cell": {
     "cellMetadata": {
      "byteLimit": 2048000,
      "rowLimit": 10000
     },
     "inputWidgets": {},
     "nuid": "5f7a3ce3-1860-4dba-902e-a0ca76e7ab9b",
     "showTitle": false,
     "tableResultSettingsMap": {},
     "title": ""
    }
   },
   "outputs": [],
   "source": [
    "if (!requireNamespace(\"limma\"))install_from_github(\"limma\")"
   ]
  },
  {
   "cell_type": "code",
   "execution_count": 0,
   "metadata": {
    "application/vnd.databricks.v1+cell": {
     "cellMetadata": {
      "byteLimit": 2048000,
      "rowLimit": 10000
     },
     "inputWidgets": {},
     "nuid": "f2aec42d-ad74-4e61-ad2c-e36b8ca0878e",
     "showTitle": false,
     "tableResultSettingsMap": {},
     "title": ""
    }
   },
   "outputs": [],
   "source": [
    "if (!requireNamespace(\"edgeR\"))install_from_github(\"edgeR\")"
   ]
  },
  {
   "cell_type": "code",
   "execution_count": 0,
   "metadata": {
    "application/vnd.databricks.v1+cell": {
     "cellMetadata": {
      "byteLimit": 2048000,
      "rowLimit": 10000
     },
     "inputWidgets": {},
     "nuid": "d7a89a95-0a37-4a99-9fbe-d4f1511deccf",
     "showTitle": false,
     "tableResultSettingsMap": {},
     "title": ""
    }
   },
   "outputs": [],
   "source": [
    ".libPaths(c(\"/dbfs/home/pdelgadom@almirall.com/my_r_packages/tfm_paula_4\", .libPaths()))\n",
    "library(limma)\n",
    "library(edgeR)"
   ]
  },
  {
   "cell_type": "code",
   "execution_count": 0,
   "metadata": {
    "application/vnd.databricks.v1+cell": {
     "cellMetadata": {
      "byteLimit": 2048000,
      "rowLimit": 10000
     },
     "inputWidgets": {},
     "nuid": "1b79f773-4f1c-4086-8532-18209176c5a6",
     "showTitle": false,
     "tableResultSettingsMap": {},
     "title": ""
    }
   },
   "outputs": [],
   "source": [
    ".libPaths(c(\"/dbfs/home/boriol@almirall.com/my_r_packages/bulkRNASeq_PBMCs_R4.3\", .libPaths()))\n",
    "library(EnhancedVolcano)\n",
    "library(VennDiagram)"
   ]
  },
  {
   "cell_type": "code",
   "execution_count": 0,
   "metadata": {
    "application/vnd.databricks.v1+cell": {
     "cellMetadata": {
      "byteLimit": 2048000,
      "rowLimit": 10000
     },
     "inputWidgets": {},
     "nuid": "d6fc1926-d4c0-4d5a-9e4d-0050f1f67b41",
     "showTitle": false,
     "tableResultSettingsMap": {},
     "title": ""
    }
   },
   "outputs": [],
   "source": [
    "#Load required libraries\n",
    ".libPaths(c(\"/dbfs/home/jtrincado@almirall.com/my_r_packages/Seurat_v2/\", .libPaths()))\n",
    "library(Seurat)"
   ]
  },
  {
   "cell_type": "code",
   "execution_count": 0,
   "metadata": {
    "application/vnd.databricks.v1+cell": {
     "cellMetadata": {
      "byteLimit": 2048000,
      "rowLimit": 10000
     },
     "inputWidgets": {},
     "nuid": "3b6b9778-7de2-404c-8a82-27a057736dce",
     "showTitle": false,
     "tableResultSettingsMap": {},
     "title": ""
    }
   },
   "outputs": [],
   "source": [
    "volcano_generator<- function(resultsDE){\n",
    "resultsDE<- as.data.frame(resultsDE)\n",
    "\n",
    "#Create anotations for volcano plot\n",
    "resultsDE0 <- resultsDE\n",
    "rownames(resultsDE0) <- resultsDE0$gene\n",
    "\n",
    "top10_genes <- resultsDE0 %>% \n",
    "filter(logFC > 1 & adj.P.Val < 0.05 ) %>%\n",
    "arrange(adj.P.Val) %>% top_n(10, -adj.P.Val)\n",
    "\n",
    "bottom10_genes <-  resultsDE0 %>% \n",
    "filter(logFC < -1 & adj.P.Val < 0.05 ) %>%\n",
    "arrange(adj.P.Val) %>% top_n(10, -adj.P.Val)\n",
    "\n",
    "#Plot Volcano\n",
    "volcano <- (EnhancedVolcano(resultsDE0,\n",
    "lab = rownames(resultsDE0),\n",
    "x = 'logFC',\n",
    "y = 'adj.P.Val',\n",
    "pCutoff = 0.05,\n",
    "selectLab = c(top10_genes$gene, bottom10_genes$gene),\n",
    "labSize = 5,\n",
    "drawConnectors = TRUE,\n",
    "widthConnectors = 0.5,\n",
    "colConnectors = 'black'))\n",
    "volcano\n",
    "\n",
    "}"
   ]
  },
  {
   "cell_type": "markdown",
   "metadata": {
    "application/vnd.databricks.v1+cell": {
     "cellMetadata": {
      "byteLimit": 2048000,
      "rowLimit": 10000
     },
     "inputWidgets": {},
     "nuid": "10b8c933-c630-4f3f-99c6-0ea1d9f8386d",
     "showTitle": false,
     "tableResultSettingsMap": {},
     "title": ""
    }
   },
   "source": [
    "##Read data"
   ]
  },
  {
   "cell_type": "code",
   "execution_count": 0,
   "metadata": {
    "application/vnd.databricks.v1+cell": {
     "cellMetadata": {
      "byteLimit": 2048000,
      "rowLimit": 10000
     },
     "inputWidgets": {},
     "nuid": "ff82b369-31e4-423c-b12d-d7364084361d",
     "showTitle": false,
     "tableResultSettingsMap": {},
     "title": ""
    }
   },
   "outputs": [],
   "source": [
    "#Read seurat object\n",
    "reynolds <- readRDS(file=\"/dbfs/mnt/sandbox/TFM_PAULA/REYNOLDS_PROCESSED_TFM.rds\")"
   ]
  },
  {
   "cell_type": "code",
   "execution_count": 0,
   "metadata": {
    "application/vnd.databricks.v1+cell": {
     "cellMetadata": {
      "byteLimit": 2048000,
      "rowLimit": 10000
     },
     "inputWidgets": {},
     "nuid": "f95cadbd-b780-4144-8d83-789ef4b9ba73",
     "showTitle": false,
     "tableResultSettingsMap": {},
     "title": ""
    }
   },
   "outputs": [],
   "source": [
    "head(reynolds@meta.data, 5)"
   ]
  },
  {
   "cell_type": "code",
   "execution_count": 0,
   "metadata": {
    "application/vnd.databricks.v1+cell": {
     "cellMetadata": {
      "byteLimit": 2048000,
      "rowLimit": 10000
     },
     "inputWidgets": {},
     "nuid": "c2bd368b-7118-485b-a848-2f11da1072d7",
     "showTitle": false,
     "tableResultSettingsMap": {},
     "title": ""
    }
   },
   "outputs": [],
   "source": [
    "# Create a new column 'Condition' with default value 'healthy'\n",
    "reynolds$Condition <- \"healthy\"\n",
    "\n",
    "# Update 'Condition' based on the 'Status' and 'Site' columns\n",
    "reynolds$Condition[reynolds$Status == \"Eczema\" & reynolds$Site == \"lesion\"] <- \"lesional\"\n",
    "reynolds$Condition[reynolds$Status == \"Eczema\" & reynolds$Site == \"non_lesion\"] <- \"non lesional\"\n",
    "\n",
    "unique(reynolds$Condition)"
   ]
  },
  {
   "cell_type": "markdown",
   "metadata": {
    "application/vnd.databricks.v1+cell": {
     "cellMetadata": {
      "byteLimit": 2048000,
      "rowLimit": 10000
     },
     "inputWidgets": {},
     "nuid": "0f4bda69-190b-41e6-995e-fa858b434054",
     "showTitle": false,
     "tableResultSettingsMap": {},
     "title": ""
    }
   },
   "source": [
    "For aitor IST"
   ]
  },
  {
   "cell_type": "code",
   "execution_count": 0,
   "metadata": {
    "application/vnd.databricks.v1+cell": {
     "cellMetadata": {
      "byteLimit": 2048000,
      "rowLimit": 10000
     },
     "inputWidgets": {},
     "nuid": "45942a3a-44b1-4c3f-9838-380c6d6f76f4",
     "showTitle": false,
     "tableResultSettingsMap": {},
     "title": ""
    }
   },
   "outputs": [],
   "source": [
    "# # Create a new column 'Condition' with default value 'healthy'\n",
    "# reynolds$Condition <- \"HC\"\n",
    "\n",
    "# # Update 'Condition' based on the 'Status' and 'Site' columns\n",
    "# reynolds$Condition[reynolds$Status == \"Eczema\" & reynolds$Site == \"lesion\"] <- \"Lesional\"\n",
    "# reynolds$Condition[reynolds$Status == \"Eczema\" & reynolds$Site == \"non_lesion\"] <- \"Non_lesional\"\n",
    "\n",
    "# unique(reynolds$Condition)"
   ]
  },
  {
   "cell_type": "markdown",
   "metadata": {
    "application/vnd.databricks.v1+cell": {
     "cellMetadata": {
      "byteLimit": 2048000,
      "rowLimit": 10000
     },
     "inputWidgets": {},
     "nuid": "7c35d1d7-68dc-4f44-b091-5635b8a250a0",
     "showTitle": false,
     "tableResultSettingsMap": {},
     "title": ""
    }
   },
   "source": [
    "##Filtering variables that have at least 3 counts\n"
   ]
  },
  {
   "cell_type": "code",
   "execution_count": 0,
   "metadata": {
    "application/vnd.databricks.v1+cell": {
     "cellMetadata": {
      "byteLimit": 2048000,
      "rowLimit": 10000
     },
     "inputWidgets": {},
     "nuid": "606da3ec-8ae0-41f3-af2d-b7c4f2dfda09",
     "showTitle": false,
     "tableResultSettingsMap": {},
     "title": ""
    }
   },
   "outputs": [],
   "source": [
    "counts_matrix <- reynolds[[\"RNA\"]]$counts\n",
    "dim(counts_matrix)"
   ]
  },
  {
   "cell_type": "code",
   "execution_count": 0,
   "metadata": {
    "application/vnd.databricks.v1+cell": {
     "cellMetadata": {
      "byteLimit": 2048000,
      "rowLimit": 10000
     },
     "inputWidgets": {},
     "nuid": "eff2ae00-40b0-4a84-be8b-3b42a6fed4cb",
     "showTitle": false,
     "tableResultSettingsMap": {},
     "title": ""
    }
   },
   "outputs": [],
   "source": [
    "# Keep only rows that have a count of at least 3 counts in 3 samples\n",
    "smallestGroupSize <- 3\n",
    "keep <- rowSums(counts_matrix >= 3) >= smallestGroupSize\n",
    "counts_keep <- counts_matrix[keep,]\n",
    "\n",
    "# Subset the Seurat object to keep only the features in counts_keep\n",
    "reynolds_f <- subset(reynolds, features = rownames(counts_keep))\n",
    "\n",
    "# Assign the filtered counts to the new Seurat object\n",
    "reynolds_f[[\"RNA\"]]$counts <- counts_keep\n",
    "\n",
    "# Check dimensions\n",
    "dim(reynolds_f[[\"RNA\"]]$counts)"
   ]
  },
  {
   "cell_type": "code",
   "execution_count": 0,
   "metadata": {
    "application/vnd.databricks.v1+cell": {
     "cellMetadata": {
      "byteLimit": 2048000,
      "rowLimit": 10000
     },
     "inputWidgets": {},
     "nuid": "76b61e79-052c-4793-b75a-b7c90398bfcb",
     "showTitle": false,
     "tableResultSettingsMap": {},
     "title": ""
    }
   },
   "outputs": [],
   "source": [
    "head(reynolds_f[[\"RNA\"]]$counts)"
   ]
  },
  {
   "cell_type": "markdown",
   "metadata": {
    "application/vnd.databricks.v1+cell": {
     "cellMetadata": {
      "byteLimit": 2048000,
      "rowLimit": 10000
     },
     "inputWidgets": {},
     "nuid": "e8148eec-d41f-4f57-8199-e6ba0edc2539",
     "showTitle": false,
     "tableResultSettingsMap": {},
     "title": ""
    }
   },
   "source": [
    "##Pseudobulk the counts based on the donor id"
   ]
  },
  {
   "cell_type": "code",
   "execution_count": 0,
   "metadata": {
    "application/vnd.databricks.v1+cell": {
     "cellMetadata": {
      "byteLimit": 2048000,
      "rowLimit": 10000
     },
     "inputWidgets": {},
     "nuid": "7e62e85a-8612-42b1-8f81-6845ee65f762",
     "showTitle": false,
     "tableResultSettingsMap": {},
     "title": ""
    }
   },
   "outputs": [],
   "source": [
    "# pseudobulk the counts based on donor-condition-celltype\n",
    "pseudo_reynolds <- AggregateExpression(reynolds_f, assays = \"RNA\", return.seurat = T, group.by = c(\"Condition\", \"donor_id\", \"h_celltype\"))\n",
    "\n",
    "# each 'cell' is a donor-condition-celltype pseudobulk profile\n",
    "tail(Cells(pseudo_reynolds))"
   ]
  },
  {
   "cell_type": "code",
   "execution_count": 0,
   "metadata": {
    "application/vnd.databricks.v1+cell": {
     "cellMetadata": {
      "byteLimit": 2048000,
      "rowLimit": 10000
     },
     "inputWidgets": {},
     "nuid": "e8e1af9d-28d0-4ed4-86d2-7e08a4842636",
     "showTitle": false,
     "tableResultSettingsMap": {},
     "title": ""
    }
   },
   "outputs": [],
   "source": [
    "pseudo_reynolds"
   ]
  },
  {
   "cell_type": "code",
   "execution_count": 0,
   "metadata": {
    "application/vnd.databricks.v1+cell": {
     "cellMetadata": {
      "byteLimit": 2048000,
      "rowLimit": 10000
     },
     "inputWidgets": {},
     "nuid": "4b4492ed-05ea-44f6-b1cc-aeab4f4426dc",
     "showTitle": false,
     "tableResultSettingsMap": {},
     "title": ""
    }
   },
   "outputs": [],
   "source": [
    "pseudo_reynolds$celltype.cond <- paste(pseudo_reynolds$h_celltype, pseudo_reynolds$Condition, sep = \"_\")"
   ]
  },
  {
   "cell_type": "code",
   "execution_count": 0,
   "metadata": {
    "application/vnd.databricks.v1+cell": {
     "cellMetadata": {
      "byteLimit": 2048000,
      "rowLimit": 10000
     },
     "inputWidgets": {},
     "nuid": "b6533606-ee13-400b-a94c-d8ad2afef93b",
     "showTitle": false,
     "tableResultSettingsMap": {},
     "title": ""
    }
   },
   "outputs": [],
   "source": [
    "Idents(pseudo_reynolds) <- \"celltype.cond\""
   ]
  },
  {
   "cell_type": "code",
   "execution_count": 0,
   "metadata": {
    "application/vnd.databricks.v1+cell": {
     "cellMetadata": {
      "byteLimit": 2048000,
      "rowLimit": 10000
     },
     "inputWidgets": {},
     "nuid": "3de7b5ff-14ef-45d4-9805-66a501ede7ad",
     "showTitle": false,
     "tableResultSettingsMap": {},
     "title": ""
    }
   },
   "outputs": [],
   "source": [
    "# saveRDS(pseudo_reynolds, file=\"/dbfs/mnt/sandbox/TFM_PAULA/REYNOLDS_aggregated_expression_TFM.rds\")"
   ]
  },
  {
   "cell_type": "markdown",
   "metadata": {
    "application/vnd.databricks.v1+cell": {
     "cellMetadata": {
      "byteLimit": 2048000,
      "rowLimit": 10000
     },
     "inputWidgets": {},
     "nuid": "5aa4687a-01ad-484b-a137-b518217e85d2",
     "showTitle": false,
     "tableResultSettingsMap": {},
     "title": ""
    }
   },
   "source": [
    "##PCA"
   ]
  },
  {
   "cell_type": "code",
   "execution_count": 0,
   "metadata": {
    "application/vnd.databricks.v1+cell": {
     "cellMetadata": {
      "byteLimit": 2048000,
      "rowLimit": 10000
     },
     "inputWidgets": {},
     "nuid": "e5cbdcae-9c03-4662-adc0-25006c0f75c8",
     "showTitle": false,
     "tableResultSettingsMap": {},
     "title": ""
    }
   },
   "outputs": [],
   "source": [
    "# Step 2: Normalize the data\n",
    "pseudo_reynolds <- NormalizeData(pseudo_reynolds)\n",
    "\n",
    "# Step 3: Find variable features\n",
    "pseudo_reynolds <- FindVariableFeatures(pseudo_reynolds)\n",
    "\n",
    "# Step 4: Scale the data\n",
    "pseudo_reynolds <- ScaleData(pseudo_reynolds)\n",
    "\n",
    "# Step 5: Run PCA\n",
    "pseudo_reynolds <- RunPCA(pseudo_reynolds, features = VariableFeatures(object = pseudo_reynolds))"
   ]
  },
  {
   "cell_type": "code",
   "execution_count": 0,
   "metadata": {
    "application/vnd.databricks.v1+cell": {
     "cellMetadata": {
      "byteLimit": 2048000,
      "rowLimit": 10000
     },
     "inputWidgets": {},
     "nuid": "9c003849-e08f-4ba8-ae13-cf751c6a6e11",
     "showTitle": false,
     "tableResultSettingsMap": {},
     "title": ""
    }
   },
   "outputs": [],
   "source": [
    "# Visualize PCA results with sample ID labels and color by celltype\n",
    "plot1 <- DimPlot(pseudo_reynolds, reduction = \"pca\", group.by = \"h_celltype\", label = TRUE, repel = TRUE)\n",
    "\n",
    "# Visualize PCA results with sample ID labels and color by sample id\n",
    "plot2 <- DimPlot(pseudo_reynolds, reduction = \"pca\", group.by = \"Condition\", label = TRUE, repel = TRUE)\n",
    "\n",
    "options(repr.plot.width=1500, repr.plot.height=1200)\n",
    "\n",
    "plot1 + plot2"
   ]
  },
  {
   "cell_type": "code",
   "execution_count": 0,
   "metadata": {
    "application/vnd.databricks.v1+cell": {
     "cellMetadata": {
      "byteLimit": 2048000,
      "rowLimit": 10000
     },
     "inputWidgets": {},
     "nuid": "e70d85c2-cfa3-49bf-975a-a5b4f7803743",
     "showTitle": false,
     "tableResultSettingsMap": {},
     "title": ""
    }
   },
   "outputs": [],
   "source": [
    "pseudo_reynolds <- subset(pseudo_reynolds, Condition != \"non lesional\")"
   ]
  },
  {
   "cell_type": "markdown",
   "metadata": {
    "application/vnd.databricks.v1+cell": {
     "cellMetadata": {
      "byteLimit": 2048000,
      "rowLimit": 10000
     },
     "inputWidgets": {},
     "nuid": "3a1c9cbd-8686-47d2-8314-dd8c542b7a1e",
     "showTitle": false,
     "tableResultSettingsMap": {},
     "title": ""
    }
   },
   "source": [
    "#Limma for pseudobulk"
   ]
  },
  {
   "cell_type": "code",
   "execution_count": 0,
   "metadata": {
    "application/vnd.databricks.v1+cell": {
     "cellMetadata": {
      "byteLimit": 2048000,
      "rowLimit": 10000
     },
     "inputWidgets": {},
     "nuid": "44d741d6-41a2-4244-accf-21569150ef63",
     "showTitle": false,
     "tableResultSettingsMap": {},
     "title": ""
    }
   },
   "outputs": [],
   "source": [
    "expr_matrix <- pseudo_reynolds$RNA$counts\n",
    "metadata <- data.frame(sample_id= colnames(expr_matrix))"
   ]
  },
  {
   "cell_type": "code",
   "execution_count": 0,
   "metadata": {
    "application/vnd.databricks.v1+cell": {
     "cellMetadata": {
      "byteLimit": 2048000,
      "rowLimit": 10000
     },
     "inputWidgets": {},
     "nuid": "c2fa76ff-a601-4f0d-83eb-41c7fe1bd086",
     "showTitle": false,
     "tableResultSettingsMap": {},
     "title": ""
    }
   },
   "outputs": [],
   "source": [
    "# Split names into components by underscore\n",
    "metadata$condition <- sapply(strsplit(as.character(metadata$sample_id), \"_\"), `[`, 1)\n",
    "metadata$sample <- sapply(strsplit(as.character(metadata$sample_id), \"_\"), `[`, 2)\n",
    "metadata$celltype <- sapply(strsplit(as.character(metadata$sample_id), \"_\"), `[`, 3)\n",
    "rownames(metadata) <- metadata$sample_id\n",
    "\n",
    "all(rownames(metadata) == colnames(expr_matrix))  # should be TRUE\n",
    " "
   ]
  },
  {
   "cell_type": "code",
   "execution_count": 0,
   "metadata": {
    "application/vnd.databricks.v1+cell": {
     "cellMetadata": {
      "byteLimit": 2048000,
      "rowLimit": 10000
     },
     "inputWidgets": {},
     "nuid": "19d7ef35-c060-433c-adff-0cc8feb9b7fd",
     "showTitle": false,
     "tableResultSettingsMap": {},
     "title": ""
    }
   },
   "outputs": [],
   "source": [
    "# Extract sample names\n",
    "samples <- colnames(expr_matrix)\n",
    " \n",
    "# Parse to get cell types\n",
    "celltypes <- sapply(strsplit(samples, \"_\"), function(x) x[3])\n",
    " \n",
    "# Get unique cell types\n",
    "unique_celltypes <- unique(celltypes)"
   ]
  },
  {
   "cell_type": "code",
   "execution_count": 0,
   "metadata": {
    "application/vnd.databricks.v1+cell": {
     "cellMetadata": {
      "byteLimit": 2048000,
      "rowLimit": 10000
     },
     "inputWidgets": {},
     "nuid": "41294626-5d05-46d6-b5e3-4b38ea185be8",
     "showTitle": false,
     "tableResultSettingsMap": {},
     "title": ""
    }
   },
   "outputs": [],
   "source": [
    "expr_matrix <- as.matrix(expr_matrix)"
   ]
  },
  {
   "cell_type": "code",
   "execution_count": 0,
   "metadata": {
    "application/vnd.databricks.v1+cell": {
     "cellMetadata": {
      "byteLimit": 2048000,
      "rowLimit": 10000
     },
     "inputWidgets": {},
     "nuid": "09953d3b-b49e-43a8-9662-f150a157ce26",
     "showTitle": false,
     "tableResultSettingsMap": {},
     "title": ""
    }
   },
   "outputs": [],
   "source": [
    "wanted_celltypes <- c(\"NK\", \"Macro\", \"TC\", \"KC\", \"Fibroblasts\", \"Treg\")\n",
    "# 'samples' assumed to be: colnames of expr_matrix\n",
    "samples <- colnames(expr_matrix)\n",
    "reynolds_limma_res <- list()\n",
    "for (ct in wanted_celltypes) {\n",
    "  # Subset sample names that end with the current cell type\n",
    "  cols_ct <- samples[grepl(paste0(\"_\", ct, \"$\"), samples)]\n",
    "  if (length(cols_ct) < 2) {\n",
    "    cat(\"Skipping cell type:\", ct, \"- not enough samples\\n\")\n",
    "    next\n",
    "  }\n",
    "  # Extract metadata from column names\n",
    "  split_list <- strsplit(cols_ct, \"_\")\n",
    "  sample_info_ct <- do.call(rbind, split_list)\n",
    "  colnames(sample_info_ct) <- c(\"condition\", \"sample\", \"celltype\")\n",
    "  sample_info_ct <- as.data.frame(sample_info_ct, stringsAsFactors = TRUE)\n",
    "  rownames(sample_info_ct) <- cols_ct\n",
    "  sample_info_ct$condition <- factor(sample_info_ct$condition, levels = c(\"healthy\", \"lesional\"))\n",
    "  # Subset expression matrix\n",
    "  expr_ct <- expr_matrix[, cols_ct, drop = FALSE]\n",
    "  expr_ct <- as.matrix(expr_ct)\n",
    "  mode(expr_ct) <- \"numeric\"\n",
    "  # Create DGEList and filter\n",
    "  dge_ct <- DGEList(counts = expr_ct)\n",
    "  keep <- filterByExpr(dge_ct, group = sample_info_ct$condition)\n",
    "  dge_ct <- dge_ct[keep, , keep.lib.sizes = FALSE]\n",
    "  dge_ct <- calcNormFactors(dge_ct)\n",
    "  # Design matrix\n",
    "  design_ct <- model.matrix(~ condition, data = sample_info_ct)\n",
    "  # voom and limma\n",
    "  v_ct <- voom(dge_ct, design_ct, plot = FALSE)\n",
    "  fit_ct <- lmFit(v_ct, design_ct)\n",
    "  fit_ct <- eBayes(fit_ct)\n",
    "  # Extract DE results\n",
    "  res_ct <- topTable(fit_ct, coef = \"conditionlesional\", number = Inf)\n",
    "  res_ct$celltype <- ct\n",
    "  # Store results\n",
    "  reynolds_limma_res[[ct]] <- res_ct\n",
    "  cat(\"Completed DE for cell type:\", ct, \"\\n\")\n",
    "}\n",
    "# Combine all cell type DE results\n",
    "reynolds_limma_res <- bind_rows(reynolds_limma_res)\n",
    "head(reynolds_limma_res)"
   ]
  },
  {
   "cell_type": "markdown",
   "metadata": {
    "application/vnd.databricks.v1+cell": {
     "cellMetadata": {
      "byteLimit": 2048000,
      "rowLimit": 10000
     },
     "inputWidgets": {},
     "nuid": "abbf95fa-3ea1-415e-a09d-5e2cd1315b56",
     "showTitle": false,
     "tableResultSettingsMap": {},
     "title": ""
    }
   },
   "source": [
    "##Tcells"
   ]
  },
  {
   "cell_type": "code",
   "execution_count": 0,
   "metadata": {
    "application/vnd.databricks.v1+cell": {
     "cellMetadata": {
      "byteLimit": 2048000,
      "rowLimit": 10000
     },
     "inputWidgets": {},
     "nuid": "5fc83020-f092-4e5c-80a5-448be6b69f79",
     "showTitle": false,
     "tableResultSettingsMap": {},
     "title": ""
    }
   },
   "outputs": [],
   "source": [
    "TC_results <- reynolds_limma_res %>% filter(celltype==\"TC\")"
   ]
  },
  {
   "cell_type": "code",
   "execution_count": 0,
   "metadata": {
    "application/vnd.databricks.v1+cell": {
     "cellMetadata": {
      "byteLimit": 2048000,
      "rowLimit": 10000
     },
     "inputWidgets": {},
     "nuid": "53bad19f-fea3-4b24-984c-03b522595d65",
     "showTitle": false,
     "tableResultSettingsMap": {},
     "title": ""
    }
   },
   "outputs": [],
   "source": [
    "TC_results$gene <- rownames(TC_results)"
   ]
  },
  {
   "cell_type": "code",
   "execution_count": 0,
   "metadata": {
    "application/vnd.databricks.v1+cell": {
     "cellMetadata": {
      "byteLimit": 2048000,
      "rowLimit": 10000
     },
     "inputWidgets": {},
     "nuid": "d02eb1fb-3928-46df-9e16-e629003de1ae",
     "showTitle": false,
     "tableResultSettingsMap": {},
     "title": ""
    }
   },
   "outputs": [],
   "source": [
    "TC_results$logFC"
   ]
  },
  {
   "cell_type": "code",
   "execution_count": 0,
   "metadata": {
    "application/vnd.databricks.v1+cell": {
     "cellMetadata": {
      "byteLimit": 2048000,
      "rowLimit": 10000
     },
     "inputWidgets": {},
     "nuid": "379a5be7-ce62-44c5-b9d6-6e439c5fbdc5",
     "showTitle": false,
     "tableResultSettingsMap": {},
     "title": ""
    }
   },
   "outputs": [],
   "source": [
    "class(TC_results$adj.P.Val)"
   ]
  },
  {
   "cell_type": "code",
   "execution_count": 0,
   "metadata": {
    "application/vnd.databricks.v1+cell": {
     "cellMetadata": {
      "byteLimit": 2048000,
      "rowLimit": 10000
     },
     "inputWidgets": {},
     "nuid": "9b839a37-4278-4d37-916b-a773010219d6",
     "showTitle": false,
     "tableResultSettingsMap": {},
     "title": ""
    }
   },
   "outputs": [],
   "source": [
    "sum(is.na(TC_results$logFC))"
   ]
  },
  {
   "cell_type": "code",
   "execution_count": 0,
   "metadata": {
    "application/vnd.databricks.v1+cell": {
     "cellMetadata": {
      "byteLimit": 2048000,
      "rowLimit": 10000
     },
     "inputWidgets": {},
     "nuid": "cf23a050-68d6-4a31-8522-3eb463879865",
     "showTitle": false,
     "tableResultSettingsMap": {},
     "title": ""
    }
   },
   "outputs": [],
   "source": [
    "volcano_generator(TC_results)"
   ]
  },
  {
   "cell_type": "markdown",
   "metadata": {
    "application/vnd.databricks.v1+cell": {
     "cellMetadata": {
      "byteLimit": 2048000,
      "rowLimit": 10000
     },
     "inputWidgets": {},
     "nuid": "c7a104a9-1909-4fda-b092-93a1c51e9b56",
     "showTitle": false,
     "tableResultSettingsMap": {},
     "title": ""
    }
   },
   "source": [
    "##Keratinocytes"
   ]
  },
  {
   "cell_type": "code",
   "execution_count": 0,
   "metadata": {
    "application/vnd.databricks.v1+cell": {
     "cellMetadata": {
      "byteLimit": 2048000,
      "rowLimit": 10000
     },
     "inputWidgets": {},
     "nuid": "ac6b6f62-8833-4a79-95dd-251c2c9b5c0c",
     "showTitle": false,
     "tableResultSettingsMap": {},
     "title": ""
    }
   },
   "outputs": [],
   "source": [
    "KC_results <- reynolds_limma_res %>% filter(celltype==\"KC\")"
   ]
  },
  {
   "cell_type": "code",
   "execution_count": 0,
   "metadata": {
    "application/vnd.databricks.v1+cell": {
     "cellMetadata": {
      "byteLimit": 2048000,
      "rowLimit": 10000
     },
     "inputWidgets": {},
     "nuid": "45a931e4-70d0-4c2c-a410-1c07f382c99d",
     "showTitle": false,
     "tableResultSettingsMap": {},
     "title": ""
    }
   },
   "outputs": [],
   "source": [
    "KC_results$gene <- rownames(KC_results)"
   ]
  },
  {
   "cell_type": "code",
   "execution_count": 0,
   "metadata": {
    "application/vnd.databricks.v1+cell": {
     "cellMetadata": {
      "byteLimit": 2048000,
      "rowLimit": 10000
     },
     "inputWidgets": {},
     "nuid": "f6e56935-27bb-42a1-9889-0adc880be75b",
     "showTitle": false,
     "tableResultSettingsMap": {},
     "title": ""
    }
   },
   "outputs": [],
   "source": [
    "KC_results$logFC"
   ]
  },
  {
   "cell_type": "code",
   "execution_count": 0,
   "metadata": {
    "application/vnd.databricks.v1+cell": {
     "cellMetadata": {
      "byteLimit": 2048000,
      "rowLimit": 10000
     },
     "inputWidgets": {},
     "nuid": "e328799c-194b-45c9-ab82-10a585d8cca5",
     "showTitle": false,
     "tableResultSettingsMap": {},
     "title": ""
    }
   },
   "outputs": [],
   "source": [
    "class(KC_results$adj.P.Val)"
   ]
  },
  {
   "cell_type": "code",
   "execution_count": 0,
   "metadata": {
    "application/vnd.databricks.v1+cell": {
     "cellMetadata": {
      "byteLimit": 2048000,
      "rowLimit": 10000
     },
     "inputWidgets": {},
     "nuid": "20ec0126-78af-4bd9-92d7-eb23c844bae9",
     "showTitle": false,
     "tableResultSettingsMap": {},
     "title": ""
    }
   },
   "outputs": [],
   "source": [
    "sum(is.na(KC_results$logFC))"
   ]
  },
  {
   "cell_type": "code",
   "execution_count": 0,
   "metadata": {
    "application/vnd.databricks.v1+cell": {
     "cellMetadata": {
      "byteLimit": 2048000,
      "rowLimit": 10000
     },
     "inputWidgets": {},
     "nuid": "6bd16b92-74ae-4c4e-9143-2279d1e2c894",
     "showTitle": false,
     "tableResultSettingsMap": {},
     "title": ""
    }
   },
   "outputs": [],
   "source": [
    "volcano_generator(KC_results)"
   ]
  },
  {
   "cell_type": "markdown",
   "metadata": {
    "application/vnd.databricks.v1+cell": {
     "cellMetadata": {},
     "inputWidgets": {},
     "nuid": "1a389069-9383-4a10-bd50-d92d7cea4357",
     "showTitle": false,
     "tableResultSettingsMap": {},
     "title": ""
    }
   },
   "source": [
    "##Fibroblast"
   ]
  },
  {
   "cell_type": "code",
   "execution_count": 0,
   "metadata": {
    "application/vnd.databricks.v1+cell": {
     "cellMetadata": {
      "byteLimit": 2048000,
      "rowLimit": 10000
     },
     "inputWidgets": {},
     "nuid": "64b1735a-1058-462a-9745-e3b277c3f777",
     "showTitle": false,
     "tableResultSettingsMap": {},
     "title": ""
    }
   },
   "outputs": [],
   "source": [
    "FB_results <- reynolds_limma_res %>% filter(celltype==\"Fibroblasts\")"
   ]
  },
  {
   "cell_type": "code",
   "execution_count": 0,
   "metadata": {
    "application/vnd.databricks.v1+cell": {
     "cellMetadata": {
      "byteLimit": 2048000,
      "rowLimit": 10000
     },
     "inputWidgets": {},
     "nuid": "cc271f8d-b4f1-4544-9c16-668d29a9e88b",
     "showTitle": false,
     "tableResultSettingsMap": {},
     "title": ""
    }
   },
   "outputs": [],
   "source": [
    "FB_results$gene <- rownames(FB_results)"
   ]
  },
  {
   "cell_type": "code",
   "execution_count": 0,
   "metadata": {
    "application/vnd.databricks.v1+cell": {
     "cellMetadata": {
      "byteLimit": 2048000,
      "rowLimit": 10000
     },
     "inputWidgets": {},
     "nuid": "5b742fc3-8155-4026-9963-2323b6f476c0",
     "showTitle": false,
     "tableResultSettingsMap": {},
     "title": ""
    }
   },
   "outputs": [],
   "source": [
    "volcano_generator(FB_results)"
   ]
  },
  {
   "cell_type": "markdown",
   "metadata": {
    "application/vnd.databricks.v1+cell": {
     "cellMetadata": {},
     "inputWidgets": {},
     "nuid": "8aa5e5f6-3b2f-4b80-90da-d94a08b4ca5f",
     "showTitle": false,
     "tableResultSettingsMap": {},
     "title": ""
    }
   },
   "source": [
    "##Treg"
   ]
  },
  {
   "cell_type": "code",
   "execution_count": 0,
   "metadata": {
    "application/vnd.databricks.v1+cell": {
     "cellMetadata": {
      "byteLimit": 2048000,
      "rowLimit": 10000
     },
     "inputWidgets": {},
     "nuid": "12823e0c-528e-4ac7-9a19-ab7f097bb5cd",
     "showTitle": false,
     "tableResultSettingsMap": {},
     "title": ""
    }
   },
   "outputs": [],
   "source": [
    "Treg_results <- reynolds_limma_res %>% filter(celltype==\"Treg\")"
   ]
  },
  {
   "cell_type": "code",
   "execution_count": 0,
   "metadata": {
    "application/vnd.databricks.v1+cell": {
     "cellMetadata": {
      "byteLimit": 2048000,
      "rowLimit": 10000
     },
     "inputWidgets": {},
     "nuid": "e9dec01a-ecdd-4e9d-bc2e-a6dd518ce335",
     "showTitle": false,
     "tableResultSettingsMap": {},
     "title": ""
    }
   },
   "outputs": [],
   "source": [
    "Treg_results$gene <- rownames(Treg_results)"
   ]
  },
  {
   "cell_type": "code",
   "execution_count": 0,
   "metadata": {
    "application/vnd.databricks.v1+cell": {
     "cellMetadata": {
      "byteLimit": 2048000,
      "rowLimit": 10000
     },
     "inputWidgets": {},
     "nuid": "92ccf678-de83-4b8b-9cfe-1eeaa30893a3",
     "showTitle": false,
     "tableResultSettingsMap": {},
     "title": ""
    }
   },
   "outputs": [],
   "source": [
    "volcano_generator(Treg_results)"
   ]
  },
  {
   "cell_type": "code",
   "execution_count": 0,
   "metadata": {
    "application/vnd.databricks.v1+cell": {
     "cellMetadata": {},
     "inputWidgets": {},
     "nuid": "119a71f9-6e5a-48cd-8891-67aaff95d7e7",
     "showTitle": false,
     "tableResultSettingsMap": {},
     "title": ""
    }
   },
   "outputs": [],
   "source": []
  },
  {
   "cell_type": "markdown",
   "metadata": {
    "application/vnd.databricks.v1+cell": {
     "cellMetadata": {},
     "inputWidgets": {},
     "nuid": "3102dfaa-b80d-4c9b-8144-c8a80b929c27",
     "showTitle": false,
     "tableResultSettingsMap": {},
     "title": ""
    }
   },
   "source": [
    "##Macro"
   ]
  },
  {
   "cell_type": "code",
   "execution_count": 0,
   "metadata": {
    "application/vnd.databricks.v1+cell": {
     "cellMetadata": {
      "byteLimit": 2048000,
      "rowLimit": 10000
     },
     "inputWidgets": {},
     "nuid": "54a83aac-2846-41bd-aa06-5c60f7ffdc93",
     "showTitle": false,
     "tableResultSettingsMap": {},
     "title": ""
    }
   },
   "outputs": [],
   "source": [
    "Macro_results <- reynolds_limma_res %>% filter(celltype==\"Macro\")"
   ]
  },
  {
   "cell_type": "code",
   "execution_count": 0,
   "metadata": {
    "application/vnd.databricks.v1+cell": {
     "cellMetadata": {
      "byteLimit": 2048000,
      "rowLimit": 10000
     },
     "inputWidgets": {},
     "nuid": "43110f58-ffb6-47a4-95e6-30e14532d20e",
     "showTitle": false,
     "tableResultSettingsMap": {},
     "title": ""
    }
   },
   "outputs": [],
   "source": [
    "Macro_results$gene <- rownames(Macro_results)"
   ]
  },
  {
   "cell_type": "code",
   "execution_count": 0,
   "metadata": {
    "application/vnd.databricks.v1+cell": {
     "cellMetadata": {
      "byteLimit": 2048000,
      "rowLimit": 10000
     },
     "inputWidgets": {},
     "nuid": "621aefd7-3d79-4d0a-8dd5-f26e16b652e8",
     "showTitle": false,
     "tableResultSettingsMap": {},
     "title": ""
    }
   },
   "outputs": [],
   "source": [
    "volcano_generator(Macro_results)"
   ]
  },
  {
   "cell_type": "markdown",
   "metadata": {
    "application/vnd.databricks.v1+cell": {
     "cellMetadata": {},
     "inputWidgets": {},
     "nuid": "969f7dd0-0750-4457-8867-605b303bae78",
     "showTitle": false,
     "tableResultSettingsMap": {},
     "title": ""
    }
   },
   "source": [
    "##Save"
   ]
  },
  {
   "cell_type": "code",
   "execution_count": 0,
   "metadata": {
    "application/vnd.databricks.v1+cell": {
     "cellMetadata": {
      "byteLimit": 2048000,
      "rowLimit": 10000
     },
     "inputWidgets": {},
     "nuid": "77f94f7b-5f4b-493e-8829-4325ae5f602a",
     "showTitle": false,
     "tableResultSettingsMap": {},
     "title": ""
    }
   },
   "outputs": [],
   "source": [
    "# # Delete existing Excel files\n",
    "# file.remove(\"/dbfs/mnt/sandbox/TFM_PAULA/Reynolds/LvsHC/pseudobulk/reynolds_limma_results_tcell.xlsx\")\n",
    "# file.remove(\"/dbfs/mnt/sandbox/TFM_PAULA/Reynolds/LvsHC/pseudobulk/reynolds_limma_results_kc.xlsx\")\n",
    "# file.remove(\"/dbfs/mnt/sandbox/TFM_PAULA/Reynolds/LvsHC/pseudobulk/reynolds_limma_results_FB.xlsx\")\n",
    "# file.remove(\"/dbfs/mnt/sandbox/TFM_PAULA/Reynolds/LvsHC/pseudobulk/reynolds_limma_results_macro.xlsx\")\n",
    "# file.remove(\"/dbfs/mnt/sandbox/TFM_PAULA/Reynolds/LvsHC/pseudobulk/reynolds_limma_results_treg.xlsx\")\n",
    "\n",
    "# Write the data frame to new Excel files\n",
    "write.xlsx(TC_results, \"/dbfs/mnt/sandbox/TFM_PAULA/Reynolds/LvsHC/pseudobulk/reynolds_limma_results_tcell.xlsx\")\n",
    "write.xlsx(KC_results, \"/dbfs/mnt/sandbox/TFM_PAULA/Reynolds/LvsHC/pseudobulk/reynolds_limma_results_kc.xlsx\")\n",
    "write.xlsx(FB_results, \"/dbfs/mnt/sandbox/TFM_PAULA/Reynolds/LvsHC/pseudobulk/reynolds_limma_results_FB.xlsx\")\n",
    "write.xlsx(Macro_results, \"/dbfs/mnt/sandbox/TFM_PAULA/Reynolds/LvsHC/pseudobulk/reynolds_limma_results_macro.xlsx\")\n",
    "write.xlsx(Treg_results, \"/dbfs/mnt/sandbox/TFM_PAULA/Reynolds/LvsHC/pseudobulk/reynolds_limma_results_treg.xlsx\")"
   ]
  }
 ],
 "metadata": {
  "application/vnd.databricks.v1+notebook": {
   "computePreferences": null,
   "dashboards": [],
   "environmentMetadata": null,
   "inputWidgetPreferences": null,
   "language": "r",
   "notebookMetadata": {
    "pythonIndentUnit": 4
   },
   "notebookName": "1.2.reynolds_DEGs_LvsHC",
   "widgets": {}
  },
  "language_info": {
   "name": "r"
  }
 },
 "nbformat": 4,
 "nbformat_minor": 0
}
