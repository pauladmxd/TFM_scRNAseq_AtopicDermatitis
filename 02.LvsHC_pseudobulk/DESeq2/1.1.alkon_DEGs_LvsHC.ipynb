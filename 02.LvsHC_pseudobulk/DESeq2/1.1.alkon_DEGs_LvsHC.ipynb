{
 "cells": [
  {
   "cell_type": "markdown",
   "metadata": {
    "application/vnd.databricks.v1+cell": {
     "cellMetadata": {},
     "inputWidgets": {},
     "nuid": "617ed7fa-1b02-46db-b545-48d40cf88859",
     "showTitle": false,
     "tableResultSettingsMap": {},
     "title": ""
    }
   },
   "source": [
    "#Find DEGs with pseudobulk\n",
    "##AD/PN – Alkon et al, 2023\n",
    "- Does not include non-lesional samples.\n",
    "- 5 AD, 7 PN, 1 AP (atopic prurigo) and 4 healthy control​​\n",
    "\n",
    "Here will be performed the analysis to find DEGs of each relevant cell type in Alkon et al, 2023 dataset following: https://satijalab.org/seurat/articles/de_vignette#perform-de-analysis-after-pseudobulking).\n",
    "\n",
    "###Most relevant cell types: \n",
    "T-cells (TC), Fibroblasts, Keratinocytes (KC),  Monocytes, Macrophages, Dendritic cells, Natural killers, Treg and MastC\n",
    "\n",
    "###Constrast: \n",
    "  - Lesional vs Healthy control (LvsHC)"
   ]
  },
  {
   "cell_type": "code",
   "execution_count": 0,
   "metadata": {
    "application/vnd.databricks.v1+cell": {
     "cellMetadata": {},
     "inputWidgets": {},
     "nuid": "ef76d64b-42ef-4851-9b3f-1c2f214e28bb",
     "showTitle": false,
     "tableResultSettingsMap": {},
     "title": ""
    }
   },
   "outputs": [],
   "source": [
    ".libPaths(c(\"/dbfs/home/jtrincado@almirall.com/my_r_packages/Seurat\", .libPaths()))\n",
    "library(dplyr)\n",
    "library(openxlsx)"
   ]
  },
  {
   "cell_type": "code",
   "execution_count": 0,
   "metadata": {
    "application/vnd.databricks.v1+cell": {
     "cellMetadata": {},
     "inputWidgets": {},
     "nuid": "7096e5c6-a1d1-4979-b0f8-b22d0d398258",
     "showTitle": false,
     "tableResultSettingsMap": {},
     "title": ""
    }
   },
   "outputs": [],
   "source": [
    "my_library <- \"/dbfs/home/pdelgadom@almirall.com/my_r_packages/tfm_paula_4\"\n",
    "dir.create(my_library, recursive=TRUE, showWarnings=FALSE)\n",
    ".libPaths(c(my_library, .libPaths()))\n",
    "if (!requireNamespace(\"remotes\")) install.packages(\"remotes\")\n",
    " \n",
    "install_from_github <- function(pkg_name, my_library=NULL) {\n",
    "  if (is.null(my_library)) {\n",
    "    my_library <- .libPaths()[1]\n",
    "    message(\"Installing \", pkg_name, \" to \", my_library)\n",
    "  }\n",
    " \n",
    "  temp_library <- tempfile()\n",
    "  dir.create(temp_library)\n",
    "  remotes::install_cran(pkg_name, lib = temp_library, upgrade=FALSE)\n",
    "  #remotes::install_bioc(pkg_name, lib=temp_library, upgrade=FALSE)\n",
    "  #remotes::install_github(pkg_name, lib = temp_library, upgrade=FALSE)\n",
    "  for (x in list.files(temp_library)) {\n",
    "    file.copy(\n",
    "      file.path(temp_library, x),\n",
    "      my_library,\n",
    "      recursive=TRUE\n",
    "    )\n",
    "  }\n",
    "}"
   ]
  },
  {
   "cell_type": "code",
   "execution_count": 0,
   "metadata": {
    "application/vnd.databricks.v1+cell": {
     "cellMetadata": {},
     "inputWidgets": {},
     "nuid": "5f7a3ce3-1860-4dba-902e-a0ca76e7ab9b",
     "showTitle": false,
     "tableResultSettingsMap": {},
     "title": ""
    }
   },
   "outputs": [],
   "source": [
    "if (!requireNamespace(\"DESeq2\"))install_from_github(\"DESeq2\")"
   ]
  },
  {
   "cell_type": "code",
   "execution_count": 0,
   "metadata": {
    "application/vnd.databricks.v1+cell": {
     "cellMetadata": {},
     "inputWidgets": {},
     "nuid": "d7a89a95-0a37-4a99-9fbe-d4f1511deccf",
     "showTitle": false,
     "tableResultSettingsMap": {},
     "title": ""
    }
   },
   "outputs": [],
   "source": [
    ".libPaths(c(\"/dbfs/home/pdelgadom@almirall.com/my_r_packages/tfm_paula_4\", .libPaths()))\n",
    "library(DESeq2)"
   ]
  },
  {
   "cell_type": "code",
   "execution_count": 0,
   "metadata": {
    "application/vnd.databricks.v1+cell": {
     "cellMetadata": {},
     "inputWidgets": {},
     "nuid": "d6fc1926-d4c0-4d5a-9e4d-0050f1f67b41",
     "showTitle": false,
     "tableResultSettingsMap": {},
     "title": ""
    }
   },
   "outputs": [],
   "source": [
    "#Load required libraries\n",
    ".libPaths(c(\"/dbfs/home/jtrincado@almirall.com/my_r_packages/Seurat\", .libPaths()))\n",
    "library(Seurat)\n",
    "\n",
    ".libPaths(c(\"/dbfs/home/boriol@almirall.com/my_r_packages/bulkRNASeq_PBMCs_R4.3\", .libPaths()))\n",
    "library(VennDiagram)\n",
    "library(EnhancedVolcano)"
   ]
  },
  {
   "cell_type": "code",
   "execution_count": 0,
   "metadata": {
    "application/vnd.databricks.v1+cell": {
     "cellMetadata": {},
     "inputWidgets": {},
     "nuid": "3b6b9778-7de2-404c-8a82-27a057736dce",
     "showTitle": false,
     "tableResultSettingsMap": {},
     "title": ""
    }
   },
   "outputs": [],
   "source": [
    "volcano_generator<- function(resultsDE){\n",
    "resultsDE<- as.data.frame(resultsDE)\n",
    "\n",
    "#Create anotations for volcano plot\n",
    "resultsDE0 <- resultsDE\n",
    "rownames(resultsDE0) <- resultsDE0$gene\n",
    "\n",
    "top10_genes <- resultsDE0 %>% \n",
    "filter(avg_log2FC > 2 & p_val_adj < 0.05 ) %>%\n",
    "arrange(p_val_adj) %>% top_n(10, -p_val_adj)\n",
    "\n",
    "bottom10_genes <-  resultsDE0 %>% \n",
    "filter(avg_log2FC < -1 & p_val_adj < 0.05 ) %>%\n",
    "arrange(p_val_adj) %>% top_n(10, -p_val_adj)\n",
    "\n",
    "#Plot Volcano\n",
    "volcano <- (EnhancedVolcano(resultsDE0,\n",
    "lab = rownames(resultsDE0),\n",
    "x = 'avg_log2FC',\n",
    "y = 'p_val_adj',\n",
    "pCutoff = 0.05,\n",
    "selectLab = c(top10_genes$gene, bottom10_genes$gene),\n",
    "labSize = 5,\n",
    "drawConnectors = TRUE,\n",
    "widthConnectors = 0.5,\n",
    "colConnectors = 'black'))\n",
    "volcano\n",
    "\n",
    "}"
   ]
  },
  {
   "cell_type": "markdown",
   "metadata": {
    "application/vnd.databricks.v1+cell": {
     "cellMetadata": {},
     "inputWidgets": {},
     "nuid": "99158980-73bb-4fd9-82a5-a49d4824c75b",
     "showTitle": false,
     "tableResultSettingsMap": {},
     "title": ""
    }
   },
   "source": [
    "##Read data"
   ]
  },
  {
   "cell_type": "code",
   "execution_count": 0,
   "metadata": {
    "application/vnd.databricks.v1+cell": {
     "cellMetadata": {},
     "inputWidgets": {},
     "nuid": "f0d0a38b-f540-473f-998d-21ea630c1bfa",
     "showTitle": false,
     "tableResultSettingsMap": {},
     "title": ""
    }
   },
   "outputs": [],
   "source": [
    "#Read seurat object\n",
    "alkon <- readRDS(file=\"/dbfs/mnt/sandbox/TFM_PAULA/ALKON_PROCESSED_TFM.rds\")"
   ]
  },
  {
   "cell_type": "code",
   "execution_count": 0,
   "metadata": {
    "application/vnd.databricks.v1+cell": {
     "cellMetadata": {},
     "inputWidgets": {},
     "nuid": "2088a71e-e483-4df7-b9dd-b1d3e3ec6b1a",
     "showTitle": false,
     "tableResultSettingsMap": {},
     "title": ""
    }
   },
   "outputs": [],
   "source": [
    "# alkon$Condition <- ifelse(alkon$Condition == \"AD\", \"Lesional\", alkon$Condition)"
   ]
  },
  {
   "cell_type": "markdown",
   "metadata": {
    "application/vnd.databricks.v1+cell": {
     "cellMetadata": {},
     "inputWidgets": {},
     "nuid": "e4a31e76-80b7-4e24-ab2d-0fadf093b982",
     "showTitle": false,
     "tableResultSettingsMap": {},
     "title": ""
    }
   },
   "source": [
    "##Filtering variables that have at least 3 counts"
   ]
  },
  {
   "cell_type": "code",
   "execution_count": 0,
   "metadata": {
    "application/vnd.databricks.v1+cell": {
     "cellMetadata": {},
     "inputWidgets": {},
     "nuid": "dcb942ff-803c-4feb-aa6f-b4fe7e2345ab",
     "showTitle": false,
     "tableResultSettingsMap": {},
     "title": ""
    }
   },
   "outputs": [],
   "source": [
    "counts_matrix <- alkon[[\"RNA\"]]$counts\n",
    "dim(counts_matrix)"
   ]
  },
  {
   "cell_type": "code",
   "execution_count": 0,
   "metadata": {
    "application/vnd.databricks.v1+cell": {
     "cellMetadata": {},
     "inputWidgets": {},
     "nuid": "a814340d-4b44-4006-8a73-15149296607e",
     "showTitle": false,
     "tableResultSettingsMap": {},
     "title": ""
    }
   },
   "outputs": [],
   "source": [
    "# Keep only rows that have a count of at least 3 counts in 3 samples\n",
    "smallestGroupSize <- 3\n",
    "keep <- rowSums(counts_matrix >= 3) >= smallestGroupSize\n",
    "counts_keep <- counts_matrix[keep,]\n",
    "\n",
    "# Subset the Seurat object to keep only the features in counts_keep\n",
    "alkon_f <- subset(alkon, features = rownames(counts_keep))\n",
    "\n",
    "# Assign the filtered counts to the new Seurat object\n",
    "alkon_f[[\"RNA\"]]$counts <- counts_keep\n",
    "\n",
    "# Check dimensions\n",
    "dim(alkon_f[[\"RNA\"]]$counts)"
   ]
  },
  {
   "cell_type": "code",
   "execution_count": 0,
   "metadata": {
    "application/vnd.databricks.v1+cell": {
     "cellMetadata": {},
     "inputWidgets": {},
     "nuid": "b4c5cc5f-d917-43ee-9e4b-a5931085af88",
     "showTitle": false,
     "tableResultSettingsMap": {},
     "title": ""
    }
   },
   "outputs": [],
   "source": [
    "head(alkon_f[[\"RNA\"]]$counts)"
   ]
  },
  {
   "cell_type": "markdown",
   "metadata": {
    "application/vnd.databricks.v1+cell": {
     "cellMetadata": {},
     "inputWidgets": {},
     "nuid": "76043715-63b3-49be-961a-fec6074158b4",
     "showTitle": false,
     "tableResultSettingsMap": {},
     "title": ""
    }
   },
   "source": [
    "##Pseudobulk the counts based on the donor id"
   ]
  },
  {
   "cell_type": "code",
   "execution_count": 0,
   "metadata": {
    "application/vnd.databricks.v1+cell": {
     "cellMetadata": {},
     "inputWidgets": {},
     "nuid": "4004c346-dbc7-4e8e-bdd6-89c94d9b9d88",
     "showTitle": false,
     "tableResultSettingsMap": {},
     "title": ""
    }
   },
   "outputs": [],
   "source": [
    "# pseudobulk the counts based on donor-condition-celltype\n",
    "pseudo_alkon <- AggregateExpression(alkon_f, assays = \"RNA\", return.seurat = T, group.by = c(\"Condition\", \"Sample_id\", \"h_celltype_v4\"))\n",
    "\n",
    "# each 'cell' is a donor-condition-celltype pseudobulk profile\n",
    "tail(Cells(pseudo_alkon))"
   ]
  },
  {
   "cell_type": "code",
   "execution_count": 0,
   "metadata": {
    "application/vnd.databricks.v1+cell": {
     "cellMetadata": {},
     "inputWidgets": {},
     "nuid": "0d122d66-10af-4e30-9bc1-ec2aef291c4f",
     "showTitle": false,
     "tableResultSettingsMap": {},
     "title": ""
    }
   },
   "outputs": [],
   "source": [
    "pseudo_alkon"
   ]
  },
  {
   "cell_type": "code",
   "execution_count": 0,
   "metadata": {
    "application/vnd.databricks.v1+cell": {
     "cellMetadata": {},
     "inputWidgets": {},
     "nuid": "64f9d8e4-a3ac-4d0f-b97c-b0be0756bc36",
     "showTitle": false,
     "tableResultSettingsMap": {},
     "title": ""
    }
   },
   "outputs": [],
   "source": [
    "pseudo_alkon$celltype.cond <- paste(pseudo_alkon$h_celltype_v4, pseudo_alkon$Condition, sep = \"_\")"
   ]
  },
  {
   "cell_type": "code",
   "execution_count": 0,
   "metadata": {
    "application/vnd.databricks.v1+cell": {
     "cellMetadata": {},
     "inputWidgets": {},
     "nuid": "5f899b52-e556-4e45-a252-0b6eb184a705",
     "showTitle": false,
     "tableResultSettingsMap": {},
     "title": ""
    }
   },
   "outputs": [],
   "source": [
    "Idents(pseudo_alkon) <- \"celltype.cond\""
   ]
  },
  {
   "cell_type": "markdown",
   "metadata": {
    "application/vnd.databricks.v1+cell": {
     "cellMetadata": {},
     "inputWidgets": {},
     "nuid": "bd1906bc-da45-4ef6-9e65-36f1aa188043",
     "showTitle": false,
     "tableResultSettingsMap": {},
     "title": ""
    }
   },
   "source": [
    "saveRDS for Aitor"
   ]
  },
  {
   "cell_type": "code",
   "execution_count": 0,
   "metadata": {
    "application/vnd.databricks.v1+cell": {
     "cellMetadata": {},
     "inputWidgets": {},
     "nuid": "6193007b-e722-494b-946e-a730eca65708",
     "showTitle": false,
     "tableResultSettingsMap": {},
     "title": ""
    }
   },
   "outputs": [],
   "source": [
    "# saveRDS(pseudo_alkon, file=\"/dbfs/mnt/sandbox/TFM_PAULA/ALKON_aggregated_expression_TFM.rds\")"
   ]
  },
  {
   "cell_type": "markdown",
   "metadata": {
    "application/vnd.databricks.v1+cell": {
     "cellMetadata": {},
     "inputWidgets": {},
     "nuid": "97c95747-4372-4ab1-ab2f-1dcbf5b5ad0c",
     "showTitle": false,
     "tableResultSettingsMap": {},
     "title": ""
    }
   },
   "source": [
    "##PCA"
   ]
  },
  {
   "cell_type": "code",
   "execution_count": 0,
   "metadata": {
    "application/vnd.databricks.v1+cell": {
     "cellMetadata": {},
     "inputWidgets": {},
     "nuid": "12e85022-ba4e-4a06-84bf-86fd38c1c471",
     "showTitle": false,
     "tableResultSettingsMap": {},
     "title": ""
    }
   },
   "outputs": [],
   "source": [
    "\n",
    "# Step 2: Normalize the data\n",
    "pseudo_alkon <- NormalizeData(pseudo_alkon)\n",
    "\n",
    "# Step 3: Find variable features\n",
    "pseudo_alkon <- FindVariableFeatures(pseudo_alkon)\n",
    "\n",
    "# Step 4: Scale the data\n",
    "pseudo_alkon <- ScaleData(pseudo_alkon)\n",
    "\n",
    "# Step 5: Run PCA\n",
    "pseudo_alkon <- RunPCA(pseudo_alkon, features = VariableFeatures(object = pseudo_alkon))"
   ]
  },
  {
   "cell_type": "code",
   "execution_count": 0,
   "metadata": {
    "application/vnd.databricks.v1+cell": {
     "cellMetadata": {},
     "inputWidgets": {},
     "nuid": "4a3762b4-e999-4e6f-a755-51ecbba65c32",
     "showTitle": false,
     "tableResultSettingsMap": {},
     "title": ""
    }
   },
   "outputs": [],
   "source": [
    "# Visualize PCA results with sample ID labels and color by celltype\n",
    "plot1 <- DimPlot(pseudo_alkon, reduction = \"pca\", group.by = \"h_celltype_v4\", label = TRUE, repel = TRUE)\n",
    "\n",
    "# Visualize PCA results with sample ID labels and color by sample id\n",
    "plot2 <- DimPlot(pseudo_alkon, reduction = \"pca\", group.by = \"Condition\", label = TRUE, repel = TRUE)\n",
    "\n",
    "options(repr.plot.width=1500, repr.plot.height=1200)\n",
    "\n",
    "plot1 + plot2"
   ]
  },
  {
   "cell_type": "markdown",
   "metadata": {
    "application/vnd.databricks.v1+cell": {
     "cellMetadata": {},
     "inputWidgets": {},
     "nuid": "abbf95fa-3ea1-415e-a09d-5e2cd1315b56",
     "showTitle": false,
     "tableResultSettingsMap": {},
     "title": ""
    }
   },
   "source": [
    "##Tcells"
   ]
  },
  {
   "cell_type": "code",
   "execution_count": 0,
   "metadata": {
    "application/vnd.databricks.v1+cell": {
     "cellMetadata": {},
     "inputWidgets": {},
     "nuid": "25d6454d-6f9d-477e-8e28-e239f41625af",
     "showTitle": false,
     "tableResultSettingsMap": {},
     "title": ""
    }
   },
   "outputs": [],
   "source": [
    "bulk.tcell.de <- FindMarkers(object = pseudo_alkon, \n",
    "                         ident.1 = \"TC_AD\", \n",
    "                         ident.2 = \"TC_HC\",\n",
    "                         test.use = \"DESeq2\")\n",
    "head(bulk.tcell.de, n = 15)\n"
   ]
  },
  {
   "cell_type": "code",
   "execution_count": 0,
   "metadata": {
    "application/vnd.databricks.v1+cell": {
     "cellMetadata": {},
     "inputWidgets": {},
     "nuid": "4d660a35-74a0-4747-ad96-3b39b86d2527",
     "showTitle": false,
     "tableResultSettingsMap": {},
     "title": ""
    }
   },
   "outputs": [],
   "source": [
    "bulk.tcell.de.orig <- bulk.tcell.de\n",
    "bulk.tcell.de.orig$gene <- rownames(bulk.tcell.de.orig)"
   ]
  },
  {
   "cell_type": "code",
   "execution_count": 0,
   "metadata": {
    "application/vnd.databricks.v1+cell": {
     "cellMetadata": {},
     "inputWidgets": {},
     "nuid": "06e17a24-aad1-4f6e-8175-4f5a908b0274",
     "showTitle": false,
     "tableResultSettingsMap": {},
     "title": ""
    }
   },
   "outputs": [],
   "source": [
    "tcell.de <- read.xlsx(\"/dbfs/mnt/sandbox/TFM_PAULA/Alkon/alkon_tcell_LvsHC_allmarkers.xlsx\")"
   ]
  },
  {
   "cell_type": "code",
   "execution_count": 0,
   "metadata": {
    "application/vnd.databricks.v1+cell": {
     "cellMetadata": {},
     "inputWidgets": {},
     "nuid": "d8695ab3-6948-4223-b51e-66a5e4de60b8",
     "showTitle": false,
     "tableResultSettingsMap": {},
     "title": ""
    }
   },
   "outputs": [],
   "source": [
    "rownames(tcell.de) <- tcell.de$gene"
   ]
  },
  {
   "cell_type": "code",
   "execution_count": 0,
   "metadata": {
    "application/vnd.databricks.v1+cell": {
     "cellMetadata": {},
     "inputWidgets": {},
     "nuid": "8df208be-badb-4ce7-9249-1caafbab7e3b",
     "showTitle": false,
     "tableResultSettingsMap": {},
     "title": ""
    }
   },
   "outputs": [],
   "source": [
    "# compare the DE P-values between the single-cell level and the pseudobulk level results\n",
    "names(bulk.tcell.de) <- paste0(names(bulk.tcell.de), \".bulk\")\n",
    "bulk.tcell.de$gene <- rownames(bulk.tcell.de)\n",
    "\n",
    "names(tcell.de) <- paste0(names(tcell.de), \".sc\")\n",
    "tcell.de$gene <- rownames(tcell.de)\n",
    "\n",
    "merge_dat <- merge(tcell.de, bulk.tcell.de, by = \"gene\")\n",
    "merge_dat <- merge_dat[order(merge_dat$p_val_adj.bulk), ]\n",
    "\n",
    "# Number of genes that are marginally significant in both; marginally significant only in bulk; and marginally significant only in single-cell\n",
    "common <- merge_dat$gene[which(merge_dat$p_val_adj.bulk < 0.05 & \n",
    "                                merge_dat$p_val_adj.sc < 0.05 & \n",
    "                                merge_dat$avg_log2FC.bulk > 0.5 & \n",
    "                                merge_dat$avg_log2FC.sc > 0.5)]\n",
    "only_sc <- merge_dat$gene[which(merge_dat$p_val_adj.bulk > 0.05 & \n",
    "                                  merge_dat$p_val_adj.sc < 0.05 & \n",
    "                                  merge_dat$avg_log2FC.sc > 0.5)]\n",
    "only_bulk <- merge_dat$gene[which(merge_dat$p_val_adj.bulk < 0.05 & \n",
    "                                    merge_dat$p_val_adj.sc > 0.05 & \n",
    "                                    merge_dat$avg_log2FC.bulk > 0.5)]\n",
    "print(paste0('# Common: ', length(common)))\n",
    "print(paste0('# Only in bulk: ', length(only_bulk)))\n",
    "print(paste0('# Only in single-cell: ', length(only_sc)))"
   ]
  },
  {
   "cell_type": "code",
   "execution_count": 0,
   "metadata": {
    "application/vnd.databricks.v1+cell": {
     "cellMetadata": {},
     "inputWidgets": {},
     "nuid": "be4bf0cd-d253-412b-a743-26fe232bb3b7",
     "showTitle": false,
     "tableResultSettingsMap": {},
     "title": ""
    }
   },
   "outputs": [],
   "source": [
    "tcell.de$p_val_adj.sc"
   ]
  },
  {
   "cell_type": "code",
   "execution_count": 0,
   "metadata": {
    "application/vnd.databricks.v1+cell": {
     "cellMetadata": {},
     "inputWidgets": {},
     "nuid": "b667c6ec-9b71-4013-8bc1-f03fb0d5ca44",
     "showTitle": false,
     "tableResultSettingsMap": {},
     "title": ""
    }
   },
   "outputs": [],
   "source": [
    "tcell.de.sig <- tcell.de[tcell.de$p_val_adj.sc < 0.05 & tcell.de$avg_log2FC.sc > 0.5,]\n",
    "bulk.tcell.de.sig <- bulk.tcell.de[bulk.tcell.de$p_val_adj.bulk < 0.05 & bulk.tcell.de$avg_log2FC.bulk > 0.5,]"
   ]
  },
  {
   "cell_type": "code",
   "execution_count": 0,
   "metadata": {
    "application/vnd.databricks.v1+cell": {
     "cellMetadata": {},
     "inputWidgets": {},
     "nuid": "a54291f6-f64d-4136-b543-d6a30e789cbc",
     "showTitle": false,
     "tableResultSettingsMap": {},
     "title": ""
    }
   },
   "outputs": [],
   "source": [
    "common <- merge_dat$gene[which(merge_dat$p_val_adj.bulk < 0.05 & \n",
    "                                merge_dat$p_val_adj.sc < 0.05 & \n",
    "                                merge_dat$avg_log2FC.bulk > 0.5 & \n",
    "                                merge_dat$avg_log2FC.sc > 0.5)]\n",
    "common <- common[order(merge_dat$p_val_adj.bulk[match(common, merge_dat$gene)])]\n",
    "print(common[1:20])"
   ]
  },
  {
   "cell_type": "code",
   "execution_count": 0,
   "metadata": {
    "application/vnd.databricks.v1+cell": {
     "cellMetadata": {},
     "inputWidgets": {},
     "nuid": "a15906e0-2f28-49a6-bc1f-343d1bbac070",
     "showTitle": false,
     "tableResultSettingsMap": {},
     "title": ""
    }
   },
   "outputs": [],
   "source": [
    "# Create a list of your gene sets\n",
    "gene_sets <- list(\n",
    "  \"SC\" = rownames(tcell.de.sig),\n",
    "  \"Bulk\" = rownames(bulk.tcell.de.sig)\n",
    ")\n",
    "\n",
    "# Plot the Venn diagram with colors and title\n",
    "venn.plot <- venn.diagram(\n",
    "  x = gene_sets,\n",
    "  category.names = c(\"SC\", \"Bulk\"),\n",
    "  filename = NULL,  # Set to NULL to plot in RStudio\n",
    "  output = TRUE,\n",
    "  fill = c(\"red\", \"blue\"), # Add colors\n",
    "  main = \"Common DEGs Alkon Tcells\", # Add title\n",
    "  cat.dist = c(0.04, 0.04), # Adjust the distance of the category names from the circles\n",
    "  main.cex = 2, # Increase title size\n",
    "  cat.cex = 1.5, # Increase label size\n",
    "  cat.pos = c(-20, 20), # Position labels more on the top\n",
    "  cex = 1.5 # Increase numbers size\n",
    ")\n",
    "\n",
    "# Display the plot\n",
    "grid.newpage()\n",
    "grid.draw(venn.plot)"
   ]
  },
  {
   "cell_type": "markdown",
   "metadata": {
    "application/vnd.databricks.v1+cell": {
     "cellMetadata": {},
     "inputWidgets": {},
     "nuid": "21dcd2fa-7496-4ffa-a0d8-5aa28f994810",
     "showTitle": false,
     "tableResultSettingsMap": {},
     "title": ""
    }
   },
   "source": [
    "##Fibroblasts"
   ]
  },
  {
   "cell_type": "code",
   "execution_count": 0,
   "metadata": {
    "application/vnd.databricks.v1+cell": {
     "cellMetadata": {},
     "inputWidgets": {},
     "nuid": "94fbd2b0-45f9-46d0-b87d-5c7d7ea0aadd",
     "showTitle": false,
     "tableResultSettingsMap": {},
     "title": ""
    }
   },
   "outputs": [],
   "source": [
    "unique(alkon$h_celltype_v4)"
   ]
  },
  {
   "cell_type": "code",
   "execution_count": 0,
   "metadata": {
    "application/vnd.databricks.v1+cell": {
     "cellMetadata": {},
     "inputWidgets": {},
     "nuid": "3420960d-145b-4619-ba64-fbb82389db3d",
     "showTitle": false,
     "tableResultSettingsMap": {},
     "title": ""
    }
   },
   "outputs": [],
   "source": [
    "bulk.fb.de <- FindMarkers(object = pseudo_alkon, \n",
    "                         ident.1 = \"Fibroblasts_AD\", \n",
    "                         ident.2 = \"Fibroblasts_HC\",\n",
    "                         test.use = \"DESeq2\")\n",
    "head(bulk.fb.de, n = 15)"
   ]
  },
  {
   "cell_type": "code",
   "execution_count": 0,
   "metadata": {
    "application/vnd.databricks.v1+cell": {
     "cellMetadata": {},
     "inputWidgets": {},
     "nuid": "e76f4994-998e-4376-bbfa-226ee0a6c454",
     "showTitle": false,
     "tableResultSettingsMap": {},
     "title": ""
    }
   },
   "outputs": [],
   "source": [
    "bulk.fb.de.orig <- bulk.fb.de\n",
    "bulk.fb.de.orig$gene <- rownames(bulk.fb.de.orig)"
   ]
  },
  {
   "cell_type": "code",
   "execution_count": 0,
   "metadata": {
    "application/vnd.databricks.v1+cell": {
     "cellMetadata": {},
     "inputWidgets": {},
     "nuid": "0f10636f-61da-4ba6-822d-12e87fd8e199",
     "showTitle": false,
     "tableResultSettingsMap": {},
     "title": ""
    }
   },
   "outputs": [],
   "source": [
    "fb.de <- read.xlsx(\"/dbfs/mnt/sandbox/TFM_PAULA/Alkon/alkon_fb_LvsHC_allmarkers.xlsx\")\n",
    "rownames(fb.de) <- fb.de$gene\n",
    "fb.de.orig <- fb.de"
   ]
  },
  {
   "cell_type": "code",
   "execution_count": 0,
   "metadata": {
    "application/vnd.databricks.v1+cell": {
     "cellMetadata": {},
     "inputWidgets": {},
     "nuid": "636a021f-711e-44f7-8158-a7e21c35e419",
     "showTitle": false,
     "tableResultSettingsMap": {},
     "title": ""
    }
   },
   "outputs": [],
   "source": [
    "# compare the DE P-values between the single-cell level and the pseudobulk level results\n",
    "names(bulk.fb.de) <- paste0(names(bulk.fb.de), \".bulk\")\n",
    "bulk.fb.de$gene <- rownames(bulk.fb.de)\n",
    "\n",
    "names(fb.de) <- paste0(names(fb.de), \".sc\")\n",
    "fb.de$gene <- rownames(fb.de)\n",
    "\n",
    "merge_dat <- merge(fb.de, bulk.fb.de, by = \"gene\")\n",
    "merge_dat <- merge_dat[order(merge_dat$p_val_adj.bulk), ]\n",
    "\n",
    "# Number of genes that are marginally significant in both; marginally significant only in bulk; and marginally significant only in single-cell\n",
    "common <- merge_dat$gene[which(merge_dat$p_val_adj.bulk < 0.05 & \n",
    "                                merge_dat$p_val_adj.sc < 0.05)]\n",
    "only_sc <- merge_dat$gene[which(merge_dat$p_val_adj.bulk > 0.05 & \n",
    "                                  merge_dat$p_val_adj.sc < 0.05)]\n",
    "only_bulk <- merge_dat$gene[which(merge_dat$p_val_adj.bulk < 0.05 & \n",
    "                                    merge_dat$p_val_adj.sc > 0.05)]\n",
    "print(paste0('# Common: ', length(common)))\n",
    "print(paste0('# Only in bulk: ', length(only_bulk)))\n",
    "print(paste0('# Only in single-cell: ', length(only_sc)))"
   ]
  },
  {
   "cell_type": "code",
   "execution_count": 0,
   "metadata": {
    "application/vnd.databricks.v1+cell": {
     "cellMetadata": {},
     "inputWidgets": {},
     "nuid": "b6b14456-0d51-49a8-9811-264857ed226c",
     "showTitle": false,
     "tableResultSettingsMap": {},
     "title": ""
    }
   },
   "outputs": [],
   "source": [
    "fb.de.sig <- fb.de[fb.de$p_val_adj.sc < 0.05 & fb.de$avg_log2FC.sc > 1,]\n",
    "bulk.fb.de.sig <- bulk.fb.de[bulk.fb.de$p_val_adj.bulk < 0.05 & bulk.fb.de$avg_log2FC.bulk > 1,]"
   ]
  },
  {
   "cell_type": "code",
   "execution_count": 0,
   "metadata": {
    "application/vnd.databricks.v1+cell": {
     "cellMetadata": {},
     "inputWidgets": {},
     "nuid": "ba215b5b-c2dc-4934-a845-bbee994c85b0",
     "showTitle": false,
     "tableResultSettingsMap": {},
     "title": ""
    }
   },
   "outputs": [],
   "source": [
    "# Create a list of your gene sets\n",
    "gene_sets <- list(\n",
    "  \"SC\" = rownames(fb.de.sig),\n",
    "  \"Bulk\" = rownames(bulk.fb.de.sig)\n",
    ")\n",
    "\n",
    "# Plot the Venn diagram with colors and title\n",
    "venn.plot <- venn.diagram(\n",
    "  x = gene_sets,\n",
    "  category.names = c(\"SC\", \"Bulk\"),\n",
    "  filename = NULL,  # Set to NULL to plot in RStudio\n",
    "  output = TRUE,\n",
    "  fill = c(\"red\", \"blue\"), # Add colors\n",
    "  main = \"Common DEGs Alkon Fibroblasts\", # Add title\n",
    "  cat.pos = c(0, 0), # Move the name of each circle higher\n",
    "  cat.dist = c(0.02, 0.02) # Adjust the distance of the category names from the circles\n",
    ")\n",
    "\n",
    "# Display the plot\n",
    "grid.newpage()\n",
    "grid.draw(venn.plot)"
   ]
  },
  {
   "cell_type": "code",
   "execution_count": 0,
   "metadata": {
    "application/vnd.databricks.v1+cell": {
     "cellMetadata": {},
     "inputWidgets": {},
     "nuid": "ca4d1b7f-b860-4f2e-8626-d2655e3fda45",
     "showTitle": false,
     "tableResultSettingsMap": {},
     "title": ""
    }
   },
   "outputs": [],
   "source": [
    "volcano_generator(bulk.fb.de.orig)"
   ]
  },
  {
   "cell_type": "code",
   "execution_count": 0,
   "metadata": {
    "application/vnd.databricks.v1+cell": {
     "cellMetadata": {},
     "inputWidgets": {},
     "nuid": "b85fdfb4-1351-480e-9958-00524ede4337",
     "showTitle": false,
     "tableResultSettingsMap": {},
     "title": ""
    }
   },
   "outputs": [],
   "source": [
    "fb.de.orig <- fb.de.orig %>%\n",
    "    mutate(avg_log2FC = ifelse(cluster == \"HC\", -abs(avg_log2FC), avg_log2FC)) #It is done because the analysis was done only with positive results and to be able to differentiate healthy and lesional I assign that sign"
   ]
  },
  {
   "cell_type": "code",
   "execution_count": 0,
   "metadata": {
    "application/vnd.databricks.v1+cell": {
     "cellMetadata": {},
     "inputWidgets": {},
     "nuid": "de5cc6fe-5470-4c9c-91ec-3f1c64395dfd",
     "showTitle": false,
     "tableResultSettingsMap": {},
     "title": ""
    }
   },
   "outputs": [],
   "source": [
    "volcano_generator(fb.de.orig)"
   ]
  },
  {
   "cell_type": "markdown",
   "metadata": {
    "application/vnd.databricks.v1+cell": {
     "cellMetadata": {},
     "inputWidgets": {},
     "nuid": "c7a104a9-1909-4fda-b092-93a1c51e9b56",
     "showTitle": false,
     "tableResultSettingsMap": {},
     "title": ""
    }
   },
   "source": [
    "##Keratinocytes"
   ]
  },
  {
   "cell_type": "code",
   "execution_count": 0,
   "metadata": {
    "application/vnd.databricks.v1+cell": {
     "cellMetadata": {},
     "inputWidgets": {},
     "nuid": "fdbf56f2-57af-4e1d-b750-2827a51cd334",
     "showTitle": false,
     "tableResultSettingsMap": {},
     "title": ""
    }
   },
   "outputs": [],
   "source": [
    "bulk.kc.de <- FindMarkers(object = pseudo_alkon, \n",
    "                         ident.1 = \"KC_AD\", \n",
    "                         ident.2 = \"KC_HC\",\n",
    "                         test.use = \"DESeq2\")\n",
    "head(bulk.kc.de, n = 15)"
   ]
  },
  {
   "cell_type": "code",
   "execution_count": 0,
   "metadata": {
    "application/vnd.databricks.v1+cell": {
     "cellMetadata": {},
     "inputWidgets": {},
     "nuid": "88b50667-daf8-4c21-a1d8-ccde9d86b998",
     "showTitle": false,
     "tableResultSettingsMap": {},
     "title": ""
    }
   },
   "outputs": [],
   "source": [
    "bulk.kc.de.orig <- bulk.kc.de\n",
    "bulk.kc.de.orig$gene <- rownames(bulk.kc.de.orig)"
   ]
  },
  {
   "cell_type": "code",
   "execution_count": 0,
   "metadata": {
    "application/vnd.databricks.v1+cell": {
     "cellMetadata": {},
     "inputWidgets": {},
     "nuid": "55fda3fa-5195-4739-9b94-0b96d1732a08",
     "showTitle": false,
     "tableResultSettingsMap": {},
     "title": ""
    }
   },
   "outputs": [],
   "source": [
    "kc.de <- read.xlsx(\"/dbfs/mnt/sandbox/TFM_PAULA/Alkon/alkon_kc_LvsHC_allmarkers.xlsx\")\n",
    "rownames(kc.de) <- kc.de$gene\n",
    "kc.de.orig <- kc.de"
   ]
  },
  {
   "cell_type": "code",
   "execution_count": 0,
   "metadata": {
    "application/vnd.databricks.v1+cell": {
     "cellMetadata": {},
     "inputWidgets": {},
     "nuid": "b002d29b-0fcb-4771-8dcf-7f967c9f9210",
     "showTitle": false,
     "tableResultSettingsMap": {},
     "title": ""
    }
   },
   "outputs": [],
   "source": [
    "# compare the DE P-values between the single-cell level and the pseudobulk level results\n",
    "names(bulk.kc.de) <- paste0(names(bulk.kc.de), \".bulk\")\n",
    "bulk.kc.de$gene <- rownames(bulk.kc.de)\n",
    "\n",
    "names(kc.de) <- paste0(names(kc.de), \".sc\")\n",
    "kc.de$gene <- rownames(kc.de)\n",
    "\n",
    "merge_dat <- merge(kc.de, bulk.kc.de, by = \"gene\")\n",
    "merge_dat <- merge_dat[order(merge_dat$p_val_adj.bulk), ]\n",
    "\n",
    "# Number of genes that are marginally significant in both; marginally significant only in bulk; and marginally significant only in single-cell\n",
    "common <- merge_dat$gene[which(merge_dat$p_val_adj.bulk < 0.05 & \n",
    "                                merge_dat$p_val_adj.sc < 0.05)]\n",
    "only_sc <- merge_dat$gene[which(merge_dat$p_val_adj.bulk > 0.05 & \n",
    "                                  merge_dat$p_val_adj.sc < 0.05)]\n",
    "only_bulk <- merge_dat$gene[which(merge_dat$p_val_adj.bulk < 0.05 & \n",
    "                                    merge_dat$p_val_adj.sc > 0.05)]\n",
    "print(paste0('# Common: ', length(common)))\n",
    "print(paste0('# Only in bulk: ', length(only_bulk)))\n",
    "print(paste0('# Only in single-cell: ', length(only_sc)))"
   ]
  },
  {
   "cell_type": "code",
   "execution_count": 0,
   "metadata": {
    "application/vnd.databricks.v1+cell": {
     "cellMetadata": {},
     "inputWidgets": {},
     "nuid": "15a8f4df-e29e-482e-8b29-592bd3559741",
     "showTitle": false,
     "tableResultSettingsMap": {},
     "title": ""
    }
   },
   "outputs": [],
   "source": [
    "common <- merge_dat$gene[which(merge_dat$p_val_adj.bulk < 0.05 & \n",
    "                                merge_dat$p_val_adj.sc < 0.05 & \n",
    "                                merge_dat$avg_log2FC.bulk > 0.5 & \n",
    "                                merge_dat$avg_log2FC.sc > 0.5)]\n",
    "common <- common[order(merge_dat$p_val_adj.bulk[match(common, merge_dat$gene)])]\n",
    "print(common[1:20])"
   ]
  },
  {
   "cell_type": "code",
   "execution_count": 0,
   "metadata": {
    "application/vnd.databricks.v1+cell": {
     "cellMetadata": {},
     "inputWidgets": {},
     "nuid": "bde855e4-7074-4d01-92a2-41804e5a3013",
     "showTitle": false,
     "tableResultSettingsMap": {},
     "title": ""
    }
   },
   "outputs": [],
   "source": [
    "kc.de.sig <- kc.de[kc.de$p_val_adj.sc < 0.05 & kc.de$avg_log2FC.sc > 0.5,]\n",
    "bulk.kc.de.sig <- bulk.kc.de[bulk.kc.de$p_val_adj.bulk < 0.05 & bulk.kc.de$avg_log2FC.bulk > 0.5,]"
   ]
  },
  {
   "cell_type": "code",
   "execution_count": 0,
   "metadata": {
    "application/vnd.databricks.v1+cell": {
     "cellMetadata": {},
     "inputWidgets": {},
     "nuid": "dcea5f00-88c3-4035-b996-19cd01d9faf2",
     "showTitle": false,
     "tableResultSettingsMap": {},
     "title": ""
    }
   },
   "outputs": [],
   "source": [
    "# Create a list of your gene sets\n",
    "gene_sets <- list(\n",
    "  \"SC\" = rownames(kc.de.sig),\n",
    "  \"Bulk\" = rownames(bulk.kc.de.sig)\n",
    ")\n",
    "\n",
    "# Plot the Venn diagram with colors and title\n",
    "venn.plot <- venn.diagram(\n",
    "  x = gene_sets,\n",
    "  category.names = c(\"SC\", \"Bulk\"),\n",
    "  filename = NULL,  # Set to NULL to plot in RStudio\n",
    "  output = TRUE,\n",
    "  fill = c(\"red\", \"blue\"), # Add colors\n",
    "  main = \"Common DEGs Alkon Keratinocytes\",,\n",
    "  cat.dist = c(0.02, 0.02), # Adjust the distance of the category names from the circles\n",
    "  main.cex = 2, # Increase title size\n",
    "  cat.cex = 1.5, # Increase label size\n",
    "  cat.pos = c(-20, 20), # Position labels more on the top\n",
    "  cex = 1.5 # Increase numbers size\n",
    ")\n",
    "\n",
    "# Display the plot\n",
    "grid.newpage()\n",
    "grid.draw(venn.plot)"
   ]
  },
  {
   "cell_type": "code",
   "execution_count": 0,
   "metadata": {
    "application/vnd.databricks.v1+cell": {
     "cellMetadata": {},
     "inputWidgets": {},
     "nuid": "1727dc24-ccd5-477f-be54-b8e3aa7b8f02",
     "showTitle": false,
     "tableResultSettingsMap": {},
     "title": ""
    }
   },
   "outputs": [],
   "source": [
    "volcano_generator(bulk.kc.de.orig)"
   ]
  },
  {
   "cell_type": "code",
   "execution_count": 0,
   "metadata": {
    "application/vnd.databricks.v1+cell": {
     "cellMetadata": {},
     "inputWidgets": {},
     "nuid": "b8155387-b8db-42be-9f9d-983c63f7862a",
     "showTitle": false,
     "tableResultSettingsMap": {},
     "title": ""
    }
   },
   "outputs": [],
   "source": [
    "kc.de.orig <- kc.de.orig %>%\n",
    "    mutate(avg_log2FC = ifelse(cluster == \"HC\", -abs(avg_log2FC), avg_log2FC)) #It is done because the analysis was done only with positive results and to be able to differentiate healthy and lesional I assign that sign"
   ]
  },
  {
   "cell_type": "code",
   "execution_count": 0,
   "metadata": {
    "application/vnd.databricks.v1+cell": {
     "cellMetadata": {},
     "inputWidgets": {},
     "nuid": "e19be963-d558-4683-b963-36f91b99d16f",
     "showTitle": false,
     "tableResultSettingsMap": {},
     "title": ""
    }
   },
   "outputs": [],
   "source": [
    "volcano_generator(kc.de.orig)"
   ]
  },
  {
   "cell_type": "markdown",
   "metadata": {
    "application/vnd.databricks.v1+cell": {
     "cellMetadata": {},
     "inputWidgets": {},
     "nuid": "eac5b0b0-b8bd-4358-8637-32a9e82b7aed",
     "showTitle": false,
     "tableResultSettingsMap": {},
     "title": ""
    }
   },
   "source": [
    "##Treg"
   ]
  },
  {
   "cell_type": "code",
   "execution_count": 0,
   "metadata": {
    "application/vnd.databricks.v1+cell": {
     "cellMetadata": {},
     "inputWidgets": {},
     "nuid": "60a049bc-3c8b-4b95-8b43-280705ca3962",
     "showTitle": false,
     "tableResultSettingsMap": {},
     "title": ""
    }
   },
   "outputs": [],
   "source": [
    "bulk.treg.de <- FindMarkers(object = pseudo_alkon, \n",
    "                            ident.1 = \"Treg_AD\", \n",
    "                            ident.2 = \"Treg_HC\",\n",
    "                            test.use = \"DESeq2\")\n",
    "head(bulk.treg.de, n = 15)"
   ]
  },
  {
   "cell_type": "code",
   "execution_count": 0,
   "metadata": {
    "application/vnd.databricks.v1+cell": {
     "cellMetadata": {},
     "inputWidgets": {},
     "nuid": "587ffe1e-f990-4550-8b29-6fc206ee1057",
     "showTitle": false,
     "tableResultSettingsMap": {},
     "title": ""
    }
   },
   "outputs": [],
   "source": [
    "bulk.treg.de.orig <- bulk.treg.de\n",
    "bulk.treg.de.orig$gene <- rownames(bulk.treg.de.orig)"
   ]
  },
  {
   "cell_type": "code",
   "execution_count": 0,
   "metadata": {
    "application/vnd.databricks.v1+cell": {
     "cellMetadata": {},
     "inputWidgets": {},
     "nuid": "8d6786d3-f0b3-4da6-ae7d-0cabd6a772c3",
     "showTitle": false,
     "tableResultSettingsMap": {},
     "title": ""
    }
   },
   "outputs": [],
   "source": [
    "treg.de <- read.xlsx(\"/dbfs/mnt/sandbox/TFM_PAULA/Alkon/alkon_fb_LvsHC_allmarkers.xlsx\")\n",
    "rownames(treg.de) <- treg.de$gene\n",
    "treg.de.orig <- treg.de"
   ]
  },
  {
   "cell_type": "code",
   "execution_count": 0,
   "metadata": {
    "application/vnd.databricks.v1+cell": {
     "cellMetadata": {},
     "inputWidgets": {},
     "nuid": "87078ae1-98b3-42b2-b927-5d2b5127e3ce",
     "showTitle": false,
     "tableResultSettingsMap": {},
     "title": ""
    }
   },
   "outputs": [],
   "source": [
    "# compare the DE P-values between the single-cell level and the pseudobulk level results\n",
    "names(bulk.treg.de) <- paste0(names(bulk.treg.de), \".bulk\")\n",
    "bulk.treg.de$gene <- rownames(bulk.treg.de)\n",
    "\n",
    "names(treg.de) <- paste0(names(treg.de), \".sc\")\n",
    "treg.de$gene <- rownames(treg.de)\n",
    "\n",
    "merge_dat <- merge(treg.de, bulk.treg.de, by = \"gene\")\n",
    "merge_dat <- merge_dat[order(merge_dat$p_val_adj.bulk), ]\n",
    "\n",
    "# Number of genes that are marginally significant in both; marginally significant only in bulk; and marginally significant only in single-cell\n",
    "common <- merge_dat$gene[which(merge_dat$p_val_adj.bulk < 0.05 & \n",
    "                                merge_dat$p_val_adj.sc < 0.05)]\n",
    "only_sc <- merge_dat$gene[which(merge_dat$p_val_adj.bulk > 0.05 & \n",
    "                                  merge_dat$p_val_adj.sc < 0.05)]\n",
    "only_bulk <- merge_dat$gene[which(merge_dat$p_val_adj.bulk < 0.05 & \n",
    "                                    merge_dat$p_val_adj.sc > 0.05)]\n",
    "print(paste0('# Common: ', length(common)))\n",
    "print(paste0('# Only in bulk: ', length(only_bulk)))\n",
    "print(paste0('# Only in single-cell: ', length(only_sc)))"
   ]
  },
  {
   "cell_type": "code",
   "execution_count": 0,
   "metadata": {
    "application/vnd.databricks.v1+cell": {
     "cellMetadata": {},
     "inputWidgets": {},
     "nuid": "7a43ab94-0721-4a3e-927e-0f9b2051af26",
     "showTitle": false,
     "tableResultSettingsMap": {},
     "title": ""
    }
   },
   "outputs": [],
   "source": [
    "treg.de.sig <- treg.de[treg.de$p_val_adj.sc < 0.05 & treg.de$avg_log2FC.sc > 1,]\n",
    "bulk.treg.de.sig <- bulk.treg.de[bulk.treg.de$p_val_adj.bulk < 0.05 & bulk.treg.de$avg_log2FC.bulk > 1,]"
   ]
  },
  {
   "cell_type": "code",
   "execution_count": 0,
   "metadata": {
    "application/vnd.databricks.v1+cell": {
     "cellMetadata": {},
     "inputWidgets": {},
     "nuid": "c6dbb2f9-9f9d-4ef8-8d99-7226c8417cf1",
     "showTitle": false,
     "tableResultSettingsMap": {},
     "title": ""
    }
   },
   "outputs": [],
   "source": [
    "# Create a list of your gene sets\n",
    "gene_sets <- list(\n",
    "  \"SC\" = rownames(treg.de.sig),\n",
    "  \"Bulk\" = rownames(bulk.treg.de.sig)\n",
    ")\n",
    "\n",
    "# Plot the Venn diagram with colors and title\n",
    "venn.plot <- venn.diagram(\n",
    "  x = gene_sets,\n",
    "  category.names = c(\"SC\", \"Bulk\"),\n",
    "  filename = NULL,  # Set to NULL to plot in RStudio\n",
    "  output = TRUE,\n",
    "  fill = c(\"red\", \"blue\"), # Add colors\n",
    "  main = \"Common DEGs Alkon Tregs\" # Add title\n",
    ")\n",
    "\n",
    "# Display the plot\n",
    "grid.newpage()\n",
    "grid.draw(venn.plot)"
   ]
  },
  {
   "cell_type": "markdown",
   "metadata": {
    "application/vnd.databricks.v1+cell": {
     "cellMetadata": {},
     "inputWidgets": {},
     "nuid": "52b52652-9d39-4e8e-95d3-3f71845fd55a",
     "showTitle": false,
     "tableResultSettingsMap": {},
     "title": ""
    }
   },
   "source": [
    "##Macrophages"
   ]
  },
  {
   "cell_type": "code",
   "execution_count": 0,
   "metadata": {
    "application/vnd.databricks.v1+cell": {
     "cellMetadata": {},
     "inputWidgets": {},
     "nuid": "0553df90-9fa2-46b3-9da0-79bdd6cb65ac",
     "showTitle": false,
     "tableResultSettingsMap": {},
     "title": ""
    }
   },
   "outputs": [],
   "source": [
    "bulk.macro.de <- FindMarkers(object = pseudo_alkon, \n",
    "                             ident.1 = \"Macro_AD\", \n",
    "                             ident.2 = \"Macro_HC\",\n",
    "                             test.use = \"DESeq2\")\n",
    "head(bulk.macro.de, n = 15)"
   ]
  },
  {
   "cell_type": "code",
   "execution_count": 0,
   "metadata": {
    "application/vnd.databricks.v1+cell": {
     "cellMetadata": {},
     "inputWidgets": {},
     "nuid": "120d121d-5b49-40ab-a8c3-8375dc99a7cf",
     "showTitle": false,
     "tableResultSettingsMap": {},
     "title": ""
    }
   },
   "outputs": [],
   "source": [
    "bulk.macro.de.orig <- bulk.macro.de\n",
    "bulk.macro.de.orig$gene <- rownames(bulk.macro.de.orig)"
   ]
  },
  {
   "cell_type": "code",
   "execution_count": 0,
   "metadata": {
    "application/vnd.databricks.v1+cell": {
     "cellMetadata": {},
     "inputWidgets": {},
     "nuid": "095fb0c3-1436-49b2-a35c-bbf21c742477",
     "showTitle": false,
     "tableResultSettingsMap": {},
     "title": ""
    }
   },
   "outputs": [],
   "source": [
    "macro.de <- read.xlsx(\"/dbfs/mnt/sandbox/TFM_PAULA/Alkon/alkon_macro_LvsHC_allmarkers.xlsx\")\n",
    "rownames(macro.de) <- macro.de$gene\n",
    "macro.de.orig <- macro.de"
   ]
  },
  {
   "cell_type": "code",
   "execution_count": 0,
   "metadata": {
    "application/vnd.databricks.v1+cell": {
     "cellMetadata": {},
     "inputWidgets": {},
     "nuid": "8608b359-fdc6-49b6-bcce-5b2daeb61cbb",
     "showTitle": false,
     "tableResultSettingsMap": {},
     "title": ""
    }
   },
   "outputs": [],
   "source": [
    "# compare the DE P-values between the single-cell level and the pseudobulk level results\n",
    "names(bulk.macro.de) <- paste0(names(bulk.macro.de), \".bulk\")\n",
    "bulk.macro.de$gene <- rownames(bulk.macro.de)\n",
    "\n",
    "names(macro.de) <- paste0(names(macro.de), \".sc\")\n",
    "macro.de$gene <- rownames(macro.de)\n",
    "\n",
    "merge_dat <- merge(macro.de, bulk.macro.de, by = \"gene\")\n",
    "merge_dat <- merge_dat[order(merge_dat$p_val_adj.bulk), ]\n",
    "\n",
    "# Number of genes that are marginally significant in both; marginally significant only in bulk; and marginally significant only in single-cell\n",
    "common <- merge_dat$gene[which(merge_dat$p_val_adj.bulk < 0.05 & \n",
    "                                merge_dat$p_val_adj.sc < 0.05)]\n",
    "only_sc <- merge_dat$gene[which(merge_dat$p_val_adj.bulk > 0.05 & \n",
    "                                  merge_dat$p_val_adj.sc < 0.05)]\n",
    "only_bulk <- merge_dat$gene[which(merge_dat$p_val_adj.bulk < 0.05 & \n",
    "                                    merge_dat$p_val_adj.sc > 0.05)]\n",
    "print(paste0('# Common: ', length(common)))\n",
    "print(paste0('# Only in bulk: ', length(only_bulk)))\n",
    "print(paste0('# Only in single-cell: ', length(only_sc)))"
   ]
  },
  {
   "cell_type": "code",
   "execution_count": 0,
   "metadata": {
    "application/vnd.databricks.v1+cell": {
     "cellMetadata": {},
     "inputWidgets": {},
     "nuid": "979ea839-dc82-4bb3-b5b3-f74600a9598c",
     "showTitle": false,
     "tableResultSettingsMap": {},
     "title": ""
    }
   },
   "outputs": [],
   "source": [
    "macro.de.sig <- macro.de[macro.de$p_val_adj.sc < 0.05 & macro.de$avg_log2FC.sc > 1,]\n",
    "bulk.macro.de.sig <- bulk.macro.de[bulk.macro.de$p_val_adj.bulk < 0.05 & bulk.macro.de$avg_log2FC.bulk > 1,]"
   ]
  },
  {
   "cell_type": "code",
   "execution_count": 0,
   "metadata": {
    "application/vnd.databricks.v1+cell": {
     "cellMetadata": {},
     "inputWidgets": {},
     "nuid": "f3557daf-def6-47f2-a177-93c5d1e78208",
     "showTitle": false,
     "tableResultSettingsMap": {},
     "title": ""
    }
   },
   "outputs": [],
   "source": [
    "# Create a list of your gene sets\n",
    "gene_sets <- list(\n",
    "  \"SC\" = rownames(macro.de.sig),\n",
    "  \"Bulk\" = rownames(bulk.macro.de.sig)\n",
    ")\n",
    "\n",
    "# Plot the Venn diagram with colors and title\n",
    "venn.plot <- venn.diagram(\n",
    "  x = gene_sets,\n",
    "  category.names = c(\"SC\", \"Bulk\"),\n",
    "  filename = NULL,  # Set to NULL to plot in RStudio\n",
    "  output = TRUE,\n",
    "  fill = c(\"red\", \"blue\"), # Add colors\n",
    "  main = \"Common DEGs Alkon Macrophages\", # Add title\n",
    "  cat.pos = c(0, 0), \n",
    "  cat.dist = c(0.02, 0.02) # Adjust the distance of the category names from the circles\n",
    ")\n",
    "\n",
    "# Display the plot\n",
    "grid.newpage()\n",
    "grid.draw(venn.plot)"
   ]
  },
  {
   "cell_type": "markdown",
   "metadata": {
    "application/vnd.databricks.v1+cell": {
     "cellMetadata": {},
     "inputWidgets": {},
     "nuid": "e54c4774-97e2-4b25-b3ba-2fa3a632c38a",
     "showTitle": false,
     "tableResultSettingsMap": {},
     "title": ""
    }
   },
   "source": [
    "The rest of the cell types are not interesting or have very low number of cells"
   ]
  },
  {
   "cell_type": "code",
   "execution_count": 0,
   "metadata": {
    "application/vnd.databricks.v1+cell": {
     "cellMetadata": {},
     "inputWidgets": {},
     "nuid": "1cb51093-e1dd-4513-bd17-ee8d16398369",
     "showTitle": false,
     "tableResultSettingsMap": {},
     "title": ""
    }
   },
   "outputs": [],
   "source": []
  },
  {
   "cell_type": "markdown",
   "metadata": {
    "application/vnd.databricks.v1+cell": {
     "cellMetadata": {},
     "inputWidgets": {},
     "nuid": "63873de1-e483-44b4-9f5f-b8ff7b76973a",
     "showTitle": false,
     "tableResultSettingsMap": {},
     "title": ""
    }
   },
   "source": [
    "##Write and save"
   ]
  },
  {
   "cell_type": "code",
   "execution_count": 0,
   "metadata": {
    "application/vnd.databricks.v1+cell": {
     "cellMetadata": {},
     "inputWidgets": {},
     "nuid": "b980fec7-dfdc-44da-8b4d-7ac81ba71fe2",
     "showTitle": false,
     "tableResultSettingsMap": {},
     "title": ""
    }
   },
   "outputs": [],
   "source": [
    "write.xlsx(bulk.fb.de.orig, file=\"/dbfs/mnt/sandbox/TFM_PAULA/Alkon/pseudobulk/alkon_fb_LvsHC_bulk_v2.xlsx\")\n",
    "write.xlsx(bulk.treg.de.orig, file=\"/dbfs/mnt/sandbox/TFM_PAULA/Alkon/pseudobulk/alkon_treg_LvsHC_bulk_v2.xlsx\")\n",
    "write.xlsx(bulk.kc.de.orig, file=\"/dbfs/mnt/sandbox/TFM_PAULA/Alkon/pseudobulk/alkon_kc_LvsHC_bulk_v2.xlsx\")\n",
    "write.xlsx(bulk.tcell.de.orig, file=\"/dbfs/mnt/sandbox/TFM_PAULA/Alkon/pseudobulk/alkon_tcell_LvsHC_bulk_v2.xlsx\")\n",
    "write.xlsx(bulk.macro.de.orig, file=\"/dbfs/mnt/sandbox/TFM_PAULA/Alkon/pseudobulk/alkon_macro_LvsHC_bulk_v2.xlsx\")"
   ]
  }
 ],
 "metadata": {
  "application/vnd.databricks.v1+notebook": {
   "computePreferences": null,
   "dashboards": [],
   "environmentMetadata": null,
   "inputWidgetPreferences": null,
   "language": "r",
   "notebookMetadata": {
    "pythonIndentUnit": 4
   },
   "notebookName": "1.1.alkon_DEGs_LvsHC",
   "widgets": {}
  },
  "language_info": {
   "name": "r"
  }
 },
 "nbformat": 4,
 "nbformat_minor": 0
}
