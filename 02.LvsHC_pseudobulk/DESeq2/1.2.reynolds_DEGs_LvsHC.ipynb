{
 "cells": [
  {
   "cell_type": "markdown",
   "metadata": {
    "application/vnd.databricks.v1+cell": {
     "cellMetadata": {},
     "inputWidgets": {},
     "nuid": "07b8db15-0a62-4c21-a1c0-0087421fc316",
     "showTitle": false,
     "tableResultSettingsMap": {},
     "title": ""
    }
   },
   "source": [
    "#Find DEGs with pseudobulk\n",
    "## AD/PS Reynolds et al, 2021\n",
    "- Includes lesional and non-lesional samples\n",
    "\n",
    "Here will be performed the analysis to find all markers of each relevant cell type in Reynolds et al, 2021 dataset. following: https://satijalab.org/seurat/articles/de_vignette#perform-de-analysis-after-pseudobulking).\n",
    "\n",
    "###Most relevant cell types: \n",
    "T-cells (TC), Treg, Innate linfoid cells (ILC), Fibroblasts, Keratinocytes (KC), Monocytes (Mono), Macrophagues (Macro), Dendritic cells (DC), Natural killers (NK) and MastC\n",
    "\n",
    "###Constrasts: \n",
    "  - Lesional vs Healthy control (LvsHC)\n",
    "  - Non lesional vs Healthy control (NLvsHC)\n",
    "  - Lesional vs Non-lesional (LvsNL)"
   ]
  },
  {
   "cell_type": "code",
   "execution_count": 0,
   "metadata": {
    "application/vnd.databricks.v1+cell": {
     "cellMetadata": {},
     "inputWidgets": {},
     "nuid": "db50f34d-a57a-4d9b-96e3-d41dedcfd941",
     "showTitle": false,
     "tableResultSettingsMap": {},
     "title": ""
    }
   },
   "outputs": [],
   "source": [
    ".libPaths(c(\"/dbfs/home/jtrincado@almirall.com/my_r_packages/Seurat\", .libPaths()))\n",
    "library(dplyr)\n",
    "library(openxlsx)"
   ]
  },
  {
   "cell_type": "code",
   "execution_count": 0,
   "metadata": {
    "application/vnd.databricks.v1+cell": {
     "cellMetadata": {},
     "inputWidgets": {},
     "nuid": "256222b5-1586-411f-a2cd-9870fb147a9c",
     "showTitle": false,
     "tableResultSettingsMap": {},
     "title": ""
    }
   },
   "outputs": [],
   "source": [
    "my_library <- \"/dbfs/home/pdelgadom@almirall.com/my_r_packages/tfm_paula_4\"\n",
    "dir.create(my_library, recursive=TRUE, showWarnings=FALSE)\n",
    ".libPaths(c(my_library, .libPaths()))\n",
    "if (!requireNamespace(\"remotes\")) install.packages(\"remotes\")\n",
    " \n",
    "install_from_github <- function(pkg_name, my_library=NULL) {\n",
    "  if (is.null(my_library)) {\n",
    "    my_library <- .libPaths()[1]\n",
    "    message(\"Installing \", pkg_name, \" to \", my_library)\n",
    "  }\n",
    " \n",
    "  temp_library <- tempfile()\n",
    "  dir.create(temp_library)\n",
    "  remotes::install_cran(pkg_name, lib = temp_library, upgrade=FALSE)\n",
    "  #remotes::install_bioc(pkg_name, lib=temp_library, upgrade=FALSE)\n",
    "  #remotes::install_github(pkg_name, lib = temp_library, upgrade=FALSE)\n",
    "  for (x in list.files(temp_library)) {\n",
    "    file.copy(\n",
    "      file.path(temp_library, x),\n",
    "      my_library,\n",
    "      recursive=TRUE\n",
    "    )\n",
    "  }\n",
    "}"
   ]
  },
  {
   "cell_type": "code",
   "execution_count": 0,
   "metadata": {
    "application/vnd.databricks.v1+cell": {
     "cellMetadata": {},
     "inputWidgets": {},
     "nuid": "894f1d16-d25c-44d1-8de1-e0694f24a2ed",
     "showTitle": false,
     "tableResultSettingsMap": {},
     "title": ""
    }
   },
   "outputs": [],
   "source": [
    "if (!requireNamespace(\"DESeq2\"))install_from_github(\"DESeq2\")"
   ]
  },
  {
   "cell_type": "code",
   "execution_count": 0,
   "metadata": {
    "application/vnd.databricks.v1+cell": {
     "cellMetadata": {},
     "inputWidgets": {},
     "nuid": "7bd324a0-50b6-450f-9e50-8375eae01c8e",
     "showTitle": false,
     "tableResultSettingsMap": {},
     "title": ""
    }
   },
   "outputs": [],
   "source": [
    ".libPaths(c(\"/dbfs/home/pdelgadom@almirall.com/my_r_packages/tfm_paula_4\", .libPaths()))\n",
    "library(DESeq2)"
   ]
  },
  {
   "cell_type": "code",
   "execution_count": 0,
   "metadata": {
    "application/vnd.databricks.v1+cell": {
     "cellMetadata": {},
     "inputWidgets": {},
     "nuid": "dad764c0-0e24-416e-afcf-095f8f92b478",
     "showTitle": false,
     "tableResultSettingsMap": {},
     "title": ""
    }
   },
   "outputs": [],
   "source": [
    ".libPaths(c(\"/dbfs/home/jtrincado@almirall.com/my_r_packages/Seurat_v2\", .libPaths()))\n",
    "library(Seurat)"
   ]
  },
  {
   "cell_type": "markdown",
   "metadata": {
    "application/vnd.databricks.v1+cell": {
     "cellMetadata": {},
     "inputWidgets": {},
     "nuid": "e05faf14-8953-4d79-b86b-4992b533e462",
     "showTitle": false,
     "tableResultSettingsMap": {},
     "title": ""
    }
   },
   "source": [
    "The packages have to be loaded in this specific order, if not an error arises"
   ]
  },
  {
   "cell_type": "code",
   "execution_count": 0,
   "metadata": {
    "application/vnd.databricks.v1+cell": {
     "cellMetadata": {},
     "inputWidgets": {},
     "nuid": "6ef89e15-c6f9-48df-a3f3-e86ab061aa0a",
     "showTitle": false,
     "tableResultSettingsMap": {},
     "title": ""
    }
   },
   "outputs": [],
   "source": [
    "#Load required libraries\n",
    ".libPaths(c(\"/dbfs/home/boriol@almirall.com/my_r_packages/bulkRNASeq_PBMCs_R4.3\", .libPaths()))\n",
    "library(VennDiagram)\n",
    "library(EnhancedVolcano)"
   ]
  },
  {
   "cell_type": "code",
   "execution_count": 0,
   "metadata": {
    "application/vnd.databricks.v1+cell": {
     "cellMetadata": {},
     "inputWidgets": {},
     "nuid": "cb8b66d0-b959-4e6c-aef2-74200ff41d87",
     "showTitle": false,
     "tableResultSettingsMap": {},
     "title": ""
    }
   },
   "outputs": [],
   "source": [
    "volcano_generator<- function(resultsDE){\n",
    "resultsDE<- as.data.frame(resultsDE)\n",
    "\n",
    "#Create anotations for volcano plot\n",
    "resultsDE0 <- resultsDE\n",
    "rownames(resultsDE0) <- resultsDE0$gene\n",
    "\n",
    "top10_genes <- resultsDE0 %>% \n",
    "filter(avg_log2FC > 2 & p_val_adj < 0.05 ) %>%\n",
    "arrange(p_val_adj) %>% top_n(10, -p_val_adj)\n",
    "\n",
    "bottom10_genes <-  resultsDE0 %>% \n",
    "filter(avg_log2FC < -1 & p_val_adj < 0.05 ) %>%\n",
    "arrange(p_val_adj) %>% top_n(10, -p_val_adj)\n",
    "\n",
    "#Plot Volcano\n",
    "volcano <- (EnhancedVolcano(resultsDE0,\n",
    "lab = rownames(resultsDE0),\n",
    "x = 'avg_log2FC',\n",
    "y = 'p_val_adj',\n",
    "pCutoff = 0.05,\n",
    "selectLab = c(top10_genes$gene, bottom10_genes$gene),\n",
    "labSize = 5,\n",
    "drawConnectors = TRUE,\n",
    "widthConnectors = 0.5,\n",
    "colConnectors = 'black'))\n",
    "\n",
    "volcano\n",
    "\n",
    "}"
   ]
  },
  {
   "cell_type": "markdown",
   "metadata": {
    "application/vnd.databricks.v1+cell": {
     "cellMetadata": {},
     "inputWidgets": {},
     "nuid": "a8f2f9b9-6139-435b-8a47-25fc8a42b336",
     "showTitle": false,
     "tableResultSettingsMap": {},
     "title": ""
    }
   },
   "source": [
    "##Read data"
   ]
  },
  {
   "cell_type": "code",
   "execution_count": 0,
   "metadata": {
    "application/vnd.databricks.v1+cell": {
     "cellMetadata": {},
     "inputWidgets": {},
     "nuid": "ad6be80a-eab3-4dc6-8150-d3add8ceb6f6",
     "showTitle": false,
     "tableResultSettingsMap": {},
     "title": ""
    }
   },
   "outputs": [],
   "source": [
    "#Read seurat object\n",
    "reynolds <- readRDS(file=\"/dbfs/mnt/sandbox/TFM_PAULA/REYNOLDS_PROCESSED_TFM.rds\")"
   ]
  },
  {
   "cell_type": "code",
   "execution_count": 0,
   "metadata": {
    "application/vnd.databricks.v1+cell": {
     "cellMetadata": {},
     "inputWidgets": {},
     "nuid": "c61ea01a-0b9a-4e85-bab7-17a125d9e324",
     "showTitle": false,
     "tableResultSettingsMap": {},
     "title": ""
    }
   },
   "outputs": [],
   "source": [
    "head(reynolds@meta.data, 5)"
   ]
  },
  {
   "cell_type": "code",
   "execution_count": 0,
   "metadata": {
    "application/vnd.databricks.v1+cell": {
     "cellMetadata": {},
     "inputWidgets": {},
     "nuid": "aab81b28-33b0-426a-aa16-2f9a2371a07d",
     "showTitle": false,
     "tableResultSettingsMap": {},
     "title": ""
    }
   },
   "outputs": [],
   "source": [
    "# Create a new column 'Condition' with default value 'healthy'\n",
    "reynolds$Condition <- \"healthy\"\n",
    "\n",
    "# Update 'Condition' based on the 'Status' and 'Site' columns\n",
    "reynolds$Condition[reynolds$Status == \"Eczema\" & reynolds$Site == \"lesion\"] <- \"lesional\"\n",
    "reynolds$Condition[reynolds$Status == \"Eczema\" & reynolds$Site == \"non_lesion\"] <- \"non lesional\"\n",
    "\n",
    "unique(reynolds$Condition)"
   ]
  },
  {
   "cell_type": "markdown",
   "metadata": {
    "application/vnd.databricks.v1+cell": {
     "cellMetadata": {},
     "inputWidgets": {},
     "nuid": "5a697846-7d83-4982-ab9d-6ab200d79b37",
     "showTitle": false,
     "tableResultSettingsMap": {},
     "title": ""
    }
   },
   "source": [
    "For aitor IST"
   ]
  },
  {
   "cell_type": "code",
   "execution_count": 0,
   "metadata": {
    "application/vnd.databricks.v1+cell": {
     "cellMetadata": {},
     "inputWidgets": {},
     "nuid": "26fb3f56-2073-469c-9984-c7627975bb0e",
     "showTitle": false,
     "tableResultSettingsMap": {},
     "title": ""
    }
   },
   "outputs": [],
   "source": [
    "# # Create a new column 'Condition' with default value 'healthy'\n",
    "# reynolds$Condition <- \"HC\"\n",
    "\n",
    "# # Update 'Condition' based on the 'Status' and 'Site' columns\n",
    "# reynolds$Condition[reynolds$Status == \"Eczema\" & reynolds$Site == \"lesion\"] <- \"Lesional\"\n",
    "# reynolds$Condition[reynolds$Status == \"Eczema\" & reynolds$Site == \"non_lesion\"] <- \"Non_lesional\"\n",
    "\n",
    "# unique(reynolds$Condition)"
   ]
  },
  {
   "cell_type": "markdown",
   "metadata": {
    "application/vnd.databricks.v1+cell": {
     "cellMetadata": {},
     "inputWidgets": {},
     "nuid": "81db3aad-6eab-4903-9512-f5f8065d538d",
     "showTitle": false,
     "tableResultSettingsMap": {},
     "title": ""
    }
   },
   "source": [
    "##Filtering variables that have at least 3 counts\n"
   ]
  },
  {
   "cell_type": "code",
   "execution_count": 0,
   "metadata": {
    "application/vnd.databricks.v1+cell": {
     "cellMetadata": {},
     "inputWidgets": {},
     "nuid": "31bdaed7-f2dc-4afa-a072-1367b202e6e4",
     "showTitle": false,
     "tableResultSettingsMap": {},
     "title": ""
    }
   },
   "outputs": [],
   "source": [
    "counts_matrix <- reynolds[[\"RNA\"]]$counts\n",
    "dim(counts_matrix)"
   ]
  },
  {
   "cell_type": "code",
   "execution_count": 0,
   "metadata": {
    "application/vnd.databricks.v1+cell": {
     "cellMetadata": {},
     "inputWidgets": {},
     "nuid": "22a5557d-efe7-4c19-8912-273af8d2c8b1",
     "showTitle": false,
     "tableResultSettingsMap": {},
     "title": ""
    }
   },
   "outputs": [],
   "source": [
    "reynolds_f@"
   ]
  },
  {
   "cell_type": "code",
   "execution_count": 0,
   "metadata": {
    "application/vnd.databricks.v1+cell": {
     "cellMetadata": {},
     "inputWidgets": {},
     "nuid": "c6ca11a6-47cb-42ba-a222-c998ecb8d282",
     "showTitle": false,
     "tableResultSettingsMap": {},
     "title": ""
    }
   },
   "outputs": [],
   "source": [
    "# Keep only rows that have a count of at least 3 counts in 3 samples\n",
    "smallestGroupSize <- 3\n",
    "keep <- rowSums(counts_matrix >= 3) >= smallestGroupSize\n",
    "counts_keep <- counts_matrix[keep,]\n",
    "\n",
    "# Subset the Seurat object to keep only the features in counts_keep\n",
    "reynolds_f <- subset(reynolds, features = rownames(counts_keep))\n",
    "\n",
    "# Assign the filtered counts to the new Seurat object\n",
    "reynolds_f[[\"RNA\"]]$counts <- counts_keep\n",
    "\n",
    "# Check dimensions\n",
    "dim(reynolds_f[[\"RNA\"]]$counts)"
   ]
  },
  {
   "cell_type": "code",
   "execution_count": 0,
   "metadata": {
    "application/vnd.databricks.v1+cell": {
     "cellMetadata": {},
     "inputWidgets": {},
     "nuid": "81d4977a-6585-4d9e-9f40-7a017e1e641e",
     "showTitle": false,
     "tableResultSettingsMap": {},
     "title": ""
    }
   },
   "outputs": [],
   "source": [
    "head(reynolds_f[[\"RNA\"]]$counts)"
   ]
  },
  {
   "cell_type": "markdown",
   "metadata": {
    "application/vnd.databricks.v1+cell": {
     "cellMetadata": {},
     "inputWidgets": {},
     "nuid": "8dabd82c-e7b4-4962-adbf-a9411f96f73f",
     "showTitle": false,
     "tableResultSettingsMap": {},
     "title": ""
    }
   },
   "source": [
    "##Pseudobulk the counts based on the donor id"
   ]
  },
  {
   "cell_type": "code",
   "execution_count": 0,
   "metadata": {
    "application/vnd.databricks.v1+cell": {
     "cellMetadata": {},
     "inputWidgets": {},
     "nuid": "e70c8c5a-a3aa-4bf5-bdc3-abeb7868f30f",
     "showTitle": false,
     "tableResultSettingsMap": {},
     "title": ""
    }
   },
   "outputs": [],
   "source": [
    "# pseudobulk the counts based on donor-condition-celltype\n",
    "pseudo_reynolds <- AggregateExpression(reynolds_f, assays = \"RNA\", return.seurat = T, group.by = c(\"Condition\", \"donor_id\", \"h_celltype\"))\n",
    "\n",
    "# each 'cell' is a donor-condition-celltype pseudobulk profile\n",
    "tail(Cells(pseudo_reynolds))"
   ]
  },
  {
   "cell_type": "code",
   "execution_count": 0,
   "metadata": {
    "application/vnd.databricks.v1+cell": {
     "cellMetadata": {},
     "inputWidgets": {},
     "nuid": "d9748f5f-571d-4dfd-b450-4cc871523586",
     "showTitle": false,
     "tableResultSettingsMap": {},
     "title": ""
    }
   },
   "outputs": [],
   "source": [
    "pseudo_reynolds"
   ]
  },
  {
   "cell_type": "code",
   "execution_count": 0,
   "metadata": {
    "application/vnd.databricks.v1+cell": {
     "cellMetadata": {},
     "inputWidgets": {},
     "nuid": "dce2a148-38eb-4c48-b3b0-6414e1a56c19",
     "showTitle": false,
     "tableResultSettingsMap": {},
     "title": ""
    }
   },
   "outputs": [],
   "source": [
    "pseudo_reynolds$celltype.cond <- paste(pseudo_reynolds$h_celltype, pseudo_reynolds$Condition, sep = \"_\")"
   ]
  },
  {
   "cell_type": "code",
   "execution_count": 0,
   "metadata": {
    "application/vnd.databricks.v1+cell": {
     "cellMetadata": {},
     "inputWidgets": {},
     "nuid": "b4e90726-528d-482b-a49c-bc1da1679640",
     "showTitle": false,
     "tableResultSettingsMap": {},
     "title": ""
    }
   },
   "outputs": [],
   "source": [
    "Idents(pseudo_reynolds) <- \"celltype.cond\""
   ]
  },
  {
   "cell_type": "code",
   "execution_count": 0,
   "metadata": {
    "application/vnd.databricks.v1+cell": {
     "cellMetadata": {},
     "inputWidgets": {},
     "nuid": "bbee2fbf-dbe9-4ffe-83c6-9c5e6a6f61fb",
     "showTitle": false,
     "tableResultSettingsMap": {},
     "title": ""
    }
   },
   "outputs": [],
   "source": [
    "# saveRDS(pseudo_reynolds, file=\"/dbfs/mnt/sandbox/TFM_PAULA/REYNOLDS_aggregated_expression_TFM.rds\")"
   ]
  },
  {
   "cell_type": "markdown",
   "metadata": {
    "application/vnd.databricks.v1+cell": {
     "cellMetadata": {},
     "inputWidgets": {},
     "nuid": "6a72635d-30ff-468e-b965-a28000f0b96d",
     "showTitle": false,
     "tableResultSettingsMap": {},
     "title": ""
    }
   },
   "source": [
    "##PCA"
   ]
  },
  {
   "cell_type": "code",
   "execution_count": 0,
   "metadata": {
    "application/vnd.databricks.v1+cell": {
     "cellMetadata": {},
     "inputWidgets": {},
     "nuid": "b5a6005e-62f4-4a5a-b241-8d3606596e06",
     "showTitle": false,
     "tableResultSettingsMap": {},
     "title": ""
    }
   },
   "outputs": [],
   "source": [
    "# Step 2: Normalize the data\n",
    "pseudo_reynolds <- NormalizeData(pseudo_reynolds)\n",
    "\n",
    "# Step 3: Find variable features\n",
    "pseudo_reynolds <- FindVariableFeatures(pseudo_reynolds)\n",
    "\n",
    "# Step 4: Scale the data\n",
    "pseudo_reynolds <- ScaleData(pseudo_reynolds)\n",
    "\n",
    "# Step 5: Run PCA\n",
    "pseudo_reynolds <- RunPCA(pseudo_reynolds, features = VariableFeatures(object = pseudo_reynolds))"
   ]
  },
  {
   "cell_type": "code",
   "execution_count": 0,
   "metadata": {
    "application/vnd.databricks.v1+cell": {
     "cellMetadata": {},
     "inputWidgets": {},
     "nuid": "cf354015-015b-4c2c-8883-3954ab4ad2c8",
     "showTitle": false,
     "tableResultSettingsMap": {},
     "title": ""
    }
   },
   "outputs": [],
   "source": [
    "# Visualize PCA results with sample ID labels and color by celltype\n",
    "plot1 <- DimPlot(pseudo_reynolds, reduction = \"pca\", group.by = \"h_celltype\", label = TRUE, repel = TRUE)\n",
    "\n",
    "# Visualize PCA results with sample ID labels and color by sample id\n",
    "plot2 <- DimPlot(pseudo_reynolds, reduction = \"pca\", group.by = \"Condition\", label = TRUE, repel = TRUE)\n",
    "\n",
    "options(repr.plot.width=1500, repr.plot.height=1200)\n",
    "\n",
    "plot1 + plot2"
   ]
  },
  {
   "cell_type": "markdown",
   "metadata": {
    "application/vnd.databricks.v1+cell": {
     "cellMetadata": {},
     "inputWidgets": {},
     "nuid": "a385f09a-e081-4848-abe6-3be6856b0282",
     "showTitle": false,
     "tableResultSettingsMap": {},
     "title": ""
    }
   },
   "source": [
    "##Tcells"
   ]
  },
  {
   "cell_type": "code",
   "execution_count": 0,
   "metadata": {
    "application/vnd.databricks.v1+cell": {
     "cellMetadata": {},
     "inputWidgets": {},
     "nuid": "f3623029-f543-4df7-9005-16f492064c7c",
     "showTitle": false,
     "tableResultSettingsMap": {},
     "title": ""
    }
   },
   "outputs": [],
   "source": [
    "# min.cells.feature = 10,\n",
    "#   min.cells.group = 3,"
   ]
  },
  {
   "cell_type": "code",
   "execution_count": 0,
   "metadata": {
    "application/vnd.databricks.v1+cell": {
     "cellMetadata": {},
     "inputWidgets": {},
     "nuid": "9266912e-fbf7-4585-a961-6b797455c098",
     "showTitle": false,
     "tableResultSettingsMap": {},
     "title": ""
    }
   },
   "outputs": [],
   "source": [
    "bulk.tcell.de <- FindMarkers(object = pseudo_reynolds, \n",
    "                         ident.1 = \"TC_lesional\", \n",
    "                         ident.2 = \"TC_healthy\",\n",
    "                         min.pct = 0.01,\n",
    "                         test.use = \"DESeq2\")\n",
    "head(bulk.tcell.de, n = 15)\n"
   ]
  },
  {
   "cell_type": "code",
   "execution_count": 0,
   "metadata": {
    "application/vnd.databricks.v1+cell": {
     "cellMetadata": {},
     "inputWidgets": {},
     "nuid": "802136af-d82e-42f1-b710-c02e68a06288",
     "showTitle": false,
     "tableResultSettingsMap": {},
     "title": ""
    }
   },
   "outputs": [],
   "source": [
    "bulk.tcell.de.orig <- bulk.tcell.de\n",
    "bulk.tcell.de.orig$gene <- rownames(bulk.tcell.de.orig)"
   ]
  },
  {
   "cell_type": "code",
   "execution_count": 0,
   "metadata": {
    "application/vnd.databricks.v1+cell": {
     "cellMetadata": {},
     "inputWidgets": {},
     "nuid": "8c6fbcae-9ce6-48e5-887e-2b30f9fabe81",
     "showTitle": false,
     "tableResultSettingsMap": {},
     "title": ""
    }
   },
   "outputs": [],
   "source": [
    "volcano_generator(bulk.tcell.de.orig)"
   ]
  },
  {
   "cell_type": "code",
   "execution_count": 0,
   "metadata": {
    "application/vnd.databricks.v1+cell": {
     "cellMetadata": {},
     "inputWidgets": {},
     "nuid": "77c82b3f-01bd-4593-a61c-4d980e23ac7d",
     "showTitle": false,
     "tableResultSettingsMap": {},
     "title": ""
    }
   },
   "outputs": [],
   "source": [
    "tcell.de <- read.xlsx(\"/dbfs/mnt/sandbox/TFM_PAULA/Reynolds/LvsHC/reynolds_LvsHC_tcell_allmarkers.xlsx\")"
   ]
  },
  {
   "cell_type": "code",
   "execution_count": 0,
   "metadata": {
    "application/vnd.databricks.v1+cell": {
     "cellMetadata": {},
     "inputWidgets": {},
     "nuid": "a2c18081-51dc-4825-8e29-a835df411b84",
     "showTitle": false,
     "tableResultSettingsMap": {},
     "title": ""
    }
   },
   "outputs": [],
   "source": [
    "rownames(tcell.de) <- tcell.de$gene"
   ]
  },
  {
   "cell_type": "code",
   "execution_count": 0,
   "metadata": {
    "application/vnd.databricks.v1+cell": {
     "cellMetadata": {},
     "inputWidgets": {},
     "nuid": "966d8adb-3652-40ad-9611-50679a0fc01f",
     "showTitle": false,
     "tableResultSettingsMap": {},
     "title": ""
    }
   },
   "outputs": [],
   "source": [
    "# compare the DE P-values and log2 fold changes between the single-cell level and the pseudobulk level results\n",
    "names(bulk.tcell.de) <- paste0(names(bulk.tcell.de), \".bulk\")\n",
    "bulk.tcell.de$gene <- rownames(bulk.tcell.de)\n",
    "\n",
    "names(tcell.de) <- paste0(names(tcell.de), \".sc\")\n",
    "tcell.de$gene <- rownames(tcell.de)\n",
    "\n",
    "merge_dat <- merge(tcell.de, bulk.tcell.de, by = \"gene\")\n",
    "merge_dat <- merge_dat[order(merge_dat$p_val_adj.bulk), ]\n",
    "\n",
    "# Number of genes that are marginally significant in both; marginally significant only in bulk; and marginally significant only in single-cell\n",
    "common <- merge_dat$gene[which(merge_dat$p_val_adj.bulk < 0.05 & \n",
    "                                merge_dat$p_val_adj.sc < 0.05 &\n",
    "                                merge_dat$avg_log2FC.bulk > 0.5 &\n",
    "                                merge_dat$avg_log2FC.sc > 0.5)]\n",
    "only_sc <- merge_dat$gene[which(merge_dat$p_val_adj.bulk > 0.05 & \n",
    "                                merge_dat$p_val_adj.sc < 0.05 &\n",
    "                                merge_dat$avg_log2FC.sc > 0.5)]\n",
    "only_bulk <- merge_dat$gene[which(merge_dat$p_val_adj.bulk < 0.05 & \n",
    "                                  merge_dat$p_val_adj.sc > 0.05 &\n",
    "                                  merge_dat$avg_log2FC.bulk > 0.5)]\n",
    "print(paste0('# Common: ', length(common)))\n",
    "print(paste0('# Only in bulk: ', length(only_bulk)))\n",
    "print(paste0('# Only in single-cell: ', length(only_sc)))\n",
    "print(common)"
   ]
  },
  {
   "cell_type": "code",
   "execution_count": 0,
   "metadata": {
    "application/vnd.databricks.v1+cell": {
     "cellMetadata": {},
     "inputWidgets": {},
     "nuid": "6e79ff24-f18c-47f9-a220-0794596098fc",
     "showTitle": false,
     "tableResultSettingsMap": {},
     "title": ""
    }
   },
   "outputs": [],
   "source": [
    "common <- merge_dat$gene[which(merge_dat$p_val_adj.bulk < 0.05 & \n",
    "                                merge_dat$p_val_adj.sc < 0.05 & \n",
    "                                merge_dat$avg_log2FC.bulk > 0.5 & \n",
    "                                merge_dat$avg_log2FC.sc > 0.5)]\n",
    "common <- common[order(merge_dat$p_val_adj.bulk[match(common, merge_dat$gene)])]\n",
    "print(common[1:20])"
   ]
  },
  {
   "cell_type": "code",
   "execution_count": 0,
   "metadata": {
    "application/vnd.databricks.v1+cell": {
     "cellMetadata": {},
     "inputWidgets": {},
     "nuid": "0496d4dd-9102-4bfc-b469-a82e7ebcd344",
     "showTitle": false,
     "tableResultSettingsMap": {},
     "title": ""
    }
   },
   "outputs": [],
   "source": [
    "tcell.de.sig <- tcell.de[tcell.de$p_val_adj.sc < 0.05 & tcell.de$avg_log2FC.sc > 0.5,]\n",
    "bulk.tcell.de.sig <- bulk.tcell.de[bulk.tcell.de$p_val_adj.bulk < 0.05 & bulk.tcell.de$avg_log2FC.bulk > 0.5,]"
   ]
  },
  {
   "cell_type": "code",
   "execution_count": 0,
   "metadata": {
    "application/vnd.databricks.v1+cell": {
     "cellMetadata": {},
     "inputWidgets": {},
     "nuid": "0fa90699-60a0-4cd1-955d-f7baaf0eb04f",
     "showTitle": false,
     "tableResultSettingsMap": {},
     "title": ""
    }
   },
   "outputs": [],
   "source": [
    "display(tcell.de.sig)"
   ]
  },
  {
   "cell_type": "code",
   "execution_count": 0,
   "metadata": {
    "application/vnd.databricks.v1+cell": {
     "cellMetadata": {},
     "inputWidgets": {},
     "nuid": "d118d460-3b7d-4e76-b2f8-af042f756a92",
     "showTitle": false,
     "tableResultSettingsMap": {},
     "title": ""
    }
   },
   "outputs": [],
   "source": [
    "# Create a list of your gene sets\n",
    "gene_sets <- list(\n",
    "  \"SC\" = rownames(tcell.de.sig),\n",
    "  \"Bulk\" = rownames(bulk.tcell.de.sig)\n",
    ")\n",
    "\n",
    "# Plot the Venn diagram with colors, title, and numbers\n",
    "venn.plot <- venn.diagram(\n",
    "  x = gene_sets,\n",
    "  category.names = c(\"SC\", \"Bulk\"),\n",
    "  filename = NULL,  # Set to NULL to plot in RStudio\n",
    "  output = TRUE,\n",
    "  fill = c(\"red\", \"blue\"), # Add colors\n",
    "  main = \"Common DEGs Reynolds Tcells\", # Add title\n",
    "  main.cex = 2, # Increase title size\n",
    "  cat.cex = 1.5, # Increase label size\n",
    "  cat.pos = c(-20, 20), # Position labels more on the top\n",
    "  cex = 1.5 # Increase numbers size\n",
    ")\n",
    "\n",
    "# Display the plot\n",
    "grid.newpage()\n",
    "grid.draw(venn.plot)"
   ]
  },
  {
   "cell_type": "markdown",
   "metadata": {
    "application/vnd.databricks.v1+cell": {
     "cellMetadata": {},
     "inputWidgets": {},
     "nuid": "69487b22-6677-4e4a-8460-cbffd5b59b9a",
     "showTitle": false,
     "tableResultSettingsMap": {},
     "title": ""
    }
   },
   "source": [
    "##Fibroblasts"
   ]
  },
  {
   "cell_type": "code",
   "execution_count": 0,
   "metadata": {
    "application/vnd.databricks.v1+cell": {
     "cellMetadata": {},
     "inputWidgets": {},
     "nuid": "eb33d1db-dafa-48d6-aa8d-8313741504b6",
     "showTitle": false,
     "tableResultSettingsMap": {},
     "title": ""
    }
   },
   "outputs": [],
   "source": [
    "bulk.fb.de <- FindMarkers(object = pseudo_reynolds, \n",
    "                         ident.1 = \"Fibroblasts_lesional\", \n",
    "                         ident.2 = \"Fibroblasts_healthy\",\n",
    "                         test.use = \"DESeq2\")\n",
    "head(bulk.fb.de, n = 15)"
   ]
  },
  {
   "cell_type": "code",
   "execution_count": 0,
   "metadata": {
    "application/vnd.databricks.v1+cell": {
     "cellMetadata": {},
     "inputWidgets": {},
     "nuid": "4b690e52-b9aa-485b-a845-8fb603740f1a",
     "showTitle": false,
     "tableResultSettingsMap": {},
     "title": ""
    }
   },
   "outputs": [],
   "source": [
    "bulk.fb.de.orig <- bulk.fb.de\n",
    "bulk.fb.de.orig$gene <- rownames(bulk.fb.de.orig)"
   ]
  },
  {
   "cell_type": "code",
   "execution_count": 0,
   "metadata": {
    "application/vnd.databricks.v1+cell": {
     "cellMetadata": {},
     "inputWidgets": {},
     "nuid": "d492cd87-0a47-4864-bb3f-fc4ca98fbe7b",
     "showTitle": false,
     "tableResultSettingsMap": {},
     "title": ""
    }
   },
   "outputs": [],
   "source": [
    "fb.de <- read.xlsx(\"/dbfs/mnt/sandbox/TFM_PAULA/Reynolds/LvsHC/reynolds_fb_LvsHC_allmarkers.xlsx\")\n",
    "rownames(fb.de) <- fb.de$gene\n",
    "fb.de.orig <- fb.de"
   ]
  },
  {
   "cell_type": "code",
   "execution_count": 0,
   "metadata": {
    "application/vnd.databricks.v1+cell": {
     "cellMetadata": {},
     "inputWidgets": {},
     "nuid": "b90ead7b-5c3c-40df-bdbd-da28ba51af81",
     "showTitle": false,
     "tableResultSettingsMap": {},
     "title": ""
    }
   },
   "outputs": [],
   "source": [
    "# compare the DE P-values between the single-cell level and the pseudobulk level results\n",
    "names(bulk.fb.de) <- paste0(names(bulk.fb.de), \".bulk\")\n",
    "bulk.fb.de$gene <- rownames(bulk.fb.de)\n",
    "\n",
    "names(fb.de) <- paste0(names(fb.de), \".sc\")\n",
    "fb.de$gene <- rownames(fb.de)\n",
    "\n",
    "merge_dat <- merge(fb.de, bulk.fb.de, by = \"gene\")\n",
    "merge_dat <- merge_dat[order(merge_dat$p_val_adj.bulk), ]\n",
    "\n",
    "# Number of genes that are marginally significant in both; marginally significant only in bulk; and marginally significant only in single-cell\n",
    "common <- merge_dat$gene[which(merge_dat$p_val_adj.bulk < 0.05 & \n",
    "                                merge_dat$p_val_adj.sc < 0.05)]\n",
    "only_sc <- merge_dat$gene[which(merge_dat$p_val_adj.bulk > 0.05 & \n",
    "                                  merge_dat$p_val_adj.sc < 0.05)]\n",
    "only_bulk <- merge_dat$gene[which(merge_dat$p_val_adj.bulk < 0.05 & \n",
    "                                    merge_dat$p_val_adj.sc > 0.05)]\n",
    "print(paste0('# Common: ', length(common)))\n",
    "print(paste0('# Only in bulk: ', length(only_bulk)))\n",
    "print(paste0('# Only in single-cell: ', length(only_sc)))\n",
    "print(common)"
   ]
  },
  {
   "cell_type": "code",
   "execution_count": 0,
   "metadata": {
    "application/vnd.databricks.v1+cell": {
     "cellMetadata": {},
     "inputWidgets": {},
     "nuid": "cd0c74ed-c908-48c5-add5-e08f1952486b",
     "showTitle": false,
     "tableResultSettingsMap": {},
     "title": ""
    }
   },
   "outputs": [],
   "source": [
    "fb.de.sig <- fb.de[fb.de$p_val_adj.sc < 0.05 & fb.de$avg_log2FC.sc > 1,]\n",
    "bulk.fb.de.sig <- bulk.fb.de[bulk.fb.de$p_val_adj.bulk < 0.05 & bulk.fb.de$avg_log2FC.bulk > 1,]"
   ]
  },
  {
   "cell_type": "code",
   "execution_count": 0,
   "metadata": {
    "application/vnd.databricks.v1+cell": {
     "cellMetadata": {},
     "inputWidgets": {},
     "nuid": "c714d59a-19a7-46e1-93be-919129594375",
     "showTitle": false,
     "tableResultSettingsMap": {},
     "title": ""
    }
   },
   "outputs": [],
   "source": [
    "# Create a list of your gene sets\n",
    "gene_sets <- list(\n",
    "  \"SC\" = rownames(fb.de.sig),\n",
    "  \"Bulk\" = rownames(bulk.fb.de.sig)\n",
    ")\n",
    "\n",
    "# Plot the Venn diagram with colors and title\n",
    "venn.plot <- venn.diagram(\n",
    "  x = gene_sets,\n",
    "  category.names = c(\"SC\", \"Bulk\"),\n",
    "  filename = NULL,  # Set to NULL to plot in RStudio\n",
    "  output = TRUE,\n",
    "  fill = c(\"red\", \"blue\"), # Add colors\n",
    "  main = \"Common DEGs Reynolds Fibroblasts\", # Add title\n",
    "  cat.pos = c(0, 0), # Move the name of each circle higher\n",
    "  cat.dist = c(0.02, 0.02) # Adjust the distance of the category names from the circles\n",
    ")\n",
    "\n",
    "# Display the plot\n",
    "grid.newpage()\n",
    "grid.draw(venn.plot)"
   ]
  },
  {
   "cell_type": "code",
   "execution_count": 0,
   "metadata": {
    "application/vnd.databricks.v1+cell": {
     "cellMetadata": {},
     "inputWidgets": {},
     "nuid": "21b5ce2b-ce41-469d-8ad4-29acf9637f19",
     "showTitle": false,
     "tableResultSettingsMap": {},
     "title": ""
    }
   },
   "outputs": [],
   "source": [
    "volcano_generator(bulk.fb.de.orig)"
   ]
  },
  {
   "cell_type": "code",
   "execution_count": 0,
   "metadata": {
    "application/vnd.databricks.v1+cell": {
     "cellMetadata": {},
     "inputWidgets": {},
     "nuid": "201f931b-94dc-4032-9f48-3e4c1b40c2f8",
     "showTitle": false,
     "tableResultSettingsMap": {},
     "title": ""
    }
   },
   "outputs": [],
   "source": [
    "fb.de.orig <- fb.de.orig %>%\n",
    "    mutate(avg_log2FC = ifelse(cluster == \"healthy\", -abs(avg_log2FC), avg_log2FC)) #It is done because the analysis was done only with positive results and to be able to differentiate healthy and lesional I assign that sign"
   ]
  },
  {
   "cell_type": "code",
   "execution_count": 0,
   "metadata": {
    "application/vnd.databricks.v1+cell": {
     "cellMetadata": {},
     "inputWidgets": {},
     "nuid": "bb81f878-7cd1-4666-ab51-a259727eca63",
     "showTitle": false,
     "tableResultSettingsMap": {},
     "title": ""
    }
   },
   "outputs": [],
   "source": [
    "volcano_generator(fb.de.orig)"
   ]
  },
  {
   "cell_type": "markdown",
   "metadata": {
    "application/vnd.databricks.v1+cell": {
     "cellMetadata": {},
     "inputWidgets": {},
     "nuid": "6a8443b1-dfda-413e-8481-367ab159707f",
     "showTitle": false,
     "tableResultSettingsMap": {},
     "title": ""
    }
   },
   "source": [
    "##Keratinocytes"
   ]
  },
  {
   "cell_type": "code",
   "execution_count": 0,
   "metadata": {
    "application/vnd.databricks.v1+cell": {
     "cellMetadata": {},
     "inputWidgets": {},
     "nuid": "b1923a94-f38f-4aba-bd70-79e2ab56be8e",
     "showTitle": false,
     "tableResultSettingsMap": {},
     "title": ""
    }
   },
   "outputs": [],
   "source": [
    "bulk.kc.de <- FindMarkers(object = pseudo_reynolds, \n",
    "                         ident.1 = \"KC_lesional\", \n",
    "                         ident.2 = \"KC_healthy\",\n",
    "                         test.use = \"DESeq2\")\n",
    "head(bulk.kc.de, n = 15)"
   ]
  },
  {
   "cell_type": "code",
   "execution_count": 0,
   "metadata": {
    "application/vnd.databricks.v1+cell": {
     "cellMetadata": {},
     "inputWidgets": {},
     "nuid": "c84ae2ca-466e-42e9-a665-2ce322668efd",
     "showTitle": false,
     "tableResultSettingsMap": {},
     "title": ""
    }
   },
   "outputs": [],
   "source": [
    "bulk.kc.de.orig <- bulk.kc.de\n",
    "bulk.kc.de.orig$gene <- rownames(bulk.kc.de.orig)"
   ]
  },
  {
   "cell_type": "code",
   "execution_count": 0,
   "metadata": {
    "application/vnd.databricks.v1+cell": {
     "cellMetadata": {},
     "inputWidgets": {},
     "nuid": "5a170677-f33b-4ebc-a316-a806090c8893",
     "showTitle": false,
     "tableResultSettingsMap": {},
     "title": ""
    }
   },
   "outputs": [],
   "source": [
    "length(bulk.kc.de.orig)"
   ]
  },
  {
   "cell_type": "code",
   "execution_count": 0,
   "metadata": {
    "application/vnd.databricks.v1+cell": {
     "cellMetadata": {},
     "inputWidgets": {},
     "nuid": "6c973208-a625-47e4-9d7b-5f5d3af1cfac",
     "showTitle": false,
     "tableResultSettingsMap": {},
     "title": ""
    }
   },
   "outputs": [],
   "source": [
    "kc.de <- read.xlsx(\"/dbfs/mnt/sandbox/TFM_PAULA/Reynolds/LvsHC/reynolds_kc_LvsHC_allmarkers.xlsx\")\n",
    "rownames(kc.de) <- kc.de$gene\n",
    "kc.de.orig <- kc.de"
   ]
  },
  {
   "cell_type": "code",
   "execution_count": 0,
   "metadata": {
    "application/vnd.databricks.v1+cell": {
     "cellMetadata": {},
     "inputWidgets": {},
     "nuid": "2171002b-e850-4d6d-bf58-b8a719d6a8ee",
     "showTitle": false,
     "tableResultSettingsMap": {},
     "title": ""
    }
   },
   "outputs": [],
   "source": [
    "# compare the DE P-values between the single-cell level and the pseudobulk level results\n",
    "names(bulk.kc.de) <- paste0(names(bulk.kc.de), \".bulk\")\n",
    "bulk.kc.de$gene <- rownames(bulk.kc.de)\n",
    "\n",
    "names(kc.de) <- paste0(names(kc.de), \".sc\")\n",
    "kc.de$gene <- rownames(kc.de)\n",
    "\n",
    "merge_dat <- merge(kc.de, bulk.kc.de, by = \"gene\")\n",
    "merge_dat <- merge_dat[order(merge_dat$p_val_adj.bulk), ]\n",
    "\n",
    "# Number of genes that are marginally significant in both; marginally significant only in bulk; and marginally significant only in single-cell\n",
    "common <- merge_dat$gene[which(merge_dat$p_val_adj.bulk < 0.05 & \n",
    "                                merge_dat$p_val_adj.sc < 0.05 & \n",
    "                                merge_dat$avg_log2FC.bulk > 0.5 & \n",
    "                                merge_dat$avg_log2FC.sc > 0.5)]\n",
    "only_sc <- merge_dat$gene[which(merge_dat$p_val_adj.bulk > 0.05 & \n",
    "                                merge_dat$p_val_adj.sc < 0.05 & \n",
    "                                merge_dat$avg_log2FC.sc > 0.5)]\n",
    "only_bulk <- merge_dat$gene[which(merge_dat$p_val_adj.bulk < 0.05 & \n",
    "                                  merge_dat$p_val_adj.sc > 0.05 & \n",
    "                                  merge_dat$avg_log2FC.bulk > 0.5)]\n",
    "print(paste0('# Common: ', length(common)))\n",
    "print(paste0('# Only in bulk: ', length(only_bulk)))\n",
    "print(paste0('# Only in single-cell: ', length(only_sc)))"
   ]
  },
  {
   "cell_type": "code",
   "execution_count": 0,
   "metadata": {
    "application/vnd.databricks.v1+cell": {
     "cellMetadata": {},
     "inputWidgets": {},
     "nuid": "3f40c11c-d6d4-44f5-a7b9-d1c3148c171d",
     "showTitle": false,
     "tableResultSettingsMap": {},
     "title": ""
    }
   },
   "outputs": [],
   "source": [
    "common <- merge_dat$gene[which(merge_dat$p_val_adj.bulk < 0.05 & \n",
    "                                merge_dat$p_val_adj.sc < 0.05 & \n",
    "                                merge_dat$avg_log2FC.bulk > 0.5 & \n",
    "                                merge_dat$avg_log2FC.sc > 0.5)]\n",
    "common <- common[order(merge_dat$p_val_adj.bulk[match(common, merge_dat$gene)])]\n",
    "print(common[1:20])"
   ]
  },
  {
   "cell_type": "code",
   "execution_count": 0,
   "metadata": {
    "application/vnd.databricks.v1+cell": {
     "cellMetadata": {},
     "inputWidgets": {},
     "nuid": "e137e47f-ef14-455d-8a80-853c5d483adc",
     "showTitle": false,
     "tableResultSettingsMap": {},
     "title": ""
    }
   },
   "outputs": [],
   "source": [
    "print(common)"
   ]
  },
  {
   "cell_type": "code",
   "execution_count": 0,
   "metadata": {
    "application/vnd.databricks.v1+cell": {
     "cellMetadata": {},
     "inputWidgets": {},
     "nuid": "12a0d678-3e4a-479a-836d-784e9ebfddf7",
     "showTitle": false,
     "tableResultSettingsMap": {},
     "title": ""
    }
   },
   "outputs": [],
   "source": [
    "kc.de.sig <- kc.de[kc.de$p_val_adj.sc < 0.05 & kc.de$avg_log2FC.sc > 0.5,]\n",
    "bulk.kc.de.sig <- bulk.kc.de[bulk.kc.de$p_val_adj.bulk < 0.05 & bulk.kc.de$avg_log2FC.bulk > 0.5,]"
   ]
  },
  {
   "cell_type": "code",
   "execution_count": 0,
   "metadata": {
    "application/vnd.databricks.v1+cell": {
     "cellMetadata": {},
     "inputWidgets": {},
     "nuid": "feb921c8-47ba-46e8-a9e7-8b3779a8ab15",
     "showTitle": false,
     "tableResultSettingsMap": {},
     "title": ""
    }
   },
   "outputs": [],
   "source": [
    "# Create a list of your gene sets\n",
    "gene_sets <- list(\n",
    "  \"SC\" = rownames(kc.de.sig),\n",
    "  \"Bulk\" = rownames(bulk.kc.de.sig)\n",
    ")\n",
    "\n",
    "# Plot the Venn diagram with colors and title\n",
    "venn.plot <- venn.diagram(\n",
    "  x = gene_sets,\n",
    "  category.names = c(\"SC\", \"Bulk\"),\n",
    "  filename = NULL,  # Set to NULL to plot in RStudio\n",
    "  output = TRUE,\n",
    "  fill = c(\"red\", \"blue\"), # Add colors\n",
    "  main = \"Common DEGs Reynolds Keratinocytes\", # Add title,\n",
    "  cat.dist = c(0.04, 0.04), # Adjust the distance of the category names from the circles\n",
    "  main.cex = 2, # Increase title size\n",
    "  cat.cex = 1.5, # Increase label size\n",
    "  cat.pos = c(-20, 20), # Position labels more on the top\n",
    "  cex = 1.5 # Increase numbers size\n",
    ")\n",
    "\n",
    "# Display the plot\n",
    "grid.newpage()\n",
    "grid.draw(venn.plot)"
   ]
  },
  {
   "cell_type": "code",
   "execution_count": 0,
   "metadata": {
    "application/vnd.databricks.v1+cell": {
     "cellMetadata": {},
     "inputWidgets": {},
     "nuid": "d0ce6356-740b-459f-8cfa-9047af1ff750",
     "showTitle": false,
     "tableResultSettingsMap": {},
     "title": ""
    }
   },
   "outputs": [],
   "source": [
    "options(repr.plot.width=1000, repr.plot.height=1000)\n",
    "volcano_generator(bulk.kc.de.orig)"
   ]
  },
  {
   "cell_type": "code",
   "execution_count": 0,
   "metadata": {
    "application/vnd.databricks.v1+cell": {
     "cellMetadata": {},
     "inputWidgets": {},
     "nuid": "0579bcc6-1f76-4362-880d-d579b4716a09",
     "showTitle": false,
     "tableResultSettingsMap": {},
     "title": ""
    }
   },
   "outputs": [],
   "source": [
    "kc.de.orig <- kc.de.orig %>%\n",
    "    mutate(avg_log2FC = ifelse(cluster == \"healthy\", -abs(avg_log2FC), avg_log2FC)) #It is done because the analysis was done only with positive results and to be able to differentiate healthy and lesional I assign that sign"
   ]
  },
  {
   "cell_type": "code",
   "execution_count": 0,
   "metadata": {
    "application/vnd.databricks.v1+cell": {
     "cellMetadata": {},
     "inputWidgets": {},
     "nuid": "269e7982-7228-4941-89f5-b28cb52d0dc1",
     "showTitle": false,
     "tableResultSettingsMap": {},
     "title": ""
    }
   },
   "outputs": [],
   "source": [
    "volcano_generator(kc.de.orig)"
   ]
  },
  {
   "cell_type": "markdown",
   "metadata": {
    "application/vnd.databricks.v1+cell": {
     "cellMetadata": {},
     "inputWidgets": {},
     "nuid": "74f1e35c-fcbe-498f-9e36-25dda1a6fe99",
     "showTitle": false,
     "tableResultSettingsMap": {},
     "title": ""
    }
   },
   "source": [
    "##Treg"
   ]
  },
  {
   "cell_type": "code",
   "execution_count": 0,
   "metadata": {
    "application/vnd.databricks.v1+cell": {
     "cellMetadata": {},
     "inputWidgets": {},
     "nuid": "c24e4234-ca86-4a6a-8d0b-db3077e418a0",
     "showTitle": false,
     "tableResultSettingsMap": {},
     "title": ""
    }
   },
   "outputs": [],
   "source": [
    "bulk.treg.de <- FindMarkers(object = pseudo_reynolds, \n",
    "                            ident.1 = \"Treg_lesional\", \n",
    "                            ident.2 = \"Treg_healthy\",\n",
    "                            test.use = \"DESeq2\")\n",
    "head(bulk.treg.de, n = 15)"
   ]
  },
  {
   "cell_type": "code",
   "execution_count": 0,
   "metadata": {
    "application/vnd.databricks.v1+cell": {
     "cellMetadata": {},
     "inputWidgets": {},
     "nuid": "b724350e-9cfc-43f7-93c1-fd087381f5cf",
     "showTitle": false,
     "tableResultSettingsMap": {},
     "title": ""
    }
   },
   "outputs": [],
   "source": [
    "bulk.treg.de.orig <- bulk.treg.de\n",
    "bulk.treg.de.orig$gene <- rownames(bulk.treg.de.orig)"
   ]
  },
  {
   "cell_type": "code",
   "execution_count": 0,
   "metadata": {
    "application/vnd.databricks.v1+cell": {
     "cellMetadata": {},
     "inputWidgets": {},
     "nuid": "fbd47bd9-0831-416c-aee5-e22b48b693cc",
     "showTitle": false,
     "tableResultSettingsMap": {},
     "title": ""
    }
   },
   "outputs": [],
   "source": [
    "treg.de <- read.xlsx(\"/dbfs/mnt/sandbox/TFM_PAULA/Reynolds/LvsHC/reynolds_treg_LvsHC_allmarkers.xlsx\")\n",
    "rownames(treg.de) <- treg.de$gene\n",
    "treg.de.orig <- treg.de"
   ]
  },
  {
   "cell_type": "code",
   "execution_count": 0,
   "metadata": {
    "application/vnd.databricks.v1+cell": {
     "cellMetadata": {},
     "inputWidgets": {},
     "nuid": "8a56e008-4788-49c0-b2c1-45c5c4627cc5",
     "showTitle": false,
     "tableResultSettingsMap": {},
     "title": ""
    }
   },
   "outputs": [],
   "source": [
    "# compare the DE P-values between the single-cell level and the pseudobulk level results\n",
    "names(bulk.treg.de) <- paste0(names(bulk.treg.de), \".bulk\")\n",
    "bulk.treg.de$gene <- rownames(bulk.treg.de)\n",
    "\n",
    "names(treg.de) <- paste0(names(treg.de), \".sc\")\n",
    "treg.de$gene <- rownames(treg.de)\n",
    "\n",
    "merge_dat <- merge(treg.de, bulk.treg.de, by = \"gene\")\n",
    "merge_dat <- merge_dat[order(merge_dat$p_val_adj.bulk), ]\n",
    "\n",
    "# Number of genes that are marginally significant in both; marginally significant only in bulk; and marginally significant only in single-cell\n",
    "common <- merge_dat$gene[which(merge_dat$p_val_adj.bulk < 0.05 & \n",
    "                                merge_dat$p_val_adj.sc < 0.05)]\n",
    "only_sc <- merge_dat$gene[which(merge_dat$p_val_adj.bulk > 0.05 & \n",
    "                                  merge_dat$p_val_adj.sc < 0.05)]\n",
    "only_bulk <- merge_dat$gene[which(merge_dat$p_val_adj.bulk < 0.05 & \n",
    "                                    merge_dat$p_val_adj.sc > 0.05)]\n",
    "print(paste0('# Common: ', length(common)))\n",
    "print(paste0('# Only in bulk: ', length(only_bulk)))\n",
    "print(paste0('# Only in single-cell: ', length(only_sc)))\n",
    "print(common)\n",
    "print(only_bulk)"
   ]
  },
  {
   "cell_type": "code",
   "execution_count": 0,
   "metadata": {
    "application/vnd.databricks.v1+cell": {
     "cellMetadata": {},
     "inputWidgets": {},
     "nuid": "0d4ebbe8-b556-4ebe-b539-d494890e696e",
     "showTitle": false,
     "tableResultSettingsMap": {},
     "title": ""
    }
   },
   "outputs": [],
   "source": [
    "bulk.treg.de.sig <- bulk.treg.de[bulk.treg.de$p_val_adj.bulk < 0.05,]"
   ]
  },
  {
   "cell_type": "code",
   "execution_count": 0,
   "metadata": {
    "application/vnd.databricks.v1+cell": {
     "cellMetadata": {},
     "inputWidgets": {},
     "nuid": "056a85ef-7e5e-4918-b1a5-0e744dadf0b6",
     "showTitle": false,
     "tableResultSettingsMap": {},
     "title": ""
    }
   },
   "outputs": [],
   "source": [
    "treg.de.sig <- treg.de[treg.de$p_val_adj.sc < 0.05 & treg.de$avg_log2FC.sc > 1,]\n",
    "bulk.treg.de.sig <- bulk.treg.de[bulk.treg.de$p_val_adj.bulk < 0.05 & bulk.treg.de$avg_log2FC.bulk > 1,]"
   ]
  },
  {
   "cell_type": "code",
   "execution_count": 0,
   "metadata": {
    "application/vnd.databricks.v1+cell": {
     "cellMetadata": {},
     "inputWidgets": {},
     "nuid": "47c3afaa-0b35-4a00-a119-ac63ce974091",
     "showTitle": false,
     "tableResultSettingsMap": {},
     "title": ""
    }
   },
   "outputs": [],
   "source": [
    "# Create a list of your gene sets\n",
    "gene_sets <- list(\n",
    "  \"SC\" = rownames(treg.de.sig),\n",
    "  \"Bulk\" = rownames(bulk.treg.de.sig)\n",
    ")\n",
    "\n",
    "# Plot the Venn diagram with colors and title\n",
    "venn.plot <- venn.diagram(\n",
    "  x = gene_sets,\n",
    "  category.names = c(\"SC\", \"Bulk\"),\n",
    "  filename = NULL,  # Set to NULL to plot in RStudio\n",
    "  output = TRUE,\n",
    "  fill = c(\"red\", \"blue\"), # Add colors\n",
    "  main = \"Common DEGs Reynolds Tregs\" # Add title\n",
    ")\n",
    "\n",
    "# Display the plot\n",
    "grid.newpage()\n",
    "grid.draw(venn.plot)"
   ]
  },
  {
   "cell_type": "markdown",
   "metadata": {
    "application/vnd.databricks.v1+cell": {
     "cellMetadata": {},
     "inputWidgets": {},
     "nuid": "52c4262f-e2e9-4226-9940-100bab691be5",
     "showTitle": false,
     "tableResultSettingsMap": {},
     "title": ""
    }
   },
   "source": [
    "##Macrophages"
   ]
  },
  {
   "cell_type": "code",
   "execution_count": 0,
   "metadata": {
    "application/vnd.databricks.v1+cell": {
     "cellMetadata": {},
     "inputWidgets": {},
     "nuid": "7eaac62a-f919-4a16-ab79-efe248325bee",
     "showTitle": false,
     "tableResultSettingsMap": {},
     "title": ""
    }
   },
   "outputs": [],
   "source": [
    "bulk.macro.de <- FindMarkers(object = pseudo_reynolds, \n",
    "                             ident.1 = \"Macro_lesional\", \n",
    "                             ident.2 = \"Macro_healthy\",\n",
    "                             test.use = \"DESeq2\")\n",
    "head(bulk.macro.de, n = 15)"
   ]
  },
  {
   "cell_type": "code",
   "execution_count": 0,
   "metadata": {
    "application/vnd.databricks.v1+cell": {
     "cellMetadata": {},
     "inputWidgets": {},
     "nuid": "89e1963c-1fac-405c-bfc3-4d8407b8df80",
     "showTitle": false,
     "tableResultSettingsMap": {},
     "title": ""
    }
   },
   "outputs": [],
   "source": [
    "bulk.macro.de$gene <- rownames(bulk.macro.de)\n",
    "bulk.macro.de.orig <- bulk.macro.de"
   ]
  },
  {
   "cell_type": "code",
   "execution_count": 0,
   "metadata": {
    "application/vnd.databricks.v1+cell": {
     "cellMetadata": {},
     "inputWidgets": {},
     "nuid": "8fbee355-1ade-4c13-800c-1f5adb239ee7",
     "showTitle": false,
     "tableResultSettingsMap": {},
     "title": ""
    }
   },
   "outputs": [],
   "source": [
    "macro.de <- read.xlsx(\"/dbfs/mnt/sandbox/TFM_PAULA/Reynolds/LvsHC/reynolds_macro_LvsHC_allmarkers.xlsx\")\n",
    "rownames(macro.de) <- macro.de$gene\n",
    "macro.de.orig <- macro.de"
   ]
  },
  {
   "cell_type": "code",
   "execution_count": 0,
   "metadata": {
    "application/vnd.databricks.v1+cell": {
     "cellMetadata": {},
     "inputWidgets": {},
     "nuid": "e6fa911a-6a0f-46ac-aa8d-44e692965a5e",
     "showTitle": false,
     "tableResultSettingsMap": {},
     "title": ""
    }
   },
   "outputs": [],
   "source": [
    "# compare the DE P-values between the single-cell level and the pseudobulk level results\n",
    "names(bulk.macro.de) <- paste0(names(bulk.macro.de), \".bulk\")\n",
    "bulk.macro.de$gene <- rownames(bulk.macro.de)\n",
    "\n",
    "names(macro.de) <- paste0(names(macro.de), \".sc\")\n",
    "macro.de$gene <- rownames(macro.de)\n",
    "\n",
    "merge_dat <- merge(macro.de, bulk.macro.de, by = \"gene\")\n",
    "merge_dat <- merge_dat[order(merge_dat$p_val_adj.bulk), ]\n",
    "\n",
    "# Number of genes that are marginally significant in both; marginally significant only in bulk; and marginally significant only in single-cell\n",
    "common <- merge_dat$gene[which(merge_dat$p_val_adj.bulk < 0.05 & \n",
    "                                merge_dat$p_val_adj.sc < 0.05)]\n",
    "only_sc <- merge_dat$gene[which(merge_dat$p_val_adj.bulk > 0.05 & \n",
    "                                  merge_dat$p_val_adj.sc < 0.05)]\n",
    "only_bulk <- merge_dat$gene[which(merge_dat$p_val_adj.bulk < 0.05 & \n",
    "                                    merge_dat$p_val_adj.sc > 0.05)]\n",
    "print(paste0('# Common: ', length(common)))\n",
    "print(paste0('# Only in bulk: ', length(only_bulk)))\n",
    "print(paste0('# Only in single-cell: ', length(only_sc)))\n",
    "print(common)\n",
    "print(only_bulk)"
   ]
  },
  {
   "cell_type": "code",
   "execution_count": 0,
   "metadata": {
    "application/vnd.databricks.v1+cell": {
     "cellMetadata": {},
     "inputWidgets": {},
     "nuid": "e9abb32b-1be8-484d-b04f-06eedc1bc748",
     "showTitle": false,
     "tableResultSettingsMap": {},
     "title": ""
    }
   },
   "outputs": [],
   "source": [
    "macro.de.sig <- macro.de[macro.de$p_val_adj.sc < 0.05 & macro.de$avg_log2FC.sc > 1,]\n",
    "bulk.macro.de.sig <- bulk.macro.de[bulk.macro.de$p_val_adj.bulk < 0.05 & bulk.macro.de$avg_log2FC.bulk > 1,]"
   ]
  },
  {
   "cell_type": "code",
   "execution_count": 0,
   "metadata": {
    "application/vnd.databricks.v1+cell": {
     "cellMetadata": {},
     "inputWidgets": {},
     "nuid": "ed6aa0e4-58e2-454b-9752-1228f5b15306",
     "showTitle": false,
     "tableResultSettingsMap": {},
     "title": ""
    }
   },
   "outputs": [],
   "source": [
    "# Create a list of your gene sets\n",
    "gene_sets <- list(\n",
    "  \"SC\" = rownames(macro.de.sig),\n",
    "  \"Bulk\" = rownames(bulk.macro.de.sig)\n",
    ")\n",
    "\n",
    "# Plot the Venn diagram with colors and title\n",
    "venn.plot <- venn.diagram(\n",
    "  x = gene_sets,\n",
    "  category.names = c(\"SC\", \"Bulk\"),\n",
    "  filename = NULL,  # Set to NULL to plot in RStudio\n",
    "  output = TRUE,\n",
    "  fill = c(\"red\", \"blue\"), # Add colors\n",
    "  main = \"Common DEGs Reynolds Macrophages\" # Add title\n",
    ")\n",
    "\n",
    "# Display the plot\n",
    "grid.newpage()\n",
    "grid.draw(venn.plot)"
   ]
  },
  {
   "cell_type": "markdown",
   "metadata": {
    "application/vnd.databricks.v1+cell": {
     "cellMetadata": {},
     "inputWidgets": {},
     "nuid": "492cca66-6535-4848-8495-efb09a7e047d",
     "showTitle": false,
     "tableResultSettingsMap": {},
     "title": ""
    }
   },
   "source": [
    "##Monocytes"
   ]
  },
  {
   "cell_type": "code",
   "execution_count": 0,
   "metadata": {
    "application/vnd.databricks.v1+cell": {
     "cellMetadata": {},
     "inputWidgets": {},
     "nuid": "e46908a9-4c75-4beb-b86e-86e4eb9b0d46",
     "showTitle": false,
     "tableResultSettingsMap": {},
     "title": ""
    }
   },
   "outputs": [],
   "source": [
    "bulk.mono.de <- FindMarkers(object = pseudo_reynolds, \n",
    "                             ident.1 = \"Mono_lesional\", \n",
    "                             ident.2 = \"Mono_healthy\",\n",
    "                             test.use = \"DESeq2\")\n",
    "head(bulk.mono.de, n = 15)"
   ]
  },
  {
   "cell_type": "code",
   "execution_count": 0,
   "metadata": {
    "application/vnd.databricks.v1+cell": {
     "cellMetadata": {},
     "inputWidgets": {},
     "nuid": "e62bd79f-536b-4695-813c-09d7c1fe0e14",
     "showTitle": false,
     "tableResultSettingsMap": {},
     "title": ""
    }
   },
   "outputs": [],
   "source": [
    "bulk.mono.de$gene <- rownames(bulk.mono.de)\n",
    "bulk.mono.de.orig <- bulk.mono.de"
   ]
  },
  {
   "cell_type": "code",
   "execution_count": 0,
   "metadata": {
    "application/vnd.databricks.v1+cell": {
     "cellMetadata": {},
     "inputWidgets": {},
     "nuid": "46d758ba-30fe-44d6-a966-aa0be221ec95",
     "showTitle": false,
     "tableResultSettingsMap": {},
     "title": ""
    }
   },
   "outputs": [],
   "source": [
    "mono.de <- read.xlsx(\"/dbfs/mnt/sandbox/TFM_PAULA/Reynolds/LvsHC/reynolds_mono_LvsHC_allmarkers.xlsx\")\n",
    "rownames(mono.de) <- mono.de$gene\n",
    "mono.de.orig <- mono.de"
   ]
  },
  {
   "cell_type": "code",
   "execution_count": 0,
   "metadata": {
    "application/vnd.databricks.v1+cell": {
     "cellMetadata": {},
     "inputWidgets": {},
     "nuid": "836c0d12-a426-46cf-bf33-0c22153c66b4",
     "showTitle": false,
     "tableResultSettingsMap": {},
     "title": ""
    }
   },
   "outputs": [],
   "source": [
    "# compare the DE P-values between the single-cell level and the pseudobulk level results\n",
    "names(bulk.mono.de) <- paste0(names(bulk.mono.de), \".bulk\")\n",
    "bulk.mono.de$gene <- rownames(bulk.mono.de)\n",
    "\n",
    "names(mono.de) <- paste0(names(mono.de), \".sc\")\n",
    "mono.de$gene <- rownames(mono.de)\n",
    "\n",
    "merge_dat <- merge(mono.de, bulk.mono.de, by = \"gene\")\n",
    "merge_dat <- merge_dat[order(merge_dat$p_val_adj.bulk), ]\n",
    "\n",
    "# Number of genes that are marginally significant in both; marginally significant only in bulk; and marginally significant only in single-cell\n",
    "common <- merge_dat$gene[which(merge_dat$p_val_adj.bulk < 0.05 & \n",
    "                                merge_dat$p_val_adj.sc < 0.05)]\n",
    "only_sc <- merge_dat$gene[which(merge_dat$p_val_adj.bulk > 0.05 & \n",
    "                                  merge_dat$p_val_adj.sc < 0.05)]\n",
    "only_bulk <- merge_dat$gene[which(merge_dat$p_val_adj.bulk < 0.05 & \n",
    "                                    merge_dat$p_val_adj.sc > 0.05)]\n",
    "print(paste0('# Common: ', length(common)))\n",
    "print(paste0('# Only in bulk: ', length(only_bulk)))\n",
    "print(paste0('# Only in single-cell: ', length(only_sc)))\n",
    "print(common)"
   ]
  },
  {
   "cell_type": "code",
   "execution_count": 0,
   "metadata": {
    "application/vnd.databricks.v1+cell": {
     "cellMetadata": {},
     "inputWidgets": {},
     "nuid": "507859c4-8632-4805-95b8-8d020360dcf3",
     "showTitle": false,
     "tableResultSettingsMap": {},
     "title": ""
    }
   },
   "outputs": [],
   "source": [
    "mono.de.sig <- mono.de[mono.de$p_val_adj.sc < 0.05 & mono.de$avg_log2FC.sc > 1,]\n",
    "bulk.mono.de.sig <- bulk.mono.de[bulk.mono.de$p_val_adj.bulk < 0.05 & bulk.mono.de$avg_log2FC.bulk > 1,]"
   ]
  },
  {
   "cell_type": "code",
   "execution_count": 0,
   "metadata": {
    "application/vnd.databricks.v1+cell": {
     "cellMetadata": {},
     "inputWidgets": {},
     "nuid": "7b488f79-0914-408d-a984-b2cb61041d45",
     "showTitle": false,
     "tableResultSettingsMap": {},
     "title": ""
    }
   },
   "outputs": [],
   "source": [
    "# Create a list of your gene sets\n",
    "gene_sets <- list(\n",
    "  \"SC\" = rownames(mono.de.sig),\n",
    "  \"Bulk\" = rownames(bulk.mono.de.sig)\n",
    ")\n",
    "\n",
    "# Plot the Venn diagram with colors and title\n",
    "venn.plot <- venn.diagram(\n",
    "  x = gene_sets,\n",
    "  category.names = c(\"SC\", \"Bulk\"),\n",
    "  filename = NULL,  # Set to NULL to plot in RStudio\n",
    "  output = TRUE,\n",
    "  fill = c(\"red\", \"blue\"), # Add colors\n",
    "  main = \"Common DEGs Reynolds Monocytes\" # Add title\n",
    ")\n",
    "\n",
    "# Display the plot\n",
    "grid.newpage()\n",
    "grid.draw(venn.plot)"
   ]
  },
  {
   "cell_type": "markdown",
   "metadata": {
    "application/vnd.databricks.v1+cell": {
     "cellMetadata": {},
     "inputWidgets": {},
     "nuid": "2f1fdb40-fa4b-4601-bea1-7c76d6c9f5a7",
     "showTitle": false,
     "tableResultSettingsMap": {},
     "title": ""
    }
   },
   "source": [
    "##Dendritic cells"
   ]
  },
  {
   "cell_type": "code",
   "execution_count": 0,
   "metadata": {
    "application/vnd.databricks.v1+cell": {
     "cellMetadata": {},
     "inputWidgets": {},
     "nuid": "b4b4d02b-8262-42cf-9c5a-e556a97a076b",
     "showTitle": false,
     "tableResultSettingsMap": {},
     "title": ""
    }
   },
   "outputs": [],
   "source": [
    "bulk.dc.de <- FindMarkers(object = pseudo_reynolds, \n",
    "                         ident.1 = \"DC_lesional\", \n",
    "                         ident.2 = \"DC_healthy\",\n",
    "                         test.use = \"DESeq2\")\n",
    "head(bulk.dc.de, n = 15)"
   ]
  },
  {
   "cell_type": "code",
   "execution_count": 0,
   "metadata": {
    "application/vnd.databricks.v1+cell": {
     "cellMetadata": {},
     "inputWidgets": {},
     "nuid": "4c1c59b6-4b83-4d4d-97f8-8f4ee7f9e6e3",
     "showTitle": false,
     "tableResultSettingsMap": {},
     "title": ""
    }
   },
   "outputs": [],
   "source": [
    "bulk.dc.de.orig <- bulk.dc.de\n",
    "bulk.dc.de.orig$gene <- rownames(bulk.dc.de.orig)"
   ]
  },
  {
   "cell_type": "code",
   "execution_count": 0,
   "metadata": {
    "application/vnd.databricks.v1+cell": {
     "cellMetadata": {},
     "inputWidgets": {},
     "nuid": "784ac85e-c9dc-4ed7-bc04-dc71567d466c",
     "showTitle": false,
     "tableResultSettingsMap": {},
     "title": ""
    }
   },
   "outputs": [],
   "source": [
    "dc.de <- read.xlsx(\"/dbfs/mnt/sandbox/TFM_PAULA/Reynolds/LvsHC/reynolds_dc_LvsHC_allmarkers.xlsx\")\n",
    "rownames(dc.de) <- dc.de$gene\n",
    "dc.de.orig <- dc.de"
   ]
  },
  {
   "cell_type": "code",
   "execution_count": 0,
   "metadata": {
    "application/vnd.databricks.v1+cell": {
     "cellMetadata": {},
     "inputWidgets": {},
     "nuid": "2e26d91b-f3bc-4973-a5b0-ade255eb8a38",
     "showTitle": false,
     "tableResultSettingsMap": {},
     "title": ""
    }
   },
   "outputs": [],
   "source": [
    "# compare the DE P-values between the single-cell level and the pseudobulk level results\n",
    "names(bulk.dc.de) <- paste0(names(bulk.dc.de), \".bulk\")\n",
    "bulk.dc.de$gene <- rownames(bulk.dc.de)\n",
    "\n",
    "names(dc.de) <- paste0(names(dc.de), \".sc\")\n",
    "dc.de$gene <- rownames(dc.de)\n",
    "\n",
    "merge_dat <- merge(dc.de, bulk.dc.de, by = \"gene\")\n",
    "merge_dat <- merge_dat[order(merge_dat$p_val_adj.bulk), ]\n",
    "\n",
    "# Number of genes that are marginally significant in both; marginally significant only in bulk; and marginally significant only in single-cell\n",
    "common <- merge_dat$gene[which(merge_dat$p_val_adj.bulk < 0.05 & \n",
    "                                merge_dat$p_val_adj.sc < 0.05)]\n",
    "only_sc <- merge_dat$gene[which(merge_dat$p_val_adj.bulk > 0.05 & \n",
    "                                  merge_dat$p_val_adj.sc < 0.05)]\n",
    "only_bulk <- merge_dat$gene[which(merge_dat$p_val_adj.bulk < 0.05 & \n",
    "                                    merge_dat$p_val_adj.sc > 0.05)]\n",
    "print(paste0('# Common: ', length(common)))\n",
    "print(paste0('# Only in bulk: ', length(only_bulk)))\n",
    "print(paste0('# Only in single-cell: ', length(only_sc)))\n",
    "print(common)\n",
    "print(only_bulk)"
   ]
  },
  {
   "cell_type": "code",
   "execution_count": 0,
   "metadata": {
    "application/vnd.databricks.v1+cell": {
     "cellMetadata": {},
     "inputWidgets": {},
     "nuid": "ca71f833-6ceb-48f6-a37a-ba1369e50e98",
     "showTitle": false,
     "tableResultSettingsMap": {},
     "title": ""
    }
   },
   "outputs": [],
   "source": [
    "dc.de.sig <- dc.de[dc.de$p_val_adj.sc < 0.05 & dc.de$avg_log2FC.sc > 1,]\n",
    "bulk.dc.de.sig <- bulk.dc.de[bulk.dc.de$p_val_adj.bulk < 0.05 & bulk.dc.de$avg_log2FC.bulk > 1,]"
   ]
  },
  {
   "cell_type": "code",
   "execution_count": 0,
   "metadata": {
    "application/vnd.databricks.v1+cell": {
     "cellMetadata": {},
     "inputWidgets": {},
     "nuid": "394850bf-2119-470a-b0b4-8ddd4c67c043",
     "showTitle": false,
     "tableResultSettingsMap": {},
     "title": ""
    }
   },
   "outputs": [],
   "source": [
    "# Create a list of your gene sets\n",
    "gene_sets <- list(\n",
    "  \"SC\" = rownames(dc.de.sig),\n",
    "  \"Bulk\" = rownames(bulk.dc.de.sig)\n",
    ")\n",
    "\n",
    "# Plot the Venn diagram with colors and title\n",
    "venn.plot <- venn.diagram(\n",
    "  x = gene_sets,\n",
    "  category.names = c(\"SC\", \"Bulk\"),\n",
    "  filename = NULL,  # Set to NULL to plot in RStudio\n",
    "  output = TRUE,\n",
    "  fill = c(\"red\", \"blue\"), # Add colors\n",
    "  main = \"Common DEGs Reynolds Dendritic Cells\", # Add title,\n",
    "  cat.pos = c(0, 0), # Move the name of each circle higher\n",
    "  cat.dist = c(0.02, 0.02) # Adjust the distance of the category names from the circles\n",
    ")\n",
    "\n",
    "# Display the plot\n",
    "grid.newpage()\n",
    "grid.draw(venn.plot)"
   ]
  },
  {
   "cell_type": "markdown",
   "metadata": {
    "application/vnd.databricks.v1+cell": {
     "cellMetadata": {},
     "inputWidgets": {},
     "nuid": "cb876bd9-07ed-4331-a022-9b3c558a86ca",
     "showTitle": false,
     "tableResultSettingsMap": {},
     "title": ""
    }
   },
   "source": [
    "##ILC"
   ]
  },
  {
   "cell_type": "code",
   "execution_count": 0,
   "metadata": {
    "application/vnd.databricks.v1+cell": {
     "cellMetadata": {},
     "inputWidgets": {},
     "nuid": "14e33afd-92bb-4a6c-a7bc-d9aced4af398",
     "showTitle": false,
     "tableResultSettingsMap": {},
     "title": ""
    }
   },
   "outputs": [],
   "source": [
    "bulk.ilc.de <- FindMarkers(object = pseudo_reynolds, \n",
    "                          ident.1 = \"ILC_lesional\", \n",
    "                          ident.2 = \"ILC_healthy\",\n",
    "                          test.use = \"DESeq2\")\n",
    "head(bulk.ilc.de, n = 15)"
   ]
  },
  {
   "cell_type": "code",
   "execution_count": 0,
   "metadata": {
    "application/vnd.databricks.v1+cell": {
     "cellMetadata": {},
     "inputWidgets": {},
     "nuid": "f0db187a-fafb-49dd-9f1c-bbff74a78eb9",
     "showTitle": false,
     "tableResultSettingsMap": {},
     "title": ""
    }
   },
   "outputs": [],
   "source": [
    "bulk.ilc.de.orig <- bulk.ilc.de\n",
    "bulk.ilc.de.orig$gene <- rownames(bulk.ilc.de.orig)"
   ]
  },
  {
   "cell_type": "code",
   "execution_count": 0,
   "metadata": {
    "application/vnd.databricks.v1+cell": {
     "cellMetadata": {},
     "inputWidgets": {},
     "nuid": "54174da6-ffaa-40a6-a527-5579a23b1d85",
     "showTitle": false,
     "tableResultSettingsMap": {},
     "title": ""
    }
   },
   "outputs": [],
   "source": [
    "ilc.de <- read.xlsx(\"/dbfs/mnt/sandbox/TFM_PAULA/Reynolds/LvsHC/reynolds_ILC_LvsHC_allmarkers.xlsx\")\n",
    "rownames(ilc.de) <- ilc.de$gene\n",
    "ilc.de.orig <- ilc.de"
   ]
  },
  {
   "cell_type": "code",
   "execution_count": 0,
   "metadata": {
    "application/vnd.databricks.v1+cell": {
     "cellMetadata": {},
     "inputWidgets": {},
     "nuid": "2327d202-19c0-4f5a-8f53-3202a83ed53c",
     "showTitle": false,
     "tableResultSettingsMap": {},
     "title": ""
    }
   },
   "outputs": [],
   "source": [
    "# compare the DE P-values between the single-cell level and the pseudobulk level results\n",
    "names(bulk.ilc.de) <- paste0(names(bulk.ilc.de), \".bulk\")\n",
    "bulk.ilc.de$gene <- rownames(bulk.ilc.de)\n",
    "\n",
    "names(ilc.de) <- paste0(names(ilc.de), \".sc\")\n",
    "ilc.de$gene <- rownames(ilc.de)\n",
    "\n",
    "merge_dat <- merge(ilc.de, bulk.ilc.de, by = \"gene\")\n",
    "merge_dat <- merge_dat[order(merge_dat$p_val_adj.bulk), ]\n",
    "\n",
    "# Number of genes that are marginally significant in both; marginally significant only in bulk; and marginally significant only in single-cell\n",
    "common <- merge_dat$gene[which(merge_dat$p_val_adj.bulk < 0.05 & \n",
    "                                merge_dat$p_val_adj.sc < 0.05)]\n",
    "only_sc <- merge_dat$gene[which(merge_dat$p_val_adj.bulk > 0.05 & \n",
    "                                  merge_dat$p_val_adj.sc < 0.05)]\n",
    "only_bulk <- merge_dat$gene[which(merge_dat$p_val_adj.bulk < 0.05 & \n",
    "                                    merge_dat$p_val_adj.sc > 0.05)]\n",
    "print(paste0('# Common: ', length(common)))\n",
    "print(paste0('# Only in bulk: ', length(only_bulk)))\n",
    "print(paste0('# Only in single-cell: ', length(only_sc)))\n",
    "print(common)\n",
    "print(only_bulk)"
   ]
  },
  {
   "cell_type": "code",
   "execution_count": 0,
   "metadata": {
    "application/vnd.databricks.v1+cell": {
     "cellMetadata": {},
     "inputWidgets": {},
     "nuid": "4ef7c50d-6c98-4c83-8f8e-992ee5bc5283",
     "showTitle": false,
     "tableResultSettingsMap": {},
     "title": ""
    }
   },
   "outputs": [],
   "source": [
    "ilc.de.sig <- ilc.de[ilc.de$p_val_adj.sc < 0.05 & ilc.de$avg_log2FC.sc > 1,]\n",
    "bulk.ilc.de.sig <- bulk.ilc.de[bulk.ilc.de$p_val_adj.bulk < 0.05 & bulk.ilc.de$avg_log2FC.bulk > 1,]"
   ]
  },
  {
   "cell_type": "code",
   "execution_count": 0,
   "metadata": {
    "application/vnd.databricks.v1+cell": {
     "cellMetadata": {},
     "inputWidgets": {},
     "nuid": "e22e547f-cf7f-446e-ad11-31f87afcf771",
     "showTitle": false,
     "tableResultSettingsMap": {},
     "title": ""
    }
   },
   "outputs": [],
   "source": [
    "# Create a list of your gene sets\n",
    "gene_sets <- list(\n",
    "  \"SC\" = rownames(ilc.de.sig),\n",
    "  \"Bulk\" = rownames(bulk.ilc.de.sig)\n",
    ")\n",
    "\n",
    "# Plot the Venn diagram with colors and title\n",
    "venn.plot <- venn.diagram(\n",
    "  x = gene_sets,\n",
    "  category.names = c(\"SC\", \"Bulk\"),\n",
    "  filename = NULL,  # Set to NULL to plot in RStudio\n",
    "  output = TRUE,\n",
    "  fill = c(\"red\", \"blue\"), # Add colors\n",
    "  main = \"Common DEGs Reynolds ILCs\", # Add title,\n",
    "  cat.pos = c(0, 0), # Move the name of each circle higher\n",
    "  cat.dist = c(0.02, 0.02) # Adjust the distance of the category names from the circles\n",
    ")\n",
    "\n",
    "# Display the plot\n",
    "grid.newpage()\n",
    "grid.draw(venn.plot)"
   ]
  },
  {
   "cell_type": "markdown",
   "metadata": {
    "application/vnd.databricks.v1+cell": {
     "cellMetadata": {},
     "inputWidgets": {},
     "nuid": "d7e9e0e3-fd44-4733-8c0a-cf05a15631e0",
     "showTitle": false,
     "tableResultSettingsMap": {},
     "title": ""
    }
   },
   "source": [
    "##Mastc"
   ]
  },
  {
   "cell_type": "code",
   "execution_count": 0,
   "metadata": {
    "application/vnd.databricks.v1+cell": {
     "cellMetadata": {},
     "inputWidgets": {},
     "nuid": "aaee413b-b131-4e01-b5cd-b689ea680bdf",
     "showTitle": false,
     "tableResultSettingsMap": {},
     "title": ""
    }
   },
   "outputs": [],
   "source": [
    "bulk.mastc.de <- FindMarkers(object = pseudo_reynolds, \n",
    "                             ident.1 = \"MastC_lesional\", \n",
    "                             ident.2 = \"MastC_healthy\",\n",
    "                             test.use = \"DESeq2\")\n",
    "head(bulk.mastc.de, n = 15)"
   ]
  },
  {
   "cell_type": "code",
   "execution_count": 0,
   "metadata": {
    "application/vnd.databricks.v1+cell": {
     "cellMetadata": {},
     "inputWidgets": {},
     "nuid": "6d6c9804-bba0-4392-bd2d-c76b2a50fc66",
     "showTitle": false,
     "tableResultSettingsMap": {},
     "title": ""
    }
   },
   "outputs": [],
   "source": [
    " bulk.mastc.de$gene <- rownames(bulk.mastc.de)\n",
    "bulk.mastc.de.orig <- bulk.mastc.de"
   ]
  },
  {
   "cell_type": "code",
   "execution_count": 0,
   "metadata": {
    "application/vnd.databricks.v1+cell": {
     "cellMetadata": {},
     "inputWidgets": {},
     "nuid": "c88cd98f-ce2f-4c0b-8664-4bb87eff9067",
     "showTitle": false,
     "tableResultSettingsMap": {},
     "title": ""
    }
   },
   "outputs": [],
   "source": [
    "mastc.de <- read.xlsx(\"/dbfs/mnt/sandbox/TFM_PAULA/Reynolds/LvsHC/reynolds_mast_LvsHC_allmarkers.xlsx\")\n",
    "rownames(mastc.de) <- mastc.de$gene\n",
    "mastc.de.orig <- mastc.de"
   ]
  },
  {
   "cell_type": "code",
   "execution_count": 0,
   "metadata": {
    "application/vnd.databricks.v1+cell": {
     "cellMetadata": {},
     "inputWidgets": {},
     "nuid": "14c957f5-9d2b-4f7b-81dc-5cbe966cea3c",
     "showTitle": false,
     "tableResultSettingsMap": {},
     "title": ""
    }
   },
   "outputs": [],
   "source": [
    "# compare the DE P-values between the single-cell level and the pseudobulk level results\n",
    "names(bulk.mastc.de) <- paste0(names(bulk.mastc.de), \".bulk\")\n",
    "bulk.mastc.de$gene <- rownames(bulk.mastc.de)\n",
    "\n",
    "names(mastc.de) <- paste0(names(mastc.de), \".sc\")\n",
    "mastc.de$gene <- rownames(mastc.de)\n",
    "\n",
    "merge_dat <- merge(mastc.de, bulk.mastc.de, by = \"gene\")\n",
    "merge_dat <- merge_dat[order(merge_dat$p_val_adj.bulk), ]\n",
    "\n",
    "# Number of genes that are marginally significant in both; marginally significant only in bulk; and marginally significant only in single-cell\n",
    "common <- merge_dat$gene[which(merge_dat$p_val_adj.bulk < 0.05 & \n",
    "                                merge_dat$p_val_adj.sc < 0.05)]\n",
    "only_sc <- merge_dat$gene[which(merge_dat$p_val_adj.bulk > 0.05 & \n",
    "                                  merge_dat$p_val_adj.sc < 0.05)]\n",
    "only_bulk <- merge_dat$gene[which(merge_dat$p_val_adj.bulk < 0.05 & \n",
    "                                    merge_dat$p_val_adj.sc > 0.05)]\n",
    "print(paste0('# Common: ', length(common)))\n",
    "print(paste0('# Only in bulk: ', length(only_bulk)))\n",
    "print(paste0('# Only in single-cell: ', length(only_sc)))\n",
    "print(common)\n",
    "print(only_bulk)"
   ]
  },
  {
   "cell_type": "code",
   "execution_count": 0,
   "metadata": {
    "application/vnd.databricks.v1+cell": {
     "cellMetadata": {},
     "inputWidgets": {},
     "nuid": "01f1a4a6-b5f6-4e6b-acda-96d10f261064",
     "showTitle": false,
     "tableResultSettingsMap": {},
     "title": ""
    }
   },
   "outputs": [],
   "source": [
    "mastc.de.sig <- mastc.de[mastc.de$p_val_adj.sc < 0.05 & mastc.de$avg_log2FC.sc > 1,]\n",
    "bulk.mastc.de.sig <- bulk.mastc.de[bulk.mastc.de$p_val_adj.bulk < 0.05 & bulk.mastc.de$avg_log2FC.bulk > 1,]"
   ]
  },
  {
   "cell_type": "code",
   "execution_count": 0,
   "metadata": {
    "application/vnd.databricks.v1+cell": {
     "cellMetadata": {},
     "inputWidgets": {},
     "nuid": "b840ec1a-d388-4c6c-9c4e-be2a8682b6f0",
     "showTitle": false,
     "tableResultSettingsMap": {},
     "title": ""
    }
   },
   "outputs": [],
   "source": [
    "# Create a list of your gene sets\n",
    "gene_sets <- list(\n",
    "  \"SC\" = rownames(mastc.de.sig),\n",
    "  \"Bulk\" = rownames(bulk.mastc.de.sig)\n",
    ")\n",
    "\n",
    "# Plot the Venn diagram with colors and title\n",
    "venn.plot <- venn.diagram(\n",
    "  x = gene_sets,\n",
    "  category.names = c(\"SC\", \"Bulk\"),\n",
    "  filename = NULL,  # Set to NULL to plot in RStudio\n",
    "  output = TRUE,\n",
    "  fill = c(\"red\", \"blue\"), # Add colors\n",
    "  main = \"Common DEGs Reynolds Mastc\" # Add title\n",
    ")\n",
    "\n",
    "# Display the plot\n",
    "grid.newpage()\n",
    "grid.draw(venn.plot)"
   ]
  },
  {
   "cell_type": "markdown",
   "metadata": {
    "application/vnd.databricks.v1+cell": {
     "cellMetadata": {},
     "inputWidgets": {},
     "nuid": "4f8dc45d-58f2-414f-95e7-e3e422b20b2f",
     "showTitle": false,
     "tableResultSettingsMap": {},
     "title": ""
    }
   },
   "source": [
    "##NK"
   ]
  },
  {
   "cell_type": "code",
   "execution_count": 0,
   "metadata": {
    "application/vnd.databricks.v1+cell": {
     "cellMetadata": {},
     "inputWidgets": {},
     "nuid": "a33f97dd-2de9-4fcf-8e37-bc6dd6c71f59",
     "showTitle": false,
     "tableResultSettingsMap": {},
     "title": ""
    }
   },
   "outputs": [],
   "source": [
    "table(reynolds@meta.data$Condition, reynolds@meta.data$h_celltype)"
   ]
  },
  {
   "cell_type": "code",
   "execution_count": 0,
   "metadata": {
    "application/vnd.databricks.v1+cell": {
     "cellMetadata": {},
     "inputWidgets": {},
     "nuid": "95a2176e-fc93-4376-b15c-b062ae5b6f1d",
     "showTitle": false,
     "tableResultSettingsMap": {},
     "title": ""
    }
   },
   "outputs": [],
   "source": [
    "bulk.nk.de <- FindMarkers(object = pseudo_reynolds, \n",
    "                         ident.1 = \"NK_lesional\", \n",
    "                         ident.2 = \"NK_healthy\",\n",
    "                         test.use = \"DESeq2\")\n",
    "head(bulk.nk.de, n = 15)"
   ]
  },
  {
   "cell_type": "code",
   "execution_count": 0,
   "metadata": {
    "application/vnd.databricks.v1+cell": {
     "cellMetadata": {},
     "inputWidgets": {},
     "nuid": "b0da06fa-3588-4f8d-83a8-d371d42df512",
     "showTitle": false,
     "tableResultSettingsMap": {},
     "title": ""
    }
   },
   "outputs": [],
   "source": [
    "bulk.nk.de.orig <- bulk.nk.de\n",
    "bulk.nk.de.orig$gene <- rownames(bulk.nk.de.orig)"
   ]
  },
  {
   "cell_type": "markdown",
   "metadata": {
    "application/vnd.databricks.v1+cell": {
     "cellMetadata": {},
     "inputWidgets": {},
     "nuid": "f622b3cd-7832-451a-8fd4-e27229e3ccab",
     "showTitle": false,
     "tableResultSettingsMap": {},
     "title": ""
    }
   },
   "source": [
    "Only 2 DEGs\n",
    "\n",
    "HSPH1   3.478684e-07  2.7923164  0.75   1.0 0.01166681\n",
    "\n",
    "HSPA1A  1.356205e-06  3.6898339  0.75   1.0 0.04548440\n",
    "\n",
    "// after filter variables\n",
    "\n",
    "HSPH1           3.590284e-07  2.791301414  0.75   1.0 0.005706038\n",
    "\n",
    "HSPA1A          1.403270e-06  3.688437560  0.75   1.0 0.022302172"
   ]
  },
  {
   "cell_type": "markdown",
   "metadata": {
    "application/vnd.databricks.v1+cell": {
     "cellMetadata": {},
     "inputWidgets": {},
     "nuid": "2bfbc727-77c6-4a61-9b9b-532508c5d4fd",
     "showTitle": false,
     "tableResultSettingsMap": {},
     "title": ""
    }
   },
   "source": [
    "The rest of the cell types are not interesting or have very low number of cells"
   ]
  },
  {
   "cell_type": "markdown",
   "metadata": {
    "application/vnd.databricks.v1+cell": {
     "cellMetadata": {},
     "inputWidgets": {},
     "nuid": "954b5098-ab0b-494d-80b0-d15998a2ea9c",
     "showTitle": false,
     "tableResultSettingsMap": {},
     "title": ""
    }
   },
   "source": [
    "##Write and save"
   ]
  },
  {
   "cell_type": "code",
   "execution_count": 0,
   "metadata": {
    "application/vnd.databricks.v1+cell": {
     "cellMetadata": {},
     "inputWidgets": {},
     "nuid": "b1c47294-431a-4aa1-9daf-1010b951a199",
     "showTitle": false,
     "tableResultSettingsMap": {},
     "title": ""
    }
   },
   "outputs": [],
   "source": [
    "write.xlsx(bulk.fb.de.orig, file=\"/dbfs/mnt/sandbox/TFM_PAULA/Reynolds/LvsHC/pseudobulk/reynolds_fb_LvsHC_bulk_v2.xlsx\")\n",
    "write.xlsx(bulk.treg.de.orig, file=\"/dbfs/mnt/sandbox/TFM_PAULA/Reynolds/LvsHC/pseudobulk/reynolds_treg_LvsHC_bulk_v2.xlsx\")\n",
    "write.xlsx(bulk.kc.de.orig, file=\"/dbfs/mnt/sandbox/TFM_PAULA/Reynolds/LvsHC/pseudobulk/reynolds_kc_LvsHC_bulk_v2.xlsx\")\n",
    "write.xlsx(bulk.tcell.de.orig, file=\"/dbfs/mnt/sandbox/TFM_PAULA/Reynolds/LvsHC/pseudobulk/reynolds_tcell_LvsHC_bulk_v2.xlsx\")\n",
    "write.xlsx(bulk.macro.de.orig, file=\"/dbfs/mnt/sandbox/TFM_PAULA/Reynolds/LvsHC/pseudobulk/reynolds_macro_LvsHC_bulk_v2.xlsx\")\n",
    "write.xlsx(bulk.mono.de.orig, file=\"/dbfs/mnt/sandbox/TFM_PAULA/Reynolds/LvsHC/pseudobulk/reynolds_mono_LvsHC_bulk_v2.xlsx\")\n",
    "write.xlsx(bulk.dc.de.orig, file=\"/dbfs/mnt/sandbox/TFM_PAULA/Reynolds/LvsHC/pseudobulk/reynolds_dc_LvsHC_bulk_v2.xlsx\")\n",
    "write.xlsx(bulk.ilc.de.orig, file=\"/dbfs/mnt/sandbox/TFM_PAULA/Reynolds/LvsHC/pseudobulk/reynolds_ilc_LvsHC_bulk_v2.xlsx\")\n",
    "write.xlsx(bulk.nk.de.orig, file=\"/dbfs/mnt/sandbox/TFM_PAULA/Reynolds/LvsHC/pseudobulk/reynolds_nk_LvsHC_bulk_v2.xlsx\")\n",
    "write.xlsx(bulk.mastc.de.orig, file=\"/dbfs/mnt/sandbox/TFM_PAULA/Reynolds/LvsHC/pseudobulk/reynolds_mast_LvsHC_bulk_v2.xlsx\")"
   ]
  },
  {
   "cell_type": "markdown",
   "metadata": {
    "application/vnd.databricks.v1+cell": {
     "cellMetadata": {},
     "inputWidgets": {},
     "nuid": "8aad6b67-8499-413c-9e6c-c50ac855ba03",
     "showTitle": false,
     "tableResultSettingsMap": {},
     "title": ""
    }
   },
   "source": [
    "v2 are the DEGs after using count filters of 3 counts and 3 samples"
   ]
  }
 ],
 "metadata": {
  "application/vnd.databricks.v1+notebook": {
   "computePreferences": null,
   "dashboards": [],
   "environmentMetadata": null,
   "inputWidgetPreferences": null,
   "language": "r",
   "notebookMetadata": {
    "pythonIndentUnit": 4
   },
   "notebookName": "1.2.reynolds_DEGs_LvsHC",
   "widgets": {}
  },
  "language_info": {
   "name": "r"
  }
 },
 "nbformat": 4,
 "nbformat_minor": 0
}
