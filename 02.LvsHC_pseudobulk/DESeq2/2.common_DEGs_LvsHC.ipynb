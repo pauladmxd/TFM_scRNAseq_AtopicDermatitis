{
 "cells": [
  {
   "cell_type": "markdown",
   "metadata": {
    "application/vnd.databricks.v1+cell": {
     "cellMetadata": {
      "byteLimit": 2048000,
      "rowLimit": 10000
     },
     "inputWidgets": {},
     "nuid": "1d15d75d-6293-48f0-839f-677cf6f24ba2",
     "showTitle": false,
     "tableResultSettingsMap": {},
     "title": ""
    }
   },
   "source": [
    "# Common DEGs from the different datasets\n",
    "\n",
    "Here I will merge the DEGs I found for each cell type on each dataset using the **pseudobulk** approach, for the **LvsHC** contrast"
   ]
  },
  {
   "cell_type": "code",
   "execution_count": 0,
   "metadata": {
    "application/vnd.databricks.v1+cell": {
     "cellMetadata": {
      "byteLimit": 2048000,
      "rowLimit": 10000
     },
     "inputWidgets": {},
     "nuid": "d551f488-64f4-41c9-b9c0-73fcb6bf0dc2",
     "showTitle": false,
     "tableResultSettingsMap": {},
     "title": ""
    }
   },
   "outputs": [],
   "source": [
    "#Load required libraries\n",
    ".libPaths(c(\"/dbfs/home/jtrincado@almirall.com/my_r_packages/Seurat\", .libPaths()))\n",
    "library(dplyr)\n",
    "library(openxlsx)\n",
    ".libPaths(c(\"/dbfs/home/boriol@almirall.com/my_r_packages/bulkRNASeq_PBMCs_R4.3\", .libPaths()))\n",
    "library(VennDiagram)"
   ]
  },
  {
   "cell_type": "markdown",
   "metadata": {
    "application/vnd.databricks.v1+cell": {
     "cellMetadata": {
      "byteLimit": 2048000,
      "rowLimit": 10000
     },
     "inputWidgets": {},
     "nuid": "954bdade-1224-48cf-b2c2-c158034725d4",
     "showTitle": false,
     "tableResultSettingsMap": {},
     "title": ""
    }
   },
   "source": [
    "## Lesional vs Healthy Control"
   ]
  },
  {
   "cell_type": "markdown",
   "metadata": {
    "application/vnd.databricks.v1+cell": {
     "cellMetadata": {
      "byteLimit": 2048000,
      "rowLimit": 10000
     },
     "inputWidgets": {},
     "nuid": "8825d2b9-6aff-4558-8988-eaaa69600a5a",
     "showTitle": false,
     "tableResultSettingsMap": {},
     "title": ""
    }
   },
   "source": [
    "### T-cells"
   ]
  },
  {
   "cell_type": "code",
   "execution_count": 0,
   "metadata": {
    "application/vnd.databricks.v1+cell": {
     "cellMetadata": {
      "byteLimit": 2048000,
      "rowLimit": 10000
     },
     "inputWidgets": {},
     "nuid": "4a3a4dc8-98c1-42a5-acd3-1212a908d5a4",
     "showTitle": false,
     "tableResultSettingsMap": {},
     "title": ""
    }
   },
   "outputs": [],
   "source": [
    "#Read each dataset DEGs saved previously\n",
    "reynolds_LvsHC_tcell_markers <- read.xlsx(\"/dbfs/mnt/sandbox/TFM_PAULA/Reynolds/LvsHC/pseudobulk/reynolds_tcell_LvsHC_bulk.xlsx\")\n",
    "\n",
    "alkon_LvsHC_tcell_markers <- read.xlsx(\"/dbfs/mnt/sandbox/TFM_PAULA/Alkon/pseudobulk/alkon_tcell_LvsHC_bulk.xlsx\")\n",
    "\n",
    "liu_LvsHC_tcell_markers <- read.xlsx(\"/dbfs/mnt/sandbox/TFM_PAULA/Liu/LvsHC/pseudobulk/liu_tcell_LvsHC_bulk.xlsx\")"
   ]
  },
  {
   "cell_type": "code",
   "execution_count": 0,
   "metadata": {
    "application/vnd.databricks.v1+cell": {
     "cellMetadata": {
      "byteLimit": 2048000,
      "rowLimit": 10000
     },
     "inputWidgets": {},
     "nuid": "fed5c47d-78a0-4d29-bddc-a40d992099a8",
     "showTitle": false,
     "tableResultSettingsMap": {},
     "title": ""
    }
   },
   "outputs": [],
   "source": [
    "# Merge the first two data frames with suffixes\n",
    "tcell_markersRL <- merge(reynolds_LvsHC_tcell_markers, liu_LvsHC_tcell_markers, by = \"gene\", suffixes = c(\".reynolds\", \".liu\"))\n",
    "\n",
    "alkon_LvsHC_tcell_markers_suffix <- alkon_LvsHC_tcell_markers %>%\n",
    "rename_with(~ paste0(., \".alkon\"), -gene) #add also alkon name, not possible with suffix because they don't share the same name then\n",
    "  \n",
    "# Merge the result with the third data frame\n",
    "tcell_markersRLA <- merge(tcell_markersRL, alkon_LvsHC_tcell_markers_suffix, by = \"gene\")\n",
    "\n",
    "# Display the merged data frame sorted by p_val_adj\n",
    "display(tcell_markersRLA %>% arrange(p_val_adj.alkon))"
   ]
  },
  {
   "cell_type": "code",
   "execution_count": 0,
   "metadata": {
    "application/vnd.databricks.v1+cell": {
     "cellMetadata": {
      "byteLimit": 2048000,
      "rowLimit": 10000
     },
     "inputWidgets": {},
     "nuid": "34c5232a-054f-4cbf-a90f-67de824b13ae",
     "showTitle": false,
     "tableResultSettingsMap": {},
     "title": ""
    }
   },
   "outputs": [],
   "source": [
    "colnames(tcell_markersRLA)"
   ]
  },
  {
   "cell_type": "code",
   "execution_count": 0,
   "metadata": {
    "application/vnd.databricks.v1+cell": {
     "cellMetadata": {
      "byteLimit": 2048000,
      "rowLimit": 10000
     },
     "inputWidgets": {},
     "nuid": "dd91389c-5990-4412-86b0-87be1092f25d",
     "showTitle": false,
     "tableResultSettingsMap": {},
     "title": ""
    }
   },
   "outputs": [],
   "source": [
    "#To save all the pairwise common markers with custom column names\n",
    "tcell_markersRA <- merge(reynolds_LvsHC_tcell_markers, alkon_LvsHC_tcell_markers, by = \"gene\", suffixes = c(\".reynolds\", \".alkon\"))\n",
    "tcell_markersLA <- merge(liu_LvsHC_tcell_markers, alkon_LvsHC_tcell_markers, by = \"gene\", suffixes = c(\".liu\", \".alkon\"))"
   ]
  },
  {
   "cell_type": "code",
   "execution_count": 0,
   "metadata": {
    "application/vnd.databricks.v1+cell": {
     "cellMetadata": {
      "byteLimit": 2048000,
      "rowLimit": 10000
     },
     "inputWidgets": {},
     "nuid": "e248e352-4770-4d32-a13c-d1ee1b11d4d5",
     "showTitle": false,
     "tableResultSettingsMap": {},
     "title": ""
    }
   },
   "outputs": [],
   "source": [
    "display(tcell_markersRA)"
   ]
  },
  {
   "cell_type": "code",
   "execution_count": 0,
   "metadata": {
    "application/vnd.databricks.v1+cell": {
     "cellMetadata": {
      "byteLimit": 2048000,
      "rowLimit": 10000
     },
     "inputWidgets": {},
     "nuid": "739d6161-f7c8-4e2a-8630-1587ac608a86",
     "showTitle": false,
     "tableResultSettingsMap": {},
     "title": ""
    }
   },
   "outputs": [],
   "source": [
    "filtered_tcell_markersRLA <- tcell_markersRLA %>%\n",
    "  filter((sign(avg_log2FC.reynolds) == sign(avg_log2FC.liu) & sign(avg_log2FC.liu) == sign(avg_log2FC.alkon)))  %>%\n",
    "  mutate(avg_log2FC = (avg_log2FC.reynolds + avg_log2FC.liu + avg_log2FC.alkon) / 3) %>%\n",
    "  mutate(avg_pvalue = (p_val.reynolds + p_val.liu + p_val.alkon) / 3) %>%\n",
    "  mutate(avg_pvalue_adj = (p_val_adj.reynolds + p_val_adj.liu + p_val_adj.alkon) / 3)\n",
    "\n",
    "display(filtered_tcell_markersRLA)"
   ]
  },
  {
   "cell_type": "code",
   "execution_count": 0,
   "metadata": {
    "application/vnd.databricks.v1+cell": {
     "cellMetadata": {
      "byteLimit": 2048000,
      "rowLimit": 10000
     },
     "inputWidgets": {},
     "nuid": "14770460-316c-4583-9307-a5c8622a8842",
     "showTitle": false,
     "tableResultSettingsMap": {},
     "title": ""
    }
   },
   "outputs": [],
   "source": [
    "#Filter all pairwise common markers\n",
    "# For reynolds - liu\n",
    "filtered_tcell_markersRL <- tcell_markersRL %>%\n",
    "  filter((sign(avg_log2FC.reynolds) == sign(avg_log2FC.liu))) %>%\n",
    "  mutate(avg_log2FC = (avg_log2FC.reynolds + avg_log2FC.liu) / 2) %>%\n",
    "  mutate(avg_pvalue = (p_val.reynolds + p_val.liu) / 2) %>%\n",
    "  mutate(avg_pvalue_adj = (p_val_adj.reynolds + p_val_adj.liu) / 2) \n",
    "\n",
    "# For liu - alkon\n",
    "filtered_tcell_markersLA <- tcell_markersLA %>%\n",
    "  filter((sign(avg_log2FC.liu) == sign(avg_log2FC.alkon))) %>%\n",
    "  mutate(avg_log2FC = (avg_log2FC.alkon + avg_log2FC.liu) / 2) %>%\n",
    "  mutate(avg_pvalue = (p_val.alkon + p_val.liu) / 2) %>%\n",
    "  mutate(avg_pvalue_adj = (p_val_adj.alkon + p_val_adj.liu) / 2)\n",
    "# For reynolds- alkon\n",
    "filtered_tcell_markersRA <- tcell_markersRA %>%\n",
    "  filter((sign(avg_log2FC.reynolds) == sign(avg_log2FC.alkon))) %>%\n",
    "  mutate(avg_log2FC = (avg_log2FC.alkon + avg_log2FC.reynolds) / 2) %>%\n",
    "  mutate(avg_pvalue = (p_val.alkon + p_val.reynolds) / 2) %>%\n",
    "  mutate(avg_pvalue_adj = (p_val_adj.alkon + p_val_adj.reynolds) / 2) \n"
   ]
  },
  {
   "cell_type": "code",
   "execution_count": 0,
   "metadata": {
    "application/vnd.databricks.v1+cell": {
     "cellMetadata": {
      "byteLimit": 2048000,
      "rowLimit": 10000
     },
     "inputWidgets": {},
     "nuid": "4c6e1299-8699-425d-a61a-b8a56672aa13",
     "showTitle": false,
     "tableResultSettingsMap": {},
     "title": ""
    }
   },
   "outputs": [],
   "source": [
    "display(filtered_tcell_markersRL)"
   ]
  },
  {
   "cell_type": "code",
   "execution_count": 0,
   "metadata": {
    "application/vnd.databricks.v1+cell": {
     "cellMetadata": {
      "byteLimit": 2048000,
      "rowLimit": 10000
     },
     "inputWidgets": {},
     "nuid": "46778431-c26d-4c52-8d5d-72cd3339fc5f",
     "showTitle": false,
     "tableResultSettingsMap": {},
     "title": ""
    }
   },
   "outputs": [],
   "source": [
    "write.xlsx(filtered_tcell_markersRLA, \"/dbfs/mnt/sandbox/TFM_PAULA/common_markers/pseudobulk/Tcell/ARL_Tcell_LvsHC_bulk.xlsx\")\n",
    "write.xlsx(filtered_tcell_markersRL, \"/dbfs/mnt/sandbox/TFM_PAULA/common_markers/pseudobulk/Tcell/RL_Tcell_LvsHC_bulk.xlsx\")\n",
    "write.xlsx(filtered_tcell_markersRA, \"/dbfs/mnt/sandbox/TFM_PAULA/common_markers/pseudobulk/Tcell/AR_Tcell_LvsHC_bulk.xlsx\")\n",
    "write.xlsx(filtered_tcell_markersLA, \"/dbfs/mnt/sandbox/TFM_PAULA/common_markers/pseudobulk/Tcell/AL_Tcell_LvsHC_bulk.xlsx\")"
   ]
  },
  {
   "cell_type": "markdown",
   "metadata": {
    "application/vnd.databricks.v1+cell": {
     "cellMetadata": {
      "byteLimit": 2048000,
      "rowLimit": 10000
     },
     "inputWidgets": {},
     "nuid": "ad0dfe2f-079c-44c6-8f2e-e8966ed17c67",
     "showTitle": false,
     "tableResultSettingsMap": {},
     "title": ""
    }
   },
   "source": [
    "### Fibroblast"
   ]
  },
  {
   "cell_type": "code",
   "execution_count": 0,
   "metadata": {
    "application/vnd.databricks.v1+cell": {
     "cellMetadata": {
      "byteLimit": 2048000,
      "rowLimit": 10000
     },
     "inputWidgets": {},
     "nuid": "7eca1ffc-9884-40f6-89c0-d987ad6133d5",
     "showTitle": false,
     "tableResultSettingsMap": {},
     "title": ""
    }
   },
   "outputs": [],
   "source": [
    "#Read each dataset markers saved previously\n",
    "reynolds_LvsHC_fb_markers <- read.xlsx(\"/dbfs/mnt/sandbox/TFM_PAULA/Reynolds/LvsHC/pseudobulk/reynolds_fb_LvsHC_bulk.xlsx\")\n",
    "alkon_LvsHC_fb_markers <- read.xlsx(\"/dbfs/mnt/sandbox/TFM_PAULA/Alkon/pseudobulk/alkon_fb_LvsHC_bulk.xlsx\")"
   ]
  },
  {
   "cell_type": "code",
   "execution_count": 0,
   "metadata": {
    "application/vnd.databricks.v1+cell": {
     "cellMetadata": {
      "byteLimit": 2048000,
      "rowLimit": 10000
     },
     "inputWidgets": {},
     "nuid": "c1e18817-2773-46e0-b618-d21ec66e7229",
     "showTitle": false,
     "tableResultSettingsMap": {},
     "title": ""
    }
   },
   "outputs": [],
   "source": [
    "fb_markers <- merge(alkon_LvsHC_fb_markers, reynolds_LvsHC_fb_markers, by =\"gene\",suffixes = c(\".alkon\", \".reynolds\"))\n",
    "display(fb_markers %>% arrange(p_val_adj.alkon))"
   ]
  },
  {
   "cell_type": "code",
   "execution_count": 0,
   "metadata": {
    "application/vnd.databricks.v1+cell": {
     "cellMetadata": {
      "byteLimit": 2048000,
      "rowLimit": 10000
     },
     "inputWidgets": {},
     "nuid": "cbea3ab5-4b24-4752-b489-ff120b5e2c1b",
     "showTitle": false,
     "tableResultSettingsMap": {},
     "title": ""
    }
   },
   "outputs": [],
   "source": [
    "# Filter rows where the sign of avg_log2FC is the same for both datasets.\n",
    "filtered_fb_markers <- fb_markers %>%\n",
    "  filter(sign(avg_log2FC.reynolds) == sign(avg_log2FC.alkon)) %>%\n",
    "  mutate(avg_log2FC = (avg_log2FC.alkon + avg_log2FC.reynolds) / 2) %>%\n",
    "  mutate(avg_pvalue = (p_val.alkon + p_val.reynolds) / 2) %>%\n",
    "  mutate(avg_pvalue_adj = (p_val_adj.alkon + p_val_adj.reynolds) / 2)\n",
    "display(filtered_fb_markers)"
   ]
  },
  {
   "cell_type": "code",
   "execution_count": 0,
   "metadata": {
    "application/vnd.databricks.v1+cell": {
     "cellMetadata": {
      "byteLimit": 2048000,
      "rowLimit": 10000
     },
     "inputWidgets": {},
     "nuid": "3fe6b0d6-92ef-424d-b054-b4304ccf4fb3",
     "showTitle": false,
     "tableResultSettingsMap": {},
     "title": ""
    }
   },
   "outputs": [],
   "source": [
    "write.xlsx(filtered_fb_markers, file=\"/dbfs/mnt/sandbox/TFM_PAULA/common_markers/pseudobulk/Fibroblast/AR_fb_LvsHC_bulk.xlsx\")"
   ]
  },
  {
   "cell_type": "markdown",
   "metadata": {
    "application/vnd.databricks.v1+cell": {
     "cellMetadata": {
      "byteLimit": 2048000,
      "rowLimit": 10000
     },
     "inputWidgets": {},
     "nuid": "9c554d72-8723-49fb-bf94-feba053a6686",
     "showTitle": false,
     "tableResultSettingsMap": {},
     "title": ""
    }
   },
   "source": [
    "### Keratinocytes"
   ]
  },
  {
   "cell_type": "code",
   "execution_count": 0,
   "metadata": {
    "application/vnd.databricks.v1+cell": {
     "cellMetadata": {
      "byteLimit": 2048000,
      "rowLimit": 10000
     },
     "inputWidgets": {},
     "nuid": "29bc9aad-be38-4501-a401-9a74aa511b72",
     "showTitle": false,
     "tableResultSettingsMap": {},
     "title": ""
    }
   },
   "outputs": [],
   "source": [
    "#Read each dataset markers saved previously\n",
    "reynolds_LvsHC_KC_markers <- read.xlsx(\"/dbfs/mnt/sandbox/TFM_PAULA/Reynolds/LvsHC/pseudobulk/reynolds_kc_LvsHC_bulk.xlsx\")\n",
    "alkon_LvsHC_KC_markers <- read.xlsx(\"/dbfs/mnt/sandbox/TFM_PAULA/Alkon/pseudobulk/alkon_kc_LvsHC_bulk.xlsx\")"
   ]
  },
  {
   "cell_type": "code",
   "execution_count": 0,
   "metadata": {
    "application/vnd.databricks.v1+cell": {
     "cellMetadata": {
      "byteLimit": 2048000,
      "rowLimit": 10000
     },
     "inputWidgets": {},
     "nuid": "76096593-52da-436b-98d5-2d80b363a1f6",
     "showTitle": false,
     "tableResultSettingsMap": {},
     "title": ""
    }
   },
   "outputs": [],
   "source": [
    "kc_markers <- merge(reynolds_LvsHC_KC_markers, alkon_LvsHC_KC_markers, by =\"gene\", suffixes= c(\".reynolds\", \".alkon\"))\n",
    "display(kc_markers %>% arrange(p_val_adj.alkon))"
   ]
  },
  {
   "cell_type": "code",
   "execution_count": 0,
   "metadata": {
    "application/vnd.databricks.v1+cell": {
     "cellMetadata": {
      "byteLimit": 2048000,
      "rowLimit": 10000
     },
     "inputWidgets": {},
     "nuid": "1d2fa7f4-87d9-4284-8220-e4b1629d83ef",
     "showTitle": false,
     "tableResultSettingsMap": {},
     "title": ""
    }
   },
   "outputs": [],
   "source": [
    "# Filter rows where avg_log2FC has the same sign.\n",
    "filtered_kc_markers <- kc_markers %>%\n",
    "  filter(sign(avg_log2FC.reynolds) == sign(avg_log2FC.alkon)) %>%\n",
    "  mutate(avg_log2FC = (avg_log2FC.alkon + avg_log2FC.reynolds) / 2) %>%\n",
    "  mutate(avg_pvalue = (p_val.alkon + p_val.reynolds) / 2) %>%\n",
    "  mutate(avg_pvalue_adj = (p_val_adj.alkon + p_val_adj.reynolds) / 2)\n",
    "display(filtered_kc_markers)"
   ]
  },
  {
   "cell_type": "code",
   "execution_count": 0,
   "metadata": {
    "application/vnd.databricks.v1+cell": {
     "cellMetadata": {
      "byteLimit": 2048000,
      "rowLimit": 10000
     },
     "inputWidgets": {},
     "nuid": "eaf89430-abb2-48f1-8038-bb138d75a87e",
     "showTitle": false,
     "tableResultSettingsMap": {},
     "title": ""
    }
   },
   "outputs": [],
   "source": [
    "# Read each dataset markers saved previously\n",
    "reynolds_LvsHC_KC_markers <- reynolds_LvsHC_KC_markers %>%\n",
    "  filter(abs(avg_log2FC) > 1, p_val_adj < 0.05)\n",
    "\n",
    "alkon_LvsHC_KC_markers <- alkon_LvsHC_KC_markers %>%\n",
    "  filter(abs(avg_log2FC) > 1, p_val_adj < 0.05)"
   ]
  },
  {
   "cell_type": "code",
   "execution_count": 0,
   "metadata": {
    "application/vnd.databricks.v1+cell": {
     "cellMetadata": {
      "byteLimit": 2048000,
      "rowLimit": 10000
     },
     "inputWidgets": {},
     "nuid": "24efcaee-d377-4721-bb82-f6f0acb80ccb",
     "showTitle": false,
     "tableResultSettingsMap": {},
     "title": ""
    }
   },
   "outputs": [],
   "source": [
    "rownames(reynolds_LvsHC_KC_markers) <- reynolds_LvsHC_KC_markers$gene\n",
    "rownames(alkon_LvsHC_KC_markers) <- alkon_LvsHC_KC_markers$gene"
   ]
  },
  {
   "cell_type": "code",
   "execution_count": 0,
   "metadata": {
    "application/vnd.databricks.v1+cell": {
     "cellMetadata": {
      "byteLimit": 2048000,
      "rowLimit": 10000
     },
     "inputWidgets": {},
     "nuid": "7c24ed35-050f-49d0-8cd1-685d26953286",
     "showTitle": false,
     "tableResultSettingsMap": {},
     "title": ""
    }
   },
   "outputs": [],
   "source": [
    "# Create a list of your gene sets\n",
    "gene_sets <- list(\n",
    "  \"Alkon\" = na.omit(reynolds_LvsHC_KC_markers$gene),\n",
    "  \"Reynolds\" = na.omit(alkon_LvsHC_KC_markers$gene)\n",
    ")\n",
    "\n",
    "# Plot the Venn diagram with colors and title\n",
    "venn.plot <- venn.diagram(\n",
    "  x = gene_sets,\n",
    "  category.names = c(\"Alkon\", \"Reynolds\"),\n",
    "  filename = NULL,  # Set to NULL to plot in RStudio\n",
    "  output = TRUE,\n",
    "  fill = c(\"red\", \"blue\"), # Add colors\n",
    "  main = \"Common DEGs btw datasets - KC (DESeq2)\", # Add title,\n",
    "  main.fontface = \"bold\", # Make title bold\n",
    "  cat.dist = c(0.03, 0.03), # Adjust the distance of the category names from the circles\n",
    "  main.cex = 1.3, # Increase title size\n",
    "  cat.cex = 1.3, # Increase label size\n",
    "  cat.pos = c(-17, 17), # Position labels more on the top\n",
    "  cex = 1.3, # Increase numbers size\n",
    "  cat.col = c(\"red\", \"blue\") # Set label colors to match circles\n",
    ")\n",
    "\n",
    "\n",
    "# Display the plot\n",
    "grid.newpage()\n",
    "grid.draw(venn.plot)"
   ]
  },
  {
   "cell_type": "code",
   "execution_count": 0,
   "metadata": {
    "application/vnd.databricks.v1+cell": {
     "cellMetadata": {
      "byteLimit": 2048000,
      "rowLimit": 10000
     },
     "inputWidgets": {},
     "nuid": "5a2400d8-bffc-4df3-983c-72905f487c6e",
     "showTitle": false,
     "tableResultSettingsMap": {},
     "title": ""
    }
   },
   "outputs": [],
   "source": [
    "write.xlsx(filtered_kc_markers, file=\"/dbfs/mnt/sandbox/TFM_PAULA/common_markers/pseudobulk/Keratinocytes/AR_kc_LvsHC_allmarkers.xlsx\")"
   ]
  },
  {
   "cell_type": "markdown",
   "metadata": {
    "application/vnd.databricks.v1+cell": {
     "cellMetadata": {
      "byteLimit": 2048000,
      "rowLimit": 10000
     },
     "inputWidgets": {},
     "nuid": "56e5089a-b580-4052-8957-50084054c87f",
     "showTitle": false,
     "tableResultSettingsMap": {},
     "title": ""
    }
   },
   "source": [
    "####Common DEGs between the different methods and the different datasets"
   ]
  },
  {
   "cell_type": "code",
   "execution_count": 0,
   "metadata": {
    "application/vnd.databricks.v1+cell": {
     "cellMetadata": {
      "byteLimit": 2048000,
      "rowLimit": 10000
     },
     "inputWidgets": {},
     "nuid": "a9099dfa-0d4b-4e24-bb80-bf497fd08eab",
     "showTitle": false,
     "tableResultSettingsMap": {},
     "title": ""
    }
   },
   "outputs": [],
   "source": [
    "filtered_kc_markers_sc <- read.xlsx(\"/dbfs/mnt/sandbox/TFM_PAULA/common_markers/Keratinocytes/AR_kc_LvsHC_allmarkers.xlsx\")"
   ]
  },
  {
   "cell_type": "code",
   "execution_count": 0,
   "metadata": {
    "application/vnd.databricks.v1+cell": {
     "cellMetadata": {
      "byteLimit": 2048000,
      "rowLimit": 10000
     },
     "inputWidgets": {},
     "nuid": "52fd9a98-e595-4377-a113-3c48e165af56",
     "showTitle": false,
     "tableResultSettingsMap": {},
     "title": ""
    }
   },
   "outputs": [],
   "source": [
    "filtered_kc_markers_bulk <- read.xlsx(\"/dbfs/mnt/sandbox/TFM_PAULA/common_markers/pseudobulk/Keratinocytes/AR_kc_LvsHC_allmarkers.xlsx\")"
   ]
  },
  {
   "cell_type": "code",
   "execution_count": 0,
   "metadata": {
    "application/vnd.databricks.v1+cell": {
     "cellMetadata": {
      "byteLimit": 2048000,
      "rowLimit": 10000
     },
     "inputWidgets": {},
     "nuid": "e8d0efff-e408-492d-affc-d39b6781abef",
     "showTitle": false,
     "tableResultSettingsMap": {},
     "title": ""
    }
   },
   "outputs": [],
   "source": [
    "common_kc_markers <- merge(filtered_kc_markers_sc, filtered_kc_markers_bulk, by =\"gene\", suffixes= c(\".sc\", \".bulk\"))\n",
    "display(common_kc_markers)"
   ]
  },
  {
   "cell_type": "code",
   "execution_count": 0,
   "metadata": {
    "application/vnd.databricks.v1+cell": {
     "cellMetadata": {
      "byteLimit": 2048000,
      "rowLimit": 10000
     },
     "inputWidgets": {},
     "nuid": "a136cfcb-6e5a-46f0-baaf-412adaa9403a",
     "showTitle": false,
     "tableResultSettingsMap": {},
     "title": ""
    }
   },
   "outputs": [],
   "source": [
    "# Filter rows where avg_log2FC has the same sign.\n",
    "filtered_common_kc_markers <- common_kc_markers %>%\n",
    "  filter(sign(avg_log2FC.sc) == sign(avg_log2FC.bulk)) %>%\n",
    "  mutate(avg_log2FC = (avg_log2FC.sc + avg_log2FC.bulk) / 2) %>%\n",
    "  mutate(avg_pvalue = (avg_pvalue.sc + avg_pvalue.bulk) / 2) %>%\n",
    "  mutate(avg_pvalue_adj = (avg_pvalue_adj.sc + avg_pvalue_adj.bulk) / 2)\n",
    "display(filtered_common_kc_markers)"
   ]
  },
  {
   "cell_type": "code",
   "execution_count": 0,
   "metadata": {
    "application/vnd.databricks.v1+cell": {
     "cellMetadata": {
      "byteLimit": 2048000,
      "rowLimit": 10000
     },
     "inputWidgets": {},
     "nuid": "f53ab2cc-84e2-47b8-bc73-9934ff150416",
     "showTitle": false,
     "tableResultSettingsMap": {},
     "title": ""
    }
   },
   "outputs": [],
   "source": [
    "filtered_common_kc_markers <- filtered_common_kc_markers %>%\n",
    "  filter((avg_pvalue_adj.sc < 0.05) & (avg_pvalue_adj.bulk < 0.05) & (avg_log2FC.sc > 0.5) & (avg_log2FC.bulk > 0.5))\n",
    "display(filtered_common_kc_markers)"
   ]
  },
  {
   "cell_type": "code",
   "execution_count": 0,
   "metadata": {
    "application/vnd.databricks.v1+cell": {
     "cellMetadata": {
      "byteLimit": 2048000,
      "rowLimit": 10000
     },
     "collapsed": true,
     "inputWidgets": {},
     "nuid": "d1bfcbb3-16e9-421a-b46a-bdb62a5e66d8",
     "showTitle": false,
     "tableResultSettingsMap": {},
     "title": ""
    }
   },
   "outputs": [],
   "source": [
    "display(filtered_kc_markers_sc)"
   ]
  },
  {
   "cell_type": "code",
   "execution_count": 0,
   "metadata": {
    "application/vnd.databricks.v1+cell": {
     "cellMetadata": {
      "byteLimit": 2048000,
      "rowLimit": 10000
     },
     "inputWidgets": {},
     "nuid": "4a9ca184-b122-46f4-be06-c6496173f99f",
     "showTitle": false,
     "tableResultSettingsMap": {},
     "title": ""
    }
   },
   "outputs": [],
   "source": [
    "kc.de.sig <- filtered_kc_markers_sc[filtered_kc_markers_sc$avg_pvalue_adj < 0.05 & filtered_kc_markers_sc$avg_log2FC> 0.5,]\n",
    "bulk.kc.de.sig <- filtered_kc_markers_bulk[filtered_kc_markers_bulk$avg_pvalue_adj < 0.05 & filtered_kc_markers_bulk$avg_log2FC > 0.5,]\n",
    "\n",
    "common <- merge(kc.de.sig, bulk.kc.de.sig, by= \"gene\")"
   ]
  },
  {
   "cell_type": "code",
   "execution_count": 0,
   "metadata": {
    "application/vnd.databricks.v1+cell": {
     "cellMetadata": {
      "byteLimit": 2048000,
      "rowLimit": 10000
     },
     "inputWidgets": {},
     "nuid": "6391b610-285e-48fe-a514-9841bee83b1e",
     "showTitle": false,
     "tableResultSettingsMap": {},
     "title": ""
    }
   },
   "outputs": [],
   "source": [
    "# Create a list of your gene sets\n",
    "gene_sets <- list(\n",
    "  \"SC\" = na.omit(kc.de.sig$gene),\n",
    "  \"Bulk\" = na.omit(bulk.kc.de.sig$gene)\n",
    ")\n",
    "\n",
    "# Plot the Venn diagram with colors and title\n",
    "venn.plot <- venn.diagram(\n",
    "  x = gene_sets,\n",
    "  category.names = c(\"SC\", \"Bulk\"),\n",
    "  filename = NULL,  # Set to NULL to plot in RStudio\n",
    "  output = TRUE,\n",
    "  fill = c(\"red\", \"blue\"), # Add colors\n",
    "  main = \"Common DEGs AR Keratinocytes\", # Add title,\n",
    "  cat.dist = c(0.04, 0.04), # Adjust the distance of the category names from the circles\n",
    "  main.cex = 2, # Increase title size\n",
    "  cat.cex = 1.5, # Increase label size\n",
    "  cat.pos = c(-20, 20), # Position labels more on the top\n",
    "  cex = 1.5 # Increase numbers size\n",
    ")\n",
    "\n",
    "# Display the plot\n",
    "grid.newpage()\n",
    "grid.draw(venn.plot)"
   ]
  },
  {
   "cell_type": "markdown",
   "metadata": {
    "application/vnd.databricks.v1+cell": {
     "cellMetadata": {
      "byteLimit": 2048000,
      "rowLimit": 10000
     },
     "inputWidgets": {},
     "nuid": "380181c8-e5aa-48fd-91af-bfaa9ac6e542",
     "showTitle": false,
     "tableResultSettingsMap": {},
     "title": ""
    }
   },
   "source": [
    "### DC"
   ]
  },
  {
   "cell_type": "code",
   "execution_count": 0,
   "metadata": {
    "application/vnd.databricks.v1+cell": {
     "cellMetadata": {
      "byteLimit": 2048000,
      "rowLimit": 10000
     },
     "inputWidgets": {},
     "nuid": "54d2bd77-f570-4ae9-a917-b96462f98873",
     "showTitle": false,
     "tableResultSettingsMap": {},
     "title": ""
    }
   },
   "outputs": [],
   "source": [
    "#Read each dataset markers saved previously\n",
    "reynolds_LvsHC_dc_markers <- read.xlsx(\"/dbfs/mnt/sandbox/TFM_PAULA/Reynolds/LvsHC/pseudobulk/reynolds_dc_LvsHC_bulk.xlsx\")\n",
    "\n",
    "liu_LvsHC_dc_markers <- read.xlsx(\"/dbfs/mnt/sandbox/TFM_PAULA/Liu/LvsHC/pseudobulk/liu_dc_LvsHC_bulk.xlsx\")"
   ]
  },
  {
   "cell_type": "code",
   "execution_count": 0,
   "metadata": {
    "application/vnd.databricks.v1+cell": {
     "cellMetadata": {
      "byteLimit": 2048000,
      "rowLimit": 10000
     },
     "inputWidgets": {},
     "nuid": "92fa8474-9a96-4762-acd0-efbd1d49c0c0",
     "showTitle": false,
     "tableResultSettingsMap": {},
     "title": ""
    }
   },
   "outputs": [],
   "source": [
    "dc_markers <- merge(reynolds_LvsHC_dc_markers, liu_LvsHC_dc_markers, by = \"gene\", suffixes= c(\".reynolds\", \".liu\"))\n",
    "display(dc_markers %>% arrange(p_val_adj.liu))"
   ]
  },
  {
   "cell_type": "code",
   "execution_count": 0,
   "metadata": {
    "application/vnd.databricks.v1+cell": {
     "cellMetadata": {
      "byteLimit": 2048000,
      "rowLimit": 10000
     },
     "inputWidgets": {},
     "nuid": "fb9425be-b986-48d7-8712-15d4737dc882",
     "showTitle": false,
     "tableResultSettingsMap": {},
     "title": ""
    }
   },
   "outputs": [],
   "source": [
    "# Filter rows where avg_log2FC has the same sign.\n",
    "filtered_dc_markers <- dc_markers %>%\n",
    "  filter(sign(avg_log2FC.reynolds) == sign(avg_log2FC.liu)) %>%\n",
    "  mutate(avg_log2FC = (avg_log2FC.liu + avg_log2FC.reynolds) / 2) %>%\n",
    "  mutate(avg_pvalue = (p_val.liu + p_val.reynolds) / 2) %>%\n",
    "  mutate(avg_pvalue_adj = (p_val_adj.liu + p_val_adj.reynolds) / 2) \n",
    "display(filtered_dc_markers)"
   ]
  },
  {
   "cell_type": "code",
   "execution_count": 0,
   "metadata": {
    "application/vnd.databricks.v1+cell": {
     "cellMetadata": {
      "byteLimit": 2048000,
      "rowLimit": 10000
     },
     "inputWidgets": {},
     "nuid": "78745d4c-a3e3-483f-8136-3bc776442b9f",
     "showTitle": false,
     "tableResultSettingsMap": {},
     "title": ""
    }
   },
   "outputs": [],
   "source": [
    "write.xlsx(filtered_dc_markers, file=\"/dbfs/mnt/sandbox/TFM_PAULA/common_markers/pseudobulk/DC/RL_dc_LvsHC_bulk.xlsx\")"
   ]
  },
  {
   "cell_type": "markdown",
   "metadata": {
    "application/vnd.databricks.v1+cell": {
     "cellMetadata": {
      "byteLimit": 2048000,
      "rowLimit": 10000
     },
     "inputWidgets": {},
     "nuid": "f5e4f1c1-e437-4bf1-90e8-c67f5e65cc92",
     "showTitle": false,
     "tableResultSettingsMap": {},
     "title": ""
    }
   },
   "source": [
    "###ILC"
   ]
  },
  {
   "cell_type": "code",
   "execution_count": 0,
   "metadata": {
    "application/vnd.databricks.v1+cell": {
     "cellMetadata": {
      "byteLimit": 2048000,
      "rowLimit": 10000
     },
     "inputWidgets": {},
     "nuid": "9426f5c4-88e9-4f46-85d5-e6dc7f172872",
     "showTitle": false,
     "tableResultSettingsMap": {},
     "title": ""
    }
   },
   "outputs": [],
   "source": [
    "#Read each dataset markers saved previously\n",
    "reynolds_LvsHC_ILC_markers <- read.xlsx(\"/dbfs/mnt/sandbox/TFM_PAULA/Reynolds/LvsHC/pseudobulk/reynolds_ilc_LvsHC_bulk.xlsx\")\n",
    "liu_ILC_LvsHC_markers <- read.xlsx(\"/dbfs/mnt/sandbox/TFM_PAULA/Liu/LvsHC/pseudobulk/liu_ilc_LvsHC_bulk.xlsx\")"
   ]
  },
  {
   "cell_type": "code",
   "execution_count": 0,
   "metadata": {
    "application/vnd.databricks.v1+cell": {
     "cellMetadata": {
      "byteLimit": 2048000,
      "rowLimit": 10000
     },
     "inputWidgets": {},
     "nuid": "2be6bf07-e2cc-4b4c-90f3-bb92162762ae",
     "showTitle": false,
     "tableResultSettingsMap": {},
     "title": ""
    }
   },
   "outputs": [],
   "source": [
    "ILC_markers <- merge(liu_ILC_LvsHC_markers, reynolds_LvsHC_ILC_markers, by =\"gene\", suffixes= c(\".liu\", \".reynolds\"))\n",
    "display(ILC_markers %>% arrange(p_val_adj.liu))"
   ]
  },
  {
   "cell_type": "code",
   "execution_count": 0,
   "metadata": {
    "application/vnd.databricks.v1+cell": {
     "cellMetadata": {
      "byteLimit": 2048000,
      "rowLimit": 10000
     },
     "inputWidgets": {},
     "nuid": "2d2942f8-a000-4dd9-b001-927e0cb64cc2",
     "showTitle": false,
     "tableResultSettingsMap": {},
     "title": ""
    }
   },
   "outputs": [],
   "source": [
    "# Filter rows where sign in log2FC is the same for both\n",
    "filtered_ILC_markers <- ILC_markers %>%\n",
    "  filter(sign(avg_log2FC.reynolds) == sign(avg_log2FC.liu)) %>%\n",
    "  mutate(avg_log2FC = (avg_log2FC.liu + avg_log2FC.reynolds) / 2) %>%\n",
    "  mutate(avg_pvalue = (p_val.liu + p_val.reynolds) / 2) %>%\n",
    "  mutate(avg_pvalue_adj = (p_val_adj.liu + p_val_adj.reynolds) / 2)\n",
    "display(filtered_ILC_markers)"
   ]
  },
  {
   "cell_type": "code",
   "execution_count": 0,
   "metadata": {
    "application/vnd.databricks.v1+cell": {
     "cellMetadata": {
      "byteLimit": 2048000,
      "rowLimit": 10000
     },
     "inputWidgets": {},
     "nuid": "1aaaf8a7-e7ad-4cd9-b842-7c9134c7cf5a",
     "showTitle": false,
     "tableResultSettingsMap": {},
     "title": ""
    }
   },
   "outputs": [],
   "source": [
    "write.xlsx(filtered_ILC_markers, file=\"/dbfs/mnt/sandbox/TFM_PAULA/common_markers/pseudobulk/ILC/RL_ilc_LvsHC_bulk.xlsx\")"
   ]
  },
  {
   "cell_type": "markdown",
   "metadata": {
    "application/vnd.databricks.v1+cell": {
     "cellMetadata": {
      "byteLimit": 2048000,
      "rowLimit": 10000
     },
     "inputWidgets": {},
     "nuid": "7c11311f-42a7-4662-9a9a-5748e6f8c0e1",
     "showTitle": false,
     "tableResultSettingsMap": {},
     "title": ""
    }
   },
   "source": [
    "###Macrophages"
   ]
  },
  {
   "cell_type": "code",
   "execution_count": 0,
   "metadata": {
    "application/vnd.databricks.v1+cell": {
     "cellMetadata": {
      "byteLimit": 2048000,
      "rowLimit": 10000
     },
     "inputWidgets": {},
     "nuid": "648b2def-ce98-421c-a345-7989ca5256e4",
     "showTitle": false,
     "tableResultSettingsMap": {},
     "title": ""
    }
   },
   "outputs": [],
   "source": [
    "# Read each dataset markers saved previously\n",
    "reynolds_LvsHC_macro_markers <- read.xlsx(\"/dbfs/mnt/sandbox/TFM_PAULA/Reynolds/LvsHC/pseudobulk/reynolds_macro_LvsHC_bulk.xlsx\")\n",
    "\n",
    "alkon_LvsHC_macro_markers <- read.xlsx(\"/dbfs/mnt/sandbox/TFM_PAULA/Alkon/pseudobulk/alkon_macro_LvsHC_bulk.xlsx\")\n",
    "\n",
    "liu_LvsHC_macro_markers <- read.xlsx(\"/dbfs/mnt/sandbox/TFM_PAULA/Liu/LvsHC/pseudobulk/liu_macro_LvsHC_bulk.xlsx\")"
   ]
  },
  {
   "cell_type": "code",
   "execution_count": 0,
   "metadata": {
    "application/vnd.databricks.v1+cell": {
     "cellMetadata": {
      "byteLimit": 2048000,
      "rowLimit": 10000
     },
     "inputWidgets": {},
     "nuid": "c49687d5-54d2-4120-91de-9c171d285638",
     "showTitle": false,
     "tableResultSettingsMap": {},
     "title": ""
    }
   },
   "outputs": [],
   "source": [
    "alkon_LvsHC_macro_markers_suffix <- alkon_LvsHC_macro_markers %>%\n",
    "  rename_with(~ paste0(., \".alkon\"), -gene) #add also alkon name, not possible with suffix because they don't share the same name then\n",
    "  \n",
    "\n",
    "macro_markersRL <- merge(reynolds_LvsHC_macro_markers, liu_LvsHC_macro_markers, by = \"gene\", suffixes=c(\".reynolds\", \".liu\"))\n",
    "macro_markersAR <- merge(reynolds_LvsHC_macro_markers, alkon_LvsHC_macro_markers, by = \"gene\", suffixes=c(\".alkon\", \".reynolds\"))\n",
    "macro_markersAL <- merge(liu_LvsHC_macro_markers, alkon_LvsHC_macro_markers, by = \"gene\", suffixes=c(\".alkon\", \".liu\"))\n",
    "macro_markersARL <- merge(macro_markersRL, alkon_LvsHC_macro_markers_suffix, by = \"gene\") \n",
    "display(macro_markersARL %>% arrange(p_val_adj.alkon))"
   ]
  },
  {
   "cell_type": "code",
   "execution_count": 0,
   "metadata": {
    "application/vnd.databricks.v1+cell": {
     "cellMetadata": {
      "byteLimit": 2048000,
      "rowLimit": 10000
     },
     "inputWidgets": {},
     "nuid": "0113fc6c-4576-4f07-a64a-c5c7bf55472e",
     "showTitle": false,
     "tableResultSettingsMap": {},
     "title": ""
    }
   },
   "outputs": [],
   "source": [
    "# Filter rows where the sign of avglog2FC is the same\n",
    "filtered_macro_markersARL <- macro_markersARL %>%\n",
    "  filter((sign(avg_log2FC.reynolds) == sign(avg_log2FC.liu) & sign(avg_log2FC.liu) == sign(avg_log2FC.alkon)))  %>%\n",
    "  mutate(avg_log2FC = (avg_log2FC.reynolds + avg_log2FC.liu + avg_log2FC.alkon) / 3) %>%\n",
    "  mutate(avg_pvalue = (p_val.reynolds + p_val.liu + p_val.alkon) / 3) %>%\n",
    "  mutate(avg_pvalue_adj = (p_val_adj.reynolds + p_val_adj.liu + p_val_adj.alkon) / 3) \n",
    "filtered_macro_markersARL"
   ]
  },
  {
   "cell_type": "code",
   "execution_count": 0,
   "metadata": {
    "application/vnd.databricks.v1+cell": {
     "cellMetadata": {
      "byteLimit": 2048000,
      "rowLimit": 10000
     },
     "inputWidgets": {},
     "nuid": "c753c7ca-61d7-47f3-9a18-4fdb938b13ef",
     "showTitle": false,
     "tableResultSettingsMap": {},
     "title": ""
    }
   },
   "outputs": [],
   "source": [
    "# Filtering for all pairwise common markers\n",
    "\n",
    "# For alkon-reynolds\n",
    "filtered_macro_markersAR <- macro_markersAR %>%\n",
    "  filter(sign(avg_log2FC.alkon) == sign(avg_log2FC.reynolds)) %>%\n",
    "  mutate(avg_log2FC = (avg_log2FC.alkon + avg_log2FC.reynolds) / 2) %>%\n",
    "  mutate(avg_pvalue = (p_val.alkon + p_val.reynolds) / 2) %>%\n",
    "  mutate(avg_pvalue_adj = (p_val_adj.alkon + p_val_adj.reynolds) / 2)\n",
    "\n",
    "# For alkon-liu\n",
    "filtered_macro_markersAL <- macro_markersAL %>%\n",
    "  filter(sign(avg_log2FC.alkon) == sign(avg_log2FC.liu)) %>%\n",
    "  mutate(avg_log2FC = (avg_log2FC.alkon + avg_log2FC.liu) / 2) %>%\n",
    "  mutate(avg_pvalue = (p_val.alkon + p_val.liu) / 2) %>%\n",
    "  mutate(avg_pvalue_adj = (p_val_adj.alkon + p_val_adj.liu) / 2) \n",
    "# For reynolds-liu\n",
    "filtered_macro_markersRL <- macro_markersRL %>%\n",
    "  filter(sign(avg_log2FC.reynolds) == sign(avg_log2FC.liu)) %>%\n",
    "  mutate(avg_log2FC = (avg_log2FC.reynolds + avg_log2FC.liu) / 2) %>%\n",
    "  mutate(avg_pvalue = (p_val.reynolds + p_val.liu) / 2) %>%\n",
    "  mutate(avg_pvalue_adj = (p_val_adj.reynolds + p_val_adj.liu) / 2)"
   ]
  },
  {
   "cell_type": "code",
   "execution_count": 0,
   "metadata": {
    "application/vnd.databricks.v1+cell": {
     "cellMetadata": {
      "byteLimit": 2048000,
      "rowLimit": 10000
     },
     "inputWidgets": {},
     "nuid": "fc81021c-cb9c-4491-8ae8-58a21811fa7d",
     "showTitle": false,
     "tableResultSettingsMap": {},
     "title": ""
    }
   },
   "outputs": [],
   "source": [
    "display(filtered_macro_markersRL)"
   ]
  },
  {
   "cell_type": "code",
   "execution_count": 0,
   "metadata": {
    "application/vnd.databricks.v1+cell": {
     "cellMetadata": {
      "byteLimit": 2048000,
      "rowLimit": 10000
     },
     "inputWidgets": {},
     "nuid": "3348f29c-83f6-437f-ba09-c9eb034930f0",
     "showTitle": false,
     "tableResultSettingsMap": {},
     "title": ""
    }
   },
   "outputs": [],
   "source": [
    "write.xlsx(filtered_macro_markersARL, file=\"/dbfs/mnt/sandbox/TFM_PAULA/common_markers/pseudobulk/Macrophage/ARL_macro_LvsHC_bulk.xlsx\")\n",
    "write.xlsx(filtered_macro_markersRL, file=\"/dbfs/mnt/sandbox/TFM_PAULA/common_markers/pseudobulk/Macrophage/RL_macro_LvsHC_bulk.xlsx\")\n",
    "write.xlsx(filtered_macro_markersAL, file=\"/dbfs/mnt/sandbox/TFM_PAULA/common_markers/pseudobulk/Macrophage/AL_macro_LvsHC_bulk.xlsx\")\n",
    "write.xlsx(filtered_macro_markersAR, file=\"/dbfs/mnt/sandbox/TFM_PAULA/common_markers/pseudobulk/Macrophage/AR_macro_LvsHC_bulk.xlsx\")"
   ]
  },
  {
   "cell_type": "markdown",
   "metadata": {
    "application/vnd.databricks.v1+cell": {
     "cellMetadata": {
      "byteLimit": 2048000,
      "rowLimit": 10000
     },
     "inputWidgets": {},
     "nuid": "4c3d8c45-92cd-4927-ac34-99acda5f8405",
     "showTitle": false,
     "tableResultSettingsMap": {},
     "title": ""
    }
   },
   "source": [
    "###Monocytes"
   ]
  },
  {
   "cell_type": "code",
   "execution_count": 0,
   "metadata": {
    "application/vnd.databricks.v1+cell": {
     "cellMetadata": {
      "byteLimit": 2048000,
      "rowLimit": 10000
     },
     "inputWidgets": {},
     "nuid": "42ccdb79-dbac-4e3e-8743-dbd14b56f3c5",
     "showTitle": false,
     "tableResultSettingsMap": {},
     "title": ""
    }
   },
   "outputs": [],
   "source": [
    "# Read each dataset markers saved previously\n",
    "reynolds_LvsHC_mono_markers <- read.xlsx(\"/dbfs/mnt/sandbox/TFM_PAULA/Reynolds/LvsHC/pseudobulk/reynolds_mono_LvsHC_bulk.xlsx\")\n",
    "liu_LvsHC_mono_markers <- read.xlsx(\"/dbfs/mnt/sandbox/TFM_PAULA/Liu/LvsHC/pseudobulk/liu_mono_LvsHC_bulk.xlsx\")"
   ]
  },
  {
   "cell_type": "code",
   "execution_count": 0,
   "metadata": {
    "application/vnd.databricks.v1+cell": {
     "cellMetadata": {
      "byteLimit": 2048000,
      "rowLimit": 10000
     },
     "inputWidgets": {},
     "nuid": "00318f31-76c9-4ff9-b48c-9839ba6e5190",
     "showTitle": false,
     "tableResultSettingsMap": {},
     "title": ""
    }
   },
   "outputs": [],
   "source": [
    "mono_markers <- merge(reynolds_LvsHC_mono_markers, liu_LvsHC_mono_markers, by = \"gene\", suffixes= c(\".reynolds\", \".liu\"))\n",
    "display(mono_markers %>% arrange(p_val_adj.liu))"
   ]
  },
  {
   "cell_type": "code",
   "execution_count": 0,
   "metadata": {
    "application/vnd.databricks.v1+cell": {
     "cellMetadata": {
      "byteLimit": 2048000,
      "rowLimit": 10000
     },
     "inputWidgets": {},
     "nuid": "bcde9aba-3513-4750-a36f-28ce8c9e40b1",
     "showTitle": false,
     "tableResultSettingsMap": {},
     "title": ""
    }
   },
   "outputs": [],
   "source": [
    "# Filter rows where sign of avglog2FC is the same\n",
    "filtered_mono_markers <- mono_markers %>%\n",
    "  filter(sign(avg_log2FC.reynolds) == sign(avg_log2FC.liu)) %>%\n",
    "  mutate(avg_log2FC = (avg_log2FC.liu + avg_log2FC.reynolds) / 2) %>%\n",
    "  mutate(avg_pvalue = (p_val.liu + p_val.reynolds) / 2) %>%\n",
    "  mutate(avg_pvalue_adj = (p_val_adj.liu + p_val_adj.reynolds) / 2)\n",
    "display(filtered_mono_markers)"
   ]
  },
  {
   "cell_type": "code",
   "execution_count": 0,
   "metadata": {
    "application/vnd.databricks.v1+cell": {
     "cellMetadata": {
      "byteLimit": 2048000,
      "rowLimit": 10000
     },
     "inputWidgets": {},
     "nuid": "f1bf7d45-1e0e-4fbe-8f80-cda9b8648ad1",
     "showTitle": false,
     "tableResultSettingsMap": {},
     "title": ""
    }
   },
   "outputs": [],
   "source": [
    "write.xlsx(filtered_mono_markers, file=\"/dbfs/mnt/sandbox/TFM_PAULA/common_markers/pseudobulk/Monocyte/RL_mono_LvsHC_bulk.xlsx\")"
   ]
  },
  {
   "cell_type": "markdown",
   "metadata": {
    "application/vnd.databricks.v1+cell": {
     "cellMetadata": {
      "byteLimit": 2048000,
      "rowLimit": 10000
     },
     "inputWidgets": {},
     "nuid": "0c626f60-90bd-4a19-beed-5050d8af4a8b",
     "showTitle": false,
     "tableResultSettingsMap": {},
     "title": ""
    }
   },
   "source": [
    "###Treg"
   ]
  },
  {
   "cell_type": "code",
   "execution_count": 0,
   "metadata": {
    "application/vnd.databricks.v1+cell": {
     "cellMetadata": {
      "byteLimit": 2048000,
      "rowLimit": 10000
     },
     "inputWidgets": {},
     "nuid": "8191b299-dbb7-4e06-8ce9-4e8f5dd7b43e",
     "showTitle": false,
     "tableResultSettingsMap": {},
     "title": ""
    }
   },
   "outputs": [],
   "source": [
    "# Read each dataset markers saved previously\n",
    "reynolds_LvsHC_treg_markers <- read.xlsx(\"/dbfs/mnt/sandbox/TFM_PAULA/Reynolds/LvsHC/pseudobulk/reynolds_treg_LvsHC_bulk.xlsx\")\n",
    "\n",
    "alkon_LvsHC_treg_markers <- read.xlsx(\"/dbfs/mnt/sandbox/TFM_PAULA/Alkon/pseudobulk/alkon_treg_LvsHC_bulk.xlsx\")\n",
    "\n",
    "liu_LvsHC_treg_markers <- read.xlsx(\"/dbfs/mnt/sandbox/TFM_PAULA/Liu/LvsHC/pseudobulk/liu_treg_LvsHC_bulk.xlsx\")"
   ]
  },
  {
   "cell_type": "code",
   "execution_count": 0,
   "metadata": {
    "application/vnd.databricks.v1+cell": {
     "cellMetadata": {
      "byteLimit": 2048000,
      "rowLimit": 10000
     },
     "inputWidgets": {},
     "nuid": "11cb8459-f474-459a-be3e-52339aee146a",
     "showTitle": false,
     "tableResultSettingsMap": {},
     "title": ""
    }
   },
   "outputs": [],
   "source": [
    "alkon_LvsHC_treg_markers_suffix <- alkon_LvsHC_treg_markers %>%\n",
    "  rename_with(~ paste0(., \".alkon\"), -gene) #add also alkon name, not possible with suffix because they don't share the same name then\n",
    "  \n",
    "\n",
    "treg_markersRL <- merge(reynolds_LvsHC_treg_markers, liu_LvsHC_treg_markers, by = \"gene\", suffixes=c(\".reynolds\", \".liu\"))\n",
    "treg_markersAR <- merge(reynolds_LvsHC_treg_markers, alkon_LvsHC_treg_markers, by = \"gene\", suffixes=c(\".alkon\", \".reynolds\"))\n",
    "treg_markersAL <- merge(liu_LvsHC_treg_markers, alkon_LvsHC_treg_markers, by = \"gene\", suffixes=c(\".alkon\", \".liu\"))\n",
    "treg_markersARL <- merge(treg_markersRL, alkon_LvsHC_treg_markers_suffix, by = \"gene\") \n",
    "display(treg_markersARL %>% arrange(p_val_adj.alkon))"
   ]
  },
  {
   "cell_type": "code",
   "execution_count": 0,
   "metadata": {
    "application/vnd.databricks.v1+cell": {
     "cellMetadata": {
      "byteLimit": 2048000,
      "rowLimit": 10000
     },
     "inputWidgets": {},
     "nuid": "97c2256a-2202-4ba7-b476-ef78c9bfac16",
     "showTitle": false,
     "tableResultSettingsMap": {},
     "title": ""
    }
   },
   "outputs": [],
   "source": [
    "# Filter rows where sign of avglog2fc is the same for all of them\n",
    "filtered_treg_markersARL <- treg_markersARL %>%\n",
    "  filter((sign(avg_log2FC.reynolds) == sign(avg_log2FC.liu) & sign(avg_log2FC.liu) == sign(avg_log2FC.alkon)))  %>%\n",
    "  mutate(avg_log2FC = (avg_log2FC.reynolds + avg_log2FC.liu + avg_log2FC.alkon) / 3) %>%\n",
    "  mutate(avg_pvalue = (p_val.reynolds + p_val.liu + p_val.alkon) / 3) %>%\n",
    "  mutate(avg_pvalue_adj = (p_val_adj.reynolds + p_val_adj.liu + p_val_adj.alkon) / 3)\n",
    "display(filtered_treg_markersARL)"
   ]
  },
  {
   "cell_type": "code",
   "execution_count": 0,
   "metadata": {
    "application/vnd.databricks.v1+cell": {
     "cellMetadata": {
      "byteLimit": 2048000,
      "rowLimit": 10000
     },
     "inputWidgets": {},
     "nuid": "2d29064f-2a4f-406b-8768-65d821345925",
     "showTitle": false,
     "tableResultSettingsMap": {},
     "title": ""
    }
   },
   "outputs": [],
   "source": [
    "# Filtering for all pairwise common markers\n",
    "\n",
    "# For alkon-reynolds\n",
    "filtered_treg_markersAR <- treg_markersAR %>%\n",
    "  filter(sign(avg_log2FC.reynolds) == sign(avg_log2FC.alkon)) %>%\n",
    "  mutate(avg_log2FC = (avg_log2FC.alkon + avg_log2FC.reynolds) / 2) %>%\n",
    "  mutate(avg_pvalue = (p_val.alkon + p_val.reynolds) / 2) %>%\n",
    "  mutate(avg_pvalue_adj = (p_val_adj.alkon + p_val_adj.reynolds) / 2)\n",
    "\n",
    "# For alkon-liu\n",
    "filtered_treg_markersAL <- treg_markersAL %>%\n",
    "  filter(sign(avg_log2FC.liu) == sign(avg_log2FC.alkon)) %>%\n",
    "  mutate(avg_log2FC = (avg_log2FC.alkon + avg_log2FC.liu) / 2) %>%\n",
    "  mutate(avg_pvalue = (p_val.alkon + p_val.liu) / 2) %>%\n",
    "  mutate(avg_pvalue_adj = (p_val_adj.alkon + p_val_adj.liu) / 2) \n",
    "\n",
    "# For reynolds-liu\n",
    "filtered_treg_markersRL <- treg_markersRL %>%\n",
    "  filter(sign(avg_log2FC.reynolds) == sign(avg_log2FC.liu)) %>%\n",
    "  mutate(avg_log2FC = (avg_log2FC.reynolds + avg_log2FC.liu) / 2) %>%\n",
    "  mutate(avg_pvalue = (p_val.reynolds + p_val.liu) / 2) %>%\n",
    "  mutate(avg_pvalue_adj = (p_val_adj.reynolds + p_val_adj.liu) / 2) \n",
    "\n",
    "display(filtered_treg_markersRL %>% arrange(avg_pvalue_adj))"
   ]
  },
  {
   "cell_type": "code",
   "execution_count": 0,
   "metadata": {
    "application/vnd.databricks.v1+cell": {
     "cellMetadata": {
      "byteLimit": 2048000,
      "rowLimit": 10000
     },
     "inputWidgets": {},
     "nuid": "28ba2168-ab3f-4125-a286-d18747037958",
     "showTitle": false,
     "tableResultSettingsMap": {},
     "title": ""
    }
   },
   "outputs": [],
   "source": [
    "write.xlsx(filtered_treg_markersARL, file=\"/dbfs/mnt/sandbox/TFM_PAULA/common_markers/pseudobulk/Treg/ARL_treg_LvsHC_bulk.xlsx\")\n",
    "write.xlsx(filtered_treg_markersRL, file=\"/dbfs/mnt/sandbox/TFM_PAULA/common_markers/pseudobulk/Treg/RL_treg_LvsHC_bulk.xlsx\")\n",
    "write.xlsx(filtered_treg_markersAL, file=\"/dbfs/mnt/sandbox/TFM_PAULA/common_markers/pseudobulk/Treg/AL_treg_LvsHC_bulk.xlsx\")\n",
    "write.xlsx(filtered_treg_markersAR, file=\"/dbfs/mnt/sandbox/TFM_PAULA/common_markers/pseudobulk/Treg/AR_treg_LvsHC_bulk.xlsx\")"
   ]
  },
  {
   "cell_type": "markdown",
   "metadata": {
    "application/vnd.databricks.v1+cell": {
     "cellMetadata": {
      "byteLimit": 2048000,
      "rowLimit": 10000
     },
     "inputWidgets": {},
     "nuid": "272a8832-3a22-4c17-a07d-aa8dbc619bb5",
     "showTitle": false,
     "tableResultSettingsMap": {},
     "title": ""
    }
   },
   "source": [
    "###NK"
   ]
  },
  {
   "cell_type": "code",
   "execution_count": 0,
   "metadata": {
    "application/vnd.databricks.v1+cell": {
     "cellMetadata": {
      "byteLimit": 2048000,
      "rowLimit": 10000
     },
     "inputWidgets": {},
     "nuid": "a0a16c70-e6ec-44d6-aaa9-d75a9a978994",
     "showTitle": false,
     "tableResultSettingsMap": {},
     "title": ""
    }
   },
   "outputs": [],
   "source": [
    "# Read each dataset markers saved previously\n",
    "reynolds_LvsHC_nk_markers <- read.xlsx(\"/dbfs/mnt/sandbox/TFM_PAULA/Reynolds/LvsHC/pseudobulk/reynolds_nk_LvsHC_bulk.xlsx\")\n",
    "liu_LvsHC_nk_markers <- read.xlsx(\"/dbfs/mnt/sandbox/TFM_PAULA/Liu/LvsHC/pseudobulk/liu_nk_LvsHC_bulk.xlsx\")"
   ]
  },
  {
   "cell_type": "code",
   "execution_count": 0,
   "metadata": {
    "application/vnd.databricks.v1+cell": {
     "cellMetadata": {
      "byteLimit": 2048000,
      "rowLimit": 10000
     },
     "inputWidgets": {},
     "nuid": "55142fd2-0280-4b42-a320-da3b6d781ae2",
     "showTitle": false,
     "tableResultSettingsMap": {},
     "title": ""
    }
   },
   "outputs": [],
   "source": [
    "nk_markers <- merge(reynolds_LvsHC_nk_markers, liu_LvsHC_nk_markers, by = \"gene\", suffixes= c(\".reynolds\", \".liu\"))\n",
    "display(nk_markers %>% arrange(p_val_adj.liu))"
   ]
  },
  {
   "cell_type": "code",
   "execution_count": 0,
   "metadata": {
    "application/vnd.databricks.v1+cell": {
     "cellMetadata": {
      "byteLimit": 2048000,
      "rowLimit": 10000
     },
     "inputWidgets": {},
     "nuid": "18c6b111-8437-4a80-972d-89958a821ad5",
     "showTitle": false,
     "tableResultSettingsMap": {},
     "title": ""
    }
   },
   "outputs": [],
   "source": [
    "# Filter rows where cluster is \"AD\" or \"lesional\" for all of them or healthy for all\n",
    "filtered_nk_markers <- nk_markers %>%\n",
    "  filter((sign(avg_log2FC.reynolds) == sign(avg_log2FC.liu))) %>%\n",
    "  mutate(avg_log2FC = (avg_log2FC.liu + avg_log2FC.reynolds) / 2) %>%\n",
    "  mutate(avg_pvalue = (p_val.liu + p_val.reynolds) / 2) %>%\n",
    "  mutate(avg_pvalue_adj = (p_val_adj.liu + p_val_adj.reynolds) / 2)\n",
    "display(filtered_nk_markers)"
   ]
  },
  {
   "cell_type": "code",
   "execution_count": 0,
   "metadata": {
    "application/vnd.databricks.v1+cell": {
     "cellMetadata": {
      "byteLimit": 2048000,
      "rowLimit": 10000
     },
     "inputWidgets": {},
     "nuid": "928fb826-8e44-4c67-84a7-a7c4acb317f6",
     "showTitle": false,
     "tableResultSettingsMap": {},
     "title": ""
    }
   },
   "outputs": [],
   "source": [
    "write.xlsx(filtered_nk_markers, file=\"/dbfs/mnt/sandbox/TFM_PAULA/common_markers/pseudobulk/NK/RL_nk_LvsHC_bulk.xlsx\")"
   ]
  },
  {
   "cell_type": "markdown",
   "metadata": {
    "application/vnd.databricks.v1+cell": {
     "cellMetadata": {
      "byteLimit": 2048000,
      "rowLimit": 10000
     },
     "inputWidgets": {},
     "nuid": "88b32dd2-f28d-4c2c-9e53-696076bf1fb5",
     "showTitle": false,
     "tableResultSettingsMap": {},
     "title": ""
    }
   },
   "source": [
    "###MastC"
   ]
  },
  {
   "cell_type": "code",
   "execution_count": 0,
   "metadata": {
    "application/vnd.databricks.v1+cell": {
     "cellMetadata": {
      "byteLimit": 2048000,
      "rowLimit": 10000
     },
     "inputWidgets": {},
     "nuid": "fac800ab-8f29-4b57-a1bd-76750de50825",
     "showTitle": false,
     "tableResultSettingsMap": {},
     "title": ""
    }
   },
   "outputs": [],
   "source": [
    "# Read each dataset markers saved previously\n",
    "reynolds_LvsHC_mast_markers <- read.xlsx(\"/dbfs/mnt/sandbox/TFM_PAULA/Reynolds/LvsHC/pseudobulk/reynolds_mast_LvsHC_bulk.xlsx\")\n",
    "liu_LvsHC_mast_markers <- read.xlsx(\"/dbfs/mnt/sandbox/TFM_PAULA/Liu/LvsHC/pseudobulk/liu_mast_LvsHC_bulk.xlsx\")"
   ]
  },
  {
   "cell_type": "code",
   "execution_count": 0,
   "metadata": {
    "application/vnd.databricks.v1+cell": {
     "cellMetadata": {
      "byteLimit": 2048000,
      "rowLimit": 10000
     },
     "inputWidgets": {},
     "nuid": "e1cab7d0-81e9-4c7c-afb0-c82b45a61907",
     "showTitle": false,
     "tableResultSettingsMap": {},
     "title": ""
    }
   },
   "outputs": [],
   "source": [
    "mast_markers <- merge(reynolds_LvsHC_mast_markers, liu_LvsHC_mast_markers, by = \"gene\", suffixes= c(\".reynolds\", \".liu\"))\n",
    "display(mast_markers %>% arrange(p_val_adj.liu))"
   ]
  },
  {
   "cell_type": "code",
   "execution_count": 0,
   "metadata": {
    "application/vnd.databricks.v1+cell": {
     "cellMetadata": {
      "byteLimit": 2048000,
      "rowLimit": 10000
     },
     "inputWidgets": {},
     "nuid": "f1a96b1c-7d0b-4c10-953f-d04b6e2a3fc9",
     "showTitle": false,
     "tableResultSettingsMap": {},
     "title": ""
    }
   },
   "outputs": [],
   "source": [
    "# Filter rows where cluster is \"AD\" or \"lesional\" for all of them or healthy for all\n",
    "filtered_mast_markers <- mast_markers %>%\n",
    "  filter((sign(avg_log2FC.reynolds) == sign(avg_log2FC.liu))) %>%\n",
    "  mutate(avg_log2FC = (avg_log2FC.liu + avg_log2FC.reynolds) / 2) %>%\n",
    "  mutate(avg_pvalue = (p_val.liu + p_val.reynolds) / 2) %>%\n",
    "  mutate(avg_pvalue_adj = (p_val_adj.liu + p_val_adj.reynolds) / 2) \n",
    "display(filtered_mast_markers)"
   ]
  },
  {
   "cell_type": "code",
   "execution_count": 0,
   "metadata": {
    "application/vnd.databricks.v1+cell": {
     "cellMetadata": {
      "byteLimit": 2048000,
      "rowLimit": 10000
     },
     "inputWidgets": {},
     "nuid": "bc1f8565-8a0b-4e7e-a87c-a37e0bf40d03",
     "showTitle": false,
     "tableResultSettingsMap": {},
     "title": ""
    }
   },
   "outputs": [],
   "source": [
    "write.xlsx(filtered_mast_markers, file=\"/dbfs/mnt/sandbox/TFM_PAULA/common_markers/pseudobulk/MastC/RL_mast_LvsHC_allmarkers.xlsx\")"
   ]
  }
 ],
 "metadata": {
  "application/vnd.databricks.v1+notebook": {
   "computePreferences": null,
   "dashboards": [],
   "environmentMetadata": null,
   "inputWidgetPreferences": null,
   "language": "r",
   "notebookMetadata": {
    "pythonIndentUnit": 4
   },
   "notebookName": "2.common_DEGs_LvsHC",
   "widgets": {}
  },
  "language_info": {
   "name": "r"
  }
 },
 "nbformat": 4,
 "nbformat_minor": 0
}
