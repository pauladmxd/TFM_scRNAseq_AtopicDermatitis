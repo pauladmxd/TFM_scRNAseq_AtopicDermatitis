{
 "cells": [
  {
   "cell_type": "markdown",
   "metadata": {
    "application/vnd.databricks.v1+cell": {
     "cellMetadata": {
      "byteLimit": 2048000,
      "rowLimit": 10000
     },
     "inputWidgets": {},
     "nuid": "90ea1207-afa1-4b3b-a96a-983ff172128b",
     "showTitle": false,
     "tableResultSettingsMap": {},
     "title": ""
    }
   },
   "source": [
    "#Alternative method for functional enrichment using GSVA and limma\n",
    "\n",
    "In the new annotation"
   ]
  },
  {
   "cell_type": "code",
   "execution_count": 0,
   "metadata": {
    "application/vnd.databricks.v1+cell": {
     "cellMetadata": {
      "byteLimit": 2048000,
      "rowLimit": 10000
     },
     "inputWidgets": {},
     "nuid": "cbd1bf1d-4f88-49c7-b3d0-8b54faf9cadd",
     "showTitle": false,
     "tableResultSettingsMap": {},
     "title": ""
    }
   },
   "outputs": [],
   "source": [
    "#Load required libraries\n",
    ".libPaths(c(\"/dbfs/home/jtrincado@almirall.com/my_r_packages/Seurat\", .libPaths()))\n",
    "library(openxlsx)\n",
    "\n",
    ".libPaths(c(\"/dbfs/home/boriol@almirall.com/my_r_packages/bulkRNASeq_PBMCs_R4.3\", .libPaths()))\n",
    "library(msigdbr)\n",
    "library(DESeq2)\n",
    "\n",
    "\n",
    ".libPaths(c(\"/dbfs/home/jtrincado@almirall.com/my_r_packages/Seurat_v2\", .libPaths()))\n",
    "library(Seurat)"
   ]
  },
  {
   "cell_type": "code",
   "execution_count": 0,
   "metadata": {
    "application/vnd.databricks.v1+cell": {
     "cellMetadata": {
      "byteLimit": 2048000,
      "rowLimit": 10000
     },
     "inputWidgets": {},
     "nuid": "c6b0d9c3-3195-469c-ad20-2dca5b23e43b",
     "showTitle": false,
     "tableResultSettingsMap": {},
     "title": ""
    }
   },
   "outputs": [],
   "source": [
    "my_library <- \"/dbfs/home/pdelgadom@almirall.com/my_r_packages/tfm_paula_4\"\n",
    "dir.create(my_library, recursive=TRUE, showWarnings=FALSE)\n",
    ".libPaths(c(my_library, .libPaths()))\n",
    "if (!requireNamespace(\"remotes\")) install.packages(\"remotes\")\n",
    " \n",
    "install_from_github <- function(pkg_name, my_library=NULL) {\n",
    "  if (is.null(my_library)) {\n",
    "    my_library <- .libPaths()[1]\n",
    "    message(\"Installing \", pkg_name, \" to \", my_library)\n",
    "  }\n",
    " \n",
    "  temp_library <- tempfile()\n",
    "  dir.create(temp_library)\n",
    "  #remotes::install_cran(pkg_name, lib = temp_library, upgrade=FALSE)\n",
    "  remotes::install_bioc(pkg_name, lib=temp_library, upgrade=FALSE)\n",
    "  #remotes::install_github(pkg_name, lib = temp_library, upgrade=FALSE)\n",
    "  for (x in list.files(temp_library)) {\n",
    "    file.copy(\n",
    "      file.path(temp_library, x),\n",
    "      my_library,\n",
    "      recursive=TRUE\n",
    "    )\n",
    "  }\n",
    "}"
   ]
  },
  {
   "cell_type": "code",
   "execution_count": 0,
   "metadata": {
    "application/vnd.databricks.v1+cell": {
     "cellMetadata": {
      "byteLimit": 2048000,
      "rowLimit": 10000
     },
     "inputWidgets": {},
     "nuid": "35bb435f-5134-4bbd-8c8e-b1210c3f73d1",
     "showTitle": false,
     "tableResultSettingsMap": {},
     "title": ""
    }
   },
   "outputs": [],
   "source": [
    "if (!requireNamespace(\"GSVA\"))install_from_github(\"GSVA\")"
   ]
  },
  {
   "cell_type": "code",
   "execution_count": 0,
   "metadata": {
    "application/vnd.databricks.v1+cell": {
     "cellMetadata": {
      "byteLimit": 2048000,
      "rowLimit": 10000
     },
     "inputWidgets": {},
     "nuid": "c402f0ec-cd33-46aa-87e0-63ce22f06552",
     "showTitle": false,
     "tableResultSettingsMap": {},
     "title": ""
    }
   },
   "outputs": [],
   "source": [
    "library(GSVA)"
   ]
  },
  {
   "cell_type": "markdown",
   "metadata": {
    "application/vnd.databricks.v1+cell": {
     "cellMetadata": {
      "byteLimit": 2048000,
      "rowLimit": 10000
     },
     "inputWidgets": {},
     "nuid": "3aba3495-0324-4a2b-aab0-8a26110fa10c",
     "showTitle": false,
     "tableResultSettingsMap": {},
     "title": ""
    }
   },
   "source": [
    "##Prepare expression matrix"
   ]
  },
  {
   "cell_type": "code",
   "execution_count": 0,
   "metadata": {
    "application/vnd.databricks.v1+cell": {
     "cellMetadata": {
      "byteLimit": 2048000,
      "rowLimit": 10000
     },
     "inputWidgets": {},
     "nuid": "9f0fe3e8-4c37-457e-aa22-ae4207652be8",
     "showTitle": false,
     "tableResultSettingsMap": {},
     "title": ""
    }
   },
   "outputs": [],
   "source": [
    "pseudo_AR <- readRDS(file=\"/dbfs/mnt/sandbox/TFM_PAULA/AR_MERGED_celltypist_aggregated_expression_TFM.rds\")"
   ]
  },
  {
   "cell_type": "code",
   "execution_count": 0,
   "metadata": {
    "application/vnd.databricks.v1+cell": {
     "cellMetadata": {
      "byteLimit": 2048000,
      "rowLimit": 10000
     },
     "inputWidgets": {},
     "nuid": "2948ba3d-78d0-48d9-a63b-0eb93cf020e1",
     "showTitle": false,
     "tableResultSettingsMap": {},
     "title": ""
    }
   },
   "outputs": [],
   "source": [
    "# Extract count data\n",
    "counts_AR <- GetAssayData(pseudo_AR, layer = \"counts\")\n",
    "\n",
    "# Extract metadata\n",
    "metadata_AR <- pseudo_AR@meta.data"
   ]
  },
  {
   "cell_type": "code",
   "execution_count": 0,
   "metadata": {
    "application/vnd.databricks.v1+cell": {
     "cellMetadata": {
      "byteLimit": 2048000,
      "rowLimit": 10000
     },
     "inputWidgets": {},
     "nuid": "7fcadc45-3cbf-4df5-91d6-1bc65c4951a0",
     "showTitle": false,
     "tableResultSettingsMap": {},
     "title": ""
    }
   },
   "outputs": [],
   "source": [
    "# Filter to remove non lesional samples "
   ]
  },
  {
   "cell_type": "code",
   "execution_count": 0,
   "metadata": {
    "application/vnd.databricks.v1+cell": {
     "cellMetadata": {
      "byteLimit": 2048000,
      "rowLimit": 10000
     },
     "inputWidgets": {},
     "nuid": "1c288adc-fe1f-406f-a24d-13478b908779",
     "showTitle": false,
     "tableResultSettingsMap": {},
     "title": ""
    }
   },
   "outputs": [],
   "source": [
    "metadata_AR_reynolds <- metadata_AR[metadata_AR$Condition_AR %in% c(\"HC\", \"Lesional\") & metadata_AR$dataset == \"reynolds\", ]\n",
    "metadata_AR <- rbind(metadata_AR[metadata_AR$dataset != \"reynolds\", ], metadata_AR_reynolds)\n",
    "\n",
    "# Filter counts too\n",
    "counts_AR <- counts_AR[, colnames(counts_AR) %in% rownames(metadata_AR)]"
   ]
  },
  {
   "cell_type": "code",
   "execution_count": 0,
   "metadata": {
    "application/vnd.databricks.v1+cell": {
     "cellMetadata": {
      "byteLimit": 2048000,
      "rowLimit": 10000
     },
     "inputWidgets": {},
     "nuid": "616c4289-b380-4020-be6d-7fe709685271",
     "showTitle": false,
     "tableResultSettingsMap": {},
     "title": ""
    }
   },
   "outputs": [],
   "source": [
    "metadata_AR$celltype.cond <- as.factor(metadata_AR$celltype.cond)\n",
    "metadata_AR$dataset <- as.factor(metadata_AR$dataset)"
   ]
  },
  {
   "cell_type": "code",
   "execution_count": 0,
   "metadata": {
    "application/vnd.databricks.v1+cell": {
     "cellMetadata": {
      "byteLimit": 2048000,
      "rowLimit": 10000
     },
     "inputWidgets": {},
     "nuid": "573729f6-6f80-4fb5-aaf5-44f53d3c3d19",
     "showTitle": false,
     "tableResultSettingsMap": {},
     "title": ""
    }
   },
   "outputs": [],
   "source": [
    "table(metadata_AR$Condition_AR, metadata_AR$dataset)"
   ]
  },
  {
   "cell_type": "code",
   "execution_count": 0,
   "metadata": {
    "application/vnd.databricks.v1+cell": {
     "cellMetadata": {
      "byteLimit": 2048000,
      "rowLimit": 10000
     },
     "inputWidgets": {},
     "nuid": "5fb7668d-89c9-4446-b179-65320453845f",
     "showTitle": false,
     "tableResultSettingsMap": {},
     "title": ""
    }
   },
   "outputs": [],
   "source": [
    "# Ensure the same order for rows in metadata_AR and columns in counts_AR\n",
    "metadata_AR <- metadata_AR[order(rownames(metadata_AR)), ]\n",
    "counts_AR <- counts_AR[, order(colnames(counts_AR))]\n",
    "\n",
    "# Reorder counts_AR columns to match the order of metadata_AR rows\n",
    "counts_AR <- counts_AR[, rownames(metadata_AR)]"
   ]
  },
  {
   "cell_type": "code",
   "execution_count": 0,
   "metadata": {
    "application/vnd.databricks.v1+cell": {
     "cellMetadata": {
      "byteLimit": 2048000,
      "rowLimit": 10000
     },
     "inputWidgets": {},
     "nuid": "f461b955-9d7b-4b71-8044-9675143003e6",
     "showTitle": false,
     "tableResultSettingsMap": {},
     "title": ""
    }
   },
   "outputs": [],
   "source": [
    "unique(metadata_AR$Condition_AR)"
   ]
  },
  {
   "cell_type": "code",
   "execution_count": 0,
   "metadata": {
    "application/vnd.databricks.v1+cell": {
     "cellMetadata": {
      "byteLimit": 2048000,
      "rowLimit": 10000
     },
     "inputWidgets": {},
     "nuid": "6c33bdb1-ccd6-4bc1-a51d-582ae6c59ccb",
     "showTitle": false,
     "tableResultSettingsMap": {},
     "title": ""
    }
   },
   "outputs": [],
   "source": [
    "metadata_AR$samples <- paste(metadata_AR$Condition_AR, metadata_AR$Sample_id, metadata_AR$celltype_AR, sep = \"_\")"
   ]
  },
  {
   "cell_type": "code",
   "execution_count": 0,
   "metadata": {
    "application/vnd.databricks.v1+cell": {
     "cellMetadata": {
      "byteLimit": 2048000,
      "rowLimit": 10000
     },
     "inputWidgets": {},
     "nuid": "d18b7360-4440-4160-9183-f6791194e265",
     "showTitle": false,
     "tableResultSettingsMap": {},
     "title": ""
    }
   },
   "outputs": [],
   "source": [
    "counts_AR"
   ]
  },
  {
   "cell_type": "code",
   "execution_count": 0,
   "metadata": {
    "application/vnd.databricks.v1+cell": {
     "cellMetadata": {
      "byteLimit": 2048000,
      "rowLimit": 10000
     },
     "inputWidgets": {},
     "nuid": "8262d197-c6ac-4b8b-b775-322537b28c31",
     "showTitle": false,
     "tableResultSettingsMap": {},
     "title": ""
    }
   },
   "outputs": [],
   "source": [
    "dds <- DESeqDataSetFromMatrix(countData = counts_AR, colData = metadata_AR, design = ~ 1)\n",
    "dds <- estimateSizeFactors(dds)\n",
    "vsd <- vst(dds, blind = TRUE)\n",
    "expr_matrix <- assay(vsd)"
   ]
  },
  {
   "cell_type": "markdown",
   "metadata": {
    "application/vnd.databricks.v1+cell": {
     "cellMetadata": {
      "byteLimit": 2048000,
      "rowLimit": 10000
     },
     "inputWidgets": {},
     "nuid": "7748252d-59ad-4256-a4ad-1d00260981ff",
     "showTitle": false,
     "tableResultSettingsMap": {},
     "title": ""
    }
   },
   "source": [
    "##GSVA"
   ]
  },
  {
   "cell_type": "code",
   "execution_count": 0,
   "metadata": {
    "application/vnd.databricks.v1+cell": {
     "cellMetadata": {
      "byteLimit": 2048000,
      "rowLimit": 10000
     },
     "inputWidgets": {},
     "nuid": "63aef6ec-f016-4767-9e4f-c4cf7d600a29",
     "showTitle": false,
     "tableResultSettingsMap": {},
     "title": ""
    }
   },
   "outputs": [],
   "source": [
    "gene_sets <- msigdbr(species= \"Homo sapiens\", category=\"C2\", subcategory=\"CP:REACTOME\") %>% split (x=.$gene_symbol, f= .$gs_name)"
   ]
  },
  {
   "cell_type": "code",
   "execution_count": 0,
   "metadata": {
    "application/vnd.databricks.v1+cell": {
     "cellMetadata": {
      "byteLimit": 2048000,
      "rowLimit": 10000
     },
     "inputWidgets": {},
     "nuid": "d27951e0-5612-440f-babd-b212608619a5",
     "showTitle": false,
     "tableResultSettingsMap": {},
     "title": ""
    }
   },
   "outputs": [],
   "source": [
    "# #Filter very large/ very small gene sets\n",
    " gene_sets <- gene_sets[sapply(gene_sets, length) >= 10 & sapply(gene_sets, length) <= 500]"
   ]
  },
  {
   "cell_type": "code",
   "execution_count": 0,
   "metadata": {
    "application/vnd.databricks.v1+cell": {
     "cellMetadata": {
      "byteLimit": 2048000,
      "rowLimit": 10000
     },
     "inputWidgets": {},
     "nuid": "9958d711-2d8c-4e34-9f9d-c075435ca927",
     "showTitle": false,
     "tableResultSettingsMap": {},
     "title": ""
    }
   },
   "outputs": [],
   "source": [
    "?gsva"
   ]
  },
  {
   "cell_type": "code",
   "execution_count": 0,
   "metadata": {
    "application/vnd.databricks.v1+cell": {
     "cellMetadata": {
      "byteLimit": 2048000,
      "rowLimit": 10000
     },
     "inputWidgets": {},
     "nuid": "2410e4fd-afdb-466f-84de-b40eb8a0e585",
     "showTitle": false,
     "tableResultSettingsMap": {},
     "title": ""
    }
   },
   "outputs": [],
   "source": [
    "gsva_scores <- gsva(as.matrix(expr_matrix), gene_sets, method = \"gsva\")\n"
   ]
  },
  {
   "cell_type": "code",
   "execution_count": 0,
   "metadata": {
    "application/vnd.databricks.v1+cell": {
     "cellMetadata": {
      "byteLimit": 2048000,
      "rowLimit": 10000
     },
     "inputWidgets": {},
     "nuid": "9bc3ccff-82f6-4628-9656-d28bf66cb65d",
     "showTitle": false,
     "tableResultSettingsMap": {},
     "title": ""
    }
   },
   "outputs": [],
   "source": [
    "# sample_names <- colnames(counts_AR)\n",
    "# sample_metadata <- data.frame(\n",
    "#   sample = sample_names,\n",
    "#   condition = sapply(strsplit(sample_names, \"_\"), `[`, 1),\n",
    "#   patient = sapply(strsplit(sample_names, \"_\"), `[`, 2),\n",
    "#   cell_type = sapply(strsplit(sample_names, \"_\"), `[`, 3)\n",
    "# )"
   ]
  },
  {
   "cell_type": "code",
   "execution_count": 0,
   "metadata": {
    "application/vnd.databricks.v1+cell": {
     "cellMetadata": {
      "byteLimit": 2048000,
      "rowLimit": 10000
     },
     "inputWidgets": {},
     "nuid": "3f440743-9eb7-4bb7-8386-8949938f37f7",
     "showTitle": false,
     "tableResultSettingsMap": {},
     "title": ""
    }
   },
   "outputs": [],
   "source": [
    "library(limma)\n",
    "library(dplyr)\n",
    " \n",
    "# Your GSVA matrix: rows = pathways, columns = samples\n",
    "# Your metadata_AR should already contain: samples, celltype, condition, dataset\n",
    "\n",
    "wanted_celltypes <- c(\"Tc\", \"Th\", \"Undifferentiated_KC\", \"Differentiated_KC\")\n",
    " \n",
    "# Sanity check\n",
    "colnames(gsva_scores) <- gsub(\"-\", \"_\", colnames(gsva_scores))\n",
    "metadata_AR$samples <- gsub(\"-\", \"_\", metadata_AR$samples)\n",
    "stopifnot(all(colnames(gsva_scores) %in% metadata_AR$samples))\n",
    " \n",
    "# Reorder metadata to match GSVA matrix columns\n",
    "metadata_AR <- metadata_AR[match(colnames(gsva_scores), metadata_AR$samples), ]\n",
    " \n",
    "# Subset GSVA matrix to relevant samples\n",
    "expr_ct <- gsva_scores[, metadata_AR$samples, drop = FALSE]\n",
    "expr_ct <- as.matrix(expr_ct)\n",
    "mode(expr_ct) <- \"numeric\"\n",
    " \n",
    "# Design matrix (e.g., for batch + celltype.cond)\n",
    "# Make sure 'celltype.cond' is a column in metadata_AR like \"TC_HC\", \"TC_Lesional\"\n",
    "design_ct <- model.matrix(~ 0 + dataset + celltype.cond, data = metadata_AR)\n",
    " \n",
    "# Fit linear model\n",
    "fit_ct <- lmFit(expr_ct, design_ct)\n",
    "fit_ct <- eBayes(fit_ct)"
   ]
  },
  {
   "cell_type": "code",
   "execution_count": 0,
   "metadata": {
    "application/vnd.databricks.v1+cell": {
     "cellMetadata": {
      "byteLimit": 2048000,
      "rowLimit": 10000
     },
     "inputWidgets": {},
     "nuid": "0d227fe1-f22c-4d70-8f39-aa2c183b657b",
     "showTitle": false,
     "tableResultSettingsMap": {},
     "title": ""
    }
   },
   "outputs": [],
   "source": [
    "\n",
    "# Loop through wanted cell types and compare Lesional vs HC\n",
    "results_list <- list()\n",
    " \n",
    "for (ct in wanted_celltypes) {\n",
    "  group_HC <- paste0(\"celltype.cond\", ct, \"_HC\")\n",
    "  group_LES <- paste0(\"celltype.cond\", ct, \"_Lesional\")\n",
    " \n",
    "  if (!(group_HC %in% colnames(design_ct)) || !(group_LES %in% colnames(design_ct))) {\n",
    "    cat(\"Skipping\", ct, \"- missing group\\n\")\n",
    "    next\n",
    "  }\n",
    " \n",
    "  # Build contrast\n",
    "  contrast_vec <- rep(0, ncol(design_ct))\n",
    "  names(contrast_vec) <- colnames(design_ct)\n",
    "  contrast_vec[group_LES] <- 1\n",
    "  contrast_vec[group_HC] <- -1\n",
    " \n",
    "  # Apply contrast\n",
    "  fit2 <- contrasts.fit(fit_ct, contrast_vec)\n",
    "  fit2 <- eBayes(fit2)\n",
    " \n",
    "  # Extract results\n",
    "  res <- topTable(fit2, coef = 1, number = Inf)\n",
    "  res$celltype <- ct\n",
    "  results_list[[ct]] <- res\n",
    "  cat(\"Finished:\", ct, \"\\n\")\n",
    "}\n",
    " \n",
    "# Combine results\n",
    "all_pathway_results <- bind_rows(results_list)\n",
    "head(all_pathway_results)"
   ]
  },
  {
   "cell_type": "code",
   "execution_count": 0,
   "metadata": {
    "application/vnd.databricks.v1+cell": {
     "cellMetadata": {
      "byteLimit": 2048000,
      "rowLimit": 10000
     },
     "inputWidgets": {},
     "nuid": "a5e6b6dd-ffdb-43e0-81a4-da5c49af64c3",
     "showTitle": false,
     "tableResultSettingsMap": {},
     "title": ""
    }
   },
   "outputs": [],
   "source": [
    "TC_GSVA_res <- all_pathway_results %>% filter(celltype == \"Tc\")\n",
    "TC_GSVA_res$pathway_name <- rownames(TC_GSVA_res)\n",
    "TC_GSVA_res.sig <- all_pathway_results %>% filter(celltype == \"Tc\" & abs(logFC)>0.2 & adj.P.Val < 0.05)\n",
    "TC_GSVA_res.sig$pathway_name <- rownames(TC_GSVA_res.sig)\n",
    "display(TC_GSVA_res.sig)"
   ]
  },
  {
   "cell_type": "code",
   "execution_count": 0,
   "metadata": {
    "application/vnd.databricks.v1+cell": {
     "cellMetadata": {
      "byteLimit": 2048000,
      "rowLimit": 10000
     },
     "inputWidgets": {},
     "nuid": "f93b4747-32ea-4dd7-8c6c-2ff97ba41121",
     "showTitle": false,
     "tableResultSettingsMap": {},
     "title": ""
    }
   },
   "outputs": [],
   "source": [
    "display(TC_GSVA_res)"
   ]
  },
  {
   "cell_type": "code",
   "execution_count": 0,
   "metadata": {
    "application/vnd.databricks.v1+cell": {
     "cellMetadata": {
      "byteLimit": 2048000,
      "rowLimit": 10000
     },
     "inputWidgets": {},
     "nuid": "6d92df29-46e4-4440-aa06-28f876b00ad2",
     "showTitle": false,
     "tableResultSettingsMap": {},
     "title": ""
    }
   },
   "outputs": [],
   "source": [
    "Th_GSVA_res <- all_pathway_results %>% filter(celltype == \"Th\")\n",
    "Th_GSVA_res.sig <- all_pathway_results %>% filter(celltype == \"Th\" & adj.P.Val < 0.05)\n",
    "Th_GSVA_res.sig$pathway_name <- rownames(Th_GSVA_res.sig)\n",
    "display(Th_GSVA_res.sig)"
   ]
  },
  {
   "cell_type": "code",
   "execution_count": 0,
   "metadata": {
    "application/vnd.databricks.v1+cell": {
     "cellMetadata": {
      "byteLimit": 2048000,
      "rowLimit": 10000
     },
     "inputWidgets": {},
     "nuid": "7a6eb49d-3247-4874-b751-3e1cb0b93a6d",
     "showTitle": false,
     "tableResultSettingsMap": {},
     "title": ""
    }
   },
   "outputs": [],
   "source": [
    "Differentiated_KC_GSVA_res <- all_pathway_results %>% filter(celltype == \"Differentiated_KC\")\n",
    "Differentiated_KC_GSVA_res$pathway_name <- rownames(Differentiated_KC_GSVA_res)\n",
    "Differentiated_KC_GSVA_res.sig <- all_pathway_results %>% filter(celltype == \"Differentiated_KC\" & adj.P.Val < 0.05)\n",
    "Differentiated_KC_GSVA_res.sig$pathway_name <- rownames(Differentiated_KC_GSVA_res.sig)\n",
    "display(Differentiated_KC_GSVA_res.sig)"
   ]
  },
  {
   "cell_type": "code",
   "execution_count": 0,
   "metadata": {
    "application/vnd.databricks.v1+cell": {
     "cellMetadata": {
      "byteLimit": 2048000,
      "rowLimit": 10000
     },
     "inputWidgets": {},
     "nuid": "75fc024c-ebd0-4e61-be84-2137ffab6216",
     "showTitle": false,
     "tableResultSettingsMap": {
      "0": {
       "dataGridStateBlob": null,
       "filterBlob": "{\"version\":1,\"filterGroups\":[],\"syncTimestamp\":1751555831879}",
       "queryPlanFiltersBlob": "[]",
       "tableResultIndex": 0
      }
     },
     "title": ""
    }
   },
   "outputs": [],
   "source": [
    "display(Differentiated_KC_GSVA_res)"
   ]
  },
  {
   "cell_type": "code",
   "execution_count": 0,
   "metadata": {
    "application/vnd.databricks.v1+cell": {
     "cellMetadata": {
      "byteLimit": 2048000,
      "rowLimit": 10000
     },
     "inputWidgets": {},
     "nuid": "3fbc5323-54b2-45d6-87a3-02f5ce1fbb05",
     "showTitle": false,
     "tableResultSettingsMap": {},
     "title": ""
    }
   },
   "outputs": [],
   "source": [
    "Undifferentiated_KC_GSVA_res <- all_pathway_results %>% filter(celltype == \"Undifferentiated_KC\")\n",
    "Undifferentiated_KC_GSVA_res$pathway_name <- rownames(Undifferentiated_KC_GSVA_res)\n",
    "Undifferentiated_KC_GSVA_res.sig <- all_pathway_results %>% filter(celltype == \"Undifferentiated_KC\" & adj.P.Val < 0.05)\n",
    "Undifferentiated_KC_GSVA_res.sig$pathway_name <- rownames(Undifferentiated_KC_GSVA_res.sig)\n",
    "display(Undifferentiated_KC_GSVA_res.sig)"
   ]
  },
  {
   "cell_type": "code",
   "execution_count": 0,
   "metadata": {
    "application/vnd.databricks.v1+cell": {
     "cellMetadata": {
      "byteLimit": 2048000,
      "rowLimit": 10000
     },
     "inputWidgets": {},
     "nuid": "7893a764-5d09-4b86-a7cd-8d484a6d8d1a",
     "showTitle": false,
     "tableResultSettingsMap": {
      "0": {
       "dataGridStateBlob": null,
       "filterBlob": "{\"version\":1,\"filterGroups\":[{\"enabled\":true,\"filterGroupId\":\"fg_a730edf0\",\"op\":\"OR\",\"filters\":[{\"filterId\":\"f_6565dba1\",\"enabled\":true,\"columnId\":\"adj_P_Val\",\"dataType\":\"float\",\"filterType\":\"lt\",\"filterValue\":\"0.05\",\"filterConfig\":{}}],\"local\":false,\"updatedAt\":1750605591746},{\"enabled\":true,\"filterGroupId\":\"fg_cfe81cda\",\"op\":\"OR\",\"filters\":[{\"filterId\":\"f_84bb7f43\",\"enabled\":true,\"columnId\":\"logFC\",\"dataType\":\"float\",\"filterType\":\"oneof\",\"filterConfig\":{}}],\"local\":false,\"updatedAt\":1750605594378}],\"syncTimestamp\":1750605594406}",
       "queryPlanFiltersBlob": "[{\"kind\":\"call\",\"function\":\"and\",\"args\":[{\"kind\":\"call\",\"function\":\"or\",\"args\":[{\"kind\":\"call\",\"function\":\"lt\",\"args\":[{\"kind\":\"identifier\",\"identifier\":\"adj_P_Val\"},{\"kind\":\"literal\",\"value\":\"0.05\",\"type\":\"float\"}]}]}]}]",
       "tableResultIndex": 0
      }
     },
     "title": ""
    }
   },
   "outputs": [],
   "source": [
    "display(Undifferentiated_KC_GSVA_res)"
   ]
  },
  {
   "cell_type": "markdown",
   "metadata": {
    "application/vnd.databricks.v1+cell": {
     "cellMetadata": {
      "byteLimit": 2048000,
      "rowLimit": 10000
     },
     "inputWidgets": {},
     "nuid": "8f9fd847-5a65-443f-916c-650c56f3d1f2",
     "showTitle": false,
     "tableResultSettingsMap": {},
     "title": ""
    }
   },
   "source": [
    "##Save"
   ]
  },
  {
   "cell_type": "code",
   "execution_count": 0,
   "metadata": {
    "application/vnd.databricks.v1+cell": {
     "cellMetadata": {
      "byteLimit": 2048000,
      "rowLimit": 10000
     },
     "inputWidgets": {},
     "nuid": "4307521e-f837-4066-9568-30d9581c4069",
     "showTitle": false,
     "tableResultSettingsMap": {},
     "title": ""
    }
   },
   "outputs": [],
   "source": [
    "%sh\n",
    "mkdir /dbfs/mnt/sandbox/TFM_PAULA/merged_AR_celltypist_results/GSVA"
   ]
  },
  {
   "cell_type": "code",
   "execution_count": 0,
   "metadata": {
    "application/vnd.databricks.v1+cell": {
     "cellMetadata": {
      "byteLimit": 2048000,
      "rowLimit": 10000
     },
     "inputWidgets": {},
     "nuid": "d734f99f-57e2-4bbb-a598-159246c88a92",
     "showTitle": false,
     "tableResultSettingsMap": {},
     "title": ""
    }
   },
   "outputs": [],
   "source": [
    "if (file.exists(\"/dbfs/mnt/sandbox/TFM_PAULA/merged_AR_celltypist_results/GSVA/Differentiated_KC_GSVA_res.sig.xlsx\")) {\n",
    "  file.remove(\"/dbfs/mnt/sandbox/TFM_PAULA/merged_AR_celltypist_results/GSVA/Differentiated_KC_GSVA_res.sig.xlsx\")\n",
    "}\n",
    "if (file.exists(\"/dbfs/mnt/sandbox/TFM_PAULA/merged_AR_celltypist_results/GSVA/Undifferentiated_KC_GSVA_res.sig.xlsx\")) {\n",
    "  file.remove(\"/dbfs/mnt/sandbox/TFM_PAULA/merged_AR_celltypist_results/GSVA/Undifferentiated_KC_GSVA_res.sig.xlsx\")\n",
    "}\n",
    "if (file.exists(\"/dbfs/mnt/sandbox/TFM_PAULA/merged_AR_celltypist_results/GSVA/Tc_GSVA_res.sig.xlsx\")) {\n",
    "  file.remove(\"/dbfs/mnt/sandbox/TFM_PAULA/merged_AR_celltypist_results/GSVA/Tc_GSVA_res.sig.xlsx\")\n",
    "}"
   ]
  },
  {
   "cell_type": "code",
   "execution_count": 0,
   "metadata": {
    "application/vnd.databricks.v1+cell": {
     "cellMetadata": {
      "byteLimit": 2048000,
      "rowLimit": 10000
     },
     "inputWidgets": {},
     "nuid": "9db04f03-962c-49f3-805b-14f161895ad5",
     "showTitle": false,
     "tableResultSettingsMap": {},
     "title": ""
    }
   },
   "outputs": [],
   "source": [
    "write.xlsx(Differentiated_KC_GSVA_res.sig, \"/dbfs/mnt/sandbox/TFM_PAULA/merged_AR_celltypist_results/GSVA/Differentiated_KC_GSVA_res.sig.xlsx\")\n",
    "write.xlsx(Undifferentiated_KC_GSVA_res.sig, \"/dbfs/mnt/sandbox/TFM_PAULA/merged_AR_celltypist_results/GSVA/Undifferentiated_KC_GSVA_res.sig.xlsx\")\n",
    "write.xlsx(TC_GSVA_res.sig, \"/dbfs/mnt/sandbox/TFM_PAULA/merged_AR_celltypist_results/GSVA/Tc_GSVA_res.sig.xlsx\")"
   ]
  },
  {
   "cell_type": "markdown",
   "metadata": {
    "application/vnd.databricks.v1+cell": {
     "cellMetadata": {
      "byteLimit": 2048000,
      "rowLimit": 10000
     },
     "inputWidgets": {},
     "nuid": "51c315fd-bf89-43fe-9dfb-b6e100023da8",
     "showTitle": false,
     "tableResultSettingsMap": {},
     "title": ""
    }
   },
   "source": [
    "#Plot"
   ]
  },
  {
   "cell_type": "code",
   "execution_count": 0,
   "metadata": {
    "application/vnd.databricks.v1+cell": {
     "cellMetadata": {
      "byteLimit": 2048000,
      "rowLimit": 10000
     },
     "inputWidgets": {},
     "nuid": "943e2f35-0d5f-4573-bfe1-2b4eddaa7c64",
     "showTitle": false,
     "tableResultSettingsMap": {},
     "title": ""
    }
   },
   "outputs": [],
   "source": [
    "options(repr.plot.width = 1600, repr.plot.height = 1000, echo = FALSE)"
   ]
  },
  {
   "cell_type": "code",
   "execution_count": 0,
   "metadata": {
    "application/vnd.databricks.v1+cell": {
     "cellMetadata": {
      "byteLimit": 2048000,
      "rowLimit": 10000
     },
     "inputWidgets": {},
     "nuid": "74060365-bd05-4cc1-a25b-ef3b023a3df3",
     "showTitle": false,
     "tableResultSettingsMap": {},
     "title": ""
    }
   },
   "outputs": [],
   "source": [
    "library(dplyr)\n",
    "library(tibble)\n",
    "\n",
    "plot_df_tc <- TC_GSVA_res %>%\n",
    "  rownames_to_column(var = \"gs_name\") %>%\n",
    "  mutate(\n",
    "    logFC_size = abs(logFC),\n",
    "    direction = ifelse(logFC > 0, \"Up in Lesional\", \"Down in Lesional\")\n",
    "  )"
   ]
  },
  {
   "cell_type": "code",
   "execution_count": 0,
   "metadata": {
    "application/vnd.databricks.v1+cell": {
     "cellMetadata": {
      "byteLimit": 2048000,
      "rowLimit": 10000
     },
     "inputWidgets": {},
     "nuid": "652453f8-21bc-4be8-a7bd-3304f07220ca",
     "showTitle": false,
     "tableResultSettingsMap": {},
     "title": ""
    }
   },
   "outputs": [],
   "source": [
    " \n",
    "# Filter top pathways or by p-value\n",
    "plot_top_tc <- plot_df_tc %>%\n",
    "  filter(adj.P.Val < 0.05) %>%\n",
    "  group_by(direction) %>%\n",
    "  slice_max(order_by = logFC_size, n = 15)  # top 10 per cell type\n",
    " \n",
    "ggplot(plot_top_tc, aes(x = logFC, y = reorder(gs_name, logFC))) +\n",
    "  geom_bar(stat = \"identity\", aes(fill = adj.P.Val)) +\n",
    "  scale_fill_gradient(low = \"blue\", high = \"red\") +\n",
    "  theme_minimal(base_size = 12) +\n",
    "  theme(plot.title = element_text(hjust = 0.9)) +\n",
    "  labs(\n",
    "    x = \"logFC\",\n",
    "    y = \"Pathway\",\n",
    "    fill = \"adj.P.Val\",\n",
    "    title = \"Top 30 Pathway enrichment in Tcells by GSVA + limma\"\n",
    "  )"
   ]
  },
  {
   "cell_type": "code",
   "execution_count": 0,
   "metadata": {
    "application/vnd.databricks.v1+cell": {
     "cellMetadata": {
      "byteLimit": 2048000,
      "rowLimit": 10000
     },
     "inputWidgets": {},
     "nuid": "f34c49ae-3a8e-47a6-9a17-093b66a433cd",
     "showTitle": false,
     "tableResultSettingsMap": {},
     "title": ""
    }
   },
   "outputs": [],
   "source": [
    "library(dplyr)\n",
    "library(tibble)\n",
    "\n",
    "plot_df_kc <- Undifferentiated_KC_GSVA_res %>%\n",
    "  rownames_to_column(var = \"gs_name\") %>%\n",
    "  mutate(\n",
    "    logFC_size = abs(logFC),\n",
    "    direction = ifelse(logFC > 0, \"Up in Lesional\", \"Down in Lesional\")\n",
    "  )"
   ]
  },
  {
   "cell_type": "code",
   "execution_count": 0,
   "metadata": {
    "application/vnd.databricks.v1+cell": {
     "cellMetadata": {
      "byteLimit": 2048000,
      "rowLimit": 10000
     },
     "inputWidgets": {},
     "nuid": "44adad6c-acff-4e99-a180-f5754c4d6913",
     "showTitle": false,
     "tableResultSettingsMap": {},
     "title": ""
    }
   },
   "outputs": [],
   "source": [
    "options(repr.plot.width = 1900, repr.plot.height = 1000, echo = FALSE)"
   ]
  },
  {
   "cell_type": "code",
   "execution_count": 0,
   "metadata": {
    "application/vnd.databricks.v1+cell": {
     "cellMetadata": {
      "byteLimit": 2048000,
      "rowLimit": 10000
     },
     "inputWidgets": {},
     "nuid": "88fc7248-990f-4533-9c70-ab2c368feab7",
     "showTitle": false,
     "tableResultSettingsMap": {},
     "title": ""
    }
   },
   "outputs": [],
   "source": [
    "library(ggplot2)\n",
    " \n",
    "# Filter top pathways or by p-value\n",
    "plot_top_kc <- plot_df_kc %>%\n",
    "  filter(adj.P.Val < 0.05) %>%\n",
    "  group_by(direction) %>%\n",
    "  slice_max(order_by = logFC_size, n = 15)  # top 10 per direction per cell type\n",
    " \n",
    "ggplot(plot_top_kc, aes(x = logFC, y = reorder(gs_name, logFC))) +\n",
    "  geom_bar(stat = \"identity\", aes(fill = adj.P.Val)) +\n",
    "  scale_fill_gradient(low = \"blue\", high = \"red\") +\n",
    "  theme_minimal(base_size = 12) +\n",
    "  theme(plot.title = element_text(hjust = 0.6)) +\n",
    "  labs(\n",
    "    x = \"logFC\",\n",
    "    y = \"Pathway\",\n",
    "    fill = \"adj.P.Val\",\n",
    "    title = \"Top 30 Pathway enrichment in Undiff.KC by GSVA + limma\"\n",
    "  )"
   ]
  },
  {
   "cell_type": "code",
   "execution_count": 0,
   "metadata": {
    "application/vnd.databricks.v1+cell": {
     "cellMetadata": {
      "byteLimit": 2048000,
      "rowLimit": 10000
     },
     "inputWidgets": {},
     "nuid": "4ef1ad64-2b0e-4bb3-84ba-1733b05e261b",
     "showTitle": false,
     "tableResultSettingsMap": {},
     "title": ""
    }
   },
   "outputs": [],
   "source": [
    "library(dplyr)\n",
    "library(tibble)\n",
    "\n",
    "plot_df_kc <- Differentiated_KC_GSVA_res %>%\n",
    "  rownames_to_column(var = \"gs_name\") %>%\n",
    "  mutate(\n",
    "    logFC_size = abs(logFC),\n",
    "    direction = ifelse(logFC > 0, \"Up in Lesional\", \"Down in Lesional\")\n",
    "  )"
   ]
  },
  {
   "cell_type": "code",
   "execution_count": 0,
   "metadata": {
    "application/vnd.databricks.v1+cell": {
     "cellMetadata": {
      "byteLimit": 2048000,
      "rowLimit": 10000
     },
     "inputWidgets": {},
     "nuid": "c6ccc3bf-f1b2-4be9-be6a-20ff4928586e",
     "showTitle": false,
     "tableResultSettingsMap": {},
     "title": ""
    }
   },
   "outputs": [],
   "source": [
    "options(repr.plot.width = 1600, repr.plot.height = 1000, echo = FALSE)"
   ]
  },
  {
   "cell_type": "code",
   "execution_count": 0,
   "metadata": {
    "application/vnd.databricks.v1+cell": {
     "cellMetadata": {
      "byteLimit": 2048000,
      "rowLimit": 10000
     },
     "inputWidgets": {},
     "nuid": "c2602b3e-f4c3-4a51-86ab-5d8dbedf562b",
     "showTitle": false,
     "tableResultSettingsMap": {},
     "title": ""
    }
   },
   "outputs": [],
   "source": [
    "library(ggplot2)\n",
    " \n",
    "# Filter top pathways or by p-value\n",
    "plot_top_kc <- plot_df_kc %>%\n",
    "  filter(adj.P.Val < 0.05) %>%\n",
    "  group_by(direction) %>%\n",
    "  slice_max(order_by = logFC_size, n = 15)  # top 10 per direction per cell type\n",
    " \n",
    "ggplot(plot_top_kc, aes(x = logFC, y = reorder(gs_name, logFC))) +\n",
    "  geom_bar(stat = \"identity\", aes(fill = adj.P.Val)) +\n",
    "  scale_fill_gradient(low = \"blue\", high = \"red\") +\n",
    "  theme_minimal(base_size = 12) +\n",
    "  theme(plot.title = element_text(hjust = 0.6)) +\n",
    "  labs(\n",
    "    x = \"logFC\",\n",
    "    y = \"Pathway\",\n",
    "    fill = \"adj.P.Val\",\n",
    "    title = \"Top 30 Pathway enrichment in Diff.KC by GSVA + limma\"\n",
    "  )"
   ]
  }
 ],
 "metadata": {
  "application/vnd.databricks.v1+notebook": {
   "computePreferences": null,
   "dashboards": [],
   "environmentMetadata": {
    "base_environment": "",
    "environment_version": "2"
   },
   "inputWidgetPreferences": null,
   "language": "r",
   "notebookMetadata": {
    "mostRecentlyExecutedCommandWithImplicitDF": {
     "commandId": 6344556799751537,
     "dataframes": [
      "_sqldf"
     ]
    },
    "pythonIndentUnit": 4
   },
   "notebookName": "02.GSVA_Pseudobulk_Merged_Celltypist_annotation",
   "widgets": {}
  },
  "language_info": {
   "name": "r"
  }
 },
 "nbformat": 4,
 "nbformat_minor": 0
}
