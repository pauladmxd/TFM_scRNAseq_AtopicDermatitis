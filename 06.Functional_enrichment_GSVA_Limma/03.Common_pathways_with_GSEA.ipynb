{
 "cells": [
  {
   "cell_type": "markdown",
   "metadata": {
    "application/vnd.databricks.v1+cell": {
     "cellMetadata": {
      "byteLimit": 2048000,
      "rowLimit": 10000
     },
     "inputWidgets": {},
     "nuid": "42621208-8f4d-41ee-baac-dd74708f8005",
     "showTitle": false,
     "tableResultSettingsMap": {},
     "title": ""
    }
   },
   "source": [
    "#Common PATHWAYS obtained with the different methods of functional enrichment"
   ]
  },
  {
   "cell_type": "code",
   "execution_count": 0,
   "metadata": {
    "application/vnd.databricks.v1+cell": {
     "cellMetadata": {
      "byteLimit": 2048000,
      "rowLimit": 10000
     },
     "inputWidgets": {},
     "nuid": "031f357c-0b04-456b-afa4-e69b7bae975e",
     "showTitle": false,
     "tableResultSettingsMap": {},
     "title": ""
    }
   },
   "outputs": [],
   "source": [
    "#Load libraries\n",
    "## Append the library folder\n",
    ".libPaths(c(\"/dbfs/home/boriol@almirall.com/my_r_packages/bulkRNASeq_PBMCs_R4.3\", .libPaths()))\n",
    "\n",
    "library(DESeq2)\n",
    "library(tidyverse)\n",
    "library(VennDiagram)\n",
    "library(RColorBrewer)\n",
    "\n",
    ".libPaths(c(\"/dbfs/home/jtrincado@almirall.com/my_r_packages/Seurat\", .libPaths()))\n",
    "library(openxlsx)\n",
    "library(enrichplot)\n",
    "library(ggplot2)"
   ]
  },
  {
   "cell_type": "markdown",
   "metadata": {
    "application/vnd.databricks.v1+cell": {
     "cellMetadata": {
      "byteLimit": 2048000,
      "rowLimit": 10000
     },
     "inputWidgets": {},
     "nuid": "9f3d008f-5d25-4f9d-9f5a-d7734e3f5819",
     "showTitle": false,
     "tableResultSettingsMap": {},
     "title": ""
    }
   },
   "source": [
    "#KC"
   ]
  },
  {
   "cell_type": "code",
   "execution_count": 0,
   "metadata": {
    "application/vnd.databricks.v1+cell": {
     "cellMetadata": {
      "byteLimit": 2048000,
      "rowLimit": 10000
     },
     "inputWidgets": {},
     "nuid": "1f2f54eb-1d2e-441a-9962-89f3ae8a198d",
     "showTitle": false,
     "tableResultSettingsMap": {},
     "title": ""
    }
   },
   "outputs": [],
   "source": [
    "Dif_KC_GSVA <- read.xlsx(\"/dbfs/mnt/sandbox/TFM_PAULA/merged_AR_celltypist_results/GSVA/Differentiated_KC_GSVA_res.sig.xlsx\")\n",
    "Dif_KC_GSVA$pathway_name <- gsub(\"_\", \" \", Dif_KC_GSVA$pathway_name)\n",
    "Dif_KC_GSVA$gs_description <- Dif_KC_GSVA$pathway_name\n",
    "\n",
    "Undif_KC_GSVA <- read.xlsx(\"/dbfs/mnt/sandbox/TFM_PAULA/merged_AR_celltypist_results/GSVA/Undifferentiated_KC_GSVA_res.sig.xlsx\")\n",
    "Undif_KC_GSVA$pathway_name <- gsub(\"_\", \" \", Undif_KC_GSVA$pathway_name)\n",
    "Undif_KC_GSVA$gs_description <- Undif_KC_GSVA$pathway_name\n",
    "\n",
    "Dif_KC_GSEA <- read.xlsx(\"/dbfs/mnt/sandbox/TFM_PAULA/merged_AR_celltypist_results/GSEA/res_dif_kc_0.05_AR.xlsx\" , sheet=\"Reactome\")\n",
    "Undif_KC_GSEA <- read.xlsx(\"/dbfs/mnt/sandbox/TFM_PAULA/merged_AR_celltypist_results/GSEA/res_undif_kc_0.05_AR.xlsx\" , sheet=\"Reactome\")\n",
    "\n",
    "Dif_KC_GSEA <- read.xlsx(\"/dbfs/mnt/sandbox/TFM_PAULA/merged_AR_celltypist_results/GSEA/dif_kc_reactome_genes.xlsx\")\n",
    "Undif_KC_GSEA <- read.xlsx(\"/dbfs/mnt/sandbox/TFM_PAULA/merged_AR_celltypist_results/GSEA/undif_kc_reactome_genes.xlsx\")"
   ]
  },
  {
   "cell_type": "code",
   "execution_count": 0,
   "metadata": {
    "application/vnd.databricks.v1+cell": {
     "cellMetadata": {
      "byteLimit": 2048000,
      "rowLimit": 10000
     },
     "inputWidgets": {},
     "nuid": "22bc52de-a8f1-4e46-bfb6-98ae67e1552e",
     "showTitle": false,
     "tableResultSettingsMap": {},
     "title": ""
    }
   },
   "outputs": [],
   "source": [
    "max(Dif_KC_GSEA$p.adjust)"
   ]
  },
  {
   "cell_type": "code",
   "execution_count": 0,
   "metadata": {
    "application/vnd.databricks.v1+cell": {
     "cellMetadata": {
      "byteLimit": 2048000,
      "rowLimit": 10000
     },
     "inputWidgets": {},
     "nuid": "06c2bad8-4796-4e80-a227-4b9d260630aa",
     "showTitle": false,
     "tableResultSettingsMap": {},
     "title": ""
    }
   },
   "outputs": [],
   "source": [
    "# Function to check if at least 80% of the words are equal and don't count the first word in GSVA\n",
    "have_common_words <- function(str1, str2, min_common_percentage = 0.8) {\n",
    "  words1 <- unlist(strsplit(tolower(str1), \"\\\\s+|\\\\-\"))[-1]  # Remove the first word and split by space or hyphen\n",
    "  words2 <- unlist(strsplit(tolower(str2), \"\\\\s+|\\\\-\"))  # Split by space or hyphen\n",
    "  common_words <- intersect(words1, words2)\n",
    "  return(length(common_words) / length(words1) >= min_common_percentage)\n",
    "}\n",
    "\n",
    "# Create a list of your gene sets\n",
    "gene_sets <- list(\n",
    "  \"GSVA\" = Dif_KC_GSVA,\n",
    "  \"GSEA\" = Dif_KC_GSEA\n",
    ")\n",
    "\n",
    "# Find common pathways based on the custom criteria\n",
    "common_pathways <- data.frame(Pathway = character(), logFC = numeric(), NES = numeric(), core_degs = character(), stringsAsFactors = FALSE)\n",
    "contrary_sign_pathways <- data.frame(Pathway = character(), logFC = numeric(), NES = numeric(), core_degs = character(), stringsAsFactors = FALSE)\n",
    "only_gsva_pathways <- data.frame(Pathway = character(), logFC = numeric(), stringsAsFactors = FALSE)\n",
    "\n",
    "for (i in 1:nrow(gene_sets$GSVA)) {\n",
    "  found_common <- FALSE\n",
    "  for (j in 1:nrow(gene_sets$GSEA)) {\n",
    "    pathway1 <- gene_sets$GSVA$pathway_name[i]\n",
    "    pathway2 <- gene_sets$GSEA$Description[j]\n",
    "    if (have_common_words(pathway1, pathway2)) {\n",
    "      found_common <- TRUE\n",
    "      if (sign(gene_sets$GSVA$logFC[i]) == sign(gene_sets$GSEA$NES[j])) {\n",
    "        common_pathways <- rbind(common_pathways, data.frame(Pathway = pathway1, Pathway2 = pathway2, logFC = gene_sets$GSVA$logFC[i], NES = gene_sets$GSEA$NES[j], core_degs = gene_sets$GSEA$core_degs[j]))\n",
    "      } else {\n",
    "        contrary_sign_pathways <- rbind(contrary_sign_pathways, data.frame(Pathway = pathway1, Pathway2 = pathway2, logFC = gene_sets$GSVA$logFC[i], NES = gene_sets$GSEA$NES[j], core_degs = gene_sets$GSEA$core_degs[j]))\n",
    "      }\n",
    "      break\n",
    "    }\n",
    "  }\n",
    "  if (!found_common) {\n",
    "    only_gsva_pathways <- rbind(only_gsva_pathways, data.frame(Pathway = pathway1, logFC = gene_sets$GSVA$logFC[i]))\n",
    "  }\n",
    "}\n",
    "\n",
    "# Print common pathways and their logFC, NES, and core_degs\n",
    "display(common_pathways)\n"
   ]
  },
  {
   "cell_type": "code",
   "execution_count": 0,
   "metadata": {
    "application/vnd.databricks.v1+cell": {
     "cellMetadata": {
      "byteLimit": 2048000,
      "rowLimit": 10000
     },
     "inputWidgets": {},
     "nuid": "9f508f91-6aba-4c06-b1e2-08da61055c22",
     "showTitle": false,
     "tableResultSettingsMap": {},
     "title": ""
    }
   },
   "outputs": [],
   "source": [
    "display(only_gsva_pathways)"
   ]
  },
  {
   "cell_type": "code",
   "execution_count": 0,
   "metadata": {
    "application/vnd.databricks.v1+cell": {
     "cellMetadata": {
      "byteLimit": 2048000,
      "rowLimit": 10000
     },
     "inputWidgets": {},
     "nuid": "7e9530ee-567a-46e6-a2bb-11ac79b2f3f4",
     "showTitle": false,
     "tableResultSettingsMap": {},
     "title": ""
    }
   },
   "outputs": [],
   "source": [
    "# Function to check if at least 80% of the words are equal and don't count the first word in GSVA\n",
    "have_common_words <- function(str1, str2, min_common_percentage = 0.8) {\n",
    "  words1 <- unlist(strsplit(tolower(str1), \"\\\\s+\"))[-1]  # Remove the first word\n",
    "  words2 <- unlist(strsplit(tolower(str2), \"\\\\s+\"))\n",
    "  common_words <- intersect(words1, words2)\n",
    "  return(length(common_words) / length(words1) >= min_common_percentage)\n",
    "}\n",
    "\n",
    "# Create a list of your gene sets\n",
    "gene_sets <- list(\n",
    "  \"GSVA\" = Undif_KC_GSVA,\n",
    "  \"GSEA\" = Undif_KC_GSEA\n",
    ")\n",
    "\n",
    "# Find common pathways based on the custom criteria\n",
    "common_pathways <- data.frame(Pathway = character(), logFC = numeric(), NES = numeric(), core_degs = character(), stringsAsFactors = FALSE)\n",
    "contrary_sign_pathways <- data.frame(Pathway = character(), logFC = numeric(), NES = numeric(), core_degs = character(), stringsAsFactors = FALSE)\n",
    "\n",
    "for (i in 1:nrow(gene_sets$GSVA)) {\n",
    "  for (j in 1:nrow(gene_sets$GSEA)) {\n",
    "    pathway1 <- gene_sets$GSVA$pathway_name[i]\n",
    "    pathway2 <- gene_sets$GSEA$Description[j]\n",
    "    if (have_common_words(pathway1, pathway2)) {\n",
    "      if (sign(gene_sets$GSVA$logFC[i]) == sign(gene_sets$GSEA$NES[j])) {\n",
    "        common_pathways <- rbind(common_pathways, data.frame(Pathway = pathway1, Pathway2 = pathway2, logFC = gene_sets$GSVA$logFC[i], NES = gene_sets$GSEA$NES[j], core_degs = gene_sets$GSEA$core_degs[j]))\n",
    "      } else {\n",
    "        contrary_sign_pathways <- rbind(contrary_sign_pathways, data.frame(Pathway = pathway1, Pathway2 = pathway2, logFC = gene_sets$GSVA$logFC[i], NES = gene_sets$GSEA$NES[j], core_degs = gene_sets$GSEA$core_degs[j]))\n",
    "      }\n",
    "      break\n",
    "    }\n",
    "  }\n",
    "}\n",
    "\n",
    "# Print common pathways and their logFC, NES, and core_degs\n",
    "display(common_pathways)\n"
   ]
  },
  {
   "cell_type": "code",
   "execution_count": 0,
   "metadata": {
    "application/vnd.databricks.v1+cell": {
     "cellMetadata": {
      "byteLimit": 2048000,
      "rowLimit": 10000
     },
     "inputWidgets": {},
     "nuid": "ea955cd2-e3e9-4392-b1a5-e3586e8fffe8",
     "showTitle": false,
     "tableResultSettingsMap": {},
     "title": ""
    }
   },
   "outputs": [],
   "source": [
    "display(contrary_sign_pathways)\n"
   ]
  },
  {
   "cell_type": "code",
   "execution_count": 0,
   "metadata": {
    "application/vnd.databricks.v1+cell": {
     "cellMetadata": {},
     "inputWidgets": {},
     "nuid": "a085a467-3a8c-4ce8-a479-72c01627d806",
     "showTitle": false,
     "tableResultSettingsMap": {},
     "title": ""
    }
   },
   "outputs": [],
   "source": []
  },
  {
   "cell_type": "markdown",
   "metadata": {
    "application/vnd.databricks.v1+cell": {
     "cellMetadata": {},
     "inputWidgets": {},
     "nuid": "0a3f3a97-3c0d-4497-8868-c824a985e8de",
     "showTitle": false,
     "tableResultSettingsMap": {},
     "title": ""
    }
   },
   "source": [
    "#KC"
   ]
  },
  {
   "cell_type": "code",
   "execution_count": 0,
   "metadata": {
    "application/vnd.databricks.v1+cell": {
     "cellMetadata": {
      "byteLimit": 2048000,
      "rowLimit": 10000
     },
     "inputWidgets": {},
     "nuid": "cc7ae0c0-4806-467c-9126-0ee21e489c12",
     "showTitle": false,
     "tableResultSettingsMap": {},
     "title": ""
    }
   },
   "outputs": [],
   "source": [
    "Dif_KC_GSVA <- read.xlsx(\"/dbfs/mnt/sandbox/TFM_PAULA/merged_AR_celltypist_results/GSVA/Differentiated_KC_GSVA_res.sig.xlsx\")\n",
    "Dif_KC_GSVA$pathway_name <- gsub(\"_\", \" \", Dif_KC_GSVA$pathway_name)\n",
    "Dif_KC_GSVA$gs_description <- Dif_KC_GSVA$pathway_name\n",
    "\n",
    "Undif_KC_GSVA <- read.xlsx(\"/dbfs/mnt/sandbox/TFM_PAULA/merged_AR_celltypist_results/GSVA/Undifferentiated_KC_GSVA_res.sig.xlsx\")\n",
    "Undif_KC_GSVA$pathway_name <- gsub(\"_\", \" \", Undif_KC_GSVA$pathway_name)\n",
    "Undif_KC_GSVA$gs_description <- Undif_KC_GSVA$pathway_name\n",
    "\n",
    "Dif_KC_GSEA <- read.xlsx(\"/dbfs/mnt/sandbox/TFM_PAULA/merged_AR_celltypist_results/GSEA/Limma/res_kc_0.05_AR.xlsx\" , sheet=\"Reactome\")\n",
    "Undif_KC_GSEA <- read.xlsx(\"/dbfs/mnt/sandbox/TFM_PAULA/merged_AR_celltypist_results/GSEA/Limma/res_undifkc_0.05_AR.xlsx\" , sheet=\"Reactome\")"
   ]
  },
  {
   "cell_type": "code",
   "execution_count": 0,
   "metadata": {
    "application/vnd.databricks.v1+cell": {
     "cellMetadata": {
      "byteLimit": 2048000,
      "rowLimit": 10000
     },
     "inputWidgets": {},
     "nuid": "ae921d25-e514-49e7-8e18-aeab9c7f2dff",
     "showTitle": false,
     "tableResultSettingsMap": {},
     "title": ""
    }
   },
   "outputs": [],
   "source": [
    "max(Dif_KC_GSEA$p.adjust)"
   ]
  },
  {
   "cell_type": "code",
   "execution_count": 0,
   "metadata": {
    "application/vnd.databricks.v1+cell": {
     "cellMetadata": {
      "byteLimit": 2048000,
      "rowLimit": 10000
     },
     "inputWidgets": {},
     "nuid": "c085ad11-db06-4b13-b717-f19cf93a4872",
     "showTitle": false,
     "tableResultSettingsMap": {},
     "title": ""
    }
   },
   "outputs": [],
   "source": [
    "# Function to check if at least 80% of the words are equal and don't count the first word in GSVA\n",
    "have_common_words <- function(str1, str2, min_common_percentage = 0.8) {\n",
    "  words1 <- unlist(strsplit(tolower(str1), \"\\\\s+\"))[-1]  # Remove the first word\n",
    "  words2 <- unlist(strsplit(tolower(str2), \"\\\\s+\"))\n",
    "  common_words <- intersect(words1, words2)\n",
    "  return(length(common_words) / length(words1) >= min_common_percentage)\n",
    "}\n",
    "\n",
    "# Create a list of your gene sets\n",
    "gene_sets <- list(\n",
    "  \"GSVA\" = Dif_KC_GSVA,\n",
    "  \"GSEA\" = Dif_KC_GSEA\n",
    ")\n",
    "\n",
    "# Find common pathways based on the custom criteria\n",
    "common_pathways <- data.frame(Pathway = character(), logFC = numeric(), NES = numeric(), stringsAsFactors = FALSE)\n",
    "contrary_sign_pathways <- data.frame(Pathway = character(), logFC = numeric(), NES = numeric(), stringsAsFactors = FALSE)\n",
    "\n",
    "for (i in 1:nrow(gene_sets$GSVA)) {\n",
    "  for (j in 1:nrow(gene_sets$GSEA)) {\n",
    "    pathway1 <- gene_sets$GSVA$pathway_name[i]\n",
    "    pathway2 <- gene_sets$GSEA$Description[j]\n",
    "    if (have_common_words(pathway1, pathway2)) {\n",
    "      if (sign(gene_sets$GSVA$logFC[i]) == sign(gene_sets$GSEA$NES[j])) {\n",
    "        common_pathways <- rbind(common_pathways, data.frame(Pathway = pathway1, Pathway2 = pathway2, logFC = gene_sets$GSVA$logFC[i], NES = gene_sets$GSEA$NES[j]))\n",
    "      } else {\n",
    "        contrary_sign_pathways <- rbind(contrary_sign_pathways, data.frame(Pathway = pathway1, Pathway2 = pathway2, logFC = gene_sets$GSVA$logFC[i], NES = gene_sets$GSEA$NES[j]))\n",
    "      }\n",
    "      break\n",
    "    }\n",
    "  }\n",
    "}\n",
    "\n",
    "# Print common pathways and their logFC and NES\n",
    "display(common_pathways)"
   ]
  },
  {
   "cell_type": "code",
   "execution_count": 0,
   "metadata": {
    "application/vnd.databricks.v1+cell": {
     "cellMetadata": {
      "byteLimit": 2048000,
      "rowLimit": 10000
     },
     "inputWidgets": {},
     "nuid": "55bd5925-9677-4d66-b2a2-588eb0c0d4db",
     "showTitle": false,
     "tableResultSettingsMap": {},
     "title": ""
    }
   },
   "outputs": [],
   "source": [
    "display(contrary_sign_pathways)"
   ]
  },
  {
   "cell_type": "code",
   "execution_count": 0,
   "metadata": {
    "application/vnd.databricks.v1+cell": {
     "cellMetadata": {
      "byteLimit": 2048000,
      "rowLimit": 10000
     },
     "inputWidgets": {},
     "nuid": "66854144-2d7e-438f-ab0f-2e1ce4329723",
     "showTitle": false,
     "tableResultSettingsMap": {},
     "title": ""
    }
   },
   "outputs": [],
   "source": [
    "# Function to check if at least 80% of the words are equal and don't count the first word in GSVA\n",
    "have_common_words <- function(str1, str2, min_common_percentage = 0.8) {\n",
    "  words1 <- unlist(strsplit(tolower(str1), \"\\\\s+\"))[-1]  # Remove the first word\n",
    "  words2 <- unlist(strsplit(tolower(str2), \"\\\\s+\"))\n",
    "  common_words <- intersect(words1, words2)\n",
    "  return(length(common_words) / length(words1) >= min_common_percentage)\n",
    "}\n",
    "\n",
    "# Create a list of your gene sets\n",
    "gene_sets <- list(\n",
    "  \"GSVA\" = Undif_KC_GSVA,\n",
    "  \"GSEA\" = Undif_KC_GSEA\n",
    ")\n",
    "\n",
    "# Find common pathways based on the custom criteria\n",
    "common_pathways <- data.frame(Pathway = character(), logFC = numeric(), NES = numeric(), stringsAsFactors = FALSE)\n",
    "contrary_sign_pathways <- data.frame(Pathway = character(), logFC = numeric(), NES = numeric(), stringsAsFactors = FALSE)\n",
    "\n",
    "for (i in 1:nrow(gene_sets$GSVA)) {\n",
    "  for (j in 1:nrow(gene_sets$GSEA)) {\n",
    "    pathway1 <- gene_sets$GSVA$pathway_name[i]\n",
    "    pathway2 <- gene_sets$GSEA$Description[j]\n",
    "    if (have_common_words(pathway1, pathway2)) {\n",
    "      if (sign(gene_sets$GSVA$logFC[i]) == sign(gene_sets$GSEA$NES[j])) {\n",
    "        common_pathways <- rbind(common_pathways, data.frame(Pathway = pathway1, Pathway2 = pathway2, logFC = gene_sets$GSVA$logFC[i], NES = gene_sets$GSEA$NES[j]))\n",
    "      } else {\n",
    "        contrary_sign_pathways <- rbind(contrary_sign_pathways, data.frame(Pathway = pathway1, Pathway2 = pathway2, logFC = gene_sets$GSVA$logFC[i], NES = gene_sets$GSEA$NES[j]))\n",
    "      }\n",
    "      break\n",
    "    }\n",
    "  }\n",
    "}\n",
    "\n",
    "# Print common pathways and their logFC, NES, and core_degs\n",
    "display(common_pathways)\n"
   ]
  },
  {
   "cell_type": "code",
   "execution_count": 0,
   "metadata": {
    "application/vnd.databricks.v1+cell": {
     "cellMetadata": {
      "byteLimit": 2048000,
      "rowLimit": 10000
     },
     "inputWidgets": {},
     "nuid": "2f432c3b-4bad-4263-8e18-8a63083ddea2",
     "showTitle": false,
     "tableResultSettingsMap": {},
     "title": ""
    }
   },
   "outputs": [],
   "source": [
    "display(contrary_sign_pathways)\n"
   ]
  }
 ],
 "metadata": {
  "application/vnd.databricks.v1+notebook": {
   "computePreferences": null,
   "dashboards": [],
   "environmentMetadata": {
    "base_environment": "",
    "environment_version": "2"
   },
   "inputWidgetPreferences": null,
   "language": "r",
   "notebookMetadata": {
    "pythonIndentUnit": 4
   },
   "notebookName": "03.Common_pathways_with_GSEA",
   "widgets": {}
  },
  "language_info": {
   "name": "r"
  }
 },
 "nbformat": 4,
 "nbformat_minor": 0
}
