{
 "cells": [
  {
   "cell_type": "markdown",
   "metadata": {
    "application/vnd.databricks.v1+cell": {
     "cellMetadata": {},
     "inputWidgets": {},
     "nuid": "76df65de-358c-486d-9b56-5503f627bc2b",
     "showTitle": false,
     "tableResultSettingsMap": {},
     "title": ""
    }
   },
   "source": [
    "#Violin and dot plots to see expression of interesting genes"
   ]
  },
  {
   "cell_type": "code",
   "execution_count": 0,
   "metadata": {
    "application/vnd.databricks.v1+cell": {
     "cellMetadata": {
      "byteLimit": 2048000,
      "rowLimit": 10000
     },
     "inputWidgets": {},
     "nuid": "40de413f-434b-4c91-990c-6016aedc1522",
     "showTitle": false,
     "tableResultSettingsMap": {},
     "title": ""
    }
   },
   "outputs": [],
   "source": [
    ".libPaths(c(\"/dbfs/home/jtrincado@almirall.com/my_r_packages/Seurat\", .libPaths()))\n",
    "library(dittoSeq)\n",
    "library(dplyr)\n",
    "library(openxlsx)\n",
    "\n",
    ".libPaths(c(\"/dbfs/home/jtrincado@almirall.com/my_r_packages/Seurat_v2\", .libPaths()))\n",
    "library(Seurat)"
   ]
  },
  {
   "cell_type": "code",
   "execution_count": 0,
   "metadata": {
    "application/vnd.databricks.v1+cell": {
     "cellMetadata": {
      "byteLimit": 2048000,
      "rowLimit": 10000
     },
     "inputWidgets": {},
     "nuid": "275c1c10-0890-4a0b-acf4-139feab35083",
     "showTitle": false,
     "tableResultSettingsMap": {},
     "title": ""
    }
   },
   "outputs": [],
   "source": [
    "# dotplot_generator: Creates a dot plot based on Seurat object data\n",
    "# Arguments:\n",
    "#   - seurat_obj: A Seurat object containing single-cell RNA-seq data\n",
    "#   - genes_vector: A vector of gene names to include in the plot\n",
    "# ** cell type classification has to be named \"celltype_AR\" and condition/disease/stimulus named \"Condition_AR\"\n",
    "dotplot_generator <- function(seurat_obj, genes_vector) {  # Extract cell attributes (cell types and conditions)\n",
    "  cell_attributes_for_plot <- seurat_obj@meta.data[, c(\"celltype_AR\", \"Condition_AR\")]\n",
    "  colnames(cell_attributes_for_plot) <- c(\"celltype_AR\", \"Condition_AR\")\n",
    "  cell_attributes_for_plot <- tibble::rownames_to_column(cell_attributes_for_plot, \"barcode\")\n",
    "\n",
    "  # Create a table of counts for each read\n",
    "  counts_table_for_plot <- as.data.frame(t(SeuratObject::GetAssayData(seurat_obj, \"RNA\")[genes_vector,])) |>\n",
    "    tibble::rownames_to_column(\"barcode\") |>\n",
    "    tidyr::pivot_longer(cols = genes_vector, names_to = \"gene\", values_to = \"counts\")\n",
    "print(counts_table_for_plot)\n",
    "  # Merge the two tables by barcode\n",
    "  counts_with_attributes_for_plot <- inner_join(cell_attributes_for_plot, counts_table_for_plot, by = join_by(barcode))\n",
    "\n",
    "  # Calculate fraction of cells expressing each gene and average expression\n",
    "  to_plot <- dplyr::summarize(counts_with_attributes_for_plot,\n",
    "    frac_expressed = sum(counts > 0) / n(),\n",
    "    avg_expression = mean(counts),\n",
    "    .by = c(\"celltype_AR\", \"Condition_AR\", \"gene\"))\n",
    "    \n",
    "  # Filter out genes with zero expression, because having a dot in 0 expression is confusing\n",
    "  to_plot <- to_plot[to_plot$frac_expressed != 0, ]  \n",
    "  # Generate the dot plot\n",
    "  library(ggplot2)\n",
    "  plot <- ggplot(to_plot) +\n",
    "    geom_point(\n",
    "      aes(\n",
    "        x = gene,\n",
    "        y = celltype_AR,\n",
    "        size = frac_expressed,\n",
    "        fill = avg_expression,\n",
    "        color = Condition_AR,\n",
    "        group = Condition_AR\n",
    "      ),\n",
    "      position = position_dodge(width = 0.5),\n",
    "      shape = 21,\n",
    "      stroke = 1  # Set the width of the dot border, I set it wider because is better to visualize\n",
    "    ) +\n",
    "    labs(\n",
    "      x = \"Gene\",\n",
    "      y = \"Cell type\",\n",
    "      color = \"Condition\",\n",
    "      fill = \"Average expression\",\n",
    "      size = \"Fraction expressed\"\n",
    "    ) +\n",
    "    scale_fill_distiller(type = \"seq\", palette = \"Blues\", direction = 1) +\n",
    "    theme_bw()\n",
    "\n",
    "plot\n",
    "}"
   ]
  },
  {
   "cell_type": "markdown",
   "metadata": {
    "application/vnd.databricks.v1+cell": {
     "cellMetadata": {},
     "inputWidgets": {},
     "nuid": "0ed0a37c-9572-4d1a-8394-8b7dcf815202",
     "showTitle": false,
     "tableResultSettingsMap": {},
     "title": ""
    }
   },
   "source": [
    "##On single cell data"
   ]
  },
  {
   "cell_type": "code",
   "execution_count": 0,
   "metadata": {
    "application/vnd.databricks.v1+cell": {
     "cellMetadata": {
      "byteLimit": 2048000,
      "rowLimit": 10000
     },
     "inputWidgets": {},
     "nuid": "4c8db49f-51cf-4213-8469-0277caf6c569",
     "showTitle": false,
     "tableResultSettingsMap": {},
     "title": ""
    }
   },
   "outputs": [],
   "source": [
    "AR <- readRDS(file=\"/dbfs/mnt/sandbox/TFM_PAULA/MERGED_ARdatasets_celltypist_TFM.rds\")"
   ]
  },
  {
   "cell_type": "code",
   "execution_count": 0,
   "metadata": {
    "application/vnd.databricks.v1+cell": {
     "cellMetadata": {
      "byteLimit": 2048000,
      "rowLimit": 10000
     },
     "inputWidgets": {},
     "nuid": "92416a25-668b-47c4-ae4d-e57d737b8c15",
     "showTitle": false,
     "tableResultSettingsMap": {},
     "title": ""
    }
   },
   "outputs": [],
   "source": [
    "AR_f <- subset(AR, Condition_AR %in% c(\"Lesional\", \"HC\"))\n",
    "AR_f <- subset(AR_f, celltype_AR %in% c(\"Undifferentiated_KC\", \"Differentiated_KC\", \"Tc\", \"Th\", \"Treg\", \"NK\", \"Fibroblasts\", \"Melanocytes\"))"
   ]
  },
  {
   "cell_type": "code",
   "execution_count": 0,
   "metadata": {
    "application/vnd.databricks.v1+cell": {
     "cellMetadata": {
      "byteLimit": 2048000,
      "rowLimit": 10000
     },
     "inputWidgets": {},
     "nuid": "8d2f2513-6379-406a-93c8-bb0bd01346e4",
     "showTitle": false,
     "tableResultSettingsMap": {},
     "title": ""
    }
   },
   "outputs": [],
   "source": [
    "th_genes_commented <- c(\"IL13\", \"IL21\", \"CCL17\")\n",
    "tc_genes_commented <- c(\"IL26\", \"APOBEC3B\")\n",
    "kc_genes_commented <- c(\"SPRR1A\", \"SPRR1B\", \"LCE3E\", \"KRT17\", \"ALOX12B\", \"ALOXE3\", \"IL1A\", \"HLA-DQB1\")"
   ]
  },
  {
   "cell_type": "code",
   "execution_count": 0,
   "metadata": {
    "application/vnd.databricks.v1+cell": {
     "cellMetadata": {
      "byteLimit": 2048000,
      "rowLimit": 10000
     },
     "inputWidgets": {},
     "nuid": "f5b0da95-ccb2-4eb7-b525-a242ac09d5a4",
     "showTitle": false,
     "tableResultSettingsMap": {},
     "title": ""
    }
   },
   "outputs": [],
   "source": [
    "genes_tc_th <- c(th_genes_commented, tc_genes_commented)"
   ]
  },
  {
   "cell_type": "code",
   "execution_count": 0,
   "metadata": {
    "application/vnd.databricks.v1+cell": {
     "cellMetadata": {
      "byteLimit": 2048000,
      "rowLimit": 10000
     },
     "inputWidgets": {},
     "nuid": "bc7b8c27-7159-47e7-92c9-5b9b45cc6b91",
     "showTitle": false,
     "tableResultSettingsMap": {},
     "title": ""
    }
   },
   "outputs": [],
   "source": [
    "options(repr.plot.width=900, repr.plot.height=900,  echo= F)"
   ]
  },
  {
   "cell_type": "code",
   "execution_count": 0,
   "metadata": {
    "application/vnd.databricks.v1+cell": {
     "cellMetadata": {
      "byteLimit": 2048000,
      "rowLimit": 10000
     },
     "inputWidgets": {},
     "nuid": "72e4e517-c5e6-4b6a-81bc-c0fbce657510",
     "showTitle": false,
     "tableResultSettingsMap": {},
     "title": ""
    }
   },
   "outputs": [],
   "source": [
    "dotplot_generator(AR_f, genes_tc_th)"
   ]
  },
  {
   "cell_type": "code",
   "execution_count": 0,
   "metadata": {
    "application/vnd.databricks.v1+cell": {
     "cellMetadata": {
      "byteLimit": 2048000,
      "rowLimit": 10000
     },
     "inputWidgets": {},
     "nuid": "525d9b32-054e-4e08-b141-d5fefde5697a",
     "showTitle": false,
     "tableResultSettingsMap": {},
     "title": ""
    }
   },
   "outputs": [],
   "source": [
    "options(repr.plot.width=800, repr.plot.height=700,  echo= F)"
   ]
  },
  {
   "cell_type": "code",
   "execution_count": 0,
   "metadata": {
    "application/vnd.databricks.v1+cell": {
     "cellMetadata": {
      "byteLimit": 2048000,
      "rowLimit": 10000
     },
     "inputWidgets": {},
     "nuid": "b06ccbdd-a106-4fa7-9c56-5fc1240028af",
     "showTitle": false,
     "tableResultSettingsMap": {},
     "title": ""
    }
   },
   "outputs": [],
   "source": [
    "dotplot_generator(AR_f, th_genes_commented)"
   ]
  },
  {
   "cell_type": "code",
   "execution_count": 0,
   "metadata": {
    "application/vnd.databricks.v1+cell": {
     "cellMetadata": {
      "byteLimit": 2048000,
      "rowLimit": 10000
     },
     "inputWidgets": {},
     "nuid": "6b25774a-261f-4c44-8a08-e2ccce004e01",
     "showTitle": false,
     "tableResultSettingsMap": {},
     "title": ""
    }
   },
   "outputs": [],
   "source": [
    "dotplot_generator(AR_f, tc_genes_commented)"
   ]
  },
  {
   "cell_type": "code",
   "execution_count": 0,
   "metadata": {
    "application/vnd.databricks.v1+cell": {
     "cellMetadata": {
      "byteLimit": 2048000,
      "rowLimit": 10000
     },
     "inputWidgets": {},
     "nuid": "0ed4f052-463c-45c7-8037-aaaa74c7cd65",
     "showTitle": false,
     "tableResultSettingsMap": {},
     "title": ""
    }
   },
   "outputs": [],
   "source": [
    "options(repr.plot.width=1100, repr.plot.height=900,  echo= F)"
   ]
  },
  {
   "cell_type": "code",
   "execution_count": 0,
   "metadata": {
    "application/vnd.databricks.v1+cell": {
     "cellMetadata": {
      "byteLimit": 2048000,
      "rowLimit": 10000
     },
     "inputWidgets": {},
     "nuid": "101ce614-ece7-431f-8e39-b0e6bb047fff",
     "showTitle": false,
     "tableResultSettingsMap": {},
     "title": ""
    }
   },
   "outputs": [],
   "source": [
    "dotplot_generator(AR_f, kc_genes_commented)"
   ]
  },
  {
   "cell_type": "markdown",
   "metadata": {
    "application/vnd.databricks.v1+cell": {
     "cellMetadata": {},
     "inputWidgets": {},
     "nuid": "36352a29-d752-45c5-baf6-1d1c6013f8de",
     "showTitle": false,
     "tableResultSettingsMap": {},
     "title": ""
    }
   },
   "source": [
    "##On pseudobulk (violins)"
   ]
  },
  {
   "cell_type": "code",
   "execution_count": 0,
   "metadata": {
    "application/vnd.databricks.v1+cell": {
     "cellMetadata": {
      "byteLimit": 2048000,
      "rowLimit": 10000
     },
     "inputWidgets": {},
     "nuid": "62777909-0e15-406f-a9f0-1482e81cfda3",
     "showTitle": false,
     "tableResultSettingsMap": {},
     "title": ""
    }
   },
   "outputs": [],
   "source": [
    "pseudo_AR <- readRDS(\"/dbfs/mnt/sandbox/TFM_PAULA/AR_MERGED_celltypist_aggregated_expression_TFM.rds\")"
   ]
  },
  {
   "cell_type": "code",
   "execution_count": 0,
   "metadata": {
    "application/vnd.databricks.v1+cell": {
     "cellMetadata": {
      "byteLimit": 2048000,
      "rowLimit": 10000
     },
     "inputWidgets": {},
     "nuid": "1f5a713d-1c38-4b75-a7f6-6acd88629d77",
     "showTitle": false,
     "tableResultSettingsMap": {},
     "title": ""
    }
   },
   "outputs": [],
   "source": [
    "pseudo_AR_f <- subset(pseudo_AR, Condition_AR %in% c(\"Lesional\", \"HC\"))"
   ]
  },
  {
   "cell_type": "code",
   "execution_count": 0,
   "metadata": {
    "application/vnd.databricks.v1+cell": {
     "cellMetadata": {
      "byteLimit": 2048000,
      "rowLimit": 10000
     },
     "inputWidgets": {},
     "nuid": "8cc6a5c0-f263-4f1e-8c7c-b8795e655854",
     "showTitle": false,
     "tableResultSettingsMap": {},
     "title": ""
    }
   },
   "outputs": [],
   "source": [
    "pseudo_AR_filtered <- subset(pseudo_AR_f, celltype_AR == \"Differentiated_KC\")"
   ]
  },
  {
   "cell_type": "code",
   "execution_count": 0,
   "metadata": {
    "application/vnd.databricks.v1+cell": {
     "cellMetadata": {
      "byteLimit": 2048000,
      "rowLimit": 10000
     },
     "inputWidgets": {},
     "nuid": "4ebd45ac-9542-449a-93be-665cb4954252",
     "showTitle": false,
     "tableResultSettingsMap": {},
     "title": ""
    }
   },
   "outputs": [],
   "source": [
    "options(repr.plot.width=1000, repr.plot.height=1100,  echo= F)"
   ]
  },
  {
   "cell_type": "code",
   "execution_count": 0,
   "metadata": {
    "application/vnd.databricks.v1+cell": {
     "cellMetadata": {
      "byteLimit": 2048000,
      "rowLimit": 10000
     },
     "inputWidgets": {},
     "nuid": "3ed18ad2-0588-4c69-abfe-03f6d188e778",
     "showTitle": false,
     "tableResultSettingsMap": {},
     "title": ""
    }
   },
   "outputs": [],
   "source": [
    "dittoPlot(pseudo_AR_filtered, kc_genes_commented, group.by = \"Condition_AR\",\n",
    "    plots = c(\"vlnplot\", \"jitter\"), main = \"Differentiated Keratinocytes\")"
   ]
  },
  {
   "cell_type": "code",
   "execution_count": 0,
   "metadata": {
    "application/vnd.databricks.v1+cell": {
     "cellMetadata": {
      "byteLimit": 2048000,
      "rowLimit": 10000
     },
     "inputWidgets": {},
     "nuid": "69160a91-4868-4499-9d16-9a282e6323d8",
     "showTitle": false,
     "tableResultSettingsMap": {},
     "title": ""
    }
   },
   "outputs": [],
   "source": [
    "pseudo_AR_filtered_th <- subset(pseudo_AR_f, celltype_AR == \"Th\")\n"
   ]
  },
  {
   "cell_type": "code",
   "execution_count": 0,
   "metadata": {
    "application/vnd.databricks.v1+cell": {
     "cellMetadata": {
      "byteLimit": 2048000,
      "rowLimit": 10000
     },
     "inputWidgets": {},
     "nuid": "e1734044-75dd-4a77-8a01-d4d99d2d92b6",
     "showTitle": false,
     "tableResultSettingsMap": {},
     "title": ""
    }
   },
   "outputs": [],
   "source": [
    "options(repr.plot.width=1000, repr.plot.height=450,  echo= F)"
   ]
  },
  {
   "cell_type": "code",
   "execution_count": 0,
   "metadata": {
    "application/vnd.databricks.v1+cell": {
     "cellMetadata": {
      "byteLimit": 2048000,
      "rowLimit": 10000
     },
     "inputWidgets": {},
     "nuid": "18e34911-90a3-4443-9395-992e424a2f76",
     "showTitle": false,
     "tableResultSettingsMap": {},
     "title": ""
    }
   },
   "outputs": [],
   "source": [
    "dittoPlot(pseudo_AR_filtered_th, th_genes_commented, group.by = \"Condition_AR\",\n",
    "    plots = c(\"vlnplot\", \"jitter\"), main = \"Th cells\")"
   ]
  },
  {
   "cell_type": "code",
   "execution_count": 0,
   "metadata": {
    "application/vnd.databricks.v1+cell": {
     "cellMetadata": {
      "byteLimit": 2048000,
      "rowLimit": 10000
     },
     "inputWidgets": {},
     "nuid": "af6556dc-ed59-467c-a6a6-6c2d9cb6a95b",
     "showTitle": false,
     "tableResultSettingsMap": {},
     "title": ""
    }
   },
   "outputs": [],
   "source": [
    "pseudo_AR_filtered_tc <- subset(pseudo_AR_f, celltype_AR == \"Tc\")\n"
   ]
  },
  {
   "cell_type": "code",
   "execution_count": 0,
   "metadata": {
    "application/vnd.databricks.v1+cell": {
     "cellMetadata": {
      "byteLimit": 2048000,
      "rowLimit": 10000
     },
     "inputWidgets": {},
     "nuid": "1553b397-a907-4040-98f4-e7a1df76508e",
     "showTitle": false,
     "tableResultSettingsMap": {},
     "title": ""
    }
   },
   "outputs": [],
   "source": [
    "dittoPlot(pseudo_AR_filtered_tc, tc_genes_commented, group.by = \"Condition_AR\",\n",
    "    plots = c(\"vlnplot\", \"jitter\"), , main = \"Tc cells\")"
   ]
  },
  {
   "cell_type": "markdown",
   "metadata": {
    "application/vnd.databricks.v1+cell": {
     "cellMetadata": {},
     "inputWidgets": {},
     "nuid": "1f9296bf-b3ba-4142-9cdb-98fefccac59f",
     "showTitle": false,
     "tableResultSettingsMap": {},
     "title": ""
    }
   },
   "source": [
    "#Before celltypist"
   ]
  },
  {
   "cell_type": "code",
   "execution_count": 0,
   "metadata": {
    "application/vnd.databricks.v1+cell": {
     "cellMetadata": {
      "byteLimit": 2048000,
      "rowLimit": 10000
     },
     "inputWidgets": {},
     "nuid": "bf94ff40-ade6-43dc-ad23-a4009c0fa638",
     "showTitle": false,
     "tableResultSettingsMap": {},
     "title": ""
    }
   },
   "outputs": [],
   "source": [
    "AR <- readRDS(file=\"/dbfs/mnt/sandbox/TFM_PAULA/MERGED_ARdatasets_TFM.rds\")"
   ]
  },
  {
   "cell_type": "code",
   "execution_count": 0,
   "metadata": {
    "application/vnd.databricks.v1+cell": {
     "cellMetadata": {
      "byteLimit": 2048000,
      "rowLimit": 10000
     },
     "inputWidgets": {},
     "nuid": "a295165f-25be-4ce8-a37d-0d90749d0f03",
     "showTitle": false,
     "tableResultSettingsMap": {},
     "title": ""
    }
   },
   "outputs": [],
   "source": [
    "AR_f <- subset(AR, Condition_AR %in% c(\"Lesional\", \"HC\"))\n",
    "AR_f <- subset(AR_f, celltype_AR %in% c(\"KC\", \"TC\", \"Treg\", \"NK\", \"Fibroblasts\", \"Melanocytes\"))"
   ]
  },
  {
   "cell_type": "code",
   "execution_count": 0,
   "metadata": {
    "application/vnd.databricks.v1+cell": {
     "cellMetadata": {
      "byteLimit": 2048000,
      "rowLimit": 10000
     },
     "inputWidgets": {},
     "nuid": "4425e1c9-4f66-4d53-816a-0c5b8166427e",
     "showTitle": false,
     "tableResultSettingsMap": {},
     "title": ""
    }
   },
   "outputs": [],
   "source": [
    "genes <- c(\"CTSC\", \"CTSS\", \"LYZ\", \"PSMA6\")\n",
    "genes_kc <- c(\"CTSC\", \"CTSS\", \"LYZ\")"
   ]
  },
  {
   "cell_type": "code",
   "execution_count": 0,
   "metadata": {
    "application/vnd.databricks.v1+cell": {
     "cellMetadata": {
      "byteLimit": 2048000,
      "rowLimit": 10000
     },
     "inputWidgets": {},
     "nuid": "4fc2c80d-f2c9-495d-a26c-103e92a095e7",
     "showTitle": false,
     "tableResultSettingsMap": {},
     "title": ""
    }
   },
   "outputs": [],
   "source": [
    "options(repr.plot.width=800, repr.plot.height=800,  echo= F)"
   ]
  },
  {
   "cell_type": "code",
   "execution_count": 0,
   "metadata": {
    "application/vnd.databricks.v1+cell": {
     "cellMetadata": {
      "byteLimit": 2048000,
      "rowLimit": 10000
     },
     "inputWidgets": {},
     "nuid": "e02d27bf-99ae-4e24-acc2-8739df1b1d51",
     "showTitle": false,
     "tableResultSettingsMap": {},
     "title": ""
    }
   },
   "outputs": [],
   "source": [
    "dotplot_generator(AR_f, genes)"
   ]
  },
  {
   "cell_type": "code",
   "execution_count": 0,
   "metadata": {
    "application/vnd.databricks.v1+cell": {
     "cellMetadata": {
      "byteLimit": 2048000,
      "rowLimit": 10000
     },
     "inputWidgets": {},
     "nuid": "42ae2970-ca90-4a91-ab49-9d017de04098",
     "showTitle": false,
     "tableResultSettingsMap": {},
     "title": ""
    }
   },
   "outputs": [],
   "source": [
    "pseudo_AR <- readRDS(\"/dbfs/mnt/sandbox/TFM_PAULA/AR_MERGED_aggregated_expression_TFM.rds\")"
   ]
  },
  {
   "cell_type": "code",
   "execution_count": 0,
   "metadata": {
    "application/vnd.databricks.v1+cell": {
     "cellMetadata": {
      "byteLimit": 2048000,
      "rowLimit": 10000
     },
     "inputWidgets": {},
     "nuid": "f7ab2074-8de3-48f7-aecd-950fe4cdceb3",
     "showTitle": false,
     "tableResultSettingsMap": {},
     "title": ""
    }
   },
   "outputs": [],
   "source": [
    "pseudo_AR_f <- subset(pseudo_AR, Condition_AR %in% c(\"Lesional\", \"HC\"))"
   ]
  },
  {
   "cell_type": "code",
   "execution_count": 0,
   "metadata": {
    "application/vnd.databricks.v1+cell": {
     "cellMetadata": {
      "byteLimit": 2048000,
      "rowLimit": 10000
     },
     "inputWidgets": {},
     "nuid": "d9a13fac-c5c7-497a-a098-c04cc3fc55e3",
     "showTitle": false,
     "tableResultSettingsMap": {},
     "title": ""
    }
   },
   "outputs": [],
   "source": [
    "pseudo_AR_filtered <- subset(pseudo_AR_f, celltype_AR == \"KC\")"
   ]
  },
  {
   "cell_type": "code",
   "execution_count": 0,
   "metadata": {
    "application/vnd.databricks.v1+cell": {
     "cellMetadata": {
      "byteLimit": 2048000,
      "rowLimit": 10000
     },
     "inputWidgets": {},
     "nuid": "4f8334c1-b65b-4c3a-9da0-cb96a2ddf808",
     "showTitle": false,
     "tableResultSettingsMap": {},
     "title": ""
    }
   },
   "outputs": [],
   "source": [
    "pseudo_AR_filtered_tc <- subset(pseudo_AR_f, celltype_AR == \"TC\")"
   ]
  },
  {
   "cell_type": "code",
   "execution_count": 0,
   "metadata": {
    "application/vnd.databricks.v1+cell": {
     "cellMetadata": {
      "byteLimit": 2048000,
      "rowLimit": 10000
     },
     "inputWidgets": {},
     "nuid": "93e6e3ea-4df6-4de0-a77d-ab14f3c2f81c",
     "showTitle": false,
     "tableResultSettingsMap": {},
     "title": ""
    }
   },
   "outputs": [],
   "source": [
    "options(repr.plot.width=1000, repr.plot.height=450,  echo= F)"
   ]
  },
  {
   "cell_type": "code",
   "execution_count": 0,
   "metadata": {
    "application/vnd.databricks.v1+cell": {
     "cellMetadata": {
      "byteLimit": 2048000,
      "rowLimit": 10000
     },
     "inputWidgets": {},
     "nuid": "39028d92-4e0d-46b5-bd0c-7ec94ee4f3b8",
     "showTitle": false,
     "tableResultSettingsMap": {},
     "title": ""
    }
   },
   "outputs": [],
   "source": [
    "dittoPlot(pseudo_AR_filtered, genes_kc, group.by = \"Condition_AR\",\n",
    "    plots = c(\"vlnplot\", \"jitter\"), main = \"Expression in KC\")"
   ]
  },
  {
   "cell_type": "code",
   "execution_count": 0,
   "metadata": {
    "application/vnd.databricks.v1+cell": {
     "cellMetadata": {
      "byteLimit": 2048000,
      "rowLimit": 10000
     },
     "inputWidgets": {},
     "nuid": "a92d4cd7-4b1a-4450-ba2c-11857ac032b6",
     "showTitle": false,
     "tableResultSettingsMap": {},
     "title": ""
    }
   },
   "outputs": [],
   "source": [
    "options(repr.plot.width=500, repr.plot.height=500,  echo= F)"
   ]
  },
  {
   "cell_type": "code",
   "execution_count": 0,
   "metadata": {
    "application/vnd.databricks.v1+cell": {
     "cellMetadata": {
      "byteLimit": 2048000,
      "rowLimit": 10000
     },
     "inputWidgets": {},
     "nuid": "d59c1ea7-3fdd-45df-8c26-713f77964e35",
     "showTitle": false,
     "tableResultSettingsMap": {},
     "title": ""
    }
   },
   "outputs": [],
   "source": [
    "dittoPlot(pseudo_AR_filtered_tc, \"PSMA6\", group.by = \"Condition_AR\",\n",
    "    plots = c(\"vlnplot\", \"jitter\"), main = \"PSMA6 in T cells\")"
   ]
  }
 ],
 "metadata": {
  "application/vnd.databricks.v1+notebook": {
   "computePreferences": null,
   "dashboards": [],
   "environmentMetadata": {
    "base_environment": "",
    "environment_version": "2"
   },
   "inputWidgetPreferences": null,
   "language": "r",
   "notebookMetadata": {
    "pythonIndentUnit": 4
   },
   "notebookName": "genes_violin_dot_plot",
   "widgets": {}
  },
  "language_info": {
   "name": "r"
  }
 },
 "nbformat": 4,
 "nbformat_minor": 0
}
