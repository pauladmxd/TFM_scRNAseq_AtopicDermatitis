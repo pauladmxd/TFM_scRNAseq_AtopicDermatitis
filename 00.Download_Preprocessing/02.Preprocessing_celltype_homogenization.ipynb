{
 "cells": [
  {
   "cell_type": "markdown",
   "metadata": {
    "application/vnd.databricks.v1+cell": {
     "cellMetadata": {},
     "inputWidgets": {},
     "nuid": "e8fbce44-da29-44cf-a243-426eab2a0cd9",
     "showTitle": false,
     "tableResultSettingsMap": {},
     "title": ""
    }
   },
   "source": [
    "#DATASET PREPARATION \n",
    "\n",
    " Here I will change the annotations for the desired scRNA-seq datasets to have a homogeneus annotation and be able to compare all dataset information together. And also to have the relevant information for the study.\n",
    "\n"
   ]
  },
  {
   "cell_type": "markdown",
   "metadata": {
    "application/vnd.databricks.v1+cell": {
     "cellMetadata": {},
     "inputWidgets": {},
     "nuid": "e3f12404-c508-4002-88ac-dadad58aa591",
     "showTitle": false,
     "tableResultSettingsMap": {},
     "title": ""
    }
   },
   "source": [
    "Fisrt, it is important to analyze which are the current annotations in the datasets to see how is it possible to collapse them and make them homogeneus\n",
    "\n",
    "Then, I will remove samples of conditions that are not interesting for my study."
   ]
  },
  {
   "cell_type": "code",
   "execution_count": 0,
   "metadata": {
    "application/vnd.databricks.v1+cell": {
     "cellMetadata": {},
     "inputWidgets": {},
     "nuid": "74fd24f9-f569-4f07-8741-bc582216a1df",
     "showTitle": false,
     "tableResultSettingsMap": {},
     "title": ""
    }
   },
   "outputs": [],
   "source": [
    ".libPaths(c(\"/dbfs/home/jtrincado@almirall.com/my_r_packages/Seurat\", .libPaths()))\n",
    "\n",
    "library(Seurat)\n",
    "library(dittoSeq)\n",
    "library(dplyr)\n",
    "library(openxlsx)"
   ]
  },
  {
   "cell_type": "markdown",
   "metadata": {
    "application/vnd.databricks.v1+cell": {
     "cellMetadata": {},
     "inputWidgets": {},
     "nuid": "ddd9a11c-81b6-4604-abf6-3f867b99d456",
     "showTitle": false,
     "tableResultSettingsMap": {},
     "title": ""
    }
   },
   "source": [
    "## AD/PS Reynolds et al, 2021\n",
    "- Includes lesional and non-lesional samples"
   ]
  },
  {
   "cell_type": "code",
   "execution_count": 0,
   "metadata": {
    "application/vnd.databricks.v1+cell": {
     "cellMetadata": {},
     "inputWidgets": {},
     "nuid": "ea44eb7f-ecc1-4d50-82d4-06f5fa573114",
     "showTitle": false,
     "tableResultSettingsMap": {},
     "title": ""
    }
   },
   "outputs": [],
   "source": [
    "reynolds <- readRDS(file=\"/dbfs/mnt/sandbox/Reynolds/misc/4_obj_processed_allcells.rds\")"
   ]
  },
  {
   "cell_type": "code",
   "execution_count": 0,
   "metadata": {
    "application/vnd.databricks.v1+cell": {
     "cellMetadata": {},
     "inputWidgets": {},
     "nuid": "bb110714-6e40-4c9d-bef2-2cc8d2c62d92",
     "showTitle": false,
     "tableResultSettingsMap": {},
     "title": ""
    }
   },
   "outputs": [],
   "source": [
    "table(reynolds$donor_id, reynolds$Status)"
   ]
  },
  {
   "cell_type": "code",
   "execution_count": 0,
   "metadata": {
    "application/vnd.databricks.v1+cell": {
     "cellMetadata": {},
     "inputWidgets": {},
     "nuid": "2dea5ebb-cdd4-4d7a-b2f4-9c0408f5562a",
     "showTitle": false,
     "tableResultSettingsMap": {},
     "title": ""
    }
   },
   "outputs": [],
   "source": [
    "head(reynolds@meta.data, 5)"
   ]
  },
  {
   "cell_type": "code",
   "execution_count": 0,
   "metadata": {
    "application/vnd.databricks.v1+cell": {
     "cellMetadata": {},
     "inputWidgets": {},
     "nuid": "568afaa0-a3ce-48b1-96b0-79cdf3bf6a94",
     "showTitle": false,
     "tableResultSettingsMap": {},
     "title": ""
    }
   },
   "outputs": [],
   "source": [
    "unique(reynolds$Status)"
   ]
  },
  {
   "cell_type": "code",
   "execution_count": 0,
   "metadata": {
    "application/vnd.databricks.v1+cell": {
     "cellMetadata": {},
     "inputWidgets": {},
     "nuid": "0bef872e-7234-4be4-a9c8-982ff3f7f6b0",
     "showTitle": false,
     "tableResultSettingsMap": {},
     "title": ""
    }
   },
   "outputs": [],
   "source": [
    "reynolds$h_celltype <- gsub(\"Undifferentiated_KC.*|Proliferating_KC|Differentiated_KC.*|Differentiated_KC\", \"KC\", reynolds$final_clustering)\n",
    "reynolds$h_celltype <- gsub(\"Melanocyte\", \"Melanocytes\", reynolds$h_celltype)\n",
    "reynolds$h_celltype <- gsub(\"LC_4|LC_3|LC_1|LC_2\", \"LC\", reynolds$h_celltype)\n",
    "reynolds$h_celltype <- gsub(\"Th|Tc\", \"TC\", reynolds$h_celltype)\n",
    "reynolds$h_celltype <- gsub(\"Treg\", \"Treg\", reynolds$h_celltype)\n",
    "reynolds$h_celltype <- gsub(\"Mono|Inf_mono\", \"Mono\", reynolds$h_celltype)\n",
    "reynolds$h_celltype <- gsub(\"MigDC|moDC_1|moDC_2|moDC_3|DC1|DC2\", \"DC\", reynolds$h_celltype)\n",
    "reynolds$h_celltype <- gsub(\"ILC1_3|ILC1_NK|ILC2\", \"ILC\", reynolds$h_celltype)\n",
    "reynolds$h_celltype <- gsub(\"Macro_1|Macro_2\", \"Macro\", reynolds$h_celltype)\n",
    "reynolds$h_celltype <- gsub(\"Mast_cell\", \"MastC\", reynolds$h_celltype)\n",
    "reynolds$h_celltype <- gsub(\"Pericyte_1_non_inflamm|Pericyte_2_inflamm\", \"Pericyte\", reynolds$h_celltype)\n",
    "reynolds$h_celltype <- gsub(\"Schwann1|Schwann2\", \"Schwann\", reynolds$h_celltype)\n",
    "reynolds$h_celltype <- gsub(\"F1|F2|F3\", \"Fibroblasts\", reynolds$h_celltype)\n",
    "reynolds$h_celltype <- gsub(\"VE1|VE2|VE3\", \"VE\", reynolds$h_celltype)\n",
    "reynolds$h_celltype <- gsub(\"LE1|LE2\", \"LE\", reynolds$h_celltype)"
   ]
  },
  {
   "cell_type": "code",
   "execution_count": 0,
   "metadata": {
    "application/vnd.databricks.v1+cell": {
     "cellMetadata": {},
     "inputWidgets": {},
     "nuid": "d37167fa-bacc-48dc-8c4c-8952ebeae232",
     "showTitle": false,
     "tableResultSettingsMap": {},
     "title": ""
    }
   },
   "outputs": [],
   "source": [
    "options(repr.plot.width=1200, repr.plot.height=1200)\n",
    "DimPlot(reynolds, group.by = \"h_celltype\", label = TRUE)"
   ]
  },
  {
   "cell_type": "code",
   "execution_count": 0,
   "metadata": {
    "application/vnd.databricks.v1+cell": {
     "cellMetadata": {},
     "inputWidgets": {},
     "nuid": "2a196f78-9ae0-4388-a930-29385c8234f7",
     "showTitle": false,
     "tableResultSettingsMap": {},
     "title": ""
    }
   },
   "outputs": [],
   "source": [
    "unique(reynolds$h_celltype)"
   ]
  },
  {
   "cell_type": "markdown",
   "metadata": {
    "application/vnd.databricks.v1+cell": {
     "cellMetadata": {},
     "inputWidgets": {},
     "nuid": "3adcb3ef-1704-4fa5-92fb-c368e9cc68e7",
     "showTitle": false,
     "tableResultSettingsMap": {},
     "title": ""
    }
   },
   "source": [
    "Here we have annotated KC as keratinocytes, Melanocytes,  LC, Fibroblasts, VE (vascular endothelium), ILC (innate) , LE (lymphoid endothelium) , TC (t cells) , Treg (regulatory T cells), Mono (monocytes) ,DC (dendritic cells) , NK,  Pericyte, Macro (macrophagues), Schwann, MastC,   Plasma   "
   ]
  },
  {
   "cell_type": "code",
   "execution_count": 0,
   "metadata": {
    "application/vnd.databricks.v1+cell": {
     "cellMetadata": {},
     "inputWidgets": {},
     "nuid": "f8a42fd8-7f60-4978-9507-19586a697079",
     "showTitle": false,
     "tableResultSettingsMap": {},
     "title": ""
    }
   },
   "outputs": [],
   "source": [
    "unique(reynolds$Status) \n",
    "#In Status we can find to wich condition it belongs, Eczema is AD.\n",
    "desiredR<- c(\"Eczema\", \"Healthy\") #These are the relevant conditions I need"
   ]
  },
  {
   "cell_type": "code",
   "execution_count": 0,
   "metadata": {
    "application/vnd.databricks.v1+cell": {
     "cellMetadata": {},
     "inputWidgets": {},
     "nuid": "8ea1f70c-16e4-4799-af31-0b901e763321",
     "showTitle": false,
     "tableResultSettingsMap": {},
     "title": ""
    }
   },
   "outputs": [],
   "source": [
    "#Subset of the dataset with only AD and HC samples\n",
    "subreynolds <- subset(reynolds,  subset = Status %in% desiredR)"
   ]
  },
  {
   "cell_type": "code",
   "execution_count": 0,
   "metadata": {
    "application/vnd.databricks.v1+cell": {
     "cellMetadata": {},
     "inputWidgets": {},
     "nuid": "8aa11e48-316c-4a28-9940-4eb4b3f2ee67",
     "showTitle": false,
     "tableResultSettingsMap": {},
     "title": ""
    }
   },
   "outputs": [],
   "source": [
    "#Save the dataset for next uses\n",
    "#saveRDS(subreynolds, file=\"/dbfs/mnt/sandbox/TFM_PAULA/REYNOLDS_PROCESSED_TFM.rds\")"
   ]
  },
  {
   "cell_type": "markdown",
   "metadata": {
    "application/vnd.databricks.v1+cell": {
     "cellMetadata": {},
     "inputWidgets": {},
     "nuid": "da716fd7-858f-441c-8684-1dff69a33ebb",
     "showTitle": false,
     "tableResultSettingsMap": {},
     "title": ""
    }
   },
   "source": [
    "##AD/PN – Alkon et al, 2023\n",
    "- Does not include non-lesional samples.\n",
    "- 5 AD, 7 PN, 1 AP (atopic prurigo) and 4 healthy control​​"
   ]
  },
  {
   "cell_type": "code",
   "execution_count": 0,
   "metadata": {
    "application/vnd.databricks.v1+cell": {
     "cellMetadata": {},
     "inputWidgets": {},
     "nuid": "4830fa14-e262-4e69-abaf-2b6335e3af7d",
     "showTitle": false,
     "tableResultSettingsMap": {},
     "title": ""
    }
   },
   "outputs": [],
   "source": [
    "alkon <- readRDS(file =\"/dbfs/mnt/sandbox/AD_PN/Alkon_et_al_2023/misc/1_integrated_obj_annotated.rds\")"
   ]
  },
  {
   "cell_type": "code",
   "execution_count": 0,
   "metadata": {
    "application/vnd.databricks.v1+cell": {
     "cellMetadata": {},
     "inputWidgets": {},
     "nuid": "78cecac9-3fe8-4097-a98d-d0d44201b029",
     "showTitle": false,
     "tableResultSettingsMap": {},
     "title": ""
    }
   },
   "outputs": [],
   "source": [
    "DefaultAssay(alkon) #if it is RNA we have the original counts (important to work with them as there was an integration performed)"
   ]
  },
  {
   "cell_type": "code",
   "execution_count": 0,
   "metadata": {
    "application/vnd.databricks.v1+cell": {
     "cellMetadata": {},
     "inputWidgets": {},
     "nuid": "1073ded7-4480-46c5-8188-b1107a13c927",
     "showTitle": false,
     "tableResultSettingsMap": {},
     "title": ""
    }
   },
   "outputs": [],
   "source": [
    "head(alkon@meta.data, 5)"
   ]
  },
  {
   "cell_type": "code",
   "execution_count": 0,
   "metadata": {
    "application/vnd.databricks.v1+cell": {
     "cellMetadata": {},
     "inputWidgets": {},
     "nuid": "30cff80a-5dd1-4154-bff4-1e3c8b86cb89",
     "showTitle": false,
     "tableResultSettingsMap": {},
     "title": ""
    }
   },
   "outputs": [],
   "source": [
    "alkon$h_celltype <-alkon$cell_population\n",
    "alkon$h_celltype <- gsub(\"21 DC\", \"Plasmacytoid DC\", alkon$h_celltype) # These DC are clustered very separated from myeloid cells, according to literature it may be plasmocytoid DC\n",
    "alkon$h_celltype <- gsub(\"^\\\\d+\\\\s*\", \"\", alkon$h_celltype) # to remove the numbers followed by space"
   ]
  },
  {
   "cell_type": "code",
   "execution_count": 0,
   "metadata": {
    "application/vnd.databricks.v1+cell": {
     "cellMetadata": {},
     "inputWidgets": {},
     "nuid": "02408b60-2a31-4f4d-abf7-75a49e740be1",
     "showTitle": false,
     "tableResultSettingsMap": {},
     "title": ""
    }
   },
   "outputs": [],
   "source": [
    "alkon$h_celltype <- gsub(\"Kt\", \"KC\", alkon$h_celltype)\n",
    "alkon$h_celltype <- gsub(\".*Fb.*\", \"Fibroblasts\", alkon$h_celltype)\n",
    "alkon$h_celltype <- gsub(\"Blood end\", \"Endothelial blood\", alkon$h_celltype)\n",
    "alkon$h_celltype <- gsub(\"Smooth\", \"Smooth Muscle\", alkon$h_celltype)\n",
    "alkon$h_celltype <- gsub(\"Lymph end\", \"LE\", alkon$h_celltype)\n",
    "alkon$h_celltype <- gsub(\"Mel\", \"Melanocytes\", alkon$h_celltype)\n",
    "alkon$h_celltype <- gsub(\"Peric\", \"Pericyte\", alkon$h_celltype)\n",
    "alkon$h_celltype <- gsub(\"Sweat\", \"Sweat Gland\", alkon$h_celltype)\n",
    "alkon$h_celltype <- gsub(\"B\", \"B cells\", alkon$h_celltype)\n",
    "alkon$h_celltype <- gsub(\"Mast\", \"MastC\", alkon$h_celltype)"
   ]
  },
  {
   "cell_type": "code",
   "execution_count": 0,
   "metadata": {
    "application/vnd.databricks.v1+cell": {
     "cellMetadata": {},
     "inputWidgets": {},
     "nuid": "e3138398-6725-4d8f-b94f-159de804ad7b",
     "showTitle": false,
     "tableResultSettingsMap": {},
     "title": ""
    }
   },
   "outputs": [],
   "source": [
    "Idents(alkon) <- alkon$h_celltype"
   ]
  },
  {
   "cell_type": "code",
   "execution_count": 0,
   "metadata": {
    "application/vnd.databricks.v1+cell": {
     "cellMetadata": {},
     "inputWidgets": {},
     "nuid": "07e32430-8a05-40f4-8d33-6d2b81f93e4c",
     "showTitle": false,
     "tableResultSettingsMap": {},
     "title": ""
    }
   },
   "outputs": [],
   "source": [
    "DimPlot(alkon, group.by=\"cell_population_v2\", label = TRUE)"
   ]
  },
  {
   "cell_type": "code",
   "execution_count": 0,
   "metadata": {
    "application/vnd.databricks.v1+cell": {
     "cellMetadata": {},
     "inputWidgets": {},
     "nuid": "17bfd7a6-67dc-4b39-8be9-f67efb55f8a9",
     "showTitle": false,
     "tableResultSettingsMap": {},
     "title": ""
    }
   },
   "outputs": [],
   "source": [
    "DimPlot(alkon, group.by=\"h_celltype\", label = TRUE)"
   ]
  },
  {
   "cell_type": "code",
   "execution_count": 0,
   "metadata": {
    "application/vnd.databricks.v1+cell": {
     "cellMetadata": {},
     "inputWidgets": {},
     "nuid": "7319ca17-bf48-486a-a0f0-fff82bb8983c",
     "showTitle": false,
     "tableResultSettingsMap": {},
     "title": ""
    }
   },
   "outputs": [],
   "source": [
    "unique(alkon$h_celltype)"
   ]
  },
  {
   "cell_type": "markdown",
   "metadata": {
    "application/vnd.databricks.v1+cell": {
     "cellMetadata": {},
     "inputWidgets": {},
     "nuid": "928f397d-45e3-4f90-a04c-db3487577881",
     "showTitle": false,
     "tableResultSettingsMap": {},
     "title": ""
    }
   },
   "source": [
    "### Macro subcluster"
   ]
  },
  {
   "cell_type": "markdown",
   "metadata": {
    "application/vnd.databricks.v1+cell": {
     "cellMetadata": {},
     "inputWidgets": {},
     "nuid": "45d6263c-1332-4d30-9a1d-dafd245d9dbb",
     "showTitle": false,
     "tableResultSettingsMap": {},
     "title": ""
    }
   },
   "source": [
    "I want to do a subcluster in Macro cells to separate them into Macrophagues and monocytes, to make it comparable to the other 2 datasets."
   ]
  },
  {
   "cell_type": "code",
   "execution_count": 0,
   "metadata": {
    "application/vnd.databricks.v1+cell": {
     "cellMetadata": {},
     "inputWidgets": {},
     "nuid": "a814aae3-c4c4-44a2-a8d7-eccc072a28fa",
     "showTitle": false,
     "tableResultSettingsMap": {},
     "title": ""
    }
   },
   "outputs": [],
   "source": [
    "subset_macro <- subset(alkon, idents = \"Macro\") #First a subset with only macro cells"
   ]
  },
  {
   "cell_type": "markdown",
   "metadata": {
    "application/vnd.databricks.v1+cell": {
     "cellMetadata": {},
     "inputWidgets": {},
     "nuid": "7985ebee-f2f7-4b3d-9f88-e58c79859a66",
     "showTitle": false,
     "tableResultSettingsMap": {},
     "title": ""
    }
   },
   "source": [
    "Now it has to be performed the **normalization and dimentionality reduction** again in the subset to be able to subcluster this cell type."
   ]
  },
  {
   "cell_type": "code",
   "execution_count": 0,
   "metadata": {
    "application/vnd.databricks.v1+cell": {
     "cellMetadata": {},
     "inputWidgets": {},
     "nuid": "fffa00e8-3df1-4aa2-94d1-410bfabf54d1",
     "showTitle": false,
     "tableResultSettingsMap": {},
     "title": ""
    }
   },
   "outputs": [],
   "source": [
    "subset_macro <- NormalizeData(subset_macro, normalization.method = \"LogNormalize\", scale.factor = 10000) #default values\n"
   ]
  },
  {
   "cell_type": "code",
   "execution_count": 0,
   "metadata": {
    "application/vnd.databricks.v1+cell": {
     "cellMetadata": {},
     "inputWidgets": {},
     "nuid": "39cfb016-760e-4ff6-9df8-a0adea4187d7",
     "showTitle": false,
     "tableResultSettingsMap": {},
     "title": ""
    }
   },
   "outputs": [],
   "source": [
    "Idents(subset_macro) <- subset_macro$h_celltype"
   ]
  },
  {
   "cell_type": "code",
   "execution_count": 0,
   "metadata": {
    "application/vnd.databricks.v1+cell": {
     "cellMetadata": {},
     "inputWidgets": {},
     "nuid": "acec5d21-1daa-494e-bf11-61d904c7cedd",
     "showTitle": false,
     "tableResultSettingsMap": {},
     "title": ""
    }
   },
   "outputs": [],
   "source": [
    "subset_macro <- FindVariableFeatures(subset_macro, selection.method = \"vst\", nfeatures = 2000)\n",
    "\n",
    "# # Identify the 10 most highly variable genes\n",
    "# top10 <- head(VariableFeatures(subset_macro), 10)\n",
    "\n",
    "# # plot variable features with labels\n",
    "# plot2 <- LabelPoints(plot = plot1, points = top10, repel = TRUE)\n",
    "# plot2"
   ]
  },
  {
   "cell_type": "code",
   "execution_count": 0,
   "metadata": {
    "application/vnd.databricks.v1+cell": {
     "cellMetadata": {},
     "inputWidgets": {},
     "nuid": "0b2ab1d4-d317-4e48-9cd0-59f2ca8364af",
     "showTitle": false,
     "tableResultSettingsMap": {},
     "title": ""
    }
   },
   "outputs": [],
   "source": [
    "#Scale data\n",
    "all.genes <- rownames(subset_macro)\n",
    "subset_macro <- ScaleData(subset_macro, features = all.genes) # si fuera un objeto muy grande tarda menos poner los high variable features"
   ]
  },
  {
   "cell_type": "code",
   "execution_count": 0,
   "metadata": {
    "application/vnd.databricks.v1+cell": {
     "cellMetadata": {},
     "inputWidgets": {},
     "nuid": "1281c9d7-8933-4c8b-a85e-26062ecf37b1",
     "showTitle": false,
     "tableResultSettingsMap": {},
     "title": ""
    }
   },
   "outputs": [],
   "source": [
    "#Linear dimensionality reduction\n",
    "subset_macro <- RunPCA(subset_macro, features = VariableFeatures(object = subset_macro))\n"
   ]
  },
  {
   "cell_type": "code",
   "execution_count": 0,
   "metadata": {
    "application/vnd.databricks.v1+cell": {
     "cellMetadata": {},
     "inputWidgets": {},
     "nuid": "a62e7ccf-04b1-43d9-84c3-b531e9a1ab26",
     "showTitle": false,
     "tableResultSettingsMap": {},
     "title": ""
    }
   },
   "outputs": [],
   "source": [
    "ElbowPlot(subset_macro) #I just want 2 subclusters for macrophages and monocytes\n"
   ]
  },
  {
   "cell_type": "markdown",
   "metadata": {
    "application/vnd.databricks.v1+cell": {
     "cellMetadata": {},
     "inputWidgets": {},
     "nuid": "edbe5083-099e-4956-ade0-f17ddc50c773",
     "showTitle": false,
     "tableResultSettingsMap": {},
     "title": ""
    }
   },
   "source": [
    "Find new clusters"
   ]
  },
  {
   "cell_type": "code",
   "execution_count": 0,
   "metadata": {
    "application/vnd.databricks.v1+cell": {
     "cellMetadata": {},
     "inputWidgets": {},
     "nuid": "b6bd7e3c-d840-4462-adb7-949d707a12bb",
     "showTitle": false,
     "tableResultSettingsMap": {},
     "title": ""
    }
   },
   "outputs": [],
   "source": [
    "subset_macro <- FindNeighbors(subset_macro, dims = 1:20)\n",
    "subset_macro <- FindClusters(subset_macro, resolution = 0.03) #Use the seurat function to find new clusters"
   ]
  },
  {
   "cell_type": "markdown",
   "metadata": {
    "application/vnd.databricks.v1+cell": {
     "cellMetadata": {},
     "inputWidgets": {},
     "nuid": "66a498e1-c2ed-41ad-b8f0-191ad86bb6a5",
     "showTitle": false,
     "tableResultSettingsMap": {},
     "title": ""
    }
   },
   "source": [
    "Recompute UMAP with new clusters to see if they are correctly separated"
   ]
  },
  {
   "cell_type": "code",
   "execution_count": 0,
   "metadata": {
    "application/vnd.databricks.v1+cell": {
     "cellMetadata": {},
     "inputWidgets": {},
     "nuid": "98a35d22-7aed-4305-bdda-9af61478c3d2",
     "showTitle": false,
     "tableResultSettingsMap": {},
     "title": ""
    }
   },
   "outputs": [],
   "source": [
    "#Recompute UMAP\n",
    "subset_macro <- RunUMAP(subset_macro, dims = 1:20)"
   ]
  },
  {
   "cell_type": "code",
   "execution_count": 0,
   "metadata": {
    "application/vnd.databricks.v1+cell": {
     "cellMetadata": {},
     "inputWidgets": {},
     "nuid": "377b0286-9b06-4df5-8086-a43f511d7fbf",
     "showTitle": false,
     "tableResultSettingsMap": {},
     "title": ""
    }
   },
   "outputs": [],
   "source": [
    "DimPlot(subset_macro, reduction = \"umap\", group.by = \"seurat_clusters\")"
   ]
  },
  {
   "cell_type": "markdown",
   "metadata": {
    "application/vnd.databricks.v1+cell": {
     "cellMetadata": {},
     "inputWidgets": {},
     "nuid": "699b1684-0059-4524-8735-c22783015b5c",
     "showTitle": false,
     "tableResultSettingsMap": {},
     "title": ""
    }
   },
   "source": [
    "Chenking in PanglaoDB I look for the common markers of Macro and Mono\n",
    "\n",
    "**Macro**: CD68, NAA, JAML, TYROBP --> _TOP in panglao by votes (not high UI markers for this cell type)_,\n",
    "\n",
    "**Mono**: RHOC, IFITM3, ZFP36L2,--> _markers with higher UI (ubiquitinous index, the specificity of these marker only in this cluster),_ \n",
    "\n",
    "** As it was so difficult to differentiate I also search markers in:\n",
    "- https://www.frontiersin.org/journals/immunology/articles/10.3389/fimmu.2014.00514/full\n",
    "- https://epigeneticsandchromatin.biomedcentral.com/articles/10.1186/s13072-019-0279-4 \n",
    "- https://www.oaepublish.com/articles/2574-1209.2019.04"
   ]
  },
  {
   "cell_type": "code",
   "execution_count": 0,
   "metadata": {
    "application/vnd.databricks.v1+cell": {
     "cellMetadata": {},
     "inputWidgets": {},
     "nuid": "d5b50ce9-da5c-4f06-8f38-94eb1244dd62",
     "showTitle": false,
     "tableResultSettingsMap": {},
     "title": ""
    }
   },
   "outputs": [],
   "source": [
    "options(repr.plot.width=1200, repr.plot.height=1200)\n",
    "\n",
    "DotPlot(subset_macro, features = c(\"CD68\", \"NAA\", \"JAML\",\"TYROBP\",\"RHOC\", \"IFITM3\", \"ZFP36L2\"), group.by = \"seurat_clusters\")"
   ]
  },
  {
   "cell_type": "markdown",
   "metadata": {
    "application/vnd.databricks.v1+cell": {
     "cellMetadata": {},
     "inputWidgets": {},
     "nuid": "a882c906-3420-472d-ad32-eedf34758a0a",
     "showTitle": false,
     "tableResultSettingsMap": {},
     "title": ""
    }
   },
   "source": [
    "Now it is necessary to update the annotation with the new subclusters"
   ]
  },
  {
   "cell_type": "code",
   "execution_count": 0,
   "metadata": {
    "application/vnd.databricks.v1+cell": {
     "cellMetadata": {},
     "inputWidgets": {},
     "nuid": "ca9f8b6c-b854-4ee3-be92-bd2980e38216",
     "showTitle": false,
     "tableResultSettingsMap": {},
     "title": ""
    }
   },
   "outputs": [],
   "source": [
    "#New annotation \n",
    "new.cluster.ids.macro <- c(\"Macro\", \"Mono\")\n",
    "names(new.cluster.ids.macro) <- levels(subset_macro)\n",
    "subset_macro <- RenameIdents(subset_macro, new.cluster.ids.macro)"
   ]
  },
  {
   "cell_type": "code",
   "execution_count": 0,
   "metadata": {
    "application/vnd.databricks.v1+cell": {
     "cellMetadata": {},
     "inputWidgets": {},
     "nuid": "cd3dc1ff-f525-4264-9d06-f8b0d24554d0",
     "showTitle": false,
     "tableResultSettingsMap": {},
     "title": ""
    }
   },
   "outputs": [],
   "source": [
    "table(Idents(subset_macro))"
   ]
  },
  {
   "cell_type": "code",
   "execution_count": 0,
   "metadata": {
    "application/vnd.databricks.v1+cell": {
     "cellMetadata": {},
     "inputWidgets": {},
     "nuid": "ca721f58-127c-469e-a9b3-301d4b0efd4a",
     "showTitle": false,
     "tableResultSettingsMap": {},
     "title": ""
    }
   },
   "outputs": [],
   "source": [
    "subset_macro$h_celltype <- Idents(subset_macro) # Assign the new annotation to the celltypes in the subset\n",
    "unique(subset_macro$h_celltype)"
   ]
  },
  {
   "cell_type": "code",
   "execution_count": 0,
   "metadata": {
    "application/vnd.databricks.v1+cell": {
     "cellMetadata": {},
     "inputWidgets": {},
     "nuid": "faa3c10c-d48d-43b6-9926-0aa933f4720e",
     "showTitle": false,
     "tableResultSettingsMap": {},
     "title": ""
    }
   },
   "outputs": [],
   "source": [
    "last_anno_macro <- as.character(alkon$h_celltype) # we have to save it as a character because it was a factor, and if not, it would not take the names correctly, it would save the factor name (1 and 2)\n",
    "table(last_anno_macro)"
   ]
  },
  {
   "cell_type": "code",
   "execution_count": 0,
   "metadata": {
    "application/vnd.databricks.v1+cell": {
     "cellMetadata": {},
     "inputWidgets": {},
     "nuid": "c4497ea5-bdb1-4da6-90e4-9495b586af25",
     "showTitle": false,
     "tableResultSettingsMap": {},
     "title": ""
    }
   },
   "outputs": [],
   "source": [
    "subset_macro$h_celltype <- Idents(subset_macro)"
   ]
  },
  {
   "cell_type": "code",
   "execution_count": 0,
   "metadata": {
    "application/vnd.databricks.v1+cell": {
     "cellMetadata": {},
     "inputWidgets": {},
     "nuid": "9e8779fc-865c-4521-9457-44a9bbf6d47b",
     "showTitle": false,
     "tableResultSettingsMap": {},
     "title": ""
    }
   },
   "outputs": [],
   "source": [
    "last_anno_macro[which(colnames(alkon)%in%colnames(subset_macro))] <- as.character(subset_macro$h_celltype) #here the new annotation is assigned to the cells that were in the last annotation and now are in the subset\n",
    "table(last_anno_macro)"
   ]
  },
  {
   "cell_type": "code",
   "execution_count": 0,
   "metadata": {
    "application/vnd.databricks.v1+cell": {
     "cellMetadata": {},
     "inputWidgets": {},
     "nuid": "af442aed-5e29-42e3-9127-d274e5b5788b",
     "showTitle": false,
     "tableResultSettingsMap": {},
     "title": ""
    }
   },
   "outputs": [],
   "source": [
    "#New annotations does not have the names, so I add them manually\n",
    "alkon$h_celltype <- gsub(\"1\", \"Macro\", alkon$h_celltype)\n",
    "alkon$h_celltype <- gsub(\"2\", \"Mono\", alkon$h_celltype)"
   ]
  },
  {
   "cell_type": "code",
   "execution_count": 0,
   "metadata": {
    "application/vnd.databricks.v1+cell": {
     "cellMetadata": {},
     "inputWidgets": {},
     "nuid": "57e02294-b16f-437f-b862-dc8bd50e6b8b",
     "showTitle": false,
     "tableResultSettingsMap": {},
     "title": ""
    }
   },
   "outputs": [],
   "source": [
    "#Now finally the cell types are updated in the original object\n",
    "names(last_anno_macro) <- colnames(alkon)\n",
    "alkon <- AddMetaData(alkon, last_anno_macro, col.name=\"h_celltype_v2\")\n",
    "table(alkon$h_celltype_v2) #to check"
   ]
  },
  {
   "cell_type": "code",
   "execution_count": 0,
   "metadata": {
    "application/vnd.databricks.v1+cell": {
     "cellMetadata": {},
     "inputWidgets": {},
     "nuid": "e306a7d4-3b41-494c-91ab-af63efcf999c",
     "showTitle": false,
     "tableResultSettingsMap": {},
     "title": ""
    }
   },
   "outputs": [],
   "source": [
    "unique(alkon$h_celltype) #to check"
   ]
  },
  {
   "cell_type": "code",
   "execution_count": 0,
   "metadata": {
    "application/vnd.databricks.v1+cell": {
     "cellMetadata": {},
     "inputWidgets": {},
     "nuid": "e6cfdd6e-153a-49a9-bfa3-8d40619860a9",
     "showTitle": false,
     "tableResultSettingsMap": {},
     "title": ""
    }
   },
   "outputs": [],
   "source": [
    "options(repr.plot.width=1600, repr.plot.height=1200)\n",
    "DimPlot(alkon, group.by=\"h_celltype\", label = TRUE) + DimPlot(alkon, group.by=\"h_celltype_v2\", label = TRUE)"
   ]
  },
  {
   "cell_type": "code",
   "execution_count": 0,
   "metadata": {
    "application/vnd.databricks.v1+cell": {
     "cellMetadata": {},
     "inputWidgets": {},
     "nuid": "60d44991-e8bc-4bd9-a57c-836e31de689d",
     "showTitle": false,
     "tableResultSettingsMap": {},
     "title": ""
    }
   },
   "outputs": [],
   "source": [
    "table(alkon@meta.data$Condition, alkon@meta.data$h_celltype_v2)"
   ]
  },
  {
   "cell_type": "markdown",
   "metadata": {
    "application/vnd.databricks.v1+cell": {
     "cellMetadata": {},
     "inputWidgets": {},
     "nuid": "09a64f97-d4d7-4674-ac28-d31868898593",
     "showTitle": false,
     "tableResultSettingsMap": {},
     "title": ""
    }
   },
   "source": [
    "### NK/CD8+ subcluster\n",
    "Same procedure as before"
   ]
  },
  {
   "cell_type": "code",
   "execution_count": 0,
   "metadata": {
    "application/vnd.databricks.v1+cell": {
     "cellMetadata": {},
     "inputWidgets": {},
     "nuid": "124a96c9-9a43-420b-addd-a9dc430dae20",
     "showTitle": false,
     "tableResultSettingsMap": {},
     "title": ""
    }
   },
   "outputs": [],
   "source": [
    "subset_nk <- subset(alkon, idents = \"CD8/NK\") #First a subset with only NK/CD8+ cells"
   ]
  },
  {
   "cell_type": "code",
   "execution_count": 0,
   "metadata": {
    "application/vnd.databricks.v1+cell": {
     "cellMetadata": {},
     "inputWidgets": {},
     "nuid": "159d0adc-df3b-4d49-8629-dad584cd5dee",
     "showTitle": false,
     "tableResultSettingsMap": {},
     "title": ""
    }
   },
   "outputs": [],
   "source": [
    "subset_nk <- NormalizeData(subset_nk, normalization.method = \"LogNormalize\", scale.factor = 10000) #default values\n"
   ]
  },
  {
   "cell_type": "code",
   "execution_count": 0,
   "metadata": {
    "application/vnd.databricks.v1+cell": {
     "cellMetadata": {},
     "inputWidgets": {},
     "nuid": "97772554-130c-418c-9967-74327bf05243",
     "showTitle": false,
     "tableResultSettingsMap": {},
     "title": ""
    }
   },
   "outputs": [],
   "source": [
    "subset_nk <- FindVariableFeatures(subset_nk, selection.method = \"vst\", nfeatures = 2000)\n",
    "\n",
    "# # Identify the 10 most highly variable genes\n",
    "top10 <- head(VariableFeatures(subset_nk), 10)\n",
    "top10\n",
    "# # plot variable features with labels\n",
    "# plot2 <- LabelPoints(plot = plot1, points = top10, repel = TRUE)\n",
    "# plot2"
   ]
  },
  {
   "cell_type": "code",
   "execution_count": 0,
   "metadata": {
    "application/vnd.databricks.v1+cell": {
     "cellMetadata": {},
     "inputWidgets": {},
     "nuid": "00bdb21b-a4a2-490c-a87c-819565c1caa8",
     "showTitle": false,
     "tableResultSettingsMap": {},
     "title": ""
    }
   },
   "outputs": [],
   "source": [
    "#Scale data\n",
    "all.genes <- rownames(subset_nk)\n",
    "subset_nk <- ScaleData(subset_nk, features = all.genes)"
   ]
  },
  {
   "cell_type": "code",
   "execution_count": 0,
   "metadata": {
    "application/vnd.databricks.v1+cell": {
     "cellMetadata": {},
     "inputWidgets": {},
     "nuid": "fbe98869-5ac2-4cbc-8950-83b5138ebc8f",
     "showTitle": false,
     "tableResultSettingsMap": {},
     "title": ""
    }
   },
   "outputs": [],
   "source": [
    "subset_nk <- RunPCA(subset_nk, features = VariableFeatures(object = subset_nk))"
   ]
  },
  {
   "cell_type": "code",
   "execution_count": 0,
   "metadata": {
    "application/vnd.databricks.v1+cell": {
     "cellMetadata": {},
     "inputWidgets": {},
     "nuid": "40e962a8-7b91-472a-a65d-b7e2cc621591",
     "showTitle": false,
     "tableResultSettingsMap": {},
     "title": ""
    }
   },
   "outputs": [],
   "source": [
    "ElbowPlot(subset_nk)"
   ]
  },
  {
   "cell_type": "code",
   "execution_count": 0,
   "metadata": {
    "application/vnd.databricks.v1+cell": {
     "cellMetadata": {},
     "inputWidgets": {},
     "nuid": "613bb657-bec9-4ce1-bec5-75462c7322d0",
     "showTitle": false,
     "tableResultSettingsMap": {},
     "title": ""
    }
   },
   "outputs": [],
   "source": [
    "subset_nk <- FindNeighbors(subset_nk, dims = 1:20)\n",
    "subset_nk <- FindClusters(subset_nk, resolution = 0.05) #Use the seurat function to find new clusters"
   ]
  },
  {
   "cell_type": "markdown",
   "metadata": {
    "application/vnd.databricks.v1+cell": {
     "cellMetadata": {},
     "inputWidgets": {},
     "nuid": "5a888bfa-06bc-4c0e-b19d-80e69d970258",
     "showTitle": false,
     "tableResultSettingsMap": {},
     "title": ""
    }
   },
   "source": [
    "Recompute UMAP"
   ]
  },
  {
   "cell_type": "code",
   "execution_count": 0,
   "metadata": {
    "application/vnd.databricks.v1+cell": {
     "cellMetadata": {},
     "inputWidgets": {},
     "nuid": "07b771d6-353d-4db5-9b83-585b1bbf796b",
     "showTitle": false,
     "tableResultSettingsMap": {},
     "title": ""
    }
   },
   "outputs": [],
   "source": [
    "#Recompute UMAP\n",
    "subset_nk <- RunUMAP(subset_nk, dims = 1:20)"
   ]
  },
  {
   "cell_type": "code",
   "execution_count": 0,
   "metadata": {
    "application/vnd.databricks.v1+cell": {
     "cellMetadata": {},
     "inputWidgets": {},
     "nuid": "cbea370a-8133-4afc-83bc-c89fbf981e6b",
     "showTitle": false,
     "tableResultSettingsMap": {},
     "title": ""
    }
   },
   "outputs": [],
   "source": [
    "DimPlot(subset_nk, reduction = \"umap\", group.by = \"seurat_clusters\")"
   ]
  },
  {
   "cell_type": "markdown",
   "metadata": {
    "application/vnd.databricks.v1+cell": {
     "cellMetadata": {},
     "inputWidgets": {},
     "nuid": "e026ad1a-b38f-408d-8e23-1ed1cac6ee76",
     "showTitle": false,
     "tableResultSettingsMap": {},
     "title": ""
    }
   },
   "source": [
    "In PanglaoDB I look for the common markers of NK and CD8 cells\n",
    "\n",
    "NK: TRDC, NKG7, KLRD1, KLRF1 \n",
    "\n",
    "T-cytotoxic (CD8): CD8A, TRAC, GZMB, PRF1"
   ]
  },
  {
   "cell_type": "code",
   "execution_count": 0,
   "metadata": {
    "application/vnd.databricks.v1+cell": {
     "cellMetadata": {},
     "inputWidgets": {},
     "nuid": "5780685b-51ef-43db-aafc-74fc94c0bfe1",
     "showTitle": false,
     "tableResultSettingsMap": {},
     "title": ""
    }
   },
   "outputs": [],
   "source": [
    "options(repr.plot.width=1200, repr.plot.height=1200)\n",
    "\n",
    "DotPlot(subset_nk, features = c(\"KLRD1\", \"KLRF1\", \"TRDC\", \"NKG7\", \"CD8A\", \"TRAC\", \"GZMB\", \"PRF1\"), group.by = \"seurat_clusters\")"
   ]
  },
  {
   "cell_type": "code",
   "execution_count": 0,
   "metadata": {
    "application/vnd.databricks.v1+cell": {
     "cellMetadata": {},
     "inputWidgets": {},
     "nuid": "d1da5267-b768-4c3b-b136-f95edca1816b",
     "showTitle": false,
     "tableResultSettingsMap": {},
     "title": ""
    }
   },
   "outputs": [],
   "source": [
    "#New annotation \n",
    "new.cluster.ids.nk <- c(\"TC\", \"NK\")\n",
    "names(new.cluster.ids.nk) <- levels(subset_nk)\n",
    "subset_nk <- RenameIdents(subset_nk, new.cluster.ids.nk)"
   ]
  },
  {
   "cell_type": "code",
   "execution_count": 0,
   "metadata": {
    "application/vnd.databricks.v1+cell": {
     "cellMetadata": {},
     "inputWidgets": {},
     "nuid": "49b96c3d-18cc-43ae-9434-71a206ae2fe9",
     "showTitle": false,
     "tableResultSettingsMap": {},
     "title": ""
    }
   },
   "outputs": [],
   "source": [
    "table(Idents(subset_nk))"
   ]
  },
  {
   "cell_type": "code",
   "execution_count": 0,
   "metadata": {
    "application/vnd.databricks.v1+cell": {
     "cellMetadata": {},
     "inputWidgets": {},
     "nuid": "e9d19f7a-ee51-4520-9daa-d64a4aaacd96",
     "showTitle": false,
     "tableResultSettingsMap": {},
     "title": ""
    }
   },
   "outputs": [],
   "source": [
    "subset_nk$h_celltype <- Idents(subset_nk) # Assign the new annotation to the celltypes in the subset\n",
    "unique(subset_nk$h_celltype)"
   ]
  },
  {
   "cell_type": "code",
   "execution_count": 0,
   "metadata": {
    "application/vnd.databricks.v1+cell": {
     "cellMetadata": {},
     "inputWidgets": {},
     "nuid": "331c91b5-6d16-4afa-875c-8d28d8e4df39",
     "showTitle": false,
     "tableResultSettingsMap": {},
     "title": ""
    }
   },
   "outputs": [],
   "source": [
    "subset_nk$h_celltype <- Idents(subset_nk)\n",
    "# Update the main dataset with new annotations\n",
    "alkon$h_celltype[names(subset_nk$h_celltype)] <- subset_nk$h_celltype"
   ]
  },
  {
   "cell_type": "code",
   "execution_count": 0,
   "metadata": {
    "application/vnd.databricks.v1+cell": {
     "cellMetadata": {},
     "inputWidgets": {},
     "nuid": "b95bb0e3-1bbb-471b-b843-50d457e023c8",
     "showTitle": false,
     "tableResultSettingsMap": {},
     "title": ""
    }
   },
   "outputs": [],
   "source": [
    "last_anno_nk <- as.character(alkon$h_celltype_v2)\n",
    "table(last_anno_nk)"
   ]
  },
  {
   "cell_type": "code",
   "execution_count": 0,
   "metadata": {
    "application/vnd.databricks.v1+cell": {
     "cellMetadata": {},
     "inputWidgets": {},
     "nuid": "01003c34-afef-4b40-9977-783886746f11",
     "showTitle": false,
     "tableResultSettingsMap": {},
     "title": ""
    }
   },
   "outputs": [],
   "source": [
    "last_anno_nk[which(colnames(alkon)%in%colnames(subset_nk))] <- as.character(subset_nk$h_celltype)\n",
    "table(last_anno_nk)"
   ]
  },
  {
   "cell_type": "code",
   "execution_count": 0,
   "metadata": {
    "application/vnd.databricks.v1+cell": {
     "cellMetadata": {},
     "inputWidgets": {},
     "nuid": "39b6f862-657b-46f6-b038-f3b49fbbf034",
     "showTitle": false,
     "tableResultSettingsMap": {},
     "title": ""
    }
   },
   "outputs": [],
   "source": [
    "names(last_anno_nk) <- colnames(alkon)\n",
    "alkon <- AddMetaData(alkon, last_anno_nk, col.name=\"h_celltype_v3\")\n",
    "table(alkon$h_celltype_v3)"
   ]
  },
  {
   "cell_type": "code",
   "execution_count": 0,
   "metadata": {
    "application/vnd.databricks.v1+cell": {
     "cellMetadata": {},
     "inputWidgets": {},
     "nuid": "db6c73f1-9476-4321-9169-feee79cf69e3",
     "showTitle": false,
     "tableResultSettingsMap": {},
     "title": ""
    }
   },
   "outputs": [],
   "source": [
    "options(repr.plot.width=1600, repr.plot.height=1200)\n",
    "DimPlot(alkon, group.by=\"h_celltype_v2\", label=T) + DimPlot(alkon, group.by=\"h_celltype_v3\", label=T)"
   ]
  },
  {
   "cell_type": "code",
   "execution_count": 0,
   "metadata": {
    "application/vnd.databricks.v1+cell": {
     "cellMetadata": {},
     "inputWidgets": {},
     "nuid": "9cd89389-de55-40c1-abb2-949231b877b9",
     "showTitle": false,
     "tableResultSettingsMap": {},
     "title": ""
    }
   },
   "outputs": [],
   "source": [
    "DimPlot(alkon, group.by=\"h_celltype_v2\", label=T)"
   ]
  },
  {
   "cell_type": "code",
   "execution_count": 0,
   "metadata": {
    "application/vnd.databricks.v1+cell": {
     "cellMetadata": {},
     "inputWidgets": {},
     "nuid": "25d3c20e-6f2e-4b4d-932b-3c040ae750b2",
     "showTitle": false,
     "tableResultSettingsMap": {},
     "title": ""
    }
   },
   "outputs": [],
   "source": [
    "#New annotations does not have the names, so I add them manually\n",
    "alkon$h_celltype <- gsub(\"1\", \"Tcit\", alkon$h_celltype)\n",
    "alkon$h_celltype <- gsub(\"2\", \"NK\", alkon$h_celltype)"
   ]
  },
  {
   "cell_type": "code",
   "execution_count": 0,
   "metadata": {
    "application/vnd.databricks.v1+cell": {
     "cellMetadata": {},
     "inputWidgets": {},
     "nuid": "807027b7-b5ca-4670-a95f-82f1ebad9f96",
     "showTitle": false,
     "tableResultSettingsMap": {},
     "title": ""
    }
   },
   "outputs": [],
   "source": [
    "DimPlot(alkon, group.by=\"h_celltype\", label = TRUE)"
   ]
  },
  {
   "cell_type": "markdown",
   "metadata": {
    "application/vnd.databricks.v1+cell": {
     "cellMetadata": {},
     "inputWidgets": {},
     "nuid": "9d73c9f1-6ced-40c3-bd07-ef1f318ed8c2",
     "showTitle": false,
     "tableResultSettingsMap": {},
     "title": ""
    }
   },
   "source": [
    "###CD4+/Treg subcluster"
   ]
  },
  {
   "cell_type": "code",
   "execution_count": 0,
   "metadata": {
    "application/vnd.databricks.v1+cell": {
     "cellMetadata": {},
     "inputWidgets": {},
     "nuid": "2475cf73-518e-4a24-bd09-457bb59c55ac",
     "showTitle": false,
     "tableResultSettingsMap": {},
     "title": ""
    }
   },
   "outputs": [],
   "source": [
    "subset_cd4 <- subset(alkon, idents = \"CD4/Treg\") #First a subset with only CD4+/Treg cells"
   ]
  },
  {
   "cell_type": "code",
   "execution_count": 0,
   "metadata": {
    "application/vnd.databricks.v1+cell": {
     "cellMetadata": {},
     "inputWidgets": {},
     "nuid": "9597e200-9fd7-4fcb-8fe9-b5d0612cff31",
     "showTitle": false,
     "tableResultSettingsMap": {},
     "title": ""
    }
   },
   "outputs": [],
   "source": [
    "subset_cd4 <- NormalizeData(subset_cd4, normalization.method = \"LogNormalize\", scale.factor = 10000) #default values\n"
   ]
  },
  {
   "cell_type": "code",
   "execution_count": 0,
   "metadata": {
    "application/vnd.databricks.v1+cell": {
     "cellMetadata": {},
     "inputWidgets": {},
     "nuid": "2d797ca4-449f-4f05-9b02-0e59341f88be",
     "showTitle": false,
     "tableResultSettingsMap": {},
     "title": ""
    }
   },
   "outputs": [],
   "source": [
    "subset_cd4 <- FindVariableFeatures(subset_cd4, selection.method = \"vst\", nfeatures = 2000)\n",
    "\n",
    "# # Identify the 10 most highly variable genes\n",
    "top10 <- head(VariableFeatures(subset_cd4), 10)\n",
    "top10\n",
    "# # plot variable features with labels\n",
    "# plot2 <- LabelPoints(plot = plot1, points = top10, repel = TRUE)\n",
    "# plot2"
   ]
  },
  {
   "cell_type": "code",
   "execution_count": 0,
   "metadata": {
    "application/vnd.databricks.v1+cell": {
     "cellMetadata": {},
     "inputWidgets": {},
     "nuid": "49ea1895-998e-4a77-a31c-97ee7fbece5d",
     "showTitle": false,
     "tableResultSettingsMap": {},
     "title": ""
    }
   },
   "outputs": [],
   "source": [
    "#Scale data\n",
    "all.genes <- rownames(subset_cd4)\n",
    "subset_cd4 <- ScaleData(subset_cd4, features = all.genes)"
   ]
  },
  {
   "cell_type": "code",
   "execution_count": 0,
   "metadata": {
    "application/vnd.databricks.v1+cell": {
     "cellMetadata": {},
     "inputWidgets": {},
     "nuid": "185001bc-5fcf-4b6c-b1a7-389fffcbffa5",
     "showTitle": false,
     "tableResultSettingsMap": {},
     "title": ""
    }
   },
   "outputs": [],
   "source": [
    "subset_cd4 <- RunPCA(subset_cd4, features = VariableFeatures(object = subset_cd4))"
   ]
  },
  {
   "cell_type": "code",
   "execution_count": 0,
   "metadata": {
    "application/vnd.databricks.v1+cell": {
     "cellMetadata": {},
     "inputWidgets": {},
     "nuid": "69a896a4-121b-4d6d-815b-86f65476e0d2",
     "showTitle": false,
     "tableResultSettingsMap": {},
     "title": ""
    }
   },
   "outputs": [],
   "source": [
    "ElbowPlot(subset_cd4)"
   ]
  },
  {
   "cell_type": "code",
   "execution_count": 0,
   "metadata": {
    "application/vnd.databricks.v1+cell": {
     "cellMetadata": {},
     "inputWidgets": {},
     "nuid": "dd92caea-ed8a-4726-8b04-9e4da976efc3",
     "showTitle": false,
     "tableResultSettingsMap": {},
     "title": ""
    }
   },
   "outputs": [],
   "source": [
    "subset_cd4 <- FindNeighbors(subset_cd4, dims = 1:20)\n",
    "subset_cd4 <- FindClusters(subset_cd4, resolution = 0.03) #Use the seurat function to find new clusters"
   ]
  },
  {
   "cell_type": "markdown",
   "metadata": {
    "application/vnd.databricks.v1+cell": {
     "cellMetadata": {},
     "inputWidgets": {},
     "nuid": "a184e7ac-3310-462a-9f6a-d0199030e755",
     "showTitle": false,
     "tableResultSettingsMap": {},
     "title": ""
    }
   },
   "source": [
    "Recompute UMAP"
   ]
  },
  {
   "cell_type": "code",
   "execution_count": 0,
   "metadata": {
    "application/vnd.databricks.v1+cell": {
     "cellMetadata": {},
     "inputWidgets": {},
     "nuid": "a0f4b117-a0f5-417a-b311-cf578a72f9e5",
     "showTitle": false,
     "tableResultSettingsMap": {},
     "title": ""
    }
   },
   "outputs": [],
   "source": [
    "#Recompute UMAP\n",
    "subset_cd4 <- RunUMAP(subset_cd4, dims = 1:20)"
   ]
  },
  {
   "cell_type": "code",
   "execution_count": 0,
   "metadata": {
    "application/vnd.databricks.v1+cell": {
     "cellMetadata": {},
     "inputWidgets": {},
     "nuid": "1c57ab22-fa35-47ef-bde0-f730cb93927a",
     "showTitle": false,
     "tableResultSettingsMap": {},
     "title": ""
    }
   },
   "outputs": [],
   "source": [
    "DimPlot(subset_cd4, reduction = \"umap\", group.by = \"seurat_clusters\")"
   ]
  },
  {
   "cell_type": "markdown",
   "metadata": {
    "application/vnd.databricks.v1+cell": {
     "cellMetadata": {},
     "inputWidgets": {},
     "nuid": "079202e7-2fd7-41a7-bf81-f8e5273cdb3c",
     "showTitle": false,
     "tableResultSettingsMap": {},
     "title": ""
    }
   },
   "source": [
    "In PanglaoDB I look for the common markers of Treg and Th cells\n",
    "\n",
    "Treg: FOXP3, IL2RA, CTLA4, IKZF2 \n",
    "\n",
    "Th: IL7R, CD3G, IL13, CD4, CD28"
   ]
  },
  {
   "cell_type": "code",
   "execution_count": 0,
   "metadata": {
    "application/vnd.databricks.v1+cell": {
     "cellMetadata": {},
     "inputWidgets": {},
     "nuid": "cc910c2d-ae7a-4347-b5b5-2cda901a65e6",
     "showTitle": false,
     "tableResultSettingsMap": {},
     "title": ""
    }
   },
   "outputs": [],
   "source": [
    "options(repr.plot.width=1200, repr.plot.height=1200)\n",
    "\n",
    "DotPlot(subset_cd4, features = c(\"FOXP3\", \"IL2RA\", \"CTLA4\", \"IKZF2\", \"IL7R\", \"CD3G\", \"IL13\", \"CD4\", \"CD28\"), group.by = \"seurat_clusters\")"
   ]
  },
  {
   "cell_type": "code",
   "execution_count": 0,
   "metadata": {
    "application/vnd.databricks.v1+cell": {
     "cellMetadata": {},
     "inputWidgets": {},
     "nuid": "3807b9b0-00f5-41c5-99d4-1f1c8dad177b",
     "showTitle": false,
     "tableResultSettingsMap": {},
     "title": ""
    }
   },
   "outputs": [],
   "source": [
    "#New annotation \n",
    "new.cluster.ids.treg <- c(\"Treg\", \"TC\")\n",
    "names(new.cluster.ids.treg) <- levels(subset_cd4)\n",
    "subset_cd4 <- RenameIdents(subset_cd4, new.cluster.ids.treg)"
   ]
  },
  {
   "cell_type": "code",
   "execution_count": 0,
   "metadata": {
    "application/vnd.databricks.v1+cell": {
     "cellMetadata": {},
     "inputWidgets": {},
     "nuid": "b9f3e470-bd5a-4742-a3a6-4759dbf4ce6b",
     "showTitle": false,
     "tableResultSettingsMap": {},
     "title": ""
    }
   },
   "outputs": [],
   "source": [
    "table(Idents(subset_cd4))"
   ]
  },
  {
   "cell_type": "code",
   "execution_count": 0,
   "metadata": {
    "application/vnd.databricks.v1+cell": {
     "cellMetadata": {},
     "inputWidgets": {},
     "nuid": "d2bfce11-7fa7-42bd-8acc-9b01fd3f8ef0",
     "showTitle": false,
     "tableResultSettingsMap": {},
     "title": ""
    }
   },
   "outputs": [],
   "source": [
    "subset_cd4$h_celltype <- Idents(subset_cd4)\n",
    "# Update the main dataset with new annotations\n",
    "alkon$h_celltype[names(subset_cd4$h_celltype)] <- subset_cd4$h_celltype"
   ]
  },
  {
   "cell_type": "code",
   "execution_count": 0,
   "metadata": {
    "application/vnd.databricks.v1+cell": {
     "cellMetadata": {},
     "inputWidgets": {},
     "nuid": "22a0dd2f-0c78-4b96-854f-141b6e24dcd7",
     "showTitle": false,
     "tableResultSettingsMap": {},
     "title": ""
    }
   },
   "outputs": [],
   "source": [
    "subset_cd4$h_celltype <- Idents(subset_cd4) # Assign the new annotation to the celltypes in the subset\n",
    "unique(subset_cd4$h_celltype)"
   ]
  },
  {
   "cell_type": "code",
   "execution_count": 0,
   "metadata": {
    "application/vnd.databricks.v1+cell": {
     "cellMetadata": {},
     "inputWidgets": {},
     "nuid": "2546aa37-2cd8-4655-85d7-0b88423f3ecd",
     "showTitle": false,
     "tableResultSettingsMap": {},
     "title": ""
    }
   },
   "outputs": [],
   "source": [
    "#New annotations does not have the names, so I add them manually\n",
    "alkon$h_celltype <- gsub(\"1\", \"Treg\", alkon$h_celltype)\n",
    "alkon$h_celltype <- gsub(\"2\", \"Th\", alkon$h_celltype)\n",
    "\n",
    "#Also group Th and Tcit in Tcells like in the other datasets\n",
    "alkon$h_celltype <- gsub(\"Th|Tcit\", \"TC\", alkon$h_celltype)"
   ]
  },
  {
   "cell_type": "code",
   "execution_count": 0,
   "metadata": {
    "application/vnd.databricks.v1+cell": {
     "cellMetadata": {},
     "inputWidgets": {},
     "nuid": "fdd39938-e7d3-436a-b55a-74935fa73269",
     "showTitle": false,
     "tableResultSettingsMap": {},
     "title": ""
    }
   },
   "outputs": [],
   "source": [
    "last_anno_treg <- as.character(alkon$h_celltype_v3)\n",
    "table(last_anno_treg)"
   ]
  },
  {
   "cell_type": "code",
   "execution_count": 0,
   "metadata": {
    "application/vnd.databricks.v1+cell": {
     "cellMetadata": {},
     "inputWidgets": {},
     "nuid": "1b4267c5-e6e1-49a4-a8b6-8acbab116acc",
     "showTitle": false,
     "tableResultSettingsMap": {},
     "title": ""
    }
   },
   "outputs": [],
   "source": [
    "last_anno_treg[which(colnames(alkon)%in%colnames(subset_cd4))] <- as.character(subset_cd4$h_celltype)\n",
    "table(last_anno_treg)"
   ]
  },
  {
   "cell_type": "code",
   "execution_count": 0,
   "metadata": {
    "application/vnd.databricks.v1+cell": {
     "cellMetadata": {},
     "inputWidgets": {},
     "nuid": "46d4cc00-8615-4da9-bc01-cb936ed6d205",
     "showTitle": false,
     "tableResultSettingsMap": {},
     "title": ""
    }
   },
   "outputs": [],
   "source": [
    "names(last_anno_treg) <- colnames(alkon)\n",
    "alkon <- AddMetaData(alkon, last_anno_treg, col.name=\"h_celltype_v4\")\n",
    "table(alkon$h_celltype_v4)"
   ]
  },
  {
   "cell_type": "code",
   "execution_count": 0,
   "metadata": {
    "application/vnd.databricks.v1+cell": {
     "cellMetadata": {},
     "inputWidgets": {},
     "nuid": "520f508d-7ae1-4f01-b81c-7532b61e2a68",
     "showTitle": false,
     "tableResultSettingsMap": {},
     "title": ""
    }
   },
   "outputs": [],
   "source": [
    "options(repr.plot.width=1600, repr.plot.height=1200)\n",
    "DimPlot(alkon, group.by=\"h_celltype_v3\", label=T) + DimPlot(alkon, group.by=\"h_celltype_v4\", label=T)"
   ]
  },
  {
   "cell_type": "code",
   "execution_count": 0,
   "metadata": {
    "application/vnd.databricks.v1+cell": {
     "cellMetadata": {},
     "inputWidgets": {},
     "nuid": "dddb7302-5bd3-4027-a536-c7dceb8783fe",
     "showTitle": false,
     "tableResultSettingsMap": {},
     "title": ""
    }
   },
   "outputs": [],
   "source": [
    "options(repr.plot.width=1200, repr.plot.height=1200)\n",
    "# Define unique colors for each cell type\n",
    "colors <- c(\"Macro\" = \"#1f77b4\", \"KC\" = \"#ff7f0e\", \"Prolif\" = \"#2ca02c\", \n",
    "            \"Treg\" = \"#aec7e8\", \"TC\" = \"#9467bd\", \"DC\" = \"#8c564b\", \n",
    "            \"Fibroblasts\" = \"#e377c2\", \"Endothelial blood\" = \"#7f7f7f\", \n",
    "            \"Smooth Muscle\" = \"#bcbd22\", \"LE\" = \"#17becf\", \"LC\" = \"#d62728\", \n",
    "            \"Melanocytes\" = \"#ffbb78\", \"Plasmacytoid DC\" = \"#98df8a\", \n",
    "            \"Pericyte\" = \"#ff9896\", \"Mono\" = \"#c5b0d5\", \"Sweat Gland\" = \"#c49c94\", \n",
    "            \"B cells\" = \"#f7b6d2\", \"MastC\" = \"#c7c7c7\", \"NK\" = \"#dbdb8d\")\n",
    "\n",
    "# Create DimPlot with the final annotation with specified colors to distinguish better\n",
    "DimPlot(alkon, group.by = \"h_celltype_v4\", cols=colors, label =T)"
   ]
  },
  {
   "cell_type": "markdown",
   "metadata": {
    "application/vnd.databricks.v1+cell": {
     "cellMetadata": {},
     "inputWidgets": {},
     "nuid": "f9fcc2f4-6172-4d85-a2b0-ffccbdd5f53b",
     "showTitle": false,
     "tableResultSettingsMap": {},
     "title": ""
    }
   },
   "source": [
    "Here we have annotated Macro, Mono, LC, DC, KC, TC, Treg, NK, Fibroblasts,Endothelial blood, Smooth Muscle, LE, Melanocytes, Pericyte, KC/Fibroblasts, Sweat Gland, B cells, MastC "
   ]
  },
  {
   "cell_type": "code",
   "execution_count": 0,
   "metadata": {
    "application/vnd.databricks.v1+cell": {
     "cellMetadata": {},
     "inputWidgets": {},
     "nuid": "4582b171-9b42-4f14-a616-ef6770abb4e6",
     "showTitle": false,
     "tableResultSettingsMap": {},
     "title": ""
    }
   },
   "outputs": [],
   "source": [
    "table(alkon@meta.data$Condition, alkon@meta.data$h_celltype_v4)"
   ]
  },
  {
   "cell_type": "markdown",
   "metadata": {
    "application/vnd.databricks.v1+cell": {
     "cellMetadata": {},
     "inputWidgets": {},
     "nuid": "0e7a2acc-df1f-4e37-b1f5-d1e96cf7ab3b",
     "showTitle": false,
     "tableResultSettingsMap": {},
     "title": ""
    }
   },
   "source": [
    "Now it is only saved the relevant conditions for my study, AD and HC."
   ]
  },
  {
   "cell_type": "code",
   "execution_count": 0,
   "metadata": {
    "application/vnd.databricks.v1+cell": {
     "cellMetadata": {},
     "inputWidgets": {},
     "nuid": "0af1823d-1266-4bae-97de-2728c91e6cd7",
     "showTitle": false,
     "tableResultSettingsMap": {},
     "title": ""
    }
   },
   "outputs": [],
   "source": [
    "unique(alkon$Condition)\n",
    "desired <- c(\"AD\", \"HC\")"
   ]
  },
  {
   "cell_type": "code",
   "execution_count": 0,
   "metadata": {
    "application/vnd.databricks.v1+cell": {
     "cellMetadata": {},
     "inputWidgets": {},
     "nuid": "4a4f2ef4-ac43-4c50-b807-26c1a59ee49b",
     "showTitle": false,
     "tableResultSettingsMap": {},
     "title": ""
    }
   },
   "outputs": [],
   "source": [
    "subalkon <- subset(alkon, subset= Condition %in% desired)"
   ]
  },
  {
   "cell_type": "code",
   "execution_count": 0,
   "metadata": {
    "application/vnd.databricks.v1+cell": {
     "cellMetadata": {},
     "inputWidgets": {},
     "nuid": "0120274c-311c-4fe3-b838-65842f0a6f55",
     "showTitle": false,
     "tableResultSettingsMap": {},
     "title": ""
    }
   },
   "outputs": [],
   "source": [
    "#saveRDS(subalkon, file=\"/dbfs/mnt/sandbox/TFM_PAULA/ALKON_PROCESSED_TFM.rds\")"
   ]
  },
  {
   "cell_type": "markdown",
   "metadata": {
    "application/vnd.databricks.v1+cell": {
     "cellMetadata": {},
     "inputWidgets": {},
     "nuid": "9b7cedb5-b243-4505-b840-4339564f0477",
     "showTitle": false,
     "tableResultSettingsMap": {},
     "title": ""
    }
   },
   "source": [
    "#Dataset Integration\n",
    "I need to integrate the 2 datasets to be able to compare what is on each one."
   ]
  },
  {
   "cell_type": "code",
   "execution_count": 0,
   "metadata": {
    "application/vnd.databricks.v1+cell": {
     "cellMetadata": {},
     "inputWidgets": {},
     "nuid": "c2b64e26-4164-4fb4-90bc-eb8c96e61329",
     "showTitle": false,
     "tableResultSettingsMap": {},
     "title": ""
    }
   },
   "outputs": [],
   "source": [
    "alkon <- readRDS(\"/dbfs/mnt/sandbox/TFM_PAULA/ALKON_PROCESSED_TFM.rds\")\n",
    "reynolds <- readRDS(\"/dbfs/mnt/sandbox/TFM_PAULA/REYNOLDS_PROCESSED_TFM.rds\")"
   ]
  },
  {
   "cell_type": "markdown",
   "metadata": {
    "application/vnd.databricks.v1+cell": {
     "cellMetadata": {},
     "inputWidgets": {},
     "nuid": "fc8045ad-0b46-4a10-818c-14f95b8b7e9f",
     "showTitle": false,
     "tableResultSettingsMap": {},
     "title": ""
    }
   },
   "source": [
    "##Check if the cell annotation is similar by looking the markers of each cell among the datasets"
   ]
  },
  {
   "cell_type": "code",
   "execution_count": 0,
   "metadata": {
    "application/vnd.databricks.v1+cell": {
     "cellMetadata": {},
     "inputWidgets": {},
     "nuid": "02dc1389-4196-48db-95dc-48cbc240250f",
     "showTitle": false,
     "tableResultSettingsMap": {},
     "title": ""
    }
   },
   "outputs": [],
   "source": [
    "subalkon_cells <- c(\"KC\", \"TC\", \"Fibroblasts\", \"Melanocytes\", \"NK\", \"ILC\", \"DC\", \"Macro\", \"Mono\", \"Treg\") #I did not write correctly fibroblasts so are not included\n",
    "subalkon <- subset(alkon, h_celltype_v4 %in% subalkon_cells) #relevant cells for the study"
   ]
  },
  {
   "cell_type": "code",
   "execution_count": 0,
   "metadata": {
    "application/vnd.databricks.v1+cell": {
     "cellMetadata": {},
     "inputWidgets": {},
     "nuid": "53d82c04-3f49-42fc-a775-c57cc809a0ec",
     "showTitle": false,
     "tableResultSettingsMap": {},
     "title": ""
    }
   },
   "outputs": [],
   "source": [
    "unique(subalkon$h_celltype_v4)"
   ]
  },
  {
   "cell_type": "code",
   "execution_count": 0,
   "metadata": {
    "application/vnd.databricks.v1+cell": {
     "cellMetadata": {},
     "inputWidgets": {},
     "nuid": "c31e69fb-cb2e-4073-bf43-cb1ea8378d79",
     "showTitle": false,
     "tableResultSettingsMap": {},
     "title": ""
    }
   },
   "outputs": [],
   "source": [
    "Idents(subalkon) <- subalkon$h_celltype_v4\n",
    "alkon_celltype_markers <- FindAllMarkers(subalkon)"
   ]
  },
  {
   "cell_type": "code",
   "execution_count": 0,
   "metadata": {
    "application/vnd.databricks.v1+cell": {
     "cellMetadata": {},
     "inputWidgets": {},
     "nuid": "838a4b28-03eb-44e2-a31d-254525b17c8c",
     "showTitle": false,
     "tableResultSettingsMap": {},
     "title": ""
    }
   },
   "outputs": [],
   "source": [
    "library(openxlsx)\n",
    "\n",
    "# Save alkon markers to Excel\n",
    "write.xlsx(alkon_celltype_markers, \"/dbfs/mnt/sandbox/TFM_PAULA/alkon_celltype_markers.xlsx\")"
   ]
  },
  {
   "cell_type": "code",
   "execution_count": 0,
   "metadata": {
    "application/vnd.databricks.v1+cell": {
     "cellMetadata": {},
     "inputWidgets": {},
     "nuid": "280d225d-0d71-40e1-b95c-557055e07465",
     "showTitle": false,
     "tableResultSettingsMap": {},
     "title": ""
    }
   },
   "outputs": [],
   "source": [
    "#As I didnt save the fibroblast markers due to a writting error, I have to redo it\n",
    "Idents(subalkon) <- subalkon$h_celltype_v4\n",
    "alkon_fibroblast_markers <- FindMarkers(subalkon, ident.1 = \"Fibroblasts\", ident.2 = NULL)"
   ]
  },
  {
   "cell_type": "code",
   "execution_count": 0,
   "metadata": {
    "application/vnd.databricks.v1+cell": {
     "cellMetadata": {},
     "inputWidgets": {},
     "nuid": "7d906846-e0b2-4366-982a-8b3f27ba0b12",
     "showTitle": false,
     "tableResultSettingsMap": {},
     "title": ""
    }
   },
   "outputs": [],
   "source": [
    "alkon_fibroblast_markers$gene <- rownames(alkon_fibroblast_markers)"
   ]
  },
  {
   "cell_type": "code",
   "execution_count": 0,
   "metadata": {
    "application/vnd.databricks.v1+cell": {
     "cellMetadata": {},
     "inputWidgets": {},
     "nuid": "90382368-ef87-42a0-be23-a4e023c81e79",
     "showTitle": false,
     "tableResultSettingsMap": {},
     "title": ""
    }
   },
   "outputs": [],
   "source": [
    "#Save fibroblasts markers\n",
    "write.xlsx(alkon_fibroblast_markers, \"/dbfs/mnt/sandbox/TFM_PAULA/alkon_fb_markers1.xlsx\")"
   ]
  },
  {
   "cell_type": "code",
   "execution_count": 0,
   "metadata": {
    "application/vnd.databricks.v1+cell": {
     "cellMetadata": {},
     "inputWidgets": {},
     "nuid": "e894092c-a9ee-43a0-b8f8-6c493fb447d0",
     "showTitle": false,
     "tableResultSettingsMap": {},
     "title": ""
    }
   },
   "outputs": [],
   "source": [
    "subreynolds <- subset(reynolds, h_celltype %in% subalkon_cells) #relevant cells for the study"
   ]
  },
  {
   "cell_type": "code",
   "execution_count": 0,
   "metadata": {
    "application/vnd.databricks.v1+cell": {
     "cellMetadata": {},
     "inputWidgets": {},
     "nuid": "1241a0ff-81c7-4754-a5f2-bbdf82353c09",
     "showTitle": false,
     "tableResultSettingsMap": {},
     "title": ""
    }
   },
   "outputs": [],
   "source": [
    "Idents(subreynolds) <- subreynolds$h_celltype\n",
    "reynolds_celltype_markers <- FindAllMarkers(subreynolds)"
   ]
  },
  {
   "cell_type": "code",
   "execution_count": 0,
   "metadata": {
    "application/vnd.databricks.v1+cell": {
     "cellMetadata": {},
     "inputWidgets": {},
     "nuid": "3d039bbe-d29f-4fb1-a35b-20fbf90166e8",
     "showTitle": false,
     "tableResultSettingsMap": {},
     "title": ""
    }
   },
   "outputs": [],
   "source": [
    "# Save reynolds markers to Excel\n",
    "library(openxlsx)\n",
    "write.xlsx(reynolds_celltype_markers, \"/dbfs/mnt/sandbox/TFM_PAULA/reynolds_celltype_markers.xlsx\")"
   ]
  },
  {
   "cell_type": "code",
   "execution_count": 0,
   "metadata": {
    "application/vnd.databricks.v1+cell": {
     "cellMetadata": {},
     "inputWidgets": {},
     "nuid": "9709b395-f147-424e-a430-70864106d1c8",
     "showTitle": false,
     "tableResultSettingsMap": {},
     "title": ""
    }
   },
   "outputs": [],
   "source": [
    "#As I didnt save the fibroblast markers due to a writting error, I have to redo it\n",
    "Idents(subreynolds) <- subreynolds$h_celltype\n",
    "reynolds_fibroblast_markers <- FindMarkers(subreynolds, ident.1 = \"Fibroblasts\", ident.2 = NULL)"
   ]
  },
  {
   "cell_type": "code",
   "execution_count": 0,
   "metadata": {
    "application/vnd.databricks.v1+cell": {
     "cellMetadata": {},
     "inputWidgets": {},
     "nuid": "d5e20b8c-b44d-4df3-9ee0-7b75b27dcdb4",
     "showTitle": false,
     "tableResultSettingsMap": {},
     "title": ""
    }
   },
   "outputs": [],
   "source": [
    "reynolds_fibroblast_markers$gene <- rownames(reynolds_fibroblast_markers)"
   ]
  },
  {
   "cell_type": "code",
   "execution_count": 0,
   "metadata": {
    "application/vnd.databricks.v1+cell": {
     "cellMetadata": {},
     "inputWidgets": {},
     "nuid": "0da790f7-ba3c-4f17-bdca-8fbf71376e01",
     "showTitle": false,
     "tableResultSettingsMap": {},
     "title": ""
    }
   },
   "outputs": [],
   "source": [
    "# Save fibroblast markers\n",
    "write.xlsx(reynolds_fibroblast_markers, \"/dbfs/mnt/sandbox/TFM_PAULA/reynolds_fb_markers1.xlsx\")"
   ]
  },
  {
   "cell_type": "markdown",
   "metadata": {
    "application/vnd.databricks.v1+cell": {
     "cellMetadata": {},
     "inputWidgets": {},
     "nuid": "4fc79254-e379-4444-97e7-282d65ef4063",
     "showTitle": false,
     "tableResultSettingsMap": {},
     "title": ""
    }
   },
   "source": [
    "###Venn diagram of common markers \n",
    "Now read the markers and find the common ones across celltypes."
   ]
  },
  {
   "cell_type": "code",
   "execution_count": 0,
   "metadata": {
    "application/vnd.databricks.v1+cell": {
     "cellMetadata": {},
     "inputWidgets": {},
     "nuid": "0da5709e-b257-4772-8970-9d8a734b5492",
     "showTitle": false,
     "tableResultSettingsMap": {},
     "title": ""
    }
   },
   "outputs": [],
   "source": [
    "alkon_celltype_markers <- read.xlsx(\"/dbfs/mnt/sandbox/TFM_PAULA/alkon_celltype_markers.xlsx\")\n",
    "reynolds_celltype_markers <- read.xlsx(\"/dbfs/mnt/sandbox/TFM_PAULA/reynolds_celltype_markers.xlsx\")"
   ]
  },
  {
   "cell_type": "code",
   "execution_count": 0,
   "metadata": {
    "application/vnd.databricks.v1+cell": {
     "cellMetadata": {},
     "inputWidgets": {},
     "nuid": "098114df-5674-45eb-9b5d-e8b97cf1208c",
     "showTitle": false,
     "tableResultSettingsMap": {},
     "title": ""
    }
   },
   "outputs": [],
   "source": [
    "# Filter significant ones + absolute value minimum of 2\n",
    "alkon_celltype_markers <- alkon_celltype_markers[alkon_celltype_markers$p_val_adj < 0.05 & abs(alkon_celltype_markers$avg_log2FC) >= 2, ]\n",
    "reynolds_celltype_markers <- reynolds_celltype_markers[reynolds_celltype_markers$p_val_adj < 0.05 & abs(reynolds_celltype_markers$avg_log2FC) >= 2, ]"
   ]
  },
  {
   "cell_type": "code",
   "execution_count": 0,
   "metadata": {
    "application/vnd.databricks.v1+cell": {
     "cellMetadata": {},
     "inputWidgets": {},
     "nuid": "e35610ff-c0af-48b8-a3d0-46476535a482",
     "showTitle": false,
     "tableResultSettingsMap": {},
     "title": ""
    }
   },
   "outputs": [],
   "source": [
    "unique(reynolds_celltype_markers$cluster)"
   ]
  },
  {
   "cell_type": "code",
   "execution_count": 0,
   "metadata": {
    "application/vnd.databricks.v1+cell": {
     "cellMetadata": {},
     "inputWidgets": {},
     "nuid": "76f9914a-a7f4-48d7-8cc7-8b35dbd82fc7",
     "showTitle": false,
     "tableResultSettingsMap": {},
     "title": ""
    }
   },
   "outputs": [],
   "source": [
    ".libPaths(c(\"/dbfs/home/boriol@almirall.com/my_r_packages/bulkRNASeq_PBMCs_R4.3\", .libPaths()))\n",
    "\n",
    "library(VennDiagram)\n",
    "library(RColorBrewer)\n",
    "library(grid)"
   ]
  },
  {
   "cell_type": "code",
   "execution_count": 0,
   "metadata": {
    "application/vnd.databricks.v1+cell": {
     "cellMetadata": {},
     "inputWidgets": {},
     "nuid": "6b511c88-5cf0-49dc-a43d-88f28945519b",
     "showTitle": false,
     "tableResultSettingsMap": {},
     "title": ""
    }
   },
   "outputs": [],
   "source": [
    "# Prepare a palette of 3 colors with R colorbrewer\n",
    "myCol <- brewer.pal(3, \"Pastel2\")\n",
    "\n",
    "# Create a Venn diagram for celltype \"TC\"\n",
    "alkon_tc_markers <- alkon_celltype_markers[alkon_celltype_markers$cluster == \"TC\", ]\n",
    "reynolds_tc_markers <- reynolds_celltype_markers[alkon_celltype_markers$cluster == \"TC\", ]\n",
    "\n",
    "# Create the Venn diagram\n",
    "venn_plot <- venn.diagram(\n",
    "  x = list(\n",
    "    alkon = alkon_tc_markers$gene,\n",
    "    reynolds = reynolds_tc_markers$gene\n",
    "  ),\n",
    "  category.names = c( \"Alkon\", \"Reynolds\"),\n",
    "  filename = NULL,  # Set filename to NULL to avoid saving to file\n",
    "  output = TRUE,\n",
    "  log=FALSE,\n",
    "\n",
    "  # Circles\n",
    "  lwd = 2,\n",
    "  lty = 'blank',\n",
    "  fill = myCol,\n",
    "  \n",
    "  # Numbers\n",
    "  cex = 1,  # Increased size\n",
    "  fontface = \"bold\",\n",
    "  fontfamily = \"sans\",\n",
    "  \n",
    "  # Set names\n",
    "  cat.cex = 1,  # Increased size\n",
    "  cat.fontface = \"bold\",\n",
    "  cat.default.pos = \"outer\",\n",
    "  cat.pos = c(-3, 3, 180),\n",
    "  cat.dist = c(0.03, 0.03, 0.03),  # Adjusted distance for Reynolds Dataset\n",
    "  cat.fontfamily = \"sans\",\n",
    "  # Title\n",
    "  main = \"Tcell markers\",\n",
    "  main.cex = 1.5,\n",
    "  main.fontface = \"bold\",\n",
    "  main.fontfamily = \"sans\"\n",
    ")\n",
    "# Display the Venn diagram\n",
    "grid.draw(venn_plot)"
   ]
  },
  {
   "cell_type": "code",
   "execution_count": 0,
   "metadata": {
    "application/vnd.databricks.v1+cell": {
     "cellMetadata": {},
     "inputWidgets": {},
     "nuid": "ed0ddf50-80ac-4f0d-a12b-eebc647ea265",
     "showTitle": false,
     "tableResultSettingsMap": {},
     "title": ""
    }
   },
   "outputs": [],
   "source": [
    "# Prepare a palette of 3 colors with R colorbrewer\n",
    "myCol <- brewer.pal(3, \"Pastel2\")\n",
    "\n",
    "# Create a Venn diagram for celltype \"Treg\"\n",
    "alkon_treg_markers <- alkon_celltype_markers[alkon_celltype_markers$cluster == \"Treg\", ]\n",
    "reynolds_treg_markers <- reynolds_celltype_markers[reynolds_celltype_markers$cluster == \"Treg\", ]\n",
    "\n",
    "# Create the Venn diagram\n",
    "venn_plot <- venn.diagram(\n",
    "  x = list(\n",
    "    alkon = alkon_treg_markers$gene,\n",
    "    reynolds = reynolds_treg_markers$gene\n",
    "  ),\n",
    "  category.names = c(\"Alkon\", \"Reynolds\"),\n",
    "  filename = NULL,  # Set filename to NULL to avoid saving to file\n",
    "  output = TRUE,\n",
    "  log=FALSE,\n",
    "\n",
    "  # Circles\n",
    "  lwd = 2,\n",
    "  lty = 'blank',\n",
    "  fill = myCol,\n",
    "  \n",
    "  # Numbers\n",
    "  cex = 1,  # Increased size\n",
    "  fontface = \"bold\",\n",
    "  fontfamily = \"sans\",\n",
    "  \n",
    "  # Set names\n",
    "  cat.cex = 1,  # Increased size\n",
    "  cat.fontface = \"bold\",\n",
    "  cat.default.pos = \"outer\",\n",
    "  cat.pos = c(-3, 3, 180),\n",
    "  cat.dist = c(0.03, 0.03, 0.03),  # Adjusted distance for Reynolds Dataset\n",
    "  cat.fontfamily = \"sans\",\n",
    "  # Title\n",
    "  main = \"Treg markers\",\n",
    "  main.cex = 1.5,\n",
    "  main.fontface = \"bold\",\n",
    "  main.fontfamily = \"sans\"\n",
    ")\n",
    "# Display the Venn diagram\n",
    "grid.draw(venn_plot)"
   ]
  },
  {
   "cell_type": "code",
   "execution_count": 0,
   "metadata": {
    "application/vnd.databricks.v1+cell": {
     "cellMetadata": {},
     "inputWidgets": {},
     "nuid": "6c595eef-563d-49da-a6a8-ed6d912ae2b5",
     "showTitle": false,
     "tableResultSettingsMap": {},
     "title": ""
    }
   },
   "outputs": [],
   "source": [
    "# Prepare a palette of 3 colors with R colorbrewer\n",
    "myCol <- brewer.pal(3, \"Pastel2\")\n",
    "\n",
    "# Create a Venn diagram for celltype \"NK\"\n",
    "alkon_nk_markers <- alkon_celltype_markers[alkon_celltype_markers$cluster == \"NK\", ]\n",
    "reynolds_nk_markers <- reynolds_celltype_markers[reynolds_celltype_markers$cluster == \"NK\", ]\n",
    "\n",
    "# Create the Venn diagram\n",
    "venn_plot <- venn.diagram(\n",
    "  x = list(\n",
    "    alkon = alkon_nk_markers$gene,\n",
    "    reynolds = reynolds_nk_markers$gene\n",
    "  ),\n",
    "  category.names = c(\"Alkon\", \"Reynolds\"),\n",
    "  filename = NULL,  # Set filename to NULL to avoid saving to file\n",
    "  output = TRUE,\n",
    "  log=FALSE,\n",
    "\n",
    "  # Circles\n",
    "  lwd = 2,\n",
    "  lty = 'blank',\n",
    "  fill = myCol,\n",
    "  \n",
    "  # Numbers\n",
    "  cex = 1,  # Increased size\n",
    "  fontface = \"bold\",\n",
    "  fontfamily = \"sans\",\n",
    "  \n",
    "  # Set names\n",
    "  cat.cex = 1,  # Increased size\n",
    "  cat.fontface = \"bold\",\n",
    "  cat.default.pos = \"outer\",\n",
    "  cat.pos = c(-3, 3, 180),\n",
    "  cat.dist = c(0.03, 0.03, 0.03),  # Adjusted distance for Reynolds Dataset\n",
    "  cat.fontfamily = \"sans\",\n",
    "  # Title\n",
    "  main = \"NK markers\",\n",
    "  main.cex = 1.5,\n",
    "  main.fontface = \"bold\",\n",
    "  main.fontfamily = \"sans\"\n",
    ")\n",
    "# Display the Venn diagram\n",
    "grid.draw(venn_plot)"
   ]
  },
  {
   "cell_type": "code",
   "execution_count": 0,
   "metadata": {
    "application/vnd.databricks.v1+cell": {
     "cellMetadata": {},
     "inputWidgets": {},
     "nuid": "668d4a63-4b64-44a4-a3ef-a2392f46be30",
     "showTitle": false,
     "tableResultSettingsMap": {},
     "title": ""
    }
   },
   "outputs": [],
   "source": [
    "# Prepare a palette of 3 colors with R colorbrewer\n",
    "myCol <- brewer.pal(3, \"Pastel2\")\n",
    "\n",
    "# Create a Venn diagram for celltype \"KC\"\n",
    "alkon_kc_markers <- alkon_celltype_markers[alkon_celltype_markers$cluster == \"KC\", ]\n",
    "reynolds_kc_markers <- reynolds_celltype_markers[reynolds_celltype_markers$cluster == \"KC\", ]\n",
    "\n",
    "# Create the Venn diagram\n",
    "venn_plot <- venn.diagram(\n",
    "  x = list(\n",
    "    alkon = alkon_kc_markers$gene,\n",
    "    reynolds = reynolds_kc_markers$gene\n",
    "  ),\n",
    "  category.names = c(\"Alkon\", \"Reynolds\"),\n",
    "  filename = NULL,  # Set filename to NULL to avoid saving to file\n",
    "  output = TRUE,\n",
    "  log = FALSE,\n",
    "\n",
    "  # Circles\n",
    "  lwd = 2,\n",
    "  lty = 'blank',\n",
    "  fill = myCol[1:2],\n",
    "  \n",
    "  # Numbers\n",
    "  cex = 1,  # Increased size\n",
    "  fontface = \"bold\",\n",
    "  fontfamily = \"sans\",\n",
    "  \n",
    "  # Set names\n",
    "  cat.cex = 1,  # Increased size\n",
    "  cat.fontface = \"bold\",\n",
    "  cat.default.pos = \"text\",\n",
    "  cat.pos = c(-3, 3),\n",
    "  cat.dist = c(0.03, 0.03),\n",
    "  cat.fontfamily = \"sans\",\n",
    "  \n",
    "  # Title\n",
    "  main = \"Keratinocytes markers\",\n",
    "  main.cex = 1.5,\n",
    "  main.fontface = \"bold\",\n",
    "  main.fontfamily = \"sans\"\n",
    ")\n",
    "\n",
    "# Display the Venn diagram\n",
    "grid.draw(venn_plot)"
   ]
  },
  {
   "cell_type": "code",
   "execution_count": 0,
   "metadata": {
    "application/vnd.databricks.v1+cell": {
     "cellMetadata": {},
     "inputWidgets": {},
     "nuid": "e1d3686a-d6b1-43e8-9e82-29e6010d3333",
     "showTitle": false,
     "tableResultSettingsMap": {},
     "title": ""
    }
   },
   "outputs": [],
   "source": [
    "# Prepare a palette of 3 colors with R colorbrewer\n",
    "myCol <- brewer.pal(3, \"Pastel2\")\n",
    "\n",
    "# Create a Venn diagram for celltype \"Melanocytes\"\n",
    "alkon_melanocytes_markers <- alkon_celltype_markers[alkon_celltype_markers$cluster == \"Melanocytes\", ]\n",
    "reynolds_melanocytes_markers <- reynolds_celltype_markers[reynolds_celltype_markers$cluster == \"Melanocytes\", ]\n",
    "\n",
    "# Create the Venn diagram\n",
    "venn_plot <- venn.diagram(\n",
    "  x = list(\n",
    "    alkon = alkon_melanocytes_markers$gene,\n",
    "    reynolds = reynolds_melanocytes_markers$gene\n",
    "  ),\n",
    "  category.names = c(\"Alkon\", \"Reynolds\"),\n",
    "  filename = NULL,  # Set filename to NULL to avoid saving to file\n",
    "  output = TRUE,\n",
    "  log = FALSE,\n",
    "\n",
    "  # Circles\n",
    "  lwd = 2,\n",
    "  lty = 'blank',\n",
    "  fill = myCol[1:2],\n",
    "  \n",
    "  # Numbers\n",
    "  cex = 1,  # Increased size\n",
    "  fontface = \"bold\",\n",
    "  fontfamily = \"sans\",\n",
    "  \n",
    "  # Set names\n",
    "  cat.cex = 1,  # Increased size\n",
    "  cat.fontface = \"bold\",\n",
    "  cat.default.pos = \"text\",\n",
    "  cat.pos = c(-3, 3),\n",
    "  cat.dist = c(0.03, 0.03),\n",
    "  cat.fontfamily = \"sans\",\n",
    "  \n",
    "  # Title\n",
    "  main = \"Melanocytes markers\",\n",
    "  main.cex = 1.5,\n",
    "  main.fontface = \"bold\",\n",
    "  main.fontfamily = \"sans\"\n",
    ")\n",
    "\n",
    "# Display the Venn diagram\n",
    "grid.draw(venn_plot)"
   ]
  },
  {
   "cell_type": "code",
   "execution_count": 0,
   "metadata": {
    "application/vnd.databricks.v1+cell": {
     "cellMetadata": {},
     "inputWidgets": {},
     "nuid": "e3ee8087-cab9-4632-9726-e3252df344ef",
     "showTitle": false,
     "tableResultSettingsMap": {},
     "title": ""
    }
   },
   "outputs": [],
   "source": [
    "alkon_fb_markers <- read.xlsx(\"/dbfs/mnt/sandbox/TFM_PAULA/alkon_fb_markers1.xlsx\")\n",
    "reynolds_fb_markers <- read.xlsx(\"/dbfs/mnt/sandbox/TFM_PAULA/reynolds_fb_markers1.xlsx\")"
   ]
  },
  {
   "cell_type": "code",
   "execution_count": 0,
   "metadata": {
    "application/vnd.databricks.v1+cell": {
     "cellMetadata": {},
     "inputWidgets": {},
     "nuid": "ab436f1c-9518-4d51-8563-7358a173f8bd",
     "showTitle": false,
     "tableResultSettingsMap": {},
     "title": ""
    }
   },
   "outputs": [],
   "source": [
    "alkon_fb_markers <- alkon_fb_markers[alkon_fb_markers$p_val_adj < 0.05 & abs(alkon_fb_markers$avg_log2FC) >= 2, ]\n",
    "reynolds_fb_markers <- reynolds_fb_markers[reynolds_fb_markers$p_val_adj < 0.05 & abs(reynolds_fb_markers$avg_log2FC) >= 2, ]"
   ]
  },
  {
   "cell_type": "code",
   "execution_count": 0,
   "metadata": {
    "application/vnd.databricks.v1+cell": {
     "cellMetadata": {},
     "inputWidgets": {},
     "nuid": "679241cf-4a2b-4ae2-b0c0-6bfbe74fca9d",
     "showTitle": false,
     "tableResultSettingsMap": {},
     "title": ""
    }
   },
   "outputs": [],
   "source": [
    "# Prepare a palette of 3 colors with R colorbrewer\n",
    "myCol <- brewer.pal(3, \"Pastel2\")\n",
    "\n",
    "# Create a Venn diagram for celltype \"fibroblasts\"\n",
    "\n",
    "# Create the Venn diagram\n",
    "venn_plot <- venn.diagram(\n",
    "  x = list(\n",
    "    alkon = alkon_fb_markers$gene,\n",
    "    reynolds = reynolds_fb_markers$gene\n",
    "  ),\n",
    "  category.names = c(\"Alkon\", \"Reynolds\"),\n",
    "  filename = NULL,  # Set filename to NULL to avoid saving to file\n",
    "  output = TRUE,\n",
    "  log = FALSE,\n",
    "\n",
    "  # Circles\n",
    "  lwd = 2,\n",
    "  lty = 'blank',\n",
    "  fill = myCol[1:2],\n",
    "  \n",
    "  # Numbers\n",
    "  cex = 1,  # Increased size\n",
    "  fontface = \"bold\",\n",
    "  fontfamily = \"sans\",\n",
    "  \n",
    "  # Set names\n",
    "  cat.cex = 1,  # Increased size\n",
    "  cat.fontface = \"bold\",\n",
    "  cat.default.pos = \"text\",\n",
    "  cat.pos = c(-3, 3),\n",
    "  cat.dist = c(0.03, 0.03),\n",
    "  cat.fontfamily = \"sans\",\n",
    "  \n",
    "  # Title\n",
    "  main = \"Fibroblasts markers\",\n",
    "  main.cex = 1.5,\n",
    "  main.fontface = \"bold\",\n",
    "  main.fontfamily = \"sans\"\n",
    ")\n",
    "\n",
    "# Display the Venn diagram\n",
    "grid.draw(venn_plot)"
   ]
  },
  {
   "cell_type": "markdown",
   "metadata": {
    "application/vnd.databricks.v1+cell": {
     "cellMetadata": {},
     "inputWidgets": {},
     "nuid": "01fb3cc7-ac02-4c74-a0ad-da61853c1dd1",
     "showTitle": false,
     "tableResultSettingsMap": {},
     "title": ""
    }
   },
   "source": [
    "Now, lets check if the common markers are correct comparing with literature"
   ]
  },
  {
   "cell_type": "code",
   "execution_count": 0,
   "metadata": {
    "application/vnd.databricks.v1+cell": {
     "cellMetadata": {},
     "inputWidgets": {},
     "nuid": "754fc447-b49f-4cc5-b971-e83d03682257",
     "showTitle": false,
     "tableResultSettingsMap": {},
     "title": ""
    }
   },
   "outputs": [],
   "source": [
    "#Save the common genes in variables\n",
    "treg_common_genes <-  intersect(alkon_treg_markers$gene, reynolds_treg_markers$gene)\n",
    "tcell_common_genes <- intersect(alkon_tc_markers$gene, reynolds_tc_markers$gene)\n",
    "keratinocytes_common_genes <-intersect(alkon_kc_markers$gene, reynolds_kc_markers$gene)\n",
    "melanocytes_common_genes <- intersect(alkon_melanocytes_markers$gene, reynolds_melanocytes_markers$gene)\n",
    "fb_common_genes <- intersect(alkon_fb_markers$gene, reynolds_fb_markers$gene)"
   ]
  },
  {
   "cell_type": "code",
   "execution_count": 0,
   "metadata": {
    "application/vnd.databricks.v1+cell": {
     "cellMetadata": {},
     "inputWidgets": {},
     "nuid": "c10ec636-6678-4a0d-93d1-bacf4bae9f67",
     "showTitle": false,
     "tableResultSettingsMap": {},
     "title": ""
    }
   },
   "outputs": [],
   "source": [
    "#According to literature (panglaodb + juanlu markers)\n",
    "treg_markers <- c(\"FOXP3\")  # Treg\n",
    "tcell_markers <- c(\"CXCR4\", \"ICOS\", \"CCR7\", \"CD3G\" ,\"CD4\", \"PTPRC\", \"IL7R\", \"CD3E\",\"TRBC2\", \"CD3D\")  # T cell CD4\n",
    "tcell_cd8_markers <- c(\"CD8A\", \"TBX21\")  # T cell CD8 \n",
    "ilc_markers <- c(\"KLRB1\", \"IL1R1\")  # ILC\n",
    "keratinocyte_markers <- c(\"LCE3C\", \"COL17A1\", \"KRT10\", \"KRT15\")  # Keratinocyte\n",
    "nk_markers <- c(\"NKG7\", \"KLRD1\", \"KLRF1\")  # NK cell\n",
    "melanocyte_markers <- c(\"MITF\", \"TYR\", \"DCT\")  # Melanocyte\n",
    "fb_markers <- c(\"VIM\", \"SERPINH1\", \"PDGFRB\", \"FAP\")  # Fibroblast\n"
   ]
  },
  {
   "cell_type": "code",
   "execution_count": 0,
   "metadata": {
    "application/vnd.databricks.v1+cell": {
     "cellMetadata": {},
     "inputWidgets": {},
     "nuid": "44a7f476-6c94-47b9-b639-34e590eb0f53",
     "showTitle": false,
     "tableResultSettingsMap": {},
     "title": ""
    }
   },
   "outputs": [],
   "source": [
    "# Compare the results with the literature and print with cell type names\n",
    "treg_common <- treg_markers[treg_markers %in% treg_common_genes]\n",
    "cat(\"Treg genes in literature:\", treg_common, \"\\n\")\n",
    "\n",
    "tcell_common <- tcell_markers[tcell_markers %in% tcell_common_genes]\n",
    "cat(\"T cell CD4 genes in literature:\", tcell_common, \"\\n\")\n",
    "\n",
    "tcell_cd8_common <- tcell_cd8_markers[tcell_cd8_markers %in% tcell_common_genes]\n",
    "cat(\"T cell genes in literature:\", tcell_cd8_common, \"\\n\")\n",
    "\n",
    "nk_in_literature <- nk_markers[nk_markers %in% nk_common_genes]\n",
    "cat(\"NK genes in literature:\", nk_in_literature, \"\\n\")\n",
    "\n",
    "keratinocyte_common <- keratinocyte_markers[keratinocyte_markers %in% keratinocytes_common_genes]\n",
    "cat(\"Keratinocyte genes in literature:\", keratinocyte_common, \"\\n\")\n",
    "\n",
    "melanocyte_common <- melanocyte_markers[melanocyte_markers %in% melanocytes_common_genes]\n",
    "cat(\"Melanocyte genes in literature:\", melanocyte_common, \"\\n\")\n",
    "\n",
    "fb_common <- fb_markers[fb_markers %in% fb_common_genes]\n",
    "cat(\"Fibroblast genes in literature:\", fb_common, \"\\n\")"
   ]
  },
  {
   "cell_type": "code",
   "execution_count": 0,
   "metadata": {
    "application/vnd.databricks.v1+cell": {
     "cellMetadata": {},
     "inputWidgets": {},
     "nuid": "ef83c55f-3a66-442d-92a0-a82f695d3ce4",
     "showTitle": false,
     "tableResultSettingsMap": {},
     "title": ""
    }
   },
   "outputs": [],
   "source": [
    "cell_markers <- c(\n",
    "  \"FOXP3\",  # Treg\n",
    "  \"CXCR5\", \"ICOS\", \"CCR7\", \"CD4\",  # T cell CD4\n",
    "  \"CD8A\", \"TBX21\",  # T cell CD8\n",
    "  \"KLRB1\", \"IL1R1\",  # ILC\n",
    "  \"LCE3C\", \"COL17A1\",  # Keratinocyte\n",
    "  \"CNN1\", \"TAGLN\",  # Smooth muscle cell\n",
    "  \"PDGFRB\", \"ACTA2\", \"CSPG4\",  # Pericyte\n",
    "  \"NKG7\", \"KLRD1\", \"KLRF1\",  # NK cell\n",
    "  \"MITF\", \"TYR\",  # Melanocyte\n",
    "  \"KIT\",  # Mast cell\n",
    "  \"CD14\",  # Macrophage\n",
    "  \"FAP\",  # Fibroblast\n",
    "  \"CD34\",  # Endothelial cell\n",
    "  \"CD86\" , #DC\n",
    "  \"MS4A1\", \"CD27\", \"SPN\", \"CD19\", \"CD38\"  # B cell\n",
    ")"
   ]
  },
  {
   "cell_type": "code",
   "execution_count": 0,
   "metadata": {
    "application/vnd.databricks.v1+cell": {
     "cellMetadata": {},
     "inputWidgets": {},
     "nuid": "f78c6d6e-6007-4cf9-82f0-89cce6769d86",
     "showTitle": false,
     "tableResultSettingsMap": {},
     "title": ""
    }
   },
   "outputs": [],
   "source": [
    "options(repr.plot.width=2800, repr.plot.height=1500)\n",
    "\n",
    "DotPlot(alkon, features = cell_markers, group.by = \"h_celltype_v4\")"
   ]
  },
  {
   "cell_type": "code",
   "execution_count": 0,
   "metadata": {
    "application/vnd.databricks.v1+cell": {
     "cellMetadata": {},
     "inputWidgets": {},
     "nuid": "6c672f0a-86a5-42ac-8d32-10ad4afa4404",
     "showTitle": false,
     "tableResultSettingsMap": {},
     "title": ""
    }
   },
   "outputs": [],
   "source": [
    "options(repr.plot.width=2500, repr.plot.height=1200)\n",
    "\n",
    "DotPlot(reynolds, features = cell_markers, group.by = \"h_celltype\")"
   ]
  }
 ],
 "metadata": {
  "application/vnd.databricks.v1+notebook": {
   "computePreferences": null,
   "dashboards": [],
   "environmentMetadata": null,
   "inputWidgetPreferences": null,
   "language": "r",
   "notebookMetadata": {
    "pythonIndentUnit": 4
   },
   "notebookName": "02.Preprocessing_celltype_homogenization",
   "widgets": {}
  },
  "language_info": {
   "name": "r"
  }
 },
 "nbformat": 4,
 "nbformat_minor": 0
}
