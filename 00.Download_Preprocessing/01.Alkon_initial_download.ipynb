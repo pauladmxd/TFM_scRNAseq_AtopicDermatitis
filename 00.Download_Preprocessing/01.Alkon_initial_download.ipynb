{
 "cells": [
  {
   "cell_type": "markdown",
   "metadata": {
    "application/vnd.databricks.v1+cell": {
     "cellMetadata": {},
     "inputWidgets": {},
     "nuid": "cf81dede-8f06-4062-b9de-31ea27b6c611",
     "showTitle": false,
     "tableResultSettingsMap": {},
     "title": ""
    }
   },
   "source": [
    "# Load data from Alkon et al, 2023"
   ]
  },
  {
   "cell_type": "code",
   "execution_count": 0,
   "metadata": {
    "application/vnd.databricks.v1+cell": {
     "cellMetadata": {},
     "inputWidgets": {},
     "nuid": "6995a286-32d7-4227-8509-1fc363a96378",
     "showTitle": false,
     "tableResultSettingsMap": {},
     "title": ""
    }
   },
   "outputs": [],
   "source": [
    "## Append the library folder\n",
    ".libPaths(c(\"/dbfs/home/jtrincado@almirall.com/my_r_packages/Seurat\", .libPaths()))"
   ]
  },
  {
   "cell_type": "code",
   "execution_count": 0,
   "metadata": {
    "application/vnd.databricks.v1+cell": {
     "cellMetadata": {},
     "inputWidgets": {},
     "nuid": "7bb4a883-4ab3-4b74-8be8-6420a5f2509e",
     "showTitle": false,
     "tableResultSettingsMap": {},
     "title": ""
    }
   },
   "outputs": [],
   "source": [
    "library(Seurat)\n",
    "library(dplyr)\n",
    "library(ggplot2)\n",
    "library(dittoSeq)\n",
    "#library(UCell)\n",
    "#library(clusterProfiler)\n",
    "#library(msigdbr)\n",
    "library(stringr)\n",
    "library(forcats)\n"
   ]
  },
  {
   "cell_type": "code",
   "execution_count": 0,
   "metadata": {
    "application/vnd.databricks.v1+cell": {
     "cellMetadata": {},
     "inputWidgets": {},
     "nuid": "8c46be51-ab49-4421-b92c-0194f644c713",
     "showTitle": false,
     "tableResultSettingsMap": {},
     "title": ""
    }
   },
   "outputs": [],
   "source": [
    "AD1.counts <- Read10X(data.dir = \"/dbfs/mnt/sandbox/AD_PN/Alkon_et_al_2023//data/AD1/\")\n",
    "# Initialize the Seurat object with the raw (non-normalized data).\n",
    "AD1 <- CreateSeuratObject(counts = AD1.counts)\n",
    "AD1[[\"percent.mt\"]] <- PercentageFeatureSet(AD1, pattern = \"^MT-\")\n",
    "AD1_f <- subset(AD1, subset = nFeature_RNA > 500 & nFeature_RNA < 4000 & percent.mt < 10)\n",
    "AD1_f <- NormalizeData(AD1_f, normalization.method = \"LogNormalize\", scale.factor = 10000)\n",
    "AD1_f$Sample_id <- \"AD1\"\n",
    "AD1_f$Condition <- \"AD\"\n",
    "AD1_f\n"
   ]
  },
  {
   "cell_type": "code",
   "execution_count": 0,
   "metadata": {
    "application/vnd.databricks.v1+cell": {
     "cellMetadata": {},
     "inputWidgets": {},
     "nuid": "50f0379a-9c2b-4d46-97bd-d0aad69efa7a",
     "showTitle": false,
     "tableResultSettingsMap": {},
     "title": ""
    }
   },
   "outputs": [],
   "source": [
    "AD2.counts <- Read10X(data.dir = \"/dbfs/mnt/sandbox/AD_PN/Alkon_et_al_2023//data/AD2/\")\n",
    "# Initialize the Seurat object with the raw (non-normalized data).\n",
    "AD2 <- CreateSeuratObject(counts = AD2.counts)\n",
    "AD2[[\"percent.mt\"]] <- PercentageFeatureSet(AD2, pattern = \"^MT-\")\n",
    "AD2_f <- subset(AD2, subset = nFeature_RNA > 500 & nFeature_RNA < 4000 & percent.mt < 10)\n",
    "AD2_f <- NormalizeData(AD2_f, normalization.method = \"LogNormalize\", scale.factor = 10000)\n",
    "AD2_f$Sample_id <- \"AD2\"\n",
    "AD2_f$Condition <- \"AD\"\n",
    "AD2_f\n"
   ]
  },
  {
   "cell_type": "code",
   "execution_count": 0,
   "metadata": {
    "application/vnd.databricks.v1+cell": {
     "cellMetadata": {},
     "inputWidgets": {},
     "nuid": "3246258d-6ee3-4669-b700-d33d79565e38",
     "showTitle": false,
     "tableResultSettingsMap": {},
     "title": ""
    }
   },
   "outputs": [],
   "source": [
    "AD3.counts <- Read10X(data.dir = \"/dbfs/mnt/sandbox/AD_PN/Alkon_et_al_2023//data/AD3/\")\n",
    "# Initialize the Seurat object with the raw (non-normalized data).\n",
    "AD3 <- CreateSeuratObject(counts = AD3.counts)\n",
    "AD3[[\"percent.mt\"]] <- PercentageFeatureSet(AD3, pattern = \"^MT-\")\n",
    "AD3_f <- subset(AD3, subset = nFeature_RNA > 500 & nFeature_RNA < 4000 & percent.mt < 10)\n",
    "AD3_f <- NormalizeData(AD3_f, normalization.method = \"LogNormalize\", scale.factor = 10000)\n",
    "AD3_f$Sample_id <- \"AD3\"\n",
    "AD3_f$Condition <- \"AD\"\n",
    "AD3_f\n"
   ]
  },
  {
   "cell_type": "code",
   "execution_count": 0,
   "metadata": {
    "application/vnd.databricks.v1+cell": {
     "cellMetadata": {},
     "inputWidgets": {},
     "nuid": "441269bd-cea6-4e57-92bd-3f02e74e570e",
     "showTitle": false,
     "tableResultSettingsMap": {},
     "title": ""
    }
   },
   "outputs": [],
   "source": [
    "AD4.counts <- Read10X(data.dir = \"/dbfs/mnt/sandbox/AD_PN/Alkon_et_al_2023//data/AD4/\")\n",
    "# Initialize the Seurat object with the raw (non-normalized data).\n",
    "AD4 <- CreateSeuratObject(counts = AD4.counts)\n",
    "AD4[[\"percent.mt\"]] <- PercentageFeatureSet(AD4, pattern = \"^MT-\")\n",
    "AD4_f <- subset(AD4, subset = nFeature_RNA > 500 & nFeature_RNA < 4000 & percent.mt < 10)\n",
    "AD4_f <- NormalizeData(AD4_f, normalization.method = \"LogNormalize\", scale.factor = 10000)\n",
    "AD4_f$Sample_id <- \"AD4\"\n",
    "AD4_f$Condition <- \"AD\"\n",
    "AD4_f\n"
   ]
  },
  {
   "cell_type": "code",
   "execution_count": 0,
   "metadata": {
    "application/vnd.databricks.v1+cell": {
     "cellMetadata": {},
     "inputWidgets": {},
     "nuid": "295dd374-1e42-4478-ae9f-1487b905baa9",
     "showTitle": false,
     "tableResultSettingsMap": {},
     "title": ""
    }
   },
   "outputs": [],
   "source": [
    "AD5.counts <- Read10X(data.dir = \"/dbfs/mnt/sandbox/AD_PN/Alkon_et_al_2023//data/AD5/\")\n",
    "# Initialize the Seurat object with the raw (non-normalized data).\n",
    "AD5 <- CreateSeuratObject(counts = AD5.counts)\n",
    "AD5[[\"percent.mt\"]] <- PercentageFeatureSet(AD5, pattern = \"^MT-\")\n",
    "AD5_f <- subset(AD5, subset = nFeature_RNA > 500 & nFeature_RNA < 4000 & percent.mt < 10)\n",
    "AD5_f <- NormalizeData(AD5_f, normalization.method = \"LogNormalize\", scale.factor = 10000)\n",
    "AD5_f$Sample_id <- \"AD5\"\n",
    "AD5_f$Condition <- \"AD\"\n",
    "AD5_f\n"
   ]
  },
  {
   "cell_type": "code",
   "execution_count": 0,
   "metadata": {
    "application/vnd.databricks.v1+cell": {
     "cellMetadata": {},
     "inputWidgets": {},
     "nuid": "b3d0d6d8-b4fd-43e4-8040-6460c05c16f9",
     "showTitle": false,
     "tableResultSettingsMap": {},
     "title": ""
    }
   },
   "outputs": [],
   "source": [
    "AP.counts <- Read10X(data.dir = \"/dbfs/mnt/sandbox/AD_PN/Alkon_et_al_2023//data/AP/\")\n",
    "# Initialize the Seurat object with the raw (non-normalized data).\n",
    "AP <- CreateSeuratObject(counts = AP.counts)\n",
    "AP[[\"percent.mt\"]] <- PercentageFeatureSet(AP, pattern = \"^MT-\")\n",
    "AP_f <- subset(AP, subset = nFeature_RNA > 500 & nFeature_RNA < 4000 & percent.mt < 10)\n",
    "AP_f <- NormalizeData(AP_f, normalization.method = \"LogNormalize\", scale.factor = 10000)\n",
    "AP_f$Sample_id <- \"AP\"\n",
    "AP_f$Condition <- \"AP\"\n",
    "AP_f"
   ]
  },
  {
   "cell_type": "code",
   "execution_count": 0,
   "metadata": {
    "application/vnd.databricks.v1+cell": {
     "cellMetadata": {},
     "inputWidgets": {},
     "nuid": "caa306b0-ff57-4b87-908b-63bb2f1b64c9",
     "showTitle": false,
     "tableResultSettingsMap": {},
     "title": ""
    }
   },
   "outputs": [],
   "source": [
    "PN1.counts <- Read10X(data.dir = \"/dbfs/mnt/sandbox/AD_PN/Alkon_et_al_2023//data/PN1/\")\n",
    "# Initialize the Seurat object with the raw (non-normalized data).\n",
    "PN1 <- CreateSeuratObject(counts = PN1.counts)\n",
    "PN1[[\"percent.mt\"]] <- PercentageFeatureSet(PN1, pattern = \"^MT-\")\n",
    "PN1_f <- subset(PN1, subset = nFeature_RNA > 500 & nFeature_RNA < 4000 & percent.mt < 10)\n",
    "PN1_f <- NormalizeData(PN1_f, normalization.method = \"LogNormalize\", scale.factor = 10000)\n",
    "PN1_f$Sample_id <- \"PN1\"\n",
    "PN1_f$Condition <- \"PN\"\n",
    "PN1_f\n"
   ]
  },
  {
   "cell_type": "code",
   "execution_count": 0,
   "metadata": {
    "application/vnd.databricks.v1+cell": {
     "cellMetadata": {},
     "inputWidgets": {},
     "nuid": "a324c5e7-ecd6-43e2-926d-34b6b9517676",
     "showTitle": false,
     "tableResultSettingsMap": {},
     "title": ""
    }
   },
   "outputs": [],
   "source": [
    "PN2.counts <- Read10X(data.dir = \"/dbfs/mnt/sandbox/AD_PN/Alkon_et_al_2023//data/PN2/\")\n",
    "# Initialize the Seurat object with the raw (non-normalized data).\n",
    "PN2 <- CreateSeuratObject(counts = PN2.counts)\n",
    "PN2[[\"percent.mt\"]] <- PercentageFeatureSet(PN2, pattern = \"^MT-\")\n",
    "PN2_f <- subset(PN2, subset = nFeature_RNA > 500 & nFeature_RNA < 4000 & percent.mt < 10)\n",
    "PN2_f <- NormalizeData(PN2_f, normalization.method = \"LogNormalize\", scale.factor = 10000)\n",
    "PN2_f$Sample_id <- \"PN2\"\n",
    "PN2_f$Condition <- \"PN\"\n",
    "PN2_f\n"
   ]
  },
  {
   "cell_type": "code",
   "execution_count": 0,
   "metadata": {
    "application/vnd.databricks.v1+cell": {
     "cellMetadata": {},
     "inputWidgets": {},
     "nuid": "0f5275d7-05b8-48a7-9dad-de0bb674139b",
     "showTitle": false,
     "tableResultSettingsMap": {},
     "title": ""
    }
   },
   "outputs": [],
   "source": [
    "PN3.counts <- Read10X(data.dir = \"/dbfs/mnt/sandbox/AD_PN/Alkon_et_al_2023//data/PN3/\")\n",
    "# Initialize the Seurat object with the raw (non-normalized data).\n",
    "PN3 <- CreateSeuratObject(counts = PN3.counts)\n",
    "PN3[[\"percent.mt\"]] <- PercentageFeatureSet(PN3, pattern = \"^MT-\")\n",
    "PN3_f <- subset(PN3, subset = nFeature_RNA > 500 & nFeature_RNA < 4000 & percent.mt < 10)\n",
    "PN3_f <- NormalizeData(PN3_f, normalization.method = \"LogNormalize\", scale.factor = 10000)\n",
    "PN3_f$Sample_id <- \"PN3\"\n",
    "PN3_f$Condition <- \"PN\"\n",
    "PN3_f\n"
   ]
  },
  {
   "cell_type": "code",
   "execution_count": 0,
   "metadata": {
    "application/vnd.databricks.v1+cell": {
     "cellMetadata": {},
     "inputWidgets": {},
     "nuid": "01a77fd9-c1e2-43f0-9065-408a868120e4",
     "showTitle": false,
     "tableResultSettingsMap": {},
     "title": ""
    }
   },
   "outputs": [],
   "source": [
    "PN4.counts <- Read10X(data.dir = \"/dbfs/mnt/sandbox/AD_PN/Alkon_et_al_2023//data/PN4/\")\n",
    "# Initialize the Seurat object with the raw (non-normalized data).\n",
    "PN4 <- CreateSeuratObject(counts = PN4.counts)\n",
    "PN4[[\"percent.mt\"]] <- PercentageFeatureSet(PN4, pattern = \"^MT-\")\n",
    "PN4_f <- subset(PN4, subset = nFeature_RNA > 500 & nFeature_RNA < 4000 & percent.mt < 10)\n",
    "PN4_f <- NormalizeData(PN4_f, normalization.method = \"LogNormalize\", scale.factor = 10000)\n",
    "PN4_f$Sample_id <- \"PN4\"\n",
    "PN4_f$Condition <- \"PN\"\n",
    "PN4_f\n"
   ]
  },
  {
   "cell_type": "code",
   "execution_count": 0,
   "metadata": {
    "application/vnd.databricks.v1+cell": {
     "cellMetadata": {},
     "inputWidgets": {},
     "nuid": "ff21a800-9728-4869-b6a8-5344a1a9cc1b",
     "showTitle": false,
     "tableResultSettingsMap": {},
     "title": ""
    }
   },
   "outputs": [],
   "source": [
    "PN5.counts <- Read10X(data.dir = \"/dbfs/mnt/sandbox/AD_PN/Alkon_et_al_2023//data/PN5/\")\n",
    "# Initialize the Seurat object with the raw (non-normalized data).\n",
    "PN5 <- CreateSeuratObject(counts = PN5.counts)\n",
    "PN5[[\"percent.mt\"]] <- PercentageFeatureSet(PN5, pattern = \"^MT-\")\n",
    "PN5_f <- subset(PN5, subset = nFeature_RNA > 500 & nFeature_RNA < 4000 & percent.mt < 10)\n",
    "PN5_f <- NormalizeData(PN5_f, normalization.method = \"LogNormalize\", scale.factor = 10000)\n",
    "PN5_f$Sample_id <- \"PN5\"\n",
    "PN5_f$Condition <- \"PN\"\n",
    "PN5_f\n"
   ]
  },
  {
   "cell_type": "code",
   "execution_count": 0,
   "metadata": {
    "application/vnd.databricks.v1+cell": {
     "cellMetadata": {},
     "inputWidgets": {},
     "nuid": "ff53a6d1-b33b-49c8-b7a6-db98dd20f7f4",
     "showTitle": false,
     "tableResultSettingsMap": {},
     "title": ""
    }
   },
   "outputs": [],
   "source": [
    "PN6.counts <- Read10X(data.dir = \"/dbfs/mnt/sandbox/AD_PN/Alkon_et_al_2023//data/PN6/\")\n",
    "# Initialize the Seurat object with the raw (non-normalized data).\n",
    "PN6 <- CreateSeuratObject(counts = PN6.counts)\n",
    "PN6[[\"percent.mt\"]] <- PercentageFeatureSet(PN6, pattern = \"^MT-\")\n",
    "PN6_f <- subset(PN6, subset = nFeature_RNA > 500 & nFeature_RNA < 4000 & percent.mt < 10)\n",
    "PN6_f <- NormalizeData(PN6_f, normalization.method = \"LogNormalize\", scale.factor = 10000)\n",
    "PN6_f$Sample_id <- \"PN6\"\n",
    "PN6_f$Condition <- \"PN\"\n",
    "PN6_f\n"
   ]
  },
  {
   "cell_type": "code",
   "execution_count": 0,
   "metadata": {
    "application/vnd.databricks.v1+cell": {
     "cellMetadata": {},
     "inputWidgets": {},
     "nuid": "1ae5aaa7-99a1-42a5-b172-488628d9a713",
     "showTitle": false,
     "tableResultSettingsMap": {},
     "title": ""
    }
   },
   "outputs": [],
   "source": [
    "PN7.counts <- Read10X(data.dir = \"/dbfs/mnt/sandbox/AD_PN/Alkon_et_al_2023//data/PN7/\")\n",
    "# Initialize the Seurat object with the raw (non-normalized data).\n",
    "PN7 <- CreateSeuratObject(counts = PN7.counts)\n",
    "PN7[[\"percent.mt\"]] <- PercentageFeatureSet(PN7, pattern = \"^MT-\")\n",
    "PN7_f <- subset(PN7, subset = nFeature_RNA > 500 & nFeature_RNA < 4000 & percent.mt < 10)\n",
    "PN7_f <- NormalizeData(PN7_f, normalization.method = \"LogNormalize\", scale.factor = 10000)\n",
    "PN7_f$Sample_id <- \"PN7\"\n",
    "PN7_f$Condition <- \"PN\"\n",
    "PN7_f\n"
   ]
  },
  {
   "cell_type": "code",
   "execution_count": 0,
   "metadata": {
    "application/vnd.databricks.v1+cell": {
     "cellMetadata": {},
     "inputWidgets": {},
     "nuid": "a8d17898-2a20-4ce5-b0bf-f1b3a7144e40",
     "showTitle": false,
     "tableResultSettingsMap": {},
     "title": ""
    }
   },
   "outputs": [],
   "source": [
    "HC1.counts <- Read10X(data.dir = \"/dbfs/mnt/sandbox/AD_PN/Alkon_et_al_2023//data/HC1/\")\n",
    "# Initialize the Seurat object with the raw (non-normalized data).\n",
    "HC1 <- CreateSeuratObject(counts = HC1.counts)\n",
    "HC1[[\"percent.mt\"]] <- PercentageFeatureSet(HC1, pattern = \"^MT-\")\n",
    "HC1_f <- subset(HC1, subset = nFeature_RNA > 500 & nFeature_RNA < 4000 & percent.mt < 10)\n",
    "HC1_f <- NormalizeData(HC1_f, normalization.method = \"LogNormalize\", scale.factor = 10000)\n",
    "HC1_f$Sample_id <- \"HC1\"\n",
    "HC1_f$Condition <- \"HC\"\n",
    "HC1_f\n"
   ]
  },
  {
   "cell_type": "code",
   "execution_count": 0,
   "metadata": {
    "application/vnd.databricks.v1+cell": {
     "cellMetadata": {},
     "inputWidgets": {},
     "nuid": "a5a53e3e-4d1b-42e0-bc17-27548e48f55c",
     "showTitle": false,
     "tableResultSettingsMap": {},
     "title": ""
    }
   },
   "outputs": [],
   "source": [
    "HC2.counts <- Read10X(data.dir = \"/dbfs/mnt/sandbox/AD_PN/Alkon_et_al_2023//data/HC2/\")\n",
    "# Initialize the Seurat object with the raw (non-normalized data).\n",
    "HC2 <- CreateSeuratObject(counts = HC2.counts)\n",
    "HC2[[\"percent.mt\"]] <- PercentageFeatureSet(HC2, pattern = \"^MT-\")\n",
    "HC2_f <- subset(HC2, subset = nFeature_RNA > 500 & nFeature_RNA < 4000 & percent.mt < 10)\n",
    "HC2_f <- NormalizeData(HC2_f, normalization.method = \"LogNormalize\", scale.factor = 10000)\n",
    "HC2_f$Sample_id <- \"HC2\"\n",
    "HC2_f$Condition <- \"HC\"\n",
    "HC2_f\n"
   ]
  },
  {
   "cell_type": "code",
   "execution_count": 0,
   "metadata": {
    "application/vnd.databricks.v1+cell": {
     "cellMetadata": {},
     "inputWidgets": {},
     "nuid": "e4a2a353-b9e8-4e60-9aa7-b353ed5b2a25",
     "showTitle": false,
     "tableResultSettingsMap": {},
     "title": ""
    }
   },
   "outputs": [],
   "source": [
    "HC3.counts <- Read10X(data.dir = \"/dbfs/mnt/sandbox/AD_PN/Alkon_et_al_2023//data/HC3/\")\n",
    "# Initialize the Seurat object with the raw (non-normalized data).\n",
    "HC3 <- CreateSeuratObject(counts = HC3.counts)\n",
    "HC3[[\"percent.mt\"]] <- PercentageFeatureSet(HC3, pattern = \"^MT-\")\n",
    "HC3_f <- subset(HC3, subset = nFeature_RNA > 500 & nFeature_RNA < 4000 & percent.mt < 10)\n",
    "HC3_f <- NormalizeData(HC3_f, normalization.method = \"LogNormalize\", scale.factor = 10000)\n",
    "HC3_f$Sample_id <- \"HC3\"\n",
    "HC3_f$Condition <- \"HC\"\n",
    "HC3_f\n"
   ]
  },
  {
   "cell_type": "code",
   "execution_count": 0,
   "metadata": {
    "application/vnd.databricks.v1+cell": {
     "cellMetadata": {},
     "inputWidgets": {},
     "nuid": "5349b62d-a5ca-4dea-b03e-c6e55218f63c",
     "showTitle": false,
     "tableResultSettingsMap": {},
     "title": ""
    }
   },
   "outputs": [],
   "source": [
    "HC4.counts <- Read10X(data.dir = \"/dbfs/mnt/sandbox/AD_PN/Alkon_et_al_2023//data/HC4/\")\n",
    "# Initialize the Seurat object with the raw (non-normalized data).\n",
    "HC4 <- CreateSeuratObject(counts = HC4.counts)\n",
    "HC4[[\"percent.mt\"]] <- PercentageFeatureSet(HC4, pattern = \"^MT-\")\n",
    "HC4_f <- subset(HC4, subset = nFeature_RNA > 500 & nFeature_RNA < 4000 & percent.mt < 10)\n",
    "HC4_f <- NormalizeData(HC4_f, normalization.method = \"LogNormalize\", scale.factor = 10000)\n",
    "HC4_f$Sample_id <- \"HC4\"\n",
    "HC4_f$Condition <- \"HC\"\n",
    "HC4_f\n"
   ]
  },
  {
   "cell_type": "markdown",
   "metadata": {
    "application/vnd.databricks.v1+cell": {
     "cellMetadata": {},
     "inputWidgets": {},
     "nuid": "2a3ff94f-6a4a-403f-8a8d-d9ebe30c1027",
     "showTitle": false,
     "tableResultSettingsMap": {},
     "title": ""
    }
   },
   "source": [
    "# Merge the data and perform integration (RCPA)"
   ]
  },
  {
   "cell_type": "code",
   "execution_count": 0,
   "metadata": {
    "application/vnd.databricks.v1+cell": {
     "cellMetadata": {},
     "inputWidgets": {},
     "nuid": "08a50a10-e338-4fd6-8fdc-f65bc7a45ac6",
     "showTitle": false,
     "tableResultSettingsMap": {},
     "title": ""
    }
   },
   "outputs": [],
   "source": [
    "#Remove PN1, very few cells\n",
    "all_cells <- merge(AD1_f, y = c(AD2_f, AD3_f, AD4_f, AD5_f, AP_f, PN1_f, PN2_f, PN3_f, PN4_f, PN5_f, PN6_f, PN7_f, HC1_f, HC2_f, HC3_f, HC4_f), add.cell.ids = c(\"AD1\",\"AD2\",\"AD3\",\"AD4\",\"AD5\",\"AP\", \"PN1\", \"PN2\", \"PN3\", \"PN4\", \"PN5\", \"PN6\", \"PN7\", \"HC1\", \"HC2\", \"HC3\", \"HC4\"))\n",
    "all_cells"
   ]
  },
  {
   "cell_type": "code",
   "execution_count": 0,
   "metadata": {
    "application/vnd.databricks.v1+cell": {
     "cellMetadata": {},
     "inputWidgets": {},
     "nuid": "1244b113-a591-44b8-b72b-6b89effc51ae",
     "showTitle": false,
     "tableResultSettingsMap": {},
     "title": ""
    }
   },
   "outputs": [],
   "source": [
    "# split the dataset into a list\n",
    "cells.list <- SplitObject(all_cells, split.by = \"Sample_id\")"
   ]
  },
  {
   "cell_type": "code",
   "execution_count": 0,
   "metadata": {
    "application/vnd.databricks.v1+cell": {
     "cellMetadata": {},
     "inputWidgets": {},
     "nuid": "439f0c79-1165-473f-a7aa-39f1c9b56740",
     "showTitle": false,
     "tableResultSettingsMap": {},
     "title": ""
    }
   },
   "outputs": [],
   "source": [
    "# normalize and identify variable features for each dataset independently\n",
    "cells.list <- lapply(X = cells.list, FUN = function(x) {\n",
    "    x <- NormalizeData(x)\n",
    "    x <- FindVariableFeatures(x, selection.method = \"vst\", nfeatures = 2000)\n",
    "})"
   ]
  },
  {
   "cell_type": "code",
   "execution_count": 0,
   "metadata": {
    "application/vnd.databricks.v1+cell": {
     "cellMetadata": {},
     "inputWidgets": {},
     "nuid": "e0ab7231-7f9c-4ab5-ad5a-a27f59cfa933",
     "showTitle": false,
     "tableResultSettingsMap": {},
     "title": ""
    }
   },
   "outputs": [],
   "source": [
    "# select features that are repeatedly variable across datasets for integration run PCA on each\n",
    "# dataset using these features\n",
    "features <- SelectIntegrationFeatures(object.list = cells.list)\n",
    "cells.list <- lapply(X = cells.list, FUN = function(x) {\n",
    "    x <- ScaleData(x, features = features, verbose = FALSE)\n",
    "    x <- RunPCA(x, features = features, verbose = FALSE)\n",
    "})"
   ]
  },
  {
   "cell_type": "code",
   "execution_count": 0,
   "metadata": {
    "application/vnd.databricks.v1+cell": {
     "cellMetadata": {},
     "inputWidgets": {},
     "nuid": "338483ff-b865-4d17-9b5b-13a2ee431440",
     "showTitle": false,
     "tableResultSettingsMap": {},
     "title": ""
    }
   },
   "outputs": [],
   "source": [
    "anchors <- FindIntegrationAnchors(object.list = cells.list, anchor.features = features, reduction = \"rpca\")"
   ]
  },
  {
   "cell_type": "code",
   "execution_count": 0,
   "metadata": {
    "application/vnd.databricks.v1+cell": {
     "cellMetadata": {},
     "inputWidgets": {},
     "nuid": "b507202e-2517-4857-aadd-5bcc88074407",
     "showTitle": false,
     "tableResultSettingsMap": {},
     "title": ""
    }
   },
   "outputs": [],
   "source": [
    "obj.combined <- IntegrateData(anchorset = anchors)"
   ]
  },
  {
   "cell_type": "code",
   "execution_count": 0,
   "metadata": {
    "application/vnd.databricks.v1+cell": {
     "cellMetadata": {},
     "inputWidgets": {},
     "nuid": "12727595-d086-4b6f-9e76-15ebe9d79f03",
     "showTitle": false,
     "tableResultSettingsMap": {},
     "title": ""
    }
   },
   "outputs": [],
   "source": [
    "# specify that we will perform downstream analysis on the corrected data note that the\n",
    "# original unmodified data still resides in the 'RNA' assay\n",
    "DefaultAssay(obj.combined) <- \"integrated\"\n",
    "\n",
    "# Run the standard workflow for visualization and clustering\n",
    "obj.combined <- ScaleData(obj.combined, verbose = FALSE)\n",
    "obj.combined <- RunPCA(obj.combined, npcs = 50, verbose = FALSE)\n",
    "obj.combined <- RunUMAP(obj.combined, reduction = \"pca\", dims = 1:50)\n",
    "obj.combined <- FindNeighbors(obj.combined, reduction = \"pca\", dims = 1:50)\n",
    "obj.combined <- FindClusters(obj.combined, resolution = 0.5)"
   ]
  },
  {
   "cell_type": "code",
   "execution_count": 0,
   "metadata": {
    "application/vnd.databricks.v1+cell": {
     "cellMetadata": {},
     "inputWidgets": {},
     "nuid": "c02decda-6f31-4607-8d05-5d8c4fb62f00",
     "showTitle": false,
     "tableResultSettingsMap": {},
     "title": ""
    }
   },
   "outputs": [],
   "source": [
    "DefaultAssay(obj.combined) <- \"integrated\"\n",
    "obj.combined <- FindClusters(obj.combined, resolution = 0.7)\n",
    "DefaultAssay(obj.combined) <- \"RNA\"\n"
   ]
  },
  {
   "cell_type": "code",
   "execution_count": 0,
   "metadata": {
    "application/vnd.databricks.v1+cell": {
     "cellMetadata": {},
     "inputWidgets": {},
     "nuid": "e1edb053-723e-4bc8-b12c-59dfb7d567c6",
     "showTitle": false,
     "tableResultSettingsMap": {},
     "title": ""
    }
   },
   "outputs": [],
   "source": [
    "#Count number of cells above certain cutoff (RNA contamination)\n",
    "assign_labels <- function(gene_counts_matrix) {\n",
    "  S100A13_pos <- which(grepl(\"S100A13\",rownames(gene_counts_matrix)))\n",
    "  S100A16_pos <- which(grepl(\"S100A16\",rownames(gene_counts_matrix)))\n",
    "  S100A14_pos <- which(grepl(\"S100A14\",rownames(gene_counts_matrix)))\n",
    "  GSTP1_pos <- which(grepl(\"GSTP1\",rownames(gene_counts_matrix)))\n",
    "  GSN_pos <- which(\"GSN\"==rownames(gene_counts_matrix))\n",
    "  LGALS7_pos <- which(\"LGALS7\"==rownames(gene_counts_matrix))\n",
    "  DSP_pos <- which(\"DSP\"==rownames(gene_counts_matrix))\n",
    "  S100A4_pos <- which(grepl(\"S100A4\",rownames(gene_counts_matrix)))\n",
    "  S100A10_pos <- which(grepl(\"S100A10\",rownames(gene_counts_matrix)))\n",
    "  KRT2_pos <- which(\"KRT2\"==rownames(gene_counts_matrix))\n",
    "  LY6D_pos <- which(grepl(\"LY6D\",rownames(gene_counts_matrix)))\n",
    "  KRT6B_pos <- which(grepl(\"KRT6B\",rownames(gene_counts_matrix)))\n",
    "  KRT6C_pos <- which(grepl(\"KRT6C\",rownames(gene_counts_matrix)))\n",
    "  FABP5_pos <- which(grepl(\"FABP5\",rownames(gene_counts_matrix)))\n",
    "  KRT17_pos <- which(grepl(\"KRT17\",rownames(gene_counts_matrix)))\n",
    "  DMKN_pos <- which(grepl(\"DMKN\",rownames(gene_counts_matrix)))\n",
    "  AQP3_pos <- which(grepl(\"AQP3\",rownames(gene_counts_matrix)))\n",
    "  CXCL14_pos <- which(grepl(\"CXCL14\",rownames(gene_counts_matrix)))\n",
    "  PERP_pos <- which(grepl(\"PERP\",rownames(gene_counts_matrix)))\n",
    "  S100A2_pos <- which(grepl(\"S100A2\",rownames(gene_counts_matrix)))\n",
    "  SFN_pos <- which(grepl(\"SFN\",rownames(gene_counts_matrix)))\n",
    "  KRT1_pos <- which(\"KRT1\"==rownames(gene_counts_matrix))\n",
    "  KRT10_pos <- which(grepl(\"KRT10\",rownames(gene_counts_matrix)))\n",
    "  KRT5_pos <- which(grepl(\"KRT5\",rownames(gene_counts_matrix)))\n",
    "  KRT14_pos <- which(grepl(\"KRT14\",rownames(gene_counts_matrix)))\n",
    "  S100A6_pos <- which(grepl(\"S100A6\",rownames(gene_counts_matrix)))\n",
    "  S100A7_pos <- which(\"S100A7\"==rownames(gene_counts_matrix))\n",
    "  S100A8_pos <- which(grepl(\"S100A8\",rownames(gene_counts_matrix)))\n",
    "  S100A9_pos <- which(grepl(\"S100A9\",rownames(gene_counts_matrix)))\n",
    "  KRT6A_pos <- which(grepl(\"KRT6A\",rownames(gene_counts_matrix)))\n",
    "  KRT16_pos <- which(grepl(\"KRT16\",rownames(gene_counts_matrix)))\n",
    "  KRTDAP_pos <- which(grepl(\"KRTDAP\",rownames(gene_counts_matrix)))\n",
    "  LGALS7B_pos <- which(grepl(\"LGALS7B\",rownames(gene_counts_matrix)))\n",
    "\n",
    "  labels <- apply(gene_counts_matrix, 2, function(gene_expression) {\n",
    "    if (gene_expression[S100A13_pos] > 2 &\n",
    "    gene_expression[S100A16_pos] > 2 &    \n",
    "    gene_expression[S100A14_pos] > 2.5 &\n",
    "    gene_expression[GSTP1_pos] > 2.5 &\n",
    "    gene_expression[GSN_pos] > 2.5 &\n",
    "    gene_expression[LGALS7_pos] > 3 &\n",
    "    gene_expression[DSP_pos] > 3 &\n",
    "    gene_expression[S100A4_pos] > 3 &\n",
    "    gene_expression[S100A10_pos] > 3 &\n",
    "    gene_expression[KRT2_pos] > 3 &\n",
    "    gene_expression[LY6D_pos] > 3 &\n",
    "    gene_expression[KRT6B_pos] > 3 &\n",
    "    gene_expression[KRT6C_pos] > 3 &\n",
    "    gene_expression[FABP5_pos] > 3 &\n",
    "    gene_expression[KRT17_pos] > 3 &\n",
    "    gene_expression[DMKN_pos] > 3 &\n",
    "    gene_expression[AQP3_pos] > 3 &\n",
    "    gene_expression[CXCL14_pos] > 3 &\n",
    "    gene_expression[PERP_pos] > 3 &\n",
    "    gene_expression[S100A2_pos] > 3.5 &\n",
    "    gene_expression[SFN_pos] > 3.5 &\n",
    "    gene_expression[KRT1_pos] > 4 &\n",
    "    gene_expression[KRT10_pos] > 4 &\n",
    "    gene_expression[KRT5_pos] > 4 &\n",
    "    gene_expression[KRT14_pos] > 4 &\n",
    "    gene_expression[S100A6_pos] > 4 &\n",
    "    gene_expression[S100A7_pos] > 4 &\n",
    "    gene_expression[S100A8_pos] > 4 &\n",
    "    gene_expression[S100A9_pos] > 4 &\n",
    "    gene_expression[KRT6A_pos] > 4 &    \n",
    "    gene_expression[KRT16_pos] > 4 &   \n",
    "    gene_expression[KRTDAP_pos] > 4 &   \n",
    "    gene_expression[LGALS7B_pos] > 4) {\n",
    "      return(\"RNA contaminated\")\n",
    "    } else {\n",
    "      return(\"Clean\")\n",
    "    }\n",
    "  })\n",
    "  return(labels)\n",
    "}\n"
   ]
  },
  {
   "cell_type": "code",
   "execution_count": 0,
   "metadata": {
    "application/vnd.databricks.v1+cell": {
     "cellMetadata": {},
     "inputWidgets": {},
     "nuid": "70c9778b-676f-4d4d-aff2-5c1b74aca44e",
     "showTitle": false,
     "tableResultSettingsMap": {},
     "title": ""
    }
   },
   "outputs": [],
   "source": [
    "labels <- assign_labels(obj.combined@assays$RNA@data)"
   ]
  },
  {
   "cell_type": "code",
   "execution_count": 0,
   "metadata": {
    "application/vnd.databricks.v1+cell": {
     "cellMetadata": {},
     "inputWidgets": {},
     "nuid": "35053ea5-d8cb-455e-a7f6-6dc4cb8caf7a",
     "showTitle": false,
     "tableResultSettingsMap": {},
     "title": ""
    }
   },
   "outputs": [],
   "source": [
    "table(labels)"
   ]
  },
  {
   "cell_type": "code",
   "execution_count": 0,
   "metadata": {
    "application/vnd.databricks.v1+cell": {
     "cellMetadata": {},
     "inputWidgets": {},
     "nuid": "3411e39a-570c-4df1-b955-73651c192e02",
     "showTitle": false,
     "tableResultSettingsMap": {},
     "title": ""
    }
   },
   "outputs": [],
   "source": [
    "DimPlot(obj.combined, group.by=\"Sample_id\", raster=F) +\n",
    "NoAxes()"
   ]
  },
  {
   "cell_type": "code",
   "execution_count": 0,
   "metadata": {
    "application/vnd.databricks.v1+cell": {
     "cellMetadata": {},
     "inputWidgets": {},
     "nuid": "57cfb423-06b1-4972-b54e-c4d258c3a4f1",
     "showTitle": false,
     "tableResultSettingsMap": {},
     "title": ""
    }
   },
   "outputs": [],
   "source": [
    "DimPlot(obj.combined, group.by=\"Condition\", raster=F) +\n",
    "NoAxes()"
   ]
  },
  {
   "cell_type": "code",
   "execution_count": 0,
   "metadata": {
    "application/vnd.databricks.v1+cell": {
     "cellMetadata": {},
     "inputWidgets": {},
     "nuid": "fbeb0a94-b2ec-4f93-99d9-e736ba04fe14",
     "showTitle": false,
     "tableResultSettingsMap": {},
     "title": ""
    }
   },
   "outputs": [],
   "source": [
    "DimPlot(obj.combined, raster=F, label=T) +\n",
    "NoAxes()"
   ]
  },
  {
   "cell_type": "markdown",
   "metadata": {
    "application/vnd.databricks.v1+cell": {
     "cellMetadata": {},
     "inputWidgets": {},
     "nuid": "fa0af741-90d5-4180-9c96-77026aed62a3",
     "showTitle": false,
     "tableResultSettingsMap": {},
     "title": ""
    }
   },
   "source": [
    "# Get the markers between the unsup clusters\n"
   ]
  },
  {
   "cell_type": "code",
   "execution_count": 0,
   "metadata": {
    "application/vnd.databricks.v1+cell": {
     "cellMetadata": {},
     "inputWidgets": {},
     "nuid": "e6bb063a-73ce-456f-8b65-517f3afde028",
     "showTitle": false,
     "tableResultSettingsMap": {},
     "title": ""
    }
   },
   "outputs": [],
   "source": [
    "# Get the clusters\n",
    "DefaultAssay(obj.combined) <- \"RNA\"\n",
    "all.markers <- FindAllMarkers(obj.combined, only.pos = TRUE, min.pct = 0.1, logfc.threshold = 0.25)\n"
   ]
  },
  {
   "cell_type": "code",
   "execution_count": 0,
   "metadata": {
    "application/vnd.databricks.v1+cell": {
     "cellMetadata": {},
     "inputWidgets": {},
     "nuid": "23e6b6e8-01c3-4c26-bdbb-07169a99d67f",
     "showTitle": false,
     "tableResultSettingsMap": {},
     "title": ""
    }
   },
   "outputs": [],
   "source": [
    "#Save the assembled object\n",
    "saveRDS(obj.combined, file=\"/dbfs/mnt/sandbox/AD_PN/Alkon_et_al_2023/misc/1_integrated_obj.rds\")"
   ]
  },
  {
   "cell_type": "code",
   "execution_count": 0,
   "metadata": {
    "application/vnd.databricks.v1+cell": {
     "cellMetadata": {},
     "inputWidgets": {},
     "nuid": "f5630001-f82e-4e64-8b42-384d01c0108f",
     "showTitle": false,
     "tableResultSettingsMap": {},
     "title": ""
    }
   },
   "outputs": [],
   "source": [
    "# Save the markers\n",
    "write.table(all.markers,file=\"/dbfs/mnt/sandbox/AD_PN/Alkon_et_al_2023/misc/1_DEG_unsup_clusters.0.5.tsv\",sep=\"\\t\",quote=F,row.names = TRUE,\n",
    "            col.names = TRUE)"
   ]
  },
  {
   "cell_type": "code",
   "execution_count": 0,
   "metadata": {
    "application/vnd.databricks.v1+cell": {
     "cellMetadata": {},
     "inputWidgets": {},
     "nuid": "a32a97ce-debe-4798-b846-eb7f3f3e5a91",
     "showTitle": false,
     "tableResultSettingsMap": {},
     "title": ""
    }
   },
   "outputs": [],
   "source": [
    "obj.combined <- readRDS( file=\"/dbfs/mnt/sandbox/AD_PN/Alkon_et_al_2023/misc/1_integrated_obj.rds\")"
   ]
  },
  {
   "cell_type": "code",
   "execution_count": 0,
   "metadata": {
    "application/vnd.databricks.v1+cell": {
     "cellMetadata": {},
     "inputWidgets": {},
     "nuid": "bad515ee-9a5a-4958-8a7d-b6395412cf07",
     "showTitle": false,
     "tableResultSettingsMap": {},
     "title": ""
    }
   },
   "outputs": [],
   "source": [
    "# Save the markers\n",
    "all.markers <- read.table(file=\"/dbfs/mnt/sandbox/AD_PN/Alkon_et_al_2023/misc/1_DEG_unsup_clusters.0.5.tsv\",sep=\"\\t\",header = TRUE)\n",
    "table(all.markers$cluster)"
   ]
  },
  {
   "cell_type": "code",
   "execution_count": 0,
   "metadata": {
    "application/vnd.databricks.v1+cell": {
     "cellMetadata": {},
     "inputWidgets": {},
     "nuid": "0bdc9f45-4788-4d9a-9ded-cf5b13c7d5f2",
     "showTitle": false,
     "tableResultSettingsMap": {},
     "title": ""
    }
   },
   "outputs": [],
   "source": [
    "options(repr.plot.width=500, repr.plot.height=300)\n"
   ]
  },
  {
   "cell_type": "code",
   "execution_count": 0,
   "metadata": {
    "application/vnd.databricks.v1+cell": {
     "cellMetadata": {},
     "inputWidgets": {},
     "nuid": "f5875912-08d6-4b76-8fc0-b91ebd48a42a",
     "showTitle": false,
     "tableResultSettingsMap": {},
     "title": ""
    }
   },
   "outputs": [],
   "source": [
    "dittoBarPlot(obj.combined, \"Condition\", group.by=\"Condition\",   scale = c( \"count\"))"
   ]
  },
  {
   "cell_type": "code",
   "execution_count": 0,
   "metadata": {
    "application/vnd.databricks.v1+cell": {
     "cellMetadata": {},
     "inputWidgets": {},
     "nuid": "d8d499e7-3f39-4506-a1f4-2e0a918290f2",
     "showTitle": false,
     "tableResultSettingsMap": {},
     "title": ""
    }
   },
   "outputs": [],
   "source": [
    "table(obj.combined$Condition)"
   ]
  },
  {
   "cell_type": "code",
   "execution_count": 0,
   "metadata": {
    "application/vnd.databricks.v1+cell": {
     "cellMetadata": {},
     "inputWidgets": {},
     "nuid": "6a4a95b8-b271-476e-ae71-22de21d8ed0c",
     "showTitle": false,
     "tableResultSettingsMap": {},
     "title": ""
    }
   },
   "outputs": [],
   "source": [
    "options(repr.plot.width=1000, repr.plot.height=1000)\n"
   ]
  },
  {
   "cell_type": "code",
   "execution_count": 0,
   "metadata": {
    "application/vnd.databricks.v1+cell": {
     "cellMetadata": {},
     "inputWidgets": {},
     "nuid": "30dcef4c-8fd2-46a7-ad37-e6828e441d5b",
     "showTitle": false,
     "tableResultSettingsMap": {},
     "title": ""
    }
   },
   "outputs": [],
   "source": [
    "DefaultAssay(obj.combined)"
   ]
  },
  {
   "cell_type": "code",
   "execution_count": 0,
   "metadata": {
    "application/vnd.databricks.v1+cell": {
     "cellMetadata": {},
     "inputWidgets": {},
     "nuid": "a3b2dccf-0ac8-4e29-ae81-c6c9e0f446df",
     "showTitle": false,
     "tableResultSettingsMap": {},
     "title": ""
    }
   },
   "outputs": [],
   "source": [
    "genes <- c(\"CD3D\",\"CD4\",\"CD8A\",\"MKI67\",\"IL7R\",\"FOXP3\",\"IFNG\",\"IL13\",\"CRTAM\",\"IL9\",\"KLRD1\",\"KLRB1\",\"CD79A\",\"CD207\",\"ITGAX\",\"LAMP3\",\"CLEC9A\",\"CD163\",\"TPSAB1\",\"NRXN1\",\"SCN7A\",\"MLANA\",\"ACTA2\",\"LYVE1\",\"PECAM1\",\"COL1A1\",\"KRT18\",\"KRT19\",\"KRT14\",\"KRT10\",\"PTPRC\")\n",
    "dittoDotPlot(obj.combined,vars=genes,group.by=\"seurat_clusters\") +\n",
    "    RotatedAxis()"
   ]
  },
  {
   "cell_type": "code",
   "execution_count": 0,
   "metadata": {
    "application/vnd.databricks.v1+cell": {
     "cellMetadata": {},
     "inputWidgets": {},
     "nuid": "00931b0e-810e-4003-b799-17f2b1dbe67f",
     "showTitle": false,
     "tableResultSettingsMap": {},
     "title": ""
    }
   },
   "outputs": [],
   "source": [
    "# T cell: 4,18,25,30\n",
    "#   CD4: \n",
    "#   CD8/NK: 18\n",
    "#   Treg: 4,25,30\n",
    "# Prolif: 6,25,27,32\n",
    "# B: 24\n",
    "# LC: 10\n",
    "# DC: 21,28\n",
    "# MacroPhages: 16\n",
    "# Mast: 31\n",
    "# Melanocytes: 19\n",
    "# Peri: 23\n",
    "# Smooth muscle: 12,14\n",
    "# lymphatic endothelial: 15\n",
    "# blood endothelial: 2,8,9,30\n",
    "# fb: 3,5,11,12,20\n",
    "# sweat gland: 26\n",
    "# keratinocytes: 0,1,6,7,13,17,29,22"
   ]
  },
  {
   "cell_type": "code",
   "execution_count": 0,
   "metadata": {
    "application/vnd.databricks.v1+cell": {
     "cellMetadata": {},
     "inputWidgets": {},
     "nuid": "899b038d-d740-4217-babe-bcef8133b98a",
     "showTitle": false,
     "tableResultSettingsMap": {},
     "title": ""
    }
   },
   "outputs": [],
   "source": [
    "new.cluster.ids <- c(\"0 Kt\",\"1 Kt\",\"2 Blood end\",\"3 Fb\",\"4 CD4/Treg\",\"5 Fb\",\"6 Prolif\",\"7 Kt\",\"8 Blood end\",\"9 Blood end\",\"10 LC\",\"11 Fb\",\"12 Smooth\",\"13 Kt\",\"14 Smooth\",\"15 Lymph end\",\"16 Macro\",\"17 Kt\",\"18 CD8/NK\",\"19 Mel\",\"20 Fb\",\"21 DC\",\"22 Kt\",\"23 Peric\",\"24 B\",\"25 Prolif\",\"26 Sweat\",\"27 Prolif\",\"28 DC\",\"29 Kt/Fb\",\"30 Blood end\",\"31 Mast\",\"32 Prolif\")\n",
    "names(new.cluster.ids) <- levels(obj.combined)\n",
    "obj.combined <- RenameIdents(obj.combined, new.cluster.ids)\n",
    "obj.combined$cell_population <- Idents(obj.combined)"
   ]
  },
  {
   "cell_type": "code",
   "execution_count": 0,
   "metadata": {
    "application/vnd.databricks.v1+cell": {
     "cellMetadata": {},
     "inputWidgets": {},
     "nuid": "8010a005-0a67-4456-bcc4-e753a71e44e7",
     "showTitle": false,
     "tableResultSettingsMap": {},
     "title": ""
    }
   },
   "outputs": [],
   "source": [
    "DimPlot(obj.combined, raster=F, label=T) +\n",
    "NoAxes()"
   ]
  },
  {
   "cell_type": "code",
   "execution_count": 0,
   "metadata": {
    "application/vnd.databricks.v1+cell": {
     "cellMetadata": {},
     "inputWidgets": {},
     "nuid": "111e0bac-0b8f-4bed-9319-414473c98144",
     "showTitle": false,
     "tableResultSettingsMap": {},
     "title": ""
    }
   },
   "outputs": [],
   "source": [
    "new.cluster.ids <- c(\"Kt\",\"Kt\",\"Blood end\",\"Fb\",\"T cell\",\"Fb\",\"Kt Prolif\",\"Kt\",\"Blood end\",\"Blood end\",\"Myeloid\",\"Fb\",\"Smooth\",\"Kt\",\"Smooth\",\"Lymph end\",\"Myeloid\",\"Kt\",\"T cell\",\"Mel\",\"Fb\",\"Myeloid\",\"Kt\",\"Peric\",\"B\",\"T cell Prolif\",\"Sweat\",\"Myeloid Prolif\",\"Myeloid\",\"Kt/Fb\",\"Blood end\",\"Mast\",\"Kt Prolif\")\n",
    "names(new.cluster.ids) <- levels(obj.combined)\n",
    "obj.combined <- RenameIdents(obj.combined, new.cluster.ids)\n",
    "obj.combined$cell_population_v2 <- Idents(obj.combined)\n",
    "#Idents(obj.combined) <- obj.combined$cell_population"
   ]
  },
  {
   "cell_type": "code",
   "execution_count": 0,
   "metadata": {
    "application/vnd.databricks.v1+cell": {
     "cellMetadata": {},
     "inputWidgets": {},
     "nuid": "d8e833c7-4608-438d-aeb4-bb06128075a4",
     "showTitle": false,
     "tableResultSettingsMap": {},
     "title": ""
    }
   },
   "outputs": [],
   "source": [
    "DimPlot(obj.combined, raster=F, label=T) +\n",
    "NoAxes()"
   ]
  },
  {
   "cell_type": "code",
   "execution_count": 0,
   "metadata": {
    "application/vnd.databricks.v1+cell": {
     "cellMetadata": {},
     "inputWidgets": {},
     "nuid": "af201a36-4a70-4faa-83d6-6075d532720f",
     "showTitle": false,
     "tableResultSettingsMap": {},
     "title": ""
    }
   },
   "outputs": [],
   "source": [
    "options(repr.plot.width=1200, repr.plot.height=800)\n"
   ]
  },
  {
   "cell_type": "code",
   "execution_count": 0,
   "metadata": {
    "application/vnd.databricks.v1+cell": {
     "cellMetadata": {},
     "inputWidgets": {},
     "nuid": "6b2a1fc7-b34e-4ac6-91bc-5daa628a044e",
     "showTitle": false,
     "tableResultSettingsMap": {},
     "title": ""
    }
   },
   "outputs": [],
   "source": [
    "FeaturePlot(obj.combined,features=\"FOXP3\",raster=F)"
   ]
  },
  {
   "cell_type": "code",
   "execution_count": 0,
   "metadata": {
    "application/vnd.databricks.v1+cell": {
     "cellMetadata": {},
     "inputWidgets": {},
     "nuid": "5587deb9-2fb9-4122-8504-9d86327fabeb",
     "showTitle": false,
     "tableResultSettingsMap": {},
     "title": ""
    }
   },
   "outputs": [],
   "source": [
    "FeaturePlot(obj.combined,features=\"IKZF2\",raster=F)"
   ]
  },
  {
   "cell_type": "code",
   "execution_count": 0,
   "metadata": {
    "application/vnd.databricks.v1+cell": {
     "cellMetadata": {},
     "inputWidgets": {},
     "nuid": "84482ec7-1ba0-4752-a7fb-9de2c9d8ed15",
     "showTitle": false,
     "tableResultSettingsMap": {},
     "title": ""
    }
   },
   "outputs": [],
   "source": [
    "#Save the assembled object\n",
    "saveRDS(obj.combined, file=\"/dbfs/mnt/sandbox/AD_PN/Alkon_et_al_2023/misc/1_integrated_obj_annotated.rds\")"
   ]
  }
 ],
 "metadata": {
  "application/vnd.databricks.v1+notebook": {
   "computePreferences": null,
   "dashboards": [],
   "environmentMetadata": null,
   "inputWidgetPreferences": null,
   "language": "r",
   "notebookMetadata": {
    "pythonIndentUnit": 4
   },
   "notebookName": "01.Alkon_initial_download",
   "widgets": {}
  },
  "language_info": {
   "name": "r"
  }
 },
 "nbformat": 4,
 "nbformat_minor": 0
}
