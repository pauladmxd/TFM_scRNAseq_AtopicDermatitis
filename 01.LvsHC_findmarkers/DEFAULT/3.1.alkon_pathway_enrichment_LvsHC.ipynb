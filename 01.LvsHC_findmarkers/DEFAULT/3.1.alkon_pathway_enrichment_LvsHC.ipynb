{
 "cells": [
  {
   "cell_type": "markdown",
   "metadata": {
    "application/vnd.databricks.v1+cell": {
     "cellMetadata": {},
     "inputWidgets": {},
     "nuid": "43c88fb5-e2d9-41e1-9d02-3ce53ef1e278",
     "showTitle": false,
     "tableResultSettingsMap": {},
     "title": ""
    }
   },
   "source": [
    "# Pathway enrichment in LvsHC alkon markers\n",
    "In order to interpret the DEA genes found and understand the biological context:\n",
    "\n",
    "Here I will perform the pathway enrichment with different databases (KEGG, Reactome...) in the common markers of the datasets.\n",
    "\n",
    "Also GO enrichment."
   ]
  },
  {
   "cell_type": "code",
   "execution_count": 0,
   "metadata": {
    "application/vnd.databricks.v1+cell": {
     "cellMetadata": {},
     "inputWidgets": {},
     "nuid": "4f049fec-82f4-40f1-af11-0c34fc8d8676",
     "showTitle": false,
     "tableResultSettingsMap": {},
     "title": ""
    }
   },
   "outputs": [],
   "source": [
    "%sh\n",
    "apt-get -y install libglpk-dev #Correct igraph - Need t load before, compatible for 14.3 LTS"
   ]
  },
  {
   "cell_type": "code",
   "execution_count": 0,
   "metadata": {
    "application/vnd.databricks.v1+cell": {
     "cellMetadata": {},
     "inputWidgets": {},
     "nuid": "60f9abee-6a84-4ca0-a54e-606770533df0",
     "showTitle": false,
     "tableResultSettingsMap": {},
     "title": ""
    }
   },
   "outputs": [],
   "source": [
    "# Load libraries\n",
    "## Append the library folder\n",
    ".libPaths(c(\"/dbfs/home/boriol@almirall.com/my_r_packages/bulkRNASeq_PBMCs_R4.3\", .libPaths()))\n",
    "\n",
    "# Load libraries\n",
    "library(clusterProfiler)\n",
    "library(ReactomePA) \n",
    "library(msigdbr)\n",
    "library(DOSE)\n",
    "library(tidyverse)\n",
    "library(org.Hs.eg.db)\n",
    "library(biomaRt)\n",
    "\n",
    ".libPaths(c(\"/dbfs/home/jtrincado@almirall.com/my_r_packages/Seurat\", .libPaths()))\n",
    "library(openxlsx)\n",
    "library(enrichplot)\n",
    "library(ggplot2)"
   ]
  },
  {
   "cell_type": "markdown",
   "metadata": {
    "application/vnd.databricks.v1+cell": {
     "cellMetadata": {},
     "inputWidgets": {},
     "nuid": "e275aebb-c22d-4390-8340-0ef26d56c7cf",
     "showTitle": false,
     "tableResultSettingsMap": {},
     "title": ""
    }
   },
   "source": [
    "##Functions, G_list and HALLMARKS databases needed"
   ]
  },
  {
   "cell_type": "code",
   "execution_count": 0,
   "metadata": {
    "application/vnd.databricks.v1+cell": {
     "cellMetadata": {},
     "inputWidgets": {},
     "nuid": "41c09741-32fe-48aa-9608-94786aae9797",
     "showTitle": false,
     "tableResultSettingsMap": {},
     "title": ""
    }
   },
   "outputs": [],
   "source": [
    "prepare_gene_list <- function(res, G_list) {\n",
    "  res <- res %>%\n",
    "    mutate(avg_log2FC = ifelse(cluster == \"HC\", -abs(avg_log2FC), avg_log2FC)) #It is done because the analysis was done only with positive results and to be able to differentiate healthy and lesional I assign that sign\n",
    "  \n",
    "  # Rank by pvalue\n",
    "  res_rankedlist <- res %>%\n",
    "    mutate(p_val_adj = ifelse(p_val_adj == 0, 1e-300, p_val_adj)) %>%\n",
    "    mutate(rank = -log10(p_val_adj) * sign(avg_log2FC)) %>%\n",
    "    mutate(rank2 = (1 + avg_log2FC) * -log10(p_val_adj))\n",
    "  \n",
    "  # Assigning the 'gene' column values to the 'hgnc_symbol'\n",
    "  res_rankedlist$hgnc_symbol <- res_rankedlist$gene\n",
    "    display(res_rankedlist)\n",
    "\n",
    "  gene_list <- left_join(res_rankedlist, G_list, by = \"hgnc_symbol\") %>% distinct_all()\n",
    "  gene_list_entrez_id <- gene_list %>% dplyr::select(entrezgene_id, rank) %>% distinct(entrezgene_id, .keep_all = TRUE) %>% drop_na()\n",
    "  \n",
    "  geneList_entrez <- gene_list_entrez_id$rank\n",
    "  names(geneList_entrez) <- gene_list_entrez_id$entrezgene_id\n",
    "  \n",
    "  geneList_entrez <- geneList_entrez[is.finite(geneList_entrez)]\n",
    "  geneList_entrez <- sort(geneList_entrez, decreasing = TRUE)\n",
    "  geneList_entrez\n",
    "  return(geneList_entrez)\n",
    "}"
   ]
  },
  {
   "cell_type": "code",
   "execution_count": 0,
   "metadata": {
    "application/vnd.databricks.v1+cell": {
     "cellMetadata": {},
     "inputWidgets": {},
     "nuid": "81708ffc-a369-4c31-8fed-aaaeba43b9e9",
     "showTitle": false,
     "tableResultSettingsMap": {},
     "title": ""
    }
   },
   "outputs": [],
   "source": [
    "#Fuction to generate a dotplot of the pathway results\n",
    "# Arguments: results and tittle of the plot\n",
    "dotplot_pathway_generator <- function(results, title) {\n",
    "  ggplot(results, aes(x = NES, y = reorder(Description, NES), size = SetSize, color = p.adjust)) +\n",
    "    geom_point(alpha = 0.7) +\n",
    "    scale_color_gradient(low = \"red\", high = \"darkblue\") +\n",
    "    labs(x = \"NES\", y = \"Pathway\", size = \"SetSize\", color = \"P-value adjust\") +\n",
    "    ggtitle(title) +\n",
    "    theme_minimal() +\n",
    "    theme(axis.text.y = element_text(size = 8))\n",
    "}"
   ]
  },
  {
   "cell_type": "code",
   "execution_count": 0,
   "metadata": {
    "application/vnd.databricks.v1+cell": {
     "cellMetadata": {},
     "inputWidgets": {},
     "nuid": "f0ffde9e-4cf1-4569-b422-745e160446be",
     "showTitle": false,
     "tableResultSettingsMap": {},
     "title": ""
    }
   },
   "outputs": [],
   "source": [
    "get_enrichments <- function(gene_list, pval_cutoff, term2gene_hallmark, term2gene_hallmark2 = NULL) {\n",
    "  set.seed(123)\n",
    "  # KEGG enrichment\n",
    "  kegg_result <- gseKEGG(gene_list, pvalueCutoff = pval_cutoff, organism = \"hsa\", verbose = FALSE, eps=0)\n",
    "  res_kegg <- kegg_result@result\n",
    "  \n",
    "  # Reactome enrichment\n",
    "  reactome_result <- gsePathway(gene_list, pAdjustMethod = \"BH\", pvalueCutoff = pval_cutoff, organism = \"human\", verbose = FALSE,  eps=0)\n",
    "  res_reactome <- reactome_result@result\n",
    "  \n",
    "  # Hallmark enrichment\n",
    "  hallmark_result <- GSEA(gene_list, TERM2GENE = term2gene_hallmark, pvalueCutoff = pval_cutoff,  eps=0)\n",
    "  res_hallmark <- hallmark_result@result\n",
    "  \n",
    "  if (!is.null(term2gene_hallmark2)) {\n",
    "    hallmark_result2 <- GSEA(gene_list, TERM2GENE = term2gene_hallmark2, pvalueCutoff = pval_cutoff,  eps=0)\n",
    "    res_hallmark2 <- hallmark_result2@result\n",
    "    return(list(KEGG = res_kegg, Reactome = res_reactome, Hallmark1 = res_hallmark, Hallmark2 = res_hallmark2))\n",
    "  }\n",
    "  \n",
    "  return(list(KEGG = res_kegg, Reactome = res_reactome, Hallmark = res_hallmark))\n",
    "}"
   ]
  },
  {
   "cell_type": "code",
   "execution_count": 0,
   "metadata": {
    "application/vnd.databricks.v1+cell": {
     "cellMetadata": {},
     "inputWidgets": {},
     "nuid": "ce8fbb48-e62c-474c-817e-9dbbe6ac5fae",
     "showTitle": false,
     "tableResultSettingsMap": {},
     "title": ""
    }
   },
   "outputs": [],
   "source": [
    "#Fuction to generate a barplot of the top pathway results\n",
    "# Arguments: results, number of pathways (N with NES <0 and N with NES>0) and tittle of the plot\n",
    "barplot_gsea <- function(res, N, title) {\n",
    "  aux_pos <- arrange(res[which(res$NES > 0),], -NES)\n",
    "  aux_neg <- arrange(res[which(res$NES < 0),], -NES)\n",
    "  GSEA_f <- unique(rbind(head(aux_pos, n = N), tail(aux_neg, n = N)))\n",
    "\n",
    "  options(repr.plot.width = 1400, repr.plot.height = 1000, echo = FALSE)\n",
    "  \n",
    "  plot <- ggplot(GSEA_f, aes(NES, fct_reorder(Description, NES), fill = p.adjust), showCategory = 2*N) + \n",
    "    geom_col(orientation = 'y') + \n",
    "    scale_fill_continuous(low = 'red', high = 'blue', guide = guide_colorbar(reverse = TRUE)) + \n",
    "    theme_minimal() + ylab(NULL) + xlab(\"NES\") +\n",
    "    ggtitle(title)\n",
    "  \n",
    "  return(plot)\n",
    "}"
   ]
  },
  {
   "cell_type": "code",
   "execution_count": 0,
   "metadata": {
    "application/vnd.databricks.v1+cell": {
     "cellMetadata": {},
     "inputWidgets": {},
     "nuid": "3a6f408b-55b5-4b27-a0e9-81c47ccf37df",
     "showTitle": false,
     "tableResultSettingsMap": {},
     "title": ""
    }
   },
   "outputs": [],
   "source": [
    "G_list <- readRDS(\"/dbfs/mnt/sandbox/RNASeq/PBMCs_IL4/pathways/G_list20240710.rds\") #List with all translations to other id names\n",
    "G_list <-  G_list %>% dplyr::filter(transcript_biotype == \"protein_coding\")"
   ]
  },
  {
   "cell_type": "code",
   "execution_count": 0,
   "metadata": {
    "application/vnd.databricks.v1+cell": {
     "cellMetadata": {},
     "inputWidgets": {},
     "nuid": "1c9c0353-142b-4063-9f76-42fe16e0782f",
     "showTitle": false,
     "tableResultSettingsMap": {},
     "title": ""
    }
   },
   "outputs": [],
   "source": [
    "#HALLMARKS\n",
    "\n",
    "library(msigdbr)\n",
    "msigdbr_species()\n",
    "\n",
    "m_df <- msigdbr(species = \"Homo sapiens\")\n",
    "head(m_df, 2) %>% as.data.frame\n",
    "msigdbr_collections()\n",
    "\n",
    "C2_t2g <- msigdbr(species = \"Homo sapiens\", category = \"C2\") %>% \n",
    "  dplyr::select(gs_name, entrez_gene)\n",
    "head(C2_t2g) #This collection includes gene sets curated from various sources such as online pathway databases and the biomedical literature. \n",
    "\n",
    "H_t2g <- msigdbr(species = \"Homo sapiens\", category = \"H\") %>% \n",
    "  dplyr::select(gs_name, entrez_gene)\n",
    "head(H_t2g) # These gene sets summarize and represent specific well-defined biological states or processes. They are designed to reduce noise and redundancy, providing a clearer biological context.\n",
    "\n",
    "\n",
    "CP_t2g <- msigdbr(species = \"Homo sapiens\", category = \"C2\", subcategory = \"CP\") %>% \n",
    "  dplyr::select(gs_name, entrez_gene)\n",
    "head(CP_t2g) #CP (Canonical Pathways): Gene sets from pathway databases representing canonical biological processes\n",
    "\n",
    "C7_t2g <- msigdbr(species = \"Homo sapiens\", category = \"C7\") %>% \n",
    "  dplyr::select(gs_name, entrez_gene)\n",
    "head(C7_t2g) #Immunologic Signatures: Gene sets representing expression signatures of immune cell states, cell types, and perturbations"
   ]
  },
  {
   "cell_type": "markdown",
   "metadata": {
    "application/vnd.databricks.v1+cell": {
     "cellMetadata": {},
     "inputWidgets": {},
     "nuid": "21158118-eaa4-4af7-a5b6-9482704b3455",
     "showTitle": false,
     "tableResultSettingsMap": {},
     "title": ""
    }
   },
   "source": [
    "##Tcell"
   ]
  },
  {
   "cell_type": "code",
   "execution_count": 0,
   "metadata": {
    "application/vnd.databricks.v1+cell": {
     "cellMetadata": {},
     "inputWidgets": {},
     "nuid": "90e342fb-f73a-44f3-b54d-93b2a6546c9f",
     "showTitle": false,
     "tableResultSettingsMap": {},
     "title": ""
    }
   },
   "outputs": [],
   "source": [
    "res_tcell <- read.xlsx(\"/dbfs/mnt/sandbox/TFM_PAULA/Alkon/alkon_tcell_LvsHC_allmarkers.xlsx\")"
   ]
  },
  {
   "cell_type": "code",
   "execution_count": 0,
   "metadata": {
    "application/vnd.databricks.v1+cell": {
     "cellMetadata": {},
     "inputWidgets": {},
     "nuid": "5403d457-4eee-449f-ba60-1043dd23a1a6",
     "showTitle": false,
     "tableResultSettingsMap": {},
     "title": ""
    }
   },
   "outputs": [],
   "source": [
    "res_tcell <- res_tcell %>%\n",
    "  mutate(avg_log2FC = ifelse(cluster == \"HC\", -abs(avg_log2FC), avg_log2FC))"
   ]
  },
  {
   "cell_type": "code",
   "execution_count": 0,
   "metadata": {
    "application/vnd.databricks.v1+cell": {
     "cellMetadata": {},
     "inputWidgets": {},
     "nuid": "bee771aa-87b3-4483-a7d5-edc588d4b6b7",
     "showTitle": false,
     "tableResultSettingsMap": {},
     "title": ""
    }
   },
   "outputs": [],
   "source": [
    "#Rank by pvalue\n",
    "tcell_rankedlist <- res_tcell %>%\n",
    "  mutate(p_val_adj = ifelse(p_val_adj == 0, 1e-300, p_val_adj)) %>%\n",
    "  mutate(rank = -log10(p_val_adj)*sign(avg_log2FC)) %>%\n",
    "  mutate(rank2 = (1+avg_log2FC) * -log10(p_val_adj))"
   ]
  },
  {
   "cell_type": "code",
   "execution_count": 0,
   "metadata": {
    "application/vnd.databricks.v1+cell": {
     "cellMetadata": {},
     "inputWidgets": {},
     "nuid": "ef12492f-cb2a-440f-a9b2-979ed485598c",
     "showTitle": false,
     "tableResultSettingsMap": {},
     "title": ""
    }
   },
   "outputs": [],
   "source": [
    "display(tcell_rankedlist)"
   ]
  },
  {
   "cell_type": "code",
   "execution_count": 0,
   "metadata": {
    "application/vnd.databricks.v1+cell": {
     "cellMetadata": {},
     "inputWidgets": {},
     "nuid": "4d53d22f-aaf3-4bc6-80e2-4d456be52065",
     "showTitle": false,
     "tableResultSettingsMap": {},
     "title": ""
    }
   },
   "outputs": [],
   "source": [
    "# Assigning the 'gene' column values to the 'hgnc_symbol'\n",
    "tcell_rankedlist$hgnc_symbol <- tcell_rankedlist$gene"
   ]
  },
  {
   "cell_type": "code",
   "execution_count": 0,
   "metadata": {
    "application/vnd.databricks.v1+cell": {
     "cellMetadata": {},
     "inputWidgets": {},
     "nuid": "94b6c144-8a7b-40e0-9375-507c644e17e8",
     "showTitle": false,
     "tableResultSettingsMap": {},
     "title": ""
    }
   },
   "outputs": [],
   "source": [
    "#Merge by symbol and select relevant columns for gene list\n",
    "gene_list_Tcell <- left_join(tcell_rankedlist, G_list, by = \"hgnc_symbol\") %>% distinct_all()\n",
    "gene_list_entrez_id_Tcell <- gene_list_Tcell %>% dplyr::select(entrezgene_id, rank, rank2) %>% distinct(entrezgene_id, .keep_all = TRUE) %>% drop_na()"
   ]
  },
  {
   "cell_type": "code",
   "execution_count": 0,
   "metadata": {
    "application/vnd.databricks.v1+cell": {
     "cellMetadata": {},
     "inputWidgets": {},
     "nuid": "539ec13b-0acf-4779-bf37-cbde84d0ea08",
     "showTitle": false,
     "tableResultSettingsMap": {},
     "title": ""
    }
   },
   "outputs": [],
   "source": [
    "#Prepare the gene List\n",
    "geneList_entrez_Tcell  <- gene_list_entrez_id_Tcell$rank #add the rank to the geneList\n",
    "\n",
    "#entrez id as the names in geneList\n",
    "names(geneList_entrez_Tcell) <- gene_list_entrez_id_Tcell$entrezgene_id "
   ]
  },
  {
   "cell_type": "markdown",
   "metadata": {
    "application/vnd.databricks.v1+cell": {
     "cellMetadata": {},
     "inputWidgets": {},
     "nuid": "13314261-9432-4fe9-b113-43c60cef1a86",
     "showTitle": false,
     "tableResultSettingsMap": {},
     "title": ""
    }
   },
   "source": [
    "Clean and sort the gene lists to use them in gse"
   ]
  },
  {
   "cell_type": "code",
   "execution_count": 0,
   "metadata": {
    "application/vnd.databricks.v1+cell": {
     "cellMetadata": {},
     "inputWidgets": {},
     "nuid": "f7b3b48b-914d-4e77-9485-9cbb5fd1cf3e",
     "showTitle": false,
     "tableResultSettingsMap": {},
     "title": ""
    }
   },
   "outputs": [],
   "source": [
    "# Clean and sort the geneList\n",
    "geneList_entrez_Tcell <- geneList_entrez_Tcell[is.finite(geneList_entrez_Tcell)]\n",
    "geneList_entrez_Tcell <- sort(geneList_entrez_Tcell, decreasing = TRUE)"
   ]
  },
  {
   "cell_type": "code",
   "execution_count": 0,
   "metadata": {
    "application/vnd.databricks.v1+cell": {
     "cellMetadata": {},
     "inputWidgets": {},
     "nuid": "b1b9ca5b-5715-4511-ae0f-833e8bd6ec7f",
     "showTitle": false,
     "tableResultSettingsMap": {},
     "title": ""
    }
   },
   "outputs": [],
   "source": [
    "geneList_entrez_Tcell <- prepare_gene_list(res_tcell, G_list)"
   ]
  },
  {
   "cell_type": "markdown",
   "metadata": {
    "application/vnd.databricks.v1+cell": {
     "cellMetadata": {},
     "inputWidgets": {},
     "nuid": "3b205c61-2f88-4978-b187-dbbf8a091b3e",
     "showTitle": false,
     "tableResultSettingsMap": {},
     "title": ""
    }
   },
   "source": [
    "###ENRICHMENT"
   ]
  },
  {
   "cell_type": "code",
   "execution_count": 0,
   "metadata": {
    "application/vnd.databricks.v1+cell": {
     "cellMetadata": {},
     "inputWidgets": {},
     "nuid": "fe94cc0b-a4e1-4a11-b7c6-b62b95f98a1c",
     "showTitle": false,
     "tableResultSettingsMap": {},
     "title": ""
    }
   },
   "outputs": [],
   "source": [
    "res_tcell_0.05 <- get_enrichments(geneList_entrez_Tcell, 0.05, H_t2g)"
   ]
  },
  {
   "cell_type": "code",
   "execution_count": 0,
   "metadata": {
    "application/vnd.databricks.v1+cell": {
     "cellMetadata": {},
     "inputWidgets": {},
     "nuid": "dffdaedf-c28f-45aa-b706-afa70a90b71c",
     "showTitle": false,
     "tableResultSettingsMap": {},
     "title": ""
    }
   },
   "outputs": [],
   "source": [
    "res_tcell_1 <- get_enrichments(geneList_entrez_Tcell, 1, H_t2g)"
   ]
  },
  {
   "cell_type": "code",
   "execution_count": 0,
   "metadata": {
    "application/vnd.databricks.v1+cell": {
     "cellMetadata": {},
     "inputWidgets": {},
     "nuid": "a99b6f15-0529-49db-922f-c0abba721082",
     "showTitle": false,
     "tableResultSettingsMap": {},
     "title": ""
    }
   },
   "outputs": [],
   "source": [
    "barplot_gsea(res_tcell_0.05$Hallmark, 20, \"Top 40 Tcell Alkon - Reactome\")"
   ]
  },
  {
   "cell_type": "code",
   "execution_count": 0,
   "metadata": {
    "application/vnd.databricks.v1+cell": {
     "cellMetadata": {},
     "inputWidgets": {},
     "nuid": "49614340-d932-4e17-8304-9d8678445fc1",
     "showTitle": false,
     "tableResultSettingsMap": {},
     "title": ""
    }
   },
   "outputs": [],
   "source": [
    "barplot_gsea(res_tcell_1$Hallmark, 10, \"Top 20 Tcell Alkon - Hallmark\")"
   ]
  },
  {
   "cell_type": "code",
   "execution_count": 0,
   "metadata": {
    "application/vnd.databricks.v1+cell": {
     "cellMetadata": {},
     "inputWidgets": {},
     "nuid": "afc02bd5-2c7b-4ee0-baeb-253027bfb828",
     "showTitle": false,
     "tableResultSettingsMap": {},
     "title": ""
    }
   },
   "outputs": [],
   "source": [
    "set.seed(123)\n",
    "tcell_GO <- enrichGO(gene = names(geneList_entrez_Tcell),\n",
    "                OrgDb         = org.Hs.eg.db,\n",
    "                keyType       = \"ENTREZID\",\n",
    "                ont           = \"BP\", \n",
    "                pAdjustMethod = \"BH\",\n",
    "                pvalueCutoff  = 0.05,\n",
    "                qvalueCutoff = 0.2)\n",
    "\n",
    "res_tcell_GO <- tcell_GO@result\n",
    "\n",
    "# Filter results to include only those with p.adjust < 0.05\n",
    "filtered_res_tcell_GO <- res_tcell_GO %>%\n",
    "  filter(p.adjust < 0.05)\n",
    "display(filtered_res_tcell_GO)"
   ]
  },
  {
   "cell_type": "code",
   "execution_count": 0,
   "metadata": {
    "application/vnd.databricks.v1+cell": {
     "cellMetadata": {},
     "inputWidgets": {},
     "nuid": "32c11f95-8906-412a-9161-5d3e62a9d4e4",
     "showTitle": false,
     "tableResultSettingsMap": {},
     "title": ""
    }
   },
   "outputs": [],
   "source": [
    "options(repr.plot.width=1000, repr.plot.height=1000,  echo= F)\n",
    "barplot(tcell_GO, showCategory=30, label_format=50, font.size=9) + ggtitle(\"Alkon- Tcell - L vs HC - GO\")"
   ]
  },
  {
   "cell_type": "code",
   "execution_count": 0,
   "metadata": {
    "application/vnd.databricks.v1+cell": {
     "cellMetadata": {},
     "inputWidgets": {},
     "nuid": "0b85220d-f27d-407b-9987-e02018c47064",
     "showTitle": false,
     "tableResultSettingsMap": {},
     "title": ""
    }
   },
   "outputs": [],
   "source": [
    "#Save results\n",
    "write.xlsx(res_tcell_0.05, \"/dbfs/mnt/sandbox/TFM_PAULA/Alkon/GSEA_individually/res_tcell_0.05_alkon.xlsx\")\n",
    "write.xlsx(tcell_GO, \"/dbfs/mnt/sandbox/TFM_PAULA/Alkon/GSEA_individually/res_tcell_alkon_GO.xlsx\")"
   ]
  },
  {
   "cell_type": "code",
   "execution_count": 0,
   "metadata": {
    "application/vnd.databricks.v1+cell": {
     "cellMetadata": {},
     "inputWidgets": {},
     "nuid": "4081c6fb-948d-4c5a-a424-71e0e824d465",
     "showTitle": false,
     "tableResultSettingsMap": {},
     "title": ""
    }
   },
   "outputs": [],
   "source": [
    "res_tcell_1$Reactome[grepl(\"R-HSA-6785807\", res_tcell_1$Reactome$ID), ]"
   ]
  },
  {
   "cell_type": "markdown",
   "metadata": {
    "application/vnd.databricks.v1+cell": {
     "cellMetadata": {},
     "inputWidgets": {},
     "nuid": "57ba7a7b-609b-40d2-bc57-5c12784047d6",
     "showTitle": false,
     "tableResultSettingsMap": {},
     "title": ""
    }
   },
   "source": [
    "##Macrophages"
   ]
  },
  {
   "cell_type": "code",
   "execution_count": 0,
   "metadata": {
    "application/vnd.databricks.v1+cell": {
     "cellMetadata": {},
     "inputWidgets": {},
     "nuid": "b9113f57-f171-4239-a2f4-4477af485c6b",
     "showTitle": false,
     "tableResultSettingsMap": {},
     "title": ""
    }
   },
   "outputs": [],
   "source": [
    "res_macro <- read.xlsx(\"/dbfs/mnt/sandbox/TFM_PAULA/Alkon/alkon_macro_LvsHC_allmarkers.xlsx\")"
   ]
  },
  {
   "cell_type": "code",
   "execution_count": 0,
   "metadata": {
    "application/vnd.databricks.v1+cell": {
     "cellMetadata": {},
     "inputWidgets": {},
     "nuid": "22354351-c5c1-486a-8751-902f4f6aa063",
     "showTitle": false,
     "tableResultSettingsMap": {},
     "title": ""
    }
   },
   "outputs": [],
   "source": [
    "geneList_entrez_macro <- prepare_gene_list(res_macro, G_list)"
   ]
  },
  {
   "cell_type": "code",
   "execution_count": 0,
   "metadata": {
    "application/vnd.databricks.v1+cell": {
     "cellMetadata": {},
     "inputWidgets": {},
     "nuid": "2d0e6735-d8ed-4fa7-b725-fc279ff5f003",
     "showTitle": false,
     "tableResultSettingsMap": {},
     "title": ""
    }
   },
   "outputs": [],
   "source": [
    "res_macro_0.05 <- get_enrichments(geneList_entrez_macro, 0.05, H_t2g)"
   ]
  },
  {
   "cell_type": "code",
   "execution_count": 0,
   "metadata": {
    "application/vnd.databricks.v1+cell": {
     "cellMetadata": {},
     "inputWidgets": {},
     "nuid": "60ae7f63-23bf-4d4f-96bd-81a02f4332f3",
     "showTitle": false,
     "tableResultSettingsMap": {},
     "title": ""
    }
   },
   "outputs": [],
   "source": [
    "res_macro_1 <- get_enrichments(geneList_entrez_macro, 1, H_t2g)"
   ]
  },
  {
   "cell_type": "code",
   "execution_count": 0,
   "metadata": {
    "application/vnd.databricks.v1+cell": {
     "cellMetadata": {},
     "inputWidgets": {},
     "nuid": "f27baf76-7f05-4ae0-bfe3-8c1cc06a31aa",
     "showTitle": false,
     "tableResultSettingsMap": {},
     "title": ""
    }
   },
   "outputs": [],
   "source": [
    "barplot_gsea(res_macro_0.05$Hallmark, 20, \"Top 40 Macro Alkon - Hallmark\")"
   ]
  },
  {
   "cell_type": "code",
   "execution_count": 0,
   "metadata": {
    "application/vnd.databricks.v1+cell": {
     "cellMetadata": {},
     "inputWidgets": {},
     "nuid": "ec970fe2-fbf9-43a8-92f7-6562546b6cdb",
     "showTitle": false,
     "tableResultSettingsMap": {},
     "title": ""
    }
   },
   "outputs": [],
   "source": [
    "barplot_gsea(res_macro_1$Hallmark, 20, \"Top 40 Macro Alkon - Hallmark\")"
   ]
  },
  {
   "cell_type": "code",
   "execution_count": 0,
   "metadata": {
    "application/vnd.databricks.v1+cell": {
     "cellMetadata": {},
     "inputWidgets": {},
     "nuid": "64888050-d734-4a7b-9659-080504a4f75a",
     "showTitle": false,
     "tableResultSettingsMap": {},
     "title": ""
    }
   },
   "outputs": [],
   "source": [
    "set.seed(123)\n",
    "\n",
    "macro_GO <- enrichGO(gene = names(geneList_entrez_macro),\n",
    "                OrgDb         = org.Hs.eg.db,\n",
    "                keyType       = \"ENTREZID\",\n",
    "                ont           = \"BP\", \n",
    "                pAdjustMethod = \"BH\",\n",
    "                pvalueCutoff  = 0.05,\n",
    "                qvalueCutoff = 0.2)\n",
    "                \n",
    "# Extract results\n",
    "res_macro_GO <- macro_GO@result\n",
    "\n",
    "# Filter results to include only those with p.adjust < 0.05\n",
    "filtered_res_macro_GO <- res_macro_GO %>%\n",
    "  filter(p.adjust < 0.05)\n",
    "\n",
    "# Display filtered results\n",
    "display(filtered_res_macro_GO)"
   ]
  },
  {
   "cell_type": "code",
   "execution_count": 0,
   "metadata": {
    "application/vnd.databricks.v1+cell": {
     "cellMetadata": {},
     "inputWidgets": {},
     "nuid": "8d3f4ac6-7bfa-43a8-a03e-fb17d67d4d65",
     "showTitle": false,
     "tableResultSettingsMap": {},
     "title": ""
    }
   },
   "outputs": [],
   "source": [
    "options(repr.plot.width=1000, repr.plot.height=1000,  echo= F)\n",
    "barplot(macro_GO, showCategory=30, label_format=50, font.size=9) + ggtitle(\"Alkon- Macro - L vs HC - GO\")"
   ]
  },
  {
   "cell_type": "markdown",
   "metadata": {
    "application/vnd.databricks.v1+cell": {
     "cellMetadata": {},
     "inputWidgets": {},
     "nuid": "21894b7c-3a99-471d-94af-a2b624629f60",
     "showTitle": false,
     "tableResultSettingsMap": {},
     "title": ""
    }
   },
   "source": [
    "###Save results"
   ]
  },
  {
   "cell_type": "code",
   "execution_count": 0,
   "metadata": {
    "application/vnd.databricks.v1+cell": {
     "cellMetadata": {},
     "inputWidgets": {},
     "nuid": "bc627b1f-83b5-40e5-b342-a09e3dbdf324",
     "showTitle": false,
     "tableResultSettingsMap": {},
     "title": ""
    }
   },
   "outputs": [],
   "source": [
    "#Save results\n",
    "write.xlsx(res_macro_0.05$Hallmark, \"/dbfs/mnt/sandbox/TFM_PAULA/Alkon/GSEA_individually/res_macro_0.05_alkon_Hallmark.xlsx\")\n",
    "write.xlsx(macro_GO, \"/dbfs/mnt/sandbox/TFM_PAULA/Alkon/GSEA_individually/res_macro_alkon_GO.xlsx\")"
   ]
  },
  {
   "cell_type": "markdown",
   "metadata": {
    "application/vnd.databricks.v1+cell": {
     "cellMetadata": {},
     "inputWidgets": {},
     "nuid": "f5188502-354b-485a-a138-798e71da2c34",
     "showTitle": false,
     "tableResultSettingsMap": {},
     "title": ""
    }
   },
   "source": [
    "##Treg"
   ]
  },
  {
   "cell_type": "code",
   "execution_count": 0,
   "metadata": {
    "application/vnd.databricks.v1+cell": {
     "cellMetadata": {},
     "inputWidgets": {},
     "nuid": "b66f6347-ea45-4074-b5a1-e61ac68989a9",
     "showTitle": false,
     "tableResultSettingsMap": {},
     "title": ""
    }
   },
   "outputs": [],
   "source": [
    "res_treg <- read.xlsx(\"/dbfs/mnt/sandbox/TFM_PAULA/Alkon/alkon_treg_LvsHC_allmarkers.xlsx\")"
   ]
  },
  {
   "cell_type": "code",
   "execution_count": 0,
   "metadata": {
    "application/vnd.databricks.v1+cell": {
     "cellMetadata": {},
     "inputWidgets": {},
     "nuid": "55adcba1-417a-45fc-be83-3d8e6d9f8c6e",
     "showTitle": false,
     "tableResultSettingsMap": {},
     "title": ""
    }
   },
   "outputs": [],
   "source": [
    "geneList_entrez_treg <- prepare_gene_list(res_treg, G_list)"
   ]
  },
  {
   "cell_type": "code",
   "execution_count": 0,
   "metadata": {
    "application/vnd.databricks.v1+cell": {
     "cellMetadata": {},
     "inputWidgets": {},
     "nuid": "b0260be3-b808-4190-ba42-95671757f185",
     "showTitle": false,
     "tableResultSettingsMap": {},
     "title": ""
    }
   },
   "outputs": [],
   "source": [
    "res_treg_0.05 <- get_enrichments(geneList_entrez_treg, 0.05, H_t2g)"
   ]
  },
  {
   "cell_type": "code",
   "execution_count": 0,
   "metadata": {
    "application/vnd.databricks.v1+cell": {
     "cellMetadata": {},
     "inputWidgets": {},
     "nuid": "954b7a60-c376-4370-8877-ce6af680fee4",
     "showTitle": false,
     "tableResultSettingsMap": {},
     "title": ""
    }
   },
   "outputs": [],
   "source": [
    "res_treg_1 <- get_enrichments(geneList_entrez_treg, 1, H_t2g)"
   ]
  },
  {
   "cell_type": "code",
   "execution_count": 0,
   "metadata": {
    "application/vnd.databricks.v1+cell": {
     "cellMetadata": {},
     "inputWidgets": {},
     "nuid": "eb12beec-921c-4573-93cf-2ec85cfcc8a0",
     "showTitle": false,
     "tableResultSettingsMap": {},
     "title": ""
    }
   },
   "outputs": [],
   "source": [
    "barplot_gsea(res_macro_0.05$Hallmark, 20, \"Top 40 Macro Alkon - Hallmark\")"
   ]
  },
  {
   "cell_type": "markdown",
   "metadata": {
    "application/vnd.databricks.v1+cell": {
     "cellMetadata": {},
     "inputWidgets": {},
     "nuid": "08660f24-c8c1-498a-8ca0-842b7b4e8784",
     "showTitle": false,
     "tableResultSettingsMap": {},
     "title": ""
    }
   },
   "source": [
    "###GO"
   ]
  },
  {
   "cell_type": "code",
   "execution_count": 0,
   "metadata": {
    "application/vnd.databricks.v1+cell": {
     "cellMetadata": {},
     "inputWidgets": {},
     "nuid": "100b7d8a-9265-4097-8ed9-47d23a0c3bb9",
     "showTitle": false,
     "tableResultSettingsMap": {},
     "title": ""
    }
   },
   "outputs": [],
   "source": [
    "set.seed(123)\n",
    "\n",
    "treg_GO <- enrichGO(gene = names(geneList_entrez_treg),\n",
    "                OrgDb         = org.Hs.eg.db,\n",
    "                keyType       = \"ENTREZID\",\n",
    "                ont           = \"BP\", \n",
    "                pAdjustMethod = \"BH\",\n",
    "                pvalueCutoff  = 0.05,\n",
    "                qvalueCutoff = 0.2)\n",
    "                \n",
    "# Extract results\n",
    "res_treg_GO <- treg_GO@result\n",
    "\n",
    "# Filter results to include only those with p.adjust < 0.05\n",
    "filtered_res_treg_GO <- res_treg_GO %>%\n",
    "  filter(p.adjust < 0.05)\n",
    "\n",
    "# Display filtered results\n",
    "display(filtered_res_treg_GO)"
   ]
  },
  {
   "cell_type": "code",
   "execution_count": 0,
   "metadata": {
    "application/vnd.databricks.v1+cell": {
     "cellMetadata": {},
     "inputWidgets": {},
     "nuid": "c9dbf378-e81d-4d86-a4b5-d7b55c6f72a6",
     "showTitle": false,
     "tableResultSettingsMap": {},
     "title": ""
    }
   },
   "outputs": [],
   "source": [
    "options(repr.plot.width=1000, repr.plot.height=1000,  echo= F)\n",
    "barplot(treg_GO, showCategory=30, label_format=50, font.size=9) + ggtitle(\"Alkon- Treg - L vs HC - GO\")"
   ]
  },
  {
   "cell_type": "markdown",
   "metadata": {
    "application/vnd.databricks.v1+cell": {
     "cellMetadata": {},
     "inputWidgets": {},
     "nuid": "a5ce10c2-9367-4f17-a9f7-ba8be95c5444",
     "showTitle": false,
     "tableResultSettingsMap": {},
     "title": ""
    }
   },
   "source": [
    "###Save results"
   ]
  },
  {
   "cell_type": "code",
   "execution_count": 0,
   "metadata": {
    "application/vnd.databricks.v1+cell": {
     "cellMetadata": {},
     "inputWidgets": {},
     "nuid": "26017cfe-b9b2-4ed2-8ff9-380d7f08e855",
     "showTitle": false,
     "tableResultSettingsMap": {},
     "title": ""
    }
   },
   "outputs": [],
   "source": [
    "write.xlsx(treg_GO, \"/dbfs/mnt/sandbox/TFM_PAULA/Alkon/GSEA_individually/res_treg_alkon_GO.xlsx\")"
   ]
  },
  {
   "cell_type": "markdown",
   "metadata": {
    "application/vnd.databricks.v1+cell": {
     "cellMetadata": {},
     "inputWidgets": {},
     "nuid": "1b285bc6-8f30-4193-b91d-4295bbc63213",
     "showTitle": false,
     "tableResultSettingsMap": {},
     "title": ""
    }
   },
   "source": [
    "##Fibroblasts"
   ]
  },
  {
   "cell_type": "code",
   "execution_count": 0,
   "metadata": {
    "application/vnd.databricks.v1+cell": {
     "cellMetadata": {},
     "inputWidgets": {},
     "nuid": "233b1f96-190d-462b-9b03-d35165a05b60",
     "showTitle": false,
     "tableResultSettingsMap": {},
     "title": ""
    }
   },
   "outputs": [],
   "source": [
    "res_fb <- read.xlsx(\"/dbfs/mnt/sandbox/TFM_PAULA/Alkon/alkon_fb_LvsHC_allmarkers.xlsx\")"
   ]
  },
  {
   "cell_type": "code",
   "execution_count": 0,
   "metadata": {
    "application/vnd.databricks.v1+cell": {
     "cellMetadata": {},
     "inputWidgets": {},
     "nuid": "d56fc55a-fd9d-4c91-9ea4-ce3b6f7e4599",
     "showTitle": false,
     "tableResultSettingsMap": {},
     "title": ""
    }
   },
   "outputs": [],
   "source": [
    "geneList_entrez_fb <- prepare_gene_list(res_fb, G_list)"
   ]
  },
  {
   "cell_type": "code",
   "execution_count": 0,
   "metadata": {
    "application/vnd.databricks.v1+cell": {
     "cellMetadata": {},
     "inputWidgets": {},
     "nuid": "e4e49f05-31c2-43da-adb9-9c75f7993a76",
     "showTitle": false,
     "tableResultSettingsMap": {},
     "title": ""
    }
   },
   "outputs": [],
   "source": [
    "res_fb_0.05 <- get_enrichments(geneList_entrez_fb, 0.05, H_t2g, C2_t2g)"
   ]
  },
  {
   "cell_type": "code",
   "execution_count": 0,
   "metadata": {
    "application/vnd.databricks.v1+cell": {
     "cellMetadata": {},
     "inputWidgets": {},
     "nuid": "94f06bcd-1dd9-4ab6-a380-409df5a74172",
     "showTitle": false,
     "tableResultSettingsMap": {},
     "title": ""
    }
   },
   "outputs": [],
   "source": [
    "  options(repr.plot.width = 1200, repr.plot.height = 1000, echo = FALSE)\n",
    "barplot_gsea(res_fb_0.05$Hallmark1, 20, \"Top Fibroblasts Alkon - Hallmark Ht2g\")"
   ]
  },
  {
   "cell_type": "code",
   "execution_count": 0,
   "metadata": {
    "application/vnd.databricks.v1+cell": {
     "cellMetadata": {},
     "inputWidgets": {},
     "nuid": "49fb2294-ec33-49ff-8a39-331537253a80",
     "showTitle": false,
     "tableResultSettingsMap": {},
     "title": ""
    }
   },
   "outputs": [],
   "source": [
    "barplot_gsea(res_fb_0.05$Hallmark2, 20, \"Top 40 Fibroblasts Alkon - Hallmark Ct2g\")"
   ]
  },
  {
   "cell_type": "code",
   "execution_count": 0,
   "metadata": {
    "application/vnd.databricks.v1+cell": {
     "cellMetadata": {},
     "inputWidgets": {},
     "nuid": "7e0c3a37-0fdf-4b02-8d1f-287715185ba6",
     "showTitle": false,
     "tableResultSettingsMap": {},
     "title": ""
    }
   },
   "outputs": [],
   "source": [
    "barplot_gsea(res_fb_0.05$KEGG, 20, \"Top 40 Fibroblasts Alkon - KEGG\")"
   ]
  },
  {
   "cell_type": "code",
   "execution_count": 0,
   "metadata": {
    "application/vnd.databricks.v1+cell": {
     "cellMetadata": {},
     "inputWidgets": {},
     "nuid": "1742a42a-0055-435a-a388-9781e3be508a",
     "showTitle": false,
     "tableResultSettingsMap": {},
     "title": ""
    }
   },
   "outputs": [],
   "source": [
    "barplot_gsea(res_fb_0.05$Reactome, 15, \"Top 30 Fibroblasts Alkon - Reactome\")"
   ]
  },
  {
   "cell_type": "markdown",
   "metadata": {
    "application/vnd.databricks.v1+cell": {
     "cellMetadata": {},
     "inputWidgets": {},
     "nuid": "6eff52c5-b7db-4372-b31d-17d07814c37c",
     "showTitle": false,
     "tableResultSettingsMap": {},
     "title": ""
    }
   },
   "source": [
    "###GO"
   ]
  },
  {
   "cell_type": "code",
   "execution_count": 0,
   "metadata": {
    "application/vnd.databricks.v1+cell": {
     "cellMetadata": {},
     "inputWidgets": {},
     "nuid": "ace30fe0-a406-4487-92ce-ff6a7b6decb3",
     "showTitle": false,
     "tableResultSettingsMap": {},
     "title": ""
    }
   },
   "outputs": [],
   "source": [
    "set.seed(123)\n",
    "\n",
    "fb_GO <- enrichGO(gene = names(geneList_entrez_fb),\n",
    "                OrgDb         = org.Hs.eg.db,\n",
    "                keyType       = \"ENTREZID\",\n",
    "                ont           = \"BP\", \n",
    "                pAdjustMethod = \"BH\",\n",
    "                pvalueCutoff  = 0.05,\n",
    "                qvalueCutoff = 0.2)\n",
    "                \n",
    "# Extract results\n",
    "res_fb_GO <- fb_GO@result\n",
    "\n",
    "# Filter results to include only those with p.adjust < 0.05\n",
    "filtered_res_fb_GO <- res_fb_GO %>%\n",
    "  filter(p.adjust < 0.05)\n",
    "\n",
    "# Display filtered results\n",
    "display(filtered_res_fb_GO)"
   ]
  },
  {
   "cell_type": "code",
   "execution_count": 0,
   "metadata": {
    "application/vnd.databricks.v1+cell": {
     "cellMetadata": {},
     "inputWidgets": {},
     "nuid": "b785a49c-8895-42bb-8d5e-32ae7dbaa6f5",
     "showTitle": false,
     "tableResultSettingsMap": {},
     "title": ""
    }
   },
   "outputs": [],
   "source": [
    "options(repr.plot.width=1200, repr.plot.height=1200,  echo= F)\n",
    "barplot(fb_GO, showCategory=25, label_format=100, font.size=9) + ggtitle(\"Alkon- FB - L vs HC - GO\")"
   ]
  },
  {
   "cell_type": "markdown",
   "metadata": {
    "application/vnd.databricks.v1+cell": {
     "cellMetadata": {},
     "inputWidgets": {},
     "nuid": "1bc26952-14fe-43dd-b391-1274948aac1c",
     "showTitle": false,
     "tableResultSettingsMap": {},
     "title": ""
    }
   },
   "source": [
    "###Save results"
   ]
  },
  {
   "cell_type": "code",
   "execution_count": 0,
   "metadata": {
    "application/vnd.databricks.v1+cell": {
     "cellMetadata": {},
     "inputWidgets": {},
     "nuid": "302d36c8-4967-45ff-b2b4-fdde1c159341",
     "showTitle": false,
     "tableResultSettingsMap": {},
     "title": ""
    }
   },
   "outputs": [],
   "source": [
    "#Save results\n",
    "write.xlsx(res_fb_0.05, \"/dbfs/mnt/sandbox/TFM_PAULA/Alkon/GSEA_individually/res_fb_0.05_alkon.xlsx\")\n",
    "write.xlsx(fb_GO, \"/dbfs/mnt/sandbox/TFM_PAULA/Alkon/GSEA_individually/res_fb_alkon_GO.xlsx\")"
   ]
  },
  {
   "cell_type": "markdown",
   "metadata": {
    "application/vnd.databricks.v1+cell": {
     "cellMetadata": {},
     "inputWidgets": {},
     "nuid": "f7171bc8-96d2-402e-a71b-7c31c80527a0",
     "showTitle": false,
     "tableResultSettingsMap": {},
     "title": ""
    }
   },
   "source": [
    "##Keratinocytes"
   ]
  },
  {
   "cell_type": "code",
   "execution_count": 0,
   "metadata": {
    "application/vnd.databricks.v1+cell": {
     "cellMetadata": {},
     "inputWidgets": {},
     "nuid": "a4fed1dd-4ef1-409a-a548-f8bd9ef11d5c",
     "showTitle": false,
     "tableResultSettingsMap": {},
     "title": ""
    }
   },
   "outputs": [],
   "source": [
    "res_kc <- read.xlsx(\"/dbfs/mnt/sandbox/TFM_PAULA/Alkon/alkon_kc_LvsHC_allmarkers.xlsx\")"
   ]
  },
  {
   "cell_type": "code",
   "execution_count": 0,
   "metadata": {
    "application/vnd.databricks.v1+cell": {
     "cellMetadata": {},
     "inputWidgets": {},
     "nuid": "8409b207-8c85-4a03-a38f-dc9a87dee8c9",
     "showTitle": false,
     "tableResultSettingsMap": {},
     "title": ""
    }
   },
   "outputs": [],
   "source": [
    "geneList_entrez_kc <- prepare_gene_list(res_kc, G_list)"
   ]
  },
  {
   "cell_type": "code",
   "execution_count": 0,
   "metadata": {
    "application/vnd.databricks.v1+cell": {
     "cellMetadata": {},
     "inputWidgets": {},
     "nuid": "dac649e3-e9c9-4aea-9d52-f5b37134c955",
     "showTitle": false,
     "tableResultSettingsMap": {},
     "title": ""
    }
   },
   "outputs": [],
   "source": [
    "res_kc_0.05 <- get_enrichments(geneList_entrez_kc, 0.05, H_t2g, C2_t2g)"
   ]
  },
  {
   "cell_type": "code",
   "execution_count": 0,
   "metadata": {
    "application/vnd.databricks.v1+cell": {
     "cellMetadata": {},
     "inputWidgets": {},
     "nuid": "31b76f1a-8f25-4b22-8822-c381c76bdd88",
     "showTitle": false,
     "tableResultSettingsMap": {},
     "title": ""
    }
   },
   "outputs": [],
   "source": [
    "res_kc_1 <- get_enrichments(geneList_entrez_kc, 1, H_t2g, C2_t2g)"
   ]
  },
  {
   "cell_type": "code",
   "execution_count": 0,
   "metadata": {
    "application/vnd.databricks.v1+cell": {
     "cellMetadata": {},
     "inputWidgets": {},
     "nuid": "57bed562-7f3a-43f6-a750-419a212b763c",
     "showTitle": false,
     "tableResultSettingsMap": {},
     "title": ""
    }
   },
   "outputs": [],
   "source": [
    "barplot_gsea(res_kc_0.05$Reactome, 15, \"Top 30 KC Alkon - Reactome\")"
   ]
  },
  {
   "cell_type": "code",
   "execution_count": 0,
   "metadata": {
    "application/vnd.databricks.v1+cell": {
     "cellMetadata": {},
     "inputWidgets": {},
     "nuid": "7a86bc79-0b11-4347-ad51-787e53f1da7a",
     "showTitle": false,
     "tableResultSettingsMap": {},
     "title": ""
    }
   },
   "outputs": [],
   "source": [
    "barplot_gsea(res_kc_0.05$Hallmark1, 20, \"Top 40 Keratinocytes Alkon - Hallmark Ht2g\")"
   ]
  },
  {
   "cell_type": "code",
   "execution_count": 0,
   "metadata": {
    "application/vnd.databricks.v1+cell": {
     "cellMetadata": {},
     "inputWidgets": {},
     "nuid": "7485aff8-e52e-4559-a312-beddef7ba3ea",
     "showTitle": false,
     "tableResultSettingsMap": {},
     "title": ""
    }
   },
   "outputs": [],
   "source": [
    "barplot_gsea(res_kc_0.05$Hallmark2, 20, \"Top 40 KC Alkon - Hallmark Ct2g\")"
   ]
  },
  {
   "cell_type": "code",
   "execution_count": 0,
   "metadata": {
    "application/vnd.databricks.v1+cell": {
     "cellMetadata": {},
     "inputWidgets": {},
     "nuid": "2fdefb4e-77ff-481b-84df-ecca9c91f37c",
     "showTitle": false,
     "tableResultSettingsMap": {},
     "title": ""
    }
   },
   "outputs": [],
   "source": [
    "set.seed(123)\n",
    "\n",
    "kc_GO <- enrichGO(gene = names(geneList_entrez_kc),\n",
    "                OrgDb         = org.Hs.eg.db,\n",
    "                keyType       = \"ENTREZID\",\n",
    "                ont           = \"BP\", \n",
    "                pAdjustMethod = \"BH\",\n",
    "                pvalueCutoff  = 0.05,\n",
    "                qvalueCutoff = 0.2)\n",
    "                \n",
    "# Extract results\n",
    "res_kc_GO <- kc_GO@result\n",
    "\n",
    "# Filter results to include only those with p.adjust < 0.05\n",
    "filtered_res_kc_GO <- res_kc_GO %>%\n",
    "  filter(p.adjust < 0.05)\n",
    "\n",
    "# Display filtered results\n",
    "display(filtered_res_kc_GO)"
   ]
  },
  {
   "cell_type": "code",
   "execution_count": 0,
   "metadata": {
    "application/vnd.databricks.v1+cell": {
     "cellMetadata": {},
     "inputWidgets": {},
     "nuid": "3be5465d-f9fb-4477-a7db-29a864b9b9dc",
     "showTitle": false,
     "tableResultSettingsMap": {},
     "title": ""
    }
   },
   "outputs": [],
   "source": [
    "options(repr.plot.width=1200, repr.plot.height=1200,  echo= F)\n",
    "barplot(kc_GO, showCategory=25, label_format=100, font.size=9) + ggtitle(\"Alkon KC - L vs HC - GO\")"
   ]
  },
  {
   "cell_type": "markdown",
   "metadata": {
    "application/vnd.databricks.v1+cell": {
     "cellMetadata": {},
     "inputWidgets": {},
     "nuid": "b10baf51-6eb7-41f0-bd53-5dfb58f95a77",
     "showTitle": false,
     "tableResultSettingsMap": {},
     "title": ""
    }
   },
   "source": [
    "###Save results"
   ]
  },
  {
   "cell_type": "code",
   "execution_count": 0,
   "metadata": {
    "application/vnd.databricks.v1+cell": {
     "cellMetadata": {},
     "inputWidgets": {},
     "nuid": "0ce89d2d-f351-4f26-b512-48049a950719",
     "showTitle": false,
     "tableResultSettingsMap": {},
     "title": ""
    }
   },
   "outputs": [],
   "source": [
    "#Save results\n",
    "write.xlsx(res_kc_0.05, \"/dbfs/mnt/sandbox/TFM_PAULA/Alkon/GSEA_individually/res_kc_0.05_alkon.xlsx\")\n",
    "write.xlsx(kc_GO, \"/dbfs/mnt/sandbox/TFM_PAULA/Alkon/GSEA_individually/res_kc_alkon_GO.xlsx\")"
   ]
  },
  {
   "cell_type": "markdown",
   "metadata": {
    "application/vnd.databricks.v1+cell": {
     "cellMetadata": {},
     "inputWidgets": {},
     "nuid": "d27e556a-072d-40b3-9a9a-f5e75979aa9b",
     "showTitle": false,
     "tableResultSettingsMap": {},
     "title": ""
    }
   },
   "source": [
    "check"
   ]
  },
  {
   "cell_type": "code",
   "execution_count": 0,
   "metadata": {
    "application/vnd.databricks.v1+cell": {
     "cellMetadata": {},
     "inputWidgets": {},
     "nuid": "3229de9f-1dbd-42ac-9490-c630dbf66cd7",
     "showTitle": false,
     "tableResultSettingsMap": {},
     "title": ""
    }
   },
   "outputs": [],
   "source": [
    "res_kc_1$Reactome[grepl(\"R-HSA-6785807\", res_kc_1$Reactome$ID), ]"
   ]
  }
 ],
 "metadata": {
  "application/vnd.databricks.v1+notebook": {
   "computePreferences": null,
   "dashboards": [],
   "environmentMetadata": null,
   "inputWidgetPreferences": null,
   "language": "r",
   "notebookMetadata": {
    "pythonIndentUnit": 4
   },
   "notebookName": "3.1.alkon_pathway_enrichment_LvsHC",
   "widgets": {}
  },
  "language_info": {
   "name": "r"
  }
 },
 "nbformat": 4,
 "nbformat_minor": 0
}
