{
 "cells": [
  {
   "cell_type": "markdown",
   "metadata": {
    "application/vnd.databricks.v1+cell": {
     "cellMetadata": {},
     "inputWidgets": {},
     "nuid": "9f290f7c-60e7-4164-b798-a7bca68a16aa",
     "showTitle": false,
     "tableResultSettingsMap": {},
     "title": ""
    }
   },
   "source": [
    "#Find markers with seurat\n",
    "##AD/PN – Alkon et al, 2023\n",
    "- Does not include non-lesional samples.\n",
    "- 5 AD, 7 PN, 1 AP (atopic prurigo) and 4 healthy control​​\n",
    "\n",
    "Here will be performed the analysis to find all markers of each relevant cell type in Alkon et al, 2023 dataset.\n",
    "\n",
    "###Most relevant cell types: \n",
    "T-cells (TC), Fibroblasts, Keratinocytes (KC),  Monocytes, Macrophages, Dendritic cells, Natural killers, Treg and MastC\n",
    "\n",
    "###Constrast: \n",
    "  - Lesional vs Healthy control (LvsHC)"
   ]
  },
  {
   "cell_type": "code",
   "execution_count": 0,
   "metadata": {
    "application/vnd.databricks.v1+cell": {
     "cellMetadata": {},
     "inputWidgets": {},
     "nuid": "b655a681-7cfb-41d6-9660-ba7386f1598e",
     "showTitle": false,
     "tableResultSettingsMap": {},
     "title": ""
    }
   },
   "outputs": [],
   "source": [
    "#Load required libraries\n",
    ".libPaths(c(\"/dbfs/home/jtrincado@almirall.com/my_r_packages/Seurat\", .libPaths()))\n",
    "library(Seurat)\n",
    "library(dittoSeq)\n",
    "library(dplyr)\n",
    "library(openxlsx)"
   ]
  },
  {
   "cell_type": "code",
   "execution_count": 0,
   "metadata": {
    "application/vnd.databricks.v1+cell": {
     "cellMetadata": {},
     "inputWidgets": {},
     "nuid": "96663c3b-0465-4c6c-bfe7-ee9c2104dca4",
     "showTitle": false,
     "tableResultSettingsMap": {},
     "title": ""
    }
   },
   "outputs": [],
   "source": [
    "#Read seurat object\n",
    "alkon <- readRDS(file=\"/dbfs/mnt/sandbox/TFM_PAULA/ALKON_PROCESSED_TFM.rds\")"
   ]
  },
  {
   "cell_type": "code",
   "execution_count": 0,
   "metadata": {
    "application/vnd.databricks.v1+cell": {
     "cellMetadata": {},
     "inputWidgets": {},
     "nuid": "d5b3d47a-439c-4444-934b-60232e767413",
     "showTitle": false,
     "tableResultSettingsMap": {},
     "title": ""
    }
   },
   "outputs": [],
   "source": [
    "head(alkon@meta.data, 5)"
   ]
  },
  {
   "cell_type": "code",
   "execution_count": 0,
   "metadata": {
    "application/vnd.databricks.v1+cell": {
     "cellMetadata": {},
     "inputWidgets": {},
     "nuid": "36b7d761-dccf-4e7b-bb83-5b720d2bcdb5",
     "showTitle": false,
     "tableResultSettingsMap": {},
     "title": ""
    }
   },
   "outputs": [],
   "source": [
    "unique(alkon$h_celltype_v4)"
   ]
  },
  {
   "cell_type": "code",
   "execution_count": 0,
   "metadata": {
    "application/vnd.databricks.v1+cell": {
     "cellMetadata": {},
     "inputWidgets": {},
     "nuid": "f4bc427f-e6b4-4616-a23a-74564ff9f2be",
     "showTitle": false,
     "tableResultSettingsMap": {},
     "title": ""
    }
   },
   "outputs": [],
   "source": [
    "# Check if all conditions have at least 50 cells for all cell types\n",
    "# Print result for each cell type\n",
    "cell_types <- unique(alkon$h_celltype_v4)\n",
    "for(cell_type in cell_types) {\n",
    "  sub <- subset(alkon, subset = h_celltype_v4 == cell_type)\n",
    "  if(all((table(sub@meta.data$Condition)) >= 50)) {\n",
    "    print(paste(\"All conditions for\", cell_type, \"have at least 50 cells.\"))\n",
    "  } else {\n",
    "    print(paste(\"Not all conditions for\", cell_type, \"have at least 50 cells.\"))\n",
    "  }\n",
    "}"
   ]
  },
  {
   "cell_type": "markdown",
   "metadata": {
    "application/vnd.databricks.v1+cell": {
     "cellMetadata": {},
     "inputWidgets": {},
     "nuid": "40fdcbd3-4713-4c57-8976-48bcd6368993",
     "showTitle": false,
     "tableResultSettingsMap": {},
     "title": ""
    }
   },
   "source": [
    "## T cell markers"
   ]
  },
  {
   "cell_type": "code",
   "execution_count": 0,
   "metadata": {
    "application/vnd.databricks.v1+cell": {
     "cellMetadata": {},
     "inputWidgets": {},
     "nuid": "f0bfdb1c-d0b1-47ce-9a78-f18a3a8cdf03",
     "showTitle": false,
     "tableResultSettingsMap": {},
     "title": ""
    }
   },
   "outputs": [],
   "source": [
    "#First it is performed a subset with only T cells\n",
    "subtcell <- subset(alkon, subset = h_celltype_v4 == \"TC\")\n",
    "unique(subtcell$h_celltype_v4) #to check"
   ]
  },
  {
   "cell_type": "markdown",
   "metadata": {
    "application/vnd.databricks.v1+cell": {
     "cellMetadata": {},
     "inputWidgets": {},
     "nuid": "b30b5aee-f4ec-4685-b6df-1fc385816315",
     "showTitle": false,
     "tableResultSettingsMap": {},
     "title": ""
    }
   },
   "source": [
    "To check that the analysis is significant to be performed, I first check that each condition has at least 50 cells (decided as a minimum)"
   ]
  },
  {
   "cell_type": "markdown",
   "metadata": {
    "application/vnd.databricks.v1+cell": {
     "cellMetadata": {},
     "inputWidgets": {},
     "nuid": "ae01e8ef-8387-4302-a145-cf22c02cd903",
     "showTitle": false,
     "tableResultSettingsMap": {},
     "title": ""
    }
   },
   "source": [
    "###Find markers tcell"
   ]
  },
  {
   "cell_type": "code",
   "execution_count": 0,
   "metadata": {
    "application/vnd.databricks.v1+cell": {
     "cellMetadata": {},
     "inputWidgets": {},
     "nuid": "35c40bf3-5496-4e9d-b822-cc15aa99db4c",
     "showTitle": false,
     "tableResultSettingsMap": {},
     "title": ""
    }
   },
   "outputs": [],
   "source": [
    "Idents(subtcell) <- subtcell$Condition # We want condition to be the contrast to find markers"
   ]
  },
  {
   "cell_type": "code",
   "execution_count": 0,
   "metadata": {
    "application/vnd.databricks.v1+cell": {
     "cellMetadata": {},
     "inputWidgets": {},
     "nuid": "b5b82531-b92e-4ecb-b25b-bfd1fd4c8578",
     "showTitle": false,
     "tableResultSettingsMap": {},
     "title": ""
    }
   },
   "outputs": [],
   "source": [
    "subtcell.markers <- FindAllMarkers(subtcell, only.pos=TRUE)"
   ]
  },
  {
   "cell_type": "code",
   "execution_count": 0,
   "metadata": {
    "application/vnd.databricks.v1+cell": {
     "cellMetadata": {},
     "inputWidgets": {},
     "nuid": "a2ed85bb-bd12-47d1-a80d-6f0b9473e56a",
     "showTitle": false,
     "tableResultSettingsMap": {},
     "title": ""
    }
   },
   "outputs": [],
   "source": [
    "alkon_LvsHC_tcell_markers <- subtcell.markers %>%\n",
    "    group_by(cluster) %>%\n",
    "    dplyr::filter(avg_log2FC > 0.5 & p_val_adj < 0.05)\n",
    "display(alkon_LvsHC_tcell_markers)"
   ]
  },
  {
   "cell_type": "code",
   "execution_count": 0,
   "metadata": {
    "application/vnd.databricks.v1+cell": {
     "cellMetadata": {},
     "inputWidgets": {},
     "nuid": "738f1f54-7167-4db8-95e7-53d4552ffb9f",
     "showTitle": false,
     "tableResultSettingsMap": {},
     "title": ""
    }
   },
   "outputs": [],
   "source": [
    "#Save results\n",
    "#write.xlsx(alkon_LvsHC_tcell_markers, file=\"/dbfs/mnt/sandbox/TFM_PAULA/Alkon/alkon_LvsHC_tcell_markers.xlsx\")\n",
    "write.xlsx(subtcell.markers, file=\"/dbfs/mnt/sandbox/TFM_PAULA/Alkon/alkon_LvsHC_tcell_allmarkers.xlsx\")"
   ]
  },
  {
   "cell_type": "markdown",
   "metadata": {
    "application/vnd.databricks.v1+cell": {
     "cellMetadata": {},
     "inputWidgets": {},
     "nuid": "9f2c8907-c744-4679-99ec-8fee49dab073",
     "showTitle": false,
     "tableResultSettingsMap": {},
     "title": ""
    }
   },
   "source": [
    "##Fibroblasts"
   ]
  },
  {
   "cell_type": "code",
   "execution_count": 0,
   "metadata": {
    "application/vnd.databricks.v1+cell": {
     "cellMetadata": {},
     "inputWidgets": {},
     "nuid": "fdb8f288-13ee-4013-9827-50c2069361d9",
     "showTitle": false,
     "tableResultSettingsMap": {},
     "title": ""
    }
   },
   "outputs": [],
   "source": [
    "#First it is performed a subset with only Fibroblasts\n",
    "subfb <- subset(alkon, subset = h_celltype_v4 == \"Fibroblasts\")\n",
    "unique(subfb$h_celltype_v4) #to check"
   ]
  },
  {
   "cell_type": "markdown",
   "metadata": {
    "application/vnd.databricks.v1+cell": {
     "cellMetadata": {},
     "inputWidgets": {},
     "nuid": "6829059e-69b0-4c16-9018-6e7d1454174b",
     "showTitle": false,
     "tableResultSettingsMap": {},
     "title": ""
    }
   },
   "source": [
    "###Find markers fibroblasts"
   ]
  },
  {
   "cell_type": "code",
   "execution_count": 0,
   "metadata": {
    "application/vnd.databricks.v1+cell": {
     "cellMetadata": {},
     "inputWidgets": {},
     "nuid": "0ceef089-1d22-4138-bcf5-54e3758ca304",
     "showTitle": false,
     "tableResultSettingsMap": {},
     "title": ""
    }
   },
   "outputs": [],
   "source": [
    "Idents(subfb) <- subfb$Condition # We want condition to be the contrast to find markers"
   ]
  },
  {
   "cell_type": "code",
   "execution_count": 0,
   "metadata": {
    "application/vnd.databricks.v1+cell": {
     "cellMetadata": {},
     "inputWidgets": {},
     "nuid": "4b1ae19f-3276-46ba-a534-69a98d415975",
     "showTitle": false,
     "tableResultSettingsMap": {},
     "title": ""
    }
   },
   "outputs": [],
   "source": [
    "subfb.markers <- FindAllMarkers(subfb, only.pos=TRUE)"
   ]
  },
  {
   "cell_type": "code",
   "execution_count": 0,
   "metadata": {
    "application/vnd.databricks.v1+cell": {
     "cellMetadata": {},
     "inputWidgets": {},
     "nuid": "c8e288d4-b335-4468-aeed-8c6edf82ceb2",
     "showTitle": false,
     "tableResultSettingsMap": {},
     "title": ""
    }
   },
   "outputs": [],
   "source": [
    "alkon_fb_LvsHC_markers <- subfb.markers %>%\n",
    "    group_by(cluster) %>%\n",
    "    dplyr::filter(avg_log2FC > 0.5 & p_val_adj < 0.05)\n",
    "display(alkon_fb_LvsHC_markers)"
   ]
  },
  {
   "cell_type": "code",
   "execution_count": 0,
   "metadata": {
    "application/vnd.databricks.v1+cell": {
     "cellMetadata": {},
     "inputWidgets": {},
     "nuid": "4eaac427-c94c-4be7-9de8-c0a49af344c4",
     "showTitle": false,
     "tableResultSettingsMap": {},
     "title": ""
    }
   },
   "outputs": [],
   "source": [
    "# Save results\n",
    "#write.xlsx(alkon_fb_LvsHC_markers, file=\"/dbfs/mnt/sandbox/TFM_PAULA/Alkon/alkon_fb_LvsHC_markers.xlsx\")\n",
    "write.xlsx(subfb.markers, file=\"/dbfs/mnt/sandbox/TFM_PAULA/Alkon/alkon_fb_LvsHC_allmarkers.xlsx\")"
   ]
  },
  {
   "cell_type": "markdown",
   "metadata": {
    "application/vnd.databricks.v1+cell": {
     "cellMetadata": {},
     "inputWidgets": {},
     "nuid": "0ddbb2e7-47b0-4e8e-93f1-f1d22376943a",
     "showTitle": false,
     "tableResultSettingsMap": {},
     "title": ""
    }
   },
   "source": [
    "##Keratinocytes"
   ]
  },
  {
   "cell_type": "code",
   "execution_count": 0,
   "metadata": {
    "application/vnd.databricks.v1+cell": {
     "cellMetadata": {},
     "inputWidgets": {},
     "nuid": "2538ff5d-e5f0-4ffc-a40d-42d8382d973e",
     "showTitle": false,
     "tableResultSettingsMap": {},
     "title": ""
    }
   },
   "outputs": [],
   "source": [
    "#First it is performed a subset with only KC\n",
    "subkc <- subset(alkon, subset = h_celltype_v4 == \"KC\")\n",
    "unique(subkc$h_celltype_v4) #to check"
   ]
  },
  {
   "cell_type": "markdown",
   "metadata": {
    "application/vnd.databricks.v1+cell": {
     "cellMetadata": {},
     "inputWidgets": {},
     "nuid": "96b1a76f-56d9-4274-9a76-4fe9fcdea89a",
     "showTitle": false,
     "tableResultSettingsMap": {},
     "title": ""
    }
   },
   "source": [
    "### Find markers KC"
   ]
  },
  {
   "cell_type": "code",
   "execution_count": 0,
   "metadata": {
    "application/vnd.databricks.v1+cell": {
     "cellMetadata": {},
     "inputWidgets": {},
     "nuid": "80618714-5e01-4b04-a219-412af5eaf695",
     "showTitle": false,
     "tableResultSettingsMap": {},
     "title": ""
    }
   },
   "outputs": [],
   "source": [
    "Idents(subkc) <- subkc$Condition # We want condition to be the contrast to find markers"
   ]
  },
  {
   "cell_type": "code",
   "execution_count": 0,
   "metadata": {
    "application/vnd.databricks.v1+cell": {
     "cellMetadata": {},
     "inputWidgets": {},
     "nuid": "5464efa9-0099-451b-8776-d2190b4ae580",
     "showTitle": false,
     "tableResultSettingsMap": {},
     "title": ""
    }
   },
   "outputs": [],
   "source": [
    "subkc.markers <- FindAllMarkers(subkc, only.pos=TRUE)"
   ]
  },
  {
   "cell_type": "code",
   "execution_count": 0,
   "metadata": {
    "application/vnd.databricks.v1+cell": {
     "cellMetadata": {},
     "inputWidgets": {},
     "nuid": "4d46187c-dca1-4979-b27e-ee65c42eade9",
     "showTitle": false,
     "tableResultSettingsMap": {},
     "title": ""
    }
   },
   "outputs": [],
   "source": [
    "alkon_kc_LvsHC_markers <- subkc.markers %>%\n",
    "    group_by(cluster) %>%\n",
    "    dplyr::filter(avg_log2FC > 0.5 & p_val_adj < 0.05)\n",
    "display(alkon_kc_LvsHC_markers)"
   ]
  },
  {
   "cell_type": "code",
   "execution_count": 0,
   "metadata": {
    "application/vnd.databricks.v1+cell": {
     "cellMetadata": {},
     "inputWidgets": {},
     "nuid": "11719452-88e3-4cae-b316-b7169f31351b",
     "showTitle": false,
     "tableResultSettingsMap": {},
     "title": ""
    }
   },
   "outputs": [],
   "source": [
    "# Save results\n",
    "# write.xlsx(alkon_kc_LvsHC_markers, file=\"/dbfs/mnt/sandbox/TFM_PAULA/Alkon/alkon_kc_LvsHC_markers.xlsx\")\n",
    "write.xlsx(subkc.markers, file=\"/dbfs/mnt/sandbox/TFM_PAULA/Alkon/alkon_kc_LvsHC_allmarkers.xlsx\")"
   ]
  },
  {
   "cell_type": "markdown",
   "metadata": {
    "application/vnd.databricks.v1+cell": {
     "cellMetadata": {},
     "inputWidgets": {},
     "nuid": "56bd751f-2201-422d-af02-8fb82183949b",
     "showTitle": false,
     "tableResultSettingsMap": {},
     "title": ""
    }
   },
   "source": [
    "##Monocytes"
   ]
  },
  {
   "cell_type": "markdown",
   "metadata": {
    "application/vnd.databricks.v1+cell": {
     "cellMetadata": {},
     "inputWidgets": {},
     "nuid": "7e09099a-1c91-4d04-8834-ce781171e8f6",
     "showTitle": false,
     "tableResultSettingsMap": {},
     "title": ""
    }
   },
   "source": [
    "### L vs HC\n"
   ]
  },
  {
   "cell_type": "code",
   "execution_count": 0,
   "metadata": {
    "application/vnd.databricks.v1+cell": {
     "cellMetadata": {},
     "inputWidgets": {},
     "nuid": "0ebc049f-91f8-4a9f-b04f-e36db800be7f",
     "showTitle": false,
     "tableResultSettingsMap": {},
     "title": ""
    }
   },
   "outputs": [],
   "source": [
    "#First it is performed a subset with only monocytes\n",
    "submono <- subset(alkon, subset = h_celltype_v4 == \"Mono\")\n",
    "unique(submono$h_celltype_v4) #to check"
   ]
  },
  {
   "cell_type": "code",
   "execution_count": 0,
   "metadata": {
    "application/vnd.databricks.v1+cell": {
     "cellMetadata": {},
     "inputWidgets": {},
     "nuid": "60af22bb-c482-4923-a673-704ceb7ff175",
     "showTitle": false,
     "tableResultSettingsMap": {},
     "title": ""
    }
   },
   "outputs": [],
   "source": [
    "# Check if all conditions have at least 50 cells\n",
    "# Print result\n",
    "if(all((table(submono@meta.data$Condition)) >= 50)) {\n",
    "  print(\"All conditions have at least 50 cells.\")\n",
    "} else {\n",
    "  print(\"Not all conditions have at least 50 cells.\")\n",
    "}\n",
    "table(submono@meta.data$Condition)"
   ]
  },
  {
   "cell_type": "markdown",
   "metadata": {
    "application/vnd.databricks.v1+cell": {
     "cellMetadata": {},
     "inputWidgets": {},
     "nuid": "52585aa7-bf3c-449c-a438-746f3ab6e5bd",
     "showTitle": false,
     "tableResultSettingsMap": {},
     "title": ""
    }
   },
   "source": [
    "In this case, HC condition of Monocytes has only 18 cells."
   ]
  },
  {
   "cell_type": "markdown",
   "metadata": {
    "application/vnd.databricks.v1+cell": {
     "cellMetadata": {},
     "inputWidgets": {},
     "nuid": "dae7c18d-0fa8-4110-b150-ebdadaf022d7",
     "showTitle": false,
     "tableResultSettingsMap": {},
     "title": ""
    }
   },
   "source": [
    "### Find markers monocytes"
   ]
  },
  {
   "cell_type": "code",
   "execution_count": 0,
   "metadata": {
    "application/vnd.databricks.v1+cell": {
     "cellMetadata": {},
     "inputWidgets": {},
     "nuid": "6f7c2c8a-6370-4f9f-a0e0-3a9dc8f8cc27",
     "showTitle": false,
     "tableResultSettingsMap": {},
     "title": ""
    }
   },
   "outputs": [],
   "source": [
    "# Idents(submono) <- submono$Condition # We want condition to be the contrast to find markers"
   ]
  },
  {
   "cell_type": "code",
   "execution_count": 0,
   "metadata": {
    "application/vnd.databricks.v1+cell": {
     "cellMetadata": {},
     "inputWidgets": {},
     "nuid": "30bd7a24-e0bf-4238-b015-be579d185b5d",
     "showTitle": false,
     "tableResultSettingsMap": {},
     "title": ""
    }
   },
   "outputs": [],
   "source": [
    "# submono_LvsHC.markers <- FindAllMarkers(submono, only.pos=TRUE)"
   ]
  },
  {
   "cell_type": "code",
   "execution_count": 0,
   "metadata": {
    "application/vnd.databricks.v1+cell": {
     "cellMetadata": {},
     "inputWidgets": {},
     "nuid": "bf4b2b41-20e4-491f-b47b-ee68040dba52",
     "showTitle": false,
     "tableResultSettingsMap": {},
     "title": ""
    }
   },
   "outputs": [],
   "source": [
    "# alkon_mono_LvsHC_markers <- submono_LvsHC.markers %>%\n",
    "#     group_by(cluster) %>%\n",
    "#     dplyr::filter(avg_log2FC > 0.5 & p_val_adj < 0.05)\n",
    "# display(alkon_mono_LvsHC_markers)"
   ]
  },
  {
   "cell_type": "code",
   "execution_count": 0,
   "metadata": {
    "application/vnd.databricks.v1+cell": {
     "cellMetadata": {},
     "inputWidgets": {},
     "nuid": "4b9ab7f6-8f28-4677-82ac-600a12a8d232",
     "showTitle": false,
     "tableResultSettingsMap": {},
     "title": ""
    }
   },
   "outputs": [],
   "source": [
    "#Save results\n",
    "# write.xlsx(alkon_mono_LvsHC_markers, file=\"/dbfs/mnt/sandbox/TFM_PAULA/Alkon/alkon_mono_LvsHC_markers.xlsx\")"
   ]
  },
  {
   "cell_type": "markdown",
   "metadata": {
    "application/vnd.databricks.v1+cell": {
     "cellMetadata": {},
     "inputWidgets": {},
     "nuid": "c157b15f-cdd9-4a79-8dc6-e8139db723b0",
     "showTitle": false,
     "tableResultSettingsMap": {},
     "title": ""
    }
   },
   "source": [
    "##Macrophages"
   ]
  },
  {
   "cell_type": "markdown",
   "metadata": {
    "application/vnd.databricks.v1+cell": {
     "cellMetadata": {},
     "inputWidgets": {},
     "nuid": "fa77d35a-e822-404a-b4d1-19f4c6d00ad5",
     "showTitle": false,
     "tableResultSettingsMap": {},
     "title": ""
    }
   },
   "source": [
    "### L vs HC\n"
   ]
  },
  {
   "cell_type": "code",
   "execution_count": 0,
   "metadata": {
    "application/vnd.databricks.v1+cell": {
     "cellMetadata": {},
     "inputWidgets": {},
     "nuid": "cfa07e83-cfe2-4785-8d71-6a8a8bad60a5",
     "showTitle": false,
     "tableResultSettingsMap": {},
     "title": ""
    }
   },
   "outputs": [],
   "source": [
    "#First it is performed a subset with only macrophages\n",
    "submacro <- subset(alkon, subset = h_celltype_v4 == \"Macro\")\n",
    "unique(submacro$h_celltype_v4) #to check"
   ]
  },
  {
   "cell_type": "code",
   "execution_count": 0,
   "metadata": {
    "application/vnd.databricks.v1+cell": {
     "cellMetadata": {},
     "inputWidgets": {},
     "nuid": "4e53804d-edd0-4314-b76a-fd82fb951043",
     "showTitle": false,
     "tableResultSettingsMap": {},
     "title": ""
    }
   },
   "outputs": [],
   "source": [
    "# Check if all conditions have at least 50 cells\n",
    "# Print result\n",
    "if(all((table(submacro@meta.data$Condition)) >= 50)) {\n",
    "  print(\"All conditions have at least 50 cells.\")\n",
    "} else {\n",
    "  print(\"Not all conditions have at least 50 cells.\")\n",
    "}"
   ]
  },
  {
   "cell_type": "code",
   "execution_count": 0,
   "metadata": {
    "application/vnd.databricks.v1+cell": {
     "cellMetadata": {},
     "inputWidgets": {},
     "nuid": "4995f467-bc1a-455f-882c-653fa6166d49",
     "showTitle": false,
     "tableResultSettingsMap": {},
     "title": ""
    }
   },
   "outputs": [],
   "source": [
    "table(submacro@meta.data$Condition, submacro@meta.data$h_celltype_v4)"
   ]
  },
  {
   "cell_type": "markdown",
   "metadata": {
    "application/vnd.databricks.v1+cell": {
     "cellMetadata": {},
     "inputWidgets": {},
     "nuid": "fd155511-582b-427f-a245-7a68c6c7b95c",
     "showTitle": false,
     "tableResultSettingsMap": {},
     "title": ""
    }
   },
   "source": [
    "### Find markers macrophages"
   ]
  },
  {
   "cell_type": "code",
   "execution_count": 0,
   "metadata": {
    "application/vnd.databricks.v1+cell": {
     "cellMetadata": {},
     "inputWidgets": {},
     "nuid": "adb5f71b-1c6f-448b-9d76-7494191d9391",
     "showTitle": false,
     "tableResultSettingsMap": {},
     "title": ""
    }
   },
   "outputs": [],
   "source": [
    "Idents(submacro) <- submacro$Condition # We want condition to be the contrast to find markers"
   ]
  },
  {
   "cell_type": "code",
   "execution_count": 0,
   "metadata": {
    "application/vnd.databricks.v1+cell": {
     "cellMetadata": {},
     "inputWidgets": {},
     "nuid": "56fbb81d-d452-4320-b3a7-e530eafd9fed",
     "showTitle": false,
     "tableResultSettingsMap": {},
     "title": ""
    }
   },
   "outputs": [],
   "source": [
    "macro_LvsHC.markers <- FindAllMarkers(submacro, only.pos=TRUE)"
   ]
  },
  {
   "cell_type": "code",
   "execution_count": 0,
   "metadata": {
    "application/vnd.databricks.v1+cell": {
     "cellMetadata": {},
     "inputWidgets": {},
     "nuid": "71bf0e60-73ca-4dfd-bb87-c67a724540a0",
     "showTitle": false,
     "tableResultSettingsMap": {},
     "title": ""
    }
   },
   "outputs": [],
   "source": [
    "alkon_macro_LvsHC_markers <- macro_LvsHC.markers %>%\n",
    "    group_by(cluster) %>%\n",
    "    dplyr::filter(avg_log2FC > 0.5 & p_val_adj < 0.05)\n",
    "display(alkon_macro_LvsHC_markers)"
   ]
  },
  {
   "cell_type": "code",
   "execution_count": 0,
   "metadata": {
    "application/vnd.databricks.v1+cell": {
     "cellMetadata": {},
     "inputWidgets": {},
     "nuid": "026b50c4-7c00-45bf-bd1a-d341808b5c4b",
     "showTitle": false,
     "tableResultSettingsMap": {},
     "title": ""
    }
   },
   "outputs": [],
   "source": [
    "#Save results\n",
    "# write.xlsx(alkon_macro_LvsHC_markers, file=\"/dbfs/mnt/sandbox/TFM_PAULA/Alkon/alkon_macro_LvsHC_markers.xlsx\")\n",
    "write.xlsx( macro_LvsHC.markers, file=\"/dbfs/mnt/sandbox/TFM_PAULA/Alkon/alkon_macro_LvsHC_allmarkers.xlsx\")"
   ]
  },
  {
   "cell_type": "markdown",
   "metadata": {
    "application/vnd.databricks.v1+cell": {
     "cellMetadata": {},
     "inputWidgets": {},
     "nuid": "1c40e791-60fa-4022-9225-9aa895007240",
     "showTitle": false,
     "tableResultSettingsMap": {},
     "title": ""
    }
   },
   "source": [
    "##Dendritic cells"
   ]
  },
  {
   "cell_type": "markdown",
   "metadata": {
    "application/vnd.databricks.v1+cell": {
     "cellMetadata": {},
     "inputWidgets": {},
     "nuid": "61f15832-1b72-447e-8c14-4168ead675fe",
     "showTitle": false,
     "tableResultSettingsMap": {},
     "title": ""
    }
   },
   "source": [
    "### L vs HC\n"
   ]
  },
  {
   "cell_type": "code",
   "execution_count": 0,
   "metadata": {
    "application/vnd.databricks.v1+cell": {
     "cellMetadata": {},
     "inputWidgets": {},
     "nuid": "eeb0142e-4d0e-4a79-89c6-58a913ad95d3",
     "showTitle": false,
     "tableResultSettingsMap": {},
     "title": ""
    }
   },
   "outputs": [],
   "source": [
    "#First it is performed a subset with only DC\n",
    "subdc <- subset(alkon, subset = h_celltype_v4 == \"DC\")\n",
    "unique(subdc$h_celltype_v4) #to check"
   ]
  },
  {
   "cell_type": "code",
   "execution_count": 0,
   "metadata": {
    "application/vnd.databricks.v1+cell": {
     "cellMetadata": {},
     "inputWidgets": {},
     "nuid": "2ebfdf2b-f122-40a9-bc19-569655e47f57",
     "showTitle": false,
     "tableResultSettingsMap": {},
     "title": ""
    }
   },
   "outputs": [],
   "source": [
    "# Check if all conditions have at least 50 cells\n",
    "# Print result\n",
    "if(all((table(subdc@meta.data$Condition)) >= 50)) {\n",
    "  print(\"All conditions have at least 50 cells.\")\n",
    "} else {\n",
    "  print(\"Not all conditions have at least 50 cells.\")\n",
    "}\n",
    "table(subdc@meta.data$Condition)"
   ]
  },
  {
   "cell_type": "markdown",
   "metadata": {
    "application/vnd.databricks.v1+cell": {
     "cellMetadata": {},
     "inputWidgets": {},
     "nuid": "e2b44d8c-30d7-44c6-b4d6-c3b853464be5",
     "showTitle": false,
     "tableResultSettingsMap": {},
     "title": ""
    }
   },
   "source": [
    "In this case we only have 8 Dendritic cells in HC condition"
   ]
  },
  {
   "cell_type": "markdown",
   "metadata": {
    "application/vnd.databricks.v1+cell": {
     "cellMetadata": {},
     "inputWidgets": {},
     "nuid": "f62e4e9d-76d6-440e-82cc-c1c22bfa057a",
     "showTitle": false,
     "tableResultSettingsMap": {},
     "title": ""
    }
   },
   "source": [
    "### Find markers DC"
   ]
  },
  {
   "cell_type": "code",
   "execution_count": 0,
   "metadata": {
    "application/vnd.databricks.v1+cell": {
     "cellMetadata": {},
     "inputWidgets": {},
     "nuid": "8bffd043-8ac5-4f7d-934f-f497df68281d",
     "showTitle": false,
     "tableResultSettingsMap": {},
     "title": ""
    }
   },
   "outputs": [],
   "source": [
    "# Idents(subdc) <- subdc$Condition # We want condition to be the contrast to find markers"
   ]
  },
  {
   "cell_type": "code",
   "execution_count": 0,
   "metadata": {
    "application/vnd.databricks.v1+cell": {
     "cellMetadata": {},
     "inputWidgets": {},
     "nuid": "faf32469-dac8-4625-9fb9-9e9707e2aaf3",
     "showTitle": false,
     "tableResultSettingsMap": {},
     "title": ""
    }
   },
   "outputs": [],
   "source": [
    "# dc_LvsHC.markers <- FindAllMarkers(subdc, only.pos=TRUE)"
   ]
  },
  {
   "cell_type": "code",
   "execution_count": 0,
   "metadata": {
    "application/vnd.databricks.v1+cell": {
     "cellMetadata": {},
     "inputWidgets": {},
     "nuid": "cc0d4edd-9251-463f-8b17-b65e287a1713",
     "showTitle": false,
     "tableResultSettingsMap": {},
     "title": ""
    }
   },
   "outputs": [],
   "source": [
    "# alkon_dc_LvsHC_markers <- dc_LvsHC.markers %>%\n",
    "#     group_by(cluster) %>%\n",
    "#     dplyr::filter(avg_log2FC > 0.5 & p_val_adj < 0.05)\n",
    "# display(alkon_dc_LvsHC_markers)"
   ]
  },
  {
   "cell_type": "code",
   "execution_count": 0,
   "metadata": {
    "application/vnd.databricks.v1+cell": {
     "cellMetadata": {},
     "inputWidgets": {},
     "nuid": "51749b24-5e6a-443e-847e-18cfbe6b37c4",
     "showTitle": false,
     "tableResultSettingsMap": {},
     "title": ""
    }
   },
   "outputs": [],
   "source": [
    "#Save results\n",
    "# write.xlsx(alkon_dc_LvsHC_markers, file=\"/dbfs/mnt/sandbox/TFM_PAULA/Alkon/alkon_dc_LvsHC_markers.xlsx\")"
   ]
  },
  {
   "cell_type": "markdown",
   "metadata": {
    "application/vnd.databricks.v1+cell": {
     "cellMetadata": {},
     "inputWidgets": {},
     "nuid": "aebbe989-bfc0-40c8-b0ff-caa7f7bcec8c",
     "showTitle": false,
     "tableResultSettingsMap": {},
     "title": ""
    }
   },
   "source": [
    "##Natural killers"
   ]
  },
  {
   "cell_type": "markdown",
   "metadata": {
    "application/vnd.databricks.v1+cell": {
     "cellMetadata": {},
     "inputWidgets": {},
     "nuid": "8e2c4580-6e4d-4c98-b189-70af95f9639b",
     "showTitle": false,
     "tableResultSettingsMap": {},
     "title": ""
    }
   },
   "source": [
    "### L vs HC\n"
   ]
  },
  {
   "cell_type": "code",
   "execution_count": 0,
   "metadata": {
    "application/vnd.databricks.v1+cell": {
     "cellMetadata": {},
     "inputWidgets": {},
     "nuid": "8430affb-07c1-4906-bdcb-31f2d1255472",
     "showTitle": false,
     "tableResultSettingsMap": {},
     "title": ""
    }
   },
   "outputs": [],
   "source": [
    "#First it is performed a subset with only NK\n",
    "subnk <- subset(alkon, subset = h_celltype_v4 == \"NK\")\n",
    "unique(subnk$h_celltype_v4) #to check"
   ]
  },
  {
   "cell_type": "code",
   "execution_count": 0,
   "metadata": {
    "application/vnd.databricks.v1+cell": {
     "cellMetadata": {},
     "inputWidgets": {},
     "nuid": "4a44a6e2-7e11-41e4-8844-124c3379f1cb",
     "showTitle": false,
     "tableResultSettingsMap": {},
     "title": ""
    }
   },
   "outputs": [],
   "source": [
    "# Check if all conditions have at least 50 cells\n",
    "# Print result\n",
    "if(all((table(subnk@meta.data$Condition)) >= 50)) {\n",
    "  print(\"All conditions have at least 50 cells.\")\n",
    "} else {\n",
    "  print(\"Not all conditions have at least 50 cells.\")\n",
    "}\n",
    "table(subnk@meta.data$Condition)"
   ]
  },
  {
   "cell_type": "markdown",
   "metadata": {
    "application/vnd.databricks.v1+cell": {
     "cellMetadata": {},
     "inputWidgets": {},
     "nuid": "f3d364ee-bcb8-48e7-8b90-76059837ba47",
     "showTitle": false,
     "tableResultSettingsMap": {},
     "title": ""
    }
   },
   "source": [
    "There are only 2 cells and only in the condition AD."
   ]
  },
  {
   "cell_type": "markdown",
   "metadata": {
    "application/vnd.databricks.v1+cell": {
     "cellMetadata": {},
     "inputWidgets": {},
     "nuid": "e94466fe-31d8-4b8e-a5d3-bf300b25d7c6",
     "showTitle": false,
     "tableResultSettingsMap": {},
     "title": ""
    }
   },
   "source": [
    "### Find markers NK"
   ]
  },
  {
   "cell_type": "code",
   "execution_count": 0,
   "metadata": {
    "application/vnd.databricks.v1+cell": {
     "cellMetadata": {},
     "inputWidgets": {},
     "nuid": "7c0cd779-ec81-4b3e-aaa4-0e67ba8bca82",
     "showTitle": false,
     "tableResultSettingsMap": {},
     "title": ""
    }
   },
   "outputs": [],
   "source": [
    "# Idents(subnk) <- subnk$Condition # We want condition to be the contrast to find markers"
   ]
  },
  {
   "cell_type": "code",
   "execution_count": 0,
   "metadata": {
    "application/vnd.databricks.v1+cell": {
     "cellMetadata": {},
     "inputWidgets": {},
     "nuid": "9a6f69b5-d43b-42a6-a568-d7d089e7032a",
     "showTitle": false,
     "tableResultSettingsMap": {},
     "title": ""
    }
   },
   "outputs": [],
   "source": [
    "# nk_LvsHC.markers <- FindAllMarkers(subnk, only.pos=TRUE)"
   ]
  },
  {
   "cell_type": "code",
   "execution_count": 0,
   "metadata": {
    "application/vnd.databricks.v1+cell": {
     "cellMetadata": {},
     "inputWidgets": {},
     "nuid": "60d3c6fa-fa03-4b5f-be91-d40a47d0effc",
     "showTitle": false,
     "tableResultSettingsMap": {},
     "title": ""
    }
   },
   "outputs": [],
   "source": [
    "# alkon_nk_LvsHC_markers <- nk_LvsHC.markers %>%\n",
    "#     group_by(cluster) %>%\n",
    "#     dplyr::filter(avg_log2FC > 0.5 & p_val_adj < 0.05)\n",
    "# display(alkon_nk_LvsHC_markers)"
   ]
  },
  {
   "cell_type": "code",
   "execution_count": 0,
   "metadata": {
    "application/vnd.databricks.v1+cell": {
     "cellMetadata": {},
     "inputWidgets": {},
     "nuid": "7834ecf6-50a9-41b2-b25d-f058feaca190",
     "showTitle": false,
     "tableResultSettingsMap": {},
     "title": ""
    }
   },
   "outputs": [],
   "source": [
    "#Save results\n",
    "# write.xlsx(alkon_nk_LvsHC_markers, file=\"/dbfs/mnt/sandbox/TFM_PAULA/Alkon/alkon_nk_LvsHC_markers.xlsx\")"
   ]
  },
  {
   "cell_type": "markdown",
   "metadata": {
    "application/vnd.databricks.v1+cell": {
     "cellMetadata": {},
     "inputWidgets": {},
     "nuid": "bd64314a-b7f5-485a-8f73-2406b8b72afc",
     "showTitle": false,
     "tableResultSettingsMap": {},
     "title": ""
    }
   },
   "source": [
    "##Treg"
   ]
  },
  {
   "cell_type": "code",
   "execution_count": 0,
   "metadata": {
    "application/vnd.databricks.v1+cell": {
     "cellMetadata": {},
     "inputWidgets": {},
     "nuid": "68af11ad-f31d-4335-8be6-e25e600e7629",
     "showTitle": false,
     "tableResultSettingsMap": {},
     "title": ""
    }
   },
   "outputs": [],
   "source": [
    "#First it is performed a subset with only T reg\n",
    "subtreg <- subset(alkon, subset = h_celltype_v4 == \"Treg\")\n",
    "unique(subtreg$h_celltype_v4) #to check"
   ]
  },
  {
   "cell_type": "code",
   "execution_count": 0,
   "metadata": {
    "application/vnd.databricks.v1+cell": {
     "cellMetadata": {},
     "inputWidgets": {},
     "nuid": "cc31a838-b59b-43d0-bfd0-35ff976062b6",
     "showTitle": false,
     "tableResultSettingsMap": {},
     "title": ""
    }
   },
   "outputs": [],
   "source": [
    "# Check if all conditions have at least 50 cells\n",
    "# Print result\n",
    "if(all((table(subtreg@meta.data$Condition)) >= 50)) {\n",
    "  print(\"All conditions have at least 50 cells.\")\n",
    "} else {\n",
    "  print(\"Not all conditions have at least 50 cells.\")\n",
    "}\n",
    "table(subtreg@meta.data$Condition)"
   ]
  },
  {
   "cell_type": "markdown",
   "metadata": {
    "application/vnd.databricks.v1+cell": {
     "cellMetadata": {},
     "inputWidgets": {},
     "nuid": "a5d1d69f-7cdb-4a13-a033-561a8ae4f0bf",
     "showTitle": false,
     "tableResultSettingsMap": {},
     "title": ""
    }
   },
   "source": [
    "As it is just 5 below I continue performing the analysis but taking it into account."
   ]
  },
  {
   "cell_type": "markdown",
   "metadata": {
    "application/vnd.databricks.v1+cell": {
     "cellMetadata": {},
     "inputWidgets": {},
     "nuid": "c3c43a79-31f0-46e9-839d-04cafda29aec",
     "showTitle": false,
     "tableResultSettingsMap": {},
     "title": ""
    }
   },
   "source": [
    "###Find markers treg"
   ]
  },
  {
   "cell_type": "code",
   "execution_count": 0,
   "metadata": {
    "application/vnd.databricks.v1+cell": {
     "cellMetadata": {},
     "inputWidgets": {},
     "nuid": "1b281bf2-9ec8-4da2-a6da-e0b6972955bf",
     "showTitle": false,
     "tableResultSettingsMap": {},
     "title": ""
    }
   },
   "outputs": [],
   "source": [
    "Idents(subtreg) <- subtreg$Condition # We want condition to be the contrast to find markers"
   ]
  },
  {
   "cell_type": "code",
   "execution_count": 0,
   "metadata": {
    "application/vnd.databricks.v1+cell": {
     "cellMetadata": {},
     "inputWidgets": {},
     "nuid": "395ae027-c9c0-46b0-aced-b4a0cd7e4056",
     "showTitle": false,
     "tableResultSettingsMap": {},
     "title": ""
    }
   },
   "outputs": [],
   "source": [
    "subtreg.markers <- FindAllMarkers(subtreg, only.pos=TRUE)"
   ]
  },
  {
   "cell_type": "code",
   "execution_count": 0,
   "metadata": {
    "application/vnd.databricks.v1+cell": {
     "cellMetadata": {},
     "inputWidgets": {},
     "nuid": "6d9dd887-b616-4f5b-9bc8-c537fc379a20",
     "showTitle": false,
     "tableResultSettingsMap": {},
     "title": ""
    }
   },
   "outputs": [],
   "source": [
    "alkon_LvsHC_treg_markers <- subtreg.markers %>%\n",
    "    group_by(cluster) %>%\n",
    "    dplyr::filter(avg_log2FC > 0.5 & p_val_adj < 0.05)\n",
    "display(alkon_LvsHC_treg_markers)"
   ]
  },
  {
   "cell_type": "code",
   "execution_count": 0,
   "metadata": {
    "application/vnd.databricks.v1+cell": {
     "cellMetadata": {},
     "inputWidgets": {},
     "nuid": "fa7d40a0-fb72-43ee-a4dd-d511826f77a6",
     "showTitle": false,
     "tableResultSettingsMap": {},
     "title": ""
    }
   },
   "outputs": [],
   "source": [
    "#Save results\n",
    "# write.xlsx(alkon_LvsHC_treg_markers, file=\"/dbfs/mnt/sandbox/TFM_PAULA/Alkon/alkon_treg_LvsHC_markers.xlsx\")\n",
    "write.xlsx(subtreg.markers, file=\"/dbfs/mnt/sandbox/TFM_PAULA/Alkon/alkon_treg_LvsHC_allmarkers.xlsx\")"
   ]
  },
  {
   "cell_type": "markdown",
   "metadata": {
    "application/vnd.databricks.v1+cell": {
     "cellMetadata": {},
     "inputWidgets": {},
     "nuid": "0ceb98ca-51f4-43ab-9bd2-c4132419d5d0",
     "showTitle": false,
     "tableResultSettingsMap": {},
     "title": ""
    }
   },
   "source": [
    "##MastC"
   ]
  },
  {
   "cell_type": "code",
   "execution_count": 0,
   "metadata": {
    "application/vnd.databricks.v1+cell": {
     "cellMetadata": {},
     "inputWidgets": {},
     "nuid": "54a09e14-b0d7-4513-bcf9-6965d2640b99",
     "showTitle": false,
     "tableResultSettingsMap": {},
     "title": ""
    }
   },
   "outputs": [],
   "source": [
    "#First it is performed a subset with only monocytes\n",
    "submast <- subset(alkon, subset = h_celltype_v4 == \"MastC\")\n",
    "unique(submast$h_celltype_v4) #to check"
   ]
  },
  {
   "cell_type": "code",
   "execution_count": 0,
   "metadata": {
    "application/vnd.databricks.v1+cell": {
     "cellMetadata": {},
     "inputWidgets": {},
     "nuid": "15541f1c-7984-4125-9fbe-e1449df230cd",
     "showTitle": false,
     "tableResultSettingsMap": {},
     "title": ""
    }
   },
   "outputs": [],
   "source": [
    "# Check if all conditions have at least 50 cells\n",
    "# Print result\n",
    "if(all((table(submast@meta.data$Condition)) >= 50)) {\n",
    "  print(\"All conditions have at least 50 cells.\")\n",
    "} else {\n",
    "  print(\"Not all conditions have at least 50 cells.\")\n",
    "}\n",
    "table(submast@meta.data$Condition)"
   ]
  },
  {
   "cell_type": "markdown",
   "metadata": {
    "application/vnd.databricks.v1+cell": {
     "cellMetadata": {},
     "inputWidgets": {},
     "nuid": "eec08268-e5c4-498f-a337-aa0cc9545d7f",
     "showTitle": false,
     "tableResultSettingsMap": {},
     "title": ""
    }
   },
   "source": [
    "Majority in AD patients, but not enough cells to do DEA"
   ]
  }
 ],
 "metadata": {
  "application/vnd.databricks.v1+notebook": {
   "computePreferences": null,
   "dashboards": [],
   "environmentMetadata": null,
   "inputWidgetPreferences": null,
   "language": "r",
   "notebookMetadata": {
    "pythonIndentUnit": 4
   },
   "notebookName": "1.1.alkon_markers_LvsHC",
   "widgets": {}
  },
  "language_info": {
   "name": "r"
  }
 },
 "nbformat": 4,
 "nbformat_minor": 0
}
