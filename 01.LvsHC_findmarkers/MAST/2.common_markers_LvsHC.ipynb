{
 "cells": [
  {
   "cell_type": "markdown",
   "metadata": {
    "application/vnd.databricks.v1+cell": {
     "cellMetadata": {
      "byteLimit": 2048000,
      "rowLimit": 10000
     },
     "inputWidgets": {},
     "nuid": "dda76991-47df-441f-9cac-e0b0b7674064",
     "showTitle": false,
     "tableResultSettingsMap": {},
     "title": ""
    }
   },
   "source": [
    "# Common markers from the different datasets\n",
    "\n",
    "Here I will merge the markers I found for each cell type on each dataset, for the **LvsHC** contrast to see which are common and have the same sign so represent a consistent result."
   ]
  },
  {
   "cell_type": "code",
   "execution_count": 0,
   "metadata": {
    "application/vnd.databricks.v1+cell": {
     "cellMetadata": {
      "byteLimit": 2048000,
      "rowLimit": 10000
     },
     "inputWidgets": {},
     "nuid": "dbe7a884-21e7-47aa-a1ac-b0a06d4728da",
     "showTitle": false,
     "tableResultSettingsMap": {},
     "title": ""
    }
   },
   "outputs": [],
   "source": [
    "#Load required libraries\n",
    ".libPaths(c(\"/dbfs/home/jtrincado@almirall.com/my_r_packages/Seurat\", .libPaths()))\n",
    "library(dittoSeq)\n",
    "library(dplyr)\n",
    "library(openxlsx)\n",
    ".libPaths(c(\"/dbfs/home/boriol@almirall.com/my_r_packages/bulkRNASeq_PBMCs_R4.3\", .libPaths()))\n",
    "library(VennDiagram)"
   ]
  },
  {
   "cell_type": "markdown",
   "metadata": {
    "application/vnd.databricks.v1+cell": {
     "cellMetadata": {
      "byteLimit": 2048000,
      "rowLimit": 10000
     },
     "inputWidgets": {},
     "nuid": "fc38e11d-6483-43d4-81ee-106e8dfe082b",
     "showTitle": false,
     "tableResultSettingsMap": {},
     "title": ""
    }
   },
   "source": [
    "## Lesional vs Healthy Control"
   ]
  },
  {
   "cell_type": "markdown",
   "metadata": {
    "application/vnd.databricks.v1+cell": {
     "cellMetadata": {
      "byteLimit": 2048000,
      "rowLimit": 10000
     },
     "inputWidgets": {},
     "nuid": "39a1c653-4eb5-464a-8bbf-a38f40ecb591",
     "showTitle": false,
     "tableResultSettingsMap": {},
     "title": ""
    }
   },
   "source": [
    "### Keratinocytes"
   ]
  },
  {
   "cell_type": "code",
   "execution_count": 0,
   "metadata": {
    "application/vnd.databricks.v1+cell": {
     "cellMetadata": {
      "byteLimit": 2048000,
      "rowLimit": 10000
     },
     "inputWidgets": {},
     "nuid": "75240f24-10c4-4c41-8404-1b00279dd2a0",
     "showTitle": false,
     "tableResultSettingsMap": {},
     "title": ""
    }
   },
   "outputs": [],
   "source": [
    "#Read each dataset markers saved previously\n",
    "reynolds_LvsHC_KC_markers <- read.xlsx(\"/dbfs/mnt/sandbox/TFM_PAULA/Reynolds/LvsHC/MAST_method/reynolds_kc_LvsHC_allmarkers.xlsx\")\n",
    "alkon_LvsHC_KC_markers <- read.xlsx(\"/dbfs/mnt/sandbox/TFM_PAULA/Alkon/MAST_method/alkon_kc_LvsHC_allmarkers.xlsx\")"
   ]
  },
  {
   "cell_type": "code",
   "execution_count": 0,
   "metadata": {
    "application/vnd.databricks.v1+cell": {
     "cellMetadata": {
      "byteLimit": 2048000,
      "rowLimit": 10000
     },
     "inputWidgets": {},
     "nuid": "63cde38a-711d-4b65-b631-8105e83c3e4c",
     "showTitle": false,
     "tableResultSettingsMap": {},
     "title": ""
    }
   },
   "outputs": [],
   "source": [
    "kc_markers <- merge(reynolds_LvsHC_KC_markers, alkon_LvsHC_KC_markers, by =\"gene\", suffixes= c(\".reynolds\", \".alkon\"))\n",
    "display(kc_markers %>% arrange(p_val_adj.alkon))"
   ]
  },
  {
   "cell_type": "code",
   "execution_count": 0,
   "metadata": {
    "application/vnd.databricks.v1+cell": {
     "cellMetadata": {
      "byteLimit": 2048000,
      "rowLimit": 10000
     },
     "inputWidgets": {},
     "nuid": "70332f4e-5977-434b-9af6-b0ab1cffcfa5",
     "showTitle": false,
     "tableResultSettingsMap": {},
     "title": ""
    }
   },
   "outputs": [],
   "source": [
    "# Read each dataset markers saved previously\n",
    "reynolds_LvsHC_KC_markers <- reynolds_LvsHC_KC_markers %>%\n",
    "  filter(abs(avg_log2FC)  > 1, p_val_adj < 0.05)\n",
    "\n",
    "alkon_LvsHC_KC_markers <- alkon_LvsHC_KC_markers %>%\n",
    "  filter(abs(avg_log2FC) > 1, p_val_adj < 0.05)"
   ]
  },
  {
   "cell_type": "code",
   "execution_count": 0,
   "metadata": {
    "application/vnd.databricks.v1+cell": {
     "cellMetadata": {
      "byteLimit": 2048000,
      "rowLimit": 10000
     },
     "inputWidgets": {},
     "nuid": "eee389bc-d1c6-4159-80ae-7d9966c133dc",
     "showTitle": false,
     "tableResultSettingsMap": {},
     "title": ""
    }
   },
   "outputs": [],
   "source": [
    "# Create a list of your gene sets\n",
    "gene_sets <- list(\n",
    "  \"Alkon\" = na.omit(reynolds_LvsHC_KC_markers$gene),\n",
    "  \"Reynolds\" = na.omit(alkon_LvsHC_KC_markers$gene)\n",
    ")\n",
    "\n",
    "# Plot the Venn diagram with colors and title\n",
    "venn.plot <- venn.diagram(\n",
    "  x = gene_sets,\n",
    "  category.names = c(\"Alkon\", \"Reynolds\"),\n",
    "  filename = NULL,  # Set to NULL to plot in RStudio\n",
    "  output = TRUE,\n",
    "  fill = c(\"red\", \"blue\"), # Add colors\n",
    "  main = \"Common DEGs btw datasets - KC (MAST)\", # Add title,\n",
    "  main.fontface = \"bold\", # Make title bold\n",
    "  cat.dist = c(0.03, 0.03), # Adjust the distance of the category names from the circles\n",
    "  main.cex = 1.3, # Increase title size\n",
    "  cat.cex = 1.3, # Increase label size\n",
    "  cat.pos = c(-17, 17), # Position labels more on the top\n",
    "  cex = 1.3, # Increase numbers size\n",
    "  cat.col = c(\"red\", \"blue\") # Set label colors to match circles\n",
    ")\n",
    "\n",
    "\n",
    "# Display the plot\n",
    "grid.newpage()\n",
    "grid.draw(venn.plot)"
   ]
  },
  {
   "cell_type": "code",
   "execution_count": 0,
   "metadata": {
    "application/vnd.databricks.v1+cell": {
     "cellMetadata": {
      "byteLimit": 2048000,
      "rowLimit": 10000
     },
     "inputWidgets": {},
     "nuid": "61f55a2e-89de-4b01-8801-e7a7713d10cf",
     "showTitle": false,
     "tableResultSettingsMap": {},
     "title": ""
    }
   },
   "outputs": [],
   "source": [
    "# Filter rows where cluster_x is \"AD\" and cluster_y is \"lesional\" at the same time or healthy for both.\n",
    "filtered_kc_markers <- kc_markers %>%\n",
    "  filter((cluster.reynolds == \"lesional\" & cluster.alkon == \"AD\") | (cluster.reynolds == \"healthy\" & cluster.alkon == \"HC\")) %>%\n",
    "  mutate(Condition = ifelse(cluster.alkon == \"AD\", \"lesional\", \"healthy\")) %>%\n",
    "  mutate(avg_log2FC = (avg_log2FC.alkon + avg_log2FC.reynolds) / 2) %>%\n",
    "  mutate(avg_pvalue = (p_val.alkon + p_val.reynolds) / 2) %>%\n",
    "  mutate(avg_pvalue_adj = (p_val_adj.alkon + p_val_adj.reynolds) / 2) %>%\n",
    "  select(-cluster.reynolds, -cluster.alkon)\n",
    "display(filtered_kc_markers)"
   ]
  },
  {
   "cell_type": "code",
   "execution_count": 0,
   "metadata": {
    "application/vnd.databricks.v1+cell": {
     "cellMetadata": {},
     "inputWidgets": {},
     "nuid": "6a5db3d3-eb18-4d17-8a29-ebddbce4365b",
     "showTitle": false,
     "tableResultSettingsMap": {},
     "title": ""
    }
   },
   "outputs": [],
   "source": [
    "write.xlsx(filtered_kc_markers, file=\"/dbfs/mnt/sandbox/TFM_PAULA/common_markers/Keratinocytes/AR_kc_LvsHC_allmarkers.xlsx\")"
   ]
  },
  {
   "cell_type": "markdown",
   "metadata": {
    "application/vnd.databricks.v1+cell": {
     "cellMetadata": {},
     "inputWidgets": {},
     "nuid": "2195a279-ed27-44c9-a415-b81d26ee8a38",
     "showTitle": false,
     "tableResultSettingsMap": {},
     "title": ""
    }
   },
   "source": [
    "### T-cells"
   ]
  },
  {
   "cell_type": "code",
   "execution_count": 0,
   "metadata": {
    "application/vnd.databricks.v1+cell": {
     "cellMetadata": {},
     "inputWidgets": {},
     "nuid": "01efb156-a948-47ce-9752-c9236555cf4c",
     "showTitle": false,
     "tableResultSettingsMap": {},
     "title": ""
    }
   },
   "outputs": [],
   "source": [
    "#Read each dataset markers saved previously\n",
    "reynolds_LvsHC_tcell_markers <- read.xlsx(\"/dbfs/mnt/sandbox/TFM_PAULA/Reynolds/LvsHC/reynolds_LvsHC_tcell_allmarkers.xlsx\")\n",
    "\n",
    "alkon_LvsHC_tcell_markers <- read.xlsx(\"/dbfs/mnt/sandbox/TFM_PAULA/Alkon/alkon_LvsHC_tcell_allmarkers.xlsx\")"
   ]
  },
  {
   "cell_type": "code",
   "execution_count": 0,
   "metadata": {
    "application/vnd.databricks.v1+cell": {
     "cellMetadata": {},
     "inputWidgets": {},
     "nuid": "c449fe99-4c1e-4945-aa9e-70d89766e8cd",
     "showTitle": false,
     "tableResultSettingsMap": {},
     "title": ""
    }
   },
   "outputs": [],
   "source": [
    "#Common markers\n",
    "tcell_markersRA <- merge(reynolds_LvsHC_tcell_markers, alkon_LvsHC_tcell_markers, by = \"gene\", suffixes = c(\".reynolds\", \".alkon\"))"
   ]
  },
  {
   "cell_type": "code",
   "execution_count": 0,
   "metadata": {
    "application/vnd.databricks.v1+cell": {
     "cellMetadata": {},
     "inputWidgets": {},
     "nuid": "52b64e33-cf01-4118-aa3d-f55721dbe45a",
     "showTitle": false,
     "tableResultSettingsMap": {},
     "title": ""
    }
   },
   "outputs": [],
   "source": [
    "display(tcell_markersRA)"
   ]
  },
  {
   "cell_type": "code",
   "execution_count": 0,
   "metadata": {
    "application/vnd.databricks.v1+cell": {
     "cellMetadata": {},
     "inputWidgets": {},
     "nuid": "acdb5345-678c-4a51-ac99-5bb98abd8c7c",
     "showTitle": false,
     "tableResultSettingsMap": {},
     "title": ""
    }
   },
   "outputs": [],
   "source": [
    "#Filter common markers\n",
    "\n",
    "filtered_tcell_markersRA <- tcell_markersRA %>%\n",
    "  filter((cluster.reynolds == \"lesional\" & cluster.alkon == \"AD\") | \n",
    "         (cluster.reynolds == \"healthy\" & cluster.alkon == \"HC\")) %>%\n",
    "  mutate(Condition = ifelse(cluster.alkon == \"AD\", \"lesional\", \"healthy\")) %>%\n",
    "  mutate(avg_log2FC = (avg_log2FC.alkon + avg_log2FC.reynolds) / 2) %>%\n",
    "  mutate(avg_pvalue = (p_val.alkon + p_val.reynolds) / 2) %>%\n",
    "  mutate(avg_pvalue_adj = (p_val_adj.alkon + p_val_adj.reynolds) / 2) %>%\n",
    "  select(-cluster.reynolds, -cluster.alkon)\n"
   ]
  },
  {
   "cell_type": "code",
   "execution_count": 0,
   "metadata": {
    "application/vnd.databricks.v1+cell": {
     "cellMetadata": {},
     "inputWidgets": {},
     "nuid": "e114f7c5-2153-48fd-8a30-a3112d8dbf13",
     "showTitle": false,
     "tableResultSettingsMap": {},
     "title": ""
    }
   },
   "outputs": [],
   "source": [
    "display(filtered_tcell_markersRA)"
   ]
  },
  {
   "cell_type": "code",
   "execution_count": 0,
   "metadata": {
    "application/vnd.databricks.v1+cell": {
     "cellMetadata": {},
     "inputWidgets": {},
     "nuid": "2fc1b6ef-cc12-41fb-a0ce-323f27a097c9",
     "showTitle": false,
     "tableResultSettingsMap": {},
     "title": ""
    }
   },
   "outputs": [],
   "source": [
    "write.xlsx(filtered_tcell_markersRA, \"/dbfs/mnt/sandbox/TFM_PAULA/common_markers/Tcell/AR_Tcell_LvsHC_allmarkers.xlsx\")"
   ]
  }
 ],
 "metadata": {
  "application/vnd.databricks.v1+notebook": {
   "computePreferences": null,
   "dashboards": [],
   "environmentMetadata": null,
   "inputWidgetPreferences": null,
   "language": "r",
   "notebookMetadata": {
    "pythonIndentUnit": 4
   },
   "notebookName": "2.common_markers_LvsHC",
   "widgets": {}
  },
  "language_info": {
   "name": "r"
  }
 },
 "nbformat": 4,
 "nbformat_minor": 0
}
