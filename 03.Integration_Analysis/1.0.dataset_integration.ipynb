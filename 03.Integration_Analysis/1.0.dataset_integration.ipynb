{
 "cells": [
  {
   "cell_type": "markdown",
   "metadata": {
    "application/vnd.databricks.v1+cell": {
     "cellMetadata": {},
     "inputWidgets": {},
     "nuid": "9b7e995a-e81d-49eb-b528-67344d86bb15",
     "showTitle": false,
     "tableResultSettingsMap": {},
     "title": ""
    }
   },
   "source": [
    "#Task 1: Dataset Integration\n",
    "\n",
    "Ensure cell type homogeneity of the current annotations across datasets\n",
    "\n",
    "- Integrate scRNA-seq datasets using **RPCA**, **CCA**,**Harmony** to \n",
    "check the comparability across datasets.\n",
    "\n",
    "- STACAS(Andreatta et al., 2024) is used in other script"
   ]
  },
  {
   "cell_type": "code",
   "execution_count": 0,
   "metadata": {
    "application/vnd.databricks.v1+cell": {
     "cellMetadata": {},
     "inputWidgets": {},
     "nuid": "a8cbab33-f007-49b4-b4f7-b658dd76060d",
     "showTitle": false,
     "tableResultSettingsMap": {},
     "title": ""
    }
   },
   "outputs": [],
   "source": [
    ".libPaths(c(\"/dbfs/home/jtrincado@almirall.com/my_r_packages/Seurat_v2\", .libPaths()))\n",
    "\n",
    "library(Seurat)\n",
    "library(dplyr)\n",
    "library(ggplot2)\n",
    "library(patchwork)\n",
    "options(future.globals.maxSize = 1e9)\n"
   ]
  },
  {
   "cell_type": "code",
   "execution_count": 0,
   "metadata": {
    "application/vnd.databricks.v1+cell": {
     "cellMetadata": {},
     "inputWidgets": {},
     "nuid": "51655e4e-5c12-4d2a-8a4a-eef2ad539bb1",
     "showTitle": false,
     "tableResultSettingsMap": {},
     "title": ""
    }
   },
   "outputs": [],
   "source": [
    "alkon <- readRDS(\"/dbfs/mnt/sandbox/TFM_PAULA/ALKON_PROCESSED_TFM.rds\")\n",
    "reynolds <- readRDS(\"/dbfs/mnt/sandbox/TFM_PAULA/REYNOLDS_PROCESSED_TFM.rds\")"
   ]
  },
  {
   "cell_type": "code",
   "execution_count": 0,
   "metadata": {
    "application/vnd.databricks.v1+cell": {
     "cellMetadata": {},
     "inputWidgets": {},
     "nuid": "13dacfa9-4269-43ac-af86-c3b41046e09c",
     "showTitle": false,
     "tableResultSettingsMap": {},
     "title": ""
    }
   },
   "outputs": [],
   "source": [
    "alkon$dataset <- \"alkon\"\n",
    "reynolds$dataset <- \"reynolds\""
   ]
  },
  {
   "cell_type": "code",
   "execution_count": 0,
   "metadata": {
    "application/vnd.databricks.v1+cell": {
     "cellMetadata": {},
     "inputWidgets": {},
     "nuid": "6d7ae6d9-c378-4212-9e81-5c49c318ef15",
     "showTitle": false,
     "tableResultSettingsMap": {},
     "title": ""
    }
   },
   "outputs": [],
   "source": [
    "alkon$celltype_AR <- alkon$h_celltype_v4\n",
    "reynolds$celltype_AR <- reynolds$h_celltype"
   ]
  },
  {
   "cell_type": "code",
   "execution_count": 0,
   "metadata": {
    "application/vnd.databricks.v1+cell": {
     "cellMetadata": {},
     "inputWidgets": {},
     "nuid": "e5c7ac33-05ee-4974-8817-741e7b8ec106",
     "showTitle": false,
     "tableResultSettingsMap": {},
     "title": ""
    }
   },
   "outputs": [],
   "source": [
    "unique(alkon$Condition)"
   ]
  },
  {
   "cell_type": "code",
   "execution_count": 0,
   "metadata": {
    "application/vnd.databricks.v1+cell": {
     "cellMetadata": {},
     "inputWidgets": {},
     "nuid": "1f60257a-92ed-44fd-a3f1-a73dfb0afe5e",
     "showTitle": false,
     "tableResultSettingsMap": {},
     "title": ""
    }
   },
   "outputs": [],
   "source": [
    "alkon$Condition <- ifelse(alkon$Condition == \"AD\", \"Lesional\", alkon$Condition)"
   ]
  },
  {
   "cell_type": "code",
   "execution_count": 0,
   "metadata": {
    "application/vnd.databricks.v1+cell": {
     "cellMetadata": {},
     "inputWidgets": {},
     "nuid": "bb9d489d-2a6a-4e05-9358-2568ce065e15",
     "showTitle": false,
     "tableResultSettingsMap": {},
     "title": ""
    }
   },
   "outputs": [],
   "source": [
    "# # Create a new column 'Condition' with default value 'healthy'\n",
    "reynolds$Condition <- \"HC\"\n",
    "\n",
    "# Update 'Condition' based on the 'Status' and 'Site' columns\n",
    "reynolds$Condition[reynolds$Status == \"Eczema\" & reynolds$Site == \"lesion\"] <- \"Lesional\"\n",
    "reynolds$Condition[reynolds$Status == \"Eczema\" & reynolds$Site == \"non_lesion\"] <- \"Non_lesional\"\n"
   ]
  },
  {
   "cell_type": "code",
   "execution_count": 0,
   "metadata": {
    "application/vnd.databricks.v1+cell": {
     "cellMetadata": {},
     "inputWidgets": {},
     "nuid": "9c2739f0-5043-4d15-a1b8-98c2a07c96f5",
     "showTitle": false,
     "tableResultSettingsMap": {},
     "title": ""
    }
   },
   "outputs": [],
   "source": [
    "unique(reynolds$Condition)"
   ]
  },
  {
   "cell_type": "code",
   "execution_count": 0,
   "metadata": {
    "application/vnd.databricks.v1+cell": {
     "cellMetadata": {},
     "inputWidgets": {},
     "nuid": "7c7f7b27-23c6-4bb6-ab83-c62856221adb",
     "showTitle": false,
     "tableResultSettingsMap": {},
     "title": ""
    }
   },
   "outputs": [],
   "source": [
    "alkon$Condition_AR <- alkon$Condition\n",
    "reynolds$Condition_AR <- reynolds$Condition"
   ]
  },
  {
   "cell_type": "code",
   "execution_count": 0,
   "metadata": {
    "application/vnd.databricks.v1+cell": {
     "cellMetadata": {},
     "inputWidgets": {},
     "nuid": "76db40e8-a535-4a49-b26e-a5b381e78b9d",
     "showTitle": false,
     "tableResultSettingsMap": {},
     "title": ""
    }
   },
   "outputs": [],
   "source": [
    "reynolds$Sample_id <- reynolds$donor_id"
   ]
  },
  {
   "cell_type": "markdown",
   "metadata": {
    "application/vnd.databricks.v1+cell": {
     "cellMetadata": {},
     "inputWidgets": {},
     "nuid": "0949c7ab-b9d8-47bd-90ab-37b8b04be303",
     "showTitle": false,
     "tableResultSettingsMap": {},
     "title": ""
    }
   },
   "source": [
    "##Normalization and scale for PCA and UMAP"
   ]
  },
  {
   "cell_type": "code",
   "execution_count": 0,
   "metadata": {
    "application/vnd.databricks.v1+cell": {
     "cellMetadata": {},
     "inputWidgets": {},
     "nuid": "260af4da-c6e1-4ba9-8727-d9df935015ec",
     "showTitle": false,
     "tableResultSettingsMap": {},
     "title": ""
    }
   },
   "outputs": [],
   "source": [
    "AR <- merge(alkon, y = reynolds, add.cell.ids = c(\"alkon\", \"reynolds\"))"
   ]
  },
  {
   "cell_type": "code",
   "execution_count": 0,
   "metadata": {
    "application/vnd.databricks.v1+cell": {
     "cellMetadata": {},
     "inputWidgets": {},
     "nuid": "f528d423-1c3f-48b2-8bfb-c8a0d051cd4b",
     "showTitle": false,
     "tableResultSettingsMap": {},
     "title": ""
    }
   },
   "outputs": [],
   "source": [
    "AR <- NormalizeData(AR)\n",
    "AR <- FindVariableFeatures(AR)\n",
    "AR <- ScaleData(AR)\n",
    "AR <- RunPCA(AR)"
   ]
  },
  {
   "cell_type": "code",
   "execution_count": 0,
   "metadata": {
    "application/vnd.databricks.v1+cell": {
     "cellMetadata": {},
     "inputWidgets": {},
     "nuid": "d0585bf1-3d61-48f8-92a6-8dc76a125528",
     "showTitle": false,
     "tableResultSettingsMap": {},
     "title": ""
    }
   },
   "outputs": [],
   "source": [
    "AR <- FindNeighbors(AR, dims = 1:30, reduction = \"pca\")\n",
    "AR <- FindClusters(AR, resolution = 2, cluster.name = \"unintegrated_clusters\")"
   ]
  },
  {
   "cell_type": "code",
   "execution_count": 0,
   "metadata": {
    "application/vnd.databricks.v1+cell": {
     "cellMetadata": {},
     "inputWidgets": {},
     "nuid": "b01d8088-05d2-4137-9829-223367c68777",
     "showTitle": false,
     "tableResultSettingsMap": {},
     "title": ""
    }
   },
   "outputs": [],
   "source": [
    "# Save the merged Seurat object\n",
    " saveRDS(AR, file=\"/dbfs/mnt/sandbox/TFM_PAULA/MERGED_ARdatasets_TFM.rds\")"
   ]
  },
  {
   "cell_type": "code",
   "execution_count": 0,
   "metadata": {
    "application/vnd.databricks.v1+cell": {
     "cellMetadata": {},
     "inputWidgets": {},
     "nuid": "6a114fce-25e5-4ca1-8dd8-bd9df615828b",
     "showTitle": false,
     "tableResultSettingsMap": {},
     "title": ""
    }
   },
   "outputs": [],
   "source": [
    "AR <- RunUMAP(AR, dims = 1:30, reduction = \"pca\", reduction.name = \"umap.unintegrated\")"
   ]
  },
  {
   "cell_type": "code",
   "execution_count": 0,
   "metadata": {
    "application/vnd.databricks.v1+cell": {
     "cellMetadata": {},
     "inputWidgets": {},
     "nuid": "a536ebcb-17da-4852-95df-c003a4a729b9",
     "showTitle": false,
     "tableResultSettingsMap": {},
     "title": ""
    }
   },
   "outputs": [],
   "source": [
    "# visualize by batch and cell type annotation\n",
    "options(repr.plot.width=1600, repr.plot.height=1200)\n",
    "DimPlot(AR, reduction = \"umap.unintegrated\", group.by = c(\"dataset\", \"celltype_AR\"))"
   ]
  },
  {
   "cell_type": "code",
   "execution_count": 0,
   "metadata": {
    "application/vnd.databricks.v1+cell": {
     "cellMetadata": {},
     "inputWidgets": {},
     "nuid": "8257f464-bebd-45e5-b2c1-9a84063274ac",
     "showTitle": false,
     "tableResultSettingsMap": {},
     "title": ""
    }
   },
   "outputs": [],
   "source": [
    "DimPlot(AR, reduction = \"pca\", group.by = c(\"dataset\", \"celltype_AR\"))"
   ]
  },
  {
   "cell_type": "code",
   "execution_count": 0,
   "metadata": {
    "application/vnd.databricks.v1+cell": {
     "cellMetadata": {},
     "inputWidgets": {},
     "nuid": "982421d0-fbf5-484a-8609-5b8723b82448",
     "showTitle": false,
     "tableResultSettingsMap": {},
     "title": ""
    }
   },
   "outputs": [],
   "source": [
    "AR <- readRDS(file=\"/dbfs/mnt/sandbox/TFM_PAULA/MERGED_ARdatasets_TFM.rds\")"
   ]
  },
  {
   "cell_type": "markdown",
   "metadata": {
    "application/vnd.databricks.v1+cell": {
     "cellMetadata": {},
     "inputWidgets": {},
     "nuid": "4186b7bb-24b8-4554-888e-65c40fd43d04",
     "showTitle": false,
     "tableResultSettingsMap": {},
     "title": ""
    }
   },
   "source": [
    "##SCTransform for the integration\n",
    "It is performed in the datasets before the merging, as a normalization on each data sepparately is the correct way to do it."
   ]
  },
  {
   "cell_type": "markdown",
   "metadata": {
    "application/vnd.databricks.v1+cell": {
     "cellMetadata": {},
     "inputWidgets": {},
     "nuid": "859e5f34-6176-4c5f-99d9-3659faa08742",
     "showTitle": false,
     "tableResultSettingsMap": {},
     "title": ""
    }
   },
   "source": [
    "Note that this single command replaces NormalizeData(), ScaleData(), and FindVariableFeatures().\n"
   ]
  },
  {
   "cell_type": "code",
   "execution_count": 0,
   "metadata": {
    "application/vnd.databricks.v1+cell": {
     "cellMetadata": {},
     "inputWidgets": {},
     "nuid": "6b4e323b-325a-47b4-8859-cea97dd11aca",
     "showTitle": false,
     "tableResultSettingsMap": {},
     "title": ""
    }
   },
   "outputs": [],
   "source": [
    "alkon <- SCTransform(alkon, assay = \"RNA\", new.assay.name = \"SCT\", conserve.memory= TRUE) #Conserve memory to save memory"
   ]
  },
  {
   "cell_type": "code",
   "execution_count": 0,
   "metadata": {
    "application/vnd.databricks.v1+cell": {
     "cellMetadata": {},
     "inputWidgets": {},
     "nuid": "e927689e-a687-4377-b713-8007c05b5d3a",
     "showTitle": false,
     "tableResultSettingsMap": {},
     "title": ""
    }
   },
   "outputs": [],
   "source": [
    "saveRDS(alkon, file=\"/dbfs/mnt/sandbox/TFM_PAULA/alkon_SCT_TFM.rds\")"
   ]
  },
  {
   "cell_type": "code",
   "execution_count": 0,
   "metadata": {
    "application/vnd.databricks.v1+cell": {
     "cellMetadata": {},
     "inputWidgets": {},
     "nuid": "e7a193e4-d0c6-4d4e-b4f7-f565b229e41e",
     "showTitle": false,
     "tableResultSettingsMap": {},
     "title": ""
    }
   },
   "outputs": [],
   "source": [
    "reynolds <- SCTransform(reynolds, assay = \"RNA\", new.assay.name = \"SCT\", conserve.memory= TRUE) #Conserve memory to save memory"
   ]
  },
  {
   "cell_type": "code",
   "execution_count": 0,
   "metadata": {
    "application/vnd.databricks.v1+cell": {
     "cellMetadata": {},
     "inputWidgets": {},
     "nuid": "174eb0ad-7fea-48d1-8b37-d9aabf843361",
     "showTitle": false,
     "tableResultSettingsMap": {},
     "title": ""
    }
   },
   "outputs": [],
   "source": [
    "saveRDS(reynolds, file=\"/dbfs/mnt/sandbox/TFM_PAULA/reynolds_SCT_TFM.rds\")"
   ]
  },
  {
   "cell_type": "markdown",
   "metadata": {
    "application/vnd.databricks.v1+cell": {
     "cellMetadata": {},
     "inputWidgets": {},
     "nuid": "a818f950-bb7b-4633-8a01-81db8ac60477",
     "showTitle": false,
     "tableResultSettingsMap": {},
     "title": ""
    }
   },
   "source": [
    "##Read the sctransformed objects\n"
   ]
  },
  {
   "cell_type": "code",
   "execution_count": 0,
   "metadata": {
    "application/vnd.databricks.v1+cell": {
     "cellMetadata": {},
     "inputWidgets": {},
     "nuid": "c7d1cb69-ca0f-470e-8abc-88282bd4ce95",
     "showTitle": false,
     "tableResultSettingsMap": {},
     "title": ""
    }
   },
   "outputs": [],
   "source": [
    "#Read the sctransform objects\n",
    "reynolds <- readRDS(file=\"/dbfs/mnt/sandbox/TFM_PAULA/reynolds_SCT_TFM.rds\")\n",
    "alkon <- readRDS(file=\"/dbfs/mnt/sandbox/TFM_PAULA/alkon_SCT_TFM.rds\")"
   ]
  },
  {
   "cell_type": "code",
   "execution_count": 0,
   "metadata": {
    "application/vnd.databricks.v1+cell": {
     "cellMetadata": {},
     "inputWidgets": {},
     "nuid": "83031c72-3a5c-4b68-8138-398c398353e0",
     "showTitle": false,
     "tableResultSettingsMap": {},
     "title": ""
    }
   },
   "outputs": [],
   "source": [
    "AR <- merge(alkon, y = reynolds, add.cell.ids = c(\"alkon\", \"reynolds\"))"
   ]
  },
  {
   "cell_type": "code",
   "execution_count": 0,
   "metadata": {
    "application/vnd.databricks.v1+cell": {
     "cellMetadata": {},
     "inputWidgets": {},
     "nuid": "8cb01d5e-0e60-42c9-b65d-ae46f19fbfcc",
     "showTitle": false,
     "tableResultSettingsMap": {},
     "title": ""
    }
   },
   "outputs": [],
   "source": [
    "AR"
   ]
  },
  {
   "cell_type": "code",
   "execution_count": 0,
   "metadata": {
    "application/vnd.databricks.v1+cell": {
     "cellMetadata": {},
     "inputWidgets": {},
     "nuid": "e156c52d-0e7b-473d-8892-88d124a85b88",
     "showTitle": false,
     "tableResultSettingsMap": {},
     "title": ""
    }
   },
   "outputs": [],
   "source": [
    "DefaultAssay(AR)"
   ]
  },
  {
   "cell_type": "code",
   "execution_count": 0,
   "metadata": {
    "application/vnd.databricks.v1+cell": {
     "cellMetadata": {},
     "inputWidgets": {},
     "nuid": "bddd8197-1bd5-4bb8-ba13-620c3c4737c2",
     "showTitle": false,
     "tableResultSettingsMap": {},
     "title": ""
    }
   },
   "outputs": [],
   "source": [
    "#I need the variable features and they are not stored in the merged object\n",
    "r_features <- VariableFeatures(reynolds)\n",
    "a_features <- VariableFeatures(alkon)\n",
    "common_features <- intersect(a_features, r_features)"
   ]
  },
  {
   "cell_type": "code",
   "execution_count": 0,
   "metadata": {
    "application/vnd.databricks.v1+cell": {
     "cellMetadata": {},
     "inputWidgets": {},
     "nuid": "0933c4c6-c141-4ff8-a89e-e43da34c2c22",
     "showTitle": false,
     "tableResultSettingsMap": {},
     "title": ""
    }
   },
   "outputs": [],
   "source": [
    "VariableFeatures(AR) <- common_features"
   ]
  },
  {
   "cell_type": "code",
   "execution_count": 0,
   "metadata": {
    "application/vnd.databricks.v1+cell": {
     "cellMetadata": {},
     "inputWidgets": {},
     "nuid": "9768e3be-c1ad-4d4c-9b5d-c1cbdbc59828",
     "showTitle": false,
     "tableResultSettingsMap": {},
     "title": ""
    }
   },
   "outputs": [],
   "source": [
    "AR"
   ]
  },
  {
   "cell_type": "markdown",
   "metadata": {
    "application/vnd.databricks.v1+cell": {
     "cellMetadata": {},
     "inputWidgets": {},
     "nuid": "9ef316e0-2848-49df-8f6d-3ab8838d7af4",
     "showTitle": false,
     "tableResultSettingsMap": {},
     "title": ""
    }
   },
   "source": [
    "###PCA and UMAP before integration to compare later"
   ]
  },
  {
   "cell_type": "code",
   "execution_count": 0,
   "metadata": {
    "application/vnd.databricks.v1+cell": {
     "cellMetadata": {},
     "inputWidgets": {},
     "nuid": "13ebe3ab-6556-4988-8484-b2dfc4da2dfd",
     "showTitle": false,
     "tableResultSettingsMap": {},
     "title": ""
    }
   },
   "outputs": [],
   "source": [
    "AR <- RunPCA(AR)\n",
    "AR <- FindNeighbors(AR, dims = 1:30, reduction = \"pca\")\n",
    "AR <- FindClusters(AR, resolution = 2, cluster.name = \"unintegrated_clusters\")"
   ]
  },
  {
   "cell_type": "code",
   "execution_count": 0,
   "metadata": {
    "application/vnd.databricks.v1+cell": {
     "cellMetadata": {},
     "inputWidgets": {},
     "nuid": "742af582-884d-4f48-923f-96dc79ab90c3",
     "showTitle": false,
     "tableResultSettingsMap": {},
     "title": ""
    }
   },
   "outputs": [],
   "source": [
    "# visualize by batch and cell type annotation\n",
    "options(repr.plot.width=1600, repr.plot.height=1200)\n",
    "DimPlot(AR, reduction = \"pca\", group.by = c(\"dataset\", \"celltype_AR\"))"
   ]
  },
  {
   "cell_type": "code",
   "execution_count": 0,
   "metadata": {
    "application/vnd.databricks.v1+cell": {
     "cellMetadata": {},
     "inputWidgets": {},
     "nuid": "bda892df-6fe3-40cb-a717-714b76157b8b",
     "showTitle": false,
     "tableResultSettingsMap": {},
     "title": ""
    }
   },
   "outputs": [],
   "source": [
    "AR <- RunUMAP(AR, dims = 1:30, reduction = \"pca\", reduction.name = \"umap.unintegrated\")"
   ]
  },
  {
   "cell_type": "code",
   "execution_count": 0,
   "metadata": {
    "application/vnd.databricks.v1+cell": {
     "cellMetadata": {},
     "inputWidgets": {},
     "nuid": "9512c3ea-16c1-449b-a3d2-b58c0d315314",
     "showTitle": false,
     "tableResultSettingsMap": {},
     "title": ""
    }
   },
   "outputs": [],
   "source": [
    "# visualize by batch and cell type annotation\n",
    "options(repr.plot.width=1600, repr.plot.height=1200)\n",
    "DimPlot(AR, reduction = \"umap.unintegrated\", group.by = c(\"dataset\", \"celltype_AR\"), label = TRUE)"
   ]
  },
  {
   "cell_type": "code",
   "execution_count": 0,
   "metadata": {
    "application/vnd.databricks.v1+cell": {
     "cellMetadata": {},
     "inputWidgets": {},
     "nuid": "d09c85c1-2040-40d9-992b-c619c937d7c3",
     "showTitle": false,
     "tableResultSettingsMap": {},
     "title": ""
    }
   },
   "outputs": [],
   "source": [
    "AR"
   ]
  },
  {
   "cell_type": "code",
   "execution_count": 0,
   "metadata": {
    "application/vnd.databricks.v1+cell": {
     "cellMetadata": {},
     "inputWidgets": {},
     "nuid": "11a738f7-175e-463a-9f0d-1522178e8d65",
     "showTitle": false,
     "tableResultSettingsMap": {},
     "title": ""
    }
   },
   "outputs": [],
   "source": [
    "help(IntegrateLayers)"
   ]
  },
  {
   "cell_type": "code",
   "execution_count": 0,
   "metadata": {
    "application/vnd.databricks.v1+cell": {
     "cellMetadata": {},
     "inputWidgets": {},
     "nuid": "7cf58b28-815c-4021-af1a-e75c20416b85",
     "showTitle": false,
     "tableResultSettingsMap": {},
     "title": ""
    }
   },
   "outputs": [],
   "source": [
    "Reductions(AR)"
   ]
  },
  {
   "cell_type": "code",
   "execution_count": 0,
   "metadata": {
    "application/vnd.databricks.v1+cell": {
     "cellMetadata": {},
     "inputWidgets": {},
     "nuid": "cdc35e17-09ad-46ad-abd9-3d2ec63cc5b3",
     "showTitle": false,
     "tableResultSettingsMap": {},
     "title": ""
    }
   },
   "outputs": [],
   "source": [
    "DefaultAssay(AR) <- \"SCT\""
   ]
  },
  {
   "cell_type": "code",
   "execution_count": 0,
   "metadata": {
    "application/vnd.databricks.v1+cell": {
     "cellMetadata": {},
     "inputWidgets": {},
     "nuid": "bd1884dd-d1d8-4484-8ef7-2cd3ac7a3688",
     "showTitle": false,
     "tableResultSettingsMap": {},
     "title": ""
    }
   },
   "outputs": [],
   "source": [
    "class(AR)"
   ]
  },
  {
   "cell_type": "code",
   "execution_count": 0,
   "metadata": {
    "application/vnd.databricks.v1+cell": {
     "cellMetadata": {},
     "inputWidgets": {},
     "nuid": "cf816c16-fecf-413d-bf14-6f70925299ba",
     "showTitle": false,
     "tableResultSettingsMap": {},
     "title": ""
    }
   },
   "outputs": [],
   "source": [
    "AR[[\"SCT\"]]@data"
   ]
  },
  {
   "cell_type": "code",
   "execution_count": 0,
   "metadata": {
    "application/vnd.databricks.v1+cell": {
     "cellMetadata": {},
     "inputWidgets": {},
     "nuid": "23f5fa86-ce7b-4305-87d0-70929c4f4f63",
     "showTitle": false,
     "tableResultSettingsMap": {},
     "title": ""
    }
   },
   "outputs": [],
   "source": [
    "VariableFeatures(AR)"
   ]
  },
  {
   "cell_type": "markdown",
   "metadata": {
    "application/vnd.databricks.v1+cell": {
     "cellMetadata": {},
     "inputWidgets": {},
     "nuid": "8b56a8df-2d63-41f2-bb7a-5c1b374ff403",
     "showTitle": false,
     "tableResultSettingsMap": {},
     "title": ""
    }
   },
   "source": [
    "###Integration with SEURAT using ANCHORS\n",
    "- RPCA\n",
    "- CCA"
   ]
  },
  {
   "cell_type": "code",
   "execution_count": 0,
   "metadata": {
    "application/vnd.databricks.v1+cell": {
     "cellMetadata": {},
     "inputWidgets": {},
     "nuid": "f4e642dd-e082-4c75-99bb-d5c22f31e8e2",
     "showTitle": false,
     "tableResultSettingsMap": {},
     "title": ""
    }
   },
   "outputs": [],
   "source": [
    "object_list <- list(alkon, reynolds)"
   ]
  },
  {
   "cell_type": "code",
   "execution_count": 0,
   "metadata": {
    "application/vnd.databricks.v1+cell": {
     "cellMetadata": {},
     "inputWidgets": {},
     "nuid": "c585c594-7ee8-4a26-8cb9-291e45ee3171",
     "showTitle": false,
     "tableResultSettingsMap": {},
     "title": ""
    }
   },
   "outputs": [],
   "source": [
    "# Step 1: Select integration features\n",
    "features <- SelectIntegrationFeatures(object.list=object_list, nfeatures=2000)"
   ]
  },
  {
   "cell_type": "code",
   "execution_count": 0,
   "metadata": {
    "application/vnd.databricks.v1+cell": {
     "cellMetadata": {},
     "inputWidgets": {},
     "nuid": "2e0e482d-c3ec-44a8-a0e7-ba560ad700e6",
     "showTitle": false,
     "tableResultSettingsMap": {},
     "title": ""
    }
   },
   "outputs": [],
   "source": [
    "alkon <- RunPCA(alkon, features= features)\n",
    "reynolds <- RunPCA(reynolds, features= features)"
   ]
  },
  {
   "cell_type": "code",
   "execution_count": 0,
   "metadata": {
    "application/vnd.databricks.v1+cell": {
     "cellMetadata": {},
     "inputWidgets": {},
     "nuid": "e91084bb-0bc9-41fc-80f5-ca69c2a0c444",
     "showTitle": false,
     "tableResultSettingsMap": {},
     "title": ""
    }
   },
   "outputs": [],
   "source": [
    "object_list <- list(alkon, reynolds)"
   ]
  },
  {
   "cell_type": "code",
   "execution_count": 0,
   "metadata": {
    "application/vnd.databricks.v1+cell": {
     "cellMetadata": {},
     "inputWidgets": {},
     "nuid": "2924fb60-0dfb-4aa8-a3c3-ddd940ddfa0c",
     "showTitle": false,
     "tableResultSettingsMap": {},
     "title": ""
    }
   },
   "outputs": [],
   "source": [
    "# Step 2: Prepare for SCT integration\n",
    "object_list <- PrepSCTIntegration(object.list = object_list, anchor.features = features)"
   ]
  },
  {
   "cell_type": "markdown",
   "metadata": {
    "application/vnd.databricks.v1+cell": {
     "cellMetadata": {},
     "inputWidgets": {},
     "nuid": "a8d32882-c8c8-48f4-9495-304d87939ca7",
     "showTitle": false,
     "tableResultSettingsMap": {},
     "title": ""
    }
   },
   "source": [
    "####CCA"
   ]
  },
  {
   "cell_type": "code",
   "execution_count": 0,
   "metadata": {
    "application/vnd.databricks.v1+cell": {
     "cellMetadata": {},
     "inputWidgets": {},
     "nuid": "0af0fd00-fcea-4e84-b26b-8a20fecc0319",
     "showTitle": false,
     "tableResultSettingsMap": {},
     "title": ""
    }
   },
   "outputs": [],
   "source": [
    "# Step 3: Find integration anchors\n",
    "anchors_cca <- FindIntegrationAnchors(\n",
    "  object.list = object_list, \n",
    "  normalization.method = \"SCT\", \n",
    "  anchor.features = features, \n",
    "  reduction= \"cca\"\n",
    ")"
   ]
  },
  {
   "cell_type": "code",
   "execution_count": 0,
   "metadata": {
    "application/vnd.databricks.v1+cell": {
     "cellMetadata": {},
     "inputWidgets": {},
     "nuid": "e7d4b0d7-c20e-406c-a091-76083d38cfd6",
     "showTitle": false,
     "tableResultSettingsMap": {},
     "title": ""
    }
   },
   "outputs": [],
   "source": [
    "#Step 4: integration\n",
    "integratedAR_cca <- IntegrateData(\n",
    "  anchorset=anchors_cca,\n",
    "  normalization.method=\"SCT\"\n",
    ")"
   ]
  },
  {
   "cell_type": "code",
   "execution_count": 0,
   "metadata": {
    "application/vnd.databricks.v1+cell": {
     "cellMetadata": {},
     "inputWidgets": {},
     "nuid": "38bcac3e-bf23-4262-95f0-f5de4486d7bf",
     "showTitle": false,
     "tableResultSettingsMap": {},
     "title": ""
    }
   },
   "outputs": [],
   "source": [
    "integratedAR_cca <- RunPCA(integratedAR_cca, reduction.name = \"pca.cca\")"
   ]
  },
  {
   "cell_type": "code",
   "execution_count": 0,
   "metadata": {
    "application/vnd.databricks.v1+cell": {
     "cellMetadata": {},
     "inputWidgets": {},
     "nuid": "2332754a-9bfa-49a3-b874-38b2f3b4ecfc",
     "showTitle": false,
     "tableResultSettingsMap": {},
     "title": ""
    }
   },
   "outputs": [],
   "source": [
    "integratedAR_cca <- FindNeighbors(integratedAR_cca, dims = 1:30, reduction = \"pca.cca\")\n",
    "integratedAR_cca <- FindClusters(integratedAR_cca, resolution = 2, cluster.name= \"clusters.cca\")"
   ]
  },
  {
   "cell_type": "code",
   "execution_count": 0,
   "metadata": {
    "application/vnd.databricks.v1+cell": {
     "cellMetadata": {},
     "inputWidgets": {},
     "nuid": "68705220-26ae-45ab-a358-97ff85860837",
     "showTitle": false,
     "tableResultSettingsMap": {},
     "title": ""
    }
   },
   "outputs": [],
   "source": [
    "#Create a UMAP reduction fo rthe integrated data\n",
    "integratedAR_cca <- RunUMAP(integratedAR_cca, dims = 1:30, reduction = \"pca.cca\", reduction.name = \"umap.cca\")"
   ]
  },
  {
   "cell_type": "code",
   "execution_count": 0,
   "metadata": {
    "application/vnd.databricks.v1+cell": {
     "cellMetadata": {},
     "inputWidgets": {},
     "nuid": "abbb6c0c-dedb-44ce-b741-5832c9fa7ef3",
     "showTitle": false,
     "tableResultSettingsMap": {},
     "title": ""
    }
   },
   "outputs": [],
   "source": [
    "#After integration visualize by batch and cell type annotation\n",
    "options(repr.plot.width=1600, repr.plot.height=1200)"
   ]
  },
  {
   "cell_type": "code",
   "execution_count": 0,
   "metadata": {
    "application/vnd.databricks.v1+cell": {
     "cellMetadata": {},
     "inputWidgets": {},
     "nuid": "cf31e752-90c2-4d43-958f-59c9e0456d8e",
     "showTitle": false,
     "tableResultSettingsMap": {},
     "title": ""
    }
   },
   "outputs": [],
   "source": [
    "DimPlot(integratedAR_cca, reduction = \"umap.cca\", group.by = c(\"dataset\", \"celltype_AR\"))"
   ]
  },
  {
   "cell_type": "code",
   "execution_count": 0,
   "metadata": {
    "application/vnd.databricks.v1+cell": {
     "cellMetadata": {},
     "inputWidgets": {},
     "nuid": "b3b2e4f6-3f65-4571-8056-3eed04bcbb2b",
     "showTitle": false,
     "tableResultSettingsMap": {},
     "title": ""
    }
   },
   "outputs": [],
   "source": [
    "#Save results\n",
    "saveRDS(integratedAR_cca, file=\"/dbfs/mnt/sandbox/TFM_PAULA/integrated_objects/integrated_AR_CCA_TFM.rds\")\n",
    "\n",
    "#Then read\n",
    "integratedAR_cca <- readRDS(file=\"/dbfs/mnt/sandbox/TFM_PAULA/integrated_objects/integrated_AR_CCA_TFM.rds\")"
   ]
  },
  {
   "cell_type": "code",
   "execution_count": 0,
   "metadata": {
    "application/vnd.databricks.v1+cell": {
     "cellMetadata": {},
     "inputWidgets": {},
     "nuid": "b487973e-a0c7-40d1-8d65-80bcee313209",
     "showTitle": false,
     "tableResultSettingsMap": {},
     "title": ""
    }
   },
   "outputs": [],
   "source": [
    "DimPlot(integratedAR_cca, reduction = \"umap.cca\", group.by = c(\"dataset\", \"celltype_AR\"), label=TRUE)"
   ]
  },
  {
   "cell_type": "markdown",
   "metadata": {
    "application/vnd.databricks.v1+cell": {
     "cellMetadata": {},
     "inputWidgets": {},
     "nuid": "71501ec5-e9c5-434e-8c72-ebf57768b109",
     "showTitle": false,
     "tableResultSettingsMap": {},
     "title": ""
    }
   },
   "source": [
    "####RPCA"
   ]
  },
  {
   "cell_type": "code",
   "execution_count": 0,
   "metadata": {
    "application/vnd.databricks.v1+cell": {
     "cellMetadata": {},
     "inputWidgets": {},
     "nuid": "c3c557bc-c73e-4125-a2e5-a9a187b08a1e",
     "showTitle": false,
     "tableResultSettingsMap": {},
     "title": ""
    }
   },
   "outputs": [],
   "source": [
    "# Step 3: Find integration anchors\n",
    "anchors_rpca <- FindIntegrationAnchors(\n",
    "  object.list = object_list, \n",
    "  normalization.method = \"SCT\", \n",
    "  anchor.features = features, \n",
    "  reduction= \"rpca\"\n",
    ")"
   ]
  },
  {
   "cell_type": "code",
   "execution_count": 0,
   "metadata": {
    "application/vnd.databricks.v1+cell": {
     "cellMetadata": {},
     "inputWidgets": {},
     "nuid": "1f6da752-708b-4bd5-9729-13ebf4b61257",
     "showTitle": false,
     "tableResultSettingsMap": {},
     "title": ""
    }
   },
   "outputs": [],
   "source": [
    "#Step 4: integration\n",
    "integratedAR <- IntegrateData(\n",
    "  anchorset=anchors_rpca,\n",
    "  normalization.method=\"SCT\"\n",
    ")"
   ]
  },
  {
   "cell_type": "code",
   "execution_count": 0,
   "metadata": {
    "application/vnd.databricks.v1+cell": {
     "cellMetadata": {},
     "inputWidgets": {},
     "nuid": "516e25a4-e3be-41ea-a25a-5c4485f28988",
     "showTitle": false,
     "tableResultSettingsMap": {},
     "title": ""
    }
   },
   "outputs": [],
   "source": [
    "Reductions(integratedAR)"
   ]
  },
  {
   "cell_type": "code",
   "execution_count": 0,
   "metadata": {
    "application/vnd.databricks.v1+cell": {
     "cellMetadata": {},
     "inputWidgets": {},
     "nuid": "ea8749a2-cd62-45f5-a86a-adba0d1a2257",
     "showTitle": false,
     "tableResultSettingsMap": {},
     "title": ""
    }
   },
   "outputs": [],
   "source": [
    "integratedAR <- RunPCA(integratedAR, reduction.name = \"pca.rpca\")"
   ]
  },
  {
   "cell_type": "code",
   "execution_count": 0,
   "metadata": {
    "application/vnd.databricks.v1+cell": {
     "cellMetadata": {},
     "inputWidgets": {},
     "nuid": "62ed3cf3-0880-4863-a90f-6f3d29248e92",
     "showTitle": false,
     "tableResultSettingsMap": {},
     "title": ""
    }
   },
   "outputs": [],
   "source": [
    "integratedAR <- FindNeighbors(integratedAR, dims = 1:30, reduction = \"pca.rpca\")\n",
    "integratedAR <- FindClusters(integratedAR, resolution = 2, cluster.name= \"clusters.rpca\")"
   ]
  },
  {
   "cell_type": "code",
   "execution_count": 0,
   "metadata": {
    "application/vnd.databricks.v1+cell": {
     "cellMetadata": {},
     "inputWidgets": {},
     "nuid": "ea0c169d-9e92-4bb8-9e18-27b7b4fd49eb",
     "showTitle": false,
     "tableResultSettingsMap": {},
     "title": ""
    }
   },
   "outputs": [],
   "source": [
    "#Create a UMAP reduction fo rthe integrated data\n",
    "integratedAR <- RunUMAP(integratedAR, dims = 1:30, reduction = \"pca.rpca\", reduction.name = \"umap.rpca\")"
   ]
  },
  {
   "cell_type": "code",
   "execution_count": 0,
   "metadata": {
    "application/vnd.databricks.v1+cell": {
     "cellMetadata": {},
     "inputWidgets": {},
     "nuid": "abd96603-6c0f-4740-a6e2-799fdbfc3de4",
     "showTitle": false,
     "tableResultSettingsMap": {},
     "title": ""
    }
   },
   "outputs": [],
   "source": [
    "#After integration visualize by batch and cell type annotation\n",
    "options(repr.plot.width=1600, repr.plot.height=1200)\n",
    "DimPlot(integratedAR, reduction = \"umap.rpca\", group.by = c(\"dataset\", \"celltype_AR\"))"
   ]
  },
  {
   "cell_type": "code",
   "execution_count": 0,
   "metadata": {
    "application/vnd.databricks.v1+cell": {
     "cellMetadata": {},
     "inputWidgets": {},
     "nuid": "844dc118-0738-4b7b-a793-48846c0518d1",
     "showTitle": false,
     "tableResultSettingsMap": {},
     "title": ""
    }
   },
   "outputs": [],
   "source": [
    "# #Save results\n",
    "# saveRDS(integratedAR, file=\"/dbfs/mnt/sandbox/TFM_PAULA/integrated_objects/integrated_AR_RPCA_TFM.rds\")\n",
    "# #Read results\n",
    "# integratedAR_RPCA <- readRDS(file=\"/dbfs/mnt/sandbox/TFM_PAULA/integrated_objects/integrated_AR_RPCA_TFM.rds\")\n",
    "# integratedAR_RPCA <- NULL"
   ]
  },
  {
   "cell_type": "code",
   "execution_count": 0,
   "metadata": {
    "application/vnd.databricks.v1+cell": {
     "cellMetadata": {},
     "inputWidgets": {},
     "nuid": "82ee61f6-f34a-40b9-a489-f4cdfce5ea9e",
     "showTitle": false,
     "tableResultSettingsMap": {},
     "title": ""
    }
   },
   "outputs": [],
   "source": [
    "#After integration visualize by batch and cell type annotation\n",
    "options(repr.plot.width=1600, repr.plot.height=1200)\n",
    "DimPlot(integratedAR_RPCA, reduction = \"umap.rpca\", group.by = c(\"dataset\", \"celltype_AR\"), label=TRUE)"
   ]
  },
  {
   "cell_type": "markdown",
   "metadata": {
    "application/vnd.databricks.v1+cell": {
     "cellMetadata": {},
     "inputWidgets": {},
     "nuid": "d7751107-7a78-4799-83bf-7b2b52570d0a",
     "showTitle": false,
     "tableResultSettingsMap": {},
     "title": ""
    }
   },
   "source": [
    "##Integration with Harmony in Seurat"
   ]
  },
  {
   "cell_type": "code",
   "execution_count": 0,
   "metadata": {
    "application/vnd.databricks.v1+cell": {
     "cellMetadata": {},
     "inputWidgets": {},
     "nuid": "7f2a782b-9236-4eac-ac39-a4a8b31ea7ea",
     "showTitle": false,
     "tableResultSettingsMap": {},
     "title": ""
    }
   },
   "outputs": [],
   "source": [
    "#Read the objects scaled with SCTransform\n",
    "reynolds <- readRDS(file=\"/dbfs/mnt/sandbox/TFM_PAULA/reynolds_SCT_TFM.rds\")\n",
    "alkon <- readRDS(file=\"/dbfs/mnt/sandbox/TFM_PAULA/alkon_SCT_TFM.rds\")"
   ]
  },
  {
   "cell_type": "code",
   "execution_count": 0,
   "metadata": {
    "application/vnd.databricks.v1+cell": {
     "cellMetadata": {},
     "inputWidgets": {},
     "nuid": "bb5d989c-5af8-4f3d-8790-ed8ec9b3f5fc",
     "showTitle": false,
     "tableResultSettingsMap": {},
     "title": ""
    }
   },
   "outputs": [],
   "source": [
    "alkon$dataset"
   ]
  },
  {
   "cell_type": "code",
   "execution_count": 0,
   "metadata": {
    "application/vnd.databricks.v1+cell": {
     "cellMetadata": {},
     "inputWidgets": {},
     "nuid": "bd04ebd6-70f0-4b87-8a60-391770dec566",
     "showTitle": false,
     "tableResultSettingsMap": {},
     "title": ""
    }
   },
   "outputs": [],
   "source": [
    "AR <- merge(alkon, y = reynolds, add.cell.ids = c(\"alkon\", \"reynolds\"))"
   ]
  },
  {
   "cell_type": "code",
   "execution_count": 0,
   "metadata": {
    "application/vnd.databricks.v1+cell": {
     "cellMetadata": {},
     "inputWidgets": {},
     "nuid": "f527411e-3f42-4a73-9ec4-a48e59a9d62e",
     "showTitle": false,
     "tableResultSettingsMap": {},
     "title": ""
    }
   },
   "outputs": [],
   "source": [
    "AR[[\"SCT\"]] <- split(AR[[\"SCT\"]], f = AR$dataset) #Split the object layers counts and scale.counts ito the different layers that correspond to each dataset"
   ]
  },
  {
   "cell_type": "code",
   "execution_count": 0,
   "metadata": {
    "application/vnd.databricks.v1+cell": {
     "cellMetadata": {},
     "inputWidgets": {},
     "nuid": "46021025-405e-4e13-8744-38b66c9aec36",
     "showTitle": false,
     "tableResultSettingsMap": {},
     "title": ""
    }
   },
   "outputs": [],
   "source": [
    "#I need the variable features and they are not stored in the merged object\n",
    "r_features <- VariableFeatures(reynolds)\n",
    "a_features <- VariableFeatures(alkon)\n",
    "common_features <- intersect(a_features, r_features)"
   ]
  },
  {
   "cell_type": "code",
   "execution_count": 0,
   "metadata": {
    "application/vnd.databricks.v1+cell": {
     "cellMetadata": {},
     "inputWidgets": {},
     "nuid": "4d4dc307-6f8f-493a-a913-7d028a90f2d8",
     "showTitle": false,
     "tableResultSettingsMap": {},
     "title": ""
    }
   },
   "outputs": [],
   "source": [
    "VariableFeatures(AR) <- common_features"
   ]
  },
  {
   "cell_type": "code",
   "execution_count": 0,
   "metadata": {
    "application/vnd.databricks.v1+cell": {
     "cellMetadata": {},
     "inputWidgets": {},
     "nuid": "6bdb3a3a-df25-4f12-9e32-51b038af872f",
     "showTitle": false,
     "tableResultSettingsMap": {},
     "title": ""
    }
   },
   "outputs": [],
   "source": [
    "AR <- RunPCA(AR, assay=\"SCT\")"
   ]
  },
  {
   "cell_type": "code",
   "execution_count": 0,
   "metadata": {
    "application/vnd.databricks.v1+cell": {
     "cellMetadata": {},
     "inputWidgets": {},
     "nuid": "5082194d-086d-4ca8-af73-9e4d47f1ea20",
     "showTitle": false,
     "tableResultSettingsMap": {},
     "title": ""
    }
   },
   "outputs": [],
   "source": [
    "AR"
   ]
  },
  {
   "cell_type": "code",
   "execution_count": 0,
   "metadata": {
    "application/vnd.databricks.v1+cell": {
     "cellMetadata": {},
     "inputWidgets": {},
     "nuid": "20fd1453-043f-46ff-a81c-33489791a6e0",
     "showTitle": false,
     "tableResultSettingsMap": {},
     "title": ""
    }
   },
   "outputs": [],
   "source": [
    "#I am having this error:\n",
    "# Error in IntegrateLayers(object = AR, method = HarmonyIntegration, normalization.method = \"SCT\") : \n",
    "#   None of the features provided are found in this assay\n",
    "# Error in `IntegrateLayers()`:\n",
    "# Error in `IntegrateLayers()`:\n",
    "# ! None of the features provided are found in this assay\n"
   ]
  },
  {
   "cell_type": "code",
   "execution_count": 0,
   "metadata": {
    "application/vnd.databricks.v1+cell": {
     "cellMetadata": {},
     "inputWidgets": {},
     "nuid": "0b8ca153-0c5f-4edc-b2b7-63d74d523783",
     "showTitle": false,
     "tableResultSettingsMap": {},
     "title": ""
    }
   },
   "outputs": [],
   "source": [
    "DefaultAssay(AR) <- \"SCT\""
   ]
  },
  {
   "cell_type": "code",
   "execution_count": 0,
   "metadata": {
    "application/vnd.databricks.v1+cell": {
     "cellMetadata": {},
     "inputWidgets": {},
     "nuid": "0042a569-bcde-4a77-b6db-f511a13f1375",
     "showTitle": false,
     "tableResultSettingsMap": {},
     "title": ""
    }
   },
   "outputs": [],
   "source": [
    "FindVariableFeatures(AR)"
   ]
  },
  {
   "cell_type": "code",
   "execution_count": 0,
   "metadata": {
    "application/vnd.databricks.v1+cell": {
     "cellMetadata": {},
     "inputWidgets": {},
     "nuid": "14d97cb0-0f2e-40ce-8108-56d271b714c0",
     "showTitle": false,
     "tableResultSettingsMap": {},
     "title": ""
    }
   },
   "outputs": [],
   "source": [
    "# Try to install harmony but problems with rcpp as with presto: Error in unloadNamespace(package) : namespace ‘Rcpp’ is imported by ‘SeuratObject’, ‘reticulate’, ‘uwot’, ‘later’, ‘RcppHNSW’, ‘spam’, ‘ggrepel’, ‘RcppAnnoy’, ‘reshape2’, ‘Rtsne’, ‘promises’, ‘httpuv’, ‘RSpectra’, ‘Seurat’, ‘plyr’ so cannot be unloaded\n",
    "#  temp_lib <- tempfile()\n",
    "# dir.create(temp_lib)\n",
    "# install.packages(c(\"RhpcBLASctl\", \"Rcpp\", \"RcppArmadillo\", \"RcppProgress\"), lib = temp_lib)\n",
    "# if (!requireNamespace(\"devtools\", quietly = TRUE)) {\n",
    "#   install.packages(\"devtools\", lib = temp_lib)\n",
    "# }\n",
    "# devtools::install_github(\"immunogenomics/harmony\", lib = temp_lib)\n",
    "# library(harmony, lib.loc = temp_lib)"
   ]
  },
  {
   "cell_type": "code",
   "execution_count": 0,
   "metadata": {
    "application/vnd.databricks.v1+cell": {
     "cellMetadata": {},
     "inputWidgets": {},
     "nuid": "5bef3858-2d32-44e3-a05a-5d314b5c1cb1",
     "showTitle": false,
     "tableResultSettingsMap": {},
     "title": ""
    }
   },
   "outputs": [],
   "source": [
    "#Using SCT it does not work\n",
    "# integrated_AR_harmony <- IntegrateLayers(object = AR, method = HarmonyIntegration,\n",
    "#   orig.reduction = \"pca\", new.reduction = 'harmony',verbose = TRUE)"
   ]
  },
  {
   "cell_type": "markdown",
   "metadata": {
    "application/vnd.databricks.v1+cell": {
     "cellMetadata": {},
     "inputWidgets": {},
     "nuid": "06e98137-bbbc-4acc-b63e-84430319a5b2",
     "showTitle": false,
     "tableResultSettingsMap": {},
     "title": ""
    }
   },
   "source": [
    "As I cannot run the harmony integration using SCT data, I used RNA counts and proceed with the integration the same way, but adding the steps that SCTransform does not required as scale the data"
   ]
  },
  {
   "cell_type": "code",
   "execution_count": 0,
   "metadata": {
    "application/vnd.databricks.v1+cell": {
     "cellMetadata": {},
     "inputWidgets": {},
     "nuid": "4dfdaca2-4f06-4063-8b3b-2bfc8da8322c",
     "showTitle": false,
     "tableResultSettingsMap": {},
     "title": ""
    }
   },
   "outputs": [],
   "source": [
    "# Try with assay RNA\n",
    "AR[[\"RNA\"]] <- split(AR[[\"RNA\"]], f = AR$dataset) #Split the object layers counts and scale.counts ito the different layers that correspond to each dataset\n",
    "DefaultAssay(AR) <- \"RNA\"\n",
    "AR <- FindVariableFeatures(AR)\n",
    "AR <- ScaleData(AR)\n",
    "AR <- RunPCA(AR)"
   ]
  },
  {
   "cell_type": "code",
   "execution_count": 0,
   "metadata": {
    "application/vnd.databricks.v1+cell": {
     "cellMetadata": {},
     "inputWidgets": {},
     "nuid": "42d50fdc-89da-4cd6-b741-37169b952ae5",
     "showTitle": false,
     "tableResultSettingsMap": {},
     "title": ""
    }
   },
   "outputs": [],
   "source": [
    ".libPaths(c(\"/dbfs/home/jtrincado@almirall.com/my_r_packages/v13\", .libPaths()))\n",
    "library(harmony) #Required to load the package before runing"
   ]
  },
  {
   "cell_type": "code",
   "execution_count": 0,
   "metadata": {
    "application/vnd.databricks.v1+cell": {
     "cellMetadata": {},
     "inputWidgets": {},
     "nuid": "a7ba24f3-aa2d-42d3-b869-ad74e10b2293",
     "showTitle": false,
     "tableResultSettingsMap": {},
     "title": ""
    }
   },
   "outputs": [],
   "source": [
    "DefaultAssay(AR) <- \"RNA\"\n",
    "IntegratedAR_harmony <- IntegrateLayers(object = AR, method = HarmonyIntegration, orig.reduction = \"pca\", new.reduction = \"integrated.harmony\", verbose = TRUE)"
   ]
  },
  {
   "cell_type": "code",
   "execution_count": 0,
   "metadata": {
    "application/vnd.databricks.v1+cell": {
     "cellMetadata": {},
     "inputWidgets": {},
     "nuid": "8cd0e509-d094-43cb-80ca-06dab72b2978",
     "showTitle": false,
     "tableResultSettingsMap": {},
     "title": ""
    }
   },
   "outputs": [],
   "source": [
    "# re-join layers after integration\n",
    "IntegratedAR_harmony[[\"RNA\"]] <- JoinLayers(IntegratedAR_harmony[[\"RNA\"]])"
   ]
  },
  {
   "cell_type": "code",
   "execution_count": 0,
   "metadata": {
    "application/vnd.databricks.v1+cell": {
     "cellMetadata": {},
     "inputWidgets": {},
     "nuid": "a40182c4-57f1-4d22-aa03-e6284f75fe2e",
     "showTitle": false,
     "tableResultSettingsMap": {},
     "title": ""
    }
   },
   "outputs": [],
   "source": [
    "IntegratedAR_harmony <- FindNeighbors(IntegratedAR_harmony, reduction = \"integrated.harmony\", dims = 1:30)\n",
    "IntegratedAR_harmony <- FindClusters(IntegratedAR_harmony, resolution = 2, cluster.name=\"clusters.harmony\")"
   ]
  },
  {
   "cell_type": "code",
   "execution_count": 0,
   "metadata": {
    "application/vnd.databricks.v1+cell": {
     "cellMetadata": {},
     "inputWidgets": {},
     "nuid": "cb6fb849-9f8e-417e-906f-14ebcff5a2b2",
     "showTitle": false,
     "tableResultSettingsMap": {},
     "title": ""
    }
   },
   "outputs": [],
   "source": [
    "IntegratedAR_harmony <- RunUMAP(IntegratedAR_harmony, dims = 1:30, reduction = \"integrated.harmony\", reduction.name=\"umap.harmony\")\n"
   ]
  },
  {
   "cell_type": "code",
   "execution_count": 0,
   "metadata": {
    "application/vnd.databricks.v1+cell": {
     "cellMetadata": {},
     "inputWidgets": {},
     "nuid": "75fc1ce4-a886-400c-9c42-9e953daa75df",
     "showTitle": false,
     "tableResultSettingsMap": {},
     "title": ""
    }
   },
   "outputs": [],
   "source": [
    "IntegratedAR_harmony <- readRDS(file=\"/dbfs/mnt/sandbox/TFM_PAULA/integrated_objects/integrated_AR_Harmony_TFM.rds\")"
   ]
  },
  {
   "cell_type": "code",
   "execution_count": 0,
   "metadata": {
    "application/vnd.databricks.v1+cell": {
     "cellMetadata": {},
     "inputWidgets": {},
     "nuid": "e7336301-4b50-4675-9998-c49f3529b5cf",
     "showTitle": false,
     "tableResultSettingsMap": {},
     "title": ""
    }
   },
   "outputs": [],
   "source": [
    "#After integration visualize by batch and cell type annotation\n",
    "options(repr.plot.width=1600, repr.plot.height=1200)"
   ]
  },
  {
   "cell_type": "code",
   "execution_count": 0,
   "metadata": {
    "application/vnd.databricks.v1+cell": {
     "cellMetadata": {},
     "inputWidgets": {},
     "nuid": "085abd14-a47d-4a08-baf6-d6098c646c70",
     "showTitle": false,
     "tableResultSettingsMap": {},
     "title": ""
    }
   },
   "outputs": [],
   "source": [
    "DimPlot(IntegratedAR_harmony, reduction = \"umap.harmony\", group.by = c(\"dataset\", \"celltype_AR\"), label=TRUE)"
   ]
  },
  {
   "cell_type": "code",
   "execution_count": 0,
   "metadata": {
    "application/vnd.databricks.v1+cell": {
     "cellMetadata": {},
     "inputWidgets": {},
     "nuid": "85468d37-26eb-4ed9-a6bc-20c6a1617e39",
     "showTitle": false,
     "tableResultSettingsMap": {},
     "title": ""
    }
   },
   "outputs": [],
   "source": [
    "#Save results\n",
    "saveRDS(IntegratedAR_harmony, file=\"/dbfs/mnt/sandbox/TFM_PAULA/integrated_objects/integrated_AR_Harmony_TFM.rds\")"
   ]
  }
 ],
 "metadata": {
  "application/vnd.databricks.v1+notebook": {
   "computePreferences": null,
   "dashboards": [],
   "environmentMetadata": null,
   "inputWidgetPreferences": null,
   "language": "r",
   "notebookMetadata": {
    "pythonIndentUnit": 4
   },
   "notebookName": "1.0.dataset_integration",
   "widgets": {}
  },
  "language_info": {
   "name": "r"
  }
 },
 "nbformat": 4,
 "nbformat_minor": 0
}
