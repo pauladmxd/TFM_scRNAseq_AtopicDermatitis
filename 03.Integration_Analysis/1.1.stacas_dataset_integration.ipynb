{
 "cells": [
  {
   "cell_type": "markdown",
   "metadata": {
    "application/vnd.databricks.v1+cell": {
     "cellMetadata": {},
     "inputWidgets": {},
     "nuid": "23c07b0f-c7a3-4f3a-bef4-379ca428e4d8",
     "showTitle": false,
     "tableResultSettingsMap": {},
     "title": ""
    }
   },
   "source": [
    "#Task 1: Dataset Integration\n",
    "\n",
    "\n",
    "Ensure cell type homogeneity of the current annotations across datasets.\n",
    "\n",
    "- Integrate scRNA-seq datasets using **STACAS(Andreatta et al., 2024)** "
   ]
  },
  {
   "cell_type": "code",
   "execution_count": 0,
   "metadata": {
    "application/vnd.databricks.v1+cell": {
     "cellMetadata": {},
     "inputWidgets": {},
     "nuid": "97ec0360-8950-4108-9b77-754b88c3d819",
     "showTitle": false,
     "tableResultSettingsMap": {},
     "title": ""
    }
   },
   "outputs": [],
   "source": [
    ".libPaths(c(\"/dbfs/home/jtrincado@almirall.com/my_r_packages/Seurat\", .libPaths()))"
   ]
  },
  {
   "cell_type": "code",
   "execution_count": 0,
   "metadata": {
    "application/vnd.databricks.v1+cell": {
     "cellMetadata": {},
     "inputWidgets": {},
     "nuid": "c9dbf4f8-b6ed-4360-ae70-250282aab536",
     "showTitle": false,
     "tableResultSettingsMap": {},
     "title": ""
    }
   },
   "outputs": [],
   "source": [
    "my_library <- \"/dbfs/home/pdelgadom@almirall.com/my_r_packages/tfm_paula_4\"\n",
    "dir.create(my_library, recursive=TRUE, showWarnings=FALSE)\n",
    ".libPaths(c(my_library, .libPaths()))\n",
    "if (!requireNamespace(\"remotes\")) install.packages(\"remotes\")\n",
    "\n",
    "install_from_github <- function(pkg_name, my_library=NULL) {\n",
    "  if (is.null(my_library)) {\n",
    "    my_library <- .libPaths()[1]\n",
    "    message(\"Installing \", pkg_name, \" to \", my_library)\n",
    "  }\n",
    "\n",
    "  temp_library <- tempfile()\n",
    "  dir.create(temp_library)\n",
    "  #remotes::install_cran(pkg_name, lib = temp_library, upgrade=FALSE)\n",
    "  #remotes::install_bioc(pkg_name, lib=temp_library, upgrade=FALSE)\n",
    "  remotes::install_github(pkg_name, lib = temp_library, upgrade=FALSE)\n",
    "  for (x in list.files(temp_library)) {\n",
    "    file.copy(\n",
    "      file.path(temp_library, x),\n",
    "      my_library,\n",
    "      recursive=TRUE\n",
    "    )\n",
    "  }\n",
    "}"
   ]
  },
  {
   "cell_type": "code",
   "execution_count": 0,
   "metadata": {
    "application/vnd.databricks.v1+cell": {
     "cellMetadata": {},
     "inputWidgets": {},
     "nuid": "511db4e4-451c-40f2-bf20-a06c36a59a27",
     "showTitle": false,
     "tableResultSettingsMap": {},
     "title": ""
    }
   },
   "outputs": [],
   "source": [
    "if (!requireNamespace(\"STACAS\")) install_from_github(\"carmonalab/STACAS\")"
   ]
  },
  {
   "cell_type": "code",
   "execution_count": 0,
   "metadata": {
    "application/vnd.databricks.v1+cell": {
     "cellMetadata": {},
     "inputWidgets": {},
     "nuid": "f72bacc3-226b-4782-b998-fcb08c420c86",
     "showTitle": false,
     "tableResultSettingsMap": {},
     "title": ""
    }
   },
   "outputs": [],
   "source": [
    "library(Seurat)\n",
    "library(dplyr)\n",
    "library(ggplot2)\n",
    "library(patchwork)\n",
    "library(\"STACAS\")\n",
    "options(future.globals.maxSize = 1e9)"
   ]
  },
  {
   "cell_type": "code",
   "execution_count": 0,
   "metadata": {
    "application/vnd.databricks.v1+cell": {
     "cellMetadata": {},
     "inputWidgets": {},
     "nuid": "53047eed-1742-4e00-a62d-72ac79fe6d5c",
     "showTitle": false,
     "tableResultSettingsMap": {},
     "title": ""
    }
   },
   "outputs": [],
   "source": [
    "AR <- readRDS(file=\"/dbfs/mnt/sandbox/TFM_PAULA/MERGED_ARdatasets_TFM.rds\")"
   ]
  },
  {
   "cell_type": "code",
   "execution_count": 0,
   "metadata": {
    "application/vnd.databricks.v1+cell": {
     "cellMetadata": {},
     "inputWidgets": {},
     "nuid": "244f1da7-88d7-4c46-8059-16f1068e6afe",
     "showTitle": false,
     "tableResultSettingsMap": {},
     "title": ""
    }
   },
   "outputs": [],
   "source": [
    "Features(AR)"
   ]
  },
  {
   "cell_type": "code",
   "execution_count": 0,
   "metadata": {
    "application/vnd.databricks.v1+cell": {
     "cellMetadata": {},
     "inputWidgets": {},
     "nuid": "bbd38fb4-329a-4353-94c4-92db9f5d0e49",
     "showTitle": false,
     "tableResultSettingsMap": {},
     "title": ""
    }
   },
   "outputs": [],
   "source": [
    "nfeatures <- 1000\n",
    "ndim <- 20"
   ]
  },
  {
   "cell_type": "code",
   "execution_count": 0,
   "metadata": {
    "application/vnd.databricks.v1+cell": {
     "cellMetadata": {},
     "inputWidgets": {},
     "nuid": "933d786f-b021-4fdd-9404-8b4f28ae7475",
     "showTitle": false,
     "tableResultSettingsMap": {},
     "title": ""
    }
   },
   "outputs": [],
   "source": [
    "#One step integration\n",
    "  AR_integrated <- AR %>% SplitObject(split.by = \"dataset\") %>%\n",
    "      Run.STACAS(dims = 1:ndim, anchor.features = nfeatures) %>%\n",
    "      RunUMAP(dims = 1:ndim) \n",
    "\n",
    "DimPlot(AR_integrated, group.by = \"dataset\")"
   ]
  },
  {
   "cell_type": "code",
   "execution_count": 0,
   "metadata": {
    "application/vnd.databricks.v1+cell": {
     "cellMetadata": {},
     "inputWidgets": {},
     "nuid": "8115ded5-44a5-489c-9636-8599463e6af2",
     "showTitle": false,
     "tableResultSettingsMap": {},
     "title": ""
    }
   },
   "outputs": [],
   "source": [
    "options(repr.plot.width=1600, repr.plot.height=1200)\n",
    "DimPlot(AR_integrated,  group.by = c(\"dataset\", \"celltype\"), label=TRUE)"
   ]
  },
  {
   "cell_type": "code",
   "execution_count": 0,
   "metadata": {
    "application/vnd.databricks.v1+cell": {
     "cellMetadata": {},
     "inputWidgets": {},
     "nuid": "eeffb1f1-d53d-41aa-93a4-c91272d81474",
     "showTitle": false,
     "tableResultSettingsMap": {},
     "title": ""
    }
   },
   "outputs": [],
   "source": [
    "#Save results\n",
    "saveRDS(AR_integrated, file=\"/dbfs/mnt/sandbox/TFM_PAULA/integrated_objects/integrated_AR_STACAS_TFM.rds\")"
   ]
  },
  {
   "cell_type": "code",
   "execution_count": 0,
   "metadata": {
    "application/vnd.databricks.v1+cell": {
     "cellMetadata": {},
     "inputWidgets": {},
     "nuid": "88bb3372-0789-4491-8455-840c3aaff058",
     "showTitle": false,
     "tableResultSettingsMap": {},
     "title": ""
    }
   },
   "outputs": [],
   "source": [
    "#SEMISUPERVISED\n",
    "AR.semisup <- NormalizeData(AR) |>\n",
    "    SplitObject(split.by = \"dataset\")|>\n",
    "    Run.STACAS(cell.labels = \"celltype\")\n",
    "\n",
    "AR.semisup <- RunUMAP(AR.semisup, dims = 1:30)\n"
   ]
  },
  {
   "cell_type": "code",
   "execution_count": 0,
   "metadata": {
    "application/vnd.databricks.v1+cell": {
     "cellMetadata": {},
     "inputWidgets": {},
     "nuid": "d1a53f0b-e882-4d77-9ee7-e6bf278befe6",
     "showTitle": false,
     "tableResultSettingsMap": {},
     "title": ""
    }
   },
   "outputs": [],
   "source": [
    "DimPlot(AR.semisup, group.by = c(\"dataset\", \"celltype\"), label=TRUE)"
   ]
  },
  {
   "cell_type": "code",
   "execution_count": 0,
   "metadata": {
    "application/vnd.databricks.v1+cell": {
     "cellMetadata": {},
     "inputWidgets": {},
     "nuid": "857e311f-059e-4914-9eb1-e71d47eae54c",
     "showTitle": false,
     "tableResultSettingsMap": {},
     "title": ""
    }
   },
   "outputs": [],
   "source": [
    "saveRDS(AR.semisup, file=\"/dbfs/mnt/sandbox/TFM_PAULA/integrated_objects/integrated_AR_ssSTACAS_TFM.rds\")"
   ]
  },
  {
   "cell_type": "code",
   "execution_count": 0,
   "metadata": {
    "application/vnd.databricks.v1+cell": {
     "cellMetadata": {},
     "inputWidgets": {},
     "nuid": "3abd1e9f-2938-4675-a86d-6b36ca267c6a",
     "showTitle": false,
     "tableResultSettingsMap": {},
     "title": ""
    }
   },
   "outputs": [],
   "source": [
    "AR.semisup <- AR.semisup %>% RunUMAP(dims=1:ndim)\n",
    "\n",
    "p1_ss <- DimPlot(AR.semisup, group.by = \"dataset\") +\n",
    "  theme(aspect.ratio = 1) +\n",
    "  ggtitle(\"Dataset after semi-supervised integration\")\n",
    "p2_ss <- DimPlot(AR.semisup, group.by = \"celltype\", label=T, label.size = 5) + \n",
    "  NoLegend() + theme(aspect.ratio = 1) + ggtitle(\"Cell labels after semi-supervised integration\")\n",
    "\n",
    "p1_ss | p2_ss"
   ]
  },
  {
   "cell_type": "markdown",
   "metadata": {
    "application/vnd.databricks.v1+cell": {
     "cellMetadata": {},
     "inputWidgets": {},
     "nuid": "c258ceec-0270-41ae-8d34-94c851a6f486",
     "showTitle": false,
     "tableResultSettingsMap": {},
     "title": ""
    }
   },
   "source": [
    "##Now it is performed again but **blocking the highest variable genes** (recomended by the paper)"
   ]
  },
  {
   "cell_type": "code",
   "execution_count": 0,
   "metadata": {
    "application/vnd.databricks.v1+cell": {
     "cellMetadata": {},
     "inputWidgets": {},
     "nuid": "389de886-d103-4a66-a30e-eed5a18b90c6",
     "showTitle": false,
     "tableResultSettingsMap": {},
     "title": ""
    }
   },
   "outputs": [],
   "source": [
    "#First step is to calculate highly variable genes\n",
    "if (!requireNamespace(\"SignatuR\")) install_from_github(\"carmonalab/SignatuR\")\n",
    "library(SignatuR)\n",
    "#Retrieve full list of signatures for human\n",
    "hs.sign <- GetSignature(SignatuR$Hs)"
   ]
  },
  {
   "cell_type": "code",
   "execution_count": 0,
   "metadata": {
    "application/vnd.databricks.v1+cell": {
     "cellMetadata": {},
     "inputWidgets": {},
     "nuid": "31427cab-b559-4a86-93e4-22c94f1cddd3",
     "showTitle": false,
     "tableResultSettingsMap": {},
     "title": ""
    }
   },
   "outputs": [],
   "source": [
    "obj.list <- SplitObject(AR, split.by = \"dataset\")"
   ]
  },
  {
   "cell_type": "code",
   "execution_count": 0,
   "metadata": {
    "application/vnd.databricks.v1+cell": {
     "cellMetadata": {},
     "inputWidgets": {},
     "nuid": "c89d023c-1031-4053-8b10-ce666122e6c7",
     "showTitle": false,
     "tableResultSettingsMap": {},
     "title": ""
    }
   },
   "outputs": [],
   "source": [
    "my.genes.blocklist <- c(GetSignature(SignatuR$Hs$Blocklists),\n",
    "                        GetSignature(SignatuR$Hs$Compartments))\n",
    "\n",
    "AR_integrated_blockList <- Run.STACAS(obj.list, genesBlockList = my.genes.blocklist,\n",
    "                                          dims = 1:ndim, anchor.features = nfeatures)"
   ]
  },
  {
   "cell_type": "code",
   "execution_count": 0,
   "metadata": {
    "application/vnd.databricks.v1+cell": {
     "cellMetadata": {},
     "inputWidgets": {},
     "nuid": "9c5fb5a7-a41b-4a1c-9142-9f6a8ac739f8",
     "showTitle": false,
     "tableResultSettingsMap": {},
     "title": ""
    }
   },
   "outputs": [],
   "source": [
    "AR_integrated_blockList\n",
    "AR_integrated_blockList <- RunUMAP(AR_integrated_blockList, dims = 1:ndim)"
   ]
  },
  {
   "cell_type": "code",
   "execution_count": 0,
   "metadata": {
    "application/vnd.databricks.v1+cell": {
     "cellMetadata": {},
     "inputWidgets": {},
     "nuid": "93b41074-31e5-4ac3-87d4-07f81bebecbd",
     "showTitle": false,
     "tableResultSettingsMap": {},
     "title": ""
    }
   },
   "outputs": [],
   "source": [
    "DimPlot(AR_integrated_blockList , group.by = c(\"dataset\", \"celltype\"), label=TRUE)"
   ]
  },
  {
   "cell_type": "code",
   "execution_count": 0,
   "metadata": {
    "application/vnd.databricks.v1+cell": {
     "cellMetadata": {},
     "inputWidgets": {},
     "nuid": "16d38ebc-3113-4f87-8379-65272380630d",
     "showTitle": false,
     "tableResultSettingsMap": {},
     "title": ""
    }
   },
   "outputs": [],
   "source": [
    "#SEMISUPERVISED\n",
    "AR.semisup_block <- obj.list %>%\n",
    "  Run.STACAS(dims = 1:ndim, anchor.features = nfeatures, cell.labels = \"celltype\", genesBlockList = my.genes.blocklist)"
   ]
  },
  {
   "cell_type": "code",
   "execution_count": 0,
   "metadata": {
    "application/vnd.databricks.v1+cell": {
     "cellMetadata": {},
     "inputWidgets": {},
     "nuid": "fd97dacb-67ce-44b0-af42-ce9f3355ae4a",
     "showTitle": false,
     "tableResultSettingsMap": {},
     "title": ""
    }
   },
   "outputs": [],
   "source": [
    "AR.semisup_block <- RunUMAP(AR.semisup_block, dims = 1:ndim)"
   ]
  },
  {
   "cell_type": "code",
   "execution_count": 0,
   "metadata": {
    "application/vnd.databricks.v1+cell": {
     "cellMetadata": {},
     "inputWidgets": {},
     "nuid": "68af4fc7-b313-4762-95f6-137826701004",
     "showTitle": false,
     "tableResultSettingsMap": {},
     "title": ""
    }
   },
   "outputs": [],
   "source": [
    "DimPlot(AR.semisup_block , group.by = c(\"dataset\", \"celltype\"), label=TRUE)"
   ]
  },
  {
   "cell_type": "code",
   "execution_count": 0,
   "metadata": {
    "application/vnd.databricks.v1+cell": {
     "cellMetadata": {},
     "inputWidgets": {},
     "nuid": "f7783f2e-b0ee-40c3-ac42-a0c8118df4e7",
     "showTitle": false,
     "tableResultSettingsMap": {},
     "title": ""
    }
   },
   "outputs": [],
   "source": [
    "saveRDS(AR.semisup_block, file=\"/dbfs/mnt/sandbox/TFM_PAULA/integrated_objects/integrated_AR_ssSTACAS_block_TFM.rds\")\n",
    "saveRDS(AR_integrated_blockList, file=\"/dbfs/mnt/sandbox/TFM_PAULA/integrated_objects/integrated_AR_STACAS_block_TFM.rds\")"
   ]
  }
 ],
 "metadata": {
  "application/vnd.databricks.v1+notebook": {
   "computePreferences": null,
   "dashboards": [],
   "environmentMetadata": null,
   "inputWidgetPreferences": null,
   "language": "r",
   "notebookMetadata": {
    "pythonIndentUnit": 4
   },
   "notebookName": "1.1.stacas_dataset_integration",
   "widgets": {}
  },
  "language_info": {
   "name": "r"
  }
 },
 "nbformat": 4,
 "nbformat_minor": 0
}
