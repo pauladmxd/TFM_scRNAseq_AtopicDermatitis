{
 "cells": [
  {
   "cell_type": "markdown",
   "metadata": {
    "application/vnd.databricks.v1+cell": {
     "cellMetadata": {},
     "inputWidgets": {},
     "nuid": "c72ec9e7-e8ac-46e7-bef8-77386c92397d",
     "showTitle": false,
     "tableResultSettingsMap": {},
     "title": ""
    }
   },
   "source": [
    "#Task 1: Dataset Integration\n",
    "##1.2: Evaluation and validation\n",
    "\n",
    "Ensure cell type homogeneity of the current annotations across datasets.\n",
    "\n",
    "Here the **evaluation of the integration methods** will be performed."
   ]
  },
  {
   "cell_type": "code",
   "execution_count": 0,
   "metadata": {
    "application/vnd.databricks.v1+cell": {
     "cellMetadata": {},
     "inputWidgets": {},
     "nuid": "b4c109d8-84c2-4e37-b333-a66b0d56d04e",
     "showTitle": false,
     "tableResultSettingsMap": {},
     "title": ""
    }
   },
   "outputs": [],
   "source": [
    ".libPaths(c(\"/dbfs/home/jtrincado@almirall.com/my_r_packages/Seurat\", .libPaths()))"
   ]
  },
  {
   "cell_type": "code",
   "execution_count": 0,
   "metadata": {
    "application/vnd.databricks.v1+cell": {
     "cellMetadata": {},
     "inputWidgets": {},
     "nuid": "d1379c28-28c3-4c16-b1a2-0b10ce1bb606",
     "showTitle": false,
     "tableResultSettingsMap": {},
     "title": ""
    }
   },
   "outputs": [],
   "source": [
    "my_library <- \"/dbfs/home/pdelgadom@almirall.com/my_r_packages/tfm_paula_4\"\n",
    "dir.create(my_library, recursive=TRUE, showWarnings=FALSE)\n",
    ".libPaths(c(my_library, .libPaths()))\n",
    "if (!requireNamespace(\"remotes\")) install.packages(\"remotes\")\n",
    "\n",
    "install_from_github <- function(pkg_name, my_library=NULL) {\n",
    "  if (is.null(my_library)) {\n",
    "    my_library <- .libPaths()[1]\n",
    "    message(\"Installing \", pkg_name, \" to \", my_library)\n",
    "  }\n",
    "\n",
    "  temp_library <- tempfile()\n",
    "  dir.create(temp_library)\n",
    "  #remotes::install_cran(pkg_name, lib = temp_library, upgrade=FALSE)\n",
    "  #remotes::install_bioc(pkg_name, lib=temp_library, upgrade=FALSE)\n",
    "  remotes::install_github(pkg_name, lib = temp_library, upgrade=FALSE)\n",
    "  for (x in list.files(temp_library)) {\n",
    "    file.copy(\n",
    "      file.path(temp_library, x),\n",
    "      my_library,\n",
    "      recursive=TRUE\n",
    "    )\n",
    "  }\n",
    "}"
   ]
  },
  {
   "cell_type": "code",
   "execution_count": 0,
   "metadata": {
    "application/vnd.databricks.v1+cell": {
     "cellMetadata": {},
     "inputWidgets": {},
     "nuid": "5b6014f4-5bf7-4cd7-8da9-bbec3feac1db",
     "showTitle": false,
     "tableResultSettingsMap": {},
     "title": ""
    }
   },
   "outputs": [],
   "source": [
    "# if (!requireNamespace(\"STACAS\")) install_from_github(\"carmonalab/STACAS\")\n",
    "if (!requireNamespace(\"scIntegrationMetrics\")) install_from_github(\"carmonalab/scIntegrationMetrics\")"
   ]
  },
  {
   "cell_type": "code",
   "execution_count": 0,
   "metadata": {
    "application/vnd.databricks.v1+cell": {
     "cellMetadata": {},
     "inputWidgets": {},
     "nuid": "df740f60-da55-4797-9015-0bdfc9bb18b8",
     "showTitle": false,
     "tableResultSettingsMap": {},
     "title": ""
    }
   },
   "outputs": [],
   "source": [
    "library(Seurat)\n",
    "library(dplyr)\n",
    "library(ggplot2)\n",
    "library(patchwork)\n",
    "# library(\"STACAS\")\n",
    "library(\"scIntegrationMetrics\")\n",
    "library(openxlsx)\n",
    "options(future.globals.maxSize = 1e9)"
   ]
  },
  {
   "cell_type": "markdown",
   "metadata": {
    "application/vnd.databricks.v1+cell": {
     "cellMetadata": {},
     "inputWidgets": {},
     "nuid": "7ee9e700-4165-4ba8-80f1-fbbb84919ace",
     "showTitle": false,
     "tableResultSettingsMap": {},
     "title": ""
    }
   },
   "source": [
    "##Batch mixing evaluation\n",
    "Batch mixing measures whether similar cells from different batches are well mixed after integration. Frequently used metrics of batch mixing are entropy, kBET, and integration LISI (iLISI)"
   ]
  },
  {
   "cell_type": "markdown",
   "metadata": {
    "application/vnd.databricks.v1+cell": {
     "cellMetadata": {},
     "inputWidgets": {},
     "nuid": "7397b000-907a-4557-8926-dca5f60ce60e",
     "showTitle": false,
     "tableResultSettingsMap": {},
     "title": ""
    }
   },
   "source": [
    "##Biological variance preservation evaluation\n",
    "Preservation of biological variance can be quantified by how close to each other cells of the same type are, and how separated from each other cells of different types are in the joint integrated embeddings. Commonly-used metrics include average silhouette width (ASW), average Rand index (ARI), and cluster LISI (cLISI)"
   ]
  },
  {
   "cell_type": "markdown",
   "metadata": {
    "application/vnd.databricks.v1+cell": {
     "cellMetadata": {},
     "inputWidgets": {},
     "nuid": "d42e30dc-ab15-412d-b1be-812237f77661",
     "showTitle": false,
     "tableResultSettingsMap": {},
     "title": ""
    }
   },
   "source": [
    "### RPCA"
   ]
  },
  {
   "cell_type": "code",
   "execution_count": 0,
   "metadata": {
    "application/vnd.databricks.v1+cell": {
     "cellMetadata": {},
     "inputWidgets": {},
     "nuid": "c808aff5-cfb4-43f9-b459-a7895228e686",
     "showTitle": false,
     "tableResultSettingsMap": {},
     "title": ""
    }
   },
   "outputs": [],
   "source": [
    "integratedAR_RPCA <- readRDS(file=\"/dbfs/mnt/sandbox/TFM_PAULA/integrated_objects/integrated_AR_RPCA_TFM.rds\")"
   ]
  },
  {
   "cell_type": "code",
   "execution_count": 0,
   "metadata": {
    "application/vnd.databricks.v1+cell": {
     "cellMetadata": {},
     "inputWidgets": {},
     "nuid": "dc5123d5-9db5-4b76-9a4a-740a90fbd4ac",
     "showTitle": false,
     "tableResultSettingsMap": {},
     "title": ""
    }
   },
   "outputs": [],
   "source": [
    "integratedAR_RPCA"
   ]
  },
  {
   "cell_type": "code",
   "execution_count": 0,
   "metadata": {
    "application/vnd.databricks.v1+cell": {
     "cellMetadata": {},
     "inputWidgets": {},
     "nuid": "de9a8b9f-9de0-4d4f-976a-f71b1b4ac018",
     "showTitle": false,
     "tableResultSettingsMap": {},
     "title": ""
    }
   },
   "outputs": [],
   "source": [
    "identical(integratedAR_RPCA[[\"RNA\"]]@counts@x, integratedAR_RPCA[[\"RNA\"]]@data@x)\n",
    "#It is already scaled and normalized\n",
    "VariableFeatures(integratedAR_RPCA)\n",
    "#FindVariableFeatures already done"
   ]
  },
  {
   "cell_type": "code",
   "execution_count": 0,
   "metadata": {
    "application/vnd.databricks.v1+cell": {
     "cellMetadata": {},
     "inputWidgets": {},
     "nuid": "39e21c19-387b-409e-b2ec-a16d51e74725",
     "showTitle": false,
     "tableResultSettingsMap": {},
     "title": ""
    }
   },
   "outputs": [],
   "source": [
    "?getIntegrationMetrics"
   ]
  },
  {
   "cell_type": "code",
   "execution_count": 0,
   "metadata": {
    "application/vnd.databricks.v1+cell": {
     "cellMetadata": {},
     "inputWidgets": {},
     "nuid": "d5836f5d-1b7b-4a41-901b-59f4b85d46cf",
     "showTitle": false,
     "tableResultSettingsMap": {},
     "title": ""
    }
   },
   "outputs": [],
   "source": [
    "RPCA_metrics <- getIntegrationMetrics(integratedAR_RPCA, \n",
    "                                      meta.label = \"celltype\",\n",
    "                                      meta.batch = \"dataset\",\n",
    "                                      method.reduction = \"pca.rpca\",\n",
    "                                      iLISI_perplexity = 20,\n",
    "                                      cLISI_perplexity = 20,\n",
    "                                      metrics = c(\"norm_cLISI\", \"iLISI\", \"CiLISI\")) \n",
    "\n",
    "unlist(RPCA_metrics)"
   ]
  },
  {
   "cell_type": "code",
   "execution_count": 0,
   "metadata": {
    "application/vnd.databricks.v1+cell": {
     "cellMetadata": {},
     "inputWidgets": {},
     "nuid": "74b827f4-0720-4b32-a772-79235d7c4fda",
     "showTitle": false,
     "tableResultSettingsMap": {},
     "title": ""
    }
   },
   "outputs": [],
   "source": [
    "RPCA_CiLISI <- getIntegrationMetrics(integratedAR_RPCA, \n",
    "                                      meta.label = \"celltype\",\n",
    "                                      meta.batch = \"dataset\",\n",
    "                                      method.reduction = \"pca.rpca\",\n",
    "                                      iLISI_perplexity = 20,\n",
    "                                      cLISI_perplexity = 20,\n",
    "                                      metrics = c(\"CiLISI_means\")) \n",
    "\n",
    "unlist(RPCA_CiLISI)"
   ]
  },
  {
   "cell_type": "markdown",
   "metadata": {
    "application/vnd.databricks.v1+cell": {
     "cellMetadata": {},
     "inputWidgets": {},
     "nuid": "c0355e52-39a9-4d20-a856-bf4f2e430a34",
     "showTitle": false,
     "tableResultSettingsMap": {},
     "title": ""
    }
   },
   "source": [
    "CiLISI: Macro 0.07  KC 0.1  Prolif NaN  Treg 0.07  TC 0.02  DC 0.02  Fibroblasts 0.09  Endothelial blood NaN  Smooth Muscle NaN  LE 0.07  LC 0.01  Melanocytes 0.07  Plasmacytoid DC NaN  Pericyte 0  Mono 0  Sweat Gland NaN  B cells NaN  MastC 0.01  NK 0  nan NaN  VE NaN  ILC NaN  Schwann NaN  Plasma NaN  "
   ]
  },
  {
   "cell_type": "markdown",
   "metadata": {
    "application/vnd.databricks.v1+cell": {
     "cellMetadata": {},
     "inputWidgets": {},
     "nuid": "eb9d0c80-d38a-436a-aa12-60b3bc232505",
     "showTitle": false,
     "tableResultSettingsMap": {},
     "title": ""
    }
   },
   "source": [
    "##CCA"
   ]
  },
  {
   "cell_type": "code",
   "execution_count": 0,
   "metadata": {
    "application/vnd.databricks.v1+cell": {
     "cellMetadata": {},
     "inputWidgets": {},
     "nuid": "f5d2169a-468b-4447-a974-276ec4a1a7b8",
     "showTitle": false,
     "tableResultSettingsMap": {},
     "title": ""
    }
   },
   "outputs": [],
   "source": [
    "integratedAR_CCA <- readRDS(file=\"/dbfs/mnt/sandbox/TFM_PAULA/integrated_objects/integrated_AR_CCA_TFM.rds\")"
   ]
  },
  {
   "cell_type": "code",
   "execution_count": 0,
   "metadata": {
    "application/vnd.databricks.v1+cell": {
     "cellMetadata": {},
     "inputWidgets": {},
     "nuid": "cf39253d-155a-4d3a-8589-60795b4d8a79",
     "showTitle": false,
     "tableResultSettingsMap": {},
     "title": ""
    }
   },
   "outputs": [],
   "source": [
    "integratedAR_CCA"
   ]
  },
  {
   "cell_type": "code",
   "execution_count": 0,
   "metadata": {
    "application/vnd.databricks.v1+cell": {
     "cellMetadata": {},
     "inputWidgets": {},
     "nuid": "2a6c860c-d86f-4abe-b8da-4042202e9bf5",
     "showTitle": false,
     "tableResultSettingsMap": {},
     "title": ""
    }
   },
   "outputs": [],
   "source": [
    "CCA_metrics <- getIntegrationMetrics(integratedAR_CCA, \n",
    "                                      meta.label = \"celltype\",\n",
    "                                      meta.batch = \"dataset\",\n",
    "                                      method.reduction = \"pca.cca\",\n",
    "                                      iLISI_perplexity = 20,\n",
    "                                      cLISI_perplexity = 20,\n",
    "                                      metrics = c(\"norm_cLISI\", \"iLISI\",\"CiLISI\"))  \n",
    "\n",
    "unlist(CCA_metrics)"
   ]
  },
  {
   "cell_type": "code",
   "execution_count": 0,
   "metadata": {
    "application/vnd.databricks.v1+cell": {
     "cellMetadata": {},
     "inputWidgets": {},
     "nuid": "9c8f9f90-1eee-411f-9db7-6837f2b1ba2e",
     "showTitle": false,
     "tableResultSettingsMap": {},
     "title": ""
    }
   },
   "outputs": [],
   "source": [
    "CCA_CiLISI <- getIntegrationMetrics(integratedAR_CCA, \n",
    "                                      meta.label = \"celltype\",\n",
    "                                      meta.batch = \"dataset\",\n",
    "                                      method.reduction = \"pca.cca\",\n",
    "                                      iLISI_perplexity = 20,\n",
    "                                      cLISI_perplexity = 20,\n",
    "                                      metrics = c(\"CiLISI_means\"))  \n",
    "\n",
    "unlist(CCA_CiLISI)"
   ]
  },
  {
   "cell_type": "markdown",
   "metadata": {
    "application/vnd.databricks.v1+cell": {
     "cellMetadata": {},
     "inputWidgets": {},
     "nuid": "70594e39-4b90-435f-85ba-259f92c2724e",
     "showTitle": false,
     "tableResultSettingsMap": {},
     "title": ""
    }
   },
   "source": [
    "CiLISI: Macro 0.08  KC 0.15  Prolif NaN  Treg 0.12  TC 0.03  DC 0.02  Fibroblasts 0.11  Endothelial blood NaN  Smooth Muscle NaN  LE 0.05  LC 0.01  Melanocytes 0.1  Plasmacytoid DC NaN  Pericyte 0  Mono 0  Sweat Gland NaN  B cells NaN  MastC 0  NK 0  nan NaN  VE NaN  ILC NaN  Schwann NaN  Plasma NaN  "
   ]
  },
  {
   "cell_type": "markdown",
   "metadata": {
    "application/vnd.databricks.v1+cell": {
     "cellMetadata": {},
     "inputWidgets": {},
     "nuid": "72ef4348-089c-41d6-99fd-393d6b8113ce",
     "showTitle": false,
     "tableResultSettingsMap": {},
     "title": ""
    }
   },
   "source": [
    "##HARMONY"
   ]
  },
  {
   "cell_type": "code",
   "execution_count": 0,
   "metadata": {
    "application/vnd.databricks.v1+cell": {
     "cellMetadata": {},
     "inputWidgets": {},
     "nuid": "db138360-7e95-4350-9694-40b737a98c89",
     "showTitle": false,
     "tableResultSettingsMap": {},
     "title": ""
    }
   },
   "outputs": [],
   "source": [
    "integratedAR_HARM <- readRDS(file=\"/dbfs/mnt/sandbox/TFM_PAULA/integrated_objects/integrated_AR_Harmony_TFM.rds\")"
   ]
  },
  {
   "cell_type": "code",
   "execution_count": 0,
   "metadata": {
    "application/vnd.databricks.v1+cell": {
     "cellMetadata": {},
     "inputWidgets": {},
     "nuid": "813040a8-914b-47bf-9b12-b7f314d8dc77",
     "showTitle": false,
     "tableResultSettingsMap": {},
     "title": ""
    }
   },
   "outputs": [],
   "source": [
    "integratedAR_HARM"
   ]
  },
  {
   "cell_type": "markdown",
   "metadata": {
    "application/vnd.databricks.v1+cell": {
     "cellMetadata": {},
     "inputWidgets": {},
     "nuid": "acccf9d7-d4fb-44bd-9699-989dd8508e15",
     "showTitle": false,
     "tableResultSettingsMap": {},
     "title": ""
    }
   },
   "source": [
    "Error : cannot allocate vector of size 572.0 Gb\n",
    "Error: cannot allocate vector of size 572.0 Gb That error happen when I try to calculate celltype_ASW"
   ]
  },
  {
   "cell_type": "code",
   "execution_count": 0,
   "metadata": {
    "application/vnd.databricks.v1+cell": {
     "cellMetadata": {},
     "inputWidgets": {},
     "nuid": "005f598c-8c72-40ae-a10e-0d766341c8fc",
     "showTitle": false,
     "tableResultSettingsMap": {},
     "title": ""
    }
   },
   "outputs": [],
   "source": [
    "harm_metrics <- getIntegrationMetrics(integratedAR_HARM, \n",
    "                                      meta.label = \"celltype\",\n",
    "                                      meta.batch = \"dataset\",\n",
    "                                      method.reduction = \"pca\",\n",
    "                                      iLISI_perplexity = 20,\n",
    "                                      cLISI_perplexity = 20,\n",
    "                                      metrics = c(\"norm_cLISI\", \"iLISI\")) \n",
    "\n",
    "unlist(harm_metrics)"
   ]
  },
  {
   "cell_type": "code",
   "execution_count": 0,
   "metadata": {
    "application/vnd.databricks.v1+cell": {
     "cellMetadata": {},
     "inputWidgets": {},
     "nuid": "b3206edb-611a-448a-af77-aef802ba6695",
     "showTitle": false,
     "tableResultSettingsMap": {},
     "title": ""
    }
   },
   "outputs": [],
   "source": [
    "harm_metrics <- getIntegrationMetrics(integratedAR_HARM, \n",
    "                                      meta.label = \"celltype\",\n",
    "                                      meta.batch = \"dataset\",\n",
    "                                      method.reduction = \"pca\",\n",
    "                                      iLISI_perplexity = 20,\n",
    "                                      cLISI_perplexity = 20,\n",
    "                                      metrics = c(\"CiLISI_means\")) \n",
    "\n",
    "unlist(harm_metrics)"
   ]
  },
  {
   "cell_type": "markdown",
   "metadata": {
    "application/vnd.databricks.v1+cell": {
     "cellMetadata": {},
     "inputWidgets": {},
     "nuid": "28b84428-8a25-4d4e-812d-4c6aef1b8223",
     "showTitle": false,
     "tableResultSettingsMap": {},
     "title": ""
    }
   },
   "source": [
    "CiLISI: Macro 0.06  KC 0.01  Prolif NaN  Treg 0.04  TC 0.02  DC 0.01  Fibroblasts 0.05  Endothelial blood NaN  Smooth Muscle NaN  LE 0.08  LC 0.01  Melanocytes 0.17  Plasmacytoid DC NaN  Pericyte 0  Mono 0  Sweat Gland NaN  B cells NaN  MastC 0.01  NK 0  nan NaN  VE NaN  ILC NaN  Schwann NaN  Plasma NaN "
   ]
  },
  {
   "cell_type": "markdown",
   "metadata": {
    "application/vnd.databricks.v1+cell": {
     "cellMetadata": {},
     "inputWidgets": {},
     "nuid": "776a7819-5755-4de1-aa6c-fd878aa96512",
     "showTitle": false,
     "tableResultSettingsMap": {},
     "title": ""
    }
   },
   "source": [
    "##STACAS"
   ]
  },
  {
   "cell_type": "code",
   "execution_count": 0,
   "metadata": {
    "application/vnd.databricks.v1+cell": {
     "cellMetadata": {},
     "inputWidgets": {},
     "nuid": "ceb69443-ab1b-4557-8543-f0538017c152",
     "showTitle": false,
     "tableResultSettingsMap": {},
     "title": ""
    }
   },
   "outputs": [],
   "source": [
    "integratedAR_stacas <- readRDS(file=\"/dbfs/mnt/sandbox/TFM_PAULA/integrated_objects/integrated_AR_STACAS_block_TFM.rds\")"
   ]
  },
  {
   "cell_type": "code",
   "execution_count": 0,
   "metadata": {
    "application/vnd.databricks.v1+cell": {
     "cellMetadata": {},
     "inputWidgets": {},
     "nuid": "542c6f05-c740-4e50-a133-07cfe0298263",
     "showTitle": false,
     "tableResultSettingsMap": {},
     "title": ""
    }
   },
   "outputs": [],
   "source": [
    "stacas_metrics <- getIntegrationMetrics(integratedAR_stacas, \n",
    "                                      meta.label = \"celltype\",\n",
    "                                      meta.batch = \"dataset\",\n",
    "                                      method.reduction = \"pca\",\n",
    "                                      iLISI_perplexity = 20,\n",
    "                                      cLISI_perplexity = 20,\n",
    "                                      metrics = c(\"norm_cLISI\", \"iLISI\", \"CiLISI_means\")) \n",
    "\n",
    "unlist(stacas_metrics)"
   ]
  },
  {
   "cell_type": "markdown",
   "metadata": {
    "application/vnd.databricks.v1+cell": {
     "cellMetadata": {},
     "inputWidgets": {},
     "nuid": "859e81ed-4f40-4f4c-8c08-e0def2eadbcf",
     "showTitle": false,
     "tableResultSettingsMap": {},
     "title": ""
    }
   },
   "source": [
    "CiLISI: Macro 0.1  KC 0.1  Prolif NaN  Treg 0.06  TC 0.02  DC 0.01  Fibroblasts 0.13  Endothelial blood NaN  Smooth Muscle NaN  LE 0.15  LC 0.02  Melanocytes 0.2  Plasmacytoid DC NaN  Pericyte 0  Mono 0  Sweat Gland NaN  B cells NaN  MastC 0.01  NK 0  nan NaN  VE NaN  ILC NaN  Schwann NaN  Plasma NaN  \n",
    "\n",
    "iLISI  :    1.0826853 \n",
    "       \n",
    "norm_cLISI : 0.9936791"
   ]
  },
  {
   "cell_type": "markdown",
   "metadata": {
    "application/vnd.databricks.v1+cell": {
     "cellMetadata": {},
     "inputWidgets": {},
     "nuid": "b4857aa5-ebe8-4acd-9e91-d6df96ced51a",
     "showTitle": false,
     "tableResultSettingsMap": {},
     "title": ""
    }
   },
   "source": [
    "##ssSTACAS"
   ]
  },
  {
   "cell_type": "code",
   "execution_count": 0,
   "metadata": {
    "application/vnd.databricks.v1+cell": {
     "cellMetadata": {},
     "inputWidgets": {},
     "nuid": "94121f1c-8cd0-4342-b5db-00c01e07de5f",
     "showTitle": false,
     "tableResultSettingsMap": {},
     "title": ""
    }
   },
   "outputs": [],
   "source": [
    "integratedAR_ssstacas <- readRDS(file=\"/dbfs/mnt/sandbox/TFM_PAULA/integrated_objects/integrated_AR_ssSTACAS_block_TFM.rds\")"
   ]
  },
  {
   "cell_type": "code",
   "execution_count": 0,
   "metadata": {
    "application/vnd.databricks.v1+cell": {
     "cellMetadata": {},
     "inputWidgets": {},
     "nuid": "4fe27451-51ad-47fb-899e-9c1a9e8f6aca",
     "showTitle": false,
     "tableResultSettingsMap": {},
     "title": ""
    }
   },
   "outputs": [],
   "source": [
    "ssStacas_metrics <- getIntegrationMetrics(integratedAR_ssstacas, \n",
    "                                      meta.label = \"celltype\",\n",
    "                                      meta.batch = \"dataset\",\n",
    "                                      method.reduction = \"pca\",\n",
    "                                      iLISI_perplexity = 20,\n",
    "                                      cLISI_perplexity = 20,\n",
    "                                      metrics = c(\"norm_cLISI\", \"iLISI\", \"CiLISI_means\")) \n",
    "\n",
    "unlist(ssStacas_metrics)"
   ]
  },
  {
   "cell_type": "markdown",
   "metadata": {
    "application/vnd.databricks.v1+cell": {
     "cellMetadata": {},
     "inputWidgets": {},
     "nuid": "7b1816e2-6a5d-4bcd-ba69-1d93a595750c",
     "showTitle": false,
     "tableResultSettingsMap": {},
     "title": ""
    }
   },
   "source": [
    "CiLISI: Macro 0.1  KC 0.12  Prolif NaN  Treg 0.05  TC 0.02  DC 0.01  Fibroblasts 0.12  Endothelial blood NaN  Smooth Muscle NaN  LE 0.15  LC 0.02  Melanocytes 0.21  Plasmacytoid DC NaN  Pericyte 0  Mono 0  Sweat Gland NaN  B cells NaN  MastC 0.01  NK 0  nan NaN  VE NaN  ILC NaN  Schwann NaN  Plasma NaN  \n",
    "\n",
    "iLISI : 1.0740949  \n",
    "\n",
    "norm_cLISI :  0.9944726 "
   ]
  },
  {
   "cell_type": "markdown",
   "metadata": {
    "application/vnd.databricks.v1+cell": {
     "cellMetadata": {},
     "inputWidgets": {},
     "nuid": "7c73d6f5-19a7-4aec-a335-8d9222007ce3",
     "showTitle": false,
     "tableResultSettingsMap": {},
     "title": ""
    }
   },
   "source": [
    "##Save results"
   ]
  },
  {
   "cell_type": "code",
   "execution_count": 0,
   "metadata": {
    "application/vnd.databricks.v1+cell": {
     "cellMetadata": {},
     "inputWidgets": {},
     "nuid": "fde8dd0d-05bb-4adc-8200-f4d175acb2bd",
     "showTitle": false,
     "tableResultSettingsMap": {},
     "title": ""
    }
   },
   "outputs": [],
   "source": [
    "library(openxlsx)"
   ]
  },
  {
   "cell_type": "code",
   "execution_count": 0,
   "metadata": {
    "application/vnd.databricks.v1+cell": {
     "cellMetadata": {},
     "inputWidgets": {},
     "nuid": "f4cb02d2-7480-4a02-96f2-092aae4736f3",
     "showTitle": false,
     "tableResultSettingsMap": {},
     "title": ""
    }
   },
   "outputs": [],
   "source": [
    "# metrics_list <- list(#ssStacas_metrics = ssStacas_metrics, \n",
    "#                     #  stacas_metrics = stacas_metrics, \n",
    "#                     #  harm_metrics = harm_metrics,\n",
    "#                     #  CCA_metrics = CCA_metrics,\n",
    "#                      RPCA_metrics= RPCA_metrics)\n",
    "\n",
    "write.xlsx(RPCA_metrics, file = \"/dbfs/mnt/sandbox/TFM_PAULA/integrated_objects/RPCA_metrics_output.xlsx\")"
   ]
  },
  {
   "cell_type": "code",
   "execution_count": 0,
   "metadata": {
    "application/vnd.databricks.v1+cell": {
     "cellMetadata": {},
     "inputWidgets": {},
     "nuid": "afe7c22c-65ba-4601-913c-e857fc82e820",
     "showTitle": false,
     "tableResultSettingsMap": {},
     "title": ""
    }
   },
   "outputs": [],
   "source": [
    "write.xlsx(CCA_metrics, file = \"/dbfs/mnt/sandbox/TFM_PAULA/integrated_objects/CCA_metrics_output.xlsx\")"
   ]
  },
  {
   "cell_type": "code",
   "execution_count": 0,
   "metadata": {
    "application/vnd.databricks.v1+cell": {
     "cellMetadata": {},
     "inputWidgets": {},
     "nuid": "5cb88e7b-841c-46a8-ab6c-030aee5ba40d",
     "showTitle": false,
     "tableResultSettingsMap": {},
     "title": ""
    }
   },
   "outputs": [],
   "source": [
    "write.xlsx(harm_metrics, file = \"/dbfs/mnt/sandbox/TFM_PAULA/integrated_objects/harmony_metrics_output.xlsx\")"
   ]
  },
  {
   "cell_type": "code",
   "execution_count": 0,
   "metadata": {
    "application/vnd.databricks.v1+cell": {
     "cellMetadata": {},
     "inputWidgets": {},
     "nuid": "fdc4eaf4-f613-4e79-8549-6961f15df366",
     "showTitle": false,
     "tableResultSettingsMap": {},
     "title": ""
    }
   },
   "outputs": [],
   "source": [
    "write.xlsx(ssStacas_metrics, file = \"/dbfs/mnt/sandbox/TFM_PAULA/integrated_objects/ssStacas_metrics_output.xlsx\")"
   ]
  },
  {
   "cell_type": "code",
   "execution_count": 0,
   "metadata": {
    "application/vnd.databricks.v1+cell": {
     "cellMetadata": {},
     "inputWidgets": {},
     "nuid": "8fc568e2-7cc0-4adf-848c-140fb93aed26",
     "showTitle": false,
     "tableResultSettingsMap": {},
     "title": ""
    }
   },
   "outputs": [],
   "source": [
    "write.xlsx(stacas_metrics, file = \"/dbfs/mnt/sandbox/TFM_PAULA/integrated_objects/Stacas_metrics_output.xlsx\")"
   ]
  },
  {
   "cell_type": "markdown",
   "metadata": {
    "application/vnd.databricks.v1+cell": {
     "cellMetadata": {},
     "inputWidgets": {},
     "nuid": "26e82bef-04ed-4617-8add-c188cf6f7804",
     "showTitle": false,
     "tableResultSettingsMap": {},
     "title": ""
    }
   },
   "source": [
    "##All the metrics"
   ]
  },
  {
   "cell_type": "code",
   "execution_count": 0,
   "metadata": {
    "application/vnd.databricks.v1+cell": {
     "cellMetadata": {},
     "inputWidgets": {},
     "nuid": "8e010409-1064-4c61-9562-18dc8db2a8b8",
     "showTitle": false,
     "tableResultSettingsMap": {},
     "title": ""
    }
   },
   "outputs": [],
   "source": [
    ".libPaths(c(\"/dbfs/home/jtrincado@almirall.com/my_r_packages/Seurat\", .libPaths()))\n",
    "library(ggplot2)\n",
    "library(openxlsx)"
   ]
  },
  {
   "cell_type": "code",
   "execution_count": 0,
   "metadata": {
    "application/vnd.databricks.v1+cell": {
     "cellMetadata": {},
     "inputWidgets": {},
     "nuid": "f03c62f9-f025-48de-a874-01b16bc7bc19",
     "showTitle": false,
     "tableResultSettingsMap": {},
     "title": ""
    }
   },
   "outputs": [],
   "source": [
    "# Set options to avoid scientific notation\n",
    "options(scipen = 999)\n",
    "\n",
    "# Read the XLSX file\n",
    "all_metrics <- list(\n",
    " ssSTACAS = read.xlsx(\"/dbfs/mnt/sandbox/TFM_PAULA/integrated_objects/integration_metrics.xlsx\", sheet = 1),\n",
    " harmony = read.xlsx(\"/dbfs/mnt/sandbox/TFM_PAULA/integrated_objects/integration_metrics.xlsx\", sheet = 2),\n",
    " RPCA = read.xlsx(\"/dbfs/mnt/sandbox/TFM_PAULA/integrated_objects/integration_metrics.xlsx\", sheet = 3),\n",
    " CCA = read.xlsx(\"/dbfs/mnt/sandbox/TFM_PAULA/integrated_objects/integration_metrics.xlsx\", sheet = 4)\n",
    " )\n",
    "# Convert the column to numeric\n",
    "all_metrics$ssSTACAS$CiLISI <- as.numeric(all_metrics$ssSTACAS$CiLISI) #It is done to have the decimal numbers correctly saved\n",
    "all_metrics$harmony$CiLISI <- as.numeric(all_metrics$harmony$CiLISI)\n",
    "all_metrics$RPCA$CiLISI <- as.numeric(all_metrics$RPCA$CiLISI)\n",
    "all_metrics$CCA$CiLISI <- as.numeric(all_metrics$CCA$CiLISI)"
   ]
  },
  {
   "cell_type": "markdown",
   "metadata": {
    "application/vnd.databricks.v1+cell": {
     "cellMetadata": {},
     "inputWidgets": {},
     "nuid": "5bfbcd37-687e-4558-9c04-6624155eb8ba",
     "showTitle": false,
     "tableResultSettingsMap": {},
     "title": ""
    }
   },
   "source": [
    "##Harmony"
   ]
  },
  {
   "cell_type": "code",
   "execution_count": 0,
   "metadata": {
    "application/vnd.databricks.v1+cell": {
     "cellMetadata": {},
     "inputWidgets": {},
     "nuid": "63d1d8f2-e2dd-4ede-8d63-60a15a391e15",
     "showTitle": false,
     "tableResultSettingsMap": {},
     "title": ""
    }
   },
   "outputs": [],
   "source": [
    "all_metrics$harmony$iLISI[1]"
   ]
  },
  {
   "cell_type": "code",
   "execution_count": 0,
   "metadata": {
    "application/vnd.databricks.v1+cell": {
     "cellMetadata": {},
     "inputWidgets": {},
     "nuid": "891acd2b-1551-4973-92d5-5197065eb544",
     "showTitle": false,
     "tableResultSettingsMap": {},
     "title": ""
    }
   },
   "outputs": [],
   "source": [
    "options(repr.plot.width=700, repr.plot.height=700)"
   ]
  },
  {
   "cell_type": "code",
   "execution_count": 0,
   "metadata": {
    "application/vnd.databricks.v1+cell": {
     "cellMetadata": {},
     "inputWidgets": {},
     "nuid": "0b51b87f-9fa4-4f93-ad1c-aa4a8e1acac3",
     "showTitle": false,
     "tableResultSettingsMap": {},
     "title": ""
    }
   },
   "outputs": [],
   "source": [
    "#Keratinocyes CiLISI\n",
    "ggplot() +\n",
    "  geom_point(data = all_metrics$harmony, aes(x = iLISI[1], y = CiLISI[3]), color = \"blue\") +\n",
    "  geom_text(data = all_metrics$harmony, aes(x = iLISI[1], y = CiLISI[3], label = \"harmony\"), vjust = -1, size = 2.5) +\n",
    "  geom_point(data = all_metrics$ssSTACAS, aes(x = iLISI[1], y = CiLISI[3]), color = \"green\") +\n",
    "  geom_text(data = all_metrics$ssSTACAS, aes(x = iLISI[1], y = CiLISI[3], label = \"ssSTACAS\"), vjust = -1, size = 2.5) +\n",
    "  geom_point(data = all_metrics$CCA, aes(x = iLISI[1], y = CiLISI[3]), color = \"red\") +\n",
    "  geom_text(data = all_metrics$CCA, aes(x = iLISI[1], y = CiLISI[3], label = \"CCA\"), vjust = -1, size = 2.5) +\n",
    "  geom_point(data = all_metrics$RPCA, aes(x = iLISI[1], y = CiLISI[3]), color = \"cyan\") +\n",
    "  geom_text(data = all_metrics$RPCA, aes(x = iLISI[1], y = CiLISI[3], label = \"RPCA\"), vjust = -1, size = 2.5) +\n",
    "  theme_minimal() +\n",
    "  labs(title = \"iLISI vs CiLISI Keratinocytes\", x = \"iLISI\", y = \"CiLISI\")"
   ]
  },
  {
   "cell_type": "code",
   "execution_count": 0,
   "metadata": {
    "application/vnd.databricks.v1+cell": {
     "cellMetadata": {},
     "inputWidgets": {},
     "nuid": "0536c12d-dd4e-4528-875b-0f6b5c32dfca",
     "showTitle": false,
     "tableResultSettingsMap": {},
     "title": ""
    }
   },
   "outputs": [],
   "source": [
    "#Keratinocyes CiLISI\n",
    "ggplot() +\n",
    "  geom_point(data = all_metrics$harmony, aes(x = norm_cLISI[1], y = CiLISI[3]), color = \"blue\") +\n",
    "  geom_text(data = all_metrics$harmony, aes(x = norm_cLISI[1], y = CiLISI[3], label = \"harmony\"), vjust = -1, size = 2.5) +\n",
    "  geom_point(data = all_metrics$ssSTACAS, aes(x = norm_cLISI[1], y = CiLISI[3]), color = \"green\") +\n",
    "  geom_text(data = all_metrics$ssSTACAS, aes(x = norm_cLISI[1], y = CiLISI[3], label = \"ssSTACAS\"), vjust = -1, size = 2.5) +\n",
    "  geom_point(data = all_metrics$CCA, aes(x = norm_cLISI[1], y = CiLISI[3]), color = \"red\") +\n",
    "  geom_text(data = all_metrics$CCA, aes(x = norm_cLISI[1], y = CiLISI[3], label = \"CCA\"), vjust = -1, size = 2.5) +\n",
    "  geom_point(data = all_metrics$RPCA, aes(x = norm_cLISI[1], y = CiLISI[3]), color = \"cyan\") +\n",
    "  geom_text(data = all_metrics$RPCA, aes(x = norm_cLISI[1], y = CiLISI[3], label = \"RPCA\"), vjust = -1, size = 2.5) +\n",
    "  theme_minimal() +\n",
    "  labs(title = \"cLISI vs CiLISI Keratinocytes\", x = \"norm_cLISI\", y = \"CiLISI\")"
   ]
  },
  {
   "cell_type": "code",
   "execution_count": 0,
   "metadata": {
    "application/vnd.databricks.v1+cell": {
     "cellMetadata": {},
     "inputWidgets": {},
     "nuid": "c630c366-05b0-4c8a-965d-bafe8b8f317d",
     "showTitle": false,
     "tableResultSettingsMap": {},
     "title": ""
    }
   },
   "outputs": [],
   "source": [
    "#Tcell CiLISI\n",
    "ggplot() +\n",
    "  geom_point(data = all_metrics$harmony, aes(x = norm_cLISI[1], y = CiLISI[6]), color = \"blue\") +\n",
    "  geom_text(data = all_metrics$harmony, aes(x = norm_cLISI[1], y = CiLISI[6], label = \"harmony\"), vjust = -1, size = 2.5) +\n",
    "  geom_point(data = all_metrics$ssSTACAS, aes(x = norm_cLISI[1], y = CiLISI[6]), color = \"green\") +\n",
    "  geom_text(data = all_metrics$ssSTACAS, aes(x = norm_cLISI[1], y = CiLISI[6], label = \"ssSTACAS\"), vjust = -1, size = 2.5) +\n",
    "  geom_point(data = all_metrics$CCA, aes(x = norm_cLISI[1], y = CiLISI[6]), color = \"red\") +\n",
    "  geom_text(data = all_metrics$CCA, aes(x = norm_cLISI[1], y = CiLISI[6], label = \"CCA\"), vjust = -1, size = 2.5) +\n",
    "  geom_point(data = all_metrics$RPCA, aes(x = norm_cLISI[1], y = CiLISI[6]), color = \"cyan\") +\n",
    "  geom_text(data = all_metrics$RPCA, aes(x = norm_cLISI[1], y = CiLISI[6], label = \"RPCA\"), vjust = -1, size = 2.5) +\n",
    "  theme_minimal() +\n",
    "  labs(title = \"cLISI vs CiLISI Tcell\", x = \"norm_cLISI\", y = \"CiLISI\")"
   ]
  },
  {
   "cell_type": "code",
   "execution_count": 0,
   "metadata": {
    "application/vnd.databricks.v1+cell": {
     "cellMetadata": {},
     "inputWidgets": {},
     "nuid": "b42fa97b-d6ab-4b37-b45e-91d945cf3da2",
     "showTitle": false,
     "tableResultSettingsMap": {},
     "title": ""
    }
   },
   "outputs": [],
   "source": [
    "#Fibroblasts CiLISI\n",
    "ggplot() +\n",
    "  geom_point(data = all_metrics$harmony, aes(x = norm_cLISI[1], y = CiLISI[8]), color = \"blue\") +\n",
    "  geom_text(data = all_metrics$harmony, aes(x = norm_cLISI[1], y = CiLISI[8], label = \"harmony\"), vjust = -1, size = 2.5) +\n",
    "  geom_point(data = all_metrics$ssSTACAS, aes(x = norm_cLISI[1], y = CiLISI[8]), color = \"green\") +\n",
    "  geom_text(data = all_metrics$ssSTACAS, aes(x = norm_cLISI[1], y = CiLISI[8], label = \"ssSTACAS\"), vjust = -1, size = 2.5) +\n",
    "  geom_point(data = all_metrics$CCA, aes(x = norm_cLISI[1], y = CiLISI[8]), color = \"red\") +\n",
    "  geom_text(data = all_metrics$CCA, aes(x = norm_cLISI[1], y = CiLISI[8], label = \"CCA\"), vjust = -1, size = 2.5) +\n",
    "  geom_point(data = all_metrics$RPCA, aes(x = norm_cLISI[1], y = CiLISI[8]), color = \"cyan\") +\n",
    "  geom_text(data = all_metrics$RPCA, aes(x = norm_cLISI[1], y = CiLISI[8], label = \"RPCA\"), vjust = -1, size = 2.5) +\n",
    "  theme_minimal() +\n",
    "  labs(title = \"cLISI vs CiLISI Fibroblasts\", x = \"norm_cLISI\", y = \"CiLISI\")"
   ]
  },
  {
   "cell_type": "code",
   "execution_count": 0,
   "metadata": {
    "application/vnd.databricks.v1+cell": {
     "cellMetadata": {},
     "inputWidgets": {},
     "nuid": "270edf3c-9427-4128-a157-455e6197587e",
     "showTitle": false,
     "tableResultSettingsMap": {},
     "title": ""
    }
   },
   "outputs": [],
   "source": [
    "options(scipen = 999)\n",
    "all_metrics$RPCA$CiLISI"
   ]
  },
  {
   "cell_type": "code",
   "execution_count": 0,
   "metadata": {
    "application/vnd.databricks.v1+cell": {
     "cellMetadata": {},
     "inputWidgets": {},
     "nuid": "09d66a89-9fb5-484c-a113-099499ff68fa",
     "showTitle": false,
     "tableResultSettingsMap": {},
     "title": ""
    }
   },
   "outputs": [],
   "source": [
    "#Melanocytes CiLISI\n",
    "ggplot() +\n",
    "  geom_point(data = all_metrics$harmony, aes(x = norm_cLISI[1], y = CiLISI[13]), color = \"blue\") +\n",
    "  geom_text(data = all_metrics$harmony, aes(x = norm_cLISI[1], y = CiLISI[13], label = \"harmony\"), vjust = -1, size = 2.5) +\n",
    "  geom_point(data = all_metrics$ssSTACAS, aes(x = norm_cLISI[1], y = CiLISI[13]), color = \"green\") +\n",
    "  geom_text(data = all_metrics$ssSTACAS, aes(x = norm_cLISI[1], y = CiLISI[13], label = \"ssSTACAS\"), vjust = -1, size = 2.5) +\n",
    "  geom_point(data = all_metrics$CCA, aes(x = norm_cLISI[1], y = CiLISI[13]), color = \"red\") +\n",
    "  geom_text(data = all_metrics$CCA, aes(x = norm_cLISI[1], y = CiLISI[13], label = \"CCA\"), vjust = -1, size = 2.5) +\n",
    "  geom_point(data = all_metrics$RPCA, aes(x = norm_cLISI[1], y = CiLISI[13]), color = \"cyan\") +\n",
    "  geom_text(data = all_metrics$RPCA, aes(x = norm_cLISI[1], y = CiLISI[13], label = \"RPCA\"), vjust = -1, size = 2.5) +\n",
    "  theme_minimal() +\n",
    "  labs(title = \"cLISI vs CiLISI Melanocytes\", x = \"norm_cLISI\", y = \"CiLISI\")"
   ]
  },
  {
   "cell_type": "code",
   "execution_count": 0,
   "metadata": {
    "application/vnd.databricks.v1+cell": {
     "cellMetadata": {},
     "inputWidgets": {},
     "nuid": "a985eddd-d788-4382-81f6-1bbe7b1174fa",
     "showTitle": false,
     "tableResultSettingsMap": {},
     "title": ""
    }
   },
   "outputs": [],
   "source": [
    "average_CiLISI <- list(\n",
    "  harmony = mean(all_metrics$harmony$CiLISI, na.rm = TRUE),\n",
    "  ssSTACAS = mean(all_metrics$ssSTACAS$CiLISI, na.rm = TRUE),\n",
    "  CCA = mean(all_metrics$CCA$CiLISI, na.rm = TRUE),\n",
    "  RPCA = mean(all_metrics$RPCA$CiLISI, na.rm = TRUE)\n",
    ")"
   ]
  },
  {
   "cell_type": "code",
   "execution_count": 0,
   "metadata": {
    "application/vnd.databricks.v1+cell": {
     "cellMetadata": {},
     "inputWidgets": {},
     "nuid": "e146b342-1c34-4e82-abd6-f59c7a66676f",
     "showTitle": false,
     "tableResultSettingsMap": {},
     "title": ""
    }
   },
   "outputs": [],
   "source": [
    "$harmony\n",
    "[1] 0.03538462\n",
    "\n",
    "$ssSTACAS\n",
    "[1] 0.06230769\n",
    "\n",
    "$CCA\n",
    "[1] 0.05153846\n",
    "\n",
    "$RPCA\n",
    "[1] 0.04076923"
   ]
  },
  {
   "cell_type": "code",
   "execution_count": 0,
   "metadata": {
    "application/vnd.databricks.v1+cell": {
     "cellMetadata": {},
     "inputWidgets": {},
     "nuid": "365f54b1-51e3-495c-8a26-18cd91592541",
     "showTitle": false,
     "tableResultSettingsMap": {},
     "title": ""
    }
   },
   "outputs": [],
   "source": [
    "#Average CiLISI\n",
    "ggplot() +\n",
    "  geom_point(data = all_metrics$harmony, aes(x = norm_cLISI[1], y = average_CiLISI$harmony), color = \"blue\") +\n",
    "  geom_text(data = all_metrics$harmony, aes(x = norm_cLISI[1], y = average_CiLISI$harmony, label = \"harmony\"), vjust = -1, size = 2.5) +\n",
    "  geom_point(data = all_metrics$ssSTACAS, aes(x = norm_cLISI[1], y = average_CiLISI$ssSTACAS), color = \"green\") +\n",
    "  geom_text(data = all_metrics$ssSTACAS, aes(x = norm_cLISI[1], y = average_CiLISI$ssSTACAS, label = \"ssSTACAS\"), vjust = -1, size = 2.5) +\n",
    "  geom_point(data = all_metrics$CCA, aes(x = norm_cLISI[1], y = average_CiLISI$CCA), color = \"red\") +\n",
    "  geom_text(data = all_metrics$CCA, aes(x = norm_cLISI[1], y = average_CiLISI$CCA, label = \"CCA\"), vjust = -1, size = 2.5) +\n",
    "  geom_point(data = all_metrics$RPCA, aes(x = norm_cLISI[1], y = average_CiLISI$RPCA), color = \"cyan\") +\n",
    "  geom_text(data = all_metrics$RPCA, aes(x = norm_cLISI[1], y = average_CiLISI$RPCA, label = \"RPCA\"), vjust = -1, size = 2.5) +\n",
    "  theme_minimal() +\n",
    "  labs(title = \"cLISI vs average CiLISI \", x = \"norm_cLISI\", y = \"avg_CiLISI\")"
   ]
  },
  {
   "cell_type": "code",
   "execution_count": 0,
   "metadata": {
    "application/vnd.databricks.v1+cell": {
     "cellMetadata": {},
     "inputWidgets": {},
     "nuid": "91f67638-7d17-4965-a669-ea0410459cab",
     "showTitle": false,
     "tableResultSettingsMap": {},
     "title": ""
    }
   },
   "outputs": [],
   "source": [
    "#iLISI and normcLISI\n",
    "ggplot() +\n",
    "  geom_point(data = all_metrics$harmony, aes(x = norm_cLISI[1], y = iLISI[1]), color = \"blue\") +\n",
    "  geom_text(data = all_metrics$harmony, aes(x = norm_cLISI[1], y = iLISI[1], label = \"harmony\"), vjust = -1, size = 2.5) +\n",
    "  geom_point(data = all_metrics$ssSTACAS, aes(x = norm_cLISI[1], y = iLISI[1]), color = \"green\") +\n",
    "  geom_text(data = all_metrics$ssSTACAS, aes(x = norm_cLISI[1], y = iLISI[1], label = \"ssSTACAS\"), vjust = -1, size = 2.5) +\n",
    "  geom_point(data = all_metrics$CCA, aes(x = norm_cLISI[1], y = iLISI[1]), color = \"red\") +\n",
    "  geom_text(data = all_metrics$CCA, aes(x = norm_cLISI[1], y = iLISI[1], label = \"CCA\"), vjust = -1, size = 2.5) +\n",
    "  geom_point(data = all_metrics$RPCA, aes(x = norm_cLISI[1], y = iLISI[1]), color = \"cyan\") +\n",
    "  geom_text(data = all_metrics$RPCA, aes(x = norm_cLISI[1], y = iLISI[1], label = \"RPCA\"), vjust = -1, size = 2.5) +\n",
    "  theme_minimal() +\n",
    "  labs(title = \"cLISI vs iLISI\", x = \"norm_cLISI\", y = \"iLISI\")"
   ]
  },
  {
   "cell_type": "markdown",
   "metadata": {
    "application/vnd.databricks.v1+cell": {
     "cellMetadata": {},
     "inputWidgets": {},
     "nuid": "b63e298b-a23d-4a92-95ba-3962080c0a35",
     "showTitle": false,
     "tableResultSettingsMap": {},
     "title": ""
    }
   },
   "source": [
    "#Integration Evaluation: Randomized CiLISI\n",
    "\n",
    "Sayols suggests checking this parameter by performing a test where you randomize the labels of the cell types and see how this evaluates (the CiLISI should be very low, but this might be more for checking the cLISI).\n",
    "\n",
    "**1. Downsample the number of cells per identity class**\n",
    "\n",
    "**2. Randomize the batches for all cells.**\n",
    "\n",
    "**3.  Then, for about 100 randomizations, perform the integration and calculate the CiLISI.**\n",
    "\n",
    "**4. Use a loop in Databricks to save the CiLISIs, testing with about 5 to see how long it takes.**\n",
    "\n",
    "Sayols suggests creating subsets and not using all cells for this.\n",
    "\n",
    "Perform downsampling for this because it takes a long time and you need to test all methods.\n",
    "\n",
    "subset(x = pbmc, downsample = 100)\n",
    "Check how long the integration takes."
   ]
  }
 ],
 "metadata": {
  "application/vnd.databricks.v1+notebook": {
   "computePreferences": null,
   "dashboards": [],
   "environmentMetadata": null,
   "inputWidgetPreferences": null,
   "language": "r",
   "notebookMetadata": {
    "pythonIndentUnit": 4
   },
   "notebookName": "1.2.Integration_method_evaluation",
   "widgets": {}
  },
  "language_info": {
   "name": "r"
  }
 },
 "nbformat": 4,
 "nbformat_minor": 0
}
