{
 "cells": [
  {
   "cell_type": "markdown",
   "metadata": {
    "application/vnd.databricks.v1+cell": {
     "cellMetadata": {
      "byteLimit": 2048000,
      "rowLimit": 10000
     },
     "inputWidgets": {},
     "nuid": "42621208-8f4d-41ee-baac-dd74708f8005",
     "showTitle": false,
     "tableResultSettingsMap": {},
     "title": ""
    }
   },
   "source": [
    "#Comparison deseq2 vs limma\n",
    "in the joint adjusted analysis"
   ]
  },
  {
   "cell_type": "code",
   "execution_count": 0,
   "metadata": {
    "application/vnd.databricks.v1+cell": {
     "cellMetadata": {
      "byteLimit": 2048000,
      "rowLimit": 10000
     },
     "inputWidgets": {},
     "nuid": "031f357c-0b04-456b-afa4-e69b7bae975e",
     "showTitle": false,
     "tableResultSettingsMap": {},
     "title": ""
    }
   },
   "outputs": [],
   "source": [
    "#Load libraries\n",
    "## Append the library folder\n",
    ".libPaths(c(\"/dbfs/home/boriol@almirall.com/my_r_packages/bulkRNASeq_PBMCs_R4.3\", .libPaths()))\n",
    "\n",
    "library(DESeq2)\n",
    "library(UpSetR)\n",
    "library(tidyverse)\n",
    "library(VennDiagram)\n",
    "library(RColorBrewer)\n",
    "\n",
    ".libPaths(c(\"/dbfs/home/jtrincado@almirall.com/my_r_packages/Seurat\", .libPaths()))\n",
    "library(openxlsx)\n",
    "library(enrichplot)\n",
    "library(ggplot2)\n",
    "\n",
    "G_list <- readRDS(\"/dbfs/mnt/sandbox/RNASeq/PBMCs_IL4/pathways/G_list20240710.rds\")\n",
    "G_list_protein_coding <- G_list %>% filter(transcript_biotype == \"protein_coding\")\n",
    "G_list_protein_coding <- G_list_protein_coding %>%unite(\"gene\", ensembl_gene_id:hgnc_symbol, remove = FALSE)"
   ]
  },
  {
   "cell_type": "markdown",
   "metadata": {
    "application/vnd.databricks.v1+cell": {
     "cellMetadata": {
      "byteLimit": 2048000,
      "rowLimit": 10000
     },
     "inputWidgets": {},
     "nuid": "5f983390-87f6-439a-962c-bb609f73cfbb",
     "showTitle": false,
     "tableResultSettingsMap": {},
     "title": ""
    }
   },
   "source": [
    "#KC"
   ]
  },
  {
   "cell_type": "code",
   "execution_count": 0,
   "metadata": {
    "application/vnd.databricks.v1+cell": {
     "cellMetadata": {
      "byteLimit": 2048000,
      "rowLimit": 10000
     },
     "inputWidgets": {},
     "nuid": "9c4e3d33-eb47-449d-9459-8c43e10b9ed7",
     "showTitle": false,
     "tableResultSettingsMap": {},
     "title": ""
    }
   },
   "outputs": [],
   "source": [
    "p_deseq2 <- read.xlsx(\"/dbfs/mnt/sandbox/TFM_PAULA/merged_AR_results/GSEA/res_kc_0.05_AR.xlsx\", sheet = \"Reactome\")\n",
    "p_limma <- read.xlsx(\"/dbfs/mnt/sandbox/TFM_PAULA/merged_AR_results/GSEA/Limma/res_kc_0.05_AR.xlsx\", sheet = \"Reactome\")"
   ]
  },
  {
   "cell_type": "code",
   "execution_count": 0,
   "metadata": {
    "application/vnd.databricks.v1+cell": {
     "cellMetadata": {
      "byteLimit": 2048000,
      "rowLimit": 10000
     },
     "inputWidgets": {},
     "nuid": "1f2f54eb-1d2e-441a-9962-89f3ae8a198d",
     "showTitle": false,
     "tableResultSettingsMap": {},
     "title": ""
    }
   },
   "outputs": [],
   "source": [
    "degs_deseq2 <- read.xlsx(\"/dbfs/mnt/sandbox/TFM_PAULA/merged_AR_results/adjusting_cov_dataset_DEGs/bulk.kc.de.cov.xlsx\")\n",
    "\n",
    "degs_limma <- read.xlsx(\"/dbfs/mnt/sandbox/TFM_PAULA/merged_AR_results/adjusting_cov_dataset_DEGs/Limma/limma_results_kc.xlsx\")\n",
    "\n",
    "rownames(degs_deseq2) <- degs_deseq2$gene\n",
    "rownames(degs_limma) <- degs_limma$gene"
   ]
  },
  {
   "cell_type": "markdown",
   "metadata": {
    "application/vnd.databricks.v1+cell": {
     "cellMetadata": {
      "byteLimit": 2048000,
      "rowLimit": 10000
     },
     "inputWidgets": {},
     "nuid": "d61ba6df-357d-47e6-8c5c-4ba1c4710326",
     "showTitle": false,
     "tableResultSettingsMap": {},
     "title": ""
    }
   },
   "source": [
    "##Pathways"
   ]
  },
  {
   "cell_type": "code",
   "execution_count": 0,
   "metadata": {
    "application/vnd.databricks.v1+cell": {
     "cellMetadata": {
      "byteLimit": 2048000,
      "rowLimit": 10000
     },
     "inputWidgets": {},
     "nuid": "06c2bad8-4796-4e80-a227-4b9d260630aa",
     "showTitle": false,
     "tableResultSettingsMap": {},
     "title": ""
    }
   },
   "outputs": [],
   "source": [
    "# Create a list of your gene sets\n",
    "gene_sets <- list(\n",
    "  \"DESeq2\" = p_deseq2$ID,\n",
    "  \"Limma\" = p_limma$ID\n",
    ")\n",
    "options(repr.plot.width=1000, repr.plot.height=1000)\n",
    "\n",
    "# Create a new plotting page\n",
    "grid.newpage()\n",
    "\n",
    "# Plot the Venn diagram with colors and title\n",
    "venn.plot <- venn.diagram(\n",
    "  x = gene_sets,\n",
    "  category.names = c(\"DESeq2\", \"Limma\"), # Use abbreviated names for legend\n",
    "  filename = NULL,  # Set to NULL to plot in RStudio\n",
    "  output = TRUE,\n",
    "  fill = c(\"red\", \"blue\"), # Add colors\n",
    "  main = \"Common pathways in KC - AR DESeq2 vs Limma\", # Add title\n",
    "  main.fontface = \"bold\", # Make title bold\n",
    "  cat.dist = c(0.03, 0.03), # Adjust the distance of the category names from the circles\n",
    "  main.cex = 1.3, # Increase title size\n",
    "  cat.cex = 1.3, # Increase label size\n",
    "  cat.pos = c(-17, 17), # Position labels more on the top\n",
    "  cex = 1.3, # Increase numbers size\n",
    "  cat.col = c(\"red\", \"blue\") # Set label colors to match circles\n",
    ")\n",
    "\n",
    "# Display the plot\n",
    "grid.draw(venn.plot)"
   ]
  },
  {
   "cell_type": "code",
   "execution_count": 0,
   "metadata": {
    "application/vnd.databricks.v1+cell": {
     "cellMetadata": {
      "byteLimit": 2048000,
      "rowLimit": 10000
     },
     "inputWidgets": {},
     "nuid": "a18b5b85-86d5-4ed8-ae44-00744cbad7b6",
     "showTitle": false,
     "tableResultSettingsMap": {},
     "title": ""
    }
   },
   "outputs": [],
   "source": [
    "common_kc <- p_limma[p_limma$ID %in% p_deseq2$ID & sign(p_limma$NES) == sign(p_deseq2$NES[match(p_limma$ID, p_deseq2$ID)]), ]"
   ]
  },
  {
   "cell_type": "code",
   "execution_count": 0,
   "metadata": {
    "application/vnd.databricks.v1+cell": {
     "cellMetadata": {
      "byteLimit": 2048000,
      "rowLimit": 10000
     },
     "inputWidgets": {},
     "nuid": "a5d887cf-ce42-4aae-ad83-91ad8c905d07",
     "showTitle": false,
     "tableResultSettingsMap": {},
     "title": ""
    }
   },
   "outputs": [],
   "source": [
    "dim(common_kc)"
   ]
  },
  {
   "cell_type": "code",
   "execution_count": 0,
   "metadata": {
    "application/vnd.databricks.v1+cell": {
     "cellMetadata": {
      "byteLimit": 2048000,
      "rowLimit": 10000
     },
     "inputWidgets": {},
     "nuid": "39b970c0-b33d-4374-bec4-ca62717e6fe1",
     "showTitle": false,
     "tableResultSettingsMap": {},
     "title": ""
    }
   },
   "outputs": [],
   "source": [
    "common_kc"
   ]
  },
  {
   "cell_type": "markdown",
   "metadata": {
    "application/vnd.databricks.v1+cell": {
     "cellMetadata": {
      "byteLimit": 2048000,
      "rowLimit": 10000
     },
     "inputWidgets": {},
     "nuid": "1b2fa5fa-5edd-4d86-a048-d6df1ea636fc",
     "showTitle": false,
     "tableResultSettingsMap": {},
     "title": ""
    }
   },
   "source": [
    "##DEGs"
   ]
  },
  {
   "cell_type": "code",
   "execution_count": 0,
   "metadata": {
    "application/vnd.databricks.v1+cell": {
     "cellMetadata": {
      "byteLimit": 2048000,
      "rowLimit": 10000
     },
     "inputWidgets": {},
     "nuid": "82f48a24-5b43-43b2-b9e1-0ec9694df85e",
     "showTitle": false,
     "tableResultSettingsMap": {},
     "title": ""
    }
   },
   "outputs": [],
   "source": [
    "degs_limma.sig <- degs_limma[degs_limma$adj.P.Val < 0.05 & abs(degs_limma$logFC) > 1,]\n",
    "degs_deseq2.sig <- degs_deseq2[degs_deseq2$padj< 0.05 & abs(degs_deseq2$log2FoldChange) > 1,]"
   ]
  },
  {
   "cell_type": "code",
   "execution_count": 0,
   "metadata": {
    "application/vnd.databricks.v1+cell": {
     "cellMetadata": {
      "byteLimit": 2048000,
      "rowLimit": 10000
     },
     "inputWidgets": {},
     "nuid": "21741c96-8c68-4f97-a338-97f9c2c8f5d5",
     "showTitle": false,
     "tableResultSettingsMap": {},
     "title": ""
    }
   },
   "outputs": [],
   "source": [
    "# Create a list of your gene sets\n",
    "gene_sets <- list(\n",
    "  \"DESeq2\" = rownames(degs_deseq2.sig),\n",
    "  \"Limma\" = rownames(degs_limma.sig)\n",
    ")\n",
    "options(repr.plot.width=1000, repr.plot.height=1000)\n",
    "\n",
    "# Create a new plotting page\n",
    "grid.newpage()\n",
    "\n",
    "# Plot the Venn diagram with colors and title\n",
    "venn.plot <- venn.diagram(\n",
    "  x = gene_sets,\n",
    "  category.names = c(\"DESeq2\", \"Limma\"), # Use abbreviated names for legend\n",
    "  filename = NULL,  # Set to NULL to plot in RStudio\n",
    "  output = TRUE,\n",
    "  fill = c(\"red\", \"blue\"), # Add colors\n",
    "  main = \"Common DEGs in KC - AR DESeq2 vs Limma\", # Add title\n",
    "  main.fontface = \"bold\", # Make title bold\n",
    "  cat.dist = c(0.03, 0.03), # Adjust the distance of the category names from the circles\n",
    "  main.cex = 1.3, # Increase title size\n",
    "  cat.cex = 1.3, # Increase label size\n",
    "  cat.pos = c(-17, 17), # Position labels more on the top\n",
    "  cex = 1.3, # Increase numbers size\n",
    "  cat.col = c(\"red\", \"blue\") # Set label colors to match circles\n",
    ")\n",
    "\n",
    "# Display the plot\n",
    "grid.draw(venn.plot)"
   ]
  },
  {
   "cell_type": "markdown",
   "metadata": {
    "application/vnd.databricks.v1+cell": {
     "cellMetadata": {
      "byteLimit": 2048000,
      "rowLimit": 10000
     },
     "inputWidgets": {},
     "nuid": "1d94c836-7e32-4a62-a904-a58883d3b025",
     "showTitle": false,
     "tableResultSettingsMap": {},
     "title": ""
    }
   },
   "source": [
    "#Tcell"
   ]
  },
  {
   "cell_type": "code",
   "execution_count": 0,
   "metadata": {
    "application/vnd.databricks.v1+cell": {
     "cellMetadata": {
      "byteLimit": 2048000,
      "rowLimit": 10000
     },
     "inputWidgets": {},
     "nuid": "3b64e87b-1bcf-4ca3-b22a-82080cc90913",
     "showTitle": false,
     "tableResultSettingsMap": {},
     "title": ""
    }
   },
   "outputs": [],
   "source": [
    "p_deseq2 <- read.xlsx(\"/dbfs/mnt/sandbox/TFM_PAULA/merged_AR_results/GSEA/res_tcell_0.05_AR_.xlsx\", sheet = \"Reactome\")\n",
    "p_limma <- read.xlsx(\"/dbfs/mnt/sandbox/TFM_PAULA/merged_AR_results/GSEA/Limma/res_tcell_0.05_AR_.xlsx\", sheet = \"Reactome\")\n",
    "degs_deseq2 <- read.xlsx(\"/dbfs/mnt/sandbox/TFM_PAULA/merged_AR_results/adjusting_cov_dataset_DEGs/bulk.tcell.de.cov.xlsx\")\n",
    "degs_limma <- read.xlsx(\"/dbfs/mnt/sandbox/TFM_PAULA/merged_AR_results/adjusting_cov_dataset_DEGs/Limma/limma_results_tcell.xlsx\")\n",
    "rownames(degs_deseq2) <- degs_deseq2$gene\n",
    "rownames(degs_limma) <- degs_limma$gene"
   ]
  },
  {
   "cell_type": "markdown",
   "metadata": {
    "application/vnd.databricks.v1+cell": {
     "cellMetadata": {
      "byteLimit": 2048000,
      "rowLimit": 10000
     },
     "inputWidgets": {},
     "nuid": "2c52bbb5-f562-4395-ad0b-915d1386576c",
     "showTitle": false,
     "tableResultSettingsMap": {},
     "title": ""
    }
   },
   "source": [
    "##Pathways"
   ]
  },
  {
   "cell_type": "code",
   "execution_count": 0,
   "metadata": {
    "application/vnd.databricks.v1+cell": {
     "cellMetadata": {
      "byteLimit": 2048000,
      "rowLimit": 10000
     },
     "inputWidgets": {},
     "nuid": "c29e7f2a-f27c-4647-a34b-017ebb6a8001",
     "showTitle": false,
     "tableResultSettingsMap": {},
     "title": ""
    }
   },
   "outputs": [],
   "source": [
    "# Create a list of your gene sets\n",
    "gene_sets <- list(\n",
    "  \"DESeq2\" = p_deseq2$ID,\n",
    "  \"Limma\" = p_limma$ID\n",
    ")\n",
    "options(repr.plot.width=1000, repr.plot.height=1000)\n",
    "\n",
    "# Create a new plotting page\n",
    "grid.newpage()\n",
    "\n",
    "# Plot the Venn diagram with colors and title\n",
    "venn.plot <- venn.diagram(\n",
    "  x = gene_sets,\n",
    "  category.names = c(\"DESeq2\", \"Limma\"), # Use abbreviated names for legend\n",
    "  filename = NULL,  # Set to NULL to plot in RStudio\n",
    "  output = TRUE,\n",
    "  fill = c(\"red\", \"blue\"), # Add colors\n",
    "  main = \"Common pathways in Tcell - AR DESeq2 vs Limma\", # Add title\n",
    "  main.fontface = \"bold\", # Make title bold\n",
    "  cat.dist = c(0.03, 0.03), # Adjust the distance of the category names from the circles\n",
    "  main.cex = 1.3, # Increase title size\n",
    "  cat.cex = 1.3, # Increase label size\n",
    "  cat.pos = c(-17, 17), # Position labels more on the top\n",
    "  cex = 1.3, # Increase numbers size\n",
    "  cat.col = c(\"red\", \"blue\") # Set label colors to match circles\n",
    ")\n",
    "\n",
    "# Display the plot\n",
    "grid.draw(venn.plot)"
   ]
  },
  {
   "cell_type": "code",
   "execution_count": 0,
   "metadata": {
    "application/vnd.databricks.v1+cell": {
     "cellMetadata": {
      "byteLimit": 2048000,
      "rowLimit": 10000
     },
     "inputWidgets": {},
     "nuid": "95d8a05c-1f87-4b44-94b9-7e3453f03679",
     "showTitle": false,
     "tableResultSettingsMap": {},
     "title": ""
    }
   },
   "outputs": [],
   "source": [
    "common_kc <- p_limma[p_limma$ID %in% p_deseq2$ID & sign(p_limma$NES) == sign(p_deseq2$NES[match(p_limma$ID, p_deseq2$ID)]), ]"
   ]
  },
  {
   "cell_type": "code",
   "execution_count": 0,
   "metadata": {
    "application/vnd.databricks.v1+cell": {
     "cellMetadata": {
      "byteLimit": 2048000,
      "rowLimit": 10000
     },
     "inputWidgets": {},
     "nuid": "b54485e5-212f-4b49-b283-2dd596992fcd",
     "showTitle": false,
     "tableResultSettingsMap": {},
     "title": ""
    }
   },
   "outputs": [],
   "source": [
    "dim(common_kc)"
   ]
  },
  {
   "cell_type": "code",
   "execution_count": 0,
   "metadata": {
    "application/vnd.databricks.v1+cell": {
     "cellMetadata": {
      "byteLimit": 2048000,
      "rowLimit": 10000
     },
     "inputWidgets": {},
     "nuid": "957f8d0a-5270-41aa-aa20-f9fa10eb79b6",
     "showTitle": false,
     "tableResultSettingsMap": {},
     "title": ""
    }
   },
   "outputs": [],
   "source": [
    "common_kc"
   ]
  },
  {
   "cell_type": "markdown",
   "metadata": {
    "application/vnd.databricks.v1+cell": {
     "cellMetadata": {
      "byteLimit": 2048000,
      "rowLimit": 10000
     },
     "inputWidgets": {},
     "nuid": "4de623db-e9ef-4174-87f0-558dc486dbff",
     "showTitle": false,
     "tableResultSettingsMap": {},
     "title": ""
    }
   },
   "source": [
    "##DEGs"
   ]
  },
  {
   "cell_type": "code",
   "execution_count": 0,
   "metadata": {
    "application/vnd.databricks.v1+cell": {
     "cellMetadata": {
      "byteLimit": 2048000,
      "rowLimit": 10000
     },
     "inputWidgets": {},
     "nuid": "0eb57195-5e86-4e3f-9760-b83781131c04",
     "showTitle": false,
     "tableResultSettingsMap": {},
     "title": ""
    }
   },
   "outputs": [],
   "source": [
    "degs_limma.sig <- degs_limma[degs_limma$adj.P.Val < 0.05 & abs(degs_limma$logFC) > 1,]\n",
    "degs_deseq2.sig <- degs_deseq2[degs_deseq2$padj< 0.05 & abs(degs_deseq2$log2FoldChange) > 1,]"
   ]
  },
  {
   "cell_type": "code",
   "execution_count": 0,
   "metadata": {
    "application/vnd.databricks.v1+cell": {
     "cellMetadata": {
      "byteLimit": 2048000,
      "rowLimit": 10000
     },
     "inputWidgets": {},
     "nuid": "be792ce9-7f64-4203-bce0-0f5c540b3480",
     "showTitle": false,
     "tableResultSettingsMap": {},
     "title": ""
    }
   },
   "outputs": [],
   "source": [
    "# Create a list of your gene sets\n",
    "gene_sets <- list(\n",
    "  \"DESeq2\" = rownames(degs_deseq2.sig),\n",
    "  \"Limma\" = rownames(degs_limma.sig)\n",
    ")\n",
    "options(repr.plot.width=1000, repr.plot.height=1000)\n",
    "\n",
    "# Create a new plotting page\n",
    "grid.newpage()\n",
    "\n",
    "# Plot the Venn diagram with colors and title\n",
    "venn.plot <- venn.diagram(\n",
    "  x = gene_sets,\n",
    "  category.names = c(\"DESeq2\", \"Limma\"), # Use abbreviated names for legend\n",
    "  filename = NULL,  # Set to NULL to plot in RStudio\n",
    "  output = TRUE,\n",
    "  fill = c(\"red\", \"blue\"), # Add colors\n",
    "  main = \"Common DEGs in Tcell - AR DESeq2 vs Limma\", # Add title\n",
    "  main.fontface = \"bold\", # Make title bold\n",
    "  cat.dist = c(0.03, 0.03), # Adjust the distance of the category names from the circles\n",
    "  main.cex = 1.3, # Increase title size\n",
    "  cat.cex = 1.3, # Increase label size\n",
    "  cat.pos = c(-17, 17), # Position labels more on the top\n",
    "  cex = 1.3, # Increase numbers size\n",
    "  cat.col = c(\"red\", \"blue\") # Set label colors to match circles\n",
    ")\n",
    "\n",
    "# Display the plot\n",
    "grid.draw(venn.plot)"
   ]
  }
 ],
 "metadata": {
  "application/vnd.databricks.v1+notebook": {
   "computePreferences": null,
   "dashboards": [],
   "environmentMetadata": {
    "base_environment": "",
    "environment_version": "2"
   },
   "inputWidgetPreferences": null,
   "language": "r",
   "notebookMetadata": {
    "pythonIndentUnit": 4
   },
   "notebookName": "07.Joint_analysis_deseq2_vs_limma",
   "widgets": {}
  },
  "language_info": {
   "name": "r"
  }
 },
 "nbformat": 4,
 "nbformat_minor": 0
}
