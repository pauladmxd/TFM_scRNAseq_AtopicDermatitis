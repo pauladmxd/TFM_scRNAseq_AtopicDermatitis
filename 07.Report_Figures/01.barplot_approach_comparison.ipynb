{
 "cells": [
  {
   "cell_type": "markdown",
   "metadata": {
    "application/vnd.databricks.v1+cell": {
     "cellMetadata": {
      "byteLimit": 2048000,
      "rowLimit": 10000
     },
     "inputWidgets": {},
     "nuid": "2b6cb421-abb0-44e9-b275-86effc798443",
     "showTitle": false,
     "tableResultSettingsMap": {},
     "title": ""
    }
   },
   "source": [
    "#Barplot approach comparison\n",
    "Create a barplot that compares the number of DEGs obtained on each approach on each cell type"
   ]
  },
  {
   "cell_type": "code",
   "execution_count": 0,
   "metadata": {
    "application/vnd.databricks.v1+cell": {
     "cellMetadata": {
      "byteLimit": 2048000,
      "rowLimit": 10000
     },
     "inputWidgets": {},
     "nuid": "093520e0-9234-4466-8ee2-0d67f62d6ca9",
     "showTitle": false,
     "tableResultSettingsMap": {},
     "title": ""
    }
   },
   "outputs": [],
   "source": [
    ".libPaths(c(\"/dbfs/home/jtrincado@almirall.com/my_r_packages/Seurat\", .libPaths()))\n",
    "library(ggplot2)\n",
    "library(openxlsx)\n",
    "library(dplyr)"
   ]
  },
  {
   "cell_type": "markdown",
   "metadata": {
    "application/vnd.databricks.v1+cell": {
     "cellMetadata": {
      "byteLimit": 2048000,
      "rowLimit": 10000
     },
     "inputWidgets": {},
     "nuid": "e01a73f7-52a9-42be-85a9-21adf89951d6",
     "showTitle": false,
     "tableResultSettingsMap": {},
     "title": ""
    }
   },
   "source": [
    "#DESEQ2"
   ]
  },
  {
   "cell_type": "code",
   "execution_count": 0,
   "metadata": {
    "application/vnd.databricks.v1+cell": {
     "cellMetadata": {
      "byteLimit": 2048000,
      "rowLimit": 10000
     },
     "inputWidgets": {},
     "nuid": "031cd7c9-887c-466a-9132-cc6e4719af22",
     "showTitle": false,
     "tableResultSettingsMap": {},
     "title": ""
    }
   },
   "outputs": [],
   "source": [
    "bulk.fb.de.alkon <- read.xlsx(\"/dbfs/mnt/sandbox/TFM_PAULA/Alkon/pseudobulk/alkon_fb_LvsHC_bulk_v2.xlsx\")\n",
    "bulk.treg.de.alkon <- read.xlsx(\"/dbfs/mnt/sandbox/TFM_PAULA/Alkon/pseudobulk/alkon_treg_LvsHC_bulk_v2.xlsx\")\n",
    "bulk.kc.de.alkon <- read.xlsx(\"/dbfs/mnt/sandbox/TFM_PAULA/Alkon/pseudobulk/alkon_kc_LvsHC_bulk_v2.xlsx\")\n",
    "bulk.tcell.de.alkon <- read.xlsx(\"/dbfs/mnt/sandbox/TFM_PAULA/Alkon/pseudobulk/alkon_tcell_LvsHC_bulk_v2.xlsx\")\n",
    "bulk.macro.de.alkon <- read.xlsx(\"/dbfs/mnt/sandbox/TFM_PAULA/Alkon/pseudobulk/alkon_macro_LvsHC_bulk_v2.xlsx\")"
   ]
  },
  {
   "cell_type": "code",
   "execution_count": 0,
   "metadata": {
    "application/vnd.databricks.v1+cell": {
     "cellMetadata": {
      "byteLimit": 2048000,
      "rowLimit": 10000
     },
     "inputWidgets": {},
     "nuid": "73e343b4-9ada-421b-9fd2-10cfe0894e07",
     "showTitle": false,
     "tableResultSettingsMap": {},
     "title": ""
    }
   },
   "outputs": [],
   "source": [
    "bulk.fb.de.reynolds <- read.xlsx(\"/dbfs/mnt/sandbox/TFM_PAULA/Reynolds/LvsHC/pseudobulk/reynolds_fb_LvsHC_bulk_v2.xlsx\")\n",
    "bulk.treg.de.reynolds <- read.xlsx(\"/dbfs/mnt/sandbox/TFM_PAULA/Reynolds/LvsHC/pseudobulk/reynolds_treg_LvsHC_bulk_v2.xlsx\")\n",
    "bulk.kc.de.reynolds <- read.xlsx(\"/dbfs/mnt/sandbox/TFM_PAULA/Reynolds/LvsHC/pseudobulk/reynolds_kc_LvsHC_bulk_v2.xlsx\")\n",
    "bulk.tcell.de.reynolds <- read.xlsx(\"/dbfs/mnt/sandbox/TFM_PAULA/Reynolds/LvsHC/pseudobulk/reynolds_tcell_LvsHC_bulk_v2.xlsx\")\n",
    "bulk.macro.de.reynolds <- read.xlsx(\"/dbfs/mnt/sandbox/TFM_PAULA/Reynolds/LvsHC/pseudobulk/reynolds_macro_LvsHC_bulk_v2.xlsx\")"
   ]
  },
  {
   "cell_type": "code",
   "execution_count": 0,
   "metadata": {
    "application/vnd.databricks.v1+cell": {
     "cellMetadata": {
      "byteLimit": 2048000,
      "rowLimit": 10000
     },
     "inputWidgets": {},
     "nuid": "e3b3ca94-128f-4dea-8cc0-a43fb33c8266",
     "showTitle": false,
     "tableResultSettingsMap": {},
     "title": ""
    }
   },
   "outputs": [],
   "source": [
    "treg.markers.alkon <- read.xlsx(\"/dbfs/mnt/sandbox/TFM_PAULA/Alkon/alkon_treg_LvsHC_allmarkers.xlsx\")\n",
    "tcell.markers.alkon <- read.xlsx(\"/dbfs/mnt/sandbox/TFM_PAULA/Alkon/alkon_tcell_LvsHC_allmarkers.xlsx\")\n",
    "kc.markers.alkon <- read.xlsx(\"/dbfs/mnt/sandbox/TFM_PAULA/Alkon/alkon_kc_LvsHC_allmarkers.xlsx\")\n",
    "fb.markers.alkon <- read.xlsx(\"/dbfs/mnt/sandbox/TFM_PAULA/Alkon/alkon_fb_LvsHC_allmarkers.xlsx\")\n",
    "macro.markers.alkon <- read.xlsx(\"/dbfs/mnt/sandbox/TFM_PAULA/Alkon/alkon_macro_LvsHC_allmarkers.xlsx\")"
   ]
  },
  {
   "cell_type": "code",
   "execution_count": 0,
   "metadata": {
    "application/vnd.databricks.v1+cell": {
     "cellMetadata": {
      "byteLimit": 2048000,
      "rowLimit": 10000
     },
     "inputWidgets": {},
     "nuid": "b221b7e5-a305-4775-a1e0-4901ca249043",
     "showTitle": false,
     "tableResultSettingsMap": {},
     "title": ""
    }
   },
   "outputs": [],
   "source": [
    "tcell.markers.reynolds <- read.xlsx(\"/dbfs/mnt/sandbox/TFM_PAULA/Reynolds/LvsHC/reynolds_LvsHC_tcell_allmarkers.xlsx\")\n",
    "macro.markers.reynolds <- read.xlsx(\"/dbfs/mnt/sandbox/TFM_PAULA/Reynolds/LvsHC/reynolds_macro_LvsHC_allmarkers.xlsx\")\n",
    "fb.markers.reynolds <- read.xlsx(\"/dbfs/mnt/sandbox/TFM_PAULA/Reynolds/LvsHC/reynolds_fb_LvsHC_allmarkers.xlsx\")\n",
    "kc.markers.reynolds <- read.xlsx(\"/dbfs/mnt/sandbox/TFM_PAULA/Reynolds/LvsHC/reynolds_kc_LvsHC_allmarkers.xlsx\")\n",
    "treg.markers.reynolds <- read.xlsx(\"/dbfs/mnt/sandbox/TFM_PAULA/Reynolds/LvsHC/reynolds_treg_LvsHC_allmarkers.xlsx\")"
   ]
  },
  {
   "cell_type": "code",
   "execution_count": 0,
   "metadata": {
    "application/vnd.databricks.v1+cell": {
     "cellMetadata": {
      "byteLimit": 2048000,
      "rowLimit": 10000
     },
     "inputWidgets": {},
     "nuid": "8e6eae59-379f-461c-9152-06719fc476d1",
     "showTitle": false,
     "tableResultSettingsMap": {},
     "title": ""
    }
   },
   "outputs": [],
   "source": [
    "bulk.fb.de.cov <- read.xlsx(\"/dbfs/mnt/sandbox/TFM_PAULA/merged_AR_results/adjusting_cov_dataset_DEGs/bulk.fb.de.cov.xlsx\")\n",
    "bulk.treg.de.cov <- read.xlsx(\"/dbfs/mnt/sandbox/TFM_PAULA/merged_AR_results/adjusting_cov_dataset_DEGs/bulk.treg.de.cov.xlsx\")\n",
    "bulk.kc.de.cov <- read.xlsx(\"/dbfs/mnt/sandbox/TFM_PAULA/merged_AR_results/adjusting_cov_dataset_DEGs/bulk.kc.de.cov.xlsx\")\n",
    "bulk.tcell.de.cov <- read.xlsx(\"/dbfs/mnt/sandbox/TFM_PAULA/merged_AR_results/adjusting_cov_dataset_DEGs/bulk.tcell.de.cov.xlsx\")\n",
    "bulk.macro.de.cov <- read.xlsx(\"/dbfs/mnt/sandbox/TFM_PAULA/merged_AR_results/adjusting_cov_dataset_DEGs/bulk.macro.de.cov.xlsx\")"
   ]
  },
  {
   "cell_type": "code",
   "execution_count": 0,
   "metadata": {
    "application/vnd.databricks.v1+cell": {
     "cellMetadata": {
      "byteLimit": 2048000,
      "rowLimit": 10000
     },
     "inputWidgets": {},
     "nuid": "48871bb0-92f0-4502-aa4c-915d711662c1",
     "showTitle": false,
     "tableResultSettingsMap": {},
     "title": ""
    }
   },
   "outputs": [],
   "source": [
    "# Add a column to each dataframe to indicate the cell type\n",
    "bulk.fb.de.alkon$CellType <- \"FB\"\n",
    "bulk.treg.de.alkon$CellType <- \"Treg\"\n",
    "bulk.kc.de.alkon$CellType <- \"KC\"\n",
    "bulk.tcell.de.alkon$CellType <- \"Tcell\"\n",
    "bulk.macro.de.alkon$CellType <- \"Macro\"\n",
    "\n",
    "# Combine all dataframes into one\n",
    "all_bulk_markers.alkon <- bind_rows(bulk.fb.de.alkon, bulk.treg.de.alkon, bulk.kc.de.alkon, bulk.tcell.de.alkon, bulk.macro.de.alkon)\n",
    "\n",
    "# Filter p.adj less than 0.05\n",
    "all_bulk_markers.alkon <- all_bulk_markers.alkon %>% filter(p_val_adj < 0.05)"
   ]
  },
  {
   "cell_type": "code",
   "execution_count": 0,
   "metadata": {
    "application/vnd.databricks.v1+cell": {
     "cellMetadata": {
      "byteLimit": 2048000,
      "rowLimit": 10000
     },
     "inputWidgets": {},
     "nuid": "1e499594-2326-411a-a3af-3aa83d988cd3",
     "showTitle": false,
     "tableResultSettingsMap": {},
     "title": ""
    }
   },
   "outputs": [],
   "source": [
    "# Add a column to each dataframe to indicate the cell type\n",
    "bulk.fb.de.reynolds$CellType <- \"FB\"\n",
    "bulk.treg.de.reynolds$CellType <- \"Treg\"\n",
    "bulk.kc.de.reynolds$CellType <- \"KC\"\n",
    "bulk.tcell.de.reynolds$CellType <- \"Tcell\"\n",
    "bulk.macro.de.reynolds$CellType <- \"Macro\"\n",
    "\n",
    "# Combine all dataframes into one\n",
    "all_bulk_markers.reynolds <- bind_rows(bulk.fb.de.reynolds, bulk.treg.de.reynolds, bulk.kc.de.reynolds, bulk.tcell.de.reynolds, bulk.macro.de.reynolds)\n",
    "\n",
    "# Filter p.adj less than 0.05\n",
    "all_bulk_markers.reynolds <- all_bulk_markers.reynolds %>% filter(p_val_adj < 0.05)"
   ]
  },
  {
   "cell_type": "code",
   "execution_count": 0,
   "metadata": {
    "application/vnd.databricks.v1+cell": {
     "cellMetadata": {
      "byteLimit": 2048000,
      "rowLimit": 10000
     },
     "inputWidgets": {},
     "nuid": "1c8e30d6-83fe-4f55-b27e-2304e688e2e6",
     "showTitle": false,
     "tableResultSettingsMap": {},
     "title": ""
    }
   },
   "outputs": [],
   "source": [
    "library(dplyr)\n",
    "\n",
    "# Add a column to each dataframe to indicate the cell type\n",
    "treg.markers.alkon$CellType <- \"Treg\"\n",
    "tcell.markers.alkon$CellType <- \"Tcell\"\n",
    "kc.markers.alkon$CellType <- \"KC\"\n",
    "fb.markers.alkon$CellType <- \"FB\"\n",
    "macro.markers.alkon$CellType <- \"Macro\"\n",
    "\n",
    "# Combine all dataframes into one\n",
    "all_markers.alkon <- bind_rows(treg.markers.alkon, tcell.markers.alkon, kc.markers.alkon, fb.markers.alkon, macro.markers.alkon)\n",
    "\n",
    "# Filter p.adj less than 0.05\n",
    "all_markers.alkon <- all_markers.alkon %>% filter(p_val_adj < 0.05)"
   ]
  },
  {
   "cell_type": "code",
   "execution_count": 0,
   "metadata": {
    "application/vnd.databricks.v1+cell": {
     "cellMetadata": {
      "byteLimit": 2048000,
      "rowLimit": 10000
     },
     "inputWidgets": {},
     "nuid": "903d076c-d61d-43b9-81a5-abf0666eadb0",
     "showTitle": false,
     "tableResultSettingsMap": {},
     "title": ""
    }
   },
   "outputs": [],
   "source": [
    "\n",
    "tcell.markers.reynolds$CellType <- \"Tcell\"\n",
    "macro.markers.reynolds$CellType <- \"Macro\"\n",
    "fb.markers.reynolds$CellType <- \"FB\"\n",
    "kc.markers.reynolds$CellType <- \"KC\"\n",
    "treg.markers.reynolds$CellType <- \"Treg\"\n",
    "\n",
    "# Combine all dataframes into one\n",
    "all_markers.reynolds <- bind_rows(treg.markers.reynolds, tcell.markers.reynolds, kc.markers.reynolds, fb.markers.reynolds, macro.markers.reynolds)\n",
    "\n",
    "# Filter p.adj less than 0.05\n",
    "all_markers.reynolds <- all_markers.reynolds %>% filter(p_val_adj < 0.05)"
   ]
  },
  {
   "cell_type": "code",
   "execution_count": 0,
   "metadata": {
    "application/vnd.databricks.v1+cell": {
     "cellMetadata": {
      "byteLimit": 2048000,
      "rowLimit": 10000
     },
     "inputWidgets": {},
     "nuid": "fb4fb3ed-eba4-41cf-8624-85cbd0afba5f",
     "showTitle": false,
     "tableResultSettingsMap": {},
     "title": ""
    }
   },
   "outputs": [],
   "source": [
    "# Add a column to each dataframe to indicate the cell type\n",
    "bulk.fb.de.cov$CellType <- \"FB\"\n",
    "bulk.treg.de.cov$CellType <- \"Treg\"\n",
    "bulk.kc.de.cov$CellType <- \"KC\"\n",
    "bulk.tcell.de.cov$CellType <- \"Tcell\"\n",
    "bulk.macro.de.cov$CellType <- \"Macro\"\n",
    "\n",
    "# Combine all dataframes into one\n",
    "all_bulk_markers.cov <- bind_rows(bulk.fb.de.cov, bulk.treg.de.cov, bulk.kc.de.cov, bulk.tcell.de.cov, bulk.macro.de.cov)\n",
    "\n",
    "# Filter p.adj less than 0.05\n",
    "all_bulk_markers.cov <- all_bulk_markers.cov %>% filter(padj < 0.05)"
   ]
  },
  {
   "cell_type": "code",
   "execution_count": 0,
   "metadata": {
    "application/vnd.databricks.v1+cell": {
     "cellMetadata": {
      "byteLimit": 2048000,
      "rowLimit": 10000
     },
     "inputWidgets": {},
     "nuid": "20bd20be-b7ac-4313-8e14-5eb8a11bf146",
     "showTitle": false,
     "tableResultSettingsMap": {},
     "title": ""
    }
   },
   "outputs": [],
   "source": [
    "unique(all_markers.reynolds$cluster)"
   ]
  },
  {
   "cell_type": "code",
   "execution_count": 0,
   "metadata": {
    "application/vnd.databricks.v1+cell": {
     "cellMetadata": {
      "byteLimit": 2048000,
      "rowLimit": 10000
     },
     "inputWidgets": {},
     "nuid": "bfce4562-6f8a-4ef5-ba05-6f536dbe71b7",
     "showTitle": false,
     "tableResultSettingsMap": {},
     "title": ""
    }
   },
   "outputs": [],
   "source": [
    "all_markers.alkon$Approach <- \"FindAllMarkers_Alkon\"\n",
    "all_markers.reynolds$Approach <- \"FindAllMarkers_Reynolds\"\n",
    "all_bulk_markers.alkon$Approach <- \"DESeq2_Pseudobulk_Alkon\"\n",
    "all_bulk_markers.reynolds$Approach <- \"DESeq2_Pseudobulk_Reynolds\"\n",
    "all_bulk_markers.cov$Approach <- \"DESeq2_Merged_Adjusted\"\n",
    "\n",
    "all_bulk_markers.cov <- all_bulk_markers.cov %>%\n",
    "  rename(avg_log2FC = log2FoldChange)\n",
    "\n",
    "all_markers.alkon <- all_markers.alkon %>%\n",
    "  mutate(avg_log2FC = ifelse(cluster == \"HC\", -avg_log2FC, avg_log2FC))\n",
    "\n",
    "all_markers.reynolds <- all_markers.reynolds %>%\n",
    "  mutate(avg_log2FC = ifelse(cluster == \"healthy\", -avg_log2FC, avg_log2FC))\n",
    "\n",
    "combined_markers <- bind_rows(all_markers.alkon, all_markers.reynolds, all_bulk_markers.alkon, all_bulk_markers.reynolds, all_bulk_markers.cov)\n",
    "\n",
    "combined_markers_1 <- bind_rows(all_markers.alkon, all_markers.reynolds, all_bulk_markers.alkon, all_bulk_markers.reynolds)"
   ]
  },
  {
   "cell_type": "code",
   "execution_count": 0,
   "metadata": {
    "application/vnd.databricks.v1+cell": {
     "cellMetadata": {
      "byteLimit": 2048000,
      "rowLimit": 10000
     },
     "inputWidgets": {},
     "nuid": "bb0b11c5-e83c-4acd-9c48-2960c2287b4c",
     "showTitle": false,
     "tableResultSettingsMap": {},
     "title": ""
    }
   },
   "outputs": [],
   "source": [
    "# Calculate total number of DEGs up and down\n",
    "combined_markers <- combined_markers %>%\n",
    "  group_by(CellType, Approach) %>%\n",
    "  mutate(total_degs_up = sum(avg_log2FC > 0),\n",
    "         total_degs_down = sum(avg_log2FC < 0))\n",
    "\n",
    "# Set factor levels for Approach to desired order\n",
    "combined_markers$Approach <- factor(combined_markers$Approach, levels = c(\"FindAllMarkers_Alkon\", \"DESeq2_Pseudobulk_Alkon\", \"FindAllMarkers_Reynolds\", \"DESeq2_Pseudobulk_Reynolds\", \"DESeq2_Merged_Adjusted\"))"
   ]
  },
  {
   "cell_type": "code",
   "execution_count": 0,
   "metadata": {
    "application/vnd.databricks.v1+cell": {
     "cellMetadata": {
      "byteLimit": 2048000,
      "rowLimit": 10000
     },
     "inputWidgets": {},
     "nuid": "90146210-7953-4d22-83f9-a5a3c4bb121b",
     "showTitle": false,
     "tableResultSettingsMap": {},
     "title": ""
    }
   },
   "outputs": [],
   "source": [
    "\n",
    "options(repr.plot.width=1300, repr.plot.height=700)"
   ]
  },
  {
   "cell_type": "code",
   "execution_count": 0,
   "metadata": {
    "application/vnd.databricks.v1+cell": {
     "cellMetadata": {
      "byteLimit": 2048000,
      "rowLimit": 10000
     },
     "inputWidgets": {},
     "nuid": "924c57ec-de8f-41f3-be00-75edb27e2525",
     "showTitle": false,
     "tableResultSettingsMap": {},
     "title": ""
    }
   },
   "outputs": [],
   "source": [
    "library(tidyverse)\n",
    "\n",
    "# Combine up and down DEGs into a long format\n",
    "plot_data <- combined_markers %>%\n",
    "  distinct(CellType, Approach, total_degs_up, total_degs_down) %>%\n",
    "  pivot_longer(cols = c(total_degs_up, total_degs_down), \n",
    "               names_to = \"Direction\", values_to = \"Count\") %>%\n",
    "  mutate(Count = ifelse(Direction == \"total_degs_down\", -Count, Count),\n",
    "         Direction = recode(Direction, \n",
    "                            \"total_degs_up\" = \"Upregulated\", \n",
    "                            \"total_degs_down\" = \"Downregulated\"))\n",
    "\n",
    "# Plot\n",
    "ggplot(plot_data, aes(x = CellType, y = Count, fill = Approach)) +\n",
    "  geom_bar(stat = \"identity\", position = position_dodge(width = 0.9)) +\n",
    "  geom_text(aes(label = abs(Count), vjust = ifelse(Count > 0, -0.3, 1.3)),\n",
    "            size = 3, position = position_dodge(width = 0.9)) +\n",
    "  geom_hline(yintercept = 0, linetype = \"dashed\", color = \"red\") +\n",
    "  facet_wrap(~Approach, scales = \"free_x\", nrow = 1) +\n",
    "  scale_fill_manual(values = c(\n",
    "    \"FindAllMarkers_Alkon\" = \"#4CAF50\",\n",
    "    \"DESeq2_Pseudobulk_Alkon\" = \"#006400\",\n",
    "    \"FindAllMarkers_Reynolds\" = \"#FF9800\",\n",
    "    \"DESeq2_Pseudobulk_Reynolds\" = \"#A35011\",\n",
    "    \"DESeq2_Merged_Adjusted\" = \"#0000FF\"\n",
    "  )) +\n",
    "  theme_minimal() +\n",
    "  labs(title = \"Number of DEGs per cell type, dataset and approach\",\n",
    "       y = \"Number of DEGs\", x = NULL) +\n",
    "  theme(axis.text.x = element_text(angle = 90, hjust = 1, size = 12),\n",
    "        strip.text =  element_text(hjust = 1, size = 7))"
   ]
  },
  {
   "cell_type": "markdown",
   "metadata": {
    "application/vnd.databricks.v1+cell": {
     "cellMetadata": {
      "byteLimit": 2048000,
      "rowLimit": 10000
     },
     "inputWidgets": {},
     "nuid": "65be1fc4-c265-43fa-a034-d08b0717ead6",
     "showTitle": false,
     "tableResultSettingsMap": {},
     "title": ""
    }
   },
   "source": [
    "#Limma"
   ]
  },
  {
   "cell_type": "code",
   "execution_count": 0,
   "metadata": {
    "application/vnd.databricks.v1+cell": {
     "cellMetadata": {
      "byteLimit": 2048000,
      "rowLimit": 10000
     },
     "inputWidgets": {},
     "nuid": "c7a0831d-7d5b-4b9e-8f57-0e1cc1873786",
     "showTitle": false,
     "tableResultSettingsMap": {},
     "title": ""
    }
   },
   "outputs": [],
   "source": [
    "bulk.fb.de.alkon <- read.xlsx(\"/dbfs/mnt/sandbox/TFM_PAULA/Alkon/pseudobulk/alkon_limma_results_FB.xlsx\")\n",
    "bulk.treg.de.alkon <- read.xlsx(\"/dbfs/mnt/sandbox/TFM_PAULA/Alkon/pseudobulk/alkon_limma_results_treg.xlsx\")\n",
    "bulk.kc.de.alkon <- read.xlsx(\"/dbfs/mnt/sandbox/TFM_PAULA/Alkon/pseudobulk/alkon_limma_results_kc.xlsx\")\n",
    "bulk.tcell.de.alkon <- read.xlsx(\"/dbfs/mnt/sandbox/TFM_PAULA/Alkon/pseudobulk/alkon_limma_results_tcell.xlsx\")\n",
    "bulk.macro.de.alkon <- read.xlsx(\"/dbfs/mnt/sandbox/TFM_PAULA/Alkon/pseudobulk/alkon_limma_results_macro.xlsx\")"
   ]
  },
  {
   "cell_type": "code",
   "execution_count": 0,
   "metadata": {
    "application/vnd.databricks.v1+cell": {
     "cellMetadata": {
      "byteLimit": 2048000,
      "rowLimit": 10000
     },
     "inputWidgets": {},
     "nuid": "a5ab9946-74d7-4a9e-a268-f6c8c9a62d44",
     "showTitle": false,
     "tableResultSettingsMap": {},
     "title": ""
    }
   },
   "outputs": [],
   "source": [
    "bulk.fb.de.reynolds <- read.xlsx(\"/dbfs/mnt/sandbox/TFM_PAULA/Reynolds/LvsHC/pseudobulk/reynolds_limma_results_FB.xlsx\")\n",
    "bulk.treg.de.reynolds <- read.xlsx(\"/dbfs/mnt/sandbox/TFM_PAULA/Reynolds/LvsHC/pseudobulk/reynolds_limma_results_treg.xlsx\")\n",
    "bulk.kc.de.reynolds <- read.xlsx(\"/dbfs/mnt/sandbox/TFM_PAULA/Reynolds/LvsHC/pseudobulk/reynolds_limma_results_kc.xlsx\")\n",
    "bulk.tcell.de.reynolds <- read.xlsx(\"/dbfs/mnt/sandbox/TFM_PAULA/Reynolds/LvsHC/pseudobulk/reynolds_limma_results_tcell.xlsx\")\n",
    "bulk.macro.de.reynolds <- read.xlsx(\"/dbfs/mnt/sandbox/TFM_PAULA/Reynolds/LvsHC/pseudobulk/reynolds_limma_results_macro.xlsx\")"
   ]
  },
  {
   "cell_type": "code",
   "execution_count": 0,
   "metadata": {
    "application/vnd.databricks.v1+cell": {
     "cellMetadata": {
      "byteLimit": 2048000,
      "rowLimit": 10000
     },
     "inputWidgets": {},
     "nuid": "e259efdb-3e7f-48bc-815a-518d24c2b060",
     "showTitle": false,
     "tableResultSettingsMap": {},
     "title": ""
    }
   },
   "outputs": [],
   "source": [
    "treg.markers.alkon <- read.xlsx(\"/dbfs/mnt/sandbox/TFM_PAULA/Alkon/alkon_treg_LvsHC_allmarkers.xlsx\")\n",
    "tcell.markers.alkon <- read.xlsx(\"/dbfs/mnt/sandbox/TFM_PAULA/Alkon/alkon_tcell_LvsHC_allmarkers.xlsx\")\n",
    "kc.markers.alkon <- read.xlsx(\"/dbfs/mnt/sandbox/TFM_PAULA/Alkon/alkon_kc_LvsHC_allmarkers.xlsx\")\n",
    "fb.markers.alkon <- read.xlsx(\"/dbfs/mnt/sandbox/TFM_PAULA/Alkon/alkon_fb_LvsHC_allmarkers.xlsx\")\n",
    "macro.markers.alkon <- read.xlsx(\"/dbfs/mnt/sandbox/TFM_PAULA/Alkon/alkon_macro_LvsHC_allmarkers.xlsx\")"
   ]
  },
  {
   "cell_type": "code",
   "execution_count": 0,
   "metadata": {
    "application/vnd.databricks.v1+cell": {
     "cellMetadata": {
      "byteLimit": 2048000,
      "rowLimit": 10000
     },
     "inputWidgets": {},
     "nuid": "548b1eb6-5c83-4628-9a98-915284a0fe20",
     "showTitle": false,
     "tableResultSettingsMap": {},
     "title": ""
    }
   },
   "outputs": [],
   "source": [
    "tcell.markers.reynolds <- read.xlsx(\"/dbfs/mnt/sandbox/TFM_PAULA/Reynolds/LvsHC/reynolds_LvsHC_tcell_allmarkers.xlsx\")\n",
    "macro.markers.reynolds <- read.xlsx(\"/dbfs/mnt/sandbox/TFM_PAULA/Reynolds/LvsHC/reynolds_macro_LvsHC_allmarkers.xlsx\")\n",
    "fb.markers.reynolds <- read.xlsx(\"/dbfs/mnt/sandbox/TFM_PAULA/Reynolds/LvsHC/reynolds_fb_LvsHC_allmarkers.xlsx\")\n",
    "kc.markers.reynolds <- read.xlsx(\"/dbfs/mnt/sandbox/TFM_PAULA/Reynolds/LvsHC/reynolds_kc_LvsHC_allmarkers.xlsx\")\n",
    "treg.markers.reynolds <- read.xlsx(\"/dbfs/mnt/sandbox/TFM_PAULA/Reynolds/LvsHC/reynolds_treg_LvsHC_allmarkers.xlsx\")"
   ]
  },
  {
   "cell_type": "code",
   "execution_count": 0,
   "metadata": {
    "application/vnd.databricks.v1+cell": {
     "cellMetadata": {
      "byteLimit": 2048000,
      "rowLimit": 10000
     },
     "inputWidgets": {},
     "nuid": "fe870c6e-e866-440f-8fd8-ab5ba529498f",
     "showTitle": false,
     "tableResultSettingsMap": {},
     "title": ""
    }
   },
   "outputs": [],
   "source": [
    "bulk.fb.de.cov <- read.xlsx(\"/dbfs/mnt/sandbox/TFM_PAULA/merged_AR_results/adjusting_cov_dataset_DEGs/Limma/limma_results_FB.xlsx\")\n",
    "bulk.treg.de.cov <- read.xlsx(\"/dbfs/mnt/sandbox/TFM_PAULA/merged_AR_results/adjusting_cov_dataset_DEGs/Limma/limma_results_treg.xlsx\")\n",
    "bulk.kc.de.cov <- read.xlsx(\"/dbfs/mnt/sandbox/TFM_PAULA/merged_AR_results/adjusting_cov_dataset_DEGs/Limma/limma_results_kc.xlsx\")\n",
    "bulk.tcell.de.cov <- read.xlsx(\"/dbfs/mnt/sandbox/TFM_PAULA/merged_AR_results/adjusting_cov_dataset_DEGs/Limma/limma_results_tcell.xlsx\")\n",
    "bulk.macro.de.cov <- read.xlsx(\"/dbfs/mnt/sandbox/TFM_PAULA/merged_AR_results/adjusting_cov_dataset_DEGs/Limma/limma_results_macro.xlsx\")"
   ]
  },
  {
   "cell_type": "code",
   "execution_count": 0,
   "metadata": {
    "application/vnd.databricks.v1+cell": {
     "cellMetadata": {
      "byteLimit": 2048000,
      "rowLimit": 10000
     },
     "inputWidgets": {},
     "nuid": "7ffdd1f9-21b9-49e2-a5fd-51679125007f",
     "showTitle": false,
     "tableResultSettingsMap": {},
     "title": ""
    }
   },
   "outputs": [],
   "source": [
    "# Add a column to each dataframe to indicate the cell type\n",
    "bulk.fb.de.alkon$CellType <- \"FB\"\n",
    "bulk.treg.de.alkon$CellType <- \"Treg\"\n",
    "bulk.kc.de.alkon$CellType <- \"KC\"\n",
    "bulk.tcell.de.alkon$CellType <- \"Tcell\"\n",
    "bulk.macro.de.alkon$CellType <- \"Macro\"\n",
    "\n",
    "# Combine all dataframes into one\n",
    "all_bulk_markers.alkon <- bind_rows(bulk.fb.de.alkon, bulk.treg.de.alkon, bulk.kc.de.alkon, bulk.tcell.de.alkon, bulk.macro.de.alkon)\n",
    "\n",
    "# Filter p.adj less than 0.05\n",
    "all_bulk_markers.alkon <- all_bulk_markers.alkon %>% filter(adj.P.Val < 0.05)"
   ]
  },
  {
   "cell_type": "code",
   "execution_count": 0,
   "metadata": {
    "application/vnd.databricks.v1+cell": {
     "cellMetadata": {
      "byteLimit": 2048000,
      "rowLimit": 10000
     },
     "inputWidgets": {},
     "nuid": "f5e29741-d969-4d37-9376-b8b409d5b58e",
     "showTitle": false,
     "tableResultSettingsMap": {},
     "title": ""
    }
   },
   "outputs": [],
   "source": [
    "# Add a column to each dataframe to indicate the cell type\n",
    "bulk.fb.de.reynolds$CellType <- \"FB\"\n",
    "bulk.treg.de.reynolds$CellType <- \"Treg\"\n",
    "bulk.kc.de.reynolds$CellType <- \"KC\"\n",
    "bulk.tcell.de.reynolds$CellType <- \"Tcell\"\n",
    "bulk.macro.de.reynolds$CellType <- \"Macro\"\n",
    "\n",
    "# Combine all dataframes into one\n",
    "all_bulk_markers.reynolds <- bind_rows(bulk.fb.de.reynolds, bulk.treg.de.reynolds, bulk.kc.de.reynolds, bulk.tcell.de.reynolds, bulk.macro.de.reynolds)\n",
    "\n",
    "# Filter p.adj less than 0.05\n",
    "all_bulk_markers.reynolds <- all_bulk_markers.reynolds %>% filter(adj.P.Val < 0.05)"
   ]
  },
  {
   "cell_type": "code",
   "execution_count": 0,
   "metadata": {
    "application/vnd.databricks.v1+cell": {
     "cellMetadata": {
      "byteLimit": 2048000,
      "rowLimit": 10000
     },
     "inputWidgets": {},
     "nuid": "cc3f87f2-0060-4677-a741-5000490ebf19",
     "showTitle": false,
     "tableResultSettingsMap": {},
     "title": ""
    }
   },
   "outputs": [],
   "source": [
    "library(dplyr)\n",
    "\n",
    "# Add a column to each dataframe to indicate the cell type\n",
    "treg.markers.alkon$CellType <- \"Treg\"\n",
    "tcell.markers.alkon$CellType <- \"Tcell\"\n",
    "kc.markers.alkon$CellType <- \"KC\"\n",
    "fb.markers.alkon$CellType <- \"FB\"\n",
    "macro.markers.alkon$CellType <- \"Macro\"\n",
    "\n",
    "# Combine all dataframes into one\n",
    "all_markers.alkon <- bind_rows(treg.markers.alkon, tcell.markers.alkon, kc.markers.alkon, fb.markers.alkon, macro.markers.alkon)\n",
    "\n",
    "# Filter p.adj less than 0.05\n",
    "all_markers.alkon <- all_markers.alkon %>% filter(p_val_adj < 0.05)"
   ]
  },
  {
   "cell_type": "code",
   "execution_count": 0,
   "metadata": {
    "application/vnd.databricks.v1+cell": {
     "cellMetadata": {
      "byteLimit": 2048000,
      "rowLimit": 10000
     },
     "inputWidgets": {},
     "nuid": "554ac3a6-a85f-4e85-b3fa-10932cb37d95",
     "showTitle": false,
     "tableResultSettingsMap": {},
     "title": ""
    }
   },
   "outputs": [],
   "source": [
    "\n",
    "tcell.markers.reynolds$CellType <- \"Tcell\"\n",
    "macro.markers.reynolds$CellType <- \"Macro\"\n",
    "fb.markers.reynolds$CellType <- \"FB\"\n",
    "kc.markers.reynolds$CellType <- \"KC\"\n",
    "treg.markers.reynolds$CellType <- \"Treg\"\n",
    "\n",
    "# Combine all dataframes into one\n",
    "all_markers.reynolds <- bind_rows(treg.markers.reynolds, tcell.markers.reynolds, kc.markers.reynolds, fb.markers.reynolds, macro.markers.reynolds)\n",
    "\n",
    "# Filter p.adj less than 0.05\n",
    "all_markers.reynolds <- all_markers.reynolds %>% filter(p_val_adj < 0.05)"
   ]
  },
  {
   "cell_type": "code",
   "execution_count": 0,
   "metadata": {
    "application/vnd.databricks.v1+cell": {
     "cellMetadata": {
      "byteLimit": 2048000,
      "rowLimit": 10000
     },
     "inputWidgets": {},
     "nuid": "a53fb6f1-2353-4a5d-9a66-9618f4f8b748",
     "showTitle": false,
     "tableResultSettingsMap": {},
     "title": ""
    }
   },
   "outputs": [],
   "source": [
    "# Add a column to each dataframe to indicate the cell type\n",
    "bulk.fb.de.cov$CellType <- \"FB\"\n",
    "bulk.treg.de.cov$CellType <- \"Treg\"\n",
    "bulk.kc.de.cov$CellType <- \"KC\"\n",
    "bulk.tcell.de.cov$CellType <- \"Tcell\"\n",
    "bulk.macro.de.cov$CellType <- \"Macro\"\n",
    "\n",
    "# Combine all dataframes into one\n",
    "all_bulk_markers.cov <- bind_rows(bulk.fb.de.cov, bulk.treg.de.cov, bulk.kc.de.cov, bulk.tcell.de.cov, bulk.macro.de.cov)\n",
    "\n",
    "# Filter p.adj less than 0.05\n",
    "all_bulk_markers.cov <- all_bulk_markers.cov %>% filter(adj.P.Val < 0.05)"
   ]
  },
  {
   "cell_type": "code",
   "execution_count": 0,
   "metadata": {
    "application/vnd.databricks.v1+cell": {
     "cellMetadata": {
      "byteLimit": 2048000,
      "rowLimit": 10000
     },
     "inputWidgets": {},
     "nuid": "7e53965b-0b51-40ff-b9c6-9dc6f418d352",
     "showTitle": false,
     "tableResultSettingsMap": {},
     "title": ""
    }
   },
   "outputs": [],
   "source": [
    "unique(all_markers.reynolds$cluster)"
   ]
  },
  {
   "cell_type": "code",
   "execution_count": 0,
   "metadata": {
    "application/vnd.databricks.v1+cell": {
     "cellMetadata": {
      "byteLimit": 2048000,
      "rowLimit": 10000
     },
     "inputWidgets": {},
     "nuid": "0a61d9e4-c19d-461f-a289-fe5721985226",
     "showTitle": false,
     "tableResultSettingsMap": {},
     "title": ""
    }
   },
   "outputs": [],
   "source": [
    "all_markers.alkon$Approach <- \"FindAllMarkers_Alkon\"\n",
    "all_markers.reynolds$Approach <- \"FindAllMarkers_Reynolds\"\n",
    "all_bulk_markers.alkon$Approach <- \"Limma_Pseudobulk_Alkon\"\n",
    "all_bulk_markers.reynolds$Approach <- \"Limma_Pseudobulk_Reynolds\"\n",
    "all_bulk_markers.cov$Approach <- \"Limma_Merged_Adjusted\"\n",
    "\n",
    "all_bulk_markers.cov <- all_bulk_markers.cov %>%\n",
    "  rename(avg_log2FC = logFC)\n",
    "all_bulk_markers.reynolds <- all_bulk_markers.reynolds %>%\n",
    "  rename(avg_log2FC = logFC)\n",
    "  all_bulk_markers.alkon <- all_bulk_markers.alkon %>%\n",
    "  rename(avg_log2FC = logFC)\n",
    "\n",
    "all_markers.alkon <- all_markers.alkon %>%\n",
    "  mutate(avg_log2FC = ifelse(cluster == \"HC\", -avg_log2FC, avg_log2FC))\n",
    "\n",
    "all_markers.reynolds <- all_markers.reynolds %>%\n",
    "  mutate(avg_log2FC = ifelse(cluster == \"healthy\", -avg_log2FC, avg_log2FC))\n",
    "\n",
    "combined_markers <- bind_rows(all_markers.alkon, all_markers.reynolds, all_bulk_markers.alkon, all_bulk_markers.reynolds, all_bulk_markers.cov)\n",
    "\n",
    "combined_markers_1 <- bind_rows(all_markers.alkon, all_markers.reynolds, all_bulk_markers.alkon, all_bulk_markers.reynolds)"
   ]
  },
  {
   "cell_type": "code",
   "execution_count": 0,
   "metadata": {
    "application/vnd.databricks.v1+cell": {
     "cellMetadata": {
      "byteLimit": 2048000,
      "rowLimit": 10000
     },
     "inputWidgets": {},
     "nuid": "df40ee4b-cc33-4710-b3f5-f9a5455cf6bc",
     "showTitle": false,
     "tableResultSettingsMap": {},
     "title": ""
    }
   },
   "outputs": [],
   "source": [
    "# Calculate total number of DEGs up and down\n",
    "combined_markers <- combined_markers %>%\n",
    "  group_by(CellType, Approach) %>%\n",
    "  mutate(total_degs_up = sum(avg_log2FC > 0),\n",
    "         total_degs_down = sum(avg_log2FC < 0))\n",
    "\n",
    "# Set factor levels for Approach to desired order\n",
    "combined_markers$Approach <- factor(combined_markers$Approach, levels = c(\"FindAllMarkers_Alkon\", \"Limma_Pseudobulk_Alkon\", \"FindAllMarkers_Reynolds\", \"Limma_Pseudobulk_Reynolds\", \"Limma_Merged_Adjusted\"))\n",
    "\n",
    "# Calculate total number of DEGs up and down\n",
    "combined_markers_1 <- combined_markers_1 %>%\n",
    "  group_by(CellType, Approach) %>%\n",
    "  mutate(total_degs_up = sum(avg_log2FC > 0),\n",
    "         total_degs_down = sum(avg_log2FC < 0))\n",
    "\n",
    "# Set factor levels for Approach to desired order\n",
    "combined_markers_1$Approach <- factor(combined_markers_1$Approach, levels = c(\"FindAllMarkers_Alkon\", \"Limma_Pseudobulk_Alkon\", \"FindAllMarkers_Reynolds\", \"Limma_Pseudobulk_Reynolds\"))"
   ]
  },
  {
   "cell_type": "code",
   "execution_count": 0,
   "metadata": {
    "application/vnd.databricks.v1+cell": {
     "cellMetadata": {
      "byteLimit": 2048000,
      "rowLimit": 10000
     },
     "inputWidgets": {},
     "nuid": "295d5fd6-96d2-44c3-83a8-7def059b1b44",
     "showTitle": false,
     "tableResultSettingsMap": {},
     "title": ""
    }
   },
   "outputs": [],
   "source": [
    "combined_markers[combined_markers$Approach == \"Pseudobulk_Reynolds\",]"
   ]
  },
  {
   "cell_type": "code",
   "execution_count": 0,
   "metadata": {
    "application/vnd.databricks.v1+cell": {
     "cellMetadata": {
      "byteLimit": 2048000,
      "rowLimit": 10000
     },
     "inputWidgets": {},
     "nuid": "f64e6f9e-9790-4161-a1cd-fd78f3bf467d",
     "showTitle": false,
     "tableResultSettingsMap": {},
     "title": ""
    }
   },
   "outputs": [],
   "source": [
    "\n",
    "options(repr.plot.width=1300, repr.plot.height=700)"
   ]
  },
  {
   "cell_type": "code",
   "execution_count": 0,
   "metadata": {
    "application/vnd.databricks.v1+cell": {
     "cellMetadata": {
      "byteLimit": 2048000,
      "rowLimit": 10000
     },
     "inputWidgets": {},
     "nuid": "0256ccd2-4a14-4d87-b82d-31b7d1aa9f84",
     "showTitle": false,
     "tableResultSettingsMap": {},
     "title": ""
    }
   },
   "outputs": [],
   "source": [
    "library(tidyverse)\n",
    " \n",
    "# Combine up and down DEGs into a long format\n",
    "plot_data <- combined_markers %>%\n",
    "  distinct(CellType, Approach, total_degs_up, total_degs_down) %>%\n",
    "  pivot_longer(cols = c(total_degs_up, total_degs_down), \n",
    "               names_to = \"Direction\", values_to = \"Count\") %>%\n",
    "  mutate(Count = ifelse(Direction == \"total_degs_down\", -Count, Count),\n",
    "         Direction = recode(Direction, \n",
    "                            \"total_degs_up\" = \"Upregulated\", \n",
    "                            \"total_degs_down\" = \"Downregulated\"))\n",
    "\n",
    "# Plot\n",
    "ggplot(plot_data, aes(x = CellType, y = Count, fill = Approach)) +\n",
    "  geom_bar(stat = \"identity\", position = position_dodge(width = 0.9)) +\n",
    "  geom_text(aes(label = abs(Count), vjust = ifelse(Count > 0, -0.3, 1.3)),\n",
    "            size = 3, position = position_dodge(width = 0.9)) +\n",
    "  geom_hline(yintercept = 0, linetype = \"dashed\", color = \"red\") +\n",
    "  facet_wrap(~Approach, scales = \"free_x\", nrow = 1) +\n",
    "  scale_fill_manual(values = c(\n",
    "    \"FindAllMarkers_Alkon\" = \"#4CAF50\",\n",
    "    \"Limma_Pseudobulk_Alkon\" = \"#006400\",\n",
    "    \"FindAllMarkers_Reynolds\" = \"#FF9800\",\n",
    "    \"Limma_Pseudobulk_Reynolds\" = \"#A35011\",\n",
    "    \"Limma_Merged_Adjusted\" = \"#0000FF\"\n",
    "  )) +\n",
    "  theme_minimal() +\n",
    "  labs(title = \"Number of DEGs per cell type, dataset and approach\",\n",
    "       y = \"Number of DEGs\", x = NULL) +\n",
    " theme(axis.text.x = element_text(angle = 90, hjust = 1, size = 12),\n",
    "        strip.text =  element_text(hjust = 1, size = 7))"
   ]
  }
 ],
 "metadata": {
  "application/vnd.databricks.v1+notebook": {
   "computePreferences": null,
   "dashboards": [],
   "environmentMetadata": {
    "base_environment": "",
    "environment_version": "2"
   },
   "inputWidgetPreferences": null,
   "language": "r",
   "notebookMetadata": {
    "pythonIndentUnit": 4
   },
   "notebookName": "01.barplot_approach_comparison",
   "widgets": {}
  },
  "language_info": {
   "name": "r"
  }
 },
 "nbformat": 4,
 "nbformat_minor": 0
}
