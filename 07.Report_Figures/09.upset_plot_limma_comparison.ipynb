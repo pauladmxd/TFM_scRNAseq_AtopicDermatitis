{
 "cells": [
  {
   "cell_type": "markdown",
   "metadata": {
    "application/vnd.databricks.v1+cell": {
     "cellMetadata": {
      "byteLimit": 2048000,
      "rowLimit": 10000
     },
     "inputWidgets": {},
     "nuid": "0693dc30-755c-4145-926f-a7c729e839f4",
     "showTitle": false,
     "tableResultSettingsMap": {},
     "title": ""
    }
   },
   "source": [
    "#Generation of upset plots to compare the performance of the different approaches:\n",
    "- Pseudobulk Reynolds only\n",
    "- Pseudobulk Alkon only\n",
    "- Merged no covariable adjusted\n",
    "- Merged Covariable adjusted"
   ]
  },
  {
   "cell_type": "code",
   "execution_count": 0,
   "metadata": {
    "application/vnd.databricks.v1+cell": {
     "cellMetadata": {
      "byteLimit": 2048000,
      "rowLimit": 10000
     },
     "inputWidgets": {},
     "nuid": "1035e48c-e3d7-4dcb-ad33-466956f06362",
     "showTitle": false,
     "tableResultSettingsMap": {},
     "title": ""
    }
   },
   "outputs": [],
   "source": [
    "#Load libraries\n",
    "## Append the library folder\n",
    ".libPaths(c(\"/dbfs/home/boriol@almirall.com/my_r_packages/bulkRNASeq_PBMCs_R4.3\", .libPaths()))\n",
    "\n",
    "library(DESeq2)\n",
    "library(UpSetR)\n",
    "library(tidyverse)\n",
    "library(VennDiagram)\n",
    "library(RColorBrewer)\n",
    "\n",
    ".libPaths(c(\"/dbfs/home/jtrincado@almirall.com/my_r_packages/Seurat\", .libPaths()))\n",
    "library(openxlsx)\n",
    "library(enrichplot)\n",
    "library(ggplot2)\n",
    "\n",
    "G_list <- readRDS(\"/dbfs/mnt/sandbox/RNASeq/PBMCs_IL4/pathways/G_list20240710.rds\")\n",
    "G_list_protein_coding <- G_list %>% filter(transcript_biotype == \"protein_coding\")\n",
    "G_list_protein_coding <- G_list_protein_coding %>%unite(\"gene\", ensembl_gene_id:hgnc_symbol, remove = FALSE)"
   ]
  },
  {
   "cell_type": "markdown",
   "metadata": {
    "application/vnd.databricks.v1+cell": {
     "cellMetadata": {
      "byteLimit": 2048000,
      "rowLimit": 10000
     },
     "inputWidgets": {},
     "nuid": "85c75e45-96bb-4cd8-8742-e07961b77edd",
     "showTitle": false,
     "tableResultSettingsMap": {},
     "title": ""
    }
   },
   "source": [
    "#KC"
   ]
  },
  {
   "cell_type": "markdown",
   "metadata": {
    "application/vnd.databricks.v1+cell": {
     "cellMetadata": {
      "byteLimit": 2048000,
      "rowLimit": 10000
     },
     "inputWidgets": {},
     "nuid": "9f782383-91c9-4464-9043-fcbf1a8e690c",
     "showTitle": false,
     "tableResultSettingsMap": {},
     "title": ""
    }
   },
   "source": [
    "##Read results\n",
    "(log2FC >1 and padj <0.05)"
   ]
  },
  {
   "cell_type": "code",
   "execution_count": 0,
   "metadata": {
    "application/vnd.databricks.v1+cell": {
     "cellMetadata": {
      "byteLimit": 2048000,
      "rowLimit": 10000
     },
     "inputWidgets": {},
     "nuid": "c593d5d2-b07a-4bc5-837d-774c71965b10",
     "showTitle": false,
     "tableResultSettingsMap": {},
     "title": ""
    }
   },
   "outputs": [],
   "source": [
    "alkon_kc<- read.xlsx(\"/dbfs/mnt/sandbox/TFM_PAULA/Alkon/pseudobulk/alkon_limma_results_kc.xlsx\")\n",
    "rey_kc <- read.xlsx(\"/dbfs/mnt/sandbox/TFM_PAULA/Reynolds/LvsHC/pseudobulk/reynolds_limma_results_kc.xlsx\")\n",
    "merge_cov_kc_limma <- read.xlsx(\"/dbfs/mnt/sandbox/TFM_PAULA/merged_AR_results/adjusting_cov_dataset_DEGs/Limma/limma_results_kc.xlsx\")"
   ]
  },
  {
   "cell_type": "code",
   "execution_count": 0,
   "metadata": {
    "application/vnd.databricks.v1+cell": {
     "cellMetadata": {
      "byteLimit": 2048000,
      "rowLimit": 10000
     },
     "inputWidgets": {},
     "nuid": "9d77fc12-ecfe-4dcc-875c-e24b49f6e0a4",
     "showTitle": false,
     "tableResultSettingsMap": {},
     "title": ""
    }
   },
   "outputs": [],
   "source": [
    "alkon_kc <- alkon_kc %>% inner_join(G_list_protein_coding, by = c(\"gene\" = \"hgnc_symbol\"))\n",
    "rey_kc <- rey_kc %>% inner_join(G_list_protein_coding, by = c(\"gene\" = \"hgnc_symbol\"))\n",
    "merge_cov_kc <- merge_cov_kc_limma %>% inner_join(G_list_protein_coding, by = c(\"gene\" = \"hgnc_symbol\"))"
   ]
  },
  {
   "cell_type": "code",
   "execution_count": 0,
   "metadata": {
    "application/vnd.databricks.v1+cell": {
     "cellMetadata": {
      "byteLimit": 2048000,
      "rowLimit": 10000
     },
     "inputWidgets": {},
     "nuid": "1dc04b2e-76d4-4ff7-b5f5-059838b9ae85",
     "showTitle": false,
     "tableResultSettingsMap": {},
     "title": ""
    }
   },
   "outputs": [],
   "source": [
    "display(alkon_kc)"
   ]
  },
  {
   "cell_type": "code",
   "execution_count": 0,
   "metadata": {
    "application/vnd.databricks.v1+cell": {
     "cellMetadata": {
      "byteLimit": 2048000,
      "rowLimit": 10000
     },
     "inputWidgets": {},
     "nuid": "d389ed29-6132-4166-a048-693b5133f3c3",
     "showTitle": false,
     "tableResultSettingsMap": {},
     "title": ""
    }
   },
   "outputs": [],
   "source": [
    "# DEGs\n",
    "\n",
    "alkon_kc_filtered <- alkon_kc %>% filter(abs(logFC) > 1, adj.P.Val < 0.05) %>% arrange(desc(abs(logFC)))\n",
    "dim(alkon_kc_filtered)\n",
    "\n",
    "rey_kc_filtered <- rey_kc %>% filter(abs(logFC) > 1, adj.P.Val < 0.05) %>% arrange(desc(abs(logFC)))\n",
    "dim(rey_kc_filtered)\n",
    "\n",
    "merge_cov_kc_filtered <- merge_cov_kc %>% filter(abs(logFC) > 1, adj.P.Val < 0.05) %>% arrange(desc(abs(logFC)))\n",
    "dim(merge_cov_kc_filtered)\n"
   ]
  },
  {
   "cell_type": "markdown",
   "metadata": {
    "application/vnd.databricks.v1+cell": {
     "cellMetadata": {},
     "inputWidgets": {},
     "nuid": "5f475a02-9d65-4503-a6ef-25549e3d1581",
     "showTitle": false,
     "tableResultSettingsMap": {},
     "title": ""
    }
   },
   "source": [
    "## KC Upset plot"
   ]
  },
  {
   "cell_type": "code",
   "execution_count": 0,
   "metadata": {
    "application/vnd.databricks.v1+cell": {
     "cellMetadata": {
      "byteLimit": 2048000,
      "rowLimit": 10000
     },
     "inputWidgets": {},
     "nuid": "fd46e709-505d-48b3-99c8-81e4ab5fd4f2",
     "showTitle": false,
     "tableResultSettingsMap": {},
     "title": ""
    }
   },
   "outputs": [],
   "source": [
    "# Plot upregulated\n",
    "genes_kc <- list(\n",
    "  \"DEGs_Limma_KC_Alkon_Only\" = alkon_kc_filtered$gene, \n",
    "  \"DEGs_Limma_KC_Reynolds_Only\" = rey_kc_filtered$gene, \n",
    "  \"DEGs_Limma_KC_Merge_Cov_Adjusted\" = merge_cov_kc_filtered$gene\n",
    ")\n",
    "genes_kc"
   ]
  },
  {
   "cell_type": "code",
   "execution_count": 0,
   "metadata": {
    "application/vnd.databricks.v1+cell": {
     "cellMetadata": {
      "byteLimit": 2048000,
      "rowLimit": 10000
     },
     "inputWidgets": {},
     "nuid": "9fbbb0db-1be5-46b3-9d7f-8f8cc3c19c40",
     "showTitle": false,
     "tableResultSettingsMap": {},
     "title": ""
    }
   },
   "outputs": [],
   "source": [
    "options(repr.plot.width=1300, repr.plot.height=700)"
   ]
  },
  {
   "cell_type": "code",
   "execution_count": 0,
   "metadata": {
    "application/vnd.databricks.v1+cell": {
     "cellMetadata": {
      "byteLimit": 2048000,
      "rowLimit": 10000
     },
     "inputWidgets": {},
     "nuid": "6ccbcb64-6b6a-4fa8-ba2d-b10b03bb258f",
     "showTitle": false,
     "tableResultSettingsMap": {},
     "title": ""
    }
   },
   "outputs": [],
   "source": [
    "?upset"
   ]
  },
  {
   "cell_type": "code",
   "execution_count": 0,
   "metadata": {
    "application/vnd.databricks.v1+cell": {
     "cellMetadata": {
      "byteLimit": 2048000,
      "rowLimit": 10000
     },
     "inputWidgets": {},
     "nuid": "77795c9f-c114-468e-8b62-1d574f8bc9fc",
     "showTitle": false,
     "tableResultSettingsMap": {},
     "title": ""
    }
   },
   "outputs": [],
   "source": [
    "upset(\n",
    "  fromList(genes_kc), \n",
    "  order.by = \"freq\", \n",
    "  main.bar.color = \"#393D47\", \n",
    "  sets.bar.color = \"darkgrey\", \n",
    "  text.scale = c(1.5, 1.5, 1.2, 1.2, 1.5, 2))"
   ]
  },
  {
   "cell_type": "markdown",
   "metadata": {
    "application/vnd.databricks.v1+cell": {
     "cellMetadata": {},
     "inputWidgets": {},
     "nuid": "4fd0fbe3-6eb3-40c4-beb2-a04be196b4bf",
     "showTitle": false,
     "tableResultSettingsMap": {},
     "title": ""
    }
   },
   "source": [
    "#KC DIFF/UNDIFF/KC"
   ]
  },
  {
   "cell_type": "markdown",
   "metadata": {
    "application/vnd.databricks.v1+cell": {
     "cellMetadata": {},
     "inputWidgets": {},
     "nuid": "cffb738c-5ae9-4925-8917-40de4cce8aaf",
     "showTitle": false,
     "tableResultSettingsMap": {},
     "title": ""
    }
   },
   "source": [
    "##Read results\n",
    "(log2FC >1 and padj <0.05)"
   ]
  },
  {
   "cell_type": "code",
   "execution_count": 0,
   "metadata": {
    "application/vnd.databricks.v1+cell": {
     "cellMetadata": {
      "byteLimit": 2048000,
      "rowLimit": 10000
     },
     "inputWidgets": {},
     "nuid": "678b71e5-2395-45e6-b0d4-342de1086d0c",
     "showTitle": false,
     "tableResultSettingsMap": {},
     "title": ""
    }
   },
   "outputs": [],
   "source": [
    "merge_cov_kc <- read.xlsx(\"/dbfs/mnt/sandbox/TFM_PAULA/merged_AR_results/adjusting_cov_dataset_DEGs//Limma/limma_results_kc.xlsx\")\n",
    "\n",
    "merge_cov_diff_kc <- read.xlsx(\"/dbfs/mnt/sandbox/TFM_PAULA/merged_AR_celltypist_results/DEGs/Limma/alkon_limma_results_DifKC.xlsx\")\n",
    "\n",
    "merge_cov_undiff_kc <- read.xlsx(\"/dbfs/mnt/sandbox/TFM_PAULA/merged_AR_celltypist_results/DEGs/Limma/alkon_limma_results_UndifKC.xlsx\")"
   ]
  },
  {
   "cell_type": "code",
   "execution_count": 0,
   "metadata": {
    "application/vnd.databricks.v1+cell": {
     "cellMetadata": {
      "byteLimit": 2048000,
      "rowLimit": 10000
     },
     "inputWidgets": {},
     "nuid": "746cb440-80ca-4378-a75e-de62bc99f2d3",
     "showTitle": false,
     "tableResultSettingsMap": {},
     "title": ""
    }
   },
   "outputs": [],
   "source": [
    "merge_cov_diff_kc <- merge_cov_diff_kc %>% inner_join(G_list_protein_coding, by = c(\"gene\" = \"hgnc_symbol\"))\n",
    "merge_cov_undiff_kc <- merge_cov_undiff_kc %>% inner_join(G_list_protein_coding, by = c(\"gene\" = \"hgnc_symbol\"))\n",
    "merge_cov_kc <- merge_cov_kc %>% inner_join(G_list_protein_coding, by = c(\"gene\" = \"hgnc_symbol\"))"
   ]
  },
  {
   "cell_type": "code",
   "execution_count": 0,
   "metadata": {
    "application/vnd.databricks.v1+cell": {
     "cellMetadata": {
      "byteLimit": 2048000,
      "rowLimit": 10000
     },
     "inputWidgets": {},
     "nuid": "59c95acb-5cd5-4d24-aa3e-72d9876507a7",
     "showTitle": false,
     "tableResultSettingsMap": {},
     "title": ""
    }
   },
   "outputs": [],
   "source": [
    "display(merge_cov_kc)"
   ]
  },
  {
   "cell_type": "code",
   "execution_count": 0,
   "metadata": {
    "application/vnd.databricks.v1+cell": {
     "cellMetadata": {
      "byteLimit": 2048000,
      "rowLimit": 10000
     },
     "inputWidgets": {},
     "nuid": "7a4b23c7-5f17-4ef3-af31-b37ec3178e74",
     "showTitle": false,
     "tableResultSettingsMap": {},
     "title": ""
    }
   },
   "outputs": [],
   "source": [
    "# DEGs\n",
    "\n",
    "merge_cov_undiff_kc_filtered <- merge_cov_undiff_kc %>% filter(abs(logFC) > 1, adj.P.Val < 0.05) %>% arrange(desc(abs(logFC)))\n",
    "dim(merge_cov_undiff_kc_filtered)\n",
    "\n",
    "merge_cov_diff_kc_filtered <- merge_cov_diff_kc %>% filter(abs(logFC) > 1, adj.P.Val < 0.05) %>% arrange(desc(abs(logFC)))\n",
    "dim(merge_cov_diff_kc_filtered)\n",
    "\n",
    "merge_cov_kc_filtered <- merge_cov_kc %>% filter(abs(logFC) > 1, adj.P.Val < 0.05) %>% arrange(desc(abs(logFC)))\n",
    "dim(merge_cov_kc_filtered)"
   ]
  },
  {
   "cell_type": "markdown",
   "metadata": {
    "application/vnd.databricks.v1+cell": {
     "cellMetadata": {},
     "inputWidgets": {},
     "nuid": "7dda4259-8ab2-4c0e-8b5f-7e7d3e0007c8",
     "showTitle": false,
     "tableResultSettingsMap": {},
     "title": ""
    }
   },
   "source": [
    "## KC Upset plot"
   ]
  },
  {
   "cell_type": "code",
   "execution_count": 0,
   "metadata": {
    "application/vnd.databricks.v1+cell": {
     "cellMetadata": {
      "byteLimit": 2048000,
      "rowLimit": 10000
     },
     "inputWidgets": {},
     "nuid": "ec455d43-a7cd-4485-9700-0c0f8496b0d0",
     "showTitle": false,
     "tableResultSettingsMap": {},
     "title": ""
    }
   },
   "outputs": [],
   "source": [
    "# Plot upregulated\n",
    "genes_kc <- list(\n",
    "  \"DEGs_Limma_Undiff_KC\" = merge_cov_undiff_kc_filtered$gene, \n",
    "  \"DEGs_Limma_Diff_KC\" = merge_cov_diff_kc_filtered$gene, \n",
    "  \"DEGs_Limma_KC\" = merge_cov_kc_filtered$gene\n",
    ")\n",
    "genes_kc"
   ]
  },
  {
   "cell_type": "code",
   "execution_count": 0,
   "metadata": {
    "application/vnd.databricks.v1+cell": {
     "cellMetadata": {
      "byteLimit": 2048000,
      "rowLimit": 10000
     },
     "inputWidgets": {},
     "nuid": "14503b14-178d-4b7b-b6b3-e7af26a2a57e",
     "showTitle": false,
     "tableResultSettingsMap": {},
     "title": ""
    }
   },
   "outputs": [],
   "source": [
    "options(repr.plot.width=1100, repr.plot.height=700)"
   ]
  },
  {
   "cell_type": "code",
   "execution_count": 0,
   "metadata": {
    "application/vnd.databricks.v1+cell": {
     "cellMetadata": {
      "byteLimit": 2048000,
      "rowLimit": 10000
     },
     "inputWidgets": {},
     "nuid": "9a8eb062-941c-48b4-9068-e3b5220643cd",
     "showTitle": false,
     "tableResultSettingsMap": {},
     "title": ""
    }
   },
   "outputs": [],
   "source": [
    "?upset"
   ]
  },
  {
   "cell_type": "code",
   "execution_count": 0,
   "metadata": {
    "application/vnd.databricks.v1+cell": {
     "cellMetadata": {
      "byteLimit": 2048000,
      "rowLimit": 10000
     },
     "inputWidgets": {},
     "nuid": "34392164-11cc-4727-bad4-3bfaa248bada",
     "showTitle": false,
     "tableResultSettingsMap": {},
     "title": ""
    }
   },
   "outputs": [],
   "source": [
    "upset(\n",
    "  fromList(genes_kc), \n",
    "  order.by = \"freq\",  \n",
    "  main.bar.color = \"#393D47\", \n",
    "  sets.bar.color = \"darkgrey\", \n",
    "  text.scale = c(1.5, 1.5, 1.2, 1.2, 1.5, 2))"
   ]
  },
  {
   "cell_type": "markdown",
   "metadata": {
    "application/vnd.databricks.v1+cell": {
     "cellMetadata": {},
     "inputWidgets": {},
     "nuid": "07590be3-195d-432e-ad62-738a50a8532f",
     "showTitle": false,
     "tableResultSettingsMap": {},
     "title": ""
    }
   },
   "source": [
    "#KC Pathways\n",
    "\n",
    "Comparison KC / DIFF/ UNIDFF"
   ]
  },
  {
   "cell_type": "markdown",
   "metadata": {
    "application/vnd.databricks.v1+cell": {
     "cellMetadata": {},
     "inputWidgets": {},
     "nuid": "b1657733-d8c0-4ce4-89ae-2849b2d76672",
     "showTitle": false,
     "tableResultSettingsMap": {},
     "title": ""
    }
   },
   "source": [
    "##Read results\n",
    "(log2FC >1 and padj <0.05)"
   ]
  },
  {
   "cell_type": "code",
   "execution_count": 0,
   "metadata": {
    "application/vnd.databricks.v1+cell": {
     "cellMetadata": {
      "byteLimit": 2048000,
      "rowLimit": 10000
     },
     "inputWidgets": {},
     "nuid": "69c7131a-be99-486f-b8ac-d920edff852b",
     "showTitle": false,
     "tableResultSettingsMap": {},
     "title": ""
    }
   },
   "outputs": [],
   "source": [
    "merge_cov_kc <- read.xlsx(\"/dbfs/mnt/sandbox/TFM_PAULA/merged_AR_results/GSEA/Limma/res_kc_0.05_AR.xlsx\",sheet = \"Reactome\")\n",
    "\n",
    "merge_cov_diff_kc <- read.xlsx(\"/dbfs/mnt/sandbox/TFM_PAULA/merged_AR_celltypist_results/GSEA/Limma/res_kc_0.05_AR.xlsx\",sheet = \"Reactome\")\n",
    "\n",
    "merge_cov_undiff_kc <- read.xlsx(\"/dbfs/mnt/sandbox/TFM_PAULA/merged_AR_celltypist_results/GSEA/Limma/res_undifkc_0.05_AR.xlsx\", sheet = \"Reactome\")"
   ]
  },
  {
   "cell_type": "code",
   "execution_count": 0,
   "metadata": {
    "application/vnd.databricks.v1+cell": {
     "cellMetadata": {
      "byteLimit": 2048000,
      "rowLimit": 10000
     },
     "inputWidgets": {},
     "nuid": "7d372bc1-b0f5-45ad-b718-0ab748152169",
     "showTitle": false,
     "tableResultSettingsMap": {},
     "title": ""
    }
   },
   "outputs": [],
   "source": [
    "max(merge_cov_diff_kc$p.adjust)"
   ]
  },
  {
   "cell_type": "markdown",
   "metadata": {
    "application/vnd.databricks.v1+cell": {
     "cellMetadata": {
      "byteLimit": 2048000,
      "rowLimit": 10000
     },
     "inputWidgets": {},
     "nuid": "223eb8c2-a31e-46ed-9eb9-e869777a863b",
     "showTitle": false,
     "tableResultSettingsMap": {},
     "title": ""
    }
   },
   "source": [
    "## KC Upset plot"
   ]
  },
  {
   "cell_type": "code",
   "execution_count": 0,
   "metadata": {
    "application/vnd.databricks.v1+cell": {
     "cellMetadata": {
      "byteLimit": 2048000,
      "rowLimit": 10000
     },
     "inputWidgets": {},
     "nuid": "44e3cf54-f761-4b9c-9316-7dcf83bef238",
     "showTitle": false,
     "tableResultSettingsMap": {},
     "title": ""
    }
   },
   "outputs": [],
   "source": [
    "# Plot upregulated\n",
    "p_kc <- list(\n",
    "  \"Pathways_KC\" = merge_cov_kc$ID, \n",
    "  \"Pathways_Diff_KC\" = merge_cov_diff_kc$ID, \n",
    "  \"Pathways_Undiff_KC\" = merge_cov_undiff_kc$ID\n",
    ")\n",
    "p_kc"
   ]
  },
  {
   "cell_type": "code",
   "execution_count": 0,
   "metadata": {
    "application/vnd.databricks.v1+cell": {
     "cellMetadata": {
      "byteLimit": 2048000,
      "rowLimit": 10000
     },
     "inputWidgets": {},
     "nuid": "1b4735c9-0cd1-452c-9645-8debcd9718e8",
     "showTitle": false,
     "tableResultSettingsMap": {},
     "title": ""
    }
   },
   "outputs": [],
   "source": [
    "options(repr.plot.width=1100, repr.plot.height=700)"
   ]
  },
  {
   "cell_type": "code",
   "execution_count": 0,
   "metadata": {
    "application/vnd.databricks.v1+cell": {
     "cellMetadata": {
      "byteLimit": 2048000,
      "rowLimit": 10000
     },
     "inputWidgets": {},
     "nuid": "532a8e64-cf18-4243-b563-8a4aab891ac5",
     "showTitle": false,
     "tableResultSettingsMap": {},
     "title": ""
    }
   },
   "outputs": [],
   "source": [
    "?upset"
   ]
  },
  {
   "cell_type": "code",
   "execution_count": 0,
   "metadata": {
    "application/vnd.databricks.v1+cell": {
     "cellMetadata": {
      "byteLimit": 2048000,
      "rowLimit": 10000
     },
     "inputWidgets": {},
     "nuid": "ff1cce74-1c70-40db-9c23-0e5f0b84d1e6",
     "showTitle": false,
     "tableResultSettingsMap": {},
     "title": ""
    }
   },
   "outputs": [],
   "source": [
    "upset(\n",
    "  fromList(p_kc), \n",
    "  order.by = \"freq\", \n",
    "  main.bar.color = \"#393D47\", \n",
    "  sets.bar.color = \"darkgrey\", \n",
    "  text.scale = c(1.5, 1.5, 1.2, 1.2, 1.5, 2))"
   ]
  },
  {
   "cell_type": "markdown",
   "metadata": {
    "application/vnd.databricks.v1+cell": {
     "cellMetadata": {
      "byteLimit": 2048000,
      "rowLimit": 10000
     },
     "inputWidgets": {},
     "nuid": "45c366a1-71a7-4955-aecb-0d4109a0e8a0",
     "showTitle": false,
     "tableResultSettingsMap": {},
     "title": ""
    }
   },
   "source": [
    "#Tcells"
   ]
  },
  {
   "cell_type": "markdown",
   "metadata": {
    "application/vnd.databricks.v1+cell": {
     "cellMetadata": {
      "byteLimit": 2048000,
      "rowLimit": 10000
     },
     "inputWidgets": {},
     "nuid": "46fb42e6-74e5-42bd-ba90-06ac6cd3454b",
     "showTitle": false,
     "tableResultSettingsMap": {},
     "title": ""
    }
   },
   "source": [
    "##Read results\n",
    "(log2FC >1 and padj <0.05)"
   ]
  },
  {
   "cell_type": "code",
   "execution_count": 0,
   "metadata": {
    "application/vnd.databricks.v1+cell": {
     "cellMetadata": {
      "byteLimit": 2048000,
      "rowLimit": 10000
     },
     "inputWidgets": {},
     "nuid": "a59de526-41ee-4c09-b39a-152ae027b799",
     "showTitle": false,
     "tableResultSettingsMap": {},
     "title": ""
    }
   },
   "outputs": [],
   "source": [
    "alkon_tcell <- read.xlsx(\"/dbfs/mnt/sandbox/TFM_PAULA/Alkon/pseudobulk/alkon_limma_results_tcell.xlsx\")\n",
    "\n",
    "rey_tcell <- read.xlsx(\"/dbfs/mnt/sandbox/TFM_PAULA/Reynolds/LvsHC/pseudobulk/reynolds_limma_results_tcell.xlsx\")\n",
    "\n",
    "merge_cov_tcell <- read.xlsx(\"/dbfs/mnt/sandbox/TFM_PAULA/merged_AR_results/adjusting_cov_dataset_DEGs/Limma/limma_results_tcell.xlsx\")"
   ]
  },
  {
   "cell_type": "code",
   "execution_count": 0,
   "metadata": {
    "application/vnd.databricks.v1+cell": {
     "cellMetadata": {
      "byteLimit": 2048000,
      "rowLimit": 10000
     },
     "inputWidgets": {},
     "nuid": "a91bf0d9-378b-4b41-b5b6-c6b13a90dad2",
     "showTitle": false,
     "tableResultSettingsMap": {},
     "title": ""
    }
   },
   "outputs": [],
   "source": [
    "alkon_tcell <- alkon_tcell %>% inner_join(G_list_protein_coding, by = c(\"gene\" = \"hgnc_symbol\"))\n",
    "rey_tcell <- rey_tcell %>% inner_join(G_list_protein_coding, by = c(\"gene\" = \"hgnc_symbol\"))\n",
    "merge_cov_tcell <- merge_cov_tcell %>% inner_join(G_list_protein_coding, by = c(\"gene\" = \"hgnc_symbol\"))"
   ]
  },
  {
   "cell_type": "code",
   "execution_count": 0,
   "metadata": {
    "application/vnd.databricks.v1+cell": {
     "cellMetadata": {
      "byteLimit": 2048000,
      "rowLimit": 10000
     },
     "inputWidgets": {},
     "nuid": "651c6f56-fb8a-43f1-893e-1ac60909b519",
     "showTitle": false,
     "tableResultSettingsMap": {},
     "title": ""
    }
   },
   "outputs": [],
   "source": [
    "display(alkon_tcell)"
   ]
  },
  {
   "cell_type": "code",
   "execution_count": 0,
   "metadata": {
    "application/vnd.databricks.v1+cell": {
     "cellMetadata": {
      "byteLimit": 2048000,
      "rowLimit": 10000
     },
     "inputWidgets": {},
     "nuid": "e56ff94a-91d9-4406-b498-71eb4b9c4801",
     "showTitle": false,
     "tableResultSettingsMap": {},
     "title": ""
    }
   },
   "outputs": [],
   "source": [
    "# DEGs\n",
    "\n",
    "alkon_tcell_filtered <- alkon_tcell %>% filter(abs(logFC) > 1, adj.P.Val < 0.05) %>% arrange(desc(abs(logFC)))\n",
    "dim(alkon_tcell_filtered)\n",
    "\n",
    "rey_tcell_filtered <- rey_tcell %>% filter(abs(logFC) > 1, adj.P.Val < 0.05) %>% arrange(desc(abs(logFC)))\n",
    "dim(rey_tcell_filtered)\n",
    "\n",
    "merge_cov_tcell_filtered <- merge_cov_tcell %>% filter(abs(logFC) > 1, adj.P.Val < 0.05) %>% arrange(desc(abs(logFC)))\n",
    "dim(merge_cov_tcell_filtered)"
   ]
  },
  {
   "cell_type": "markdown",
   "metadata": {
    "application/vnd.databricks.v1+cell": {
     "cellMetadata": {
      "byteLimit": 2048000,
      "rowLimit": 10000
     },
     "inputWidgets": {},
     "nuid": "c2842fd3-e94c-47a8-9c5a-2e5fb33ba4d2",
     "showTitle": false,
     "tableResultSettingsMap": {},
     "title": ""
    }
   },
   "source": [
    "## KC Upset plot"
   ]
  },
  {
   "cell_type": "code",
   "execution_count": 0,
   "metadata": {
    "application/vnd.databricks.v1+cell": {
     "cellMetadata": {
      "byteLimit": 2048000,
      "rowLimit": 10000
     },
     "inputWidgets": {},
     "nuid": "eaa3ad10-406c-4207-a56b-1f6a8bb8d207",
     "showTitle": false,
     "tableResultSettingsMap": {},
     "title": ""
    }
   },
   "outputs": [],
   "source": [
    "# Plot upregulated\n",
    "genes_tcell <- list(\n",
    "  \"DEGs_TCell_Alkon_Only\" = alkon_tcell_filtered$gene, \n",
    "  \"DEGs_TCell_Reynolds_Only\" = rey_tcell_filtered$gene, \n",
    "  \"DEGs_TCell_Merge_Cov_Adjusted\" = merge_cov_tcell_filtered$gene\n",
    ")\n",
    "genes_tcell"
   ]
  },
  {
   "cell_type": "code",
   "execution_count": 0,
   "metadata": {
    "application/vnd.databricks.v1+cell": {
     "cellMetadata": {
      "byteLimit": 2048000,
      "rowLimit": 10000
     },
     "inputWidgets": {},
     "nuid": "db195e51-fe82-4c3b-b42b-c6556f9a56a3",
     "showTitle": false,
     "tableResultSettingsMap": {},
     "title": ""
    }
   },
   "outputs": [],
   "source": [
    "options(repr.plot.width=1300, repr.plot.height=700)"
   ]
  },
  {
   "cell_type": "code",
   "execution_count": 0,
   "metadata": {
    "application/vnd.databricks.v1+cell": {
     "cellMetadata": {
      "byteLimit": 2048000,
      "rowLimit": 10000
     },
     "inputWidgets": {},
     "nuid": "12e51405-5c64-4486-9c5e-b1abe24dcbd3",
     "showTitle": false,
     "tableResultSettingsMap": {},
     "title": ""
    }
   },
   "outputs": [],
   "source": [
    "?upset"
   ]
  },
  {
   "cell_type": "code",
   "execution_count": 0,
   "metadata": {
    "application/vnd.databricks.v1+cell": {
     "cellMetadata": {
      "byteLimit": 2048000,
      "rowLimit": 10000
     },
     "inputWidgets": {},
     "nuid": "8e0059cc-096b-4ca2-b788-bb6e14a66742",
     "showTitle": false,
     "tableResultSettingsMap": {},
     "title": ""
    }
   },
   "outputs": [],
   "source": [
    "upset(\n",
    "  fromList(genes_tcell), \n",
    "  order.by = \"freq\", \n",
    "  main.bar.color = \"#393D47\", \n",
    "  sets.bar.color = \"darkgrey\", \n",
    "  text.scale = c(1.5, 1.5, 1.2, 1.2, 1.5, 2))"
   ]
  }
 ],
 "metadata": {
  "application/vnd.databricks.v1+notebook": {
   "computePreferences": null,
   "dashboards": [],
   "environmentMetadata": {
    "base_environment": "",
    "environment_version": "2"
   },
   "inputWidgetPreferences": null,
   "language": "r",
   "notebookMetadata": {
    "pythonIndentUnit": 4
   },
   "notebookName": "09.upset_plot_limma_comparison",
   "widgets": {}
  },
  "language_info": {
   "name": "r"
  }
 },
 "nbformat": 4,
 "nbformat_minor": 0
}
