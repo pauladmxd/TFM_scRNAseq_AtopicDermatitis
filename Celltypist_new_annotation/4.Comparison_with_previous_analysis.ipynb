{
 "cells": [
  {
   "cell_type": "markdown",
   "metadata": {
    "application/vnd.databricks.v1+cell": {
     "cellMetadata": {},
     "inputWidgets": {},
     "nuid": "3159e3f5-7dac-449b-921b-4175e801b4d3",
     "showTitle": false,
     "tableResultSettingsMap": {},
     "title": ""
    }
   },
   "source": [
    "#Comparison of the results with previous annotation"
   ]
  },
  {
   "cell_type": "code",
   "execution_count": 0,
   "metadata": {
    "application/vnd.databricks.v1+cell": {
     "cellMetadata": {
      "byteLimit": 2048000,
      "rowLimit": 10000
     },
     "inputWidgets": {},
     "nuid": "7f48a825-9f24-45a6-845d-fb378dfc9290",
     "showTitle": false,
     "tableResultSettingsMap": {},
     "title": ""
    }
   },
   "outputs": [],
   "source": [
    "#Load required libraries\n",
    "\n",
    ".libPaths(c(\"/dbfs/home/jtrincado@almirall.com/my_r_packages/Seurat\", .libPaths()))\n",
    "library(openxlsx)\n",
    "library(dplyr)\n",
    "\n",
    ".libPaths(c(\"/dbfs/home/boriol@almirall.com/my_r_packages/bulkRNASeq_PBMCs_R4.3\", .libPaths()))\n",
    "library(VennDiagram)\n",
    "library(EnhancedVolcano)\n",
    "\n",
    ".libPaths(c(\"/dbfs/home/jtrincado@almirall.com/my_r_packages/Seurat_v2\", .libPaths()))\n",
    "library(Seurat)\n"
   ]
  },
  {
   "cell_type": "markdown",
   "metadata": {
    "application/vnd.databricks.v1+cell": {
     "cellMetadata": {},
     "inputWidgets": {},
     "nuid": "9f525741-3e5d-4262-aa8a-01b847bd3469",
     "showTitle": false,
     "tableResultSettingsMap": {},
     "title": ""
    }
   },
   "source": [
    "##KC subannotation"
   ]
  },
  {
   "cell_type": "markdown",
   "metadata": {
    "application/vnd.databricks.v1+cell": {
     "cellMetadata": {},
     "inputWidgets": {},
     "nuid": "882ff588-d950-42d8-aa37-09cecc0788cb",
     "showTitle": false,
     "tableResultSettingsMap": {},
     "title": ""
    }
   },
   "source": [
    "####Common DEGs between the different annotations"
   ]
  },
  {
   "cell_type": "code",
   "execution_count": 0,
   "metadata": {
    "application/vnd.databricks.v1+cell": {
     "cellMetadata": {
      "byteLimit": 2048000,
      "rowLimit": 10000
     },
     "inputWidgets": {},
     "nuid": "cf957602-433a-453c-a58f-2be34de1e627",
     "showTitle": false,
     "tableResultSettingsMap": {},
     "title": ""
    }
   },
   "outputs": [],
   "source": [
    "undif_kc <- read.xlsx(\"/dbfs/mnt/sandbox/TFM_PAULA/merged_AR_celltypist_results/DEGs/bulk.undif.kc.de.cov.xlsx\")\n",
    "dif_kc <- read.xlsx(\"/dbfs/mnt/sandbox/TFM_PAULA/merged_AR_celltypist_results/DEGs/bulk.dif.kc.de.cov.xlsx\")\n",
    "kc <- read.xlsx(\"/dbfs/mnt/sandbox/TFM_PAULA/merged_AR_results/adjusting_cov_dataset_DEGs/bulk.kc.de.cov.xlsx\")"
   ]
  },
  {
   "cell_type": "code",
   "execution_count": 0,
   "metadata": {
    "application/vnd.databricks.v1+cell": {
     "cellMetadata": {
      "byteLimit": 2048000,
      "rowLimit": 10000
     },
     "inputWidgets": {},
     "nuid": "73709911-1b42-451f-b500-a5d39a0d49fd",
     "showTitle": false,
     "tableResultSettingsMap": {},
     "title": ""
    }
   },
   "outputs": [],
   "source": [
    "dif_kc"
   ]
  },
  {
   "cell_type": "code",
   "execution_count": 0,
   "metadata": {
    "application/vnd.databricks.v1+cell": {
     "cellMetadata": {
      "byteLimit": 2048000,
      "rowLimit": 10000
     },
     "inputWidgets": {},
     "nuid": "22f2d7b6-cc0a-4aa8-bcd8-00ec9c302271",
     "showTitle": false,
     "tableResultSettingsMap": {},
     "title": ""
    }
   },
   "outputs": [],
   "source": [
    "undif_kc_filt <- undif_kc %>%\n",
    "  filter(padj < 0.05, abs(log2FoldChange) > 1)\n",
    "dif_kc_filt <- dif_kc %>%\n",
    "  filter(padj < 0.05, abs(log2FoldChange) > 1)\n",
    "kc_filt <- kc %>%\n",
    "  filter(padj < 0.05, abs(log2FoldChange) > 1)"
   ]
  },
  {
   "cell_type": "code",
   "execution_count": 0,
   "metadata": {
    "application/vnd.databricks.v1+cell": {
     "cellMetadata": {
      "byteLimit": 2048000,
      "rowLimit": 10000
     },
     "inputWidgets": {},
     "nuid": "234d348e-a003-4abb-ab8a-33f67b0b6f2e",
     "showTitle": false,
     "tableResultSettingsMap": {},
     "title": ""
    }
   },
   "outputs": [],
   "source": [
    "kc_filt"
   ]
  },
  {
   "cell_type": "code",
   "execution_count": 0,
   "metadata": {
    "application/vnd.databricks.v1+cell": {
     "cellMetadata": {
      "byteLimit": 2048000,
      "rowLimit": 10000
     },
     "inputWidgets": {},
     "nuid": "3386db1d-e76a-4160-826a-26d83ebebd26",
     "showTitle": false,
     "tableResultSettingsMap": {},
     "title": ""
    }
   },
   "outputs": [],
   "source": [
    "# Create a list of your gene sets\n",
    "gene_sets <- list(\n",
    "  \"Undiff_KC\" = na.omit(undif_kc_filt$gene),\n",
    "  \"Diff_KC\" = na.omit(dif_kc_filt$gene),\n",
    "  \"KC\" = na.omit(kc_filt$gene)\n",
    ")\n",
    "\n",
    "# Plot the Venn diagram with colors and title\n",
    "venn.plot <- venn.diagram(\n",
    "  x = gene_sets,\n",
    "  category.names = c(\"Undiff_KC\", \"Diff_KC\", \"KC\"),\n",
    "  filename = NULL,  # Set to NULL to plot in RStudio\n",
    "  output = TRUE,\n",
    "  fill = c(\"red\", \"blue\", \"green\"), # Add colors\n",
    "  main = \"DEGs comparison btw annotations\", # Add title\n",
    "  cat.dist = c(0.04, 0.04, 0.04), # Adjust the distance of the category names from the circles\n",
    "  main.cex = 1, # Increase title size\n",
    "  cat.cex = 0.8, # Increase label size\n",
    "  cat.pos = c(-20, 20, 180), # Position labels more on the top and KC at the bottom\n",
    "  cex = 1.5 # Increase numbers size\n",
    ")\n",
    "\n",
    "# Display the plot\n",
    "grid.newpage()\n",
    "grid.draw(venn.plot)"
   ]
  },
  {
   "cell_type": "code",
   "execution_count": 0,
   "metadata": {
    "application/vnd.databricks.v1+cell": {
     "cellMetadata": {
      "byteLimit": 2048000,
      "rowLimit": 10000
     },
     "inputWidgets": {},
     "nuid": "9ab4170e-d8d0-4ed5-82c3-f87f276aa65a",
     "showTitle": false,
     "tableResultSettingsMap": {},
     "title": ""
    }
   },
   "outputs": [],
   "source": [
    "# Print genes that are present only in each variable\n",
    "only_undiff_kc_genes <- setdiff(gene_sets$Undiff_KC, union(gene_sets$Diff_KC, gene_sets$KC))\n",
    "only_diff_kc_genes <- setdiff(gene_sets$Diff_KC, union(gene_sets$Undiff_KC, gene_sets$KC))\n",
    "only_kc_genes <- setdiff(gene_sets$KC, union(gene_sets$Undiff_KC, gene_sets$Diff_KC))\n",
    "\n",
    "print(only_undiff_kc_genes)\n",
    "print(only_diff_kc_genes)\n",
    "print(only_kc_genes)"
   ]
  },
  {
   "cell_type": "code",
   "execution_count": 0,
   "metadata": {
    "application/vnd.databricks.v1+cell": {
     "cellMetadata": {
      "byteLimit": 2048000,
      "rowLimit": 10000
     },
     "inputWidgets": {},
     "nuid": "e504f6b1-3552-4328-a80d-4ec118720d36",
     "showTitle": false,
     "tableResultSettingsMap": {},
     "title": ""
    }
   },
   "outputs": [],
   "source": [
    "# Save the genes that are only in each set\n",
    "only_undiff_kc <- undif_kc_filt %>% filter(!gene %in% dif_kc_filt$gene & !gene %in% kc_filt$gene )\n",
    "only_diff_kc <- dif_kc_filt %>% filter(!gene %in% undif_kc_filt$gene & !gene %in% kc_filt$gene)"
   ]
  },
  {
   "cell_type": "code",
   "execution_count": 0,
   "metadata": {
    "application/vnd.databricks.v1+cell": {
     "cellMetadata": {
      "byteLimit": 2048000,
      "rowLimit": 10000
     },
     "inputWidgets": {},
     "nuid": "e00cf0f5-0103-4e1e-84c7-d0153114951d",
     "showTitle": false,
     "tableResultSettingsMap": {},
     "title": ""
    }
   },
   "outputs": [],
   "source": [
    "dim(only_undiff_kc)"
   ]
  },
  {
   "cell_type": "code",
   "execution_count": 0,
   "metadata": {
    "application/vnd.databricks.v1+cell": {
     "cellMetadata": {
      "byteLimit": 2048000,
      "rowLimit": 10000
     },
     "inputWidgets": {},
     "nuid": "b82e6832-1e89-46a4-86b6-b41cc22b1b9c",
     "showTitle": false,
     "tableResultSettingsMap": {},
     "title": ""
    }
   },
   "outputs": [],
   "source": [
    "dim(only_diff_kc)"
   ]
  },
  {
   "cell_type": "code",
   "execution_count": 0,
   "metadata": {
    "application/vnd.databricks.v1+cell": {
     "cellMetadata": {
      "byteLimit": 2048000,
      "rowLimit": 10000
     },
     "inputWidgets": {},
     "nuid": "8eb61eda-7232-4c48-9034-7f1d7af39536",
     "showTitle": false,
     "tableResultSettingsMap": {},
     "title": ""
    }
   },
   "outputs": [],
   "source": [
    "if (file.exists(\"/dbfs/mnt/sandbox/TFM_PAULA/merged_AR_celltypist_results/DEGs/genes_only_undiff_kc.xlsx\")) {\n",
    "  file.remove(\"/dbfs/mnt/sandbox/TFM_PAULA/merged_AR_celltypist_results/DEGs/genes_only_undiff_kc.xlsx\")\n",
    "}\n",
    "write.xlsx(only_undiff_kc, \"/dbfs/mnt/sandbox/TFM_PAULA/merged_AR_celltypist_results/DEGs/genes_only_undiff_kc.xlsx\")\n",
    "\n",
    "if (file.exists(\"/dbfs/mnt/sandbox/TFM_PAULA/merged_AR_celltypist_results/DEGs/genes_only_dif_kc.xlsx\")) {\n",
    "  file.remove(\"/dbfs/mnt/sandbox/TFM_PAULA/merged_AR_celltypist_results/DEGs/genes_only_dif_kc.xlsx\")\n",
    "}\n",
    "write.xlsx(only_diff_kc, \"/dbfs/mnt/sandbox/TFM_PAULA/merged_AR_celltypist_results/DEGs/genes_only_dif_kc.xlsx\")"
   ]
  },
  {
   "cell_type": "markdown",
   "metadata": {
    "application/vnd.databricks.v1+cell": {
     "cellMetadata": {},
     "inputWidgets": {},
     "nuid": "2cf3cd3d-b124-452e-9ad4-05e06a3ffcbe",
     "showTitle": false,
     "tableResultSettingsMap": {},
     "title": ""
    }
   },
   "source": [
    "####Common pathways between the different annotations"
   ]
  },
  {
   "cell_type": "code",
   "execution_count": 0,
   "metadata": {
    "application/vnd.databricks.v1+cell": {
     "cellMetadata": {
      "byteLimit": 2048000,
      "rowLimit": 10000
     },
     "inputWidgets": {},
     "nuid": "5f9519ef-c194-456c-a0ce-224b2eb413e9",
     "showTitle": false,
     "tableResultSettingsMap": {},
     "title": ""
    }
   },
   "outputs": [],
   "source": [
    "undif_kc_p <- read.xlsx(\"/dbfs/mnt/sandbox/TFM_PAULA/merged_AR_celltypist_results/GSEA/undif_kc_reactome_genes.xlsx\")\n",
    "dif_kc_p <- read.xlsx(\"/dbfs/mnt/sandbox/TFM_PAULA/merged_AR_celltypist_results/GSEA/dif_kc_reactome_genes.xlsx\")\n",
    "kc_p <- read.xlsx(\"/dbfs/mnt/sandbox/TFM_PAULA/merged_AR_results/GSEA/kc_reactome_genes.xlsx\")"
   ]
  },
  {
   "cell_type": "code",
   "execution_count": 0,
   "metadata": {
    "application/vnd.databricks.v1+cell": {
     "cellMetadata": {
      "byteLimit": 2048000,
      "rowLimit": 10000
     },
     "inputWidgets": {},
     "nuid": "5fdc3757-7a6e-4d73-b743-34740683d3b6",
     "showTitle": false,
     "tableResultSettingsMap": {},
     "title": ""
    }
   },
   "outputs": [],
   "source": [
    "max(dif_kc_p$p.adjust)"
   ]
  },
  {
   "cell_type": "code",
   "execution_count": 0,
   "metadata": {
    "application/vnd.databricks.v1+cell": {
     "cellMetadata": {
      "byteLimit": 2048000,
      "rowLimit": 10000
     },
     "inputWidgets": {},
     "nuid": "e0d644ae-87c4-4dd1-ab70-19b7cc8a46d5",
     "showTitle": false,
     "tableResultSettingsMap": {},
     "title": ""
    }
   },
   "outputs": [],
   "source": [
    "# Create a list of your pathway sets\n",
    "pathway_sets <- list(\n",
    "  \"Undiff_KC\" = na.omit(undif_kc_p$ID),\n",
    "  \"Diff_KC\" = na.omit(dif_kc_p$ID),\n",
    "  \"KC\" = na.omit(kc_p$ID)\n",
    ")\n",
    "\n",
    "# Plot the Venn diagram with colors and title\n",
    "venn.plot <- venn.diagram(\n",
    "  x = pathway_sets,\n",
    "  category.names = c(\"Undiff_KC\", \"Diff_KC\", \"KC\"),\n",
    "  filename = NULL,  # Set to NULL to plot in RStudio\n",
    "  output = TRUE,\n",
    "  fill = c(\"red\", \"blue\", \"green\"), # Add colors\n",
    "  main = \"Pathway comparison btw annotations\", # Add title\n",
    "  cat.dist = c(0.04, 0.04, 0.04), # Adjust the distance of the category names from the circles\n",
    "  main.cex = 1, # Increase title size\n",
    "  cat.cex = 0.8, # Increase label size\n",
    "  cat.pos = c(-20, 20, 180), # Position labels more on the top and KC at the bottom\n",
    "  cex = 1.5 # Increase numbers size\n",
    ")\n",
    "\n",
    "# Display the plot\n",
    "grid.newpage()\n",
    "grid.draw(venn.plot)"
   ]
  },
  {
   "cell_type": "code",
   "execution_count": 0,
   "metadata": {
    "application/vnd.databricks.v1+cell": {
     "cellMetadata": {
      "byteLimit": 2048000,
      "rowLimit": 10000
     },
     "inputWidgets": {},
     "nuid": "2125ee7a-4855-4d2b-8f2a-258b0b25e908",
     "showTitle": false,
     "tableResultSettingsMap": {},
     "title": ""
    }
   },
   "outputs": [],
   "source": [
    "# Save the pathways that are only in each set\n",
    "only_undiff_kc_p <- undif_kc_p %>% filter(!ID %in% dif_kc_p$ID & !ID %in% kc_p$ID )\n",
    "only_diff_kc_p <- dif_kc_p %>% filter(!ID %in% undif_kc_p$ID & !ID %in% kc_p$ID)"
   ]
  },
  {
   "cell_type": "code",
   "execution_count": 0,
   "metadata": {
    "application/vnd.databricks.v1+cell": {
     "cellMetadata": {
      "byteLimit": 2048000,
      "rowLimit": 10000
     },
     "inputWidgets": {},
     "nuid": "7dac6a02-9d74-4b74-88ec-3b6e27196713",
     "showTitle": false,
     "tableResultSettingsMap": {},
     "title": ""
    }
   },
   "outputs": [],
   "source": [
    "dim(only_undiff_kc_p)"
   ]
  },
  {
   "cell_type": "code",
   "execution_count": 0,
   "metadata": {
    "application/vnd.databricks.v1+cell": {
     "cellMetadata": {
      "byteLimit": 2048000,
      "rowLimit": 10000
     },
     "inputWidgets": {},
     "nuid": "8410a64d-c0cf-4b91-91d1-da5f6885eaa6",
     "showTitle": false,
     "tableResultSettingsMap": {},
     "title": ""
    }
   },
   "outputs": [],
   "source": [
    "dim(only_diff_kc_p)"
   ]
  },
  {
   "cell_type": "code",
   "execution_count": 0,
   "metadata": {
    "application/vnd.databricks.v1+cell": {
     "cellMetadata": {
      "byteLimit": 2048000,
      "rowLimit": 10000
     },
     "inputWidgets": {},
     "nuid": "ae7750b3-60c2-4260-b81b-875cf9d8bf6e",
     "showTitle": false,
     "tableResultSettingsMap": {},
     "title": ""
    }
   },
   "outputs": [],
   "source": [
    "write.xlsx(only_undiff_kc_p, \"/dbfs/mnt/sandbox/TFM_PAULA/merged_AR_celltypist_results/GSEA/pathways_only_undiff_kc.xlsx\")\n",
    "write.xlsx(only_diff_kc_p, \"/dbfs/mnt/sandbox/TFM_PAULA/merged_AR_celltypist_results/GSEA/pathways_only_dif_kc.xlsx\")"
   ]
  },
  {
   "cell_type": "code",
   "execution_count": 0,
   "metadata": {
    "application/vnd.databricks.v1+cell": {
     "cellMetadata": {
      "byteLimit": 2048000,
      "rowLimit": 10000
     },
     "inputWidgets": {},
     "nuid": "778ac951-357a-4e14-885b-456af2356073",
     "showTitle": false,
     "tableResultSettingsMap": {},
     "title": ""
    }
   },
   "outputs": [],
   "source": [
    "display(only_diff_kc_p)"
   ]
  },
  {
   "cell_type": "markdown",
   "metadata": {
    "application/vnd.databricks.v1+cell": {
     "cellMetadata": {},
     "inputWidgets": {},
     "nuid": "cc3c56c6-bfeb-412b-8a77-842858ccb2c5",
     "showTitle": false,
     "tableResultSettingsMap": {},
     "title": ""
    }
   },
   "source": [
    "#Comparison between Reynolds and Merge"
   ]
  },
  {
   "cell_type": "markdown",
   "metadata": {
    "application/vnd.databricks.v1+cell": {
     "cellMetadata": {},
     "inputWidgets": {},
     "nuid": "51eec96f-770f-415f-8d9b-f49cd0067a27",
     "showTitle": false,
     "tableResultSettingsMap": {},
     "title": ""
    }
   },
   "source": [
    "##DEGs"
   ]
  },
  {
   "cell_type": "code",
   "execution_count": 0,
   "metadata": {
    "application/vnd.databricks.v1+cell": {
     "cellMetadata": {
      "byteLimit": 2048000,
      "rowLimit": 10000
     },
     "inputWidgets": {},
     "nuid": "f6ed1c35-ed2d-4f37-ac5c-528ea4613f15",
     "showTitle": false,
     "tableResultSettingsMap": {},
     "title": ""
    }
   },
   "outputs": [],
   "source": [
    "dif_reynolds <- read.xlsx(\"/dbfs/mnt/sandbox/TFM_PAULA/merged_AR_celltypist_results/DEGs/only_reynolds_bulk_undif_kc_de.xlsx\")\n",
    "undif_reynolds  <- read.xlsx(\"/dbfs/mnt/sandbox/TFM_PAULA/merged_AR_celltypist_results/DEGs/only_reynolds_bulk_dif_kc_de.xlsx\")"
   ]
  },
  {
   "cell_type": "code",
   "execution_count": 0,
   "metadata": {
    "application/vnd.databricks.v1+cell": {
     "cellMetadata": {
      "byteLimit": 2048000,
      "rowLimit": 10000
     },
     "inputWidgets": {},
     "nuid": "ef9f4053-7864-4772-9bea-d0966a704e34",
     "showTitle": false,
     "tableResultSettingsMap": {},
     "title": ""
    }
   },
   "outputs": [],
   "source": [
    "undif_alkon <- read.xlsx(\"/dbfs/mnt/sandbox/TFM_PAULA/merged_AR_celltypist_results/DEGs/only_alkon_bulk_undif_kc_de.xlsx\")\n",
    "dif_alkon <- read.xlsx(\"/dbfs/mnt/sandbox/TFM_PAULA/merged_AR_celltypist_results/DEGs/only_alkon_bulk_dif_kc_de.xlsx\")"
   ]
  },
  {
   "cell_type": "code",
   "execution_count": 0,
   "metadata": {
    "application/vnd.databricks.v1+cell": {
     "cellMetadata": {
      "byteLimit": 2048000,
      "rowLimit": 10000
     },
     "inputWidgets": {},
     "nuid": "26d0cd30-c83a-48d1-a7d5-0be32baad629",
     "showTitle": false,
     "tableResultSettingsMap": {},
     "title": ""
    }
   },
   "outputs": [],
   "source": [
    "dif_reynolds <- dif_reynolds %>%\n",
    "  filter(p_val_adj < 0.05, abs(avg_log2FC)  > 1)\n",
    "undif_reynolds <- undif_reynolds %>%\n",
    "  filter(p_val_adj < 0.05, abs(avg_log2FC)  > 1)\n",
    "\n",
    "  dif_alkon <- dif_alkon %>%\n",
    "  filter(p_val_adj < 0.05, abs(avg_log2FC)  > 1)\n",
    "undif_alkon <- undif_alkon %>%\n",
    "  filter(p_val_adj < 0.05, abs(avg_log2FC)  > 1)"
   ]
  },
  {
   "cell_type": "code",
   "execution_count": 0,
   "metadata": {
    "application/vnd.databricks.v1+cell": {
     "cellMetadata": {
      "byteLimit": 2048000,
      "rowLimit": 10000
     },
     "inputWidgets": {},
     "nuid": "821dccbb-2932-49be-b2c7-8ebc4ede1ab8",
     "showTitle": false,
     "tableResultSettingsMap": {},
     "title": ""
    }
   },
   "outputs": [],
   "source": [
    "# Create a list of your gene sets\n",
    "gene_sets <- list(\n",
    "  \"Undiff_KC_Reynolds\" = na.omit(undif_reynolds$gene),\n",
    "  \"Undiff_KC_Alkon\" = na.omit(undif_alkon$gene),\n",
    "    \"Undiff_KC_AR\" = na.omit(undif_kc_filt$gene)\n",
    ")\n",
    "\n",
    "# Plot the Venn diagram with colors and title\n",
    "venn.plot <- venn.diagram(\n",
    "  x = gene_sets,\n",
    "  category.names = c(\"Undiff_KC_Reynolds\", \"Undiff_KC_Alkon\", \"Undiff_KC_AR\"),\n",
    "  filename = NULL,  # Set to NULL to plot in RStudio\n",
    "  output = TRUE,\n",
    "  fill = c(\"red\", \"blue\", \"green\"), # Add colors\n",
    "  main = \"DEGs individual vs merged\", # Add title\n",
    "  cat.dist = c(0.04, 0.04, 0.04), # Adjust the distance of the category names from the circles\n",
    "  main.cex = 1, # Increase title size\n",
    "  cat.cex = 0.8, # Increase label size\n",
    "  cat.pos = c(-20, 20, 180), # Position labels more on the top and KC at the bottom\n",
    "  cex = 1.5 # Increase numbers size\n",
    ")\n",
    "\n",
    "# Display the plot\n",
    "grid.newpage()\n",
    "grid.draw(venn.plot)"
   ]
  },
  {
   "cell_type": "code",
   "execution_count": 0,
   "metadata": {
    "application/vnd.databricks.v1+cell": {
     "cellMetadata": {
      "byteLimit": 2048000,
      "rowLimit": 10000
     },
     "inputWidgets": {},
     "nuid": "5b463f5c-37ac-44a7-ac6a-fb787ea1e703",
     "showTitle": false,
     "tableResultSettingsMap": {},
     "title": ""
    }
   },
   "outputs": [],
   "source": [
    "# Create a list of your gene sets\n",
    "gene_sets <- list(\n",
    "  \"Diff_KC_Reynolds\" = na.omit(dif_reynolds$gene),\n",
    "  \"Diff_KC_Alkon\" = na.omit(dif_alkon$gene),\n",
    "  \"Diff_KC_AR\" = na.omit(dif_kc_filt$gene)\n",
    ")\n",
    "\n",
    "# Plot the Venn diagram with colors and title\n",
    "venn.plot <- venn.diagram(\n",
    "  x = gene_sets,\n",
    "  category.names = c(\"Diff_KC_Reynolds\", \"Diff_KC_Alkon\", \"Diff_KC_AR\"),\n",
    "  filename = NULL,  # Set to NULL to plot in RStudio\n",
    "  output = TRUE,\n",
    "  fill = c(\"red\", \"blue\", \"green\"), # Add colors\n",
    "  main = \"DEGs individual vs merged\", # Add title\n",
    "  cat.dist = c(0.04, 0.04, 0.04), # Adjust the distance of the category names from the circles\n",
    "  main.cex = 1, # Increase title size\n",
    "  cat.cex = 0.8, # Increase label size\n",
    "  cat.pos = c(-20, 20, 180), # Position labels more on the top and KC at the bottom\n",
    "  cex = 1.5 # Increase numbers size\n",
    ")\n",
    "\n",
    "# Display the plot\n",
    "grid.newpage()\n",
    "grid.draw(venn.plot)"
   ]
  },
  {
   "cell_type": "markdown",
   "metadata": {
    "application/vnd.databricks.v1+cell": {
     "cellMetadata": {},
     "inputWidgets": {},
     "nuid": "a32d4d58-334b-4e97-84b3-5961e0792aee",
     "showTitle": false,
     "tableResultSettingsMap": {},
     "title": ""
    }
   },
   "source": [
    "##Pathways"
   ]
  },
  {
   "cell_type": "code",
   "execution_count": 0,
   "metadata": {
    "application/vnd.databricks.v1+cell": {
     "cellMetadata": {
      "byteLimit": 2048000,
      "rowLimit": 10000
     },
     "inputWidgets": {},
     "nuid": "7172c7a6-8c08-4549-bce6-1bacf1825a6b",
     "showTitle": false,
     "tableResultSettingsMap": {},
     "title": ""
    }
   },
   "outputs": [],
   "source": [
    "dif_reynolds_p <- read.xlsx(\"/dbfs/mnt/sandbox/TFM_PAULA/Reynolds/LvsHC/GSEA_individually/pseudobulk/res_dif_kc_0.05_reynolds.xlsx\", sheet = 2)\n",
    "undif_reynolds_p <- read.xlsx(\"/dbfs/mnt/sandbox/TFM_PAULA/Reynolds/LvsHC/GSEA_individually/pseudobulk/res_undif_kc_0.05_reynolds.xlsx\", sheet = 2)"
   ]
  },
  {
   "cell_type": "code",
   "execution_count": 0,
   "metadata": {
    "application/vnd.databricks.v1+cell": {
     "cellMetadata": {
      "byteLimit": 2048000,
      "rowLimit": 10000
     },
     "inputWidgets": {},
     "nuid": "577372a5-1314-4af4-b21f-557f9753a947",
     "showTitle": false,
     "tableResultSettingsMap": {},
     "title": ""
    }
   },
   "outputs": [],
   "source": [
    "dif_reynolds_p <- dif_reynolds_p[dif_reynolds_p$p.adjust < 0.05, ]\n",
    "undif_reynolds_p <- undif_reynolds_p[undif_reynolds_p$p.adjust < 0.05, ]"
   ]
  },
  {
   "cell_type": "code",
   "execution_count": 0,
   "metadata": {
    "application/vnd.databricks.v1+cell": {
     "cellMetadata": {
      "byteLimit": 2048000,
      "rowLimit": 10000
     },
     "inputWidgets": {},
     "nuid": "1fc861b2-674a-444c-80e3-ca14f69bd672",
     "showTitle": false,
     "tableResultSettingsMap": {},
     "title": ""
    }
   },
   "outputs": [],
   "source": [
    "dim(dif_reynolds_p)"
   ]
  },
  {
   "cell_type": "code",
   "execution_count": 0,
   "metadata": {
    "application/vnd.databricks.v1+cell": {
     "cellMetadata": {
      "byteLimit": 2048000,
      "rowLimit": 10000
     },
     "inputWidgets": {},
     "nuid": "9465fdc1-cd33-4889-814c-85bcef7df280",
     "showTitle": false,
     "tableResultSettingsMap": {},
     "title": ""
    }
   },
   "outputs": [],
   "source": [
    "dim(undif_reynolds_p)"
   ]
  },
  {
   "cell_type": "code",
   "execution_count": 0,
   "metadata": {
    "application/vnd.databricks.v1+cell": {
     "cellMetadata": {
      "byteLimit": 2048000,
      "rowLimit": 10000
     },
     "inputWidgets": {},
     "nuid": "e592b9a8-f242-4f57-96f8-af7782627c99",
     "showTitle": false,
     "tableResultSettingsMap": {},
     "title": ""
    }
   },
   "outputs": [],
   "source": [
    "dif_alkon_p <- read.xlsx(\"/dbfs/mnt/sandbox/TFM_PAULA/Alkon/GSEA_individually/pseudobulk/res_dif_kc_0.05_alkon.xlsx\", sheet = 2)\n",
    "undif_alkon_p <- read.xlsx(\"/dbfs/mnt/sandbox/TFM_PAULA/Alkon/GSEA_individually/pseudobulk/res_undif_kc_0.05_alkon.xlsx\", sheet = 2)"
   ]
  },
  {
   "cell_type": "code",
   "execution_count": 0,
   "metadata": {
    "application/vnd.databricks.v1+cell": {
     "cellMetadata": {
      "byteLimit": 2048000,
      "rowLimit": 10000
     },
     "inputWidgets": {},
     "nuid": "baf54349-a3e3-4882-84dc-8e3a66c7feff",
     "showTitle": false,
     "tableResultSettingsMap": {},
     "title": ""
    }
   },
   "outputs": [],
   "source": [
    "dif_alkon_p <- dif_alkon_p[dif_alkon_p$p.adjust < 0.05, ]\n",
    "undif_alkon_p <- undif_alkon_p[undif_alkon_p$p.adjust < 0.05, ]"
   ]
  },
  {
   "cell_type": "code",
   "execution_count": 0,
   "metadata": {
    "application/vnd.databricks.v1+cell": {
     "cellMetadata": {
      "byteLimit": 2048000,
      "rowLimit": 10000
     },
     "inputWidgets": {},
     "nuid": "4a79fbd6-a392-49f8-ab08-02eea34f8261",
     "showTitle": false,
     "tableResultSettingsMap": {},
     "title": ""
    }
   },
   "outputs": [],
   "source": [
    "dim(dif_alkon_p)"
   ]
  },
  {
   "cell_type": "code",
   "execution_count": 0,
   "metadata": {
    "application/vnd.databricks.v1+cell": {
     "cellMetadata": {
      "byteLimit": 2048000,
      "rowLimit": 10000
     },
     "inputWidgets": {},
     "nuid": "4cc18006-291b-4768-94df-0b67a2ec6f50",
     "showTitle": false,
     "tableResultSettingsMap": {},
     "title": ""
    }
   },
   "outputs": [],
   "source": [
    "dim(undif_alkon_p)"
   ]
  },
  {
   "cell_type": "code",
   "execution_count": 0,
   "metadata": {
    "application/vnd.databricks.v1+cell": {
     "cellMetadata": {
      "byteLimit": 2048000,
      "rowLimit": 10000
     },
     "inputWidgets": {},
     "nuid": "3d7b3d25-4aef-4bd0-b076-b82d626c0368",
     "showTitle": false,
     "tableResultSettingsMap": {},
     "title": ""
    }
   },
   "outputs": [],
   "source": [
    "dim(undif_kc_p)"
   ]
  },
  {
   "cell_type": "code",
   "execution_count": 0,
   "metadata": {
    "application/vnd.databricks.v1+cell": {
     "cellMetadata": {
      "byteLimit": 2048000,
      "rowLimit": 10000
     },
     "inputWidgets": {},
     "nuid": "65de5b66-7da1-4794-821b-37328ea4182b",
     "showTitle": false,
     "tableResultSettingsMap": {},
     "title": ""
    }
   },
   "outputs": [],
   "source": [
    "dim(dif_kc_p)"
   ]
  },
  {
   "cell_type": "markdown",
   "metadata": {
    "application/vnd.databricks.v1+cell": {
     "cellMetadata": {},
     "inputWidgets": {},
     "nuid": "fc61fc3b-70e1-43f8-af52-c4f67c70097a",
     "showTitle": false,
     "tableResultSettingsMap": {},
     "title": ""
    }
   },
   "source": [
    "When doing individually, no terms are significantly enriched, while when doing in merge form i get 29 pathways for undif KC and 130 for diff KC"
   ]
  },
  {
   "cell_type": "markdown",
   "metadata": {
    "application/vnd.databricks.v1+cell": {
     "cellMetadata": {},
     "inputWidgets": {},
     "nuid": "cf766be6-48d9-49f7-8498-e637ee727a56",
     "showTitle": false,
     "tableResultSettingsMap": {},
     "title": ""
    }
   },
   "source": [
    "#Tcells"
   ]
  },
  {
   "cell_type": "markdown",
   "metadata": {
    "application/vnd.databricks.v1+cell": {
     "cellMetadata": {},
     "inputWidgets": {},
     "nuid": "41a6b980-6edf-4f3f-8088-5aea1a6d3d4e",
     "showTitle": false,
     "tableResultSettingsMap": {},
     "title": ""
    }
   },
   "source": [
    "####Common DEGs between the different annotations"
   ]
  },
  {
   "cell_type": "code",
   "execution_count": 0,
   "metadata": {
    "application/vnd.databricks.v1+cell": {
     "cellMetadata": {
      "byteLimit": 2048000,
      "rowLimit": 10000
     },
     "inputWidgets": {},
     "nuid": "bb9ff09e-6fd6-441a-8a5a-186ed4cd4ac2",
     "showTitle": false,
     "tableResultSettingsMap": {},
     "title": ""
    }
   },
   "outputs": [],
   "source": [
    "tcell <- read.xlsx(\"/dbfs/mnt/sandbox/TFM_PAULA/merged_AR_celltypist_results//DEGs/bulk.tcell.de.cov.xlsx\")\n",
    "th <- read.xlsx(\"/dbfs/mnt/sandbox/TFM_PAULA/merged_AR_celltypist_results/DEGs/bulk.th.de.cov.xlsx\")\n",
    "tcell_prev <- read.xlsx(\"/dbfs/mnt/sandbox/TFM_PAULA/merged_AR_results/adjusting_cov_dataset_DEGs/bulk.tcell.de.cov.xlsx\")"
   ]
  },
  {
   "cell_type": "code",
   "execution_count": 0,
   "metadata": {
    "application/vnd.databricks.v1+cell": {
     "cellMetadata": {
      "byteLimit": 2048000,
      "rowLimit": 10000
     },
     "inputWidgets": {},
     "nuid": "90d9d30d-be84-44e7-86fe-88f54e472f35",
     "showTitle": false,
     "tableResultSettingsMap": {},
     "title": ""
    }
   },
   "outputs": [],
   "source": [
    "th"
   ]
  },
  {
   "cell_type": "code",
   "execution_count": 0,
   "metadata": {
    "application/vnd.databricks.v1+cell": {
     "cellMetadata": {
      "byteLimit": 2048000,
      "rowLimit": 10000
     },
     "inputWidgets": {},
     "nuid": "e9d17b81-2853-4fb3-8243-12f0af1af359",
     "showTitle": false,
     "tableResultSettingsMap": {},
     "title": ""
    }
   },
   "outputs": [],
   "source": [
    "tcell <- tcell %>%\n",
    "  filter(padj < 0.05, abs(log2FoldChange) > 1)\n",
    "th <- th %>%\n",
    "  filter(padj < 0.05, abs(log2FoldChange) > 1)\n",
    "tcell_prev <- tcell_prev %>%\n",
    "  filter(padj < 0.05, abs(log2FoldChange) > 1)"
   ]
  },
  {
   "cell_type": "code",
   "execution_count": 0,
   "metadata": {
    "application/vnd.databricks.v1+cell": {
     "cellMetadata": {
      "byteLimit": 2048000,
      "rowLimit": 10000
     },
     "inputWidgets": {},
     "nuid": "8519ecd5-7012-4e48-91ff-cd0ea645e01b",
     "showTitle": false,
     "tableResultSettingsMap": {},
     "title": ""
    }
   },
   "outputs": [],
   "source": [
    "tcell_prev"
   ]
  },
  {
   "cell_type": "code",
   "execution_count": 0,
   "metadata": {
    "application/vnd.databricks.v1+cell": {
     "cellMetadata": {
      "byteLimit": 2048000,
      "rowLimit": 10000
     },
     "inputWidgets": {},
     "nuid": "6efd1369-9825-4a8d-929b-6c6eb3ca0a57",
     "showTitle": false,
     "tableResultSettingsMap": {},
     "title": ""
    }
   },
   "outputs": [],
   "source": [
    "# Create a list of your gene sets\n",
    "gene_sets <- list(\n",
    "  \"Tcell_prev\" = na.omit(tcell_prev$gene),\n",
    "  \"Th_Celltypist\" = na.omit(th$gene),\n",
    "  \"Tcell_Celltypist\" = na.omit(tcell$gene)\n",
    ")\n",
    "\n",
    "# Plot the Venn diagram with colors and title\n",
    "venn.plot <- venn.diagram(\n",
    "  x = gene_sets,\n",
    "  category.names = c(\"Tcell_prev\", \"Th_Celltypist\", \"Tcell_Celltypist\"),\n",
    "  filename = NULL,  # Set to NULL to plot in RStudio\n",
    "  output = TRUE,\n",
    "  fill = c(\"red\", \"blue\", \"green\"), # Add colors\n",
    "  main = \"DEGs comparison btw annotations\", # Add title\n",
    "  cat.dist = c(0.04, 0.04, 0.04), # Adjust the distance of the category names from the circles\n",
    "  main.cex = 1, # Increase title size\n",
    "  cat.cex = 0.8, # Increase label size\n",
    "  cat.pos = c(-20, 20, 180), # Position labels more on the top and KC at the bottom\n",
    "  cex = 1.5 # Increase numbers size\n",
    ")\n",
    "\n",
    "# Display the plot\n",
    "grid.newpage()\n",
    "grid.draw(venn.plot)"
   ]
  },
  {
   "cell_type": "code",
   "execution_count": 0,
   "metadata": {
    "application/vnd.databricks.v1+cell": {
     "cellMetadata": {
      "byteLimit": 2048000,
      "rowLimit": 10000
     },
     "inputWidgets": {},
     "nuid": "ff8ff670-a53c-4f77-95c0-e692f5eacb61",
     "showTitle": false,
     "tableResultSettingsMap": {},
     "title": ""
    }
   },
   "outputs": [],
   "source": [
    "# Assuming log2FoldChange is a column in the data frames\n",
    "# Filter for positive log2FoldChange before finding unique genes\n",
    "\n",
    "# Filter for positive log2FoldChange\n",
    "tcell_prev_positive <- tcell_prev[tcell_prev$log2FoldChange > 0, ]\n",
    "th_positive <- th[th$log2FoldChange > 0, ]\n",
    "tcell_positive <- tcell[tcell$log2FoldChange > 0, ]\n",
    "\n",
    "# Create a list of filtered gene sets\n",
    "gene_sets_positive <- list(\n",
    "  \"Tcell_prev\" = na.omit(tcell_prev_positive$gene),\n",
    "  \"Th_Celltypist\" = na.omit(th_positive$gene),\n",
    "  \"Tcell_Celltypist\" = na.omit(tcell_positive$gene)\n",
    ")\n",
    "\n",
    "# Find unique genes in each set with positive log2FoldChange\n",
    "unique_tcell_prev <- setdiff(gene_sets_positive$Tcell_prev, union(gene_sets_positive$Th_Celltypist, gene_sets_positive$Tcell_Celltypist))\n",
    "unique_th <- setdiff(gene_sets_positive$Th_Celltypist, union(gene_sets_positive$Tcell_prev, gene_sets_positive$Tcell_Celltypist))\n",
    "unique_tcell <- setdiff(gene_sets_positive$Tcell_Celltypist, union(gene_sets_positive$Tcell_prev, gene_sets_positive$Th_Celltypist))\n",
    "\n",
    "# Print unique genes\n",
    "print(unique_tcell_prev)\n",
    "print(unique_th)\n",
    "print(unique_tcell)"
   ]
  },
  {
   "cell_type": "code",
   "execution_count": 0,
   "metadata": {
    "application/vnd.databricks.v1+cell": {
     "cellMetadata": {
      "byteLimit": 2048000,
      "rowLimit": 10000
     },
     "inputWidgets": {},
     "nuid": "eb8000df-8588-4a60-8e0f-9f3718295a5d",
     "showTitle": false,
     "tableResultSettingsMap": {},
     "title": ""
    }
   },
   "outputs": [],
   "source": [
    "print(unique_tcell)\n"
   ]
  },
  {
   "cell_type": "markdown",
   "metadata": {
    "application/vnd.databricks.v1+cell": {
     "cellMetadata": {},
     "inputWidgets": {},
     "nuid": "dd33d55c-e3d9-4d83-865e-63b515fb4026",
     "showTitle": false,
     "tableResultSettingsMap": {},
     "title": ""
    }
   },
   "source": [
    "####Common pathways between the different annotations"
   ]
  },
  {
   "cell_type": "code",
   "execution_count": 0,
   "metadata": {
    "application/vnd.databricks.v1+cell": {
     "cellMetadata": {
      "byteLimit": 2048000,
      "rowLimit": 10000
     },
     "inputWidgets": {},
     "nuid": "4db476e1-4409-4ed4-b647-a519ecf4b248",
     "showTitle": false,
     "tableResultSettingsMap": {},
     "title": ""
    }
   },
   "outputs": [],
   "source": [
    "tcell_prev <- read.xlsx(\"/dbfs/mnt/sandbox/TFM_PAULA/merged_AR_results/GSEA/tcell_reactome_genes.xlsx\")\n",
    "tcell_reactome <- read.xlsx(\"/dbfs/mnt/sandbox/TFM_PAULA/merged_AR_celltypist_results/GSEA/tcell_reactome_genes.xlsx\")\n",
    "th_reactome <- read.xlsx(\"/dbfs/mnt/sandbox/TFM_PAULA/merged_AR_celltypist_results/GSEA/th_reactome_genes.xlsx\")"
   ]
  },
  {
   "cell_type": "code",
   "execution_count": 0,
   "metadata": {
    "application/vnd.databricks.v1+cell": {
     "cellMetadata": {
      "byteLimit": 2048000,
      "rowLimit": 10000
     },
     "inputWidgets": {},
     "nuid": "ec348bf4-2f75-4ea8-9e65-06dd4bb2e632",
     "showTitle": false,
     "tableResultSettingsMap": {},
     "title": ""
    }
   },
   "outputs": [],
   "source": [
    "max(tcell_reactome$p.adjust)"
   ]
  },
  {
   "cell_type": "code",
   "execution_count": 0,
   "metadata": {
    "application/vnd.databricks.v1+cell": {
     "cellMetadata": {
      "byteLimit": 2048000,
      "rowLimit": 10000
     },
     "inputWidgets": {},
     "nuid": "48ff7650-a039-4686-b1e9-b03eb3f04623",
     "showTitle": false,
     "tableResultSettingsMap": {},
     "title": ""
    }
   },
   "outputs": [],
   "source": [
    "# Create a list of your pathway sets\n",
    "pathway_sets <- list(\n",
    "  \"Tcell_Prev\" = na.omit(tcell_prev$ID),\n",
    "  \"Th_Celltypist\" = na.omit(th_reactome$ID),\n",
    "  \"Tcell_Celltypist\" = na.omit(tcell_reactome$ID)\n",
    ")\n",
    "\n",
    "# Plot the Venn diagram with colors and title\n",
    "venn.plot <- venn.diagram(\n",
    "  x = pathway_sets,\n",
    "  category.names = c(\"Tcell_Prev\", \"Th_Celltypist\", \"Tcell_Celltypist\"),\n",
    "  filename = NULL,  # Set to NULL to plot in RStudio\n",
    "  output = TRUE,\n",
    "  fill = c(\"red\", \"blue\", \"green\"), # Add colors\n",
    "  main = \"Pathway comparison btw annotations\", # Add title\n",
    "  cat.dist = c(0.04, 0.04, 0.04), # Adjust the distance of the category names from the circles\n",
    "  main.cex = 1, # Increase title size\n",
    "  cat.cex = 0.8, # Increase label size\n",
    "  cat.pos = c(-20, 20, 180), # Position labels more on the top and KC at the bottom\n",
    "  cex = 1.5 # Increase numbers size\n",
    ")\n",
    "\n",
    "# Display the plot\n",
    "grid.newpage()\n",
    "grid.draw(venn.plot)"
   ]
  },
  {
   "cell_type": "code",
   "execution_count": 0,
   "metadata": {
    "application/vnd.databricks.v1+cell": {
     "cellMetadata": {
      "byteLimit": 2048000,
      "rowLimit": 10000
     },
     "inputWidgets": {},
     "nuid": "27f68556-6c73-4a07-9bdd-930a2bbebd51",
     "showTitle": false,
     "tableResultSettingsMap": {},
     "title": ""
    }
   },
   "outputs": [],
   "source": [
    "# Save the pathways that are only in each set\n",
    "only_Tcell_Prev <- tcell_prev %>% filter(!ID %in% th_reactome$ID & !ID %in% tcell_reactome$ID)\n",
    "only_Th_Celltypist <- th_reactome %>% filter(!ID %in% tcell_prev$ID & !ID %in% tcell_reactome$ID)\n",
    "only_Tcell_Celltypist <- tcell_reactome %>% filter(!ID %in% tcell_prev$ID & !ID %in% th_reactome$ID)"
   ]
  },
  {
   "cell_type": "code",
   "execution_count": 0,
   "metadata": {
    "application/vnd.databricks.v1+cell": {
     "cellMetadata": {
      "byteLimit": 2048000,
      "rowLimit": 10000
     },
     "inputWidgets": {},
     "nuid": "2b396fb0-0552-4016-9787-6145689f3dd7",
     "showTitle": false,
     "tableResultSettingsMap": {},
     "title": ""
    }
   },
   "outputs": [],
   "source": [
    "dim(only_Tcell_Prev)"
   ]
  },
  {
   "cell_type": "code",
   "execution_count": 0,
   "metadata": {
    "application/vnd.databricks.v1+cell": {
     "cellMetadata": {
      "byteLimit": 2048000,
      "rowLimit": 10000
     },
     "inputWidgets": {},
     "nuid": "00f3b2ae-a2dc-4bd3-bf58-1701d9d50ba2",
     "showTitle": false,
     "tableResultSettingsMap": {},
     "title": ""
    }
   },
   "outputs": [],
   "source": [
    "dim(only_Th_Celltypist)"
   ]
  },
  {
   "cell_type": "code",
   "execution_count": 0,
   "metadata": {
    "application/vnd.databricks.v1+cell": {
     "cellMetadata": {
      "byteLimit": 2048000,
      "rowLimit": 10000
     },
     "inputWidgets": {},
     "nuid": "38adf8da-d618-4550-a0d0-2b147241e245",
     "showTitle": false,
     "tableResultSettingsMap": {},
     "title": ""
    }
   },
   "outputs": [],
   "source": [
    "dim(only_Tcell_Celltypist)"
   ]
  },
  {
   "cell_type": "code",
   "execution_count": 0,
   "metadata": {
    "application/vnd.databricks.v1+cell": {
     "cellMetadata": {
      "byteLimit": 2048000,
      "rowLimit": 10000
     },
     "inputWidgets": {},
     "nuid": "e661a2b4-b83c-4575-baaa-90867a27aa64",
     "showTitle": false,
     "tableResultSettingsMap": {},
     "title": ""
    }
   },
   "outputs": [],
   "source": [
    "write.xlsx(only_Tcell_Celltypist, \"/dbfs/mnt/sandbox/TFM_PAULA/merged_AR_celltypist_results/GSEA/pathways_only_tcell_celltypist.xlsx\")\n",
    "write.xlsx(only_Th_Celltypist, \"/dbfs/mnt/sandbox/TFM_PAULA/merged_AR_celltypist_results/GSEA/pathways_only_th_celltypist.xlsx\")\n",
    "write.xlsx(only_Tcell_Prev, \"/dbfs/mnt/sandbox/TFM_PAULA/merged_AR_celltypist_results/GSEA/pathways_only_tcell_prev.xlsx\")\n"
   ]
  },
  {
   "cell_type": "code",
   "execution_count": 0,
   "metadata": {
    "application/vnd.databricks.v1+cell": {
     "cellMetadata": {
      "byteLimit": 2048000,
      "rowLimit": 10000
     },
     "inputWidgets": {},
     "nuid": "8492e4c9-bc96-4661-b451-2b13ad5af4ad",
     "showTitle": false,
     "tableResultSettingsMap": {},
     "title": ""
    }
   },
   "outputs": [],
   "source": [
    "display(only_diff_kc_p)"
   ]
  },
  {
   "cell_type": "code",
   "execution_count": 0,
   "metadata": {
    "application/vnd.databricks.v1+cell": {
     "cellMetadata": {
      "byteLimit": 2048000,
      "rowLimit": 10000
     },
     "inputWidgets": {},
     "nuid": "f3d60044-251f-44ea-a527-c576370b3697",
     "showTitle": false,
     "tableResultSettingsMap": {},
     "title": ""
    }
   },
   "outputs": [],
   "source": []
  }
 ],
 "metadata": {
  "application/vnd.databricks.v1+notebook": {
   "computePreferences": null,
   "dashboards": [],
   "environmentMetadata": {
    "base_environment": "",
    "environment_version": "2"
   },
   "inputWidgetPreferences": null,
   "language": "r",
   "notebookMetadata": {
    "pythonIndentUnit": 4
   },
   "notebookName": "4.Comparison_with_previous_analysis",
   "widgets": {}
  },
  "language_info": {
   "name": "r"
  }
 },
 "nbformat": 4,
 "nbformat_minor": 0
}
