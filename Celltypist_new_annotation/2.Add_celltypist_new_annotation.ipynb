{
 "cells": [
  {
   "cell_type": "markdown",
   "metadata": {
    "application/vnd.databricks.v1+cell": {
     "cellMetadata": {},
     "inputWidgets": {},
     "nuid": "513a21bb-080b-4f3e-911a-3ce8133d6787",
     "showTitle": false,
     "tableResultSettingsMap": {},
     "title": ""
    }
   },
   "source": [
    "#Reannotate the cell types at Alkon dataset according to the celltypist predictions"
   ]
  },
  {
   "cell_type": "code",
   "execution_count": 0,
   "metadata": {
    "application/vnd.databricks.v1+cell": {
     "cellMetadata": {
      "byteLimit": 2048000,
      "rowLimit": 10000
     },
     "inputWidgets": {},
     "nuid": "cf79404a-9e8c-4888-a76e-270a78da6b81",
     "showTitle": false,
     "tableResultSettingsMap": {},
     "title": ""
    }
   },
   "outputs": [],
   "source": [
    ".libPaths(c(\"/dbfs/home/jtrincado@almirall.com/my_r_packages/Seurat_v2\", .libPaths()))\n",
    "library(dplyr)\n",
    "library(Seurat)\n",
    "library(patchwork)\n",
    "library(ggplot2)\n",
    "library(dittoSeq)\n",
    "library(dplyr)"
   ]
  },
  {
   "cell_type": "code",
   "execution_count": 0,
   "metadata": {
    "application/vnd.databricks.v1+cell": {
     "cellMetadata": {
      "byteLimit": 2048000,
      "rowLimit": 10000
     },
     "inputWidgets": {},
     "nuid": "616095bf-8abe-4cb3-abcc-58e751a47e7d",
     "showTitle": false,
     "tableResultSettingsMap": {},
     "title": ""
    }
   },
   "outputs": [],
   "source": [
    "celltype_predictions <- read.csv('/dbfs/mnt/sandbox/TFM_PAULA/Celltypist_ALKON_predictions_Adult_Human_Skin.csv')"
   ]
  },
  {
   "cell_type": "code",
   "execution_count": 0,
   "metadata": {
    "application/vnd.databricks.v1+cell": {
     "cellMetadata": {
      "byteLimit": 2048000,
      "rowLimit": 10000
     },
     "inputWidgets": {},
     "nuid": "598e6bbf-0467-49bd-9253-5b2000573d18",
     "showTitle": false,
     "tableResultSettingsMap": {},
     "title": ""
    }
   },
   "outputs": [],
   "source": [
    "alkon_orig <- readRDS(\"/dbfs/mnt/sandbox/TFM_PAULA/ALKON_PROCESSED_TFM.rds\")"
   ]
  },
  {
   "cell_type": "code",
   "execution_count": 0,
   "metadata": {
    "application/vnd.databricks.v1+cell": {
     "cellMetadata": {
      "byteLimit": 2048000,
      "rowLimit": 10000
     },
     "inputWidgets": {},
     "nuid": "3d6cffa5-57bd-4952-929b-f27e6762bd18",
     "showTitle": false,
     "tableResultSettingsMap": {},
     "title": ""
    }
   },
   "outputs": [],
   "source": [
    "colnames(celltype_predictions)"
   ]
  },
  {
   "cell_type": "code",
   "execution_count": 0,
   "metadata": {
    "application/vnd.databricks.v1+cell": {
     "cellMetadata": {
      "byteLimit": 2048000,
      "rowLimit": 10000
     },
     "inputWidgets": {},
     "nuid": "04d0687e-567f-4ed6-9c09-984545f4046e",
     "showTitle": false,
     "tableResultSettingsMap": {},
     "title": ""
    }
   },
   "outputs": [],
   "source": [
    "celltype_predictions_f <- celltype_predictions[,c(16:19)]\n",
    "rownames(celltype_predictions_f) <- celltype_predictions$X\n",
    "\n",
    "alkon <- AddMetaData(alkon_orig, metadata = celltype_predictions_f)\n",
    "head(alkon@meta.data, 5)"
   ]
  },
  {
   "cell_type": "code",
   "execution_count": 0,
   "metadata": {
    "application/vnd.databricks.v1+cell": {
     "cellMetadata": {
      "byteLimit": 2048000,
      "rowLimit": 10000
     },
     "inputWidgets": {},
     "nuid": "f2258970-139d-42fc-ad02-9113e0c3fd90",
     "showTitle": false,
     "tableResultSettingsMap": {},
     "title": ""
    }
   },
   "outputs": [],
   "source": [
    "#What is the mean, meadian and min confidence score for each cell type prediction\n",
    "stats <- celltype_predictions %>%\n",
    "  group_by(majority_voting) %>%\n",
    "  summarise(\n",
    "    mean_conf_score = mean(conf_score),\n",
    "    median_conf_score = median(conf_score),\n",
    "    min_conf_score = min(conf_score),\n",
    "    max_conf_score = max(conf_score),\n",
    "    sd_conf_score = sd(conf_score),\n",
    "  )\n",
    "  stats"
   ]
  },
  {
   "cell_type": "markdown",
   "metadata": {
    "application/vnd.databricks.v1+cell": {
     "cellMetadata": {},
     "inputWidgets": {},
     "nuid": "b8101704-2a71-45a0-8760-af867bf95173",
     "showTitle": false,
     "tableResultSettingsMap": {},
     "title": ""
    }
   },
   "source": [
    "We have to take into account there are cells found in Alkon that are not in Reynolds and the package is forcing them to be another cell types. I will use just the reannotation in KC and Tcells."
   ]
  },
  {
   "cell_type": "code",
   "execution_count": 0,
   "metadata": {
    "application/vnd.databricks.v1+cell": {
     "cellMetadata": {
      "byteLimit": 2048000,
      "rowLimit": 10000
     },
     "inputWidgets": {},
     "nuid": "2eaf2e60-876e-4357-930b-4bfae6fe31a0",
     "showTitle": false,
     "tableResultSettingsMap": {},
     "title": ""
    }
   },
   "outputs": [],
   "source": [
    "options(repr.plot.width=1200, repr.plot.height=1200)"
   ]
  },
  {
   "cell_type": "code",
   "execution_count": 0,
   "metadata": {
    "application/vnd.databricks.v1+cell": {
     "cellMetadata": {
      "byteLimit": 2048000,
      "rowLimit": 10000
     },
     "inputWidgets": {},
     "nuid": "8e112e7f-6d0d-4111-a1f0-5d991bef0b36",
     "showTitle": false,
     "tableResultSettingsMap": {},
     "title": ""
    }
   },
   "outputs": [],
   "source": [
    "DimPlot(alkon, reduction = \"umap\", group.by = \"majority_voting\", label = T) +\n",
    "  NoAxes()"
   ]
  },
  {
   "cell_type": "code",
   "execution_count": 0,
   "metadata": {
    "application/vnd.databricks.v1+cell": {
     "cellMetadata": {
      "byteLimit": 2048000,
      "rowLimit": 10000
     },
     "inputWidgets": {},
     "nuid": "cade0aa9-daa8-497b-9207-d0ef4c03c917",
     "showTitle": false,
     "tableResultSettingsMap": {},
     "title": ""
    }
   },
   "outputs": [],
   "source": [
    "DimPlot(alkon, reduction = \"umap\", group.by = \"predicted_labels\", label = T) +\n",
    "  NoAxes()"
   ]
  },
  {
   "cell_type": "code",
   "execution_count": 0,
   "metadata": {
    "application/vnd.databricks.v1+cell": {
     "cellMetadata": {
      "byteLimit": 2048000,
      "rowLimit": 10000
     },
     "inputWidgets": {},
     "nuid": "245075d4-39c3-498b-9c96-9b6b45318e33",
     "showTitle": false,
     "tableResultSettingsMap": {},
     "title": ""
    }
   },
   "outputs": [],
   "source": [
    "options(repr.plot.width=1900, repr.plot.height=1200)"
   ]
  },
  {
   "cell_type": "code",
   "execution_count": 0,
   "metadata": {
    "application/vnd.databricks.v1+cell": {
     "cellMetadata": {
      "byteLimit": 2048000,
      "rowLimit": 10000
     },
     "inputWidgets": {},
     "nuid": "fa2f9560-0f55-464e-9fa2-a9b5fe1ec2cf",
     "showTitle": false,
     "tableResultSettingsMap": {},
     "title": ""
    }
   },
   "outputs": [],
   "source": [
    "plot1 <- DimPlot(alkon, reduction = \"umap\", group.by = \"h_celltype_v4\", label = T) +\n",
    "  NoAxes()\n",
    "plot2 <- DimPlot(alkon, reduction = \"umap\", group.by = \"majority_voting\", label = T) +\n",
    "  NoAxes()\n",
    "\n",
    "plot1 + plot2"
   ]
  },
  {
   "cell_type": "code",
   "execution_count": 0,
   "metadata": {
    "application/vnd.databricks.v1+cell": {
     "cellMetadata": {
      "byteLimit": 2048000,
      "rowLimit": 10000
     },
     "inputWidgets": {},
     "nuid": "0a990e33-fd9e-4b43-bc8e-f72f55ed64c4",
     "showTitle": false,
     "tableResultSettingsMap": {},
     "title": ""
    }
   },
   "outputs": [],
   "source": [
    "# LE: lymphatic endothelial\n",
    "# VE: vascular endothelial\n",
    "# F2: fibroblasts"
   ]
  },
  {
   "cell_type": "code",
   "execution_count": 0,
   "metadata": {
    "application/vnd.databricks.v1+cell": {
     "cellMetadata": {
      "byteLimit": 2048000,
      "rowLimit": 10000
     },
     "inputWidgets": {},
     "nuid": "5d87e690-4400-4e19-9fc0-704ba5ca2cae",
     "showTitle": false,
     "tableResultSettingsMap": {},
     "title": ""
    }
   },
   "outputs": [],
   "source": [
    "table(alkon$majority_voting)\n"
   ]
  },
  {
   "cell_type": "code",
   "execution_count": 0,
   "metadata": {
    "application/vnd.databricks.v1+cell": {
     "cellMetadata": {
      "byteLimit": 2048000,
      "rowLimit": 10000
     },
     "inputWidgets": {},
     "nuid": "585a0c29-a694-40f8-ac4d-39eba885e4d8",
     "showTitle": false,
     "tableResultSettingsMap": {},
     "title": ""
    }
   },
   "outputs": [],
   "source": [
    "# Big cell type assignment\n",
    "alkon$big_cell_type <- as.character(alkon$majority_voting)\n",
    "alkon$big_cell_type[grep(\"F1|F2\",alkon$big_cell_type)] <- \"Fibroblasts\"\n",
    "alkon$big_cell_type[grep(\"Pericyte_2\",alkon$big_cell_type)] <- \"Pericyte\"\n",
    "alkon$big_cell_type[grep(\"Macro_2\",alkon$big_cell_type)] <- \"Macro\""
   ]
  },
  {
   "cell_type": "code",
   "execution_count": 0,
   "metadata": {
    "application/vnd.databricks.v1+cell": {
     "cellMetadata": {
      "byteLimit": 2048000,
      "rowLimit": 10000
     },
     "inputWidgets": {},
     "nuid": "246510de-5c9d-4893-9e80-a4ff1695e82d",
     "showTitle": false,
     "tableResultSettingsMap": {},
     "title": ""
    }
   },
   "outputs": [],
   "source": [
    "ggplot(alkon@meta.data, aes(x = h_celltype_v4 , fill = big_cell_type)) +\n",
    "  geom_bar(position = \"fill\") +  # Use \"dodge\" to separate bars for each predicted_labels\n",
    "  labs(title = \"Predicted Labels by Cluster\",\n",
    "       x = \"h_celltype_v4\",\n",
    "       y = \"Count\",\n",
    "       fill = \"Predicted Labels\") +\n",
    "  theme_minimal() +\n",
    "  theme(axis.text.x = element_text(angle = 90, hjust = 1)) +\n",
    "  scale_fill_manual(values=dittoColors())"
   ]
  },
  {
   "cell_type": "code",
   "execution_count": 0,
   "metadata": {
    "application/vnd.databricks.v1+cell": {
     "cellMetadata": {
      "byteLimit": 2048000,
      "rowLimit": 10000
     },
     "inputWidgets": {},
     "nuid": "efac9666-be6e-49c3-a029-eae9bfb3b2c1",
     "showTitle": false,
     "tableResultSettingsMap": {},
     "title": ""
    }
   },
   "outputs": [],
   "source": [
    "unique(alkon$big_cell_type)"
   ]
  },
  {
   "cell_type": "code",
   "execution_count": 0,
   "metadata": {
    "application/vnd.databricks.v1+cell": {
     "cellMetadata": {
      "byteLimit": 2048000,
      "rowLimit": 10000
     },
     "inputWidgets": {},
     "nuid": "e609b9b8-7aba-46c3-a23c-a7e5d884e786",
     "showTitle": false,
     "tableResultSettingsMap": {},
     "title": ""
    }
   },
   "outputs": [],
   "source": [
    "unique(alkon$h_celltype_v4)"
   ]
  },
  {
   "cell_type": "code",
   "execution_count": 0,
   "metadata": {
    "application/vnd.databricks.v1+cell": {
     "cellMetadata": {
      "byteLimit": 2048000,
      "rowLimit": 10000
     },
     "inputWidgets": {},
     "nuid": "249c0eeb-3083-4321-8b1e-fb3b08c4834d",
     "showTitle": false,
     "tableResultSettingsMap": {},
     "title": ""
    }
   },
   "outputs": [],
   "source": [
    "plot1 <- DimPlot(alkon, reduction = \"umap\", group.by = \"majority_voting\", label = T) +\n",
    "  NoAxes()\n",
    "plot2 <- DimPlot(alkon, reduction = \"umap\", group.by = \"seurat_clusters\", label = T) +\n",
    "  NoAxes()\n",
    "\n",
    "plot1 + plot2"
   ]
  },
  {
   "cell_type": "code",
   "execution_count": 0,
   "metadata": {
    "application/vnd.databricks.v1+cell": {
     "cellMetadata": {
      "byteLimit": 2048000,
      "rowLimit": 10000
     },
     "inputWidgets": {},
     "nuid": "fc335c6e-2359-4f71-8bb2-26d45ae91a62",
     "showTitle": false,
     "tableResultSettingsMap": {},
     "title": ""
    }
   },
   "outputs": [],
   "source": [
    "plot1 <- DimPlot(alkon, reduction = \"umap\", group.by = \"h_celltype_v4\", label = T) +\n",
    "  NoAxes()\n",
    "plot2 <- DimPlot(alkon, reduction = \"umap\", group.by = \"seurat_clusters\", label = T) +\n",
    "  NoAxes()\n",
    "\n",
    "plot1 + plot2"
   ]
  },
  {
   "cell_type": "code",
   "execution_count": 0,
   "metadata": {
    "application/vnd.databricks.v1+cell": {
     "cellMetadata": {
      "byteLimit": 2048000,
      "rowLimit": 10000
     },
     "inputWidgets": {},
     "nuid": "f6e66aa4-e487-407f-95bd-ea8a1f81e12d",
     "showTitle": false,
     "tableResultSettingsMap": {},
     "title": ""
    }
   },
   "outputs": [],
   "source": [
    "# Create another smoothened clustering\n",
    "alkon$celltypist <- ifelse(alkon$seurat_clusters %in% c(3, 5, 11, 20), \n",
    "                                             \"Fibroblasts\", \n",
    "                                             ifelse(alkon$seurat_clusters %in% c(9, 2, 30, 8), \n",
    "                                                    \"Endothelial blood\",\n",
    "                                                    ifelse(alkon$seurat_clusters %in% c(6, 27, 25), \n",
    "                                                    \"Prolif\",\n",
    "                                                        ifelse(alkon$seurat_clusters %in% c(12, 14, 29), \n",
    "                                                        \"Smooth Muscle\",\n",
    "                                                               ifelse(alkon$seurat_clusters %in% c(26), \n",
    "                                                               \"Sweat Gland\",\n",
    "                                                                      ifelse(alkon$seurat_clusters %in% c(19), \n",
    "                                                                      \"Melanocyte\",\n",
    "                                                                             ifelse(alkon$seurat_clusters %in% c(21), \n",
    "                                                                             \"Plasmocytoid  DC\",\n",
    "                                                                                    ifelse(alkon$seurat_clusters %in% c(15), \n",
    "                                                                                    \"LE\",\n",
    "                                                        alkon$big_cell_type))))))))"
   ]
  },
  {
   "cell_type": "code",
   "execution_count": 0,
   "metadata": {
    "application/vnd.databricks.v1+cell": {
     "cellMetadata": {
      "byteLimit": 2048000,
      "rowLimit": 10000
     },
     "inputWidgets": {},
     "nuid": "cc2ccddf-12cc-46ce-9a0c-98dabc1ab9c6",
     "showTitle": false,
     "tableResultSettingsMap": {},
     "title": ""
    }
   },
   "outputs": [],
   "source": [
    "plot1 <- DimPlot(alkon, reduction = \"umap\", group.by = \"h_celltype_v4\", label = T) +\n",
    "  NoAxes()\n",
    "plot2 <- DimPlot(alkon, reduction = \"umap\", group.by = \"celltypist\", label = T) +\n",
    "  NoAxes()\n",
    "\n",
    "plot1 + plot2"
   ]
  },
  {
   "cell_type": "code",
   "execution_count": 0,
   "metadata": {
    "application/vnd.databricks.v1+cell": {
     "cellMetadata": {
      "byteLimit": 2048000,
      "rowLimit": 10000
     },
     "inputWidgets": {},
     "nuid": "7a46e20c-604b-44a5-b17b-4ae7277cbdee",
     "showTitle": false,
     "tableResultSettingsMap": {},
     "title": ""
    }
   },
   "outputs": [],
   "source": [
    "names(alkon@meta.data)"
   ]
  },
  {
   "cell_type": "code",
   "execution_count": 0,
   "metadata": {
    "application/vnd.databricks.v1+cell": {
     "cellMetadata": {
      "byteLimit": 2048000,
      "rowLimit": 10000
     },
     "inputWidgets": {},
     "nuid": "991a0ef0-d3c0-46ac-963f-62f8e1a0bef3",
     "showTitle": false,
     "tableResultSettingsMap": {},
     "title": ""
    }
   },
   "outputs": [],
   "source": [
    "saveRDS(alkon, \"/dbfs/mnt/sandbox/TFM_PAULA/ALKON_CELLTYPIST_TFM.rds\")"
   ]
  },
  {
   "cell_type": "code",
   "execution_count": 0,
   "metadata": {
    "application/vnd.databricks.v1+cell": {
     "cellMetadata": {
      "byteLimit": 2048000,
      "rowLimit": 10000
     },
     "inputWidgets": {},
     "nuid": "f96d7cc9-7715-4c37-8340-cec9238bb264",
     "showTitle": false,
     "tableResultSettingsMap": {},
     "title": ""
    }
   },
   "outputs": [],
   "source": [
    "# Create another smoothened clustering\n",
    "alkon$smoothened_cluster_corrected <- ifelse(alkon$h_celltype_v4 %in% c(\"Smooth Muscle\", \"Sweat Gland\", \"Prolif\", \"Plasmacytoid DC\", \"LE\", \"Melanocytes\"), \n",
    "                                             alkon$h_celltype_v4, \n",
    "                                             alkon$big_cell_type)"
   ]
  },
  {
   "cell_type": "code",
   "execution_count": 0,
   "metadata": {
    "application/vnd.databricks.v1+cell": {
     "cellMetadata": {
      "byteLimit": 2048000,
      "rowLimit": 10000
     },
     "inputWidgets": {},
     "nuid": "28afdea8-6bb6-4dae-a5aa-2b3818c16de4",
     "showTitle": false,
     "tableResultSettingsMap": {},
     "title": ""
    }
   },
   "outputs": [],
   "source": [
    "plot1 <- DimPlot(alkon, reduction = \"umap\", group.by = \"h_celltype_v4\", label = T) +\n",
    "  NoAxes()\n",
    "plot2 <- DimPlot(alkon, reduction = \"umap\", group.by = \"smoothened_cluster_corrected\", label = T) +\n",
    "  NoAxes()\n",
    "\n",
    "plot1 + plot2"
   ]
  },
  {
   "cell_type": "code",
   "execution_count": 0,
   "metadata": {
    "application/vnd.databricks.v1+cell": {
     "cellMetadata": {
      "byteLimit": 2048000,
      "rowLimit": 10000
     },
     "inputWidgets": {},
     "nuid": "228404dc-7ab8-4814-96d8-1ae6c1101ca3",
     "showTitle": false,
     "tableResultSettingsMap": {},
     "title": ""
    }
   },
   "outputs": [],
   "source": [
    "# saveRDS(alkon, \"/dbfs/mnt/sandbox/TFM_PAULA/ALKON_CELLTYPIST_TFM.rds\")"
   ]
  }
 ],
 "metadata": {
  "application/vnd.databricks.v1+notebook": {
   "computePreferences": null,
   "dashboards": [],
   "environmentMetadata": {
    "base_environment": "",
    "environment_version": "2"
   },
   "inputWidgetPreferences": null,
   "language": "r",
   "notebookMetadata": {
    "pythonIndentUnit": 4
   },
   "notebookName": "2.Add_celltypist_new_annotation",
   "widgets": {}
  },
  "language_info": {
   "name": "r"
  }
 },
 "nbformat": 4,
 "nbformat_minor": 0
}
