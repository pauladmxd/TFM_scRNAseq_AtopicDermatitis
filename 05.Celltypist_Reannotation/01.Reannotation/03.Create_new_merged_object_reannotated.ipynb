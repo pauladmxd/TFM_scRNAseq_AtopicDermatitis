{
 "cells": [
  {
   "cell_type": "markdown",
   "metadata": {
    "application/vnd.databricks.v1+cell": {
     "cellMetadata": {},
     "inputWidgets": {},
     "nuid": "6faa397a-f4fe-4ac3-887e-4d4030682a54",
     "showTitle": false,
     "tableResultSettingsMap": {},
     "title": ""
    }
   },
   "source": [
    "#Merge datasets again (Alkon and Reynolds) with the new annotations.\n",
    "\n",
    "Reynolds will mantain the first annotation before my processing as now Alkon has similar annotation after the celltypist."
   ]
  },
  {
   "cell_type": "code",
   "execution_count": 0,
   "metadata": {
    "application/vnd.databricks.v1+cell": {
     "cellMetadata": {
      "byteLimit": 2048000,
      "rowLimit": 10000
     },
     "inputWidgets": {},
     "nuid": "63260a78-93f9-49c7-a4ed-fd0a038d83ff",
     "showTitle": false,
     "tableResultSettingsMap": {},
     "title": ""
    }
   },
   "outputs": [],
   "source": [
    ".libPaths(c(\"/dbfs/home/jtrincado@almirall.com/my_r_packages/Seurat_v2/\", .libPaths()))\n",
    "\n",
    "library(Seurat)\n",
    "library(dplyr)\n",
    "library(ggplot2)\n",
    "library(patchwork)\n",
    "options(future.globals.maxSize = 1e9)\n"
   ]
  },
  {
   "cell_type": "code",
   "execution_count": 0,
   "metadata": {
    "application/vnd.databricks.v1+cell": {
     "cellMetadata": {
      "byteLimit": 2048000,
      "rowLimit": 10000
     },
     "inputWidgets": {},
     "nuid": "323bc152-ab2c-436a-bb10-91b2bad3ac4d",
     "showTitle": false,
     "tableResultSettingsMap": {},
     "title": ""
    }
   },
   "outputs": [],
   "source": [
    "alkon <- readRDS(\"/dbfs/mnt/sandbox/TFM_PAULA/ALKON_CELLTYPIST_TFM.rds\") #new annotation\n",
    "reynolds <- readRDS(\"/dbfs/mnt/sandbox/TFM_PAULA/REYNOLDS_PROCESSED_TFM.rds\")"
   ]
  },
  {
   "cell_type": "code",
   "execution_count": 0,
   "metadata": {
    "application/vnd.databricks.v1+cell": {
     "cellMetadata": {
      "byteLimit": 2048000,
      "rowLimit": 10000
     },
     "inputWidgets": {},
     "nuid": "cc3158c5-6d04-489f-8666-5f812783b757",
     "showTitle": false,
     "tableResultSettingsMap": {},
     "title": ""
    }
   },
   "outputs": [],
   "source": [
    "alkon$dataset <- \"alkon\"\n",
    "reynolds$dataset <- \"reynolds\""
   ]
  },
  {
   "cell_type": "code",
   "execution_count": 0,
   "metadata": {
    "application/vnd.databricks.v1+cell": {
     "cellMetadata": {
      "byteLimit": 2048000,
      "rowLimit": 10000
     },
     "inputWidgets": {},
     "nuid": "6ee48763-4ab8-4e8a-a9a1-a08e774878ee",
     "showTitle": false,
     "tableResultSettingsMap": {},
     "title": ""
    }
   },
   "outputs": [],
   "source": [
    "names(reynolds@meta.data)"
   ]
  },
  {
   "cell_type": "code",
   "execution_count": 0,
   "metadata": {
    "application/vnd.databricks.v1+cell": {
     "cellMetadata": {
      "byteLimit": 2048000,
      "rowLimit": 10000
     },
     "inputWidgets": {},
     "nuid": "e8ab1f8a-7cde-4013-81fb-80c3f4d310e4",
     "showTitle": false,
     "tableResultSettingsMap": {},
     "title": ""
    }
   },
   "outputs": [],
   "source": [
    "reynolds_subset <- subset(reynolds, final_clustering == \"Differentiated_KC*\")\n",
    "nrow(reynolds_subset)"
   ]
  },
  {
   "cell_type": "code",
   "execution_count": 0,
   "metadata": {
    "application/vnd.databricks.v1+cell": {
     "cellMetadata": {
      "byteLimit": 2048000,
      "rowLimit": 10000
     },
     "inputWidgets": {},
     "nuid": "0428117a-b75d-4b00-be89-4d5f683aaea7",
     "showTitle": false,
     "tableResultSettingsMap": {},
     "title": ""
    }
   },
   "outputs": [],
   "source": [
    "reynolds_subset_2 <- subset(reynolds, final_clustering == \"Differentiated_KC\")\n",
    "nrow(reynolds_subset)"
   ]
  },
  {
   "cell_type": "code",
   "execution_count": 0,
   "metadata": {
    "application/vnd.databricks.v1+cell": {
     "cellMetadata": {
      "byteLimit": 2048000,
      "rowLimit": 10000
     },
     "inputWidgets": {},
     "nuid": "38dc7230-7b53-489a-bbff-6e2a39858185",
     "showTitle": false,
     "tableResultSettingsMap": {},
     "title": ""
    }
   },
   "outputs": [],
   "source": [
    "identical(reynolds_subset_2, reynolds_subset)"
   ]
  },
  {
   "cell_type": "markdown",
   "metadata": {
    "application/vnd.databricks.v1+cell": {
     "cellMetadata": {},
     "inputWidgets": {},
     "nuid": "edd9f474-fc86-45ac-a47f-4a515f51a11b",
     "showTitle": false,
     "tableResultSettingsMap": {},
     "title": ""
    }
   },
   "source": [
    "Differentiated_KC and Differentiated_KC* are the same cells."
   ]
  },
  {
   "cell_type": "code",
   "execution_count": 0,
   "metadata": {
    "application/vnd.databricks.v1+cell": {
     "cellMetadata": {
      "byteLimit": 2048000,
      "rowLimit": 10000
     },
     "inputWidgets": {},
     "nuid": "f9a0852f-dfbf-4c3e-8ad8-50558c862e3b",
     "showTitle": false,
     "tableResultSettingsMap": {},
     "title": ""
    }
   },
   "outputs": [],
   "source": [
    "options(repr.plot.width=2200, repr.plot.height=1200)"
   ]
  },
  {
   "cell_type": "code",
   "execution_count": 0,
   "metadata": {
    "application/vnd.databricks.v1+cell": {
     "cellMetadata": {
      "byteLimit": 2048000,
      "rowLimit": 10000
     },
     "inputWidgets": {},
     "nuid": "89e1faf7-af9a-4247-b195-c01f72f49bac",
     "showTitle": false,
     "tableResultSettingsMap": {},
     "title": ""
    }
   },
   "outputs": [],
   "source": [
    "DimPlot(reynolds, group.by=\"final_clustering\", label= T) + DimPlot(alkon, group.by=\"celltypist\", label= T)"
   ]
  },
  {
   "cell_type": "code",
   "execution_count": 0,
   "metadata": {
    "application/vnd.databricks.v1+cell": {
     "cellMetadata": {
      "byteLimit": 2048000,
      "rowLimit": 10000
     },
     "inputWidgets": {},
     "nuid": "111f97a5-7581-4bbf-b30b-0d5249a218ba",
     "showTitle": false,
     "tableResultSettingsMap": {},
     "title": ""
    }
   },
   "outputs": [],
   "source": [
    "reynolds$celltypist <- reynolds$final_clustering\n",
    "reynolds$celltypist <- gsub(\"Undifferentiated_KC.*\", \"Undifferentiated_KC\", reynolds$celltypist)\n",
    "reynolds$celltypist <- gsub(\"Differentiated_KC.*|Differentiated_KC\", \"Differentiated_KC\", reynolds$celltypist)\n",
    "reynolds$celltypist <- gsub(\"Proliferating_KC\", \"Prolif\", reynolds$celltypist)\n",
    "reynolds$celltypist <- gsub(\"F1|F2|F3\", \"Fibroblasts\", reynolds$celltypist)\n",
    "reynolds$celltypist <- gsub(\"LC_4|LC_3|LC_1|LC_2\", \"LC\", reynolds$celltypist)\n",
    "reynolds$celltypist <- gsub(\"Macro_1|Macro_2\", \"Macro\", reynolds$celltypist)\n",
    "reynolds$celltypist <- gsub(\"Pericyte_1_non_inflamm|Pericyte_2_inflamm\", \"Pericyte\", reynolds$celltypist)\n",
    "reynolds$celltypist <- gsub(\"VE1|VE2|VE3\", \"Endothelial blood\", reynolds$celltypist)"
   ]
  },
  {
   "cell_type": "code",
   "execution_count": 0,
   "metadata": {
    "application/vnd.databricks.v1+cell": {
     "cellMetadata": {
      "byteLimit": 2048000,
      "rowLimit": 10000
     },
     "inputWidgets": {},
     "nuid": "dd161c4b-b58d-439e-bc91-5c64b7d96c55",
     "showTitle": false,
     "tableResultSettingsMap": {},
     "title": ""
    }
   },
   "outputs": [],
   "source": [
    "DimPlot(reynolds, group.by=\"celltypist\", label= T) + DimPlot(alkon, group.by=\"celltypist\", label= T)"
   ]
  },
  {
   "cell_type": "markdown",
   "metadata": {
    "application/vnd.databricks.v1+cell": {
     "cellMetadata": {},
     "inputWidgets": {},
     "nuid": "6352e72a-75b5-4fa1-b56e-2a5d97e51af8",
     "showTitle": false,
     "tableResultSettingsMap": {},
     "title": ""
    }
   },
   "source": [
    "The only cells that really matter of this new annotation are the subgroups of Tcells --> Tc and Th, and the keratinocytes differentiated and undifferentiated."
   ]
  },
  {
   "cell_type": "code",
   "execution_count": 0,
   "metadata": {
    "application/vnd.databricks.v1+cell": {
     "cellMetadata": {
      "byteLimit": 2048000,
      "rowLimit": 10000
     },
     "inputWidgets": {},
     "nuid": "bd386a09-7864-4d00-a5d6-acf894fc821e",
     "showTitle": false,
     "tableResultSettingsMap": {},
     "title": ""
    }
   },
   "outputs": [],
   "source": [
    "alkon$celltype_AR <- alkon$celltypist\n",
    "reynolds$celltype_AR <- reynolds$celltypist #To have the same celltype name annotation as the other merged object"
   ]
  },
  {
   "cell_type": "code",
   "execution_count": 0,
   "metadata": {
    "application/vnd.databricks.v1+cell": {
     "cellMetadata": {
      "byteLimit": 2048000,
      "rowLimit": 10000
     },
     "inputWidgets": {},
     "nuid": "9d3a25f7-2713-43e0-8ba4-243420848098",
     "showTitle": false,
     "tableResultSettingsMap": {},
     "title": ""
    }
   },
   "outputs": [],
   "source": [
    "unique(alkon$Condition)"
   ]
  },
  {
   "cell_type": "code",
   "execution_count": 0,
   "metadata": {
    "application/vnd.databricks.v1+cell": {
     "cellMetadata": {
      "byteLimit": 2048000,
      "rowLimit": 10000
     },
     "inputWidgets": {},
     "nuid": "92182bb4-0007-4fee-ba21-e4be00c33b75",
     "showTitle": false,
     "tableResultSettingsMap": {},
     "title": ""
    }
   },
   "outputs": [],
   "source": [
    "alkon$Condition <- ifelse(alkon$Condition == \"AD\", \"Lesional\", alkon$Condition)"
   ]
  },
  {
   "cell_type": "code",
   "execution_count": 0,
   "metadata": {
    "application/vnd.databricks.v1+cell": {
     "cellMetadata": {
      "byteLimit": 2048000,
      "rowLimit": 10000
     },
     "inputWidgets": {},
     "nuid": "8612f59a-4248-4cbe-8ee0-64cfcd5079f1",
     "showTitle": false,
     "tableResultSettingsMap": {},
     "title": ""
    }
   },
   "outputs": [],
   "source": [
    "# # Create a new column 'Condition' with default value 'healthy'\n",
    "reynolds$Condition <- \"HC\"\n",
    "\n",
    "# Update 'Condition' based on the 'Status' and 'Site' columns\n",
    "reynolds$Condition[reynolds$Status == \"Eczema\" & reynolds$Site == \"lesion\"] <- \"Lesional\"\n",
    "reynolds$Condition[reynolds$Status == \"Eczema\" & reynolds$Site == \"non_lesion\"] <- \"Non_lesional\"\n"
   ]
  },
  {
   "cell_type": "code",
   "execution_count": 0,
   "metadata": {
    "application/vnd.databricks.v1+cell": {
     "cellMetadata": {
      "byteLimit": 2048000,
      "rowLimit": 10000
     },
     "inputWidgets": {},
     "nuid": "62d8dda8-390f-4225-a77a-fcb1b66b1510",
     "showTitle": false,
     "tableResultSettingsMap": {},
     "title": ""
    }
   },
   "outputs": [],
   "source": [
    "unique(reynolds$Condition)"
   ]
  },
  {
   "cell_type": "code",
   "execution_count": 0,
   "metadata": {
    "application/vnd.databricks.v1+cell": {
     "cellMetadata": {
      "byteLimit": 2048000,
      "rowLimit": 10000
     },
     "inputWidgets": {},
     "nuid": "df95a99f-4e14-40c2-bd52-6bb36a36dea5",
     "showTitle": false,
     "tableResultSettingsMap": {},
     "title": ""
    }
   },
   "outputs": [],
   "source": [
    "alkon$Condition_AR <- alkon$Condition\n",
    "reynolds$Condition_AR <- reynolds$Condition"
   ]
  },
  {
   "cell_type": "code",
   "execution_count": 0,
   "metadata": {
    "application/vnd.databricks.v1+cell": {
     "cellMetadata": {
      "byteLimit": 2048000,
      "rowLimit": 10000
     },
     "inputWidgets": {},
     "nuid": "117da723-2af7-474a-a842-8d983378525f",
     "showTitle": false,
     "tableResultSettingsMap": {},
     "title": ""
    }
   },
   "outputs": [],
   "source": [
    "reynolds$Sample_id <- reynolds$donor_id"
   ]
  },
  {
   "cell_type": "code",
   "execution_count": 0,
   "metadata": {
    "application/vnd.databricks.v1+cell": {
     "cellMetadata": {
      "byteLimit": 2048000,
      "rowLimit": 10000
     },
     "inputWidgets": {},
     "nuid": "9c5a6f94-fb07-4511-ae2f-082fdc2ae9cd",
     "showTitle": false,
     "tableResultSettingsMap": {},
     "title": ""
    }
   },
   "outputs": [],
   "source": [
    "AR <- merge(alkon, y = reynolds, add.cell.ids = c(\"alkon\", \"reynolds\"))"
   ]
  },
  {
   "cell_type": "code",
   "execution_count": 0,
   "metadata": {
    "application/vnd.databricks.v1+cell": {
     "cellMetadata": {
      "byteLimit": 2048000,
      "rowLimit": 10000
     },
     "inputWidgets": {},
     "nuid": "457c4954-1ed3-42c5-bf8d-533b3128696b",
     "showTitle": false,
     "tableResultSettingsMap": {},
     "title": ""
    }
   },
   "outputs": [],
   "source": [
    "AR <- NormalizeData(AR)\n",
    "AR <- FindVariableFeatures(AR)\n",
    "AR <- ScaleData(AR)\n",
    "AR <- RunPCA(AR)"
   ]
  },
  {
   "cell_type": "code",
   "execution_count": 0,
   "metadata": {
    "application/vnd.databricks.v1+cell": {
     "cellMetadata": {
      "byteLimit": 2048000,
      "rowLimit": 10000
     },
     "inputWidgets": {},
     "nuid": "67966689-ce6e-4898-a264-81967ebe2c59",
     "showTitle": false,
     "tableResultSettingsMap": {},
     "title": ""
    }
   },
   "outputs": [],
   "source": [
    "AR <- FindNeighbors(AR, dims = 1:30, reduction = \"pca\")\n",
    "AR <- FindClusters(AR, resolution = 2, cluster.name = \"unintegrated_clusters\")"
   ]
  },
  {
   "cell_type": "code",
   "execution_count": 0,
   "metadata": {
    "application/vnd.databricks.v1+cell": {
     "cellMetadata": {
      "byteLimit": 2048000,
      "rowLimit": 10000
     },
     "inputWidgets": {},
     "nuid": "84e06c93-0f4f-43b3-b7b3-908a92113d17",
     "showTitle": false,
     "tableResultSettingsMap": {},
     "title": ""
    }
   },
   "outputs": [],
   "source": [
    "AR <- RunUMAP(AR, dims = 1:30, reduction = \"pca\", reduction.name = \"umap.unintegrated\")"
   ]
  },
  {
   "cell_type": "code",
   "execution_count": 0,
   "metadata": {
    "application/vnd.databricks.v1+cell": {
     "cellMetadata": {
      "byteLimit": 2048000,
      "rowLimit": 10000
     },
     "inputWidgets": {},
     "nuid": "19b26efe-e65e-4a2e-9c2d-f4b52dd77860",
     "showTitle": false,
     "tableResultSettingsMap": {},
     "title": ""
    }
   },
   "outputs": [],
   "source": [
    "DimPlot(AR, group.by=\"celltype_AR\", label= T, reduction = \"umap.unintegrated\") + DimPlot(AR, group.by=\"dataset\", label= T, reduction = \"umap.unintegrated\") "
   ]
  },
  {
   "cell_type": "code",
   "execution_count": 0,
   "metadata": {
    "application/vnd.databricks.v1+cell": {
     "cellMetadata": {
      "byteLimit": 2048000,
      "rowLimit": 10000
     },
     "inputWidgets": {},
     "nuid": "8f6eea2b-1bfb-4979-b7c4-d47e021bae79",
     "showTitle": false,
     "tableResultSettingsMap": {},
     "title": ""
    }
   },
   "outputs": [],
   "source": [
    "# Save the merged Seurat object\n",
    " saveRDS(AR, file=\"/dbfs/mnt/sandbox/TFM_PAULA/MERGED_ARdatasets_celltypist_TFM.rds\")"
   ]
  },
  {
   "cell_type": "code",
   "execution_count": 0,
   "metadata": {
    "application/vnd.databricks.v1+cell": {
     "cellMetadata": {
      "byteLimit": 2048000,
      "rowLimit": 10000
     },
     "inputWidgets": {},
     "nuid": "dd5c9ca1-5ee7-4c44-90b7-6cbe8a16b10c",
     "showTitle": false,
     "tableResultSettingsMap": {},
     "title": ""
    }
   },
   "outputs": [],
   "source": [
    "AR <- readRDS(\"/dbfs/mnt/sandbox/TFM_PAULA/MERGED_ARdatasets_celltypist_TFM.rds\")"
   ]
  }
 ],
 "metadata": {
  "application/vnd.databricks.v1+notebook": {
   "computePreferences": null,
   "dashboards": [],
   "environmentMetadata": {
    "base_environment": "",
    "environment_version": "2"
   },
   "inputWidgetPreferences": null,
   "language": "r",
   "notebookMetadata": {
    "pythonIndentUnit": 4
   },
   "notebookName": "03.Create_new_merged_object_reannotated",
   "widgets": {}
  },
  "language_info": {
   "name": "r"
  }
 },
 "nbformat": 4,
 "nbformat_minor": 0
}
