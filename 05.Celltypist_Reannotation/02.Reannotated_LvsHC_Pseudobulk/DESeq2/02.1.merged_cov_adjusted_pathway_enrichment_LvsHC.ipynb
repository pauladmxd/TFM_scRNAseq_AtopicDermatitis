{
 "cells": [
  {
   "cell_type": "markdown",
   "metadata": {
    "application/vnd.databricks.v1+cell": {
     "cellMetadata": {},
     "inputWidgets": {},
     "nuid": "b6023bb8-f862-4993-998a-b3fc05adb194",
     "showTitle": false,
     "tableResultSettingsMap": {},
     "title": ""
    }
   },
   "source": [
    "# Pathway enrichment in LvsHC AR merged covariable dataset adjusted DEGs\n",
    "\n",
    "## (NEW ANNOTATION CELLTYPIST)\n",
    "In order to interpret the DEA genes found and understand the biological context:\n",
    "\n",
    "Here I will perform the pathway enrichment with different databases (KEGG, Reactome...) in the common markers of the datasets.\n",
    "\n",
    "Also GO enrichment."
   ]
  },
  {
   "cell_type": "code",
   "execution_count": 0,
   "metadata": {
    "application/vnd.databricks.v1+cell": {
     "cellMetadata": {},
     "inputWidgets": {},
     "nuid": "b0707ea2-8646-4a9e-81cb-64abcad1f415",
     "showTitle": false,
     "tableResultSettingsMap": {},
     "title": ""
    }
   },
   "outputs": [],
   "source": [
    "%sh\n",
    "apt-get -y install libglpk-dev #Correct igraph - Need t load before, compatible for 14.3 LTS"
   ]
  },
  {
   "cell_type": "code",
   "execution_count": 0,
   "metadata": {
    "application/vnd.databricks.v1+cell": {
     "cellMetadata": {},
     "inputWidgets": {},
     "nuid": "e54d1a70-020b-4c01-84ac-3fe462dc272d",
     "showTitle": false,
     "tableResultSettingsMap": {},
     "title": ""
    }
   },
   "outputs": [],
   "source": [
    "# Load libraries\n",
    "## Append the library folder\n",
    ".libPaths(c(\"/dbfs/home/boriol@almirall.com/my_r_packages/bulkRNASeq_PBMCs_R4.3\", .libPaths()))\n",
    "\n",
    "# Load libraries\n",
    "library(clusterProfiler)\n",
    "library(ReactomePA) \n",
    "library(msigdbr)\n",
    "library(DOSE)\n",
    "library(tidyverse)\n",
    "library(org.Hs.eg.db)\n",
    "library(biomaRt)\n",
    "\n",
    ".libPaths(c(\"/dbfs/home/jtrincado@almirall.com/my_r_packages/Seurat\", .libPaths()))\n",
    "library(openxlsx)\n",
    "library(enrichplot)\n",
    "library(ggplot2)"
   ]
  },
  {
   "cell_type": "markdown",
   "metadata": {
    "application/vnd.databricks.v1+cell": {
     "cellMetadata": {},
     "inputWidgets": {},
     "nuid": "06934cf2-931a-422c-8ced-5f152a22614e",
     "showTitle": false,
     "tableResultSettingsMap": {},
     "title": ""
    }
   },
   "source": [
    "##Functions, G_list and HALLMARKS databases needed"
   ]
  },
  {
   "cell_type": "code",
   "execution_count": 0,
   "metadata": {
    "application/vnd.databricks.v1+cell": {
     "cellMetadata": {},
     "inputWidgets": {},
     "nuid": "455906b9-b1fd-4cb1-882f-8f4418cf0f02",
     "showTitle": false,
     "tableResultSettingsMap": {},
     "title": ""
    }
   },
   "outputs": [],
   "source": [
    "prepare_gene_list <- function(res, G_list) {\n",
    "\n",
    "  # Rank by pvalue\n",
    "  res_rankedlist <- res %>%\n",
    "    mutate(padj = ifelse(padj == 0, 1e-300, padj)) %>%\n",
    "    mutate(rank = -log10(padj) * sign(log2FoldChange)) %>%\n",
    "    mutate(rank2 = stat)\n",
    "  \n",
    "  # Assigning the 'gene' column values to the 'hgnc_symbol'\n",
    "  res_rankedlist$hgnc_symbol <- res_rankedlist$gene\n",
    "    display(res_rankedlist)\n",
    "\n",
    "  gene_list <- left_join(res_rankedlist, G_list, by = \"hgnc_symbol\") %>% distinct_all()\n",
    "  gene_list_entrez_id <- gene_list %>% dplyr::select(entrezgene_id, rank) %>% distinct(entrezgene_id, .keep_all = TRUE) %>% drop_na()\n",
    "  # gene_list_entrez_id <- gene_list %>% dplyr::select(entrezgene_id, rank2) %>% distinct(entrezgene_id, .keep_all = TRUE) %>% drop_na()\n",
    "  \n",
    "  geneList_entrez <- gene_list_entrez_id$rank\n",
    "  # geneList_entrez <- gene_list_entrez_id$rank2\n",
    "  names(geneList_entrez) <- gene_list_entrez_id$entrezgene_id\n",
    "  \n",
    "  geneList_entrez <- geneList_entrez[is.finite(geneList_entrez)]\n",
    "  geneList_entrez <- sort(geneList_entrez, decreasing = TRUE)\n",
    "  geneList_entrez\n",
    "  return(geneList_entrez)\n",
    "}"
   ]
  },
  {
   "cell_type": "code",
   "execution_count": 0,
   "metadata": {
    "application/vnd.databricks.v1+cell": {
     "cellMetadata": {},
     "inputWidgets": {},
     "nuid": "14a16241-d15c-4ff9-a8f1-b1fa7150a1e1",
     "showTitle": true,
     "tableResultSettingsMap": {},
     "title": "dotplot"
    }
   },
   "outputs": [],
   "source": [
    "library(viridis)\n",
    "#Fuction to generate a dotplot of the top pathway results\n",
    "# Arguments: results, number of pathways (N with NES <0 and N with NES>0) and tittle of the plot\n",
    "dotplot_pathway_generator <- function(results, N, title) {\n",
    "  aux_pos <- arrange(results[which(results$NES > 0),], -NES)\n",
    "  aux_neg <- arrange(results[which(results$NES < 0),], -NES)\n",
    "  top_results <- unique(rbind(head(aux_pos, n = N), tail(aux_neg, n = N)))\n",
    "  \n",
    "  ggplot(top_results, aes(x = NES, y = reorder(Description, NES), size = setSize, color = p.adjust)) +\n",
    "    geom_point(alpha = 0.7) +\n",
    "    scale_color_viridis_c(option=\"plasma\") +\n",
    "    labs(x = \"NES\", y = \"Pathway\", size = \"SetSize\", color = \"P-value adjust\") +\n",
    "    ggtitle(title) +\n",
    "    theme_minimal() +\n",
    "    theme(axis.text.y = element_text(size = 10),\n",
    "          plot.title = element_text(hjust = 1, family = \"Arial\")) +\n",
    "    scale_size_continuous(range = c(2, 10))  # Adjust the range to make the dots bigger\n",
    "}"
   ]
  },
  {
   "cell_type": "code",
   "execution_count": 0,
   "metadata": {
    "application/vnd.databricks.v1+cell": {
     "cellMetadata": {},
     "inputWidgets": {},
     "nuid": "17adb47c-f001-4ed2-98ef-9b2fed6c73cd",
     "showTitle": false,
     "tableResultSettingsMap": {},
     "title": ""
    }
   },
   "outputs": [],
   "source": [
    "library(viridis)\n",
    "# Function to generate a dotplot of the top upregulated pathway results\n",
    "# Arguments: results, number of pathways (N with NES >0) and title of the plot\n",
    "dotplot_pathway_generator_up <- function(results, N, title) {\n",
    "  aux_pos <- arrange(results[which(results$NES > 0),], -NES)\n",
    "  top_results <- head(aux_pos, n = N)\n",
    "  \n",
    "  ggplot(top_results, aes(x = NES, y = reorder(Description, NES), size = setSize, color = p.adjust)) +\n",
    "    geom_point(alpha = 0.7) +\n",
    "    scale_color_viridis_c(option=\"plasma\") +\n",
    "    labs(x = \"NES\", y = \"Pathway\", size = \"SetSize\", color = \"P-value adjust\") +\n",
    "    ggtitle(title) +\n",
    "    theme_minimal() +\n",
    "    theme(axis.text.y = element_text(size = 13),\n",
    "          plot.title = element_text(hjust = 1, family = \"Arial\")) +\n",
    "    scale_size_continuous(range = c(2, 10))  # Adjust the range to make the dots bigger\n",
    "}"
   ]
  },
  {
   "cell_type": "code",
   "execution_count": 0,
   "metadata": {
    "application/vnd.databricks.v1+cell": {
     "cellMetadata": {},
     "inputWidgets": {},
     "nuid": "9025e8c7-74f3-40f6-9181-88c7c6e98a19",
     "showTitle": false,
     "tableResultSettingsMap": {},
     "title": ""
    }
   },
   "outputs": [],
   "source": [
    "get_enrichments <- function(gene_list, pval_cutoff, term2gene_hallmark, term2gene_hallmark2 = NULL) {\n",
    "  set.seed(123)\n",
    "  # KEGG enrichment\n",
    "  kegg_result <- gseKEGG(gene_list, pvalueCutoff = pval_cutoff, organism = \"hsa\", verbose = FALSE, eps=0)\n",
    "  res_kegg <- kegg_result@result\n",
    "  \n",
    "  # Reactome enrichment\n",
    "  reactome_result <- gsePathway(gene_list, pAdjustMethod = \"BH\", pvalueCutoff = pval_cutoff, organism = \"human\", verbose = FALSE,  eps=0)\n",
    "  res_reactome <- reactome_result@result\n",
    "  \n",
    "  # Hallmark enrichment\n",
    "  hallmark_result <- GSEA(gene_list, TERM2GENE = term2gene_hallmark, pvalueCutoff = pval_cutoff,  eps=0)\n",
    "  res_hallmark <- hallmark_result@result\n",
    "  \n",
    "  if (!is.null(term2gene_hallmark2)) {\n",
    "    hallmark_result2 <- GSEA(gene_list, TERM2GENE = term2gene_hallmark2, pvalueCutoff = pval_cutoff,  eps=0)\n",
    "    res_hallmark2 <- hallmark_result2@result\n",
    "    return(list(KEGG = res_kegg, Reactome = res_reactome, Hallmark1 = res_hallmark, Hallmark2 = res_hallmark2))\n",
    "  }\n",
    "  \n",
    "  return(list(KEGG = res_kegg, Reactome = res_reactome, Hallmark = res_hallmark))\n",
    "}"
   ]
  },
  {
   "cell_type": "code",
   "execution_count": 0,
   "metadata": {
    "application/vnd.databricks.v1+cell": {
     "cellMetadata": {},
     "inputWidgets": {},
     "nuid": "e5a1ff09-bc43-4656-a8bd-62cebeeddca4",
     "showTitle": false,
     "tableResultSettingsMap": {},
     "title": ""
    }
   },
   "outputs": [],
   "source": [
    "#Fuction to generate a barplot of the top pathway results\n",
    "# Arguments: results, number of pathways (N with NES <0 and N with NES>0) and tittle of the plot\n",
    "barplot_gsea <- function(res, N, title) {\n",
    "  aux_pos <- arrange(res[which(res$NES > 0),], -NES)\n",
    "  aux_neg <- arrange(res[which(res$NES < 0),], -NES)\n",
    "  GSEA_f <- unique(rbind(head(aux_pos, n = N), tail(aux_neg, n = N)))\n",
    "\n",
    "  options(repr.plot.width = 1400, repr.plot.height = 1000, echo = FALSE)\n",
    "  \n",
    "  plot <- ggplot(GSEA_f, aes(NES, fct_reorder(Description, NES), fill = p.adjust), showCategory = 2*N) + \n",
    "    geom_col(orientation = 'y') + \n",
    "    scale_fill_continuous(low = 'red', high = 'blue', guide = guide_colorbar(reverse = TRUE)) + \n",
    "    theme_minimal() + ylab(NULL) + xlab(\"NES\") +\n",
    "    ggtitle(title)\n",
    "  \n",
    "  return(plot)\n",
    "}"
   ]
  },
  {
   "cell_type": "code",
   "execution_count": 0,
   "metadata": {
    "application/vnd.databricks.v1+cell": {
     "cellMetadata": {},
     "inputWidgets": {},
     "nuid": "0707c354-cd69-4a26-80a9-840c2c190aef",
     "showTitle": false,
     "tableResultSettingsMap": {},
     "title": ""
    }
   },
   "outputs": [],
   "source": [
    "G_list <- readRDS(\"/dbfs/mnt/sandbox/RNASeq/PBMCs_IL4/pathways/G_list20240710.rds\") #List with all translations to other id names\n",
    "G_list <-  G_list %>% dplyr::filter(transcript_biotype == \"protein_coding\")"
   ]
  },
  {
   "cell_type": "code",
   "execution_count": 0,
   "metadata": {
    "application/vnd.databricks.v1+cell": {
     "cellMetadata": {},
     "inputWidgets": {},
     "nuid": "2d7bf825-e975-4db3-877e-ce82b12fa283",
     "showTitle": false,
     "tableResultSettingsMap": {},
     "title": ""
    }
   },
   "outputs": [],
   "source": [
    "#HALLMARKS\n",
    "\n",
    "library(msigdbr)\n",
    "msigdbr_species()\n",
    "\n",
    "m_df <- msigdbr(species = \"Homo sapiens\")\n",
    "head(m_df, 2) %>% as.data.frame\n",
    "msigdbr_collections()\n",
    "\n",
    "C2_t2g <- msigdbr(species = \"Homo sapiens\", category = \"C2\") %>% \n",
    "  dplyr::select(gs_name, entrez_gene)\n",
    "head(C2_t2g) #This collection includes gene sets curated from various sources such as online pathway databases and the biomedical literature. \n",
    "\n",
    "H_t2g <- msigdbr(species = \"Homo sapiens\", category = \"H\") %>% \n",
    "  dplyr::select(gs_name, entrez_gene)\n",
    "head(H_t2g) # These gene sets summarize and represent specific well-defined biological states or processes. They are designed to reduce noise and redundancy, providing a clearer biological context.\n",
    "\n",
    "\n",
    "CP_t2g <- msigdbr(species = \"Homo sapiens\", category = \"C2\", subcategory = \"CP\") %>% \n",
    "  dplyr::select(gs_name, entrez_gene)\n",
    "head(CP_t2g) #CP (Canonical Pathways): Gene sets from pathway databases representing canonical biological processes\n",
    "\n",
    "C7_t2g <- msigdbr(species = \"Homo sapiens\", category = \"C7\") %>% \n",
    "  dplyr::select(gs_name, entrez_gene)\n",
    "head(C7_t2g) #Immunologic Signatures: Gene sets representing expression signatures of immune cell states, cell types, and perturbations"
   ]
  },
  {
   "cell_type": "markdown",
   "metadata": {
    "application/vnd.databricks.v1+cell": {
     "cellMetadata": {},
     "inputWidgets": {},
     "nuid": "29d9bafe-ba51-4907-a56c-2f8e14c9b758",
     "showTitle": false,
     "tableResultSettingsMap": {},
     "title": ""
    }
   },
   "source": [
    "##Keratinocytes (Differentiated)"
   ]
  },
  {
   "cell_type": "code",
   "execution_count": 0,
   "metadata": {
    "application/vnd.databricks.v1+cell": {
     "cellMetadata": {},
     "inputWidgets": {},
     "nuid": "e94237ca-5829-4dbc-a6ae-72046320e812",
     "showTitle": false,
     "tableResultSettingsMap": {},
     "title": ""
    }
   },
   "outputs": [],
   "source": [
    "res_dif_kc <- read.xlsx(\"/dbfs/mnt/sandbox/TFM_PAULA/merged_AR_celltypist_results/DEGs/bulk.dif.kc.de.cov.xlsx\")"
   ]
  },
  {
   "cell_type": "code",
   "execution_count": 0,
   "metadata": {
    "application/vnd.databricks.v1+cell": {
     "cellMetadata": {},
     "inputWidgets": {},
     "nuid": "a4e3e87e-e696-4614-8e07-e47dd8ee3f59",
     "showTitle": false,
     "tableResultSettingsMap": {},
     "title": ""
    }
   },
   "outputs": [],
   "source": [
    "geneList_entrez_dif_kc <- prepare_gene_list(res_dif_kc, G_list)"
   ]
  },
  {
   "cell_type": "code",
   "execution_count": 0,
   "metadata": {
    "application/vnd.databricks.v1+cell": {
     "cellMetadata": {},
     "inputWidgets": {},
     "nuid": "0a6df513-8e68-4d16-a998-0635b7daf136",
     "showTitle": false,
     "tableResultSettingsMap": {},
     "title": ""
    }
   },
   "outputs": [],
   "source": [
    "res_dif_kc_0.05 <- get_enrichments(geneList_entrez_dif_kc, 0.05, H_t2g, C2_t2g)"
   ]
  },
  {
   "cell_type": "code",
   "execution_count": 0,
   "metadata": {
    "application/vnd.databricks.v1+cell": {
     "cellMetadata": {},
     "inputWidgets": {},
     "nuid": "38323e83-ab3b-4cf1-82e9-260f424e9922",
     "showTitle": false,
     "tableResultSettingsMap": {},
     "title": ""
    }
   },
   "outputs": [],
   "source": [
    "options(repr.plot.width=1300, repr.plot.height=1200,  echo= F)"
   ]
  },
  {
   "cell_type": "code",
   "execution_count": 0,
   "metadata": {
    "application/vnd.databricks.v1+cell": {
     "cellMetadata": {},
     "inputWidgets": {},
     "nuid": "bb44f155-befb-495a-affe-1bafc9ee3f9b",
     "showTitle": false,
     "tableResultSettingsMap": {},
     "title": ""
    }
   },
   "outputs": [],
   "source": [
    "dotplot_pathway_generator_up(res_dif_kc_0.05$Reactome, 30, \"Top 30 UP - Differentiated KC - Reactome\")"
   ]
  },
  {
   "cell_type": "code",
   "execution_count": 0,
   "metadata": {
    "application/vnd.databricks.v1+cell": {
     "cellMetadata": {},
     "inputWidgets": {},
     "nuid": "998d1b1c-4aa2-4b57-bb6a-d22d5dd6d2dd",
     "showTitle": false,
     "tableResultSettingsMap": {},
     "title": ""
    }
   },
   "outputs": [],
   "source": [
    "dotplot_pathway_generator(res_dif_kc_0.05$Reactome, 15, \"Top 30 - Differentiated KC - Reactome\")"
   ]
  },
  {
   "cell_type": "code",
   "execution_count": 0,
   "metadata": {
    "application/vnd.databricks.v1+cell": {
     "cellMetadata": {},
     "inputWidgets": {},
     "nuid": "71974c23-b9b6-44fc-a6f2-02b1f2b35a04",
     "showTitle": false,
     "tableResultSettingsMap": {},
     "title": ""
    }
   },
   "outputs": [],
   "source": [
    "barplot_gsea(res_dif_kc_0.05$Reactome, 20, \"Top - Differentiated KC AR - Reactome\")"
   ]
  },
  {
   "cell_type": "code",
   "execution_count": 0,
   "metadata": {
    "application/vnd.databricks.v1+cell": {
     "cellMetadata": {},
     "inputWidgets": {},
     "nuid": "e99c325f-ddeb-494b-bab8-c29ecd98a470",
     "showTitle": false,
     "tableResultSettingsMap": {},
     "title": ""
    }
   },
   "outputs": [],
   "source": [
    "barplot_gsea(res_dif_kc_0.05$Hallmark1, 20, \"Top - Differentiated KC AR - Hallmark H2\")"
   ]
  },
  {
   "cell_type": "code",
   "execution_count": 0,
   "metadata": {
    "application/vnd.databricks.v1+cell": {
     "cellMetadata": {},
     "inputWidgets": {},
     "nuid": "d35e6429-bba0-4e27-a074-ad6de3a10339",
     "showTitle": false,
     "tableResultSettingsMap": {},
     "title": ""
    }
   },
   "outputs": [],
   "source": [
    "barplot_gsea(res_dif_kc_0.05$Hallmark2, 20, \"Top - Differentiated KC AR - Hallmark C2tg\")"
   ]
  },
  {
   "cell_type": "code",
   "execution_count": 0,
   "metadata": {
    "application/vnd.databricks.v1+cell": {
     "cellMetadata": {},
     "inputWidgets": {},
     "nuid": "208de96b-9199-4924-a063-214b4c42f767",
     "showTitle": false,
     "tableResultSettingsMap": {},
     "title": ""
    }
   },
   "outputs": [],
   "source": [
    "barplot_gsea(res_dif_kc_0.05$KEGG, 20, \"Top - Differentiated KC AR - KEGG\")"
   ]
  },
  {
   "cell_type": "markdown",
   "metadata": {
    "application/vnd.databricks.v1+cell": {
     "cellMetadata": {},
     "inputWidgets": {},
     "nuid": "142bd92f-4220-4205-8846-17096dc63709",
     "showTitle": false,
     "tableResultSettingsMap": {},
     "title": ""
    }
   },
   "source": [
    "###GO"
   ]
  },
  {
   "cell_type": "code",
   "execution_count": 0,
   "metadata": {
    "application/vnd.databricks.v1+cell": {
     "cellMetadata": {},
     "inputWidgets": {},
     "nuid": "52effd5c-65e9-41c1-9430-5131377617dd",
     "showTitle": false,
     "tableResultSettingsMap": {},
     "title": ""
    }
   },
   "outputs": [],
   "source": [
    "set.seed(123)\n",
    "\n",
    "dif_kc_GO <- enrichGO(gene = names(geneList_entrez_dif_kc),\n",
    "                OrgDb         = org.Hs.eg.db,\n",
    "                keyType       = \"ENTREZID\",\n",
    "                ont           = \"BP\", \n",
    "                pAdjustMethod = \"BH\",\n",
    "                pvalueCutoff  = 0.05,\n",
    "                qvalueCutoff = 0.2)\n",
    "                \n",
    "# Extract results\n",
    "res_dif_kc_GO <- dif_kc_GO@result\n",
    "\n",
    "# Filter results to include only those with p.adjust < 0.05\n",
    "filtered_res_dif_kc_GO <- res_dif_kc_GO %>%\n",
    "  filter(p.adjust < 0.05)\n",
    "\n",
    "# Display filtered results\n",
    "display(filtered_res_dif_kc_GO)"
   ]
  },
  {
   "cell_type": "code",
   "execution_count": 0,
   "metadata": {
    "application/vnd.databricks.v1+cell": {
     "cellMetadata": {},
     "inputWidgets": {},
     "nuid": "e2dc49fe-15f9-4c27-ac53-1258db45a421",
     "showTitle": false,
     "tableResultSettingsMap": {},
     "title": ""
    }
   },
   "outputs": [],
   "source": [
    "options(repr.plot.width=1200, repr.plot.height=1200,  echo= F)\n",
    "barplot(dif_kc_GO, showCategory=25, label_format=100, font.size=9) + ggtitle(\"AR DIFF KC - L vs HC - GO\")"
   ]
  },
  {
   "cell_type": "markdown",
   "metadata": {
    "application/vnd.databricks.v1+cell": {
     "cellMetadata": {},
     "inputWidgets": {},
     "nuid": "dabbb9e2-4fc4-486c-9879-d66989db6d92",
     "showTitle": false,
     "tableResultSettingsMap": {},
     "title": ""
    }
   },
   "source": [
    "###Save results"
   ]
  },
  {
   "cell_type": "code",
   "execution_count": 0,
   "metadata": {
    "application/vnd.databricks.v1+cell": {
     "cellMetadata": {},
     "inputWidgets": {},
     "nuid": "ebe801f3-2a70-4ad0-9bab-e74819272d14",
     "showTitle": false,
     "tableResultSettingsMap": {},
     "title": ""
    }
   },
   "outputs": [],
   "source": [
    "#Save results\n",
    "write.xlsx(res_dif_kc_0.05, \"/dbfs/mnt/sandbox/TFM_PAULA/merged_AR_celltypist_results/GSEA/res_dif_kc_0.05_AR.xlsx\")\n",
    "write.xlsx(dif_kc_GO, \"/dbfs/mnt/sandbox/TFM_PAULA/merged_AR_celltypist_results/GSEA/res_dif_kc_AR_GO.xlsx\")"
   ]
  },
  {
   "cell_type": "markdown",
   "metadata": {
    "application/vnd.databricks.v1+cell": {
     "cellMetadata": {},
     "inputWidgets": {},
     "nuid": "bb31ca48-b838-4c86-8a45-9a8d21b730eb",
     "showTitle": false,
     "tableResultSettingsMap": {},
     "title": ""
    }
   },
   "source": [
    "##Keratinocytes (Undifferentiated)"
   ]
  },
  {
   "cell_type": "code",
   "execution_count": 0,
   "metadata": {
    "application/vnd.databricks.v1+cell": {
     "cellMetadata": {},
     "inputWidgets": {},
     "nuid": "9cdbd315-aff5-42ed-b2dc-2b561212d440",
     "showTitle": false,
     "tableResultSettingsMap": {},
     "title": ""
    }
   },
   "outputs": [],
   "source": [
    "res_undif_kc <- read.xlsx(\"/dbfs/mnt/sandbox/TFM_PAULA/merged_AR_celltypist_results/DEGs/bulk.undif.kc.de.cov.xlsx\")"
   ]
  },
  {
   "cell_type": "code",
   "execution_count": 0,
   "metadata": {
    "application/vnd.databricks.v1+cell": {
     "cellMetadata": {},
     "inputWidgets": {},
     "nuid": "37215ae6-3395-4e82-891f-727cff0cfc61",
     "showTitle": false,
     "tableResultSettingsMap": {},
     "title": ""
    }
   },
   "outputs": [],
   "source": [
    "geneList_entrez_undif_kc <- prepare_gene_list(res_undif_kc, G_list)"
   ]
  },
  {
   "cell_type": "code",
   "execution_count": 0,
   "metadata": {
    "application/vnd.databricks.v1+cell": {
     "cellMetadata": {},
     "inputWidgets": {},
     "nuid": "ae4fb7b3-5b45-4a63-bae0-ed634cdec2d2",
     "showTitle": false,
     "tableResultSettingsMap": {},
     "title": ""
    }
   },
   "outputs": [],
   "source": [
    "res_undif_kc_0.05 <- get_enrichments(geneList_entrez_undif_kc, 0.05, H_t2g, C2_t2g)"
   ]
  },
  {
   "cell_type": "code",
   "execution_count": 0,
   "metadata": {
    "application/vnd.databricks.v1+cell": {
     "cellMetadata": {},
     "inputWidgets": {},
     "nuid": "b5e03543-707a-4e8f-82e4-278aef0fac9d",
     "showTitle": false,
     "tableResultSettingsMap": {},
     "title": ""
    }
   },
   "outputs": [],
   "source": [
    "barplot_gsea(res_undif_kc_0.05$Reactome, 20, \"Top - Undifferentiated KC AR - Reactome\")"
   ]
  },
  {
   "cell_type": "code",
   "execution_count": 0,
   "metadata": {
    "application/vnd.databricks.v1+cell": {
     "cellMetadata": {},
     "inputWidgets": {},
     "nuid": "f6cfd441-def3-46f1-ac3b-54ffb07513f2",
     "showTitle": false,
     "tableResultSettingsMap": {},
     "title": ""
    }
   },
   "outputs": [],
   "source": [
    "barplot_gsea(res_undif_kc_0.05$Hallmark1, 20, \"Top - Undifferentiated KC AR - Hallmark H2\")"
   ]
  },
  {
   "cell_type": "code",
   "execution_count": 0,
   "metadata": {
    "application/vnd.databricks.v1+cell": {
     "cellMetadata": {},
     "inputWidgets": {},
     "nuid": "07929564-c419-412a-88d3-24a847fb839e",
     "showTitle": false,
     "tableResultSettingsMap": {},
     "title": ""
    }
   },
   "outputs": [],
   "source": [
    "options(repr.plot.width=1200, repr.plot.height=1000,  echo= F)"
   ]
  },
  {
   "cell_type": "code",
   "execution_count": 0,
   "metadata": {
    "application/vnd.databricks.v1+cell": {
     "cellMetadata": {},
     "inputWidgets": {},
     "nuid": "9a2faba0-7455-4c3d-9549-629e17300479",
     "showTitle": false,
     "tableResultSettingsMap": {},
     "title": ""
    }
   },
   "outputs": [],
   "source": [
    "dotplot_pathway_generator_up(res_undif_kc_0.05$Reactome, 15, \"Top 15 UP - Undifferentiated KC - Reactome\")"
   ]
  },
  {
   "cell_type": "code",
   "execution_count": 0,
   "metadata": {
    "application/vnd.databricks.v1+cell": {
     "cellMetadata": {},
     "inputWidgets": {},
     "nuid": "312baab2-69c5-4412-be80-e0ccc309a40c",
     "showTitle": false,
     "tableResultSettingsMap": {},
     "title": ""
    }
   },
   "outputs": [],
   "source": [
    "dotplot_pathway_generator(res_undif_kc_0.05$Reactome, 15, \"Top 30 - Undiff KC - Reactome (Merged-celltypist)\")"
   ]
  },
  {
   "cell_type": "code",
   "execution_count": 0,
   "metadata": {
    "application/vnd.databricks.v1+cell": {
     "cellMetadata": {},
     "inputWidgets": {},
     "nuid": "30714885-5cdf-4f7e-88e6-2a7f7360c136",
     "showTitle": false,
     "tableResultSettingsMap": {},
     "title": ""
    }
   },
   "outputs": [],
   "source": [
    "barplot_gsea(res_undif_kc_0.05$Hallmark2, 20, \"Top - Undifferentiated KC AR - Hallmark C2tg\")"
   ]
  },
  {
   "cell_type": "code",
   "execution_count": 0,
   "metadata": {
    "application/vnd.databricks.v1+cell": {
     "cellMetadata": {},
     "inputWidgets": {},
     "nuid": "cf79a681-4d3e-46ab-8700-ab824977af50",
     "showTitle": false,
     "tableResultSettingsMap": {},
     "title": ""
    }
   },
   "outputs": [],
   "source": [
    "barplot_gsea(res_undif_kc_0.05$KEGG, 20, \"Top - Undifferentiated KC AR - KEGG\")"
   ]
  },
  {
   "cell_type": "markdown",
   "metadata": {
    "application/vnd.databricks.v1+cell": {
     "cellMetadata": {},
     "inputWidgets": {},
     "nuid": "5c597dcc-aea6-44f9-aa75-f2a0fc31c130",
     "showTitle": false,
     "tableResultSettingsMap": {},
     "title": ""
    }
   },
   "source": [
    "###GO"
   ]
  },
  {
   "cell_type": "code",
   "execution_count": 0,
   "metadata": {
    "application/vnd.databricks.v1+cell": {
     "cellMetadata": {},
     "inputWidgets": {},
     "nuid": "6dcc7f1b-0870-4faa-91ec-4f5514e3dfc3",
     "showTitle": false,
     "tableResultSettingsMap": {},
     "title": ""
    }
   },
   "outputs": [],
   "source": [
    "set.seed(123)\n",
    "\n",
    "undif_kc_GO <- enrichGO(gene = names(geneList_entrez_undif_kc),\n",
    "                OrgDb         = org.Hs.eg.db,\n",
    "                keyType       = \"ENTREZID\",\n",
    "                ont           = \"BP\", \n",
    "                pAdjustMethod = \"BH\",\n",
    "                pvalueCutoff  = 0.05,\n",
    "                qvalueCutoff = 0.2)\n",
    "                \n",
    "# Extract results\n",
    "res_undif_kc_GO <- undif_kc_GO@result\n",
    "\n",
    "# Filter results to include only those with p.adjust < 0.05\n",
    "filtered_res_undif_kc_GO <- res_undif_kc_GO %>%\n",
    "  filter(p.adjust < 0.05)\n",
    "\n",
    "# Display filtered results\n",
    "display(filtered_res_undif_kc_GO)"
   ]
  },
  {
   "cell_type": "code",
   "execution_count": 0,
   "metadata": {
    "application/vnd.databricks.v1+cell": {
     "cellMetadata": {},
     "inputWidgets": {},
     "nuid": "b4bd62b0-40c3-4931-b999-573558ccf401",
     "showTitle": false,
     "tableResultSettingsMap": {},
     "title": ""
    }
   },
   "outputs": [],
   "source": [
    "options(repr.plot.width=1200, repr.plot.height=1200,  echo= F)\n",
    "barplot(undif_kc_GO, showCategory=25, label_format=100, font.size=9) + ggtitle(\"AR Undiff KC - L vs HC - GO\")"
   ]
  },
  {
   "cell_type": "markdown",
   "metadata": {
    "application/vnd.databricks.v1+cell": {
     "cellMetadata": {},
     "inputWidgets": {},
     "nuid": "8c9590c3-d47c-4252-92d5-ed99a17bb6e8",
     "showTitle": false,
     "tableResultSettingsMap": {},
     "title": ""
    }
   },
   "source": [
    "###Save results"
   ]
  },
  {
   "cell_type": "code",
   "execution_count": 0,
   "metadata": {
    "application/vnd.databricks.v1+cell": {
     "cellMetadata": {},
     "inputWidgets": {},
     "nuid": "d9c0e971-bae0-4ebc-a0ad-4b2a58b0100e",
     "showTitle": false,
     "tableResultSettingsMap": {},
     "title": ""
    }
   },
   "outputs": [],
   "source": [
    "#Save results\n",
    "write.xlsx(res_undif_kc_0.05, \"/dbfs/mnt/sandbox/TFM_PAULA/merged_AR_celltypist_results/GSEA/res_undif_kc_0.05_AR.xlsx\")\n",
    "write.xlsx(undif_kc_GO, \"/dbfs/mnt/sandbox/TFM_PAULA/merged_AR_celltypist_results/GSEA/res_undif_kc_AR_GO.xlsx\")"
   ]
  },
  {
   "cell_type": "markdown",
   "metadata": {
    "application/vnd.databricks.v1+cell": {
     "cellMetadata": {},
     "inputWidgets": {},
     "nuid": "e6d1022a-364a-4052-8cbc-f6761f80ce97",
     "showTitle": false,
     "tableResultSettingsMap": {},
     "title": ""
    }
   },
   "source": [
    "##Tcell"
   ]
  },
  {
   "cell_type": "code",
   "execution_count": 0,
   "metadata": {
    "application/vnd.databricks.v1+cell": {
     "cellMetadata": {},
     "inputWidgets": {},
     "nuid": "c3d6e292-782b-4abe-a505-2ef6d435891d",
     "showTitle": false,
     "tableResultSettingsMap": {},
     "title": ""
    }
   },
   "outputs": [],
   "source": [
    "res_tcell <- read.xlsx(\"/dbfs/mnt/sandbox/TFM_PAULA/merged_AR_celltypist_results/DEGs/bulk.tcell.de.cov.xlsx\")"
   ]
  },
  {
   "cell_type": "code",
   "execution_count": 0,
   "metadata": {
    "application/vnd.databricks.v1+cell": {
     "cellMetadata": {},
     "inputWidgets": {},
     "nuid": "70c7edf4-67d9-4b75-ac1f-050c911b8471",
     "showTitle": false,
     "tableResultSettingsMap": {},
     "title": ""
    }
   },
   "outputs": [],
   "source": [
    "res_tcell"
   ]
  },
  {
   "cell_type": "code",
   "execution_count": 0,
   "metadata": {
    "application/vnd.databricks.v1+cell": {
     "cellMetadata": {},
     "inputWidgets": {},
     "nuid": "b2398429-1d1c-4b0f-a8c7-1a95cb532ee3",
     "showTitle": false,
     "tableResultSettingsMap": {},
     "title": ""
    }
   },
   "outputs": [],
   "source": [
    "geneList_entrez_Tcell <- prepare_gene_list(res_tcell, G_list)"
   ]
  },
  {
   "cell_type": "markdown",
   "metadata": {
    "application/vnd.databricks.v1+cell": {
     "cellMetadata": {},
     "inputWidgets": {},
     "nuid": "a68fbe37-b408-4259-b5ff-81024e47dbfd",
     "showTitle": false,
     "tableResultSettingsMap": {},
     "title": ""
    }
   },
   "source": [
    "###ENRICHMENT"
   ]
  },
  {
   "cell_type": "code",
   "execution_count": 0,
   "metadata": {
    "application/vnd.databricks.v1+cell": {
     "cellMetadata": {},
     "inputWidgets": {},
     "nuid": "ed16c862-d18a-4160-878b-b9324f398a67",
     "showTitle": false,
     "tableResultSettingsMap": {},
     "title": ""
    }
   },
   "outputs": [],
   "source": [
    "res_tcell_0.05 <- get_enrichments(geneList_entrez_Tcell, 0.05, H_t2g, C2_t2g)"
   ]
  },
  {
   "cell_type": "code",
   "execution_count": 0,
   "metadata": {
    "application/vnd.databricks.v1+cell": {
     "cellMetadata": {},
     "inputWidgets": {},
     "nuid": "106c34ae-b503-4df0-b8f1-1d5ece7afd22",
     "showTitle": false,
     "tableResultSettingsMap": {},
     "title": ""
    }
   },
   "outputs": [],
   "source": [
    "barplot_gsea(res_tcell_0.05$Hallmark1, 20, \"Top 40 Tcell AR - Hallmark H\")"
   ]
  },
  {
   "cell_type": "code",
   "execution_count": 0,
   "metadata": {
    "application/vnd.databricks.v1+cell": {
     "cellMetadata": {},
     "inputWidgets": {},
     "nuid": "48663eea-d67e-4b49-8129-e8ba36f47233",
     "showTitle": false,
     "tableResultSettingsMap": {},
     "title": ""
    }
   },
   "outputs": [],
   "source": [
    "options(repr.plot.width=1100, repr.plot.height=1000)"
   ]
  },
  {
   "cell_type": "code",
   "execution_count": 0,
   "metadata": {
    "application/vnd.databricks.v1+cell": {
     "cellMetadata": {},
     "inputWidgets": {},
     "nuid": "96dbb5af-9b78-47dd-82ca-a4b115c19d79",
     "showTitle": false,
     "tableResultSettingsMap": {},
     "title": ""
    }
   },
   "outputs": [],
   "source": [
    "dotplot_pathway_generator_up(res_tcell_0.05$Reactome, 15, \"Top 15 UP - Tcell (celltypist) - Reactome\")"
   ]
  },
  {
   "cell_type": "code",
   "execution_count": 0,
   "metadata": {
    "application/vnd.databricks.v1+cell": {
     "cellMetadata": {},
     "inputWidgets": {},
     "nuid": "b2ea985c-d0e0-48c5-9e1b-6a6adf3a27db",
     "showTitle": false,
     "tableResultSettingsMap": {},
     "title": ""
    }
   },
   "outputs": [],
   "source": [
    "dotplot_pathway_generator(res_tcell_0.05$Reactome, 15, \"Top 30 - Tcell - Reactome (Merged-celltypist)\")"
   ]
  },
  {
   "cell_type": "code",
   "execution_count": 0,
   "metadata": {
    "application/vnd.databricks.v1+cell": {
     "cellMetadata": {},
     "inputWidgets": {},
     "nuid": "a3efc57a-122e-47c9-b803-5744aca94ddb",
     "showTitle": false,
     "tableResultSettingsMap": {},
     "title": ""
    }
   },
   "outputs": [],
   "source": [
    "barplot_gsea(res_tcell_0.05$Reactome, 20, \"Top 40 Tcell AR - Reactome\")"
   ]
  },
  {
   "cell_type": "code",
   "execution_count": 0,
   "metadata": {
    "application/vnd.databricks.v1+cell": {
     "cellMetadata": {},
     "inputWidgets": {},
     "nuid": "d64bf739-1437-486a-bdb2-dcb6e8e0bd8d",
     "showTitle": false,
     "tableResultSettingsMap": {},
     "title": ""
    }
   },
   "outputs": [],
   "source": [
    "options(repr.plot.width=1000, repr.plot.height=1000,  echo= F)"
   ]
  },
  {
   "cell_type": "code",
   "execution_count": 0,
   "metadata": {
    "application/vnd.databricks.v1+cell": {
     "cellMetadata": {},
     "inputWidgets": {},
     "nuid": "ab49f91a-23ff-4e07-ba73-0052f47f85b9",
     "showTitle": false,
     "tableResultSettingsMap": {},
     "title": ""
    }
   },
   "outputs": [],
   "source": [
    "barplot_gsea(res_tcell_0.05$KEGG, 20, \"Top 40 Tcell AR - KEGG\")"
   ]
  },
  {
   "cell_type": "code",
   "execution_count": 0,
   "metadata": {
    "application/vnd.databricks.v1+cell": {
     "cellMetadata": {},
     "inputWidgets": {},
     "nuid": "15de4240-4d77-44e7-9983-3798da0e5925",
     "showTitle": false,
     "tableResultSettingsMap": {},
     "title": ""
    }
   },
   "outputs": [],
   "source": [
    "set.seed(123)\n",
    "tcell_GO <- enrichGO(gene = names(geneList_entrez_Tcell),\n",
    "                OrgDb         = org.Hs.eg.db,\n",
    "                keyType       = \"ENTREZID\",\n",
    "                ont           = \"BP\", \n",
    "                pAdjustMethod = \"BH\",\n",
    "                pvalueCutoff  = 0.05,\n",
    "                qvalueCutoff = 0.2)\n",
    "\n",
    "res_tcell_GO <- tcell_GO@result\n",
    "\n",
    "# Filter results to include only those with p.adjust < 0.05\n",
    "filtered_res_tcell_GO <- res_tcell_GO %>%\n",
    "  filter(p.adjust < 0.05)\n",
    "display(filtered_res_tcell_GO)"
   ]
  },
  {
   "cell_type": "code",
   "execution_count": 0,
   "metadata": {
    "application/vnd.databricks.v1+cell": {
     "cellMetadata": {},
     "inputWidgets": {},
     "nuid": "562162e3-7c19-4cb1-8812-c5877f35474c",
     "showTitle": false,
     "tableResultSettingsMap": {},
     "title": ""
    }
   },
   "outputs": [],
   "source": [
    "options(repr.plot.width=1000, repr.plot.height=1000,  echo= F)\n",
    "barplot(tcell_GO, showCategory=30, label_format=50, font.size=9) + ggtitle(\"AR- Tcell - L vs HC - GO\")"
   ]
  },
  {
   "cell_type": "code",
   "execution_count": 0,
   "metadata": {
    "application/vnd.databricks.v1+cell": {
     "cellMetadata": {},
     "inputWidgets": {},
     "nuid": "bef59552-c07c-411f-a1c0-10cf8306c2c7",
     "showTitle": false,
     "tableResultSettingsMap": {},
     "title": ""
    }
   },
   "outputs": [],
   "source": [
    "%sh\n",
    "mkdir /dbfs/mnt/sandbox/TFM_PAULA/merged_AR_celltypist_results/GSEA"
   ]
  },
  {
   "cell_type": "code",
   "execution_count": 0,
   "metadata": {
    "application/vnd.databricks.v1+cell": {
     "cellMetadata": {},
     "inputWidgets": {},
     "nuid": "afbf5159-53b4-4e36-83e2-b0b3ab785c24",
     "showTitle": false,
     "tableResultSettingsMap": {},
     "title": ""
    }
   },
   "outputs": [],
   "source": [
    "#Save results\n",
    "write.xlsx(res_tcell_0.05, \"/dbfs/mnt/sandbox/TFM_PAULA/merged_AR_celltypist_results/GSEA/res_tcell_0.05_AR_.xlsx\")\n",
    "write.xlsx(tcell_GO, \"/dbfs/mnt/sandbox/TFM_PAULA/merged_AR_celltypist_results/GSEA/res_tcell_AR_GO.xlsx\")"
   ]
  },
  {
   "cell_type": "code",
   "execution_count": 0,
   "metadata": {
    "application/vnd.databricks.v1+cell": {
     "cellMetadata": {},
     "inputWidgets": {},
     "nuid": "eb32dbee-3a54-49e3-ac80-45a90cbb4714",
     "showTitle": false,
     "tableResultSettingsMap": {},
     "title": ""
    }
   },
   "outputs": [],
   "source": []
  },
  {
   "cell_type": "markdown",
   "metadata": {
    "application/vnd.databricks.v1+cell": {
     "cellMetadata": {},
     "inputWidgets": {},
     "nuid": "4e1e30c9-f881-4e7f-a816-90ab386a4392",
     "showTitle": false,
     "tableResultSettingsMap": {},
     "title": ""
    }
   },
   "source": [
    "##Th"
   ]
  },
  {
   "cell_type": "code",
   "execution_count": 0,
   "metadata": {
    "application/vnd.databricks.v1+cell": {
     "cellMetadata": {},
     "inputWidgets": {},
     "nuid": "365cf12e-43a5-48a9-a37a-726a6324fbe7",
     "showTitle": false,
     "tableResultSettingsMap": {},
     "title": ""
    }
   },
   "outputs": [],
   "source": [
    "res_th <- read.xlsx(\"/dbfs/mnt/sandbox/TFM_PAULA/merged_AR_celltypist_results/DEGs/bulk.th.de.cov.xlsx\")"
   ]
  },
  {
   "cell_type": "code",
   "execution_count": 0,
   "metadata": {
    "application/vnd.databricks.v1+cell": {
     "cellMetadata": {},
     "inputWidgets": {},
     "nuid": "9cee3c7f-19b2-4d9d-b71b-f1d392ba05dd",
     "showTitle": false,
     "tableResultSettingsMap": {},
     "title": ""
    }
   },
   "outputs": [],
   "source": [
    "res_th"
   ]
  },
  {
   "cell_type": "code",
   "execution_count": 0,
   "metadata": {
    "application/vnd.databricks.v1+cell": {
     "cellMetadata": {},
     "inputWidgets": {},
     "nuid": "b1635ef2-66dd-44c9-80cc-73136518c7c7",
     "showTitle": false,
     "tableResultSettingsMap": {},
     "title": ""
    }
   },
   "outputs": [],
   "source": [
    "geneList_entrez_Th <- prepare_gene_list(res_th, G_list)"
   ]
  },
  {
   "cell_type": "markdown",
   "metadata": {
    "application/vnd.databricks.v1+cell": {
     "cellMetadata": {},
     "inputWidgets": {},
     "nuid": "d326caac-9da7-4deb-b15d-86899d2fec5b",
     "showTitle": false,
     "tableResultSettingsMap": {},
     "title": ""
    }
   },
   "source": [
    "###ENRICHMENT"
   ]
  },
  {
   "cell_type": "code",
   "execution_count": 0,
   "metadata": {
    "application/vnd.databricks.v1+cell": {
     "cellMetadata": {},
     "inputWidgets": {},
     "nuid": "09985704-3d96-427f-852f-cd3fec88f2ba",
     "showTitle": false,
     "tableResultSettingsMap": {},
     "title": ""
    }
   },
   "outputs": [],
   "source": [
    "res_th_0.05 <- get_enrichments(geneList_entrez_Th, 0.05, H_t2g, C2_t2g)"
   ]
  },
  {
   "cell_type": "code",
   "execution_count": 0,
   "metadata": {
    "application/vnd.databricks.v1+cell": {
     "cellMetadata": {},
     "inputWidgets": {},
     "nuid": "23482754-b922-4f98-85dd-9c8da52063ec",
     "showTitle": false,
     "tableResultSettingsMap": {},
     "title": ""
    }
   },
   "outputs": [],
   "source": [
    "barplot_gsea(res_th_0.05$Hallmark1, 20, \"Top 40 Th AR - Hallmark H\")"
   ]
  },
  {
   "cell_type": "code",
   "execution_count": 0,
   "metadata": {
    "application/vnd.databricks.v1+cell": {
     "cellMetadata": {},
     "inputWidgets": {},
     "nuid": "b07a7852-f025-4f98-b097-db5c0fe15109",
     "showTitle": false,
     "tableResultSettingsMap": {},
     "title": ""
    }
   },
   "outputs": [],
   "source": [
    "options(repr.plot.width=1100, repr.plot.height=1000,  echo= F)"
   ]
  },
  {
   "cell_type": "code",
   "execution_count": 0,
   "metadata": {
    "application/vnd.databricks.v1+cell": {
     "cellMetadata": {},
     "inputWidgets": {},
     "nuid": "857fc0c9-00b9-4987-bb6d-8fc6030b56a4",
     "showTitle": false,
     "tableResultSettingsMap": {},
     "title": ""
    }
   },
   "outputs": [],
   "source": [
    "dotplot_pathway_generator_up(res_th_0.05$Reactome, 15, \"Top 15 UP - Th (celltypist) - Reactome\")"
   ]
  },
  {
   "cell_type": "code",
   "execution_count": 0,
   "metadata": {
    "application/vnd.databricks.v1+cell": {
     "cellMetadata": {},
     "inputWidgets": {},
     "nuid": "c82b8c6c-f2c7-41b4-8afc-697ee9535e24",
     "showTitle": false,
     "tableResultSettingsMap": {},
     "title": ""
    }
   },
   "outputs": [],
   "source": [
    "dotplot_pathway_generator(res_th_0.05$Reactome, 15,\"Top 30 - Th - Reactome (Merged-celltypist)\")"
   ]
  },
  {
   "cell_type": "code",
   "execution_count": 0,
   "metadata": {
    "application/vnd.databricks.v1+cell": {
     "cellMetadata": {},
     "inputWidgets": {},
     "nuid": "7c3fe9e3-f5b8-4bcf-8e37-e8a497e1a85b",
     "showTitle": false,
     "tableResultSettingsMap": {},
     "title": ""
    }
   },
   "outputs": [],
   "source": [
    "barplot_gsea(res_th_0.05$Reactome, 20, \"Top 40 Th AR - Reactome\")"
   ]
  },
  {
   "cell_type": "code",
   "execution_count": 0,
   "metadata": {
    "application/vnd.databricks.v1+cell": {
     "cellMetadata": {},
     "inputWidgets": {},
     "nuid": "b5f11cbf-cf80-4186-8199-ec7bd0a0fa41",
     "showTitle": false,
     "tableResultSettingsMap": {},
     "title": ""
    }
   },
   "outputs": [],
   "source": [
    "options(repr.plot.width=1000, repr.plot.height=1000,  echo= F)"
   ]
  },
  {
   "cell_type": "code",
   "execution_count": 0,
   "metadata": {
    "application/vnd.databricks.v1+cell": {
     "cellMetadata": {},
     "inputWidgets": {},
     "nuid": "b32f9eae-63fe-4289-bd65-17a61a7f63e6",
     "showTitle": false,
     "tableResultSettingsMap": {},
     "title": ""
    }
   },
   "outputs": [],
   "source": [
    "barplot_gsea(res_th_0.05$KEGG, 20, \"Top 40 Th AR - KEGG\")"
   ]
  },
  {
   "cell_type": "code",
   "execution_count": 0,
   "metadata": {
    "application/vnd.databricks.v1+cell": {
     "cellMetadata": {},
     "inputWidgets": {},
     "nuid": "69d240f5-cd5b-484d-819d-2680d635111f",
     "showTitle": false,
     "tableResultSettingsMap": {},
     "title": ""
    }
   },
   "outputs": [],
   "source": [
    "set.seed(123)\n",
    "th_GO <- enrichGO(gene = names(geneList_entrez_Th),\n",
    "                OrgDb         = org.Hs.eg.db,\n",
    "                keyType       = \"ENTREZID\",\n",
    "                ont           = \"BP\", \n",
    "                pAdjustMethod = \"BH\",\n",
    "                pvalueCutoff  = 0.05,\n",
    "                qvalueCutoff = 0.2)\n",
    "\n",
    "res_th_GO <- th_GO@result\n",
    "\n",
    "# Filter results to include only those with p.adjust < 0.05\n",
    "filtered_res_th_GO <- res_th_GO %>%\n",
    "  filter(p.adjust < 0.05)\n",
    "display(filtered_res_th_GO)"
   ]
  },
  {
   "cell_type": "code",
   "execution_count": 0,
   "metadata": {
    "application/vnd.databricks.v1+cell": {
     "cellMetadata": {},
     "inputWidgets": {},
     "nuid": "5e7bf360-cb1e-4856-8dbe-dd3660f773b5",
     "showTitle": false,
     "tableResultSettingsMap": {},
     "title": ""
    }
   },
   "outputs": [],
   "source": [
    "options(repr.plot.width=1000, repr.plot.height=1000,  echo= F)\n",
    "barplot(tcell_GO, showCategory=30, label_format=50, font.size=9) + ggtitle(\"AR- Th - L vs HC - GO\")"
   ]
  },
  {
   "cell_type": "code",
   "execution_count": 0,
   "metadata": {
    "application/vnd.databricks.v1+cell": {
     "cellMetadata": {},
     "inputWidgets": {},
     "nuid": "061427b9-d923-41af-b977-aaf6dfc1d13a",
     "showTitle": false,
     "tableResultSettingsMap": {},
     "title": ""
    }
   },
   "outputs": [],
   "source": [
    "#Save results\n",
    "write.xlsx(res_th_0.05, \"/dbfs/mnt/sandbox/TFM_PAULA/merged_AR_celltypist_results/GSEA/res_th_0.05_AR_.xlsx\")\n",
    "write.xlsx(tcell_GO, \"/dbfs/mnt/sandbox/TFM_PAULA/merged_AR_celltypist_results/GSEA/res_th_AR_GO.xlsx\")"
   ]
  },
  {
   "cell_type": "markdown",
   "metadata": {
    "application/vnd.databricks.v1+cell": {
     "cellMetadata": {},
     "inputWidgets": {},
     "nuid": "e2bc3358-e9a9-4dce-911b-744a6f4b7a46",
     "showTitle": false,
     "tableResultSettingsMap": {},
     "title": ""
    }
   },
   "source": [
    "##Treg"
   ]
  },
  {
   "cell_type": "code",
   "execution_count": 0,
   "metadata": {
    "application/vnd.databricks.v1+cell": {
     "cellMetadata": {},
     "inputWidgets": {},
     "nuid": "b41c6f4a-4893-4dee-9029-5e5ceb8232d7",
     "showTitle": false,
     "tableResultSettingsMap": {},
     "title": ""
    }
   },
   "outputs": [],
   "source": [
    "res_treg <- read.xlsx(\"/dbfs/mnt/sandbox/TFM_PAULA/merged_AR_celltypist_results/DEGs/bulk.treg.de.cov.xlsx\")"
   ]
  },
  {
   "cell_type": "code",
   "execution_count": 0,
   "metadata": {
    "application/vnd.databricks.v1+cell": {
     "cellMetadata": {},
     "inputWidgets": {},
     "nuid": "d390b903-86ba-4570-ba15-3c8712a49f08",
     "showTitle": false,
     "tableResultSettingsMap": {},
     "title": ""
    }
   },
   "outputs": [],
   "source": [
    "geneList_entrez_treg <- prepare_gene_list(res_treg, G_list)"
   ]
  },
  {
   "cell_type": "code",
   "execution_count": 0,
   "metadata": {
    "application/vnd.databricks.v1+cell": {
     "cellMetadata": {},
     "inputWidgets": {},
     "nuid": "9988cb95-1ef4-4d69-841b-9c2046ab4f1e",
     "showTitle": false,
     "tableResultSettingsMap": {},
     "title": ""
    }
   },
   "outputs": [],
   "source": [
    "res_treg_0.05 <- get_enrichments(geneList_entrez_treg, 0.05, H_t2g, C2_t2g)"
   ]
  },
  {
   "cell_type": "code",
   "execution_count": 0,
   "metadata": {
    "application/vnd.databricks.v1+cell": {
     "cellMetadata": {},
     "inputWidgets": {},
     "nuid": "7c4214f3-a1e9-4d04-a23f-a2cc3471aebe",
     "showTitle": false,
     "tableResultSettingsMap": {},
     "title": ""
    }
   },
   "outputs": [],
   "source": [
    "options(repr.plot.width=1500, repr.plot.height=1000,  echo= F)\n",
    "barplot_gsea(res_treg_0.05$Reactome, 20, \"Top Treg AR - Reactome\")"
   ]
  },
  {
   "cell_type": "code",
   "execution_count": 0,
   "metadata": {
    "application/vnd.databricks.v1+cell": {
     "cellMetadata": {},
     "inputWidgets": {},
     "nuid": "f599936d-7baf-4994-ac3b-9b6214ad923a",
     "showTitle": false,
     "tableResultSettingsMap": {},
     "title": ""
    }
   },
   "outputs": [],
   "source": [
    "options(repr.plot.width=1000, repr.plot.height=1000,  echo= F)"
   ]
  },
  {
   "cell_type": "code",
   "execution_count": 0,
   "metadata": {
    "application/vnd.databricks.v1+cell": {
     "cellMetadata": {},
     "inputWidgets": {},
     "nuid": "59dcec5d-9f87-45de-9b7b-5980e50e0094",
     "showTitle": false,
     "tableResultSettingsMap": {},
     "title": ""
    }
   },
   "outputs": [],
   "source": []
  },
  {
   "cell_type": "code",
   "execution_count": 0,
   "metadata": {
    "application/vnd.databricks.v1+cell": {
     "cellMetadata": {},
     "inputWidgets": {},
     "nuid": "7fe8aa5a-97f2-491e-9ba5-84d60396b6d1",
     "showTitle": false,
     "tableResultSettingsMap": {},
     "title": ""
    }
   },
   "outputs": [],
   "source": [
    "dotplot_pathway_generator(res_treg_0.05$Reactome, 15, \"Top 30 - Treg - Reactome (Merged-celltypist)\")"
   ]
  },
  {
   "cell_type": "code",
   "execution_count": 0,
   "metadata": {
    "application/vnd.databricks.v1+cell": {
     "cellMetadata": {},
     "inputWidgets": {},
     "nuid": "72e05f46-1a0e-4a2a-8eff-f84a2bebc240",
     "showTitle": false,
     "tableResultSettingsMap": {},
     "title": ""
    }
   },
   "outputs": [],
   "source": [
    "options(repr.plot.width=1000, repr.plot.height=1000,  echo= F)\n",
    "barplot_gsea(res_treg_0.05$KEGG, 20, \"Top Treg AR - KEGG\")"
   ]
  },
  {
   "cell_type": "code",
   "execution_count": 0,
   "metadata": {
    "application/vnd.databricks.v1+cell": {
     "cellMetadata": {},
     "inputWidgets": {},
     "nuid": "48f0934f-4795-4418-9da2-3cd153a7d841",
     "showTitle": false,
     "tableResultSettingsMap": {},
     "title": ""
    }
   },
   "outputs": [],
   "source": [
    "options(repr.plot.width=1800, repr.plot.height=1000,  echo= F)\n",
    "barplot_gsea(res_treg_0.05$Hallmark2, 20, \"Top Treg AR - Hallmark C2\")"
   ]
  },
  {
   "cell_type": "markdown",
   "metadata": {
    "application/vnd.databricks.v1+cell": {
     "cellMetadata": {},
     "inputWidgets": {},
     "nuid": "aa5aa760-4672-4f25-bc34-2c3909614b8c",
     "showTitle": false,
     "tableResultSettingsMap": {},
     "title": ""
    }
   },
   "source": [
    "###GO"
   ]
  },
  {
   "cell_type": "code",
   "execution_count": 0,
   "metadata": {
    "application/vnd.databricks.v1+cell": {
     "cellMetadata": {},
     "inputWidgets": {},
     "nuid": "cc5dd87f-f218-42a1-89a7-d33556d4dfdd",
     "showTitle": false,
     "tableResultSettingsMap": {},
     "title": ""
    }
   },
   "outputs": [],
   "source": [
    "set.seed(123)\n",
    "\n",
    "treg_GO <- enrichGO(gene = names(geneList_entrez_treg),\n",
    "                OrgDb         = org.Hs.eg.db,\n",
    "                keyType       = \"ENTREZID\",\n",
    "                ont           = \"BP\", \n",
    "                pAdjustMethod = \"BH\",\n",
    "                pvalueCutoff  = 0.05,\n",
    "                qvalueCutoff = 0.2)\n",
    "                \n",
    "# Extract results\n",
    "res_treg_GO <- treg_GO@result\n",
    "\n",
    "# Filter results to include only those with p.adjust < 0.05\n",
    "filtered_res_treg_GO <- res_treg_GO %>%\n",
    "  filter(p.adjust < 0.05)\n",
    "\n",
    "# Display filtered results\n",
    "display(filtered_res_treg_GO)"
   ]
  },
  {
   "cell_type": "code",
   "execution_count": 0,
   "metadata": {
    "application/vnd.databricks.v1+cell": {
     "cellMetadata": {},
     "inputWidgets": {},
     "nuid": "8dfa31e2-cbf3-46bb-8dec-82800b17617d",
     "showTitle": false,
     "tableResultSettingsMap": {},
     "title": ""
    }
   },
   "outputs": [],
   "source": [
    "options(repr.plot.width=1000, repr.plot.height=1000,  echo= F)\n",
    "barplot(treg_GO, showCategory=30, label_format=50, font.size=9) + ggtitle(\"AR- Treg - L vs HC - GO\")"
   ]
  },
  {
   "cell_type": "markdown",
   "metadata": {
    "application/vnd.databricks.v1+cell": {
     "cellMetadata": {},
     "inputWidgets": {},
     "nuid": "05563249-5a66-4c57-a40a-4b51f2d7b471",
     "showTitle": false,
     "tableResultSettingsMap": {},
     "title": ""
    }
   },
   "source": [
    "###Save results"
   ]
  },
  {
   "cell_type": "code",
   "execution_count": 0,
   "metadata": {
    "application/vnd.databricks.v1+cell": {
     "cellMetadata": {},
     "inputWidgets": {},
     "nuid": "08b62cb0-931b-4d8f-940d-23d61b470d1c",
     "showTitle": false,
     "tableResultSettingsMap": {},
     "title": ""
    }
   },
   "outputs": [],
   "source": [
    "write.xlsx(res_treg_0.05, \"/dbfs/mnt/sandbox/TFM_PAULA/merged_AR_celltypist_results/GSEA/res_treg_0.05_AR.xlsx\")\n",
    "write.xlsx(treg_GO, \"/dbfs/mnt/sandbox/TFM_PAULA/merged_AR_celltypist_results/GSEA/res_treg_AR_GO.xlsx\")"
   ]
  }
 ],
 "metadata": {
  "application/vnd.databricks.v1+notebook": {
   "computePreferences": null,
   "dashboards": [],
   "environmentMetadata": null,
   "inputWidgetPreferences": null,
   "language": "r",
   "notebookMetadata": {
    "pythonIndentUnit": 4
   },
   "notebookName": "02.1.merged_cov_adjusted_pathway_enrichment_LvsHC",
   "widgets": {}
  },
  "language_info": {
   "name": "r"
  }
 },
 "nbformat": 4,
 "nbformat_minor": 0
}
