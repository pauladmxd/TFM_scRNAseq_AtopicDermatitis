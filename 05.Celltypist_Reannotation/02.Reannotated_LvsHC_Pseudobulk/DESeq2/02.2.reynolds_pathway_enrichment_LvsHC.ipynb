{
 "cells": [
  {
   "cell_type": "markdown",
   "metadata": {
    "application/vnd.databricks.v1+cell": {
     "cellMetadata": {},
     "inputWidgets": {},
     "nuid": "ac3a421e-08de-4390-b3f3-43273d43853b",
     "showTitle": false,
     "tableResultSettingsMap": {},
     "title": ""
    }
   },
   "source": [
    "# Pathway enrichment in LvsHC Reynolds markers\n",
    "To compare the results when using only one dataset and using the merged dataset"
   ]
  },
  {
   "cell_type": "code",
   "execution_count": 0,
   "metadata": {
    "application/vnd.databricks.v1+cell": {
     "cellMetadata": {},
     "inputWidgets": {},
     "nuid": "cde04b33-976e-47e3-9e4d-5d958e9d39d9",
     "showTitle": false,
     "tableResultSettingsMap": {},
     "title": ""
    }
   },
   "outputs": [],
   "source": [
    "%sh\n",
    "apt-get -y install libglpk-dev #Correct igraph - Need t load before, compatible for 14.3 LTS"
   ]
  },
  {
   "cell_type": "code",
   "execution_count": 0,
   "metadata": {
    "application/vnd.databricks.v1+cell": {
     "cellMetadata": {},
     "inputWidgets": {},
     "nuid": "9ab1224f-5e9c-4ef3-be51-b9a4a2b81c36",
     "showTitle": false,
     "tableResultSettingsMap": {},
     "title": ""
    }
   },
   "outputs": [],
   "source": [
    "# Load libraries\n",
    "## Append the library folder\n",
    ".libPaths(c(\"/dbfs/home/boriol@almirall.com/my_r_packages/bulkRNASeq_PBMCs_R4.3\", .libPaths()))\n",
    "\n",
    "# Load libraries\n",
    "library(clusterProfiler)\n",
    "library(ReactomePA) \n",
    "library(msigdbr)\n",
    "library(DOSE)\n",
    "library(tidyverse)\n",
    "library(org.Hs.eg.db)\n",
    "library(biomaRt)\n",
    "\n",
    ".libPaths(c(\"/dbfs/home/jtrincado@almirall.com/my_r_packages/Seurat\", .libPaths()))\n",
    "library(openxlsx)\n",
    "library(enrichplot)\n",
    "library(ggplot2)"
   ]
  },
  {
   "cell_type": "markdown",
   "metadata": {
    "application/vnd.databricks.v1+cell": {
     "cellMetadata": {},
     "inputWidgets": {},
     "nuid": "47c644aa-4221-4be9-a34d-8885dfd6a440",
     "showTitle": false,
     "tableResultSettingsMap": {},
     "title": ""
    }
   },
   "source": [
    "##Functions, G_list and HALLMARKS databases needed"
   ]
  },
  {
   "cell_type": "code",
   "execution_count": 0,
   "metadata": {
    "application/vnd.databricks.v1+cell": {
     "cellMetadata": {},
     "inputWidgets": {},
     "nuid": "3cf49c9f-9be1-47e6-8665-de827fda0549",
     "showTitle": false,
     "tableResultSettingsMap": {},
     "title": ""
    }
   },
   "outputs": [],
   "source": [
    "prepare_gene_list <- function(res, G_list) {\n",
    "  # Rank by pvalue\n",
    "  res_rankedlist <- res %>%\n",
    "    mutate(p_val_adj = ifelse(p_val_adj == 0, 1e-300, p_val_adj)) %>%\n",
    "    mutate(rank = -log10(p_val_adj) * sign(avg_log2FC)) %>%\n",
    "    mutate(rank2 = (1 + avg_log2FC) * -log10(p_val_adj))\n",
    "  \n",
    "  # Assigning the 'gene' column values to the 'hgnc_symbol'\n",
    "  res_rankedlist$hgnc_symbol <- res_rankedlist$gene\n",
    "    display(res_rankedlist)\n",
    "\n",
    "  gene_list <- left_join(res_rankedlist, G_list, by = \"hgnc_symbol\") %>% distinct_all()\n",
    "  gene_list_entrez_id <- gene_list %>% dplyr::select(entrezgene_id, rank) %>% distinct(entrezgene_id, .keep_all = TRUE) %>% drop_na()\n",
    "  \n",
    "  geneList_entrez <- gene_list_entrez_id$rank\n",
    "  names(geneList_entrez) <- gene_list_entrez_id$entrezgene_id\n",
    "  \n",
    "  geneList_entrez <- geneList_entrez[is.finite(geneList_entrez)]\n",
    "  geneList_entrez <- sort(geneList_entrez, decreasing = TRUE)\n",
    "  geneList_entrez\n",
    "  return(geneList_entrez)\n",
    "}"
   ]
  },
  {
   "cell_type": "code",
   "execution_count": 0,
   "metadata": {
    "application/vnd.databricks.v1+cell": {
     "cellMetadata": {},
     "inputWidgets": {},
     "nuid": "ebe6fb09-d917-4636-94be-f68359e9d12f",
     "showTitle": false,
     "tableResultSettingsMap": {},
     "title": ""
    }
   },
   "outputs": [],
   "source": [
    "get_enrichments <- function(gene_list, pval_cutoff, term2gene_hallmark, term2gene_hallmark2 = NULL) {\n",
    "  set.seed(123)\n",
    "  # KEGG enrichment\n",
    "  kegg_result <- gseKEGG(gene_list, pvalueCutoff = pval_cutoff, organism = \"hsa\", verbose = FALSE, eps=0)\n",
    "  res_kegg <- kegg_result@result\n",
    "  \n",
    "  # Reactome enrichment\n",
    "  reactome_result <- gsePathway(gene_list, pAdjustMethod = \"BH\", pvalueCutoff = pval_cutoff, organism = \"human\", verbose = FALSE,  eps=0)\n",
    "  res_reactome <- reactome_result@result\n",
    "  \n",
    "  # Hallmark enrichment\n",
    "  hallmark_result <- GSEA(gene_list, TERM2GENE = term2gene_hallmark, pvalueCutoff = pval_cutoff,  eps=0)\n",
    "  res_hallmark <- hallmark_result@result\n",
    "  \n",
    "  if (!is.null(term2gene_hallmark2)) {\n",
    "    hallmark_result2 <- GSEA(gene_list, TERM2GENE = term2gene_hallmark2, pvalueCutoff = pval_cutoff,  eps=0)\n",
    "    res_hallmark2 <- hallmark_result2@result\n",
    "    return(list(KEGG = res_kegg, Reactome = res_reactome, Hallmark1 = res_hallmark, Hallmark2 = res_hallmark2))\n",
    "  }\n",
    "  \n",
    "  return(list(KEGG = res_kegg, Reactome = res_reactome, Hallmark = res_hallmark))\n",
    "}"
   ]
  },
  {
   "cell_type": "code",
   "execution_count": 0,
   "metadata": {
    "application/vnd.databricks.v1+cell": {
     "cellMetadata": {},
     "inputWidgets": {},
     "nuid": "6a414f01-0da5-4bd8-9fae-ee5528dc2231",
     "showTitle": false,
     "tableResultSettingsMap": {},
     "title": ""
    }
   },
   "outputs": [],
   "source": [
    "#Fuction to generate a dotplot of the top pathway results\n",
    "# Arguments: results, number of pathways (N with NES <0 and N with NES>0) and tittle of the plot\n",
    "dotplot_pathway_generator <- function(results, N, title) {\n",
    "  aux_pos <- arrange(results[which(results$NES > 0),], -NES)\n",
    "  aux_neg <- arrange(results[which(results$NES < 0),], -NES)\n",
    "  top_results <- unique(rbind(head(aux_pos, n = N), tail(aux_neg, n = N)))\n",
    "  \n",
    "  ggplot(top_results, aes(x = NES, y = reorder(Description, NES), size = setSize, color = p.adjust)) +\n",
    "    geom_point(alpha = 0.7) +\n",
    "    scale_color_gradient(low = \"red\", high = \"darkblue\") +\n",
    "    labs(x = \"NES\", y = \"Pathway\", size = \"SetSize\", color = \"P-value adjust\") +\n",
    "    ggtitle(title) +\n",
    "    theme_minimal() +\n",
    "    theme(axis.text.y = element_text(size = 8))\n",
    "}"
   ]
  },
  {
   "cell_type": "code",
   "execution_count": 0,
   "metadata": {
    "application/vnd.databricks.v1+cell": {
     "cellMetadata": {},
     "inputWidgets": {},
     "nuid": "0d868942-2d95-49bd-ae9c-7ea1f5a9dc4c",
     "showTitle": false,
     "tableResultSettingsMap": {},
     "title": ""
    }
   },
   "outputs": [],
   "source": [
    "#Fuction to generate a barplot of the top pathway results\n",
    "# Arguments: results, number of pathways (N with NES <0 and N with NES>0) and tittle of the plot\n",
    "barplot_gsea <- function(res, N, title) {\n",
    "  aux_pos <- arrange(res[which(res$NES > 0),], -NES)\n",
    "  aux_neg <- arrange(res[which(res$NES < 0),], -NES)\n",
    "  GSEA_f <- unique(rbind(head(aux_pos, n = N), tail(aux_neg, n = N)))\n",
    "\n",
    "  options(repr.plot.width = 1000, repr.plot.height = 1000, echo = FALSE)\n",
    "  \n",
    "  plot <- ggplot(GSEA_f, aes(NES, fct_reorder(Description, NES), fill = p.adjust)) + \n",
    "    geom_col(orientation = 'y') + \n",
    "    scale_fill_continuous(low = 'red', high = 'blue', guide = guide_colorbar(reverse = TRUE)) + \n",
    "    theme_minimal() + ylab(NULL) + xlab(\"NES\") +\n",
    "    ggtitle(title)\n",
    "  \n",
    "  return(plot)\n",
    "}"
   ]
  },
  {
   "cell_type": "code",
   "execution_count": 0,
   "metadata": {
    "application/vnd.databricks.v1+cell": {
     "cellMetadata": {},
     "inputWidgets": {},
     "nuid": "5f982c15-3940-4c28-862d-a935fd2e52e5",
     "showTitle": false,
     "tableResultSettingsMap": {},
     "title": ""
    }
   },
   "outputs": [],
   "source": [
    "G_list <- readRDS(\"/dbfs/mnt/sandbox/RNASeq/PBMCs_IL4/pathways/G_list20240710.rds\") #List with all translations to other id names\n",
    "G_list <-  G_list %>% dplyr::filter(transcript_biotype == \"protein_coding\")"
   ]
  },
  {
   "cell_type": "code",
   "execution_count": 0,
   "metadata": {
    "application/vnd.databricks.v1+cell": {
     "cellMetadata": {},
     "inputWidgets": {},
     "nuid": "e173780a-204f-4108-a9d7-6c5444ad93a8",
     "showTitle": false,
     "tableResultSettingsMap": {},
     "title": ""
    }
   },
   "outputs": [],
   "source": [
    "#HALLMARKS\n",
    "\n",
    "library(msigdbr)\n",
    "msigdbr_species()\n",
    "\n",
    "m_df <- msigdbr(species = \"Homo sapiens\")\n",
    "head(m_df, 2) %>% as.data.frame\n",
    "msigdbr_collections()\n",
    "\n",
    "C2_t2g <- msigdbr(species = \"Homo sapiens\", category = \"C2\") %>% \n",
    "  dplyr::select(gs_name, entrez_gene)\n",
    "head(C2_t2g) #This collection includes gene sets curated from various sources such as online pathway databases and the biomedical literature. \n",
    "\n",
    "H_t2g <- msigdbr(species = \"Homo sapiens\", category = \"H\") %>% \n",
    "  dplyr::select(gs_name, entrez_gene)\n",
    "head(H_t2g) # These gene sets summarize and represent specific well-defined biological states or processes. They are designed to reduce noise and redundancy, providing a clearer biological context.\n",
    "\n",
    "\n",
    "CP_t2g <- msigdbr(species = \"Homo sapiens\", category = \"C2\", subcategory = \"CP\") %>% \n",
    "  dplyr::select(gs_name, entrez_gene)\n",
    "head(CP_t2g) #CP (Canonical Pathways): Gene sets from pathway databases representing canonical biological processes\n",
    "\n",
    "C7_t2g <- msigdbr(species = \"Homo sapiens\", category = \"C7\") %>% \n",
    "  dplyr::select(gs_name, entrez_gene)\n",
    "head(C7_t2g) #Immunologic Signatures: Gene sets representing expression signatures of immune cell states, cell types, and perturbations"
   ]
  },
  {
   "cell_type": "markdown",
   "metadata": {
    "application/vnd.databricks.v1+cell": {
     "cellMetadata": {},
     "inputWidgets": {},
     "nuid": "d04b81a1-2097-4113-814f-3ac93f943ec7",
     "showTitle": false,
     "tableResultSettingsMap": {},
     "title": ""
    }
   },
   "source": [
    "##Keratinocytes (UNDIFF)"
   ]
  },
  {
   "cell_type": "code",
   "execution_count": 0,
   "metadata": {
    "application/vnd.databricks.v1+cell": {
     "cellMetadata": {},
     "inputWidgets": {},
     "nuid": "bbf180b3-b2a7-46c6-89fc-eb5b7d356739",
     "showTitle": false,
     "tableResultSettingsMap": {},
     "title": ""
    }
   },
   "outputs": [],
   "source": [
    "res_kc <- read.xlsx(\"/dbfs/mnt/sandbox/TFM_PAULA/merged_AR_celltypist_results/DEGs/only_reynolds_bulk_undif_kc_de.xlsx\")"
   ]
  },
  {
   "cell_type": "code",
   "execution_count": 0,
   "metadata": {
    "application/vnd.databricks.v1+cell": {
     "cellMetadata": {},
     "inputWidgets": {},
     "nuid": "0dca2800-cb61-498e-82a7-110d3498a02c",
     "showTitle": false,
     "tableResultSettingsMap": {},
     "title": ""
    }
   },
   "outputs": [],
   "source": [
    "geneList_entrez_kc <- prepare_gene_list(res_kc, G_list)"
   ]
  },
  {
   "cell_type": "code",
   "execution_count": 0,
   "metadata": {
    "application/vnd.databricks.v1+cell": {
     "cellMetadata": {},
     "inputWidgets": {},
     "nuid": "70b5a36c-a2e9-4b5b-ba9b-e4d95e792665",
     "showTitle": false,
     "tableResultSettingsMap": {},
     "title": ""
    }
   },
   "outputs": [],
   "source": [
    "res_kc_0.05 <- get_enrichments(geneList_entrez_kc, 0.05, H_t2g, C2_t2g)"
   ]
  },
  {
   "cell_type": "code",
   "execution_count": 0,
   "metadata": {
    "application/vnd.databricks.v1+cell": {
     "cellMetadata": {},
     "inputWidgets": {},
     "nuid": "a4888661-9219-4cc2-a56c-ed3b43441bcc",
     "showTitle": false,
     "tableResultSettingsMap": {},
     "title": ""
    }
   },
   "outputs": [],
   "source": [
    "res_kc_0.05$Hallmark2"
   ]
  },
  {
   "cell_type": "code",
   "execution_count": 0,
   "metadata": {
    "application/vnd.databricks.v1+cell": {
     "cellMetadata": {},
     "inputWidgets": {},
     "nuid": "4a142ca0-b205-49f7-99e2-4d2e79fca038",
     "showTitle": false,
     "tableResultSettingsMap": {},
     "title": ""
    }
   },
   "outputs": [],
   "source": [
    "barplot_gsea(res_kc_0.05$Hallmark2, 20,\"Keratinocytes Undiff - Reynolds- Hallmarks C2\")"
   ]
  },
  {
   "cell_type": "code",
   "execution_count": 0,
   "metadata": {
    "application/vnd.databricks.v1+cell": {
     "cellMetadata": {},
     "inputWidgets": {},
     "nuid": "16edb424-1444-4c01-9b7c-f9a658546c43",
     "showTitle": false,
     "tableResultSettingsMap": {},
     "title": ""
    }
   },
   "outputs": [],
   "source": [
    "# res_kc_1 <- get_enrichments(geneList_entrez_kc, 1, H_t2g, C2_t2g)"
   ]
  },
  {
   "cell_type": "code",
   "execution_count": 0,
   "metadata": {
    "application/vnd.databricks.v1+cell": {
     "cellMetadata": {},
     "inputWidgets": {},
     "nuid": "3042acc0-69ec-46a4-bb02-e8987e8bb010",
     "showTitle": false,
     "tableResultSettingsMap": {},
     "title": ""
    }
   },
   "outputs": [],
   "source": [
    "set.seed(123)\n",
    "\n",
    "kc_GO <- enrichGO(gene = names(geneList_entrez_kc),\n",
    "                OrgDb         = org.Hs.eg.db,\n",
    "                keyType       = \"ENTREZID\",\n",
    "                ont           = \"BP\", \n",
    "                pAdjustMethod = \"BH\",\n",
    "                pvalueCutoff  = 0.05,\n",
    "                qvalueCutoff = 0.2)\n",
    "                \n",
    "# Extract results\n",
    "res_kc_GO <- kc_GO@result\n",
    "\n",
    "# Filter results to include only those with p.adjust < 0.05\n",
    "filtered_res_kc_GO <- res_kc_GO %>%\n",
    "  filter(p.adjust < 0.05)\n",
    "\n",
    "# Display filtered results\n",
    "display(filtered_res_kc_GO)"
   ]
  },
  {
   "cell_type": "code",
   "execution_count": 0,
   "metadata": {
    "application/vnd.databricks.v1+cell": {
     "cellMetadata": {},
     "inputWidgets": {},
     "nuid": "8889333d-2127-4137-936a-35f4a4462e99",
     "showTitle": false,
     "tableResultSettingsMap": {},
     "title": ""
    }
   },
   "outputs": [],
   "source": [
    "options(repr.plot.width=1200, repr.plot.height=1200,  echo= F)\n",
    "barplot(kc_GO, showCategory=25, label_format=100, font.size=9) + ggtitle(\"Reynolds KC Undiff - L vs HC - GO\")"
   ]
  },
  {
   "cell_type": "markdown",
   "metadata": {
    "application/vnd.databricks.v1+cell": {
     "cellMetadata": {},
     "inputWidgets": {},
     "nuid": "9bfe7cbc-af99-44d7-9188-36d08fb2cc56",
     "showTitle": false,
     "tableResultSettingsMap": {},
     "title": ""
    }
   },
   "source": [
    "###Save results"
   ]
  },
  {
   "cell_type": "code",
   "execution_count": 0,
   "metadata": {
    "application/vnd.databricks.v1+cell": {
     "cellMetadata": {},
     "inputWidgets": {},
     "nuid": "f03c0970-b376-434a-affd-689352cd45c6",
     "showTitle": false,
     "tableResultSettingsMap": {},
     "title": ""
    }
   },
   "outputs": [],
   "source": [
    "#Save results\n",
    "write.xlsx(res_kc_0.05, \"/dbfs/mnt/sandbox/TFM_PAULA/Reynolds/LvsHC/GSEA_individually/pseudobulk/res_undif_kc_0.05_reynolds.xlsx\")\n",
    "write.xlsx(kc_GO, \"/dbfs/mnt/sandbox/TFM_PAULA/Reynolds/LvsHC/GSEA_individually/pseudobulk/res_undif_kc_reynolds_GO.xlsx\")"
   ]
  },
  {
   "cell_type": "markdown",
   "metadata": {
    "application/vnd.databricks.v1+cell": {
     "cellMetadata": {},
     "inputWidgets": {},
     "nuid": "130837b7-3273-4e58-b586-d228a976c184",
     "showTitle": false,
     "tableResultSettingsMap": {},
     "title": ""
    }
   },
   "source": [
    "##Keratinocytes (DIFF)"
   ]
  },
  {
   "cell_type": "code",
   "execution_count": 0,
   "metadata": {
    "application/vnd.databricks.v1+cell": {
     "cellMetadata": {},
     "inputWidgets": {},
     "nuid": "eea96314-5ed1-4a9d-b9a8-60c7c910669f",
     "showTitle": false,
     "tableResultSettingsMap": {},
     "title": ""
    }
   },
   "outputs": [],
   "source": [
    "res_kc_dif <- read.xlsx(\"/dbfs/mnt/sandbox/TFM_PAULA/merged_AR_celltypist_results/DEGs/only_reynolds_bulk_dif_kc_de.xlsx\")"
   ]
  },
  {
   "cell_type": "code",
   "execution_count": 0,
   "metadata": {
    "application/vnd.databricks.v1+cell": {
     "cellMetadata": {},
     "inputWidgets": {},
     "nuid": "86ec1900-7e8c-4389-b9fa-a4feffc05a39",
     "showTitle": false,
     "tableResultSettingsMap": {},
     "title": ""
    }
   },
   "outputs": [],
   "source": [
    "geneList_entrez_kc_dif <- prepare_gene_list(res_kc_dif, G_list)"
   ]
  },
  {
   "cell_type": "code",
   "execution_count": 0,
   "metadata": {
    "application/vnd.databricks.v1+cell": {
     "cellMetadata": {},
     "inputWidgets": {},
     "nuid": "910f258d-4520-4dab-a92c-c5cd2798e982",
     "showTitle": false,
     "tableResultSettingsMap": {},
     "title": ""
    }
   },
   "outputs": [],
   "source": [
    "res_dif_kc_0.05 <- get_enrichments(geneList_entrez_kc_dif, 0.05, H_t2g, C2_t2g)"
   ]
  },
  {
   "cell_type": "code",
   "execution_count": 0,
   "metadata": {
    "application/vnd.databricks.v1+cell": {
     "cellMetadata": {},
     "inputWidgets": {},
     "nuid": "d6645f6a-5681-493c-9ee0-a6caa58d6649",
     "showTitle": false,
     "tableResultSettingsMap": {},
     "title": ""
    }
   },
   "outputs": [],
   "source": [
    "res_dif_kc_0.05$Hallmark2"
   ]
  },
  {
   "cell_type": "code",
   "execution_count": 0,
   "metadata": {
    "application/vnd.databricks.v1+cell": {
     "cellMetadata": {},
     "inputWidgets": {},
     "nuid": "16ea23cd-962f-4605-8435-4bab80c9a9c6",
     "showTitle": false,
     "tableResultSettingsMap": {},
     "title": ""
    }
   },
   "outputs": [],
   "source": [
    "barplot_gsea(res_dif_kc_0.05$Hallmark2, 20,\"Keratinocytes DIFF - Reynolds- Hallmarks C2\")"
   ]
  },
  {
   "cell_type": "code",
   "execution_count": 0,
   "metadata": {
    "application/vnd.databricks.v1+cell": {
     "cellMetadata": {},
     "inputWidgets": {},
     "nuid": "fa9bb3a6-1eb9-42f6-b40f-3df6fd2a5ab2",
     "showTitle": false,
     "tableResultSettingsMap": {},
     "title": ""
    }
   },
   "outputs": [],
   "source": [
    "# res_kc_1 <- get_enrichments(geneList_entrez_kc, 1, H_t2g, C2_t2g)"
   ]
  },
  {
   "cell_type": "code",
   "execution_count": 0,
   "metadata": {
    "application/vnd.databricks.v1+cell": {
     "cellMetadata": {},
     "inputWidgets": {},
     "nuid": "2b8b1609-5e30-46fa-a744-96db73d27327",
     "showTitle": false,
     "tableResultSettingsMap": {},
     "title": ""
    }
   },
   "outputs": [],
   "source": [
    "set.seed(123)\n",
    "\n",
    "kc_GO_DIF <- enrichGO(gene = names(geneList_entrez_kc_dif),\n",
    "                OrgDb         = org.Hs.eg.db,\n",
    "                keyType       = \"ENTREZID\",\n",
    "                ont           = \"BP\", \n",
    "                pAdjustMethod = \"BH\",\n",
    "                pvalueCutoff  = 0.05,\n",
    "                qvalueCutoff = 0.2)\n",
    "                \n",
    "# Extract results\n",
    "res_kc_GO_DIF <- kc_GO_DIF@result\n",
    "\n",
    "# Filter results to include only those with p.adjust < 0.05\n",
    "filtered_res_kc_GO_DIF <- kc_GO_DIF %>%\n",
    "  filter(p.adjust < 0.05)\n",
    "\n",
    "# Display filtered results\n",
    "display(filtered_res_kc_GO_DIF)"
   ]
  },
  {
   "cell_type": "code",
   "execution_count": 0,
   "metadata": {
    "application/vnd.databricks.v1+cell": {
     "cellMetadata": {},
     "inputWidgets": {},
     "nuid": "8a14db8d-57d8-45f3-af3d-9cc16ed07a3b",
     "showTitle": false,
     "tableResultSettingsMap": {},
     "title": ""
    }
   },
   "outputs": [],
   "source": [
    "options(repr.plot.width=1200, repr.plot.height=1200,  echo= F)\n",
    "barplot(kc_GO_DIF, showCategory=25, label_format=100, font.size=9) + ggtitle(\"Reynolds KC DIFF - L vs HC - GO\")"
   ]
  },
  {
   "cell_type": "markdown",
   "metadata": {
    "application/vnd.databricks.v1+cell": {
     "cellMetadata": {},
     "inputWidgets": {},
     "nuid": "55627ec8-4dd7-4f4a-b951-fd3814bd7729",
     "showTitle": false,
     "tableResultSettingsMap": {},
     "title": ""
    }
   },
   "source": [
    "###Save results"
   ]
  },
  {
   "cell_type": "code",
   "execution_count": 0,
   "metadata": {
    "application/vnd.databricks.v1+cell": {
     "cellMetadata": {},
     "inputWidgets": {},
     "nuid": "381057db-e6bd-42cb-9270-82522eb9fef4",
     "showTitle": false,
     "tableResultSettingsMap": {},
     "title": ""
    }
   },
   "outputs": [],
   "source": [
    "#Save results\n",
    "write.xlsx(res_dif_kc_0.05, \"/dbfs/mnt/sandbox/TFM_PAULA/Reynolds/LvsHC/GSEA_individually/pseudobulk/res_dif_kc_0.05_reynolds.xlsx\")\n",
    "write.xlsx(kc_GO_DIF, \"/dbfs/mnt/sandbox/TFM_PAULA/Reynolds/LvsHC/GSEA_individually/pseudobulk/res_dif_kc_reynolds_GO.xlsx\")"
   ]
  }
 ],
 "metadata": {
  "application/vnd.databricks.v1+notebook": {
   "computePreferences": null,
   "dashboards": [],
   "environmentMetadata": null,
   "inputWidgetPreferences": null,
   "language": "r",
   "notebookMetadata": {
    "pythonIndentUnit": 4
   },
   "notebookName": "02.2.reynolds_pathway_enrichment_LvsHC",
   "widgets": {}
  },
  "language_info": {
   "name": "r"
  }
 },
 "nbformat": 4,
 "nbformat_minor": 0
}
