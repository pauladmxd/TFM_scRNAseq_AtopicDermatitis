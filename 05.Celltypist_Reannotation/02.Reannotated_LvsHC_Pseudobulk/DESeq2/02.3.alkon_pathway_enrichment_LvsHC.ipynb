{
 "cells": [
  {
   "cell_type": "markdown",
   "metadata": {
    "application/vnd.databricks.v1+cell": {
     "cellMetadata": {},
     "inputWidgets": {},
     "nuid": "63a2666a-ba43-478f-8b0b-7b023234054b",
     "showTitle": false,
     "tableResultSettingsMap": {},
     "title": ""
    }
   },
   "source": [
    "# Pathway enrichment in LvsHC alkon markers\n",
    "\n",
    "To compare the results when using only one dataset and using the merged dataset"
   ]
  },
  {
   "cell_type": "code",
   "execution_count": 0,
   "metadata": {
    "application/vnd.databricks.v1+cell": {
     "cellMetadata": {},
     "inputWidgets": {},
     "nuid": "bb58e085-5245-47f6-a69b-9da30623b81b",
     "showTitle": false,
     "tableResultSettingsMap": {},
     "title": ""
    }
   },
   "outputs": [],
   "source": [
    "%sh\n",
    "apt-get -y install libglpk-dev #Correct igraph - Need t load before, compatible for 14.3 LTS"
   ]
  },
  {
   "cell_type": "code",
   "execution_count": 0,
   "metadata": {
    "application/vnd.databricks.v1+cell": {
     "cellMetadata": {},
     "inputWidgets": {},
     "nuid": "61af13d6-8b51-4a9f-a1b7-2043b1d2322d",
     "showTitle": false,
     "tableResultSettingsMap": {},
     "title": ""
    }
   },
   "outputs": [],
   "source": [
    "# Load libraries\n",
    "## Append the library folder\n",
    ".libPaths(c(\"/dbfs/home/boriol@almirall.com/my_r_packages/bulkRNASeq_PBMCs_R4.3\", .libPaths()))\n",
    "\n",
    "# Load libraries\n",
    "library(clusterProfiler)\n",
    "library(ReactomePA) \n",
    "library(msigdbr)\n",
    "library(DOSE)\n",
    "library(tidyverse)\n",
    "library(org.Hs.eg.db)\n",
    "library(biomaRt)\n",
    "\n",
    ".libPaths(c(\"/dbfs/home/jtrincado@almirall.com/my_r_packages/Seurat\", .libPaths()))\n",
    "library(openxlsx)\n",
    "library(enrichplot)\n",
    "library(ggplot2)"
   ]
  },
  {
   "cell_type": "markdown",
   "metadata": {
    "application/vnd.databricks.v1+cell": {
     "cellMetadata": {},
     "inputWidgets": {},
     "nuid": "3abcada3-e03d-4fb7-8f87-dd7e27af93f5",
     "showTitle": false,
     "tableResultSettingsMap": {},
     "title": ""
    }
   },
   "source": [
    "##Functions, G_list and HALLMARKS databases needed"
   ]
  },
  {
   "cell_type": "code",
   "execution_count": 0,
   "metadata": {
    "application/vnd.databricks.v1+cell": {
     "cellMetadata": {},
     "inputWidgets": {},
     "nuid": "d81c2fe8-6255-4d7c-a51a-ba206c4f27c2",
     "showTitle": false,
     "tableResultSettingsMap": {},
     "title": ""
    }
   },
   "outputs": [],
   "source": [
    "prepare_gene_list <- function(res, G_list) {\n",
    "\n",
    "  # Rank by pvalue\n",
    "  res_rankedlist <- res %>%\n",
    "    mutate(p_val_adj = ifelse(p_val_adj == 0, 1e-300, p_val_adj)) %>%\n",
    "    mutate(rank = -log10(p_val_adj) * sign(avg_log2FC)) %>%\n",
    "    mutate(rank2 = (1 + avg_log2FC) * -log10(p_val_adj))\n",
    "  \n",
    "  # Assigning the 'gene' column values to the 'hgnc_symbol'\n",
    "  res_rankedlist$hgnc_symbol <- res_rankedlist$gene\n",
    "    display(res_rankedlist)\n",
    "\n",
    "  gene_list <- left_join(res_rankedlist, G_list, by = \"hgnc_symbol\") %>% distinct_all()\n",
    "  gene_list_entrez_id <- gene_list %>% dplyr::select(entrezgene_id, rank) %>% distinct(entrezgene_id, .keep_all = TRUE) %>% drop_na()\n",
    "  \n",
    "  geneList_entrez <- gene_list_entrez_id$rank\n",
    "  names(geneList_entrez) <- gene_list_entrez_id$entrezgene_id\n",
    "  \n",
    "  geneList_entrez <- geneList_entrez[is.finite(geneList_entrez)]\n",
    "  geneList_entrez <- sort(geneList_entrez, decreasing = TRUE)\n",
    "  geneList_entrez\n",
    "  return(geneList_entrez)\n",
    "}"
   ]
  },
  {
   "cell_type": "code",
   "execution_count": 0,
   "metadata": {
    "application/vnd.databricks.v1+cell": {
     "cellMetadata": {},
     "inputWidgets": {},
     "nuid": "c946f031-0c32-4b48-a5ee-a6d9cfec0bad",
     "showTitle": false,
     "tableResultSettingsMap": {},
     "title": ""
    }
   },
   "outputs": [],
   "source": [
    "#Fuction to generate a dotplot of the pathway results\n",
    "# Arguments: results and tittle of the plot\n",
    "dotplot_pathway_generator <- function(results, title) {\n",
    "  ggplot(results, aes(x = NES, y = reorder(Description, NES), size = SetSize, color = p.adjust)) +\n",
    "    geom_point(alpha = 0.7) +\n",
    "    scale_color_gradient(low = \"red\", high = \"darkblue\") +\n",
    "    labs(x = \"NES\", y = \"Pathway\", size = \"SetSize\", color = \"P-value adjust\") +\n",
    "    ggtitle(title) +\n",
    "    theme_minimal() +\n",
    "    theme(axis.text.y = element_text(size = 8))\n",
    "}"
   ]
  },
  {
   "cell_type": "code",
   "execution_count": 0,
   "metadata": {
    "application/vnd.databricks.v1+cell": {
     "cellMetadata": {},
     "inputWidgets": {},
     "nuid": "d75bd4ae-2dd7-4332-9881-ae15bf2646e3",
     "showTitle": false,
     "tableResultSettingsMap": {},
     "title": ""
    }
   },
   "outputs": [],
   "source": [
    "get_enrichments <- function(gene_list, pval_cutoff, term2gene_hallmark, term2gene_hallmark2 = NULL) {\n",
    "  set.seed(123)\n",
    "  # KEGG enrichment\n",
    "  kegg_result <- gseKEGG(gene_list, pvalueCutoff = pval_cutoff, organism = \"hsa\", verbose = FALSE, eps=0)\n",
    "  res_kegg <- kegg_result@result\n",
    "  \n",
    "  # Reactome enrichment\n",
    "  reactome_result <- gsePathway(gene_list, pAdjustMethod = \"BH\", pvalueCutoff = pval_cutoff, organism = \"human\", verbose = FALSE,  eps=0)\n",
    "  res_reactome <- reactome_result@result\n",
    "  \n",
    "  # Hallmark enrichment\n",
    "  hallmark_result <- GSEA(gene_list, TERM2GENE = term2gene_hallmark, pvalueCutoff = pval_cutoff,  eps=0)\n",
    "  res_hallmark <- hallmark_result@result\n",
    "  \n",
    "  if (!is.null(term2gene_hallmark2)) {\n",
    "    hallmark_result2 <- GSEA(gene_list, TERM2GENE = term2gene_hallmark2, pvalueCutoff = pval_cutoff,  eps=0)\n",
    "    res_hallmark2 <- hallmark_result2@result\n",
    "    return(list(KEGG = res_kegg, Reactome = res_reactome, Hallmark1 = res_hallmark, Hallmark2 = res_hallmark2))\n",
    "  }\n",
    "  \n",
    "  return(list(KEGG = res_kegg, Reactome = res_reactome, Hallmark = res_hallmark))\n",
    "}"
   ]
  },
  {
   "cell_type": "code",
   "execution_count": 0,
   "metadata": {
    "application/vnd.databricks.v1+cell": {
     "cellMetadata": {},
     "inputWidgets": {},
     "nuid": "8d6e50d1-86d6-4623-abdb-dab71cf9c08b",
     "showTitle": false,
     "tableResultSettingsMap": {},
     "title": ""
    }
   },
   "outputs": [],
   "source": [
    "#Fuction to generate a barplot of the top pathway results\n",
    "# Arguments: results, number of pathways (N with NES <0 and N with NES>0) and tittle of the plot\n",
    "barplot_gsea <- function(res, N, title) {\n",
    "  aux_pos <- arrange(res[which(res$NES > 0),], -NES)\n",
    "  aux_neg <- arrange(res[which(res$NES < 0),], -NES)\n",
    "  GSEA_f <- unique(rbind(head(aux_pos, n = N), tail(aux_neg, n = N)))\n",
    "\n",
    "  options(repr.plot.width = 1400, repr.plot.height = 1000, echo = FALSE)\n",
    "  \n",
    "  plot <- ggplot(GSEA_f, aes(NES, fct_reorder(Description, NES), fill = p.adjust), showCategory = 2*N) + \n",
    "    geom_col(orientation = 'y') + \n",
    "    scale_fill_continuous(low = 'red', high = 'blue', guide = guide_colorbar(reverse = TRUE)) + \n",
    "    theme_minimal() + ylab(NULL) + xlab(\"NES\") +\n",
    "    ggtitle(title)\n",
    "  \n",
    "  return(plot)\n",
    "}"
   ]
  },
  {
   "cell_type": "code",
   "execution_count": 0,
   "metadata": {
    "application/vnd.databricks.v1+cell": {
     "cellMetadata": {},
     "inputWidgets": {},
     "nuid": "100f899f-03ec-46f8-8151-0942e5df0051",
     "showTitle": false,
     "tableResultSettingsMap": {},
     "title": ""
    }
   },
   "outputs": [],
   "source": [
    "G_list <- readRDS(\"/dbfs/mnt/sandbox/RNASeq/PBMCs_IL4/pathways/G_list20240710.rds\") #List with all translations to other id names\n",
    "G_list <-  G_list %>% dplyr::filter(transcript_biotype == \"protein_coding\")"
   ]
  },
  {
   "cell_type": "code",
   "execution_count": 0,
   "metadata": {
    "application/vnd.databricks.v1+cell": {
     "cellMetadata": {},
     "inputWidgets": {},
     "nuid": "f5d1e52f-a556-4c65-99c2-2269659f4bc2",
     "showTitle": false,
     "tableResultSettingsMap": {},
     "title": ""
    }
   },
   "outputs": [],
   "source": [
    "#HALLMARKS\n",
    "\n",
    "library(msigdbr)\n",
    "msigdbr_species()\n",
    "\n",
    "m_df <- msigdbr(species = \"Homo sapiens\")\n",
    "head(m_df, 2) %>% as.data.frame\n",
    "msigdbr_collections()\n",
    "\n",
    "C2_t2g <- msigdbr(species = \"Homo sapiens\", category = \"C2\") %>% \n",
    "  dplyr::select(gs_name, entrez_gene)\n",
    "head(C2_t2g) #This collection includes gene sets curated from various sources such as online pathway databases and the biomedical literature. \n",
    "\n",
    "H_t2g <- msigdbr(species = \"Homo sapiens\", category = \"H\") %>% \n",
    "  dplyr::select(gs_name, entrez_gene)\n",
    "head(H_t2g) # These gene sets summarize and represent specific well-defined biological states or processes. They are designed to reduce noise and redundancy, providing a clearer biological context.\n",
    "\n",
    "\n",
    "CP_t2g <- msigdbr(species = \"Homo sapiens\", category = \"C2\", subcategory = \"CP\") %>% \n",
    "  dplyr::select(gs_name, entrez_gene)\n",
    "head(CP_t2g) #CP (Canonical Pathways): Gene sets from pathway databases representing canonical biological processes\n",
    "\n",
    "C7_t2g <- msigdbr(species = \"Homo sapiens\", category = \"C7\") %>% \n",
    "  dplyr::select(gs_name, entrez_gene)\n",
    "head(C7_t2g) #Immunologic Signatures: Gene sets representing expression signatures of immune cell states, cell types, and perturbations"
   ]
  },
  {
   "cell_type": "markdown",
   "metadata": {
    "application/vnd.databricks.v1+cell": {
     "cellMetadata": {},
     "inputWidgets": {},
     "nuid": "35662240-cb95-4da3-9637-53c5b8902fb7",
     "showTitle": false,
     "tableResultSettingsMap": {},
     "title": ""
    }
   },
   "source": [
    "##Keratinocytes (UNDIFF)"
   ]
  },
  {
   "cell_type": "code",
   "execution_count": 0,
   "metadata": {
    "application/vnd.databricks.v1+cell": {
     "cellMetadata": {},
     "inputWidgets": {},
     "nuid": "b6a68e29-30fd-4382-8843-1a81276c51b2",
     "showTitle": false,
     "tableResultSettingsMap": {},
     "title": ""
    }
   },
   "outputs": [],
   "source": [
    "res_kc <- read.xlsx(\"/dbfs/mnt/sandbox/TFM_PAULA/merged_AR_celltypist_results/DEGs/only_alkon_bulk_undif_kc_de.xlsx\")"
   ]
  },
  {
   "cell_type": "code",
   "execution_count": 0,
   "metadata": {
    "application/vnd.databricks.v1+cell": {
     "cellMetadata": {},
     "inputWidgets": {},
     "nuid": "61fb7c8d-86eb-494c-ae6b-09eefd4a586f",
     "showTitle": false,
     "tableResultSettingsMap": {},
     "title": ""
    }
   },
   "outputs": [],
   "source": [
    "geneList_entrez_kc <- prepare_gene_list(res_kc, G_list)"
   ]
  },
  {
   "cell_type": "code",
   "execution_count": 0,
   "metadata": {
    "application/vnd.databricks.v1+cell": {
     "cellMetadata": {},
     "inputWidgets": {},
     "nuid": "03b4990d-441a-4683-8799-31857d8d3230",
     "showTitle": false,
     "tableResultSettingsMap": {},
     "title": ""
    }
   },
   "outputs": [],
   "source": [
    "res_kc_0.05 <- get_enrichments(geneList_entrez_kc, 0.05, H_t2g, C2_t2g)"
   ]
  },
  {
   "cell_type": "code",
   "execution_count": 0,
   "metadata": {
    "application/vnd.databricks.v1+cell": {
     "cellMetadata": {},
     "inputWidgets": {},
     "nuid": "7d3dcffd-a132-4abf-b573-7aae26f8896e",
     "showTitle": false,
     "tableResultSettingsMap": {},
     "title": ""
    }
   },
   "outputs": [],
   "source": [
    "res_kc_0.05$Hallmark2"
   ]
  },
  {
   "cell_type": "code",
   "execution_count": 0,
   "metadata": {
    "application/vnd.databricks.v1+cell": {
     "cellMetadata": {},
     "inputWidgets": {},
     "nuid": "7499ec7e-7d04-4bc3-b412-a8d77b476466",
     "showTitle": false,
     "tableResultSettingsMap": {},
     "title": ""
    }
   },
   "outputs": [],
   "source": [
    "barplot_gsea(res_kc_0.05$Hallmark2, 20,\"Keratinocytes Undiff - Alkon- Hallmarks C2\")"
   ]
  },
  {
   "cell_type": "code",
   "execution_count": 0,
   "metadata": {
    "application/vnd.databricks.v1+cell": {
     "cellMetadata": {},
     "inputWidgets": {},
     "nuid": "90945f15-a0d6-4020-a7f0-055902c2ecaa",
     "showTitle": false,
     "tableResultSettingsMap": {},
     "title": ""
    }
   },
   "outputs": [],
   "source": [
    "# res_kc_1 <- get_enrichments(geneList_entrez_kc, 1, H_t2g, C2_t2g)"
   ]
  },
  {
   "cell_type": "code",
   "execution_count": 0,
   "metadata": {
    "application/vnd.databricks.v1+cell": {
     "cellMetadata": {},
     "inputWidgets": {},
     "nuid": "05cc8de7-6f1e-4600-ac68-47e75c2f735e",
     "showTitle": false,
     "tableResultSettingsMap": {},
     "title": ""
    }
   },
   "outputs": [],
   "source": [
    "set.seed(123)\n",
    "\n",
    "kc_GO <- enrichGO(gene = names(geneList_entrez_kc),\n",
    "                OrgDb         = org.Hs.eg.db,\n",
    "                keyType       = \"ENTREZID\",\n",
    "                ont           = \"BP\", \n",
    "                pAdjustMethod = \"BH\",\n",
    "                pvalueCutoff  = 0.05,\n",
    "                qvalueCutoff = 0.2)\n",
    "                \n",
    "# Extract results\n",
    "res_kc_GO <- kc_GO@result\n",
    "\n",
    "# Filter results to include only those with p.adjust < 0.05\n",
    "filtered_res_kc_GO <- res_kc_GO %>%\n",
    "  filter(p.adjust < 0.05)\n",
    "\n",
    "# Display filtered results\n",
    "display(filtered_res_kc_GO)"
   ]
  },
  {
   "cell_type": "code",
   "execution_count": 0,
   "metadata": {
    "application/vnd.databricks.v1+cell": {
     "cellMetadata": {},
     "inputWidgets": {},
     "nuid": "807a6d0e-4c2a-4b66-abb3-b9f594bd4630",
     "showTitle": false,
     "tableResultSettingsMap": {},
     "title": ""
    }
   },
   "outputs": [],
   "source": [
    "options(repr.plot.width=1200, repr.plot.height=1200,  echo= F)\n",
    "barplot(kc_GO, showCategory=25, label_format=100, font.size=9) + ggtitle(\"Alkon KC Undiff - L vs HC - GO\")"
   ]
  },
  {
   "cell_type": "markdown",
   "metadata": {
    "application/vnd.databricks.v1+cell": {
     "cellMetadata": {},
     "inputWidgets": {},
     "nuid": "7dcc3576-8d46-4bbd-9a72-12cf393a11b9",
     "showTitle": false,
     "tableResultSettingsMap": {},
     "title": ""
    }
   },
   "source": [
    "###Save results"
   ]
  },
  {
   "cell_type": "code",
   "execution_count": 0,
   "metadata": {
    "application/vnd.databricks.v1+cell": {
     "cellMetadata": {},
     "inputWidgets": {},
     "nuid": "18b1ffc8-a22e-4f0f-8be0-43f8c5eb0880",
     "showTitle": false,
     "tableResultSettingsMap": {},
     "title": ""
    }
   },
   "outputs": [],
   "source": [
    "#Save results\n",
    "write.xlsx(res_kc_0.05, \"/dbfs/mnt/sandbox/TFM_PAULA/Alkon/GSEA_individually/pseudobulk/res_undif_kc_0.05_alkon.xlsx\")\n",
    "write.xlsx(kc_GO, \"/dbfs/mnt/sandbox/TFM_PAULA/Alkon/GSEA_individually/pseudobulk/res_undif_kc_alkon_GO.xlsx\")"
   ]
  },
  {
   "cell_type": "markdown",
   "metadata": {
    "application/vnd.databricks.v1+cell": {
     "cellMetadata": {},
     "inputWidgets": {},
     "nuid": "a6ed082d-8710-4e2c-b468-9fa2771c7192",
     "showTitle": false,
     "tableResultSettingsMap": {},
     "title": ""
    }
   },
   "source": [
    "##Keratinocytes (DIFF)"
   ]
  },
  {
   "cell_type": "code",
   "execution_count": 0,
   "metadata": {
    "application/vnd.databricks.v1+cell": {
     "cellMetadata": {},
     "inputWidgets": {},
     "nuid": "d42aa641-fbe3-4ba9-9412-e36f95f830eb",
     "showTitle": false,
     "tableResultSettingsMap": {},
     "title": ""
    }
   },
   "outputs": [],
   "source": [
    "res_kc_dif <- read.xlsx(\"/dbfs/mnt/sandbox/TFM_PAULA/merged_AR_celltypist_results/DEGs/only_alkon_bulk_dif_kc_de.xlsx\")"
   ]
  },
  {
   "cell_type": "code",
   "execution_count": 0,
   "metadata": {
    "application/vnd.databricks.v1+cell": {
     "cellMetadata": {},
     "inputWidgets": {},
     "nuid": "6970f33e-fa5b-44f9-a776-5931447b67cb",
     "showTitle": false,
     "tableResultSettingsMap": {},
     "title": ""
    }
   },
   "outputs": [],
   "source": [
    "geneList_entrez_kc_dif <- prepare_gene_list(res_kc_dif, G_list)"
   ]
  },
  {
   "cell_type": "code",
   "execution_count": 0,
   "metadata": {
    "application/vnd.databricks.v1+cell": {
     "cellMetadata": {},
     "inputWidgets": {},
     "nuid": "a9f9c8c8-817d-4daa-a401-a1dd8f769868",
     "showTitle": false,
     "tableResultSettingsMap": {},
     "title": ""
    }
   },
   "outputs": [],
   "source": [
    "res_dif_kc_0.05 <- get_enrichments(geneList_entrez_kc_dif, 0.05, H_t2g, C2_t2g)"
   ]
  },
  {
   "cell_type": "code",
   "execution_count": 0,
   "metadata": {
    "application/vnd.databricks.v1+cell": {
     "cellMetadata": {},
     "inputWidgets": {},
     "nuid": "3c87af8f-6edf-4eee-87d3-45d09084ff20",
     "showTitle": false,
     "tableResultSettingsMap": {},
     "title": ""
    }
   },
   "outputs": [],
   "source": [
    "res_dif_kc_0.05$Hallmark2"
   ]
  },
  {
   "cell_type": "code",
   "execution_count": 0,
   "metadata": {
    "application/vnd.databricks.v1+cell": {
     "cellMetadata": {},
     "inputWidgets": {},
     "nuid": "1d545c8a-111a-4ca6-ae1f-29820d5d9a17",
     "showTitle": false,
     "tableResultSettingsMap": {},
     "title": ""
    }
   },
   "outputs": [],
   "source": [
    "barplot_gsea(res_dif_kc_0.05$Hallmark2, 20,\"Keratinocytes DIFF - Alkon - Hallmarks C2\")"
   ]
  },
  {
   "cell_type": "code",
   "execution_count": 0,
   "metadata": {
    "application/vnd.databricks.v1+cell": {
     "cellMetadata": {},
     "inputWidgets": {},
     "nuid": "82744124-7a84-4fb3-ae71-43b24f07a217",
     "showTitle": false,
     "tableResultSettingsMap": {},
     "title": ""
    }
   },
   "outputs": [],
   "source": [
    "# res_kc_1 <- get_enrichments(geneList_entrez_kc, 1, H_t2g, C2_t2g)"
   ]
  },
  {
   "cell_type": "code",
   "execution_count": 0,
   "metadata": {
    "application/vnd.databricks.v1+cell": {
     "cellMetadata": {},
     "inputWidgets": {},
     "nuid": "43a60443-a3ba-4889-9edf-ce3b23fed5f3",
     "showTitle": false,
     "tableResultSettingsMap": {},
     "title": ""
    }
   },
   "outputs": [],
   "source": [
    "set.seed(123)\n",
    "\n",
    "kc_GO_DIF <- enrichGO(gene = names(geneList_entrez_kc_dif),\n",
    "                OrgDb         = org.Hs.eg.db,\n",
    "                keyType       = \"ENTREZID\",\n",
    "                ont           = \"BP\", \n",
    "                pAdjustMethod = \"BH\",\n",
    "                pvalueCutoff  = 0.05,\n",
    "                qvalueCutoff = 0.2)\n",
    "                \n",
    "# Extract results\n",
    "res_kc_GO_DIF <- kc_GO_DIF@result\n",
    "\n",
    "# Filter results to include only those with p.adjust < 0.05\n",
    "filtered_res_kc_GO_DIF <- kc_GO_DIF %>%\n",
    "  filter(p.adjust < 0.05)\n",
    "\n",
    "# Display filtered results\n",
    "display(filtered_res_kc_GO_DIF)"
   ]
  },
  {
   "cell_type": "code",
   "execution_count": 0,
   "metadata": {
    "application/vnd.databricks.v1+cell": {
     "cellMetadata": {},
     "inputWidgets": {},
     "nuid": "65dbd42f-9a0e-4de0-b3b1-4c5d79fd3f74",
     "showTitle": false,
     "tableResultSettingsMap": {},
     "title": ""
    }
   },
   "outputs": [],
   "source": [
    "options(repr.plot.width=1200, repr.plot.height=1200,  echo= F)\n",
    "barplot(kc_GO_DIF, showCategory=25, label_format=100, font.size=9) + ggtitle(\"Alkon KC DIFF - L vs HC - GO\")"
   ]
  },
  {
   "cell_type": "markdown",
   "metadata": {
    "application/vnd.databricks.v1+cell": {
     "cellMetadata": {},
     "inputWidgets": {},
     "nuid": "5e67a2db-5bd3-4723-8e8b-2c66e775f61f",
     "showTitle": false,
     "tableResultSettingsMap": {},
     "title": ""
    }
   },
   "source": [
    "###Save results"
   ]
  },
  {
   "cell_type": "code",
   "execution_count": 0,
   "metadata": {
    "application/vnd.databricks.v1+cell": {
     "cellMetadata": {},
     "inputWidgets": {},
     "nuid": "55e0f71b-66a1-4ae5-b4ea-5bf1594a143f",
     "showTitle": false,
     "tableResultSettingsMap": {},
     "title": ""
    }
   },
   "outputs": [],
   "source": [
    "#Save results\n",
    "write.xlsx(res_dif_kc_0.05, \"/dbfs/mnt/sandbox/TFM_PAULA/Alkon/GSEA_individually/pseudobulk/res_dif_kc_0.05_alkon.xlsx\")\n",
    "write.xlsx(kc_GO_DIF, \"/dbfs/mnt/sandbox/TFM_PAULA/Alkon/GSEA_individually/pseudobulk/res_dif_kc_alkon_GO.xlsx\")"
   ]
  }
 ],
 "metadata": {
  "application/vnd.databricks.v1+notebook": {
   "computePreferences": null,
   "dashboards": [],
   "environmentMetadata": null,
   "inputWidgetPreferences": null,
   "language": "r",
   "notebookMetadata": {
    "pythonIndentUnit": 4
   },
   "notebookName": "02.3.alkon_pathway_enrichment_LvsHC",
   "widgets": {}
  },
  "language_info": {
   "name": "r"
  }
 },
 "nbformat": 4,
 "nbformat_minor": 0
}
