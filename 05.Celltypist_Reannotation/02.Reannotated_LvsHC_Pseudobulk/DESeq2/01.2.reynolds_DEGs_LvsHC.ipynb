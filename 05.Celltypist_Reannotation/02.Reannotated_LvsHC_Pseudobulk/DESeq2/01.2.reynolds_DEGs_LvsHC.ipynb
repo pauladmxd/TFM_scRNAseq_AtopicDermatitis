{
 "cells": [
  {
   "cell_type": "markdown",
   "metadata": {
    "application/vnd.databricks.v1+cell": {
     "cellMetadata": {},
     "inputWidgets": {},
     "nuid": "4e929308-f0b7-432b-be21-b8bb7af39c62",
     "showTitle": false,
     "tableResultSettingsMap": {},
     "title": ""
    }
   },
   "source": [
    "#Find DEGs with pseudobulk\n",
    "## AD/PS Reynolds et al, 2021\n",
    "\n",
    "Here will be performed the analysis to find DEGs in the subannotation of KC only with one dataset to compare with the merged analysis results."
   ]
  },
  {
   "cell_type": "code",
   "execution_count": 0,
   "metadata": {
    "application/vnd.databricks.v1+cell": {
     "cellMetadata": {},
     "inputWidgets": {},
     "nuid": "f91524ea-15c1-46b2-9ae6-1937a16c45d3",
     "showTitle": false,
     "tableResultSettingsMap": {},
     "title": ""
    }
   },
   "outputs": [],
   "source": [
    ".libPaths(c(\"/dbfs/home/jtrincado@almirall.com/my_r_packages/Seurat\", .libPaths()))\n",
    "library(dplyr)\n",
    "library(openxlsx)"
   ]
  },
  {
   "cell_type": "code",
   "execution_count": 0,
   "metadata": {
    "application/vnd.databricks.v1+cell": {
     "cellMetadata": {},
     "inputWidgets": {},
     "nuid": "fe1ef120-479c-4ecd-9102-aae9c1dcd080",
     "showTitle": false,
     "tableResultSettingsMap": {},
     "title": ""
    }
   },
   "outputs": [],
   "source": [
    "my_library <- \"/dbfs/home/pdelgadom@almirall.com/my_r_packages/tfm_paula_4\"\n",
    "dir.create(my_library, recursive=TRUE, showWarnings=FALSE)\n",
    ".libPaths(c(my_library, .libPaths()))\n",
    "if (!requireNamespace(\"remotes\")) install.packages(\"remotes\")\n",
    " \n",
    "install_from_github <- function(pkg_name, my_library=NULL) {\n",
    "  if (is.null(my_library)) {\n",
    "    my_library <- .libPaths()[1]\n",
    "    message(\"Installing \", pkg_name, \" to \", my_library)\n",
    "  }\n",
    " \n",
    "  temp_library <- tempfile()\n",
    "  dir.create(temp_library)\n",
    "  remotes::install_cran(pkg_name, lib = temp_library, upgrade=FALSE)\n",
    "  #remotes::install_bioc(pkg_name, lib=temp_library, upgrade=FALSE)\n",
    "  #remotes::install_github(pkg_name, lib = temp_library, upgrade=FALSE)\n",
    "  for (x in list.files(temp_library)) {\n",
    "    file.copy(\n",
    "      file.path(temp_library, x),\n",
    "      my_library,\n",
    "      recursive=TRUE\n",
    "    )\n",
    "  }\n",
    "}"
   ]
  },
  {
   "cell_type": "code",
   "execution_count": 0,
   "metadata": {
    "application/vnd.databricks.v1+cell": {
     "cellMetadata": {},
     "inputWidgets": {},
     "nuid": "3dfd8d34-0845-4c99-8e80-5aa8893c52cb",
     "showTitle": false,
     "tableResultSettingsMap": {},
     "title": ""
    }
   },
   "outputs": [],
   "source": [
    "if (!requireNamespace(\"DESeq2\"))install_from_github(\"DESeq2\")"
   ]
  },
  {
   "cell_type": "code",
   "execution_count": 0,
   "metadata": {
    "application/vnd.databricks.v1+cell": {
     "cellMetadata": {},
     "inputWidgets": {},
     "nuid": "e007506b-143e-41de-8286-03e07a210c2b",
     "showTitle": false,
     "tableResultSettingsMap": {},
     "title": ""
    }
   },
   "outputs": [],
   "source": [
    ".libPaths(c(\"/dbfs/home/pdelgadom@almirall.com/my_r_packages/tfm_paula_4\", .libPaths()))\n",
    "library(DESeq2)"
   ]
  },
  {
   "cell_type": "code",
   "execution_count": 0,
   "metadata": {
    "application/vnd.databricks.v1+cell": {
     "cellMetadata": {},
     "inputWidgets": {},
     "nuid": "7b307e0f-a48d-458e-b6d6-ceb8bf9d90e1",
     "showTitle": false,
     "tableResultSettingsMap": {},
     "title": ""
    }
   },
   "outputs": [],
   "source": [
    "#Load required libraries\n",
    ".libPaths(c(\"/dbfs/home/boriol@almirall.com/my_r_packages/bulkRNASeq_PBMCs_R4.3\", .libPaths()))\n",
    "library(VennDiagram)\n",
    "library(EnhancedVolcano)"
   ]
  },
  {
   "cell_type": "code",
   "execution_count": 0,
   "metadata": {
    "application/vnd.databricks.v1+cell": {
     "cellMetadata": {},
     "inputWidgets": {},
     "nuid": "6b78f137-4d1e-4522-9990-f96b657274a7",
     "showTitle": false,
     "tableResultSettingsMap": {},
     "title": ""
    }
   },
   "outputs": [],
   "source": [
    ".libPaths(c(\"/dbfs/home/jtrincado@almirall.com/my_r_packages/Seurat_v2\", .libPaths()))\n",
    "library(Seurat)"
   ]
  },
  {
   "cell_type": "markdown",
   "metadata": {
    "application/vnd.databricks.v1+cell": {
     "cellMetadata": {},
     "inputWidgets": {},
     "nuid": "1d461c90-a87e-432b-b16a-28d31067eec8",
     "showTitle": false,
     "tableResultSettingsMap": {},
     "title": ""
    }
   },
   "source": [
    "The packages have to be loaded in this specific order, if not an error arises"
   ]
  },
  {
   "cell_type": "code",
   "execution_count": 0,
   "metadata": {
    "application/vnd.databricks.v1+cell": {
     "cellMetadata": {},
     "inputWidgets": {},
     "nuid": "949e13f0-c63b-4a2e-9bef-c8c2bfd7ac15",
     "showTitle": false,
     "tableResultSettingsMap": {},
     "title": ""
    }
   },
   "outputs": [],
   "source": [
    "volcano_generator <- function(resultsDE, given_title) {\n",
    "  library(dplyr)\n",
    "\n",
    "  resultsDE <- as.data.frame(resultsDE)\n",
    "  \n",
    "  # Create annotations for volcano plot\n",
    "  resultsDE0 <- resultsDE\n",
    "  resultsDE0$gene_id <- rownames(resultsDE0)\n",
    "\n",
    "  # Ensure unique row names and remove rows with missing gene id\n",
    "  resultsDE0 <- resultsDE0 %>%\n",
    "    distinct(gene_id, .keep_all = TRUE)\n",
    "  rownames(resultsDE0) <- resultsDE0$gene_id\n",
    "  \n",
    "  # Determine column names for p-value and log2 fold change\n",
    "  p_val_col <- if (\"p_val_adj\" %in% colnames(resultsDE0)) \"p_val_adj\" else \"padj\"\n",
    "  log2fc_col <- if (\"avg_log2FC\" %in% colnames(resultsDE0)) \"avg_log2FC\" else \"log2FoldChange\"\n",
    "  \n",
    "  top10_genes <- resultsDE0 %>%\n",
    "    filter(!!sym(log2fc_col) > 1 & !!sym(p_val_col) < 0.05) %>%\n",
    "    arrange(!!sym(p_val_col)) %>% top_n(10, -!!sym(p_val_col))\n",
    "  \n",
    "  bottom10_genes <- resultsDE0 %>%\n",
    "    filter(!!sym(log2fc_col) < -1 & !!sym(p_val_col) < 0.05) %>%\n",
    "    arrange(!!sym(p_val_col)) %>% top_n(10, -!!sym(p_val_col))\n",
    "  \n",
    "  # Plot Volcano\n",
    "  volcano <- EnhancedVolcano(resultsDE0,\n",
    "    lab = rownames(resultsDE0),\n",
    "    x = log2fc_col,\n",
    "    y = p_val_col,\n",
    "    pCutoff = 0.05,\n",
    "    selectLab = c(top10_genes$gene_id, bottom10_genes$gene_id),\n",
    "    labSize = 5,\n",
    "    drawConnectors = TRUE,\n",
    "    widthConnectors = 0.5,\n",
    "    colConnectors = 'black',\n",
    "    title = given_title)\n",
    "  volcano\n",
    "}"
   ]
  },
  {
   "cell_type": "markdown",
   "metadata": {
    "application/vnd.databricks.v1+cell": {
     "cellMetadata": {},
     "inputWidgets": {},
     "nuid": "ba67f345-9343-43a6-b5c8-cf7aa21273ee",
     "showTitle": false,
     "tableResultSettingsMap": {},
     "title": ""
    }
   },
   "source": [
    "##Read data"
   ]
  },
  {
   "cell_type": "code",
   "execution_count": 0,
   "metadata": {
    "application/vnd.databricks.v1+cell": {
     "cellMetadata": {},
     "inputWidgets": {},
     "nuid": "76792164-4409-491a-8828-488f08bb26f5",
     "showTitle": false,
     "tableResultSettingsMap": {},
     "title": ""
    }
   },
   "outputs": [],
   "source": [
    "#Read seurat object\n",
    "reynolds <- readRDS(file=\"/dbfs/mnt/sandbox/TFM_PAULA/REYNOLDS_PROCESSED_TFM.rds\")"
   ]
  },
  {
   "cell_type": "code",
   "execution_count": 0,
   "metadata": {
    "application/vnd.databricks.v1+cell": {
     "cellMetadata": {},
     "inputWidgets": {},
     "nuid": "d29882dc-bcab-4aac-96ea-0d24c1d8b74a",
     "showTitle": false,
     "tableResultSettingsMap": {},
     "title": ""
    }
   },
   "outputs": [],
   "source": [
    "head(reynolds@meta.data, 5)"
   ]
  },
  {
   "cell_type": "code",
   "execution_count": 0,
   "metadata": {
    "application/vnd.databricks.v1+cell": {
     "cellMetadata": {},
     "inputWidgets": {},
     "nuid": "4ba512c1-e6db-4156-bd46-69753ddc3087",
     "showTitle": false,
     "tableResultSettingsMap": {},
     "title": ""
    }
   },
   "outputs": [],
   "source": [
    "# Create a new column 'Condition' with default value 'healthy'\n",
    "reynolds$Condition <- \"healthy\"\n",
    "\n",
    "# Update 'Condition' based on the 'Status' and 'Site' columns\n",
    "reynolds$Condition[reynolds$Status == \"Eczema\" & reynolds$Site == \"lesion\"] <- \"lesional\"\n",
    "reynolds$Condition[reynolds$Status == \"Eczema\" & reynolds$Site == \"non_lesion\"] <- \"non lesional\"\n",
    "\n",
    "unique(reynolds$Condition)"
   ]
  },
  {
   "cell_type": "markdown",
   "metadata": {
    "application/vnd.databricks.v1+cell": {
     "cellMetadata": {},
     "inputWidgets": {},
     "nuid": "4efcd72f-491a-4edd-906b-97cade5c20bc",
     "showTitle": false,
     "tableResultSettingsMap": {},
     "title": ""
    }
   },
   "source": [
    "###Filter to remove what is not relevant\n",
    "- non lesional samples \n",
    "- all celltypes except to Tc, Th, Treg, Undifferentiated_KC, Differentiated_KC\n"
   ]
  },
  {
   "cell_type": "markdown",
   "metadata": {
    "application/vnd.databricks.v1+cell": {
     "cellMetadata": {},
     "inputWidgets": {},
     "nuid": "4c09611d-b087-4811-862e-639ac326dc49",
     "showTitle": false,
     "tableResultSettingsMap": {},
     "title": ""
    }
   },
   "source": [
    "Filter cell types, in that way I can run DESEQ2 faster"
   ]
  },
  {
   "cell_type": "code",
   "execution_count": 0,
   "metadata": {
    "application/vnd.databricks.v1+cell": {
     "cellMetadata": {},
     "inputWidgets": {},
     "nuid": "44bd833c-5491-4214-b28c-196e4a7eef9e",
     "showTitle": false,
     "tableResultSettingsMap": {},
     "title": ""
    }
   },
   "outputs": [],
   "source": [
    "desired_cell_types <- c(\"Tc\", \"Th\", \"Treg\", \"Undifferentiated_KC*\", \"Differentiated_KC\")  # Relevant celltypes\n",
    "reynolds_f <- subset(reynolds, final_clustering %in% desired_cell_types)"
   ]
  },
  {
   "cell_type": "code",
   "execution_count": 0,
   "metadata": {
    "application/vnd.databricks.v1+cell": {
     "cellMetadata": {},
     "inputWidgets": {},
     "nuid": "2b3c5e93-adae-425d-b39a-e2210b255177",
     "showTitle": false,
     "tableResultSettingsMap": {},
     "title": ""
    }
   },
   "outputs": [],
   "source": [
    "unique(reynolds_f$final_clustering)"
   ]
  },
  {
   "cell_type": "code",
   "execution_count": 0,
   "metadata": {
    "application/vnd.databricks.v1+cell": {
     "cellMetadata": {},
     "inputWidgets": {},
     "nuid": "4f4b7c18-8b2b-4216-9b2d-134c7763fefe",
     "showTitle": false,
     "tableResultSettingsMap": {},
     "title": ""
    }
   },
   "outputs": [],
   "source": [
    "reynolds_f$final_clustering <- ifelse(reynolds_f$final_clustering == \"Undifferentiated_KC*\", \"Undifferentiated_KC\", reynolds_f$final_clustering)"
   ]
  },
  {
   "cell_type": "code",
   "execution_count": 0,
   "metadata": {
    "application/vnd.databricks.v1+cell": {
     "cellMetadata": {},
     "inputWidgets": {},
     "nuid": "cdacaf83-1b26-4415-8ee9-81bfd0970c54",
     "showTitle": false,
     "tableResultSettingsMap": {},
     "title": ""
    }
   },
   "outputs": [],
   "source": [
    "unique(reynolds_f$final_clustering)"
   ]
  },
  {
   "cell_type": "code",
   "execution_count": 0,
   "metadata": {
    "application/vnd.databricks.v1+cell": {
     "cellMetadata": {},
     "inputWidgets": {},
     "nuid": "5b88ee8a-e041-4357-8ea1-30d46d538704",
     "showTitle": false,
     "tableResultSettingsMap": {},
     "title": ""
    }
   },
   "outputs": [],
   "source": [
    "table(reynolds_f$Condition, reynolds_f$final_clustering)"
   ]
  },
  {
   "cell_type": "code",
   "execution_count": 0,
   "metadata": {
    "application/vnd.databricks.v1+cell": {
     "cellMetadata": {},
     "inputWidgets": {},
     "nuid": "16a30368-b1a1-4133-925d-87c7ca34d0aa",
     "showTitle": false,
     "tableResultSettingsMap": {},
     "title": ""
    }
   },
   "outputs": [],
   "source": [
    "unique(reynolds_f$Condition)"
   ]
  },
  {
   "cell_type": "code",
   "execution_count": 0,
   "metadata": {
    "application/vnd.databricks.v1+cell": {
     "cellMetadata": {},
     "inputWidgets": {},
     "nuid": "9f6b632f-ef11-4dbb-9aa2-5f4612acc72c",
     "showTitle": false,
     "tableResultSettingsMap": {},
     "title": ""
    }
   },
   "outputs": [],
   "source": [
    "reynolds_f <- subset(reynolds_f, Condition %in% c(\"lesional\", \"healthy\"))"
   ]
  },
  {
   "cell_type": "code",
   "execution_count": 0,
   "metadata": {
    "application/vnd.databricks.v1+cell": {
     "cellMetadata": {},
     "inputWidgets": {},
     "nuid": "de7c075c-a47d-45e2-a60c-a16a5d0a0b2b",
     "showTitle": false,
     "tableResultSettingsMap": {},
     "title": ""
    }
   },
   "outputs": [],
   "source": [
    "unique(reynolds_f$Condition)"
   ]
  },
  {
   "cell_type": "markdown",
   "metadata": {
    "application/vnd.databricks.v1+cell": {
     "cellMetadata": {},
     "inputWidgets": {},
     "nuid": "85035f1c-835f-489e-a67a-d7f5f2c0e517",
     "showTitle": false,
     "tableResultSettingsMap": {},
     "title": ""
    }
   },
   "source": [
    "##Filtering variables that have at least 3 counts\n"
   ]
  },
  {
   "cell_type": "code",
   "execution_count": 0,
   "metadata": {
    "application/vnd.databricks.v1+cell": {
     "cellMetadata": {},
     "inputWidgets": {},
     "nuid": "99757942-a83f-496b-b529-e50260fa9211",
     "showTitle": false,
     "tableResultSettingsMap": {},
     "title": ""
    }
   },
   "outputs": [],
   "source": [
    "counts_matrix <- reynolds_f[[\"RNA\"]]$counts\n",
    "dim(counts_matrix)"
   ]
  },
  {
   "cell_type": "code",
   "execution_count": 0,
   "metadata": {
    "application/vnd.databricks.v1+cell": {
     "cellMetadata": {},
     "inputWidgets": {},
     "nuid": "03dfa1d5-96f8-4e1d-b0fa-cbd3f3961006",
     "showTitle": false,
     "tableResultSettingsMap": {},
     "title": ""
    }
   },
   "outputs": [],
   "source": [
    "# Keep only rows that have a count of at least 3 counts in 3 samples\n",
    "smallestGroupSize <- 3\n",
    "keep <- rowSums(counts_matrix >= 3) >= smallestGroupSize\n",
    "counts_keep <- counts_matrix[keep,]\n",
    "\n",
    "# Subset the Seurat object to keep only the features in counts_keep\n",
    "reynolds_f <- subset(reynolds_f, features = rownames(counts_keep))\n",
    "\n",
    "# Assign the filtered counts to the new Seurat object\n",
    "reynolds_f[[\"RNA\"]]$counts <- counts_keep\n",
    "\n",
    "# Check dimensions\n",
    "dim(reynolds_f[[\"RNA\"]]$counts)"
   ]
  },
  {
   "cell_type": "code",
   "execution_count": 0,
   "metadata": {
    "application/vnd.databricks.v1+cell": {
     "cellMetadata": {},
     "inputWidgets": {},
     "nuid": "9ca44bca-2b78-4f91-ad03-d1d6cb891bd2",
     "showTitle": false,
     "tableResultSettingsMap": {},
     "title": ""
    }
   },
   "outputs": [],
   "source": [
    "head(reynolds_f[[\"RNA\"]]$counts)"
   ]
  },
  {
   "cell_type": "markdown",
   "metadata": {
    "application/vnd.databricks.v1+cell": {
     "cellMetadata": {},
     "inputWidgets": {},
     "nuid": "bce7c4da-4839-48fc-9570-e46421a2943a",
     "showTitle": false,
     "tableResultSettingsMap": {},
     "title": ""
    }
   },
   "source": [
    "##Pseudobulk the counts based on the donor id"
   ]
  },
  {
   "cell_type": "code",
   "execution_count": 0,
   "metadata": {
    "application/vnd.databricks.v1+cell": {
     "cellMetadata": {},
     "inputWidgets": {},
     "nuid": "9dedcdd1-be1f-41ec-bea3-1719e554733a",
     "showTitle": false,
     "tableResultSettingsMap": {},
     "title": ""
    }
   },
   "outputs": [],
   "source": [
    "# pseudobulk the counts based on donor-condition-celltype\n",
    "pseudo_reynolds <- AggregateExpression(reynolds_f, assays = \"RNA\", return.seurat = T, group.by = c(\"Condition\", \"donor_id\", \"final_clustering\"))\n",
    "\n",
    "# each 'cell' is a donor-condition-celltype pseudobulk profile\n",
    "unique(Cells(pseudo_reynolds))"
   ]
  },
  {
   "cell_type": "code",
   "execution_count": 0,
   "metadata": {
    "application/vnd.databricks.v1+cell": {
     "cellMetadata": {},
     "inputWidgets": {},
     "nuid": "eca2c73f-3afa-4d0f-802f-3a67e799d245",
     "showTitle": false,
     "tableResultSettingsMap": {},
     "title": ""
    }
   },
   "outputs": [],
   "source": [
    "pseudo_reynolds"
   ]
  },
  {
   "cell_type": "code",
   "execution_count": 0,
   "metadata": {
    "application/vnd.databricks.v1+cell": {
     "cellMetadata": {},
     "inputWidgets": {},
     "nuid": "c57afb3d-848f-48c5-80a9-b87d73107208",
     "showTitle": false,
     "tableResultSettingsMap": {},
     "title": ""
    }
   },
   "outputs": [],
   "source": [
    "pseudo_reynolds$celltype.cond <- paste(pseudo_reynolds$final_clustering, pseudo_reynolds$Condition, sep = \"_\")"
   ]
  },
  {
   "cell_type": "code",
   "execution_count": 0,
   "metadata": {
    "application/vnd.databricks.v1+cell": {
     "cellMetadata": {},
     "inputWidgets": {},
     "nuid": "eb782eb0-a615-46bd-8043-0607dafe05e1",
     "showTitle": false,
     "tableResultSettingsMap": {},
     "title": ""
    }
   },
   "outputs": [],
   "source": [
    "Idents(pseudo_reynolds) <- \"celltype.cond\""
   ]
  },
  {
   "cell_type": "code",
   "execution_count": 0,
   "metadata": {
    "application/vnd.databricks.v1+cell": {
     "cellMetadata": {},
     "inputWidgets": {},
     "nuid": "ade1cbe1-a451-4e94-a34b-afa57bac2e4b",
     "showTitle": false,
     "tableResultSettingsMap": {},
     "title": ""
    }
   },
   "outputs": [],
   "source": [
    "unique(pseudo_reynolds$celltype.cond)"
   ]
  },
  {
   "cell_type": "markdown",
   "metadata": {
    "application/vnd.databricks.v1+cell": {
     "cellMetadata": {},
     "inputWidgets": {},
     "nuid": "edd0d7c0-52c6-4306-ada6-359db11884ef",
     "showTitle": false,
     "tableResultSettingsMap": {},
     "title": ""
    }
   },
   "source": [
    "##Keratinocytes (Undifferentiated)"
   ]
  },
  {
   "cell_type": "code",
   "execution_count": 0,
   "metadata": {
    "application/vnd.databricks.v1+cell": {
     "cellMetadata": {},
     "inputWidgets": {},
     "nuid": "eee46f78-6880-4f56-a11f-ea3dc47cf436",
     "showTitle": false,
     "tableResultSettingsMap": {},
     "title": ""
    }
   },
   "outputs": [],
   "source": [
    "bulk.kc.de <- FindMarkers(object = pseudo_reynolds, \n",
    "                         ident.1 = \"Undifferentiated-KC_lesional\", \n",
    "                         ident.2 = \"Undifferentiated-KC_healthy\",\n",
    "                         test.use = \"DESeq2\")\n",
    "head(bulk.kc.de, n = 15)"
   ]
  },
  {
   "cell_type": "code",
   "execution_count": 0,
   "metadata": {
    "application/vnd.databricks.v1+cell": {
     "cellMetadata": {},
     "inputWidgets": {},
     "nuid": "065ff3ce-16bf-405e-9ca0-527fba91588a",
     "showTitle": false,
     "tableResultSettingsMap": {},
     "title": ""
    }
   },
   "outputs": [],
   "source": [
    "library(ggplot2)\n",
    "bulk.kc.de <- as.data.frame(bulk.kc.de)\n",
    "ggplot(bulk.kc.de, aes(x = p_val)) +\n",
    "  geom_histogram(binwidth = 0.01, fill = \"blue\", color = \"black\") +\n",
    "  theme_minimal() +\n",
    "  labs(title = \"Distribution of p-value\", x = \"p-value\", y = \"Frequency\")"
   ]
  },
  {
   "cell_type": "code",
   "execution_count": 0,
   "metadata": {
    "application/vnd.databricks.v1+cell": {
     "cellMetadata": {},
     "inputWidgets": {},
     "nuid": "58d84808-71b8-4c49-9776-bb90dff17b9c",
     "showTitle": false,
     "tableResultSettingsMap": {},
     "title": ""
    }
   },
   "outputs": [],
   "source": [
    "volcano_generator(bulk.kc.de, \"Pseudobulk - Undifferentiated KC - Reynolds\")"
   ]
  },
  {
   "cell_type": "markdown",
   "metadata": {
    "application/vnd.databricks.v1+cell": {
     "cellMetadata": {},
     "inputWidgets": {},
     "nuid": "a94f9167-4889-47ab-8006-361367c55fc9",
     "showTitle": false,
     "tableResultSettingsMap": {},
     "title": ""
    }
   },
   "source": [
    "##Keratinocytes (Differentiated)"
   ]
  },
  {
   "cell_type": "code",
   "execution_count": 0,
   "metadata": {
    "application/vnd.databricks.v1+cell": {
     "cellMetadata": {},
     "inputWidgets": {},
     "nuid": "3dfe02bc-b937-4bbb-994e-6b777f498a47",
     "showTitle": false,
     "tableResultSettingsMap": {},
     "title": ""
    }
   },
   "outputs": [],
   "source": [
    "bulk.dif.kc.de <- FindMarkers(object = pseudo_reynolds, \n",
    "                         ident.1 = \"Differentiated-KC_lesional\", \n",
    "                         ident.2 = \"Differentiated-KC_healthy\",\n",
    "                         test.use = \"DESeq2\")\n",
    "head(bulk.dif.kc.de, n = 15)"
   ]
  },
  {
   "cell_type": "code",
   "execution_count": 0,
   "metadata": {
    "application/vnd.databricks.v1+cell": {
     "cellMetadata": {},
     "inputWidgets": {},
     "nuid": "c2f16fbd-af4d-4a7e-825d-9fa5de7e65e2",
     "showTitle": false,
     "tableResultSettingsMap": {},
     "title": ""
    }
   },
   "outputs": [],
   "source": [
    "library(ggplot2)\n",
    "bulk.kc.de <- as.data.frame(bulk.dif.kc.de)\n",
    "ggplot(bulk.kc.de, aes(x = p_val)) +\n",
    "  geom_histogram(binwidth = 0.01, fill = \"blue\", color = \"black\") +\n",
    "  theme_minimal() +\n",
    "  labs(title = \"Distribution of p-value\", x = \"p-value\", y = \"Frequency\")"
   ]
  },
  {
   "cell_type": "code",
   "execution_count": 0,
   "metadata": {
    "application/vnd.databricks.v1+cell": {
     "cellMetadata": {},
     "inputWidgets": {},
     "nuid": "87bff460-9864-4c46-9343-a802e4872a07",
     "showTitle": false,
     "tableResultSettingsMap": {},
     "title": ""
    }
   },
   "outputs": [],
   "source": [
    "volcano_generator(bulk.dif.kc.de, \"Pseudobulk - Differentiated KC - Reynolds\")"
   ]
  },
  {
   "cell_type": "markdown",
   "metadata": {
    "application/vnd.databricks.v1+cell": {
     "cellMetadata": {},
     "inputWidgets": {},
     "nuid": "40cf7d09-2daa-4b86-a4ee-235ea0d1d5d2",
     "showTitle": false,
     "tableResultSettingsMap": {},
     "title": ""
    }
   },
   "source": [
    "##Write and save"
   ]
  },
  {
   "cell_type": "code",
   "execution_count": 0,
   "metadata": {
    "application/vnd.databricks.v1+cell": {
     "cellMetadata": {},
     "inputWidgets": {},
     "nuid": "7155fa42-0538-4e35-b90e-c79b28b196ff",
     "showTitle": false,
     "tableResultSettingsMap": {},
     "title": ""
    }
   },
   "outputs": [],
   "source": [
    "bulk.kc.de$gene <- rownames(bulk.kc.de)\n",
    "bulk.dif.kc.de$gene <- rownames(bulk.dif.kc.de)\n",
    "\n",
    "write.xlsx(bulk.kc.de, file=\"/dbfs/mnt/sandbox/TFM_PAULA/merged_AR_celltypist_results/DEGs/only_reynolds_bulk_undif_kc_de.xlsx\")\n",
    "write.xlsx(bulk.dif.kc.de, file=\"/dbfs/mnt/sandbox/TFM_PAULA/merged_AR_celltypist_results/DEGs/only_reynolds_bulk_dif_kc_de.xlsx\")"
   ]
  }
 ],
 "metadata": {
  "application/vnd.databricks.v1+notebook": {
   "computePreferences": null,
   "dashboards": [],
   "environmentMetadata": null,
   "inputWidgetPreferences": null,
   "language": "r",
   "notebookMetadata": {
    "pythonIndentUnit": 4
   },
   "notebookName": "01.2.reynolds_DEGs_LvsHC",
   "widgets": {}
  },
  "language_info": {
   "name": "r"
  }
 },
 "nbformat": 4,
 "nbformat_minor": 0
}
