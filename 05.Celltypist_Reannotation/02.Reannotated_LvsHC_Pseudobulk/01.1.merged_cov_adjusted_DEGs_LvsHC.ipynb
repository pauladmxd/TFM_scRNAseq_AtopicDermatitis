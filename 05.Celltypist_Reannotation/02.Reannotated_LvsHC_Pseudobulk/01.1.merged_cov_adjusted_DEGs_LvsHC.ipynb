{
 "cells": [
  {
   "cell_type": "markdown",
   "metadata": {
    "application/vnd.databricks.v1+cell": {
     "cellMetadata": {},
     "inputWidgets": {},
     "nuid": "6eb5fa52-11ee-4130-ba0f-274a5cbf8a5c",
     "showTitle": false,
     "tableResultSettingsMap": {},
     "title": ""
    }
   },
   "source": [
    "#Find DEGs with pseudobulk in the merge object Alkon + Reynolds\n",
    "Done with and without adjusting dataset as a covariable\n",
    "\n",
    "###Relevant cell types (celltypist): \n",
    "T-cells (Tc, Th and Treg), Keratinocytes (Undifferentiated and Differentiated), Macrophages\n",
    "\n",
    "###Constrast: \n",
    "  - Lesional vs Healthy control (LvsHC)"
   ]
  },
  {
   "cell_type": "code",
   "execution_count": 0,
   "metadata": {
    "application/vnd.databricks.v1+cell": {
     "cellMetadata": {
      "byteLimit": 2048000,
      "rowLimit": 10000
     },
     "inputWidgets": {},
     "nuid": "b92c4ebd-457e-43d6-aa81-fec48c8d2972",
     "showTitle": false,
     "tableResultSettingsMap": {},
     "title": ""
    }
   },
   "outputs": [],
   "source": [
    "#Load required libraries\n",
    ".libPaths(c(\"/dbfs/home/jtrincado@almirall.com/my_r_packages/Seurat_v2\", .libPaths()))\n",
    "library(Seurat)\n",
    ".libPaths(c(\"/dbfs/home/jtrincado@almirall.com/my_r_packages/Seurat\", .libPaths()))\n",
    "library(openxlsx)\n",
    "library(EnhancedVolcano)\n",
    ".libPaths(c(\"/dbfs/home/boriol@almirall.com/my_r_packages/bulkRNASeq_PBMCs_R4.3\", .libPaths()))\n",
    "library(EnhancedVolcano)"
   ]
  },
  {
   "cell_type": "code",
   "execution_count": 0,
   "metadata": {
    "application/vnd.databricks.v1+cell": {
     "cellMetadata": {
      "byteLimit": 2048000,
      "rowLimit": 10000
     },
     "inputWidgets": {},
     "nuid": "4691d97b-e7a9-42ec-9310-b73cd79e81c7",
     "showTitle": false,
     "tableResultSettingsMap": {},
     "title": ""
    }
   },
   "outputs": [],
   "source": [
    "volcano_generator <- function(resultsDE, given_title) {\n",
    "  library(dplyr)\n",
    "\n",
    "  resultsDE <- as.data.frame(resultsDE)\n",
    "  \n",
    "  # Create annotations for volcano plot\n",
    "  resultsDE0 <- resultsDE\n",
    "  resultsDE0$gene_id <- rownames(resultsDE0)\n",
    "\n",
    "  # Ensure unique row names and remove rows with missing gene id\n",
    "  resultsDE0 <- resultsDE0 %>%\n",
    "    distinct(gene_id, .keep_all = TRUE)\n",
    "  rownames(resultsDE0) <- resultsDE0$gene_id\n",
    "  \n",
    "  # Determine column names for p-value and log2 fold change\n",
    "  p_val_col <- if (\"p_val_adj\" %in% colnames(resultsDE0)) \"p_val_adj\" else \"padj\"\n",
    "  log2fc_col <- if (\"avg_log2FC\" %in% colnames(resultsDE0)) \"avg_log2FC\" else \"log2FoldChange\"\n",
    "  \n",
    "  top10_genes <- resultsDE0 %>%\n",
    "    filter(!!sym(log2fc_col) > 1 & !!sym(p_val_col) < 0.05) %>%\n",
    "    arrange(!!sym(p_val_col)) %>% top_n(10, -!!sym(p_val_col))\n",
    "  \n",
    "  bottom10_genes <- resultsDE0 %>%\n",
    "    filter(!!sym(log2fc_col) < -1 & !!sym(p_val_col) < 0.05) %>%\n",
    "    arrange(!!sym(p_val_col)) %>% top_n(10, -!!sym(p_val_col))\n",
    "  \n",
    "  # Plot Volcano\n",
    "  volcano <- EnhancedVolcano(resultsDE0,\n",
    "    lab = rownames(resultsDE0),\n",
    "    x = log2fc_col,\n",
    "    y = p_val_col,\n",
    "    pCutoff = 0.05,\n",
    "    selectLab = c(top10_genes$gene_id, bottom10_genes$gene_id),\n",
    "    labSize = 5,\n",
    "    drawConnectors = TRUE,\n",
    "    widthConnectors = 0.5,\n",
    "    colConnectors = 'black',\n",
    "    title = given_title)\n",
    "  volcano\n",
    "}"
   ]
  },
  {
   "cell_type": "markdown",
   "metadata": {
    "application/vnd.databricks.v1+cell": {
     "cellMetadata": {},
     "inputWidgets": {},
     "nuid": "c65ed83f-8da9-4c33-accb-b1cb22b7b188",
     "showTitle": false,
     "tableResultSettingsMap": {},
     "title": ""
    }
   },
   "source": [
    "##Process data"
   ]
  },
  {
   "cell_type": "code",
   "execution_count": 0,
   "metadata": {
    "application/vnd.databricks.v1+cell": {
     "cellMetadata": {
      "byteLimit": 2048000,
      "rowLimit": 10000
     },
     "inputWidgets": {},
     "nuid": "dc6f34d7-6621-48cc-9b7e-461d4d677653",
     "showTitle": false,
     "tableResultSettingsMap": {},
     "title": ""
    }
   },
   "outputs": [],
   "source": [
    "AR <- readRDS(file=\"/dbfs/mnt/sandbox/TFM_PAULA/MERGED_ARdatasets_celltypist_TFM.rds\")"
   ]
  },
  {
   "cell_type": "code",
   "execution_count": 0,
   "metadata": {
    "application/vnd.databricks.v1+cell": {
     "cellMetadata": {
      "byteLimit": 2048000,
      "rowLimit": 10000
     },
     "inputWidgets": {},
     "nuid": "c74e6363-9260-48a8-bb9d-74689d6816fe",
     "showTitle": false,
     "tableResultSettingsMap": {},
     "title": ""
    }
   },
   "outputs": [],
   "source": [
    "unique(AR$dataset)"
   ]
  },
  {
   "cell_type": "code",
   "execution_count": 0,
   "metadata": {
    "application/vnd.databricks.v1+cell": {
     "cellMetadata": {
      "byteLimit": 2048000,
      "rowLimit": 10000
     },
     "inputWidgets": {},
     "nuid": "a55dec69-b1d2-4439-a644-7731e85210cf",
     "showTitle": false,
     "tableResultSettingsMap": {},
     "title": ""
    }
   },
   "outputs": [],
   "source": [
    "unique(AR$Condition_AR)"
   ]
  },
  {
   "cell_type": "code",
   "execution_count": 0,
   "metadata": {
    "application/vnd.databricks.v1+cell": {
     "cellMetadata": {
      "byteLimit": 2048000,
      "rowLimit": 10000
     },
     "inputWidgets": {},
     "nuid": "4843cbbb-1817-4f1a-bc69-e210372dabdc",
     "showTitle": false,
     "tableResultSettingsMap": {},
     "title": ""
    }
   },
   "outputs": [],
   "source": [
    "table(AR$celltype_AR, AR$dataset)"
   ]
  },
  {
   "cell_type": "markdown",
   "metadata": {
    "application/vnd.databricks.v1+cell": {
     "cellMetadata": {},
     "inputWidgets": {},
     "nuid": "c96366de-4d56-4645-8689-213e0e038935",
     "showTitle": false,
     "tableResultSettingsMap": {},
     "title": ""
    }
   },
   "source": [
    "##Filtering variables that have at least 3 counts"
   ]
  },
  {
   "cell_type": "code",
   "execution_count": 0,
   "metadata": {
    "application/vnd.databricks.v1+cell": {
     "cellMetadata": {
      "byteLimit": 2048000,
      "rowLimit": 10000
     },
     "inputWidgets": {},
     "nuid": "b60b8d99-0ddf-414e-93aa-ca80aee744f6",
     "showTitle": false,
     "tableResultSettingsMap": {},
     "title": ""
    }
   },
   "outputs": [],
   "source": [
    "counts_matrix <- AR[[\"RNA\"]]$counts\n",
    "dim(counts_matrix) #38248 391832"
   ]
  },
  {
   "cell_type": "code",
   "execution_count": 0,
   "metadata": {
    "application/vnd.databricks.v1+cell": {
     "cellMetadata": {
      "byteLimit": 2048000,
      "rowLimit": 10000
     },
     "inputWidgets": {},
     "nuid": "dcc9d1f3-7878-48e5-a7a3-e1b69e78b8ad",
     "showTitle": false,
     "tableResultSettingsMap": {},
     "title": ""
    }
   },
   "outputs": [],
   "source": [
    "# Keep only rows that have a count of at least 3 counts in 3 samples\n",
    "smallestGroupSize <- 3\n",
    "keep <- rowSums(counts_matrix >= 3) >= smallestGroupSize\n",
    "counts_keep <- counts_matrix[keep,]\n",
    "\n",
    "# Subset the Seurat object to keep only the features in counts_keep\n",
    "AR_f <- subset(AR, features = rownames(counts_keep))\n",
    "\n",
    "# Assign the filtered counts to the new Seurat object\n",
    "AR_f[[\"RNA\"]]$counts <- counts_keep\n",
    "\n",
    "# Check dimensions\n",
    "dim(AR_f[[\"RNA\"]]$counts) # 16417 391832"
   ]
  },
  {
   "cell_type": "markdown",
   "metadata": {
    "application/vnd.databricks.v1+cell": {
     "cellMetadata": {},
     "inputWidgets": {},
     "nuid": "07cfa0bd-be1e-4bd7-b00c-9122f1d408e8",
     "showTitle": false,
     "tableResultSettingsMap": {},
     "title": ""
    }
   },
   "source": [
    "##Pseudobulk the counts based on the donor id"
   ]
  },
  {
   "cell_type": "code",
   "execution_count": 0,
   "metadata": {
    "application/vnd.databricks.v1+cell": {
     "cellMetadata": {
      "byteLimit": 2048000,
      "rowLimit": 10000
     },
     "inputWidgets": {},
     "nuid": "05c3c8aa-2287-4395-a560-a5e7ca3aeb42",
     "showTitle": false,
     "tableResultSettingsMap": {},
     "title": ""
    }
   },
   "outputs": [],
   "source": [
    "unique(AR_f$celltype_AR)"
   ]
  },
  {
   "cell_type": "code",
   "execution_count": 0,
   "metadata": {
    "application/vnd.databricks.v1+cell": {
     "cellMetadata": {
      "byteLimit": 2048000,
      "rowLimit": 10000
     },
     "inputWidgets": {},
     "nuid": "baf5388d-b608-4720-b4d4-11a53d05a7da",
     "showTitle": false,
     "tableResultSettingsMap": {},
     "title": ""
    }
   },
   "outputs": [],
   "source": [
    "table(AR_f$Condition_AR, AR_f$Sample_id)"
   ]
  },
  {
   "cell_type": "code",
   "execution_count": 0,
   "metadata": {
    "application/vnd.databricks.v1+cell": {
     "cellMetadata": {
      "byteLimit": 2048000,
      "rowLimit": 10000
     },
     "inputWidgets": {},
     "nuid": "e9628c33-4514-4bc3-8121-d8481e93258e",
     "showTitle": false,
     "tableResultSettingsMap": {},
     "title": ""
    }
   },
   "outputs": [],
   "source": [
    "unique(AR_f$dataset)"
   ]
  },
  {
   "cell_type": "code",
   "execution_count": 0,
   "metadata": {
    "application/vnd.databricks.v1+cell": {
     "cellMetadata": {
      "byteLimit": 2048000,
      "rowLimit": 10000
     },
     "inputWidgets": {},
     "nuid": "22f2d482-8768-4d8d-89e5-3191947b1954",
     "showTitle": false,
     "tableResultSettingsMap": {},
     "title": ""
    }
   },
   "outputs": [],
   "source": [
    "# pseudobulk the counts based on donor-condition-celltype\n",
    "pseudo_AR <- AggregateExpression(AR_f, assays = \"RNA\", return.seurat = T, group.by = c(\"Condition_AR\", \"Sample_id\", \"celltype_AR\"))\n",
    "\n",
    "# each 'cell' is a donor-condition-celltype pseudobulk profile\n",
    "head(Cells(pseudo_AR))"
   ]
  },
  {
   "cell_type": "code",
   "execution_count": 0,
   "metadata": {
    "application/vnd.databricks.v1+cell": {
     "cellMetadata": {
      "byteLimit": 2048000,
      "rowLimit": 10000
     },
     "inputWidgets": {},
     "nuid": "41959162-b7ce-4141-bb43-aed2204a62d0",
     "showTitle": false,
     "tableResultSettingsMap": {},
     "title": ""
    }
   },
   "outputs": [],
   "source": [
    "pseudo_AR$celltype_AR <- ifelse(pseudo_AR$celltype_AR == \"Differentiated-KC\", \"Differentiated_KC\", pseudo_AR$celltype_AR)\n",
    "pseudo_AR$celltype_AR <- ifelse(pseudo_AR$celltype_AR == \"Undifferentiated-KC\", \"Undifferentiated_KC\", pseudo_AR$celltype_AR)\n",
    "unique(pseudo_AR$celltype_AR)"
   ]
  },
  {
   "cell_type": "code",
   "execution_count": 0,
   "metadata": {
    "application/vnd.databricks.v1+cell": {
     "cellMetadata": {
      "byteLimit": 2048000,
      "rowLimit": 10000
     },
     "inputWidgets": {},
     "nuid": "0aeb5660-5fcb-4e7f-89e0-bfc3ebfc8ddb",
     "showTitle": false,
     "tableResultSettingsMap": {},
     "title": ""
    }
   },
   "outputs": [],
   "source": [
    "pseudo_AR$celltype.cond <- paste(pseudo_AR$celltype_AR, pseudo_AR$Condition_AR, sep = \"_\")"
   ]
  },
  {
   "cell_type": "code",
   "execution_count": 0,
   "metadata": {
    "application/vnd.databricks.v1+cell": {
     "cellMetadata": {
      "byteLimit": 2048000,
      "rowLimit": 10000
     },
     "inputWidgets": {},
     "nuid": "d82343f6-c50d-4c75-92cb-d538707aaaf9",
     "showTitle": false,
     "tableResultSettingsMap": {},
     "title": ""
    }
   },
   "outputs": [],
   "source": [
    "Idents(pseudo_AR) <- \"celltype.cond\""
   ]
  },
  {
   "cell_type": "code",
   "execution_count": 0,
   "metadata": {
    "application/vnd.databricks.v1+cell": {
     "cellMetadata": {
      "byteLimit": 2048000,
      "rowLimit": 10000
     },
     "inputWidgets": {},
     "nuid": "52295c88-126d-48b1-9a90-1924fd732f84",
     "showTitle": false,
     "tableResultSettingsMap": {},
     "title": ""
    }
   },
   "outputs": [],
   "source": [
    "dataset_info <- AR_f@meta.data$dataset\n",
    "\n",
    "# Create a mapping of Sample_id to dataset\n",
    "sample_to_dataset <- setNames(dataset_info, AR_f@meta.data$Sample_id)\n",
    "\n",
    "# Add the dataset information to the pseudo_AR metadata\n",
    "pseudo_AR@meta.data$dataset <- sample_to_dataset[pseudo_AR@meta.data$Sample_id]"
   ]
  },
  {
   "cell_type": "code",
   "execution_count": 0,
   "metadata": {
    "application/vnd.databricks.v1+cell": {
     "cellMetadata": {
      "byteLimit": 2048000,
      "rowLimit": 10000
     },
     "inputWidgets": {},
     "nuid": "9e2cd2cf-e4d7-4ef7-a0ec-fb66dda33bcb",
     "showTitle": false,
     "tableResultSettingsMap": {},
     "title": ""
    }
   },
   "outputs": [],
   "source": [
    "unique(pseudo_AR@meta.data$dataset)"
   ]
  },
  {
   "cell_type": "code",
   "execution_count": 0,
   "metadata": {
    "application/vnd.databricks.v1+cell": {
     "cellMetadata": {
      "byteLimit": 2048000,
      "rowLimit": 10000
     },
     "inputWidgets": {},
     "nuid": "4b5918b1-4fa4-4fcf-bb09-2b07fe4494f6",
     "showTitle": false,
     "tableResultSettingsMap": {},
     "title": ""
    }
   },
   "outputs": [],
   "source": [
    "saveRDS(pseudo_AR, file=\"/dbfs/mnt/sandbox/TFM_PAULA/AR_MERGED_celltypist_aggregated_expression_TFM.rds\")"
   ]
  },
  {
   "cell_type": "markdown",
   "metadata": {
    "application/vnd.databricks.v1+cell": {
     "cellMetadata": {},
     "inputWidgets": {},
     "nuid": "b483df2b-b2e9-4ff5-8fbd-e4240c9a9eb7",
     "showTitle": false,
     "tableResultSettingsMap": {},
     "title": ""
    }
   },
   "source": [
    "###Filter to remove what is not relevant\n",
    "- non lesional samples \n",
    "- all celltypes except to Tc, Th, Treg, Undifferentiated_KC, Differentiated_KC\n"
   ]
  },
  {
   "cell_type": "markdown",
   "metadata": {
    "application/vnd.databricks.v1+cell": {
     "cellMetadata": {},
     "inputWidgets": {},
     "nuid": "ff454bf3-bf94-45c7-8071-b1943f5dee29",
     "showTitle": false,
     "tableResultSettingsMap": {},
     "title": ""
    }
   },
   "source": [
    "Filter cell types, in that way I can run DESEQ2 faster"
   ]
  },
  {
   "cell_type": "code",
   "execution_count": 0,
   "metadata": {
    "application/vnd.databricks.v1+cell": {
     "cellMetadata": {
      "byteLimit": 2048000,
      "rowLimit": 10000
     },
     "inputWidgets": {},
     "nuid": "53dd7e4e-ca7b-4b08-ab03-8e6a21f7e567",
     "showTitle": false,
     "tableResultSettingsMap": {},
     "title": ""
    }
   },
   "outputs": [],
   "source": [
    "pseudo_AR <- readRDS(file=\"/dbfs/mnt/sandbox/TFM_PAULA/AR_MERGED_celltypist_aggregated_expression_TFM.rds\")"
   ]
  },
  {
   "cell_type": "code",
   "execution_count": 0,
   "metadata": {
    "application/vnd.databricks.v1+cell": {
     "cellMetadata": {
      "byteLimit": 2048000,
      "rowLimit": 10000
     },
     "inputWidgets": {},
     "nuid": "1d530303-12e9-4178-a2d5-e911e218a503",
     "showTitle": false,
     "tableResultSettingsMap": {},
     "title": ""
    }
   },
   "outputs": [],
   "source": [
    "unique(pseudo_AR$celltype_AR)"
   ]
  },
  {
   "cell_type": "code",
   "execution_count": 0,
   "metadata": {
    "application/vnd.databricks.v1+cell": {
     "cellMetadata": {
      "byteLimit": 2048000,
      "rowLimit": 10000
     },
     "inputWidgets": {},
     "nuid": "f82f2a32-46c7-4506-8efa-beec1677bdc8",
     "showTitle": false,
     "tableResultSettingsMap": {},
     "title": ""
    }
   },
   "outputs": [],
   "source": [
    "desired_cell_types <- c(\"Tc\", \"Th\", \"Treg\", \"Undifferentiated_KC\", \"Differentiated_KC\")  # Relevant celltypes\n",
    "pseudo_AR_filtered <- subset(pseudo_AR, celltype_AR %in% desired_cell_types)"
   ]
  },
  {
   "cell_type": "code",
   "execution_count": 0,
   "metadata": {
    "application/vnd.databricks.v1+cell": {
     "cellMetadata": {
      "byteLimit": 2048000,
      "rowLimit": 10000
     },
     "inputWidgets": {},
     "nuid": "3ca12935-87fc-490a-b9ff-624bca808cad",
     "showTitle": false,
     "tableResultSettingsMap": {},
     "title": ""
    }
   },
   "outputs": [],
   "source": [
    "unique(pseudo_AR_filtered$celltype_AR)"
   ]
  },
  {
   "cell_type": "markdown",
   "metadata": {
    "application/vnd.databricks.v1+cell": {
     "cellMetadata": {},
     "inputWidgets": {},
     "nuid": "8506e6cd-b802-4dff-8307-ec80c0b64420",
     "showTitle": false,
     "tableResultSettingsMap": {},
     "title": ""
    }
   },
   "source": [
    "Filter non lesional"
   ]
  },
  {
   "cell_type": "code",
   "execution_count": 0,
   "metadata": {
    "application/vnd.databricks.v1+cell": {
     "cellMetadata": {
      "byteLimit": 2048000,
      "rowLimit": 10000
     },
     "inputWidgets": {},
     "nuid": "27865b67-19e8-48c9-be98-db74269c89c0",
     "showTitle": false,
     "tableResultSettingsMap": {},
     "title": ""
    }
   },
   "outputs": [],
   "source": [
    "# Extract count data\n",
    "counts_AR <- GetAssayData(pseudo_AR_filtered, layer = \"counts\")\n",
    "\n",
    "# Extract metadata\n",
    "metadata_AR <- pseudo_AR_filtered@meta.data"
   ]
  },
  {
   "cell_type": "code",
   "execution_count": 0,
   "metadata": {
    "application/vnd.databricks.v1+cell": {
     "cellMetadata": {
      "byteLimit": 2048000,
      "rowLimit": 10000
     },
     "inputWidgets": {},
     "nuid": "2bbd00f0-dc4e-498b-aab2-8d7538b3b3f6",
     "showTitle": false,
     "tableResultSettingsMap": {},
     "title": ""
    }
   },
   "outputs": [],
   "source": [
    "metadata_AR_reynolds <- metadata_AR[metadata_AR$Condition_AR %in% c(\"HC\", \"Lesional\") & metadata_AR$dataset == \"reynolds\", ]\n",
    "metadata_AR <- rbind(metadata_AR[metadata_AR$dataset != \"reynolds\", ], metadata_AR_reynolds)\n",
    "\n",
    "# Filter counts too\n",
    "counts_AR <- counts_AR[, colnames(counts_AR) %in% rownames(metadata_AR)]"
   ]
  },
  {
   "cell_type": "code",
   "execution_count": 0,
   "metadata": {
    "application/vnd.databricks.v1+cell": {
     "cellMetadata": {
      "byteLimit": 2048000,
      "rowLimit": 10000
     },
     "inputWidgets": {},
     "nuid": "83122f54-43c0-4cdb-a245-60d35d0cac17",
     "showTitle": false,
     "tableResultSettingsMap": {},
     "title": ""
    }
   },
   "outputs": [],
   "source": [
    "metadata_AR$celltype.cond <- as.factor(metadata_AR$celltype.cond)\n",
    "metadata_AR$dataset <- as.factor(metadata_AR$dataset)"
   ]
  },
  {
   "cell_type": "code",
   "execution_count": 0,
   "metadata": {
    "application/vnd.databricks.v1+cell": {
     "cellMetadata": {
      "byteLimit": 2048000,
      "rowLimit": 10000
     },
     "inputWidgets": {},
     "nuid": "495dfe36-6660-476a-841a-bea56721e343",
     "showTitle": false,
     "tableResultSettingsMap": {},
     "title": ""
    }
   },
   "outputs": [],
   "source": [
    "table(metadata_AR$Condition_AR, metadata_AR$dataset)"
   ]
  },
  {
   "cell_type": "code",
   "execution_count": 0,
   "metadata": {
    "application/vnd.databricks.v1+cell": {
     "cellMetadata": {
      "byteLimit": 2048000,
      "rowLimit": 10000
     },
     "inputWidgets": {},
     "nuid": "ba025733-9e91-42cb-9b34-cbf048837a8b",
     "showTitle": false,
     "tableResultSettingsMap": {},
     "title": ""
    }
   },
   "outputs": [],
   "source": [
    "# Ensure the same order for rows in metadata_AR and columns in counts_AR\n",
    "metadata_AR <- metadata_AR[order(rownames(metadata_AR)), ]\n",
    "counts_AR <- counts_AR[, order(colnames(counts_AR))]\n",
    "\n",
    "# Reorder counts_AR columns to match the order of metadata_AR rows\n",
    "counts_AR <- counts_AR[, rownames(metadata_AR)]"
   ]
  },
  {
   "cell_type": "markdown",
   "metadata": {
    "application/vnd.databricks.v1+cell": {
     "cellMetadata": {},
     "inputWidgets": {},
     "nuid": "a6f4ae9c-dedd-4c5a-97b8-ee8f18e1c299",
     "showTitle": false,
     "tableResultSettingsMap": {},
     "title": ""
    }
   },
   "source": [
    "###DESEQ design to adjust the covariable dataset"
   ]
  },
  {
   "cell_type": "code",
   "execution_count": 0,
   "metadata": {
    "application/vnd.databricks.v1+cell": {
     "cellMetadata": {
      "byteLimit": 2048000,
      "rowLimit": 10000
     },
     "inputWidgets": {},
     "nuid": "abe05205-88f5-4dec-b61d-26db28b349a1",
     "showTitle": false,
     "tableResultSettingsMap": {},
     "title": ""
    }
   },
   "outputs": [],
   "source": [
    ".libPaths(c(\"/dbfs/home/jtrincado@almirall.com/my_r_packages/Seurat\", .libPaths()))\n",
    "library(DESeq2)"
   ]
  },
  {
   "cell_type": "code",
   "execution_count": 0,
   "metadata": {
    "application/vnd.databricks.v1+cell": {
     "cellMetadata": {
      "byteLimit": 2048000,
      "rowLimit": 10000
     },
     "inputWidgets": {},
     "nuid": "a6d61936-a090-431e-8a84-a5522ea4ad75",
     "showTitle": false,
     "tableResultSettingsMap": {},
     "title": ""
    }
   },
   "outputs": [],
   "source": [
    "dds <- DESeqDataSetFromMatrix(countData = round(counts_AR), #already in matrix format,\n",
    "                              colData = metadata_AR,\n",
    "                              design = ~ dataset + celltype.cond)"
   ]
  },
  {
   "cell_type": "code",
   "execution_count": 0,
   "metadata": {
    "application/vnd.databricks.v1+cell": {
     "cellMetadata": {
      "byteLimit": 2048000,
      "rowLimit": 10000
     },
     "inputWidgets": {},
     "nuid": "db05aeeb-7a63-453b-a913-c528056019ec",
     "showTitle": false,
     "tableResultSettingsMap": {},
     "title": ""
    }
   },
   "outputs": [],
   "source": [
    "colData(dds)"
   ]
  },
  {
   "cell_type": "code",
   "execution_count": 0,
   "metadata": {
    "application/vnd.databricks.v1+cell": {
     "cellMetadata": {
      "byteLimit": 2048000,
      "rowLimit": 10000
     },
     "inputWidgets": {},
     "nuid": "9ee19f99-b15f-4086-9501-69f0fb962b9c",
     "showTitle": false,
     "tableResultSettingsMap": {},
     "title": ""
    }
   },
   "outputs": [],
   "source": [
    "# Load the dplyr package\n",
    "library(dplyr)\n",
    "\n",
    "# Make sure we have all data there\n",
    "display(data.frame(colData(dds)) %>% \n",
    "  group_by(Sample_id, celltype.cond) %>% \n",
    "  summarise(n = n()))"
   ]
  },
  {
   "cell_type": "code",
   "execution_count": 0,
   "metadata": {
    "application/vnd.databricks.v1+cell": {
     "cellMetadata": {
      "byteLimit": 2048000,
      "rowLimit": 10000
     },
     "inputWidgets": {},
     "nuid": "6fa94b2a-e0ab-4f3d-9f56-fc5ed2bf1671",
     "showTitle": false,
     "tableResultSettingsMap": {},
     "title": ""
    }
   },
   "outputs": [],
   "source": [
    "#Keep only rows that have a count of at least 10 counts in 5 samples\n",
    "\n",
    "keep <- rowSums(counts(dds) > 10) >= 5\n",
    "dds <- dds[keep,]\n",
    "\n",
    "counts_keep_dds <- counts(dds) \n",
    "dim(counts_keep_dds) #14421    90"
   ]
  },
  {
   "cell_type": "code",
   "execution_count": 0,
   "metadata": {
    "application/vnd.databricks.v1+cell": {
     "cellMetadata": {
      "byteLimit": 2048000,
      "rowLimit": 10000
     },
     "inputWidgets": {},
     "nuid": "4819be25-6c2c-463e-9103-ad06ca11d445",
     "showTitle": false,
     "tableResultSettingsMap": {},
     "title": ""
    }
   },
   "outputs": [],
   "source": [
    "#Run differential expression analysis\n",
    "dds2 <- DESeq(dds)\n",
    "res <- results(dds2)\n",
    "res"
   ]
  },
  {
   "cell_type": "code",
   "execution_count": 0,
   "metadata": {
    "application/vnd.databricks.v1+cell": {
     "cellMetadata": {
      "byteLimit": 2048000,
      "rowLimit": 10000
     },
     "inputWidgets": {},
     "nuid": "f00c233e-9cba-4542-b97a-1e20ee525b53",
     "showTitle": false,
     "tableResultSettingsMap": {},
     "title": ""
    }
   },
   "outputs": [],
   "source": [
    "saveRDS(dds2, file = \"/dbfs/mnt/sandbox/TFM_PAULA/dds2_object_pseudobulk_covariable_dataset_celltypist.rds\")"
   ]
  },
  {
   "cell_type": "markdown",
   "metadata": {
    "application/vnd.databricks.v1+cell": {
     "cellMetadata": {},
     "inputWidgets": {},
     "nuid": "d72f1769-f952-4e88-940f-5ccaf4adfa18",
     "showTitle": false,
     "tableResultSettingsMap": {},
     "title": ""
    }
   },
   "source": [
    "##Tcells"
   ]
  },
  {
   "cell_type": "code",
   "execution_count": 0,
   "metadata": {
    "application/vnd.databricks.v1+cell": {
     "cellMetadata": {
      "byteLimit": 2048000,
      "rowLimit": 10000
     },
     "inputWidgets": {},
     "nuid": "60ea95b0-87e9-43b2-8660-90efe0091e36",
     "showTitle": false,
     "tableResultSettingsMap": {},
     "title": ""
    }
   },
   "outputs": [],
   "source": [
    "Idents(pseudo_AR)"
   ]
  },
  {
   "cell_type": "code",
   "execution_count": 0,
   "metadata": {
    "application/vnd.databricks.v1+cell": {
     "cellMetadata": {
      "byteLimit": 2048000,
      "rowLimit": 10000
     },
     "inputWidgets": {},
     "nuid": "d38bf4f2-439d-41de-8a3e-e7606fb42ac5",
     "showTitle": false,
     "tableResultSettingsMap": {},
     "title": ""
    }
   },
   "outputs": [],
   "source": [
    "#DEA without adjusting covariable dataset to compare\n",
    "\n",
    "bulk.tcell.de <- FindMarkers(object = pseudo_AR, \n",
    "                         ident.1 = \"Tc_Lesional\", \n",
    "                         ident.2 = \"Tc_HC\",\n",
    "                         min.pct = 0.01,\n",
    "                         test.use = \"DESeq2\")\n",
    "head(bulk.tcell.de, n = 15)"
   ]
  },
  {
   "cell_type": "code",
   "execution_count": 0,
   "metadata": {
    "application/vnd.databricks.v1+cell": {
     "cellMetadata": {
      "byteLimit": 2048000,
      "rowLimit": 10000
     },
     "inputWidgets": {},
     "nuid": "704abfbd-20b7-478c-99a2-db821ec7bc5b",
     "showTitle": false,
     "tableResultSettingsMap": {},
     "title": ""
    }
   },
   "outputs": [],
   "source": [
    "volcano_generator(bulk.tcell.de, \"Pseudobulk - Tcells - AR merged\")"
   ]
  },
  {
   "cell_type": "markdown",
   "metadata": {
    "application/vnd.databricks.v1+cell": {
     "cellMetadata": {},
     "inputWidgets": {},
     "nuid": "eee435f5-a561-402a-864e-63073502a602",
     "showTitle": false,
     "tableResultSettingsMap": {},
     "title": ""
    }
   },
   "source": [
    "###Covariable dataset adjusted"
   ]
  },
  {
   "cell_type": "code",
   "execution_count": 0,
   "metadata": {
    "application/vnd.databricks.v1+cell": {
     "cellMetadata": {
      "byteLimit": 2048000,
      "rowLimit": 10000
     },
     "inputWidgets": {},
     "nuid": "b51ee521-7a3e-4caa-ba44-8f42ccbf1524",
     "showTitle": false,
     "tableResultSettingsMap": {},
     "title": ""
    }
   },
   "outputs": [],
   "source": [
    "bulk.tcell.de.cov <- results(dds2, contrast=c(\"celltype.cond\",\"Tc_Lesional\", \"Tc_HC\"))\n",
    "bulk.tcell.de.cov"
   ]
  },
  {
   "cell_type": "code",
   "execution_count": 0,
   "metadata": {
    "application/vnd.databricks.v1+cell": {
     "cellMetadata": {
      "byteLimit": 2048000,
      "rowLimit": 10000
     },
     "inputWidgets": {},
     "nuid": "0e8aa702-a751-4700-8982-a8da519875f9",
     "showTitle": false,
     "tableResultSettingsMap": {},
     "title": ""
    }
   },
   "outputs": [],
   "source": [
    "volcano_generator(bulk.tcell.de.cov, \"Pseudobulk - Tcells - AR + dataset adjusted\")"
   ]
  },
  {
   "cell_type": "markdown",
   "metadata": {
    "application/vnd.databricks.v1+cell": {
     "cellMetadata": {},
     "inputWidgets": {},
     "nuid": "c8c5914f-3c43-4fcb-bc07-ffa1991a4f54",
     "showTitle": false,
     "tableResultSettingsMap": {},
     "title": ""
    }
   },
   "source": [
    "##Th"
   ]
  },
  {
   "cell_type": "code",
   "execution_count": 0,
   "metadata": {
    "application/vnd.databricks.v1+cell": {
     "cellMetadata": {
      "byteLimit": 2048000,
      "rowLimit": 10000
     },
     "inputWidgets": {},
     "nuid": "1f68f3da-cd13-43df-94e7-0cbd8ee0adae",
     "showTitle": false,
     "tableResultSettingsMap": {},
     "title": ""
    }
   },
   "outputs": [],
   "source": [
    "Idents(pseudo_AR)"
   ]
  },
  {
   "cell_type": "code",
   "execution_count": 0,
   "metadata": {
    "application/vnd.databricks.v1+cell": {
     "cellMetadata": {
      "byteLimit": 2048000,
      "rowLimit": 10000
     },
     "inputWidgets": {},
     "nuid": "24ebd7f7-dc1a-4b38-a3c9-33927cf6a237",
     "showTitle": false,
     "tableResultSettingsMap": {},
     "title": ""
    }
   },
   "outputs": [],
   "source": [
    "#DEA without adjusting covariable dataset to compare\n",
    "\n",
    "bulk.th.de <- FindMarkers(object = pseudo_AR_filtered, \n",
    "                         ident.1 = \"Th_Lesional\", \n",
    "                         ident.2 = \"Th_HC\",\n",
    "                         min.pct = 0.01,\n",
    "                         test.use = \"DESeq2\")\n",
    "head(bulk.th.de, n = 15)"
   ]
  },
  {
   "cell_type": "code",
   "execution_count": 0,
   "metadata": {
    "application/vnd.databricks.v1+cell": {
     "cellMetadata": {
      "byteLimit": 2048000,
      "rowLimit": 10000
     },
     "inputWidgets": {},
     "nuid": "236ce385-8ff5-4a46-9024-54565331b33e",
     "showTitle": false,
     "tableResultSettingsMap": {},
     "title": ""
    }
   },
   "outputs": [],
   "source": [
    "volcano_generator(bulk.th.de, \"Pseudobulk - Th - AR merged\")"
   ]
  },
  {
   "cell_type": "markdown",
   "metadata": {
    "application/vnd.databricks.v1+cell": {
     "cellMetadata": {},
     "inputWidgets": {},
     "nuid": "48aec453-7981-4ec8-b680-2e2e5dde761c",
     "showTitle": false,
     "tableResultSettingsMap": {},
     "title": ""
    }
   },
   "source": [
    "###Covariable dataset adjusted"
   ]
  },
  {
   "cell_type": "code",
   "execution_count": 0,
   "metadata": {
    "application/vnd.databricks.v1+cell": {
     "cellMetadata": {
      "byteLimit": 2048000,
      "rowLimit": 10000
     },
     "inputWidgets": {},
     "nuid": "de1d392a-7b6a-4c33-960d-2dde1b24eb50",
     "showTitle": false,
     "tableResultSettingsMap": {},
     "title": ""
    }
   },
   "outputs": [],
   "source": [
    "dds2$celltype.cond"
   ]
  },
  {
   "cell_type": "code",
   "execution_count": 0,
   "metadata": {
    "application/vnd.databricks.v1+cell": {
     "cellMetadata": {
      "byteLimit": 2048000,
      "rowLimit": 10000
     },
     "inputWidgets": {},
     "nuid": "e747596c-99cb-49de-be2e-512fb30ca83d",
     "showTitle": false,
     "tableResultSettingsMap": {},
     "title": ""
    }
   },
   "outputs": [],
   "source": [
    "bulk.th.de.cov <- results(dds2, contrast=c(\"celltype.cond\",\"Th_Lesional\", \"Th_HC\"))\n",
    "bulk.th.de.cov"
   ]
  },
  {
   "cell_type": "code",
   "execution_count": 0,
   "metadata": {
    "application/vnd.databricks.v1+cell": {
     "cellMetadata": {
      "byteLimit": 2048000,
      "rowLimit": 10000
     },
     "inputWidgets": {},
     "nuid": "b7d1bc22-c71d-465e-af33-fe769430099a",
     "showTitle": false,
     "tableResultSettingsMap": {},
     "title": ""
    }
   },
   "outputs": [],
   "source": [
    "volcano_generator(bulk.th.de.cov, \"Pseudobulk - Th - AR + dataset adjusted\")"
   ]
  },
  {
   "cell_type": "markdown",
   "metadata": {
    "application/vnd.databricks.v1+cell": {
     "cellMetadata": {},
     "inputWidgets": {},
     "nuid": "f829cc78-303f-49dd-9d0d-5eb3b8141dcf",
     "showTitle": false,
     "tableResultSettingsMap": {},
     "title": ""
    }
   },
   "source": [
    "##Keratinocytes (Undifferentiated)"
   ]
  },
  {
   "cell_type": "code",
   "execution_count": 0,
   "metadata": {
    "application/vnd.databricks.v1+cell": {
     "cellMetadata": {
      "byteLimit": 2048000,
      "rowLimit": 10000
     },
     "inputWidgets": {},
     "nuid": "222cdafb-daca-4065-9ad6-17763d3c341b",
     "showTitle": false,
     "tableResultSettingsMap": {},
     "title": ""
    }
   },
   "outputs": [],
   "source": [
    "bulk.kc.de <- FindMarkers(object = pseudo_AR, \n",
    "                         ident.1 = \"Undifferentiated_KC_Lesional\", \n",
    "                         ident.2 = \"Undifferentiated_KC_HC\",\n",
    "                         test.use = \"DESeq2\")\n",
    "head(bulk.kc.de, n = 15)"
   ]
  },
  {
   "cell_type": "code",
   "execution_count": 0,
   "metadata": {
    "application/vnd.databricks.v1+cell": {
     "cellMetadata": {
      "byteLimit": 2048000,
      "rowLimit": 10000
     },
     "inputWidgets": {},
     "nuid": "d6d9741d-b03a-48ca-bcc2-4271d68d4a06",
     "showTitle": false,
     "tableResultSettingsMap": {},
     "title": ""
    }
   },
   "outputs": [],
   "source": [
    "library(ggplot2)\n",
    "bulk.kc.de <- as.data.frame(bulk.kc.de)\n",
    "ggplot(bulk.kc.de, aes(x = p_val)) +\n",
    "  geom_histogram(binwidth = 0.01, fill = \"blue\", color = \"black\") +\n",
    "  theme_minimal() +\n",
    "  labs(title = \"Distribution of p-value\", x = \"p-value\", y = \"Frequency\")"
   ]
  },
  {
   "cell_type": "code",
   "execution_count": 0,
   "metadata": {
    "application/vnd.databricks.v1+cell": {
     "cellMetadata": {
      "byteLimit": 2048000,
      "rowLimit": 10000
     },
     "inputWidgets": {},
     "nuid": "e339761c-5705-4f83-95bf-eb5cede7cea1",
     "showTitle": false,
     "tableResultSettingsMap": {},
     "title": ""
    }
   },
   "outputs": [],
   "source": [
    "volcano_generator(bulk.kc.de, \"Pseudobulk - Undifferentiated KC - AR merged\")"
   ]
  },
  {
   "cell_type": "markdown",
   "metadata": {
    "application/vnd.databricks.v1+cell": {
     "cellMetadata": {},
     "inputWidgets": {},
     "nuid": "b298e98c-4e3a-4dad-953f-827ab9005e65",
     "showTitle": false,
     "tableResultSettingsMap": {},
     "title": ""
    }
   },
   "source": [
    "###Covariable adjusted"
   ]
  },
  {
   "cell_type": "code",
   "execution_count": 0,
   "metadata": {
    "application/vnd.databricks.v1+cell": {
     "cellMetadata": {
      "byteLimit": 2048000,
      "rowLimit": 10000
     },
     "inputWidgets": {},
     "nuid": "3afaf78b-f166-4bf4-87f3-dd19d3e13579",
     "showTitle": false,
     "tableResultSettingsMap": {},
     "title": ""
    }
   },
   "outputs": [],
   "source": [
    "bulk.kc.de.cov <- results(dds2, contrast=c(\"celltype.cond\",\"Undifferentiated_KC_Lesional\", \"Undifferentiated_KC_HC\"))\n",
    "bulk.kc.de.cov"
   ]
  },
  {
   "cell_type": "code",
   "execution_count": 0,
   "metadata": {
    "application/vnd.databricks.v1+cell": {
     "cellMetadata": {
      "byteLimit": 2048000,
      "rowLimit": 10000
     },
     "inputWidgets": {},
     "nuid": "626c99d4-071e-40af-862b-fc9f39562ef7",
     "showTitle": false,
     "tableResultSettingsMap": {},
     "title": ""
    }
   },
   "outputs": [],
   "source": [
    "library(ggplot2)\n",
    "bulk.kc.de.cov <- as.data.frame(bulk.kc.de.cov)\n",
    "ggplot(bulk.kc.de.cov, aes(x = pvalue)) +\n",
    "  geom_histogram(binwidth = 0.01, fill = \"blue\", color = \"black\") +\n",
    "  theme_minimal() +\n",
    "  labs(title = \"Distribution of p-value\", x = \"p-value\", y = \"Frequency\")"
   ]
  },
  {
   "cell_type": "code",
   "execution_count": 0,
   "metadata": {
    "application/vnd.databricks.v1+cell": {
     "cellMetadata": {
      "byteLimit": 2048000,
      "rowLimit": 10000
     },
     "inputWidgets": {},
     "nuid": "c16dc308-ae1a-4999-bcd0-9cfc21c437da",
     "showTitle": false,
     "tableResultSettingsMap": {},
     "title": ""
    }
   },
   "outputs": [],
   "source": [
    "volcano_generator(bulk.kc.de.cov, \"Pseudobulk - Undifferentiated KC - AR + dataset adjusted\")"
   ]
  },
  {
   "cell_type": "markdown",
   "metadata": {
    "application/vnd.databricks.v1+cell": {
     "cellMetadata": {},
     "inputWidgets": {},
     "nuid": "9e105e97-40b2-46ca-b984-7fe28a766e30",
     "showTitle": false,
     "tableResultSettingsMap": {},
     "title": ""
    }
   },
   "source": [
    "##Keratinocytes (Differentiated)"
   ]
  },
  {
   "cell_type": "code",
   "execution_count": 0,
   "metadata": {
    "application/vnd.databricks.v1+cell": {
     "cellMetadata": {
      "byteLimit": 2048000,
      "rowLimit": 10000
     },
     "inputWidgets": {},
     "nuid": "89b6977b-a5df-484b-907e-bcaa8f03e395",
     "showTitle": false,
     "tableResultSettingsMap": {},
     "title": ""
    }
   },
   "outputs": [],
   "source": [
    "bulk.dif.kc.de <- FindMarkers(object = pseudo_AR, \n",
    "                         ident.1 = \"Differentiated_KC_Lesional\", \n",
    "                         ident.2 = \"Differentiated_KC_HC\",\n",
    "                         test.use = \"DESeq2\")\n",
    "head(bulk.dif.kc.de, n = 15)"
   ]
  },
  {
   "cell_type": "code",
   "execution_count": 0,
   "metadata": {
    "application/vnd.databricks.v1+cell": {
     "cellMetadata": {
      "byteLimit": 2048000,
      "rowLimit": 10000
     },
     "inputWidgets": {},
     "nuid": "addef704-d7a9-4b18-bbd2-ab25aacc1987",
     "showTitle": false,
     "tableResultSettingsMap": {},
     "title": ""
    }
   },
   "outputs": [],
   "source": [
    "library(ggplot2)\n",
    "bulk.kc.de <- as.data.frame(bulk.dif.kc.de)\n",
    "ggplot(bulk.kc.de, aes(x = p_val)) +\n",
    "  geom_histogram(binwidth = 0.01, fill = \"blue\", color = \"black\") +\n",
    "  theme_minimal() +\n",
    "  labs(title = \"Distribution of p-value\", x = \"p-value\", y = \"Frequency\")"
   ]
  },
  {
   "cell_type": "code",
   "execution_count": 0,
   "metadata": {
    "application/vnd.databricks.v1+cell": {
     "cellMetadata": {
      "byteLimit": 2048000,
      "rowLimit": 10000
     },
     "inputWidgets": {},
     "nuid": "5473f0a0-58e5-4f42-b3c7-7befe4dabb02",
     "showTitle": false,
     "tableResultSettingsMap": {},
     "title": ""
    }
   },
   "outputs": [],
   "source": [
    "volcano_generator(bulk.dif.kc.de, \"Pseudobulk - Differentiated KC - AR merged\")"
   ]
  },
  {
   "cell_type": "markdown",
   "metadata": {
    "application/vnd.databricks.v1+cell": {
     "cellMetadata": {},
     "inputWidgets": {},
     "nuid": "375f3899-2639-4d06-94b4-9ae2472175ba",
     "showTitle": false,
     "tableResultSettingsMap": {},
     "title": ""
    }
   },
   "source": [
    "###Covariable adjusted"
   ]
  },
  {
   "cell_type": "code",
   "execution_count": 0,
   "metadata": {
    "application/vnd.databricks.v1+cell": {
     "cellMetadata": {
      "byteLimit": 2048000,
      "rowLimit": 10000
     },
     "inputWidgets": {},
     "nuid": "98f1fbfc-b29e-487d-b6c4-e92f7f2476a0",
     "showTitle": false,
     "tableResultSettingsMap": {},
     "title": ""
    }
   },
   "outputs": [],
   "source": [
    "bulk.dif.kc.de.cov <- results(dds2, contrast=c(\"celltype.cond\",\"Differentiated_KC_Lesional\", \"Differentiated_KC_HC\"))\n",
    "bulk.dif.kc.de.cov"
   ]
  },
  {
   "cell_type": "code",
   "execution_count": 0,
   "metadata": {
    "application/vnd.databricks.v1+cell": {
     "cellMetadata": {
      "byteLimit": 2048000,
      "rowLimit": 10000
     },
     "inputWidgets": {},
     "nuid": "2e871e21-5611-4c0f-b6a7-58ede5ec69be",
     "showTitle": false,
     "tableResultSettingsMap": {},
     "title": ""
    }
   },
   "outputs": [],
   "source": [
    "library(ggplot2)\n",
    "bulk.dif.kc.de.cov  <- as.data.frame(bulk.dif.kc.de.cov )\n",
    "ggplot(bulk.dif.kc.de.cov , aes(x = pvalue)) +\n",
    "  geom_histogram(binwidth = 0.01, fill = \"blue\", color = \"black\") +\n",
    "  theme_minimal() +\n",
    "  labs(title = \"Distribution of p-value\", x = \"p-value\", y = \"Frequency\")"
   ]
  },
  {
   "cell_type": "code",
   "execution_count": 0,
   "metadata": {
    "application/vnd.databricks.v1+cell": {
     "cellMetadata": {
      "byteLimit": 2048000,
      "rowLimit": 10000
     },
     "inputWidgets": {},
     "nuid": "36f9a587-d956-4f85-abcd-4719fecca031",
     "showTitle": false,
     "tableResultSettingsMap": {},
     "title": ""
    }
   },
   "outputs": [],
   "source": [
    "volcano_generator(bulk.dif.kc.de.cov, \"Pseudobulk - Differentiated KC - AR + dataset adjusted\")"
   ]
  },
  {
   "cell_type": "markdown",
   "metadata": {
    "application/vnd.databricks.v1+cell": {
     "cellMetadata": {},
     "inputWidgets": {},
     "nuid": "935cdf09-5bbc-44c5-b88a-7d2df68a2e14",
     "showTitle": false,
     "tableResultSettingsMap": {},
     "title": ""
    }
   },
   "source": [
    "##Treg"
   ]
  },
  {
   "cell_type": "code",
   "execution_count": 0,
   "metadata": {
    "application/vnd.databricks.v1+cell": {
     "cellMetadata": {
      "byteLimit": 2048000,
      "rowLimit": 10000
     },
     "inputWidgets": {},
     "nuid": "e454d1be-93f3-47cc-b134-c4d6c26ce3b7",
     "showTitle": false,
     "tableResultSettingsMap": {},
     "title": ""
    }
   },
   "outputs": [],
   "source": [
    "bulk.treg.de <- FindMarkers(object = pseudo_AR, \n",
    "                            ident.1 = \"Treg_Lesional\", \n",
    "                            ident.2 = \"Treg_HC\",\n",
    "                            test.use = \"DESeq2\")\n",
    "head(bulk.treg.de, n = 15)"
   ]
  },
  {
   "cell_type": "code",
   "execution_count": 0,
   "metadata": {
    "application/vnd.databricks.v1+cell": {
     "cellMetadata": {
      "byteLimit": 2048000,
      "rowLimit": 10000
     },
     "inputWidgets": {},
     "nuid": "40077077-b5f3-493c-9390-909fda7041cb",
     "showTitle": false,
     "tableResultSettingsMap": {},
     "title": ""
    }
   },
   "outputs": [],
   "source": [
    "volcano_generator(bulk.treg.de, \"Pseudobulk - Treg - AR merged\")"
   ]
  },
  {
   "cell_type": "markdown",
   "metadata": {
    "application/vnd.databricks.v1+cell": {
     "cellMetadata": {},
     "inputWidgets": {},
     "nuid": "992451e5-222f-44c6-976f-db10aeee3626",
     "showTitle": false,
     "tableResultSettingsMap": {},
     "title": ""
    }
   },
   "source": [
    "###Covariable adjusted"
   ]
  },
  {
   "cell_type": "code",
   "execution_count": 0,
   "metadata": {
    "application/vnd.databricks.v1+cell": {
     "cellMetadata": {
      "byteLimit": 2048000,
      "rowLimit": 10000
     },
     "inputWidgets": {},
     "nuid": "46d017fe-1a18-442a-8621-7c8e177d4489",
     "showTitle": false,
     "tableResultSettingsMap": {},
     "title": ""
    }
   },
   "outputs": [],
   "source": [
    "bulk.treg.de.cov <- results(dds2, contrast=c(\"celltype.cond\",\"Treg_Lesional\", \"Treg_HC\"))\n",
    "bulk.treg.de.cov"
   ]
  },
  {
   "cell_type": "code",
   "execution_count": 0,
   "metadata": {
    "application/vnd.databricks.v1+cell": {
     "cellMetadata": {
      "byteLimit": 2048000,
      "rowLimit": 10000
     },
     "inputWidgets": {},
     "nuid": "d96d4de6-019b-42eb-8cb8-7c583b91bfcd",
     "showTitle": false,
     "tableResultSettingsMap": {},
     "title": ""
    }
   },
   "outputs": [],
   "source": [
    "volcano_generator(bulk.treg.de.cov, \"Pseudobulk - Treg - AR + dataset adjusted\")"
   ]
  },
  {
   "cell_type": "markdown",
   "metadata": {
    "application/vnd.databricks.v1+cell": {
     "cellMetadata": {},
     "inputWidgets": {},
     "nuid": "46653453-529b-4e0d-a11e-ef6d1bb85656",
     "showTitle": false,
     "tableResultSettingsMap": {},
     "title": ""
    }
   },
   "source": [
    "#Number of DEGs per comparison"
   ]
  },
  {
   "cell_type": "code",
   "execution_count": 0,
   "metadata": {
    "application/vnd.databricks.v1+cell": {
     "cellMetadata": {
      "byteLimit": 2048000,
      "rowLimit": 10000
     },
     "inputWidgets": {},
     "nuid": "0ffc8304-a5a3-4888-98db-eed29d2085cb",
     "showTitle": false,
     "tableResultSettingsMap": {},
     "title": ""
    }
   },
   "outputs": [],
   "source": [
    "res_list <- list(\n",
    "  bulk.tcell.de.cov = bulk.tcell.de.cov,\n",
    "  bulk.th.de.cov = bulk.th.de.cov,\n",
    "  bulk.treg.de.cov = bulk.treg.de.cov,\n",
    "  bulk.kc.de.cov = bulk.kc.de.cov,\n",
    "  bulk.dif.kc.de.cov = bulk.dif.kc.de.cov,\n",
    "  bulk.tcell.de = bulk.tcell.de,\n",
    "  bulk.th.de = bulk.th.de,\n",
    "  bulk.treg.de = bulk.treg.de,\n",
    "  bulk.kc.de = bulk.kc.de,\n",
    "  bulk.dif.kc.de = bulk.dif.kc.de\n",
    ")\n",
    "\n",
    "for (res_name in names(res_list)) {\n",
    "  res <- res_list[[res_name]]\n",
    "  pos_DEGs <- 0\n",
    "  neg_DEGs <- 0\n",
    "  p_val_col <- if (\"p_val_adj\" %in% colnames(res)) \"p_val_adj\" else \"padj\"\n",
    "  log2fc_col <- if (\"avg_log2FC\" %in% colnames(res)) \"avg_log2FC\" else \"log2FoldChange\"\n",
    "  for (i in 1:nrow(res)) {\n",
    "    if (!is.na(res[[p_val_col]][i]) && res[[p_val_col]][i] < 0.05) {\n",
    "      if (res[[log2fc_col]][i] > 1) {\n",
    "        pos_DEGs <- pos_DEGs + 1\n",
    "      } else if (res[[log2fc_col]][i] < -1) {\n",
    "        neg_DEGs <- neg_DEGs + 1\n",
    "      }\n",
    "    }\n",
    "  }\n",
    "  print(paste(\"Number of up DEGs in\", res_name, \":\", pos_DEGs, \"and down DEGs:\", neg_DEGs))\n",
    "}"
   ]
  },
  {
   "cell_type": "code",
   "execution_count": 0,
   "metadata": {
    "application/vnd.databricks.v1+cell": {
     "cellMetadata": {
      "byteLimit": 2048000,
      "rowLimit": 10000
     },
     "inputWidgets": {},
     "nuid": "5251d52f-e9dd-48de-8d14-2afcf368b725",
     "showTitle": false,
     "tableResultSettingsMap": {},
     "title": ""
    }
   },
   "outputs": [],
   "source": [
    "# BEFORE CELLTYPIST REANNOTATION\n",
    "# [1] \"Number of up DEGs in bulk.kc.de.cov : 1082 and down DEGs: 681\"\n",
    "\n",
    "# [1] \"Number of up DEGs in bulk.tcell.de.cov : 215 and down DEGs: 309\"\n",
    "\n",
    "# [1] \"Number of up DEGs in bulk.treg.de.cov : 79 and down DEGs: 1085\"\n",
    "\n",
    "# AFTER CELLTYPIST REANNOTATION\n",
    "# [1] \"Number of up DEGs in bulk.kc.de.cov : 777 and down DEGs: 919\"\n",
    "# [1] \"Number of up DEGs in bulk.dif.kc.de.cov : 1268 and down DEGs: 864\"\n",
    "\n",
    "# [1] \"Number of up DEGs in bulk.tcell.de.cov : 243 and down DEGs: 547\"\n",
    "# [1] \"Number of up DEGs in bulk.th.de.cov : 285 and down DEGs: 708\"\n",
    "\n",
    "# [1] \"Number of up DEGs in bulk.treg.de.cov : 83 and down DEGs: 227\""
   ]
  },
  {
   "cell_type": "markdown",
   "metadata": {
    "application/vnd.databricks.v1+cell": {
     "cellMetadata": {},
     "inputWidgets": {},
     "nuid": "34b5f0ab-5ea3-4b75-934b-7440970bb312",
     "showTitle": false,
     "tableResultSettingsMap": {},
     "title": ""
    }
   },
   "source": [
    "#Save"
   ]
  },
  {
   "cell_type": "code",
   "execution_count": 0,
   "metadata": {
    "application/vnd.databricks.v1+cell": {
     "cellMetadata": {
      "byteLimit": 2048000,
      "rowLimit": 10000
     },
     "inputWidgets": {},
     "nuid": "4ba11efa-06e7-4d17-9147-fca8b3e023c6",
     "showTitle": false,
     "tableResultSettingsMap": {},
     "title": ""
    }
   },
   "outputs": [],
   "source": [
    "%sh\n",
    "mkdir /dbfs/mnt/sandbox/TFM_PAULA/merged_AR_celltypist_results\n",
    "mkdir /dbfs/mnt/sandbox/TFM_PAULA/merged_AR_celltypist_results/DEGs\n",
    "mkdir /dbfs/mnt/sandbox/TFM_PAULA/merged_AR_celltypist_results/adjusting_cov_dataset_DEGs"
   ]
  },
  {
   "cell_type": "code",
   "execution_count": 0,
   "metadata": {
    "application/vnd.databricks.v1+cell": {
     "cellMetadata": {
      "byteLimit": 2048000,
      "rowLimit": 10000
     },
     "inputWidgets": {},
     "nuid": "7263626b-2512-4399-af4e-bbb3a6d73549",
     "showTitle": false,
     "tableResultSettingsMap": {},
     "title": ""
    }
   },
   "outputs": [],
   "source": [
    "bulk.th.de$gene <- rownames(bulk.th.de)\n",
    "bulk.treg.de$gene <- rownames(bulk.treg.de)\n",
    "bulk.kc.de$gene <- rownames(bulk.kc.de)\n",
    "bulk.dif.kc.de$gene <- rownames(bulk.dif.kc.de)\n",
    "bulk.tcell.de$gene <- rownames(bulk.tcell.de)\n",
    "\n",
    "write.xlsx(bulk.th.de, file=\"/dbfs/mnt/sandbox/TFM_PAULA/merged_AR_celltypist_results/DEGs/bulk.th.de.xlsx\")\n",
    "write.xlsx(bulk.treg.de, file=\"/dbfs/mnt/sandbox/TFM_PAULA/merged_AR_celltypist_results/DEGs/bulk.treg.de.xlsx\")\n",
    "write.xlsx(bulk.kc.de, file=\"/dbfs/mnt/sandbox/TFM_PAULA/merged_AR_celltypist_results/DEGs/bulk.undif.kc.de.xlsx\")\n",
    "write.xlsx(bulk.tcell.de, file=\"/dbfs/mnt/sandbox/TFM_PAULA/merged_AR_celltypist_results/DEGs/bulk.tcell.de.xlsx\")\n",
    "write.xlsx(bulk.dif.kc.de, file=\"/dbfs/mnt/sandbox/TFM_PAULA/merged_AR_celltypist_results/DEGs/bulk.dif.kc.de.xlsx\")"
   ]
  },
  {
   "cell_type": "code",
   "execution_count": 0,
   "metadata": {
    "application/vnd.databricks.v1+cell": {
     "cellMetadata": {
      "byteLimit": 2048000,
      "rowLimit": 10000
     },
     "inputWidgets": {},
     "nuid": "4c5408df-c757-408a-9f5d-11f2b90498cb",
     "showTitle": false,
     "tableResultSettingsMap": {},
     "title": ""
    }
   },
   "outputs": [],
   "source": [
    "bulk.th.de.cov$gene <- rownames(bulk.th.de.cov)\n",
    "bulk.treg.de.cov$gene <- rownames(bulk.treg.de.cov)\n",
    "bulk.kc.de.cov$gene <- rownames(bulk.kc.de.cov)\n",
    "bulk.dif.kc.de.cov$gene <- rownames(bulk.dif.kc.de.cov)\n",
    "bulk.tcell.de.cov$gene <- rownames(bulk.tcell.de.cov)\n",
    "\n",
    "write.xlsx(bulk.th.de.cov, file=\"/dbfs/mnt/sandbox/TFM_PAULA/merged_AR_celltypist_results/DEGs/bulk.th.de.cov.xlsx\")\n",
    "write.xlsx(bulk.treg.de.cov, file=\"/dbfs/mnt/sandbox/TFM_PAULA/merged_AR_celltypist_results/DEGs/bulk.treg.de.cov.xlsx\")\n",
    "write.xlsx(bulk.kc.de.cov, file=\"/dbfs/mnt/sandbox/TFM_PAULA/merged_AR_celltypist_results/DEGs/bulk.undif.kc.de.cov.xlsx\")\n",
    "write.xlsx(bulk.tcell.de.cov, file=\"/dbfs/mnt/sandbox/TFM_PAULA/merged_AR_celltypist_results/DEGs/bulk.tcell.de.cov.xlsx\")\n",
    "write.xlsx(bulk.dif.kc.de.cov, file=\"/dbfs/mnt/sandbox/TFM_PAULA/merged_AR_celltypist_results/DEGs/bulk.dif.kc.de.cov.xlsx\")"
   ]
  }
 ],
 "metadata": {
  "application/vnd.databricks.v1+notebook": {
   "computePreferences": null,
   "dashboards": [],
   "environmentMetadata": {
    "base_environment": "",
    "environment_version": "2"
   },
   "inputWidgetPreferences": null,
   "language": "r",
   "notebookMetadata": {
    "mostRecentlyExecutedCommandWithImplicitDF": {
     "commandId": 1511471590640994,
     "dataframes": [
      "_sqldf"
     ]
    },
    "pythonIndentUnit": 4
   },
   "notebookName": "01.1.merged_cov_adjusted_DEGs_LvsHC",
   "widgets": {}
  },
  "language_info": {
   "name": "r"
  }
 },
 "nbformat": 4,
 "nbformat_minor": 0
}
