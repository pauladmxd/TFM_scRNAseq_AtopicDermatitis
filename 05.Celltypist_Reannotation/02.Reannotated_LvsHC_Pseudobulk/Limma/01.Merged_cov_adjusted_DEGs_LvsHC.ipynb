{
 "cells": [
  {
   "cell_type": "markdown",
   "metadata": {
    "application/vnd.databricks.v1+cell": {
     "cellMetadata": {
      "byteLimit": 2048000,
      "rowLimit": 10000
     },
     "inputWidgets": {},
     "nuid": "6eb5fa52-11ee-4130-ba0f-274a5cbf8a5c",
     "showTitle": false,
     "tableResultSettingsMap": {},
     "title": ""
    }
   },
   "source": [
    "#Find DEGs with pseudobulk (limma) in the merge object Alkon + Reynolds\n",
    "Done adjusting dataset as a covariable\n",
    "\n",
    "###Relevant cell types (celltypist): \n",
    "T-cells (Tc, Th and Treg), Keratinocytes (Undifferentiated and Differentiated), Macrophages\n",
    "\n",
    "###Constrast: \n",
    "  - Lesional vs Healthy control (LvsHC)"
   ]
  },
  {
   "cell_type": "code",
   "execution_count": 0,
   "metadata": {
    "application/vnd.databricks.v1+cell": {
     "cellMetadata": {
      "byteLimit": 2048000,
      "rowLimit": 10000
     },
     "inputWidgets": {},
     "nuid": "b92c4ebd-457e-43d6-aa81-fec48c8d2972",
     "showTitle": false,
     "tableResultSettingsMap": {},
     "title": ""
    }
   },
   "outputs": [],
   "source": [
    "#Load required libraries\n",
    ".libPaths(c(\"/dbfs/home/jtrincado@almirall.com/my_r_packages/Seurat\", .libPaths()))\n",
    "library(openxlsx)\n",
    "library(dplyr)\n",
    ".libPaths(c(\"/dbfs/home/pdelgadom@almirall.com/my_r_packages/tfm_paula_4\", .libPaths()))\n",
    "library(limma)\n",
    "library(edgeR)\n",
    "\n",
    ".libPaths(c(\"/dbfs/home/boriol@almirall.com/my_r_packages/bulkRNASeq_PBMCs_R4.3\", .libPaths()))\n",
    "library(VennDiagram)\n",
    "library(EnhancedVolcano)\n",
    "\n",
    "#Load required libraries\n",
    ".libPaths(c(\"/dbfs/home/jtrincado@almirall.com/my_r_packages/Seurat_v2/\", .libPaths()))\n",
    "library(Seurat)"
   ]
  },
  {
   "cell_type": "code",
   "execution_count": 0,
   "metadata": {
    "application/vnd.databricks.v1+cell": {
     "cellMetadata": {
      "byteLimit": 2048000,
      "rowLimit": 10000
     },
     "inputWidgets": {},
     "nuid": "4691d97b-e7a9-42ec-9310-b73cd79e81c7",
     "showTitle": false,
     "tableResultSettingsMap": {},
     "title": ""
    }
   },
   "outputs": [],
   "source": [
    "volcano_generator <- function(resultsDE, given_title) {\n",
    "  library(dplyr)\n",
    "  library(EnhancedVolcano)\n",
    "\n",
    "  resultsDE <- as.data.frame(resultsDE)\n",
    "  \n",
    "  # Create annotations for volcano plot\n",
    "  resultsDE0 <- resultsDE\n",
    "  resultsDE0$gene_id <- rownames(resultsDE0)\n",
    "\n",
    "  # Ensure unique row names and remove rows with missing gene id\n",
    "  resultsDE0 <- resultsDE0 %>%\n",
    "    distinct(gene_id, .keep_all = TRUE)\n",
    "  rownames(resultsDE0) <- resultsDE0$gene_id\n",
    "  \n",
    "  # Determine column names for p-value and log2 fold change\n",
    "  p_val_col <- if (\"adj.P.Val\" %in% colnames(resultsDE0)) \"adj.P.Val\" else \"padj\"\n",
    "  log2fc_col <- if (\"logFC\" %in% colnames(resultsDE0)) \"logFC\" else \"log2FoldChange\"\n",
    "  \n",
    "  top10_genes <- resultsDE0 %>%\n",
    "    filter(!!sym(log2fc_col) > 1 & !!sym(p_val_col) < 0.05) %>%\n",
    "    arrange(!!sym(p_val_col)) %>% top_n(10, -!!sym(p_val_col))\n",
    "  \n",
    "  bottom10_genes <- resultsDE0 %>%\n",
    "    filter(!!sym(log2fc_col) < -1 & !!sym(p_val_col) < 0.05) %>%\n",
    "    arrange(!!sym(p_val_col)) %>% top_n(10, -!!sym(p_val_col))\n",
    "  \n",
    "  # Plot Volcano with overlap of labels set to infinite\n",
    "  volcano <- EnhancedVolcano(resultsDE0,\n",
    "    lab = rownames(resultsDE0),\n",
    "    x = log2fc_col,\n",
    "    y = p_val_col,\n",
    "    pCutoff = 0.05,\n",
    "    selectLab = c(top10_genes$gene_id, bottom10_genes$gene_id),\n",
    "    labSize = 5,\n",
    "    drawConnectors = TRUE,\n",
    "    widthConnectors = 0.5,\n",
    "    colConnectors = 'black',\n",
    "    title = given_title,\n",
    "    max.overlaps = Inf  # <- Overlap of labels set to infinite\n",
    "  )\n",
    "  volcano\n",
    "}"
   ]
  },
  {
   "cell_type": "code",
   "execution_count": 0,
   "metadata": {
    "application/vnd.databricks.v1+cell": {
     "cellMetadata": {
      "byteLimit": 2048000,
      "rowLimit": 10000
     },
     "inputWidgets": {},
     "nuid": "769fd7bc-83e3-4234-9357-bb174f3ef1cc",
     "showTitle": false,
     "tableResultSettingsMap": {},
     "title": ""
    }
   },
   "outputs": [],
   "source": [
    "#New volcano generator function to print a zoom in -10,10 and avoid extreme values\n",
    "volcano_generator_zoom <- function(resultsDE, given_title) {\n",
    "  library(dplyr)\n",
    "  library(EnhancedVolcano)\n",
    "  resultsDE <- as.data.frame(resultsDE)\n",
    "  \n",
    "  # Create annotations for volcano plot\n",
    "  resultsDE0 <- resultsDE\n",
    "  resultsDE0$gene_id <- rownames(resultsDE0)\n",
    "  \n",
    "  # Ensure unique row names and remove rows with missing gene id\n",
    "  resultsDE0 <- resultsDE0 %>%\n",
    "    distinct(gene_id, .keep_all = TRUE)\n",
    "  rownames(resultsDE0) <- resultsDE0$gene_id\n",
    "  \n",
    "  # Determine column names for p-value and log2 fold change\n",
    "  p_val_col <- if (\"p_val_adj\" %in% colnames(resultsDE0)) \"p_val_adj\" else \"padj\"\n",
    "  log2fc_col <- if (\"avg_log2FC\" %in% colnames(resultsDE0)) \"avg_log2FC\" else \"log2FoldChange\"\n",
    "  \n",
    "  # Top and bottom genes for labeling\n",
    "  top10_genes <- resultsDE0 %>%\n",
    "    filter(!!sym(log2fc_col) > 1 & !!sym(p_val_col) < 0.05) %>%\n",
    "    arrange(!!sym(p_val_col)) %>% top_n(10, -!!sym(p_val_col))\n",
    "  \n",
    "  bottom10_genes <- resultsDE0 %>%\n",
    "    filter(!!sym(log2fc_col) < -1 & !!sym(p_val_col) < 0.05) %>%\n",
    "    arrange(!!sym(p_val_col)) %>% top_n(10, -!!sym(p_val_col))\n",
    "  \n",
    "  # Plot Volcano with xlim for log2FC zoom\n",
    "  volcano <- EnhancedVolcano(resultsDE0,\n",
    "    lab = rownames(resultsDE0),\n",
    "    x = log2fc_col,\n",
    "    y = p_val_col,\n",
    "    pCutoff = 0.05,\n",
    "    selectLab = c(top10_genes$gene_id, bottom10_genes$gene_id),\n",
    "    labSize = 5,\n",
    "    drawConnectors = TRUE,\n",
    "    widthConnectors = 0.5,\n",
    "    colConnectors = 'black',\n",
    "    title = given_title,\n",
    "    xlim = c(-10, 10)  # <- ZOOM in here\n",
    "  )\n",
    "  \n",
    "  return(volcano)\n",
    "}"
   ]
  },
  {
   "cell_type": "markdown",
   "metadata": {
    "application/vnd.databricks.v1+cell": {
     "cellMetadata": {
      "byteLimit": 2048000,
      "rowLimit": 10000
     },
     "inputWidgets": {},
     "nuid": "c65ed83f-8da9-4c33-accb-b1cb22b7b188",
     "showTitle": false,
     "tableResultSettingsMap": {},
     "title": ""
    }
   },
   "source": [
    "##Process data"
   ]
  },
  {
   "cell_type": "code",
   "execution_count": 0,
   "metadata": {
    "application/vnd.databricks.v1+cell": {
     "cellMetadata": {
      "byteLimit": 2048000,
      "rowLimit": 10000
     },
     "inputWidgets": {},
     "nuid": "dc6f34d7-6621-48cc-9b7e-461d4d677653",
     "showTitle": false,
     "tableResultSettingsMap": {},
     "title": ""
    }
   },
   "outputs": [],
   "source": [
    "AR <- readRDS(file=\"/dbfs/mnt/sandbox/TFM_PAULA/MERGED_ARdatasets_celltypist_TFM.rds\")"
   ]
  },
  {
   "cell_type": "code",
   "execution_count": 0,
   "metadata": {
    "application/vnd.databricks.v1+cell": {
     "cellMetadata": {
      "byteLimit": 2048000,
      "rowLimit": 10000
     },
     "inputWidgets": {},
     "nuid": "c74e6363-9260-48a8-bb9d-74689d6816fe",
     "showTitle": false,
     "tableResultSettingsMap": {},
     "title": ""
    }
   },
   "outputs": [],
   "source": [
    "unique(AR$dataset)"
   ]
  },
  {
   "cell_type": "code",
   "execution_count": 0,
   "metadata": {
    "application/vnd.databricks.v1+cell": {
     "cellMetadata": {
      "byteLimit": 2048000,
      "rowLimit": 10000
     },
     "inputWidgets": {},
     "nuid": "a55dec69-b1d2-4439-a644-7731e85210cf",
     "showTitle": false,
     "tableResultSettingsMap": {},
     "title": ""
    }
   },
   "outputs": [],
   "source": [
    "unique(AR$Condition_AR)"
   ]
  },
  {
   "cell_type": "code",
   "execution_count": 0,
   "metadata": {
    "application/vnd.databricks.v1+cell": {
     "cellMetadata": {
      "byteLimit": 2048000,
      "rowLimit": 10000
     },
     "inputWidgets": {},
     "nuid": "4843cbbb-1817-4f1a-bc69-e210372dabdc",
     "showTitle": false,
     "tableResultSettingsMap": {},
     "title": ""
    }
   },
   "outputs": [],
   "source": [
    "table(AR$celltype_AR, AR$dataset)"
   ]
  },
  {
   "cell_type": "markdown",
   "metadata": {
    "application/vnd.databricks.v1+cell": {
     "cellMetadata": {
      "byteLimit": 2048000,
      "rowLimit": 10000
     },
     "inputWidgets": {},
     "nuid": "c96366de-4d56-4645-8689-213e0e038935",
     "showTitle": false,
     "tableResultSettingsMap": {},
     "title": ""
    }
   },
   "source": [
    "##Filtering variables that have at least 3 counts"
   ]
  },
  {
   "cell_type": "code",
   "execution_count": 0,
   "metadata": {
    "application/vnd.databricks.v1+cell": {
     "cellMetadata": {
      "byteLimit": 2048000,
      "rowLimit": 10000
     },
     "inputWidgets": {},
     "nuid": "b60b8d99-0ddf-414e-93aa-ca80aee744f6",
     "showTitle": false,
     "tableResultSettingsMap": {},
     "title": ""
    }
   },
   "outputs": [],
   "source": [
    "counts_matrix <- AR[[\"RNA\"]]$counts\n",
    "dim(counts_matrix) #38248 391832"
   ]
  },
  {
   "cell_type": "code",
   "execution_count": 0,
   "metadata": {
    "application/vnd.databricks.v1+cell": {
     "cellMetadata": {
      "byteLimit": 2048000,
      "rowLimit": 10000
     },
     "inputWidgets": {},
     "nuid": "dcc9d1f3-7878-48e5-a7a3-e1b69e78b8ad",
     "showTitle": false,
     "tableResultSettingsMap": {},
     "title": ""
    }
   },
   "outputs": [],
   "source": [
    "# Keep only rows that have a count of at least 3 counts in 3 samples\n",
    "smallestGroupSize <- 3\n",
    "keep <- rowSums(counts_matrix >= 3) >= smallestGroupSize\n",
    "counts_keep <- counts_matrix[keep,]\n",
    "\n",
    "# Subset the Seurat object to keep only the features in counts_keep\n",
    "AR_f <- subset(AR, features = rownames(counts_keep))\n",
    "\n",
    "# Assign the filtered counts to the new Seurat object\n",
    "AR_f[[\"RNA\"]]$counts <- counts_keep\n",
    "\n",
    "# Check dimensions\n",
    "dim(AR_f[[\"RNA\"]]$counts) # 16417 391832"
   ]
  },
  {
   "cell_type": "markdown",
   "metadata": {
    "application/vnd.databricks.v1+cell": {
     "cellMetadata": {
      "byteLimit": 2048000,
      "rowLimit": 10000
     },
     "inputWidgets": {},
     "nuid": "07cfa0bd-be1e-4bd7-b00c-9122f1d408e8",
     "showTitle": false,
     "tableResultSettingsMap": {},
     "title": ""
    }
   },
   "source": [
    "##Pseudobulk the counts based on the donor id"
   ]
  },
  {
   "cell_type": "code",
   "execution_count": 0,
   "metadata": {
    "application/vnd.databricks.v1+cell": {
     "cellMetadata": {
      "byteLimit": 2048000,
      "rowLimit": 10000
     },
     "inputWidgets": {},
     "nuid": "05c3c8aa-2287-4395-a560-a5e7ca3aeb42",
     "showTitle": false,
     "tableResultSettingsMap": {},
     "title": ""
    }
   },
   "outputs": [],
   "source": [
    "unique(AR_f$celltype_AR)"
   ]
  },
  {
   "cell_type": "code",
   "execution_count": 0,
   "metadata": {
    "application/vnd.databricks.v1+cell": {
     "cellMetadata": {
      "byteLimit": 2048000,
      "rowLimit": 10000
     },
     "inputWidgets": {},
     "nuid": "baf5388d-b608-4720-b4d4-11a53d05a7da",
     "showTitle": false,
     "tableResultSettingsMap": {},
     "title": ""
    }
   },
   "outputs": [],
   "source": [
    "table(AR_f$Condition_AR, AR_f$Sample_id)"
   ]
  },
  {
   "cell_type": "code",
   "execution_count": 0,
   "metadata": {
    "application/vnd.databricks.v1+cell": {
     "cellMetadata": {
      "byteLimit": 2048000,
      "rowLimit": 10000
     },
     "inputWidgets": {},
     "nuid": "e9628c33-4514-4bc3-8121-d8481e93258e",
     "showTitle": false,
     "tableResultSettingsMap": {},
     "title": ""
    }
   },
   "outputs": [],
   "source": [
    "unique(AR_f$dataset)"
   ]
  },
  {
   "cell_type": "code",
   "execution_count": 0,
   "metadata": {
    "application/vnd.databricks.v1+cell": {
     "cellMetadata": {
      "byteLimit": 2048000,
      "rowLimit": 10000
     },
     "inputWidgets": {},
     "nuid": "22f2d482-8768-4d8d-89e5-3191947b1954",
     "showTitle": false,
     "tableResultSettingsMap": {},
     "title": ""
    }
   },
   "outputs": [],
   "source": [
    "# pseudobulk the counts based on donor-condition-celltype\n",
    "pseudo_AR <- AggregateExpression(AR_f, assays = \"RNA\", return.seurat = T, group.by = c(\"Condition_AR\", \"Sample_id\", \"celltype_AR\"))\n",
    "\n",
    "# each 'cell' is a donor-condition-celltype pseudobulk profile\n",
    "head(Cells(pseudo_AR))"
   ]
  },
  {
   "cell_type": "code",
   "execution_count": 0,
   "metadata": {
    "application/vnd.databricks.v1+cell": {
     "cellMetadata": {
      "byteLimit": 2048000,
      "rowLimit": 10000
     },
     "inputWidgets": {},
     "nuid": "0aeb5660-5fcb-4e7f-89e0-bfc3ebfc8ddb",
     "showTitle": false,
     "tableResultSettingsMap": {},
     "title": ""
    }
   },
   "outputs": [],
   "source": [
    "pseudo_AR$celltype.cond <- paste(pseudo_AR$celltype_AR, pseudo_AR$Condition_AR, sep = \"_\")"
   ]
  },
  {
   "cell_type": "code",
   "execution_count": 0,
   "metadata": {
    "application/vnd.databricks.v1+cell": {
     "cellMetadata": {
      "byteLimit": 2048000,
      "rowLimit": 10000
     },
     "inputWidgets": {},
     "nuid": "d82343f6-c50d-4c75-92cb-d538707aaaf9",
     "showTitle": false,
     "tableResultSettingsMap": {},
     "title": ""
    }
   },
   "outputs": [],
   "source": [
    "Idents(pseudo_AR) <- \"celltype.cond\""
   ]
  },
  {
   "cell_type": "code",
   "execution_count": 0,
   "metadata": {
    "application/vnd.databricks.v1+cell": {
     "cellMetadata": {
      "byteLimit": 2048000,
      "rowLimit": 10000
     },
     "inputWidgets": {},
     "nuid": "52295c88-126d-48b1-9a90-1924fd732f84",
     "showTitle": false,
     "tableResultSettingsMap": {},
     "title": ""
    }
   },
   "outputs": [],
   "source": [
    "dataset_info <- AR_f@meta.data$dataset\n",
    "\n",
    "# Create a mapping of Sample_id to dataset\n",
    "sample_to_dataset <- setNames(dataset_info, AR_f@meta.data$Sample_id)\n",
    "\n",
    "# Add the dataset information to the pseudo_AR metadata\n",
    "pseudo_AR@meta.data$dataset <- sample_to_dataset[pseudo_AR@meta.data$Sample_id]"
   ]
  },
  {
   "cell_type": "code",
   "execution_count": 0,
   "metadata": {
    "application/vnd.databricks.v1+cell": {
     "cellMetadata": {
      "byteLimit": 2048000,
      "rowLimit": 10000
     },
     "inputWidgets": {},
     "nuid": "9e2cd2cf-e4d7-4ef7-a0ec-fb66dda33bcb",
     "showTitle": false,
     "tableResultSettingsMap": {},
     "title": ""
    }
   },
   "outputs": [],
   "source": [
    "unique(pseudo_AR@meta.data$dataset)"
   ]
  },
  {
   "cell_type": "code",
   "execution_count": 0,
   "metadata": {
    "application/vnd.databricks.v1+cell": {
     "cellMetadata": {
      "byteLimit": 2048000,
      "rowLimit": 10000
     },
     "inputWidgets": {},
     "nuid": "4b5918b1-4fa4-4fcf-bb09-2b07fe4494f6",
     "showTitle": false,
     "tableResultSettingsMap": {},
     "title": ""
    }
   },
   "outputs": [],
   "source": [
    "saveRDS(pseudo_AR, file=\"/dbfs/mnt/sandbox/TFM_PAULA/AR_MERGED_aggregated_expression_TFM.rds\")"
   ]
  },
  {
   "cell_type": "code",
   "execution_count": 0,
   "metadata": {
    "application/vnd.databricks.v1+cell": {
     "cellMetadata": {
      "byteLimit": 2048000,
      "rowLimit": 10000
     },
     "inputWidgets": {},
     "nuid": "27865b67-19e8-48c9-be98-db74269c89c0",
     "showTitle": false,
     "tableResultSettingsMap": {},
     "title": ""
    }
   },
   "outputs": [],
   "source": [
    "# Extract count data\n",
    "counts_AR <- GetAssayData(pseudo_AR, layer = \"counts\")\n",
    "\n",
    "# Extract metadata\n",
    "metadata_AR <- pseudo_AR@meta.data"
   ]
  },
  {
   "cell_type": "code",
   "execution_count": 0,
   "metadata": {
    "application/vnd.databricks.v1+cell": {
     "cellMetadata": {
      "byteLimit": 2048000,
      "rowLimit": 10000
     },
     "inputWidgets": {},
     "nuid": "b483df2b-b2e9-4ff5-8fbd-e4240c9a9eb7",
     "showTitle": false,
     "tableResultSettingsMap": {},
     "title": ""
    }
   },
   "outputs": [],
   "source": [
    "# Filter to remove non lesional samples "
   ]
  },
  {
   "cell_type": "code",
   "execution_count": 0,
   "metadata": {
    "application/vnd.databricks.v1+cell": {
     "cellMetadata": {
      "byteLimit": 2048000,
      "rowLimit": 10000
     },
     "inputWidgets": {},
     "nuid": "2bbd00f0-dc4e-498b-aab2-8d7538b3b3f6",
     "showTitle": false,
     "tableResultSettingsMap": {},
     "title": ""
    }
   },
   "outputs": [],
   "source": [
    "metadata_AR_reynolds <- metadata_AR[metadata_AR$Condition_AR %in% c(\"HC\", \"Lesional\") & metadata_AR$dataset == \"reynolds\", ]\n",
    "metadata_AR <- rbind(metadata_AR[metadata_AR$dataset != \"reynolds\", ], metadata_AR_reynolds)\n",
    "\n",
    "# Filter counts too\n",
    "counts_AR <- counts_AR[, colnames(counts_AR) %in% rownames(metadata_AR)]"
   ]
  },
  {
   "cell_type": "code",
   "execution_count": 0,
   "metadata": {
    "application/vnd.databricks.v1+cell": {
     "cellMetadata": {
      "byteLimit": 2048000,
      "rowLimit": 10000
     },
     "inputWidgets": {},
     "nuid": "83122f54-43c0-4cdb-a245-60d35d0cac17",
     "showTitle": false,
     "tableResultSettingsMap": {},
     "title": ""
    }
   },
   "outputs": [],
   "source": [
    "metadata_AR$celltype.cond <- as.factor(metadata_AR$celltype.cond)\n",
    "metadata_AR$dataset <- as.factor(metadata_AR$dataset)"
   ]
  },
  {
   "cell_type": "code",
   "execution_count": 0,
   "metadata": {
    "application/vnd.databricks.v1+cell": {
     "cellMetadata": {
      "byteLimit": 2048000,
      "rowLimit": 10000
     },
     "inputWidgets": {},
     "nuid": "495dfe36-6660-476a-841a-bea56721e343",
     "showTitle": false,
     "tableResultSettingsMap": {},
     "title": ""
    }
   },
   "outputs": [],
   "source": [
    "table(metadata_AR$Condition_AR, metadata_AR$dataset)"
   ]
  },
  {
   "cell_type": "code",
   "execution_count": 0,
   "metadata": {
    "application/vnd.databricks.v1+cell": {
     "cellMetadata": {
      "byteLimit": 2048000,
      "rowLimit": 10000
     },
     "inputWidgets": {},
     "nuid": "ba025733-9e91-42cb-9b34-cbf048837a8b",
     "showTitle": false,
     "tableResultSettingsMap": {},
     "title": ""
    }
   },
   "outputs": [],
   "source": [
    "# Ensure the same order for rows in metadata_AR and columns in counts_AR\n",
    "metadata_AR <- metadata_AR[order(rownames(metadata_AR)), ]\n",
    "counts_AR <- counts_AR[, order(colnames(counts_AR))]\n",
    "\n",
    "# Reorder counts_AR columns to match the order of metadata_AR rows\n",
    "counts_AR <- counts_AR[, rownames(metadata_AR)]"
   ]
  },
  {
   "cell_type": "code",
   "execution_count": 0,
   "metadata": {
    "application/vnd.databricks.v1+cell": {
     "cellMetadata": {
      "byteLimit": 2048000,
      "rowLimit": 10000
     },
     "inputWidgets": {},
     "nuid": "c843c055-7264-42cc-9a0f-84efc6d98fb0",
     "showTitle": false,
     "tableResultSettingsMap": {},
     "title": ""
    }
   },
   "outputs": [],
   "source": []
  },
  {
   "cell_type": "markdown",
   "metadata": {
    "application/vnd.databricks.v1+cell": {
     "cellMetadata": {
      "byteLimit": 2048000,
      "rowLimit": 10000
     },
     "inputWidgets": {},
     "nuid": "f56ad5db-9453-4a86-8c44-a51c4c072cde",
     "showTitle": false,
     "tableResultSettingsMap": {},
     "title": ""
    }
   },
   "source": [
    "###Limma design to adjust the covariable dataset"
   ]
  },
  {
   "cell_type": "code",
   "execution_count": 0,
   "metadata": {
    "application/vnd.databricks.v1+cell": {
     "cellMetadata": {
      "byteLimit": 2048000,
      "rowLimit": 10000
     },
     "inputWidgets": {},
     "nuid": "6eb354e2-89e7-4262-8665-4c9676d55ebc",
     "showTitle": false,
     "tableResultSettingsMap": {},
     "title": ""
    }
   },
   "outputs": [],
   "source": [
    "unique(metadata_AR$Condition_AR)"
   ]
  },
  {
   "cell_type": "code",
   "execution_count": 0,
   "metadata": {
    "application/vnd.databricks.v1+cell": {
     "cellMetadata": {
      "byteLimit": 2048000,
      "rowLimit": 10000
     },
     "inputWidgets": {},
     "nuid": "48c18aed-8fd4-4942-8791-e6b8caa26412",
     "showTitle": false,
     "tableResultSettingsMap": {},
     "title": ""
    }
   },
   "outputs": [],
   "source": [
    "metadata_AR$samples <- paste(metadata_AR$Condition_AR, metadata_AR$Sample_id, metadata_AR$celltype_AR, sep = \"_\")"
   ]
  },
  {
   "cell_type": "code",
   "execution_count": 0,
   "metadata": {
    "application/vnd.databricks.v1+cell": {
     "cellMetadata": {
      "byteLimit": 2048000,
      "rowLimit": 10000
     },
     "inputWidgets": {},
     "nuid": "bbc12672-62d3-4a4c-a26b-7544903e9011",
     "showTitle": false,
     "tableResultSettingsMap": {},
     "title": ""
    }
   },
   "outputs": [],
   "source": [
    "metadata_AR$samples"
   ]
  },
  {
   "cell_type": "code",
   "execution_count": 0,
   "metadata": {
    "application/vnd.databricks.v1+cell": {
     "cellMetadata": {
      "byteLimit": 2048000,
      "rowLimit": 10000
     },
     "inputWidgets": {},
     "nuid": "9413938e-67b3-45be-bc59-702e0cfb92cd",
     "showTitle": false,
     "tableResultSettingsMap": {},
     "title": ""
    }
   },
   "outputs": [],
   "source": [
    "library(edgeR)\n",
    "library(limma)\n",
    "library(dplyr)\n",
    " \n",
    "wanted_celltypes <- c(\"Tc\", \"Th\", \"Differentiated-KC\", \"Undifferentiated-KC\")\n",
    " \n",
    "# expr_matrix = counts_AR\n",
    "# metadata_AR must include:\n",
    "#   - sample_id (matching colnames(counts_AR))\n",
    "#   - celltype (for subsetting)\n",
    "#   - condition (or celltype.cond)\n",
    "#   - dataset (for batch)\n",
    " \n",
    "# Sanity check: sample IDs match\n",
    "stopifnot(all(colnames(counts_AR) %in% metadata_AR$samples))\n",
    "\n",
    "# Optional: reorder metadata to match expression matrix\n",
    "metadata_AR <- metadata_AR[match(colnames(counts_AR), metadata_AR$samples), ]\n",
    " \n",
    "  # Subset expression matrix to relevant samples\n",
    "  expr_ct <- counts_AR[, metadata_AR$samples, drop = FALSE]\n",
    "  expr_ct <- as.matrix(expr_ct)\n",
    "  mode(expr_ct) <- \"numeric\"\n",
    " \n",
    "  # limma-voom pipeline\n",
    "  dge_ct <- DGEList(counts = expr_ct)\n",
    "  keep <- filterByExpr(dge_ct, group = metadata_AR$celltype.cond)\n",
    "  dge_ct <- dge_ct[keep, , keep.lib.sizes = FALSE]\n",
    "  dge_ct <- calcNormFactors(dge_ct)\n",
    " \n",
    "  # Design matrix (batch + condition)\n",
    "  design_ct <- model.matrix(~ 0 + dataset + celltype.cond, data = metadata_AR)\n",
    " \n",
    "  v_ct <- voom(dge_ct, design_ct, plot = FALSE)\n",
    "  fit_ct <- lmFit(v_ct, design_ct)\n",
    "  fit_ct <- eBayes(fit_ct)\n",
    " \n"
   ]
  },
  {
   "cell_type": "code",
   "execution_count": 0,
   "metadata": {
    "application/vnd.databricks.v1+cell": {
     "cellMetadata": {
      "byteLimit": 2048000,
      "rowLimit": 10000
     },
     "inputWidgets": {},
     "nuid": "7d882a21-0a96-4e2e-a6e8-74e619efd58b",
     "showTitle": false,
     "tableResultSettingsMap": {},
     "title": ""
    }
   },
   "outputs": [],
   "source": [
    "fit_ct"
   ]
  },
  {
   "cell_type": "code",
   "execution_count": 0,
   "metadata": {
    "application/vnd.databricks.v1+cell": {
     "cellMetadata": {
      "byteLimit": 2048000,
      "rowLimit": 10000
     },
     "inputWidgets": {},
     "nuid": "fdaa532b-21c6-4870-9413-d51bc8754731",
     "showTitle": false,
     "tableResultSettingsMap": {},
     "title": ""
    }
   },
   "outputs": [],
   "source": [
    "results_list <- list()\n",
    "for (ct in wanted_celltypes){\n",
    "  group_HC <- paste0(\"celltype.cond\", ct, \"_HC\")\n",
    "  group_LES <- paste0(\"celltype.cond\", ct, \"_Lesional\")\n",
    "  if (!(group_HC %in% colnames(design_ct)) || !(group_LES %in% colnames(design_ct))){\n",
    "    cat(\"Skipping\", ct, \"- missing group\\n\")\n",
    "    next\n",
    "  }\n",
    "  # Create contrast\n",
    "  contrast_vec <- rep(0, ncol(design_ct))\n",
    "  names(contrast_vec) <- colnames(design_ct)\n",
    "  contrast_vec[group_LES] <- 1\n",
    "  contrast_vec[group_HC] <- -1\n",
    "  # Apply contrast\n",
    "  fit2 <- contrasts.fit(fit_ct, contrast_vec)\n",
    "  fit2 <- eBayes(fit2)\n",
    "  # Extract DE results\n",
    "  res <- topTable(fit2, coef = 1, number = Inf)\n",
    "  res$celltype <- ct\n",
    "  results_list[[ct]] <- res\n",
    "  cat(\"Finished:\", ct, \"\\n\")\n",
    "}\n",
    "# Combine all into one dataframe\n",
    "all_results <- bind_rows(results_list)\n",
    "head(all_results)"
   ]
  },
  {
   "cell_type": "markdown",
   "metadata": {
    "application/vnd.databricks.v1+cell": {
     "cellMetadata": {},
     "inputWidgets": {},
     "nuid": "60124c10-52f8-498e-bca7-b49806218c55",
     "showTitle": false,
     "tableResultSettingsMap": {},
     "title": ""
    }
   },
   "source": [
    "##Tc"
   ]
  },
  {
   "cell_type": "code",
   "execution_count": 0,
   "metadata": {
    "application/vnd.databricks.v1+cell": {
     "cellMetadata": {
      "byteLimit": 2048000,
      "rowLimit": 10000
     },
     "inputWidgets": {},
     "nuid": "7a55cb00-d032-4027-977b-4e277188027a",
     "showTitle": false,
     "tableResultSettingsMap": {},
     "title": ""
    }
   },
   "outputs": [],
   "source": [
    "TC_results <- all_results %>% filter(celltype==\"Tc\")"
   ]
  },
  {
   "cell_type": "code",
   "execution_count": 0,
   "metadata": {
    "application/vnd.databricks.v1+cell": {
     "cellMetadata": {
      "byteLimit": 2048000,
      "rowLimit": 10000
     },
     "inputWidgets": {},
     "nuid": "462024ad-b7ae-4486-9757-445143c80d7e",
     "showTitle": false,
     "tableResultSettingsMap": {},
     "title": ""
    }
   },
   "outputs": [],
   "source": [
    "TC_results$gene <- rownames(TC_results)"
   ]
  },
  {
   "cell_type": "code",
   "execution_count": 0,
   "metadata": {
    "application/vnd.databricks.v1+cell": {
     "cellMetadata": {
      "byteLimit": 2048000,
      "rowLimit": 10000
     },
     "inputWidgets": {},
     "nuid": "80d5b584-ce6e-4514-875f-530160c7751e",
     "showTitle": false,
     "tableResultSettingsMap": {},
     "title": ""
    }
   },
   "outputs": [],
   "source": [
    "TC_results$logFC"
   ]
  },
  {
   "cell_type": "code",
   "execution_count": 0,
   "metadata": {
    "application/vnd.databricks.v1+cell": {
     "cellMetadata": {
      "byteLimit": 2048000,
      "rowLimit": 10000
     },
     "inputWidgets": {},
     "nuid": "eb0c640e-14e2-449c-9bef-8a257b6bb042",
     "showTitle": false,
     "tableResultSettingsMap": {},
     "title": ""
    }
   },
   "outputs": [],
   "source": [
    "class(TC_results$adj.P.Val)"
   ]
  },
  {
   "cell_type": "code",
   "execution_count": 0,
   "metadata": {
    "application/vnd.databricks.v1+cell": {
     "cellMetadata": {
      "byteLimit": 2048000,
      "rowLimit": 10000
     },
     "inputWidgets": {},
     "nuid": "67e5be92-ce1b-46e4-8529-fbbe3711b49e",
     "showTitle": false,
     "tableResultSettingsMap": {},
     "title": ""
    }
   },
   "outputs": [],
   "source": [
    "sum(is.na(TC_results$logFC))"
   ]
  },
  {
   "cell_type": "code",
   "execution_count": 0,
   "metadata": {
    "application/vnd.databricks.v1+cell": {
     "cellMetadata": {
      "byteLimit": 2048000,
      "rowLimit": 10000
     },
     "inputWidgets": {},
     "nuid": "077d1cb5-4495-4650-8b11-6a09b4cc7208",
     "showTitle": false,
     "tableResultSettingsMap": {},
     "title": ""
    }
   },
   "outputs": [],
   "source": [
    "volcano_generator(TC_results, \"Tcells - AR - Limma Merged Cov Adjusted\")"
   ]
  },
  {
   "cell_type": "markdown",
   "metadata": {
    "application/vnd.databricks.v1+cell": {
     "cellMetadata": {},
     "inputWidgets": {},
     "nuid": "401ed871-4dd5-41cc-b9ea-bffdd448e242",
     "showTitle": false,
     "tableResultSettingsMap": {},
     "title": ""
    }
   },
   "source": [
    "##Th"
   ]
  },
  {
   "cell_type": "code",
   "execution_count": 0,
   "metadata": {
    "application/vnd.databricks.v1+cell": {
     "cellMetadata": {
      "byteLimit": 2048000,
      "rowLimit": 10000
     },
     "inputWidgets": {},
     "nuid": "eeeb8ce8-9f7d-41cc-9ad3-44065b0acc8f",
     "showTitle": false,
     "tableResultSettingsMap": {},
     "title": ""
    }
   },
   "outputs": [],
   "source": [
    "Th_results <- all_results %>% filter(celltype==\"Th\")"
   ]
  },
  {
   "cell_type": "code",
   "execution_count": 0,
   "metadata": {
    "application/vnd.databricks.v1+cell": {
     "cellMetadata": {
      "byteLimit": 2048000,
      "rowLimit": 10000
     },
     "inputWidgets": {},
     "nuid": "f41aa2be-5661-49cb-87fb-e40b382ecc23",
     "showTitle": false,
     "tableResultSettingsMap": {},
     "title": ""
    }
   },
   "outputs": [],
   "source": [
    "Th_results$gene <- rownames(Th_results)"
   ]
  },
  {
   "cell_type": "code",
   "execution_count": 0,
   "metadata": {
    "application/vnd.databricks.v1+cell": {
     "cellMetadata": {
      "byteLimit": 2048000,
      "rowLimit": 10000
     },
     "inputWidgets": {},
     "nuid": "ac3630df-6e92-4d00-853e-d3c72e7d515f",
     "showTitle": false,
     "tableResultSettingsMap": {},
     "title": ""
    }
   },
   "outputs": [],
   "source": [
    "volcano_generator(Th_results, \"Th - AR - Limma Merged Cov Adjusted\")"
   ]
  },
  {
   "cell_type": "markdown",
   "metadata": {
    "application/vnd.databricks.v1+cell": {
     "cellMetadata": {},
     "inputWidgets": {},
     "nuid": "b6f83e9a-180d-4a79-87cd-d44821e1cc1f",
     "showTitle": false,
     "tableResultSettingsMap": {},
     "title": ""
    }
   },
   "source": [
    "##Differentiated Keratinocytes"
   ]
  },
  {
   "cell_type": "code",
   "execution_count": 0,
   "metadata": {
    "application/vnd.databricks.v1+cell": {
     "cellMetadata": {
      "byteLimit": 2048000,
      "rowLimit": 10000
     },
     "inputWidgets": {},
     "nuid": "ed5b1c52-1a92-4e50-8b7f-28f744b5e6b6",
     "showTitle": false,
     "tableResultSettingsMap": {},
     "title": ""
    }
   },
   "outputs": [],
   "source": [
    "DifKC_results <- all_results %>% filter(celltype==\"Differentiated-KC\")"
   ]
  },
  {
   "cell_type": "code",
   "execution_count": 0,
   "metadata": {
    "application/vnd.databricks.v1+cell": {
     "cellMetadata": {
      "byteLimit": 2048000,
      "rowLimit": 10000
     },
     "inputWidgets": {},
     "nuid": "f05764b9-e13a-414d-9959-1fe0c9d9c2f5",
     "showTitle": false,
     "tableResultSettingsMap": {},
     "title": ""
    }
   },
   "outputs": [],
   "source": [
    "DifKC_results$gene <- rownames(DifKC_results)"
   ]
  },
  {
   "cell_type": "code",
   "execution_count": 0,
   "metadata": {
    "application/vnd.databricks.v1+cell": {
     "cellMetadata": {
      "byteLimit": 2048000,
      "rowLimit": 10000
     },
     "inputWidgets": {},
     "nuid": "b0ece3cc-a543-4fae-afe7-ce1802e4c18b",
     "showTitle": false,
     "tableResultSettingsMap": {},
     "title": ""
    }
   },
   "outputs": [],
   "source": [
    "volcano_generator(DifKC_results, \"Diff KC - AR - Limma Merged Cov Adjusted\")"
   ]
  },
  {
   "cell_type": "markdown",
   "metadata": {
    "application/vnd.databricks.v1+cell": {
     "cellMetadata": {},
     "inputWidgets": {},
     "nuid": "71637bbb-5a4d-40cc-ace6-17046d5d104f",
     "showTitle": false,
     "tableResultSettingsMap": {},
     "title": ""
    }
   },
   "source": [
    "##Undifferentiated KC"
   ]
  },
  {
   "cell_type": "code",
   "execution_count": 0,
   "metadata": {
    "application/vnd.databricks.v1+cell": {
     "cellMetadata": {
      "byteLimit": 2048000,
      "rowLimit": 10000
     },
     "inputWidgets": {},
     "nuid": "93129d05-b844-4e1c-8ae2-f94c58d05943",
     "showTitle": false,
     "tableResultSettingsMap": {},
     "title": ""
    }
   },
   "outputs": [],
   "source": [
    "UndifKC_results <- all_results %>% filter(celltype==\"Undifferentiated-KC\")"
   ]
  },
  {
   "cell_type": "code",
   "execution_count": 0,
   "metadata": {
    "application/vnd.databricks.v1+cell": {
     "cellMetadata": {
      "byteLimit": 2048000,
      "rowLimit": 10000
     },
     "inputWidgets": {},
     "nuid": "21173e35-c4c6-46c7-a516-404a2a4ff352",
     "showTitle": false,
     "tableResultSettingsMap": {},
     "title": ""
    }
   },
   "outputs": [],
   "source": [
    "UndifKC_results$gene <- rownames(UndifKC_results)"
   ]
  },
  {
   "cell_type": "code",
   "execution_count": 0,
   "metadata": {
    "application/vnd.databricks.v1+cell": {
     "cellMetadata": {
      "byteLimit": 2048000,
      "rowLimit": 10000
     },
     "inputWidgets": {},
     "nuid": "99003b3f-cc78-4d92-bfef-6eae36e80175",
     "showTitle": false,
     "tableResultSettingsMap": {},
     "title": ""
    }
   },
   "outputs": [],
   "source": [
    "volcano_generator(UndifKC_results, \"Undiff KC - AR - Limma Merged Cov Adjusted\")"
   ]
  },
  {
   "cell_type": "markdown",
   "metadata": {
    "application/vnd.databricks.v1+cell": {
     "cellMetadata": {},
     "inputWidgets": {},
     "nuid": "34b5f0ab-5ea3-4b75-934b-7440970bb312",
     "showTitle": false,
     "tableResultSettingsMap": {},
     "title": ""
    }
   },
   "source": [
    "#Save"
   ]
  },
  {
   "cell_type": "code",
   "execution_count": 0,
   "metadata": {
    "application/vnd.databricks.v1+cell": {
     "cellMetadata": {
      "byteLimit": 2048000,
      "rowLimit": 10000
     },
     "inputWidgets": {},
     "nuid": "a798f6eb-dffd-4ce1-96b8-d60307e7bbbe",
     "showTitle": false,
     "tableResultSettingsMap": {},
     "title": ""
    }
   },
   "outputs": [],
   "source": [
    "%sh\n",
    "mkdir /dbfs/mnt/sandbox/TFM_PAULA/merged_AR_celltypist_results/DEGs/Limma"
   ]
  },
  {
   "cell_type": "code",
   "execution_count": 0,
   "metadata": {
    "application/vnd.databricks.v1+cell": {
     "cellMetadata": {
      "byteLimit": 2048000,
      "rowLimit": 10000
     },
     "inputWidgets": {},
     "nuid": "df007a52-12be-4fc8-ba2e-a4b0da66d609",
     "showTitle": false,
     "tableResultSettingsMap": {},
     "title": ""
    }
   },
   "outputs": [],
   "source": [
    "# Write the data frame to new Excel files\n",
    "write.xlsx(TC_results, \"/dbfs/mnt/sandbox/TFM_PAULA/merged_AR_celltypist_results/DEGs/Limma/alkon_limma_results_Tc.xlsx\")\n",
    "write.xlsx(UndifKC_results, \"/dbfs/mnt/sandbox/TFM_PAULA/merged_AR_celltypist_results/DEGs/Limma/alkon_limma_results_UndifKC.xlsx\")\n",
    "write.xlsx(DifKC_results, \"/dbfs/mnt/sandbox/TFM_PAULA/merged_AR_celltypist_results/DEGs/Limma/alkon_limma_results_DifKC.xlsx\")\n",
    "write.xlsx(Th_results, \"/dbfs/mnt/sandbox/TFM_PAULA/merged_AR_celltypist_results/DEGs/Limma/alkon_limma_results_Th.xlsx\")"
   ]
  }
 ],
 "metadata": {
  "application/vnd.databricks.v1+notebook": {
   "computePreferences": null,
   "dashboards": [],
   "environmentMetadata": {
    "base_environment": "",
    "environment_version": "2"
   },
   "inputWidgetPreferences": null,
   "language": "r",
   "notebookMetadata": {
    "mostRecentlyExecutedCommandWithImplicitDF": {
     "commandId": 2298584092469323,
     "dataframes": [
      "_sqldf"
     ]
    },
    "pythonIndentUnit": 4
   },
   "notebookName": "01.Merged_cov_adjusted_DEGs_LvsHC",
   "widgets": {}
  },
  "language_info": {
   "name": "r"
  }
 },
 "nbformat": 4,
 "nbformat_minor": 0
}
